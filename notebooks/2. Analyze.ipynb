{
 "cells": [
  {
   "cell_type": "markdown",
   "metadata": {},
   "source": [
    "# Step 2: ANALYZE"
   ]
  },
  {
   "cell_type": "code",
   "execution_count": 17,
   "metadata": {},
   "outputs": [],
   "source": [
    "import pandas as pd\n",
    "from langdetect import detect, DetectorFactory\n",
    "DetectorFactory.seed = 0\n",
    "import re\n",
    "import pandas as pd\n",
    "import spacy\n",
    "from spacy.lang.en.stop_words import STOP_WORDS as SP_en\n",
    "from spacy.lang.es.stop_words import STOP_WORDS as SP_es"
   ]
  },
  {
   "cell_type": "code",
   "execution_count": null,
   "metadata": {},
   "outputs": [],
   "source": [
    "#!python -m spacy download en\n",
    "#nlp = spacy.load('en')\n",
    "\n",
    "#!python -m spacy download es_core_news_md\n",
    "#nlp_es = spacy.load('es')"
   ]
  },
  {
   "cell_type": "markdown",
   "metadata": {},
   "source": [
    "## Getting csv"
   ]
  },
  {
   "cell_type": "markdown",
   "metadata": {},
   "source": [
    "df_jobs.to_csv(f'..\\\\data\\\\raw\\\\df_{job_title_df}_{location}_{now_file}.csv',\n",
    "              sep = ';',\n",
    "              encoding= 'ANSI',\n",
    "              index=False,\n",
    "              )"
   ]
  },
  {
   "cell_type": "code",
   "execution_count": 14,
   "metadata": {},
   "outputs": [],
   "source": [
    "dic_key_words = \\\n",
    "{   'data analyst'  : ['sql',\n",
    "                       'python',\n",
    "                       'business intelligence', 'bi' ,\n",
    "                       'excel',\n",
    "                       'dashboard', 'reporting',\n",
    "                       'tableau', 'powerbi', 'power bi', 'qlik', 'sportfire',\n",
    "                       'business analyst'\n",
    "                      ],\n",
    " \n",
    "    'data scientist': ['sql', \n",
    "                       'python', 'r', \n",
    "                       'ml', 'machine learning','dl','deep learning', 'nn','neuronal networks', \n",
    "                       'pandas', 'numpy', \n",
    "                       'data visualization', 'matplotlib', 'seaborn', \n",
    "                       'spss',  'advanced statistics','statistics',\n",
    "                       'sklearn','sk learn', 'scikit learn', 'scikit-learn' ,'tensorflow', 'keras', \n",
    "                       'data wrangling', 'nlp', 'a/b testing','a b testing'\n",
    "                      ],\n",
    " \n",
    "    'data engineer':  ['sql', 'nosql', 'no sql', \n",
    "                       'python', 'r', 'scala', 'java', 'spark', 'hadoop', 'hive', 'impala', 'kafka', \n",
    "                       'data wrangling', 'etl','extract, transform and load', 'map reduce','mapreduce', 'data acquisition',\n",
    "                       'big data', 'bigdata', 'data warehouse', 'aws',\n",
    "                       'software engineering'\n",
    "                      ]\n",
    "}"
   ]
  },
  {
   "cell_type": "code",
   "execution_count": 2,
   "metadata": {},
   "outputs": [
    {
     "data": {
      "text/html": [
       "<div>\n",
       "<style scoped>\n",
       "    .dataframe tbody tr th:only-of-type {\n",
       "        vertical-align: middle;\n",
       "    }\n",
       "\n",
       "    .dataframe tbody tr th {\n",
       "        vertical-align: top;\n",
       "    }\n",
       "\n",
       "    .dataframe thead th {\n",
       "        text-align: right;\n",
       "    }\n",
       "</style>\n",
       "<table border=\"1\" class=\"dataframe\">\n",
       "  <thead>\n",
       "    <tr style=\"text-align: right;\">\n",
       "      <th></th>\n",
       "      <th>Unnamed: 0</th>\n",
       "      <th>info</th>\n",
       "    </tr>\n",
       "  </thead>\n",
       "  <tbody>\n",
       "    <tr>\n",
       "      <th>0</th>\n",
       "      <td>profile</td>\n",
       "      <td>cristopherrojaslepe</td>\n",
       "    </tr>\n",
       "    <tr>\n",
       "      <th>1</th>\n",
       "      <td>headline</td>\n",
       "      <td>data scientist &amp; analyst | python | pandas | n...</td>\n",
       "    </tr>\n",
       "    <tr>\n",
       "      <th>2</th>\n",
       "      <td>open new jobs</td>\n",
       "      <td>True</td>\n",
       "    </tr>\n",
       "    <tr>\n",
       "      <th>3</th>\n",
       "      <td>about</td>\n",
       "      <td>data scientist &amp; analyst and industrial engine...</td>\n",
       "    </tr>\n",
       "    <tr>\n",
       "      <th>4</th>\n",
       "      <td>experiences</td>\n",
       "      <td>['collection coordination analyst', 'real esta...</td>\n",
       "    </tr>\n",
       "    <tr>\n",
       "      <th>5</th>\n",
       "      <td>years of experiences</td>\n",
       "      <td>['1 yr 2 mos', '1 yr', '2 yrs 1 mo', '8 mos', ...</td>\n",
       "    </tr>\n",
       "    <tr>\n",
       "      <th>6</th>\n",
       "      <td>total years</td>\n",
       "      <td>7</td>\n",
       "    </tr>\n",
       "    <tr>\n",
       "      <th>7</th>\n",
       "      <td>degrees</td>\n",
       "      <td>[\"master's degree\", 'bachelor of engineering -...</td>\n",
       "    </tr>\n",
       "    <tr>\n",
       "      <th>8</th>\n",
       "      <td>fields</td>\n",
       "      <td>['data analytics', 'industrial engineering']</td>\n",
       "    </tr>\n",
       "    <tr>\n",
       "      <th>9</th>\n",
       "      <td>skills</td>\n",
       "      <td>['analytical skills', 'pandas', 'team manageme...</td>\n",
       "    </tr>\n",
       "    <tr>\n",
       "      <th>10</th>\n",
       "      <td>languages</td>\n",
       "      <td>['english', 'spanish']</td>\n",
       "    </tr>\n",
       "  </tbody>\n",
       "</table>\n",
       "</div>"
      ],
      "text/plain": [
       "              Unnamed: 0                                               info\n",
       "0                profile                                cristopherrojaslepe\n",
       "1               headline  data scientist & analyst | python | pandas | n...\n",
       "2          open new jobs                                               True\n",
       "3                  about  data scientist & analyst and industrial engine...\n",
       "4            experiences  ['collection coordination analyst', 'real esta...\n",
       "5   years of experiences  ['1 yr 2 mos', '1 yr', '2 yrs 1 mo', '8 mos', ...\n",
       "6            total years                                                  7\n",
       "7                degrees  [\"master's degree\", 'bachelor of engineering -...\n",
       "8                 fields       ['data analytics', 'industrial engineering']\n",
       "9                 skills  ['analytical skills', 'pandas', 'team manageme...\n",
       "10             languages                             ['english', 'spanish']"
      ]
     },
     "execution_count": 2,
     "metadata": {},
     "output_type": "execute_result"
    }
   ],
   "source": [
    "df_profile = pd.read_csv(f'..\\\\data\\\\raw\\\\df_profile.csv',\n",
    "                  sep = ';',\n",
    "                  encoding= 'utf8'\n",
    "              )\n",
    "df_profile"
   ]
  },
  {
   "cell_type": "code",
   "execution_count": 3,
   "metadata": {},
   "outputs": [],
   "source": [
    "df_jobs = pd.read_csv(f'..\\\\data\\\\raw\\\\df_jobs_Madrid_2020-04-16-20.47.csv',\n",
    "              sep = ';',\n",
    "              encoding= 'utf8',\n",
    "              )"
   ]
  },
  {
   "cell_type": "code",
   "execution_count": 7,
   "metadata": {},
   "outputs": [
    {
     "data": {
      "text/html": [
       "<div>\n",
       "<style scoped>\n",
       "    .dataframe tbody tr th:only-of-type {\n",
       "        vertical-align: middle;\n",
       "    }\n",
       "\n",
       "    .dataframe tbody tr th {\n",
       "        vertical-align: top;\n",
       "    }\n",
       "\n",
       "    .dataframe thead th {\n",
       "        text-align: right;\n",
       "    }\n",
       "</style>\n",
       "<table border=\"1\" class=\"dataframe\">\n",
       "  <thead>\n",
       "    <tr style=\"text-align: right;\">\n",
       "      <th></th>\n",
       "      <th>JOB TITLE</th>\n",
       "      <th>LOCATION</th>\n",
       "      <th>SEARCH DATETIME</th>\n",
       "      <th>Current Job Id</th>\n",
       "      <th>Job html</th>\n",
       "      <th>Job name</th>\n",
       "      <th>Company name</th>\n",
       "      <th>Company location</th>\n",
       "      <th>Posted date</th>\n",
       "      <th>Estimated post date</th>\n",
       "      <th>Easy apply</th>\n",
       "      <th>Skills match</th>\n",
       "      <th>Seniority Level</th>\n",
       "      <th>Industry</th>\n",
       "      <th>Employment Type</th>\n",
       "      <th>Job Functions</th>\n",
       "      <th>Job info</th>\n",
       "    </tr>\n",
       "  </thead>\n",
       "  <tbody>\n",
       "    <tr>\n",
       "      <th>0</th>\n",
       "      <td>data analyst</td>\n",
       "      <td>Madrid</td>\n",
       "      <td>2020-04-16-20:47</td>\n",
       "      <td>1744889236</td>\n",
       "      <td>https://www.linkedin.com/jobs/view/1744889236/</td>\n",
       "      <td>Analista de datos</td>\n",
       "      <td>YUKON IT SPAIN &amp; EUROPE</td>\n",
       "      <td>Madrid y alrededores</td>\n",
       "      <td>1 month</td>\n",
       "      <td>2020-03-19-20:47</td>\n",
       "      <td>True</td>\n",
       "      <td>NaN</td>\n",
       "      <td>Associate</td>\n",
       "      <td>Information Technology &amp; Services Telecommunic...</td>\n",
       "      <td>Full-time</td>\n",
       "      <td>Information Technology Engineering</td>\n",
       "      <td>Posted Date\\nPosted 1 month ago\\nNumber of vie...</td>\n",
       "    </tr>\n",
       "    <tr>\n",
       "      <th>1</th>\n",
       "      <td>data analyst</td>\n",
       "      <td>Madrid</td>\n",
       "      <td>2020-04-16-20:47</td>\n",
       "      <td>1822454033</td>\n",
       "      <td>https://www.linkedin.com/jobs/view/1822454033/</td>\n",
       "      <td>Backoffice Product Owner</td>\n",
       "      <td>SoYou_Bankia</td>\n",
       "      <td>Madrid y alrededores, España</td>\n",
       "      <td>1 day</td>\n",
       "      <td>2020-04-15-20:47</td>\n",
       "      <td>True</td>\n",
       "      <td>NaN</td>\n",
       "      <td>Associate</td>\n",
       "      <td>Financial Services</td>\n",
       "      <td>Full-time</td>\n",
       "      <td>Analyst Information Technology Product Management</td>\n",
       "      <td>Posted Date\\nPosted 1 day ago\\nNumber of views...</td>\n",
       "    </tr>\n",
       "    <tr>\n",
       "      <th>2</th>\n",
       "      <td>data analyst</td>\n",
       "      <td>Madrid</td>\n",
       "      <td>2020-04-16-20:47</td>\n",
       "      <td>1766737805</td>\n",
       "      <td>https://www.linkedin.com/jobs/view/1766737805/</td>\n",
       "      <td>Analyst Intern- Group Growth Department</td>\n",
       "      <td>Interbrand</td>\n",
       "      <td>Madrid, ES</td>\n",
       "      <td>1 week</td>\n",
       "      <td>2020-04-09-20:47</td>\n",
       "      <td>False</td>\n",
       "      <td>NaN</td>\n",
       "      <td>NaN</td>\n",
       "      <td>Graphic Design Management Consulting Marketing...</td>\n",
       "      <td>Full-time</td>\n",
       "      <td>Marketing Sales</td>\n",
       "      <td>Posted Date\\nPosted 1 week ago\\nNumber of view...</td>\n",
       "    </tr>\n",
       "  </tbody>\n",
       "</table>\n",
       "</div>"
      ],
      "text/plain": [
       "      JOB TITLE LOCATION   SEARCH DATETIME  Current Job Id  \\\n",
       "0  data analyst   Madrid  2020-04-16-20:47      1744889236   \n",
       "1  data analyst   Madrid  2020-04-16-20:47      1822454033   \n",
       "2  data analyst   Madrid  2020-04-16-20:47      1766737805   \n",
       "\n",
       "                                         Job html  \\\n",
       "0  https://www.linkedin.com/jobs/view/1744889236/   \n",
       "1  https://www.linkedin.com/jobs/view/1822454033/   \n",
       "2  https://www.linkedin.com/jobs/view/1766737805/   \n",
       "\n",
       "                                  Job name             Company name  \\\n",
       "0                        Analista de datos  YUKON IT SPAIN & EUROPE   \n",
       "1                 Backoffice Product Owner             SoYou_Bankia   \n",
       "2  Analyst Intern- Group Growth Department               Interbrand   \n",
       "\n",
       "               Company location Posted date Estimated post date  Easy apply  \\\n",
       "0          Madrid y alrededores     1 month    2020-03-19-20:47        True   \n",
       "1  Madrid y alrededores, España       1 day    2020-04-15-20:47        True   \n",
       "2                    Madrid, ES      1 week    2020-04-09-20:47       False   \n",
       "\n",
       "   Skills match Seniority Level  \\\n",
       "0           NaN       Associate   \n",
       "1           NaN       Associate   \n",
       "2           NaN             NaN   \n",
       "\n",
       "                                            Industry Employment Type  \\\n",
       "0  Information Technology & Services Telecommunic...       Full-time   \n",
       "1                                 Financial Services       Full-time   \n",
       "2  Graphic Design Management Consulting Marketing...       Full-time   \n",
       "\n",
       "                                       Job Functions  \\\n",
       "0                 Information Technology Engineering   \n",
       "1  Analyst Information Technology Product Management   \n",
       "2                                    Marketing Sales   \n",
       "\n",
       "                                            Job info  \n",
       "0  Posted Date\\nPosted 1 month ago\\nNumber of vie...  \n",
       "1  Posted Date\\nPosted 1 day ago\\nNumber of views...  \n",
       "2  Posted Date\\nPosted 1 week ago\\nNumber of view...  "
      ]
     },
     "execution_count": 7,
     "metadata": {},
     "output_type": "execute_result"
    }
   ],
   "source": [
    "df_jobs.head(3)"
   ]
  },
  {
   "cell_type": "code",
   "execution_count": 5,
   "metadata": {},
   "outputs": [],
   "source": [
    "# ONLY IN CASE TO CORRECT WRONG DF\n",
    "df_jobs.drop(columns='Job htmlJob name', inplace=True)"
   ]
  },
  {
   "cell_type": "code",
   "execution_count": 6,
   "metadata": {},
   "outputs": [],
   "source": [
    "df_jobs = df_jobs[['JOB TITLE', 'LOCATION', 'SEARCH DATETIME', 'Current Job Id',\n",
    "       'Job html', 'Job name', 'Company name', 'Company location',\n",
    "       'Posted date', 'Estimated post date', 'Easy apply', 'Skills match',\n",
    "       'Seniority Level', 'Industry', 'Employment Type', 'Job Functions',\n",
    "       'Job info']]"
   ]
  },
  {
   "cell_type": "code",
   "execution_count": 8,
   "metadata": {},
   "outputs": [
    {
     "data": {
      "text/plain": [
       "0                                    Analista de datos\n",
       "1                             Backoffice Product Owner\n",
       "2              Analyst Intern- Group Growth Department\n",
       "3                   Business Data & Operations Analyst\n",
       "4                   Analista De Datos (Python), Madrid\n",
       "5    Data Analyst -Scientist - Uber Eats (Sector es...\n",
       "6                                       Data Analytics\n",
       "7                                  Python Data Analyst\n",
       "8                        Data Analytics Manager Madrid\n",
       "9                                    Analista de Datos\n",
       "Name: Job name, dtype: object"
      ]
     },
     "execution_count": 8,
     "metadata": {},
     "output_type": "execute_result"
    }
   ],
   "source": [
    "df_jobs['Job name'].head(10)"
   ]
  },
  {
   "cell_type": "code",
   "execution_count": 9,
   "metadata": {},
   "outputs": [
    {
     "data": {
      "text/plain": [
       "'Posted Date\\nPosted 5 months ago\\nNumber of views\\n422 views\\nShare\\nShow more options\\nSave\\nSave Business Data & Operations Analyst at Enghouse Interactive\\nApply\\nSee how you compare to 66 applicants. Reactivate Premium\\nJob\\n66 applicants\\nAssociate\\nCompany\\n501-1,000 employees\\nComputer Software\\nConnections\\nYou have 0 connections at this company.\\nAdd >\\nEstamos buscando un Business Data & Operations Analyst reportando al Managing Director, para asumir la gestión de procesos y datos en las áreas de Marketing, Ventas, Proyectos, Soporte y Producto.\\n\\nEl puesto requerirá que la persona sea capaz de hacer un análisis profundo de los datos y proponer mejoras en los procesos de las áreas mencionadas, para ayudar fijar KPIs y dar soporte a la toma de decisiones, con el objetivo de incrementar los ingresos y la productividad.\\n\\nAsí mismo, ayudará al Managing Director en la preparación de informes trimestrales para el BOD y revisiones trimestrales/mensuales del negocio con el Management de la unidad.\\n\\nHabilidades y Experiencia Requeridas\\nMás de 3 años en del análisis de procesos y análisis de datos para identificar problemas y proponer soluciones.\\nGestión de métricas y KPI.\\nGestión de proyectos.\\nCapacidad de análisis de información, sistematización y redacción.\\nCapacidad de interlocución a nivel directivo.\\nDinámico, con iniciativa, visión de negocio, empatía y facilidad de comunicación personal.\\nIdentificación y resolución de problemas. Pensamiento crítico.\\nCapacidad de escuchar, establecer relaciones, lograr consenso, establecer rápidamente credibilidad y ganar la confianza de múltiples áreas de la organización.\\nTrabajo en equipo e integración en contextos multinacionales.\\nSe valorará experiencia en consultora de negocio.\\nExperiencia en el uso de herramientas CRM, especialmente Salesforce, de gestión de proyectos, BI, bases de datos y Microsoft Office.\\nRequerido inglés avanzado, con gran fluidez escrita y conversacional. Se valorarán otros idiomas.\\nSeniority Level\\nAssociate\\nIndustry\\nInformation Technology & Services Telecommunications Human Resources\\nEmployment Type\\nFull-time\\nJob Functions\\nSales Marketing'"
      ]
     },
     "execution_count": 9,
     "metadata": {},
     "output_type": "execute_result"
    }
   ],
   "source": [
    "s = df_jobs.loc[3,'Job info']\n",
    "s"
   ]
  },
  {
   "cell_type": "code",
   "execution_count": 10,
   "metadata": {},
   "outputs": [
    {
     "data": {
      "text/plain": [
       "'es'"
      ]
     },
     "execution_count": 10,
     "metadata": {},
     "output_type": "execute_result"
    }
   ],
   "source": [
    "detect(s)"
   ]
  },
  {
   "cell_type": "code",
   "execution_count": 11,
   "metadata": {},
   "outputs": [],
   "source": [
    "df_jobs['Info Language'] = df_jobs['Job info'].apply(lambda x: detect(x))"
   ]
  },
  {
   "cell_type": "code",
   "execution_count": 12,
   "metadata": {},
   "outputs": [
    {
     "data": {
      "text/plain": [
       "array(['es', 'en'], dtype=object)"
      ]
     },
     "execution_count": 12,
     "metadata": {},
     "output_type": "execute_result"
    }
   ],
   "source": [
    "df_jobs['Info Language'].unique()"
   ]
  },
  {
   "cell_type": "code",
   "execution_count": 13,
   "metadata": {},
   "outputs": [
    {
     "data": {
      "text/plain": [
       "array(['Associate', nan, 'Entry level', 'Mid-Senior level', 'Director',\n",
       "       'Internship', 'Executive'], dtype=object)"
      ]
     },
     "execution_count": 13,
     "metadata": {},
     "output_type": "execute_result"
    }
   ],
   "source": [
    "df_jobs['Seniority Level'].unique()"
   ]
  },
  {
   "cell_type": "code",
   "execution_count": null,
   "metadata": {},
   "outputs": [],
   "source": [
    "def coincidencias(job):\n",
    "    for s in dic_key_words.get(job):\n",
    "        if \n",
    "        "
   ]
  },
  {
   "cell_type": "code",
   "execution_count": null,
   "metadata": {},
   "outputs": [],
   "source": [
    "df_jobs['DA coincidences'] = df_jobs['Job info'].apply(lambda x: detect(x))"
   ]
  }
 ],
 "metadata": {
  "kernelspec": {
   "display_name": "Python [conda env:final_project]",
   "language": "python",
   "name": "conda-env-final_project-py"
  },
  "language_info": {
   "codemirror_mode": {
    "name": "ipython",
    "version": 3
   },
   "file_extension": ".py",
   "mimetype": "text/x-python",
   "name": "python",
   "nbconvert_exporter": "python",
   "pygments_lexer": "ipython3",
   "version": "3.7.7"
  }
 },
 "nbformat": 4,
 "nbformat_minor": 4
}
