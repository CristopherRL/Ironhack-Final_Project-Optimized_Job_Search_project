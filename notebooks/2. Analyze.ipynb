{
 "cells": [
  {
   "cell_type": "markdown",
   "metadata": {},
   "source": [
    "# Step 2: ANALYZE"
   ]
  },
  {
   "cell_type": "code",
   "execution_count": 28,
   "metadata": {},
   "outputs": [],
   "source": [
    "import pandas as pd\n",
    "from langdetect import detect, DetectorFactory\n",
    "DetectorFactory.seed = 0\n",
    "import re\n",
    "import pandas as pd\n",
    "import numpy as np\n",
    "import platform\n",
    "import matplotlib.pyplot as plt\n",
    "import json\n"
   ]
  },
  {
   "cell_type": "code",
   "execution_count": 29,
   "metadata": {},
   "outputs": [],
   "source": [
    "import spacy\n",
    "from spacy.lang.en.stop_words import STOP_WORDS as SW_en\n",
    "from spacy.lang.es.stop_words import STOP_WORDS as SW_es"
   ]
  },
  {
   "cell_type": "code",
   "execution_count": 30,
   "metadata": {},
   "outputs": [],
   "source": [
    "from collections import Counter\n",
    "from wordcloud import WordCloud, STOPWORDS, ImageColorGenerator\n",
    "from PIL import Image"
   ]
  },
  {
   "cell_type": "code",
   "execution_count": 31,
   "metadata": {},
   "outputs": [],
   "source": [
    "from sklearn.feature_extraction.text import CountVectorizer,TfidfVectorizer"
   ]
  },
  {
   "cell_type": "code",
   "execution_count": 32,
   "metadata": {},
   "outputs": [],
   "source": [
    "#import nltk \n",
    "#from nltk.corpus import stopwords \n",
    "#set(stopwords.words('english'))\n"
   ]
  },
  {
   "cell_type": "code",
   "execution_count": 33,
   "metadata": {},
   "outputs": [],
   "source": [
    "#!python -m spacy download en_core_web_md\n",
    "#!python -m spacy download en_core_web_sm\n",
    "#!python -m spacy download es_core_news_md"
   ]
  },
  {
   "cell_type": "code",
   "execution_count": 34,
   "metadata": {},
   "outputs": [],
   "source": [
    "import webbrowser"
   ]
  },
  {
   "cell_type": "code",
   "execution_count": 35,
   "metadata": {},
   "outputs": [],
   "source": [
    "##################################333 PARAMETERS #####################\n",
    "\n",
    "key_words_DA = ['data analyst', 'analisis de datos',\n",
    "                      'data analytics', 'analitica de datos',\n",
    "                      'business analyst', 'analisis de negocios',\n",
    "                      'sql',\n",
    "                      'python',\n",
    "                      'business intelligence', 'inteligencia de negocios', ' bi ',\n",
    "                      'excel', 'microsoft office', 'ms office',\n",
    "                      'dashboard', 'kpi',\n",
    "                      'reporting', 'informes',\n",
    "                      'tableau', 'powerbi', 'power bi', 'microsoft bi', 'qlik', 'spotfire',\n",
    "                      ]\n",
    "\n",
    "key_words_DS = ['data analyst', 'analisis de datos',\n",
    "                      'data analytics', 'analitica de datos',\n",
    "                      'business analyst', 'analisis de negocios',\n",
    "                      'sql',\n",
    "                      'python',\n",
    "                      'business intelligence', 'inteligencia de negocios', ' bi ',\n",
    "                      'excel', 'microsoft office', 'ms office',\n",
    "                      'dashboard', 'kpi',\n",
    "                      'reporting', 'informes',\n",
    "                      'tableau', 'powerbi', 'power bi', 'microsoft bi', 'qlik', 'spotfire',\n",
    "                      ]\n",
    "\n",
    "key_words_DE = ['data engineer', 'ingeniero de datos',\n",
    "                       'sql', 'nosql', 'no sql', 'bases de datos no relacionales',\n",
    "                       'python', ' r ', 'scala', 'java ', 'spark', 'hadoop', 'haddop' 'hive', 'impala', 'kafka',\n",
    "                       'data wrangling', 'limpieza de datos',\n",
    "                       'etl', 'extract, transform and load', 'map reduce', 'mapreduce',\n",
    "                       'data acquisition', 'adquisicion de datos',\n",
    "                       'big data', 'bigdata', 'bigquery',\n",
    "                       'data warehouse',\n",
    "                       ' aws ', 'azure',\n",
    "                       'software engineering'\n",
    "                       ]\n",
    "\n",
    "dic_key_words = \\\n",
    "    {'data analyst'    : key_words_DA,\n",
    "     'data scientist'  : key_words_DS,\n",
    "     'data engineer'   : key_words_DE,\n",
    "     'analista datos'  : key_words_DA,\n",
    "     'cientifico datos': key_words_DS,\n",
    "     'ingeniero datos' : key_words_DE\n",
    "     }"
   ]
  },
  {
   "cell_type": "code",
   "execution_count": 36,
   "metadata": {},
   "outputs": [],
   "source": [
    "def job_key_generator(job):\n",
    "    job_key_s = \"\"\n",
    "    job_name_splitted = job.split(\" \")\n",
    "    for string in job_name_splitted:\n",
    "        job_key_s += string[0].upper()\n",
    "        #job_key_s = job_key_s\n",
    "    \n",
    "    return job_key_s"
   ]
  },
  {
   "cell_type": "markdown",
   "metadata": {},
   "source": [
    "## Getting csv"
   ]
  },
  {
   "cell_type": "markdown",
   "metadata": {},
   "source": [
    "#### > PROFILE:"
   ]
  },
  {
   "cell_type": "code",
   "execution_count": 37,
   "metadata": {},
   "outputs": [
    {
     "data": {
      "text/plain": [
       "'Linux'"
      ]
     },
     "execution_count": 37,
     "metadata": {},
     "output_type": "execute_result"
    }
   ],
   "source": [
    "platform.system()"
   ]
  },
  {
   "cell_type": "code",
   "execution_count": 38,
   "metadata": {},
   "outputs": [
    {
     "data": {
      "text/html": [
       "<div>\n",
       "<style scoped>\n",
       "    .dataframe tbody tr th:only-of-type {\n",
       "        vertical-align: middle;\n",
       "    }\n",
       "\n",
       "    .dataframe tbody tr th {\n",
       "        vertical-align: top;\n",
       "    }\n",
       "\n",
       "    .dataframe thead th {\n",
       "        text-align: right;\n",
       "    }\n",
       "</style>\n",
       "<table border=\"1\" class=\"dataframe\">\n",
       "  <thead>\n",
       "    <tr style=\"text-align: right;\">\n",
       "      <th></th>\n",
       "      <th>info</th>\n",
       "    </tr>\n",
       "  </thead>\n",
       "  <tbody>\n",
       "    <tr>\n",
       "      <th>profile</th>\n",
       "      <td>cristopherrojaslepe</td>\n",
       "    </tr>\n",
       "    <tr>\n",
       "      <th>headline</th>\n",
       "      <td>data scientist &amp; analyst | python | pandas | n...</td>\n",
       "    </tr>\n",
       "    <tr>\n",
       "      <th>open new jobs</th>\n",
       "      <td>YES</td>\n",
       "    </tr>\n",
       "    <tr>\n",
       "      <th>about</th>\n",
       "      <td>data scientist &amp; analyst and industrial engine...</td>\n",
       "    </tr>\n",
       "    <tr>\n",
       "      <th>experiences</th>\n",
       "      <td>['collection coordination analyst', 'real esta...</td>\n",
       "    </tr>\n",
       "    <tr>\n",
       "      <th>years of experiences</th>\n",
       "      <td>['1 yr 2 mos', '1 yr', '2 yrs 1 mo', '8 mos', ...</td>\n",
       "    </tr>\n",
       "    <tr>\n",
       "      <th>total years</th>\n",
       "      <td>7</td>\n",
       "    </tr>\n",
       "    <tr>\n",
       "      <th>degrees</th>\n",
       "      <td>['master', 'engineering - be']</td>\n",
       "    </tr>\n",
       "    <tr>\n",
       "      <th>fields</th>\n",
       "      <td>['data analytics', 'industrial engineering']</td>\n",
       "    </tr>\n",
       "    <tr>\n",
       "      <th>skills</th>\n",
       "      <td>['analytical skills', 'bash', 'business analys...</td>\n",
       "    </tr>\n",
       "    <tr>\n",
       "      <th>languages</th>\n",
       "      <td>['english', 'spanish']</td>\n",
       "    </tr>\n",
       "    <tr>\n",
       "      <th>total skills</th>\n",
       "      <td>['analytical skills', 'bash', 'business analys...</td>\n",
       "    </tr>\n",
       "    <tr>\n",
       "      <th>profile raw</th>\n",
       "      <td>Add profile section More… Cristopher Rojas Lep...</td>\n",
       "    </tr>\n",
       "  </tbody>\n",
       "</table>\n",
       "</div>"
      ],
      "text/plain": [
       "                                                                   info\n",
       "profile                                             cristopherrojaslepe\n",
       "headline              data scientist & analyst | python | pandas | n...\n",
       "open new jobs                                                       YES\n",
       "about                 data scientist & analyst and industrial engine...\n",
       "experiences           ['collection coordination analyst', 'real esta...\n",
       "years of experiences  ['1 yr 2 mos', '1 yr', '2 yrs 1 mo', '8 mos', ...\n",
       "total years                                                           7\n",
       "degrees                                  ['master', 'engineering - be']\n",
       "fields                     ['data analytics', 'industrial engineering']\n",
       "skills                ['analytical skills', 'bash', 'business analys...\n",
       "languages                                        ['english', 'spanish']\n",
       "total skills          ['analytical skills', 'bash', 'business analys...\n",
       "profile raw           Add profile section More… Cristopher Rojas Lep..."
      ]
     },
     "execution_count": 38,
     "metadata": {},
     "output_type": "execute_result"
    }
   ],
   "source": [
    "if platform.system() == 'Linux':\n",
    "    df_profile = pd.read_csv(f'../data/raw/df_profile/df_profile_cristopherrojaslepe_2020-04-23 17.29.csv',\n",
    "                             sep = ';',\n",
    "                             encoding= 'utf8',\n",
    "                             index_col = 0\n",
    "                              )\n",
    "    \n",
    "elif platform.system() == 'Windows':\n",
    "    df_profile = pd.read_csv(f'..\\\\data\\\\raw\\\\df_profile.csv',\n",
    "                             sep = ';',\n",
    "                             encoding= 'utf8'\n",
    "                            )\n",
    "    \n",
    "df_profile"
   ]
  },
  {
   "cell_type": "code",
   "execution_count": null,
   "metadata": {},
   "outputs": [],
   "source": []
  },
  {
   "cell_type": "code",
   "execution_count": 39,
   "metadata": {},
   "outputs": [],
   "source": [
    "## ONLY FOR JUPYTER !!!!!!!!!!\n",
    "# df_profile.rename(columns={'Unnamed: 0':'type'},inplace=True)\n",
    "# df_profile.set_index('type', inplace=True)"
   ]
  },
  {
   "cell_type": "code",
   "execution_count": null,
   "metadata": {},
   "outputs": [],
   "source": []
  },
  {
   "cell_type": "markdown",
   "metadata": {},
   "source": [
    "#### > JOBS:"
   ]
  },
  {
   "cell_type": "code",
   "execution_count": 42,
   "metadata": {},
   "outputs": [],
   "source": [
    "#f'../data/raw/df_jobs_Madrid_2020-04-18 23.50.csv',\n",
    "#f'..\\\\data\\\\raw\\\\df_jobs_Madrid_2020-04-18 23.50.csv'\n",
    "if platform.system() == 'Linux':\n",
    "    df_jobs_raw = pd.read_csv(f'../data/raw/df_jobs/df_jobs_Barcelona_es_2020-04-23 00.40_100.csv',\n",
    "                              sep = ';',\n",
    "                              encoding= 'utf8',\n",
    "                  )\n",
    "elif platform.system() == 'Windows':\n",
    "    df_jobs_raw = pd.read_csv(f'..\\\\data\\\\raw\\\\df_jobs\\\\df_jobs_Madrid_2020-04-20 01.38.csv',\n",
    "                              sep = ';',\n",
    "                              encoding= 'utf8',\n",
    "                  )"
   ]
  },
  {
   "cell_type": "code",
   "execution_count": 43,
   "metadata": {},
   "outputs": [],
   "source": [
    "df_jobs = df_jobs_raw"
   ]
  },
  {
   "cell_type": "code",
   "execution_count": 44,
   "metadata": {},
   "outputs": [
    {
     "data": {
      "text/plain": [
       "(100, 18)"
      ]
     },
     "execution_count": 44,
     "metadata": {},
     "output_type": "execute_result"
    }
   ],
   "source": [
    "df_jobs.shape"
   ]
  },
  {
   "cell_type": "code",
   "execution_count": 45,
   "metadata": {},
   "outputs": [
    {
     "data": {
      "text/html": [
       "<div>\n",
       "<style scoped>\n",
       "    .dataframe tbody tr th:only-of-type {\n",
       "        vertical-align: middle;\n",
       "    }\n",
       "\n",
       "    .dataframe tbody tr th {\n",
       "        vertical-align: top;\n",
       "    }\n",
       "\n",
       "    .dataframe thead th {\n",
       "        text-align: right;\n",
       "    }\n",
       "</style>\n",
       "<table border=\"1\" class=\"dataframe\">\n",
       "  <thead>\n",
       "    <tr style=\"text-align: right;\">\n",
       "      <th></th>\n",
       "      <th>JOB TITLE</th>\n",
       "      <th>LOCATION</th>\n",
       "      <th>SEARCH DATETIME</th>\n",
       "      <th>Current Job Id</th>\n",
       "      <th>Job html</th>\n",
       "      <th>Job name</th>\n",
       "      <th>Company name</th>\n",
       "      <th>Company location</th>\n",
       "      <th>Posted date</th>\n",
       "      <th>Estimated post date</th>\n",
       "      <th>Easy apply</th>\n",
       "      <th>Job Description</th>\n",
       "      <th>Skills match</th>\n",
       "      <th>Seniority Level</th>\n",
       "      <th>Industry</th>\n",
       "      <th>Employment Type</th>\n",
       "      <th>Job Functions</th>\n",
       "      <th>Job info</th>\n",
       "    </tr>\n",
       "  </thead>\n",
       "  <tbody>\n",
       "    <tr>\n",
       "      <th>0</th>\n",
       "      <td>analista datos</td>\n",
       "      <td>Barcelona</td>\n",
       "      <td>2020-04-23 00:40</td>\n",
       "      <td>1712815780</td>\n",
       "      <td>https://www.linkedin.com/jobs/view/1712815780/</td>\n",
       "      <td>Analista Liferay</td>\n",
       "      <td>everis</td>\n",
       "      <td>Barcelona y alrededores, España</td>\n",
       "      <td>1 week</td>\n",
       "      <td>2020-04-16 00:40</td>\n",
       "      <td>True</td>\n",
       "      <td>¿Buscas un reto profesional que te saque de tu...</td>\n",
       "      <td>{'yes': ['Foreign Languages', 'Decision-Making...</td>\n",
       "      <td>Associate</td>\n",
       "      <td>Program Development</td>\n",
       "      <td>Full-time</td>\n",
       "      <td>Consulting</td>\n",
       "      <td>Posted Date\\nPosted 1 week ago\\nNumber of view...</td>\n",
       "    </tr>\n",
       "    <tr>\n",
       "      <th>1</th>\n",
       "      <td>analista datos</td>\n",
       "      <td>Barcelona</td>\n",
       "      <td>2020-04-23 00:40</td>\n",
       "      <td>1813681738</td>\n",
       "      <td>https://www.linkedin.com/jobs/view/1813681738/</td>\n",
       "      <td>Analista, programadores/as y manager Salesforce</td>\n",
       "      <td>Experis España</td>\n",
       "      <td>Barcelona, Catalonia, Spain</td>\n",
       "      <td>2 weeks</td>\n",
       "      <td>2020-04-09 00:40</td>\n",
       "      <td>True</td>\n",
       "      <td>Experis selecciona diferentes perfiles con exp...</td>\n",
       "      <td>{'yes': ['Business', 'Business Analysis'], 'no...</td>\n",
       "      <td>Mid-Senior level</td>\n",
       "      <td>Information Technology &amp; Services</td>\n",
       "      <td>Full-time</td>\n",
       "      <td>Information Technology</td>\n",
       "      <td>Posted Date\\nPosted 2 weeks ago\\nNumber of vie...</td>\n",
       "    </tr>\n",
       "    <tr>\n",
       "      <th>2</th>\n",
       "      <td>analista datos</td>\n",
       "      <td>Barcelona</td>\n",
       "      <td>2020-04-23 00:40</td>\n",
       "      <td>1824218680</td>\n",
       "      <td>https://www.linkedin.com/jobs/view/1824218680/</td>\n",
       "      <td>WMS Analyst</td>\n",
       "      <td>Randstad España</td>\n",
       "      <td>Barcelona, Cataluña / Catalunya, España</td>\n",
       "      <td>6 days</td>\n",
       "      <td>2020-04-17 00:40</td>\n",
       "      <td>True</td>\n",
       "      <td>Our client is based in Palau de Plegamans (30 ...</td>\n",
       "      <td>{'yes': ['Business', 'Analytical Skills', 'Cus...</td>\n",
       "      <td>Mid-Senior level</td>\n",
       "      <td>Logistics &amp; Supply Chain Food &amp; Beverages</td>\n",
       "      <td>Full-time</td>\n",
       "      <td>Information Technology</td>\n",
       "      <td>Posted Date\\nPosted 6 days ago\\nNumber of view...</td>\n",
       "    </tr>\n",
       "  </tbody>\n",
       "</table>\n",
       "</div>"
      ],
      "text/plain": [
       "        JOB TITLE   LOCATION   SEARCH DATETIME  Current Job Id  \\\n",
       "0  analista datos  Barcelona  2020-04-23 00:40      1712815780   \n",
       "1  analista datos  Barcelona  2020-04-23 00:40      1813681738   \n",
       "2  analista datos  Barcelona  2020-04-23 00:40      1824218680   \n",
       "\n",
       "                                         Job html  \\\n",
       "0  https://www.linkedin.com/jobs/view/1712815780/   \n",
       "1  https://www.linkedin.com/jobs/view/1813681738/   \n",
       "2  https://www.linkedin.com/jobs/view/1824218680/   \n",
       "\n",
       "                                          Job name     Company name  \\\n",
       "0                                 Analista Liferay           everis   \n",
       "1  Analista, programadores/as y manager Salesforce   Experis España   \n",
       "2                                      WMS Analyst  Randstad España   \n",
       "\n",
       "                          Company location Posted date Estimated post date  \\\n",
       "0          Barcelona y alrededores, España      1 week    2020-04-16 00:40   \n",
       "1              Barcelona, Catalonia, Spain     2 weeks    2020-04-09 00:40   \n",
       "2  Barcelona, Cataluña / Catalunya, España      6 days    2020-04-17 00:40   \n",
       "\n",
       "   Easy apply                                    Job Description  \\\n",
       "0        True  ¿Buscas un reto profesional que te saque de tu...   \n",
       "1        True  Experis selecciona diferentes perfiles con exp...   \n",
       "2        True  Our client is based in Palau de Plegamans (30 ...   \n",
       "\n",
       "                                        Skills match   Seniority Level  \\\n",
       "0  {'yes': ['Foreign Languages', 'Decision-Making...         Associate   \n",
       "1  {'yes': ['Business', 'Business Analysis'], 'no...  Mid-Senior level   \n",
       "2  {'yes': ['Business', 'Analytical Skills', 'Cus...  Mid-Senior level   \n",
       "\n",
       "                                    Industry Employment Type  \\\n",
       "0                        Program Development       Full-time   \n",
       "1          Information Technology & Services       Full-time   \n",
       "2  Logistics & Supply Chain Food & Beverages       Full-time   \n",
       "\n",
       "            Job Functions                                           Job info  \n",
       "0              Consulting  Posted Date\\nPosted 1 week ago\\nNumber of view...  \n",
       "1  Information Technology  Posted Date\\nPosted 2 weeks ago\\nNumber of vie...  \n",
       "2  Information Technology  Posted Date\\nPosted 6 days ago\\nNumber of view...  "
      ]
     },
     "execution_count": 45,
     "metadata": {},
     "output_type": "execute_result"
    }
   ],
   "source": [
    "df_jobs.head(3)"
   ]
  },
  {
   "cell_type": "code",
   "execution_count": 46,
   "metadata": {},
   "outputs": [],
   "source": [
    "# ONLY IN CASE TO CORRECT WRONG DF\n",
    "#df_jobs.drop(columns='Job htmlJob name', inplace=True)\n",
    "\n",
    "#df_jobs = df_jobs[['JOB TITLE', 'LOCATION', 'SEARCH DATETIME', 'Current Job Id',\n",
    "#       'Job html', 'Job name', 'Company name', 'Company location',\n",
    "#       'Posted date', 'Estimated post date', 'Easy apply', 'Skills match',\n",
    "#       'Seniority Level', 'Industry', 'Employment Type', 'Job Functions',\n",
    "#       'Job info']]"
   ]
  },
  {
   "cell_type": "code",
   "execution_count": 47,
   "metadata": {},
   "outputs": [
    {
     "data": {
      "text/plain": [
       "(0, 18)"
      ]
     },
     "execution_count": 47,
     "metadata": {},
     "output_type": "execute_result"
    }
   ],
   "source": [
    "df_jobs[df_jobs['JOB TITLE']=='data analyst'].shape"
   ]
  },
  {
   "cell_type": "code",
   "execution_count": 48,
   "metadata": {},
   "outputs": [
    {
     "data": {
      "text/plain": [
       "(0, 18)"
      ]
     },
     "execution_count": 48,
     "metadata": {},
     "output_type": "execute_result"
    }
   ],
   "source": [
    "df_jobs[df_jobs['JOB TITLE']=='data scientist'].shape"
   ]
  },
  {
   "cell_type": "code",
   "execution_count": 49,
   "metadata": {},
   "outputs": [
    {
     "data": {
      "text/plain": [
       "(0, 18)"
      ]
     },
     "execution_count": 49,
     "metadata": {},
     "output_type": "execute_result"
    }
   ],
   "source": [
    "df_jobs[df_jobs['JOB TITLE']=='data engineer'].shape"
   ]
  },
  {
   "cell_type": "markdown",
   "metadata": {},
   "source": [
    "## Analizyng info"
   ]
  },
  {
   "cell_type": "code",
   "execution_count": 50,
   "metadata": {},
   "outputs": [
    {
     "data": {
      "text/plain": [
       "'Barcelona'"
      ]
     },
     "execution_count": 50,
     "metadata": {},
     "output_type": "execute_result"
    }
   ],
   "source": [
    "location = df_jobs.loc[0,'LOCATION']\n",
    "location"
   ]
  },
  {
   "cell_type": "markdown",
   "metadata": {},
   "source": [
    "### > Cleaning jobs:"
   ]
  },
  {
   "cell_type": "code",
   "execution_count": 51,
   "metadata": {},
   "outputs": [
    {
     "data": {
      "text/plain": [
       "JOB TITLE            analista datos\n",
       "LOCATION                  Barcelona\n",
       "SEARCH DATETIME    2020-04-23 00:40\n",
       "Current Job Id           1712815780\n",
       "Name: 0, dtype: object"
      ]
     },
     "execution_count": 51,
     "metadata": {},
     "output_type": "execute_result"
    }
   ],
   "source": [
    "df_jobs.loc[0,'JOB TITLE':'Current Job Id']"
   ]
  },
  {
   "cell_type": "markdown",
   "metadata": {},
   "source": [
    "##### * JOB TITLE_ID"
   ]
  },
  {
   "cell_type": "code",
   "execution_count": 52,
   "metadata": {},
   "outputs": [],
   "source": [
    "df_jobs['JOB TITLE_ID'] = df_jobs.apply(lambda x: x['JOB TITLE'] +\"_\"+ str(x['Current Job Id']), axis = 1 )"
   ]
  },
  {
   "cell_type": "code",
   "execution_count": 53,
   "metadata": {},
   "outputs": [
    {
     "data": {
      "text/plain": [
       "100"
      ]
     },
     "execution_count": 53,
     "metadata": {},
     "output_type": "execute_result"
    }
   ],
   "source": [
    "df_jobs.shape[0] "
   ]
  },
  {
   "cell_type": "code",
   "execution_count": 54,
   "metadata": {},
   "outputs": [
    {
     "data": {
      "text/plain": [
       "100"
      ]
     },
     "execution_count": 54,
     "metadata": {},
     "output_type": "execute_result"
    }
   ],
   "source": [
    "len(df_jobs['JOB TITLE_ID'].unique())"
   ]
  },
  {
   "cell_type": "code",
   "execution_count": 55,
   "metadata": {},
   "outputs": [
    {
     "data": {
      "text/html": [
       "<div>\n",
       "<style scoped>\n",
       "    .dataframe tbody tr th:only-of-type {\n",
       "        vertical-align: middle;\n",
       "    }\n",
       "\n",
       "    .dataframe tbody tr th {\n",
       "        vertical-align: top;\n",
       "    }\n",
       "\n",
       "    .dataframe thead th {\n",
       "        text-align: right;\n",
       "    }\n",
       "</style>\n",
       "<table border=\"1\" class=\"dataframe\">\n",
       "  <thead>\n",
       "    <tr style=\"text-align: right;\">\n",
       "      <th></th>\n",
       "      <th>LOCATION</th>\n",
       "    </tr>\n",
       "    <tr>\n",
       "      <th>JOB TITLE_ID</th>\n",
       "      <th></th>\n",
       "    </tr>\n",
       "  </thead>\n",
       "  <tbody>\n",
       "    <tr>\n",
       "      <th>analista datos_1560384265</th>\n",
       "      <td>1</td>\n",
       "    </tr>\n",
       "    <tr>\n",
       "      <th>analista datos_1831986272</th>\n",
       "      <td>1</td>\n",
       "    </tr>\n",
       "    <tr>\n",
       "      <th>cientifico datos_1812112306</th>\n",
       "      <td>1</td>\n",
       "    </tr>\n",
       "    <tr>\n",
       "      <th>cientifico datos_1812112304</th>\n",
       "      <td>1</td>\n",
       "    </tr>\n",
       "    <tr>\n",
       "      <th>cientifico datos_1809134908</th>\n",
       "      <td>1</td>\n",
       "    </tr>\n",
       "    <tr>\n",
       "      <th>...</th>\n",
       "      <td>...</td>\n",
       "    </tr>\n",
       "    <tr>\n",
       "      <th>analista datos_1781618413</th>\n",
       "      <td>1</td>\n",
       "    </tr>\n",
       "    <tr>\n",
       "      <th>analista datos_1781372547</th>\n",
       "      <td>1</td>\n",
       "    </tr>\n",
       "    <tr>\n",
       "      <th>analista datos_1780186114</th>\n",
       "      <td>1</td>\n",
       "    </tr>\n",
       "    <tr>\n",
       "      <th>analista datos_1779999677</th>\n",
       "      <td>1</td>\n",
       "    </tr>\n",
       "    <tr>\n",
       "      <th>ingeniero datos_1832936642</th>\n",
       "      <td>1</td>\n",
       "    </tr>\n",
       "  </tbody>\n",
       "</table>\n",
       "<p>100 rows × 1 columns</p>\n",
       "</div>"
      ],
      "text/plain": [
       "                             LOCATION\n",
       "JOB TITLE_ID                         \n",
       "analista datos_1560384265           1\n",
       "analista datos_1831986272           1\n",
       "cientifico datos_1812112306         1\n",
       "cientifico datos_1812112304         1\n",
       "cientifico datos_1809134908         1\n",
       "...                               ...\n",
       "analista datos_1781618413           1\n",
       "analista datos_1781372547           1\n",
       "analista datos_1780186114           1\n",
       "analista datos_1779999677           1\n",
       "ingeniero datos_1832936642          1\n",
       "\n",
       "[100 rows x 1 columns]"
      ]
     },
     "execution_count": 55,
     "metadata": {},
     "output_type": "execute_result"
    }
   ],
   "source": [
    "pd.pivot_table(df_jobs,\n",
    "               values=\"LOCATION\",\n",
    "               index=['JOB TITLE_ID'],\n",
    "               aggfunc=np.count_nonzero        \n",
    "              ).sort_values(by=['LOCATION'], ascending=False)"
   ]
  },
  {
   "cell_type": "code",
   "execution_count": 56,
   "metadata": {},
   "outputs": [
    {
     "data": {
      "text/html": [
       "<div>\n",
       "<style scoped>\n",
       "    .dataframe tbody tr th:only-of-type {\n",
       "        vertical-align: middle;\n",
       "    }\n",
       "\n",
       "    .dataframe tbody tr th {\n",
       "        vertical-align: top;\n",
       "    }\n",
       "\n",
       "    .dataframe thead th {\n",
       "        text-align: right;\n",
       "    }\n",
       "</style>\n",
       "<table border=\"1\" class=\"dataframe\">\n",
       "  <thead>\n",
       "    <tr style=\"text-align: right;\">\n",
       "      <th></th>\n",
       "      <th>JOB TITLE</th>\n",
       "      <th>LOCATION</th>\n",
       "      <th>SEARCH DATETIME</th>\n",
       "      <th>Current Job Id</th>\n",
       "      <th>Job html</th>\n",
       "      <th>Job name</th>\n",
       "      <th>Company name</th>\n",
       "      <th>Company location</th>\n",
       "      <th>Posted date</th>\n",
       "      <th>Estimated post date</th>\n",
       "      <th>Easy apply</th>\n",
       "      <th>Job Description</th>\n",
       "      <th>Skills match</th>\n",
       "      <th>Seniority Level</th>\n",
       "      <th>Industry</th>\n",
       "      <th>Employment Type</th>\n",
       "      <th>Job Functions</th>\n",
       "      <th>Job info</th>\n",
       "      <th>JOB TITLE_ID</th>\n",
       "    </tr>\n",
       "  </thead>\n",
       "  <tbody>\n",
       "  </tbody>\n",
       "</table>\n",
       "</div>"
      ],
      "text/plain": [
       "Empty DataFrame\n",
       "Columns: [JOB TITLE, LOCATION, SEARCH DATETIME, Current Job Id, Job html, Job name, Company name, Company location, Posted date, Estimated post date, Easy apply, Job Description, Skills match, Seniority Level, Industry, Employment Type, Job Functions, Job info, JOB TITLE_ID]\n",
       "Index: []"
      ]
     },
     "execution_count": 56,
     "metadata": {},
     "output_type": "execute_result"
    }
   ],
   "source": [
    "df_jobs[df_jobs['Current Job Id']==1774326710]"
   ]
  },
  {
   "cell_type": "code",
   "execution_count": 57,
   "metadata": {},
   "outputs": [
    {
     "data": {
      "text/plain": [
       "0"
      ]
     },
     "execution_count": 57,
     "metadata": {},
     "output_type": "execute_result"
    }
   ],
   "source": [
    "df_jobs.shape[0] - len(df_jobs['JOB TITLE_ID'].unique())"
   ]
  },
  {
   "cell_type": "code",
   "execution_count": 58,
   "metadata": {},
   "outputs": [],
   "source": [
    "df_jobs.drop_duplicates(subset='JOB TITLE_ID', keep='first', inplace = True)"
   ]
  },
  {
   "cell_type": "code",
   "execution_count": 59,
   "metadata": {},
   "outputs": [
    {
     "data": {
      "text/plain": [
       "(100, 19)"
      ]
     },
     "execution_count": 59,
     "metadata": {},
     "output_type": "execute_result"
    }
   ],
   "source": [
    "df_jobs.shape"
   ]
  },
  {
   "cell_type": "markdown",
   "metadata": {},
   "source": [
    "##### * Current Job Id"
   ]
  },
  {
   "cell_type": "code",
   "execution_count": 60,
   "metadata": {},
   "outputs": [
    {
     "data": {
      "text/plain": [
       "100"
      ]
     },
     "execution_count": 60,
     "metadata": {},
     "output_type": "execute_result"
    }
   ],
   "source": [
    "len(df_jobs['Current Job Id'].unique())"
   ]
  },
  {
   "cell_type": "code",
   "execution_count": 61,
   "metadata": {},
   "outputs": [
    {
     "data": {
      "text/html": [
       "<div>\n",
       "<style scoped>\n",
       "    .dataframe tbody tr th:only-of-type {\n",
       "        vertical-align: middle;\n",
       "    }\n",
       "\n",
       "    .dataframe tbody tr th {\n",
       "        vertical-align: top;\n",
       "    }\n",
       "\n",
       "    .dataframe thead th {\n",
       "        text-align: right;\n",
       "    }\n",
       "</style>\n",
       "<table border=\"1\" class=\"dataframe\">\n",
       "  <thead>\n",
       "    <tr style=\"text-align: right;\">\n",
       "      <th></th>\n",
       "      <th>LOCATION</th>\n",
       "    </tr>\n",
       "    <tr>\n",
       "      <th>Current Job Id</th>\n",
       "      <th></th>\n",
       "    </tr>\n",
       "  </thead>\n",
       "  <tbody>\n",
       "    <tr>\n",
       "      <th>1422096341</th>\n",
       "      <td>1</td>\n",
       "    </tr>\n",
       "    <tr>\n",
       "      <th>1812136544</th>\n",
       "      <td>1</td>\n",
       "    </tr>\n",
       "    <tr>\n",
       "      <th>1820264957</th>\n",
       "      <td>1</td>\n",
       "    </tr>\n",
       "    <tr>\n",
       "      <th>1820264742</th>\n",
       "      <td>1</td>\n",
       "    </tr>\n",
       "    <tr>\n",
       "      <th>1820246077</th>\n",
       "      <td>1</td>\n",
       "    </tr>\n",
       "    <tr>\n",
       "      <th>...</th>\n",
       "      <td>...</td>\n",
       "    </tr>\n",
       "    <tr>\n",
       "      <th>1771493337</th>\n",
       "      <td>1</td>\n",
       "    </tr>\n",
       "    <tr>\n",
       "      <th>1766881858</th>\n",
       "      <td>1</td>\n",
       "    </tr>\n",
       "    <tr>\n",
       "      <th>1750652346</th>\n",
       "      <td>1</td>\n",
       "    </tr>\n",
       "    <tr>\n",
       "      <th>1746487492</th>\n",
       "      <td>1</td>\n",
       "    </tr>\n",
       "    <tr>\n",
       "      <th>1833855620</th>\n",
       "      <td>1</td>\n",
       "    </tr>\n",
       "  </tbody>\n",
       "</table>\n",
       "<p>100 rows × 1 columns</p>\n",
       "</div>"
      ],
      "text/plain": [
       "                LOCATION\n",
       "Current Job Id          \n",
       "1422096341             1\n",
       "1812136544             1\n",
       "1820264957             1\n",
       "1820264742             1\n",
       "1820246077             1\n",
       "...                  ...\n",
       "1771493337             1\n",
       "1766881858             1\n",
       "1750652346             1\n",
       "1746487492             1\n",
       "1833855620             1\n",
       "\n",
       "[100 rows x 1 columns]"
      ]
     },
     "execution_count": 61,
     "metadata": {},
     "output_type": "execute_result"
    }
   ],
   "source": [
    "pd.pivot_table(df_jobs,\n",
    "               values=\"LOCATION\",\n",
    "               index=['Current Job Id'],\n",
    "               aggfunc=np.count_nonzero        \n",
    "              ).sort_values(by=['LOCATION'], ascending=False)"
   ]
  },
  {
   "cell_type": "code",
   "execution_count": 62,
   "metadata": {},
   "outputs": [
    {
     "data": {
      "text/plain": [
       "['analista datos', 'cientifico datos', 'ingeniero datos']"
      ]
     },
     "execution_count": 62,
     "metadata": {},
     "output_type": "execute_result"
    }
   ],
   "source": [
    "unique_jobs = list(df_jobs['JOB TITLE'].unique())\n",
    "unique_jobs"
   ]
  },
  {
   "cell_type": "code",
   "execution_count": 63,
   "metadata": {},
   "outputs": [
    {
     "data": {
      "text/html": [
       "<div>\n",
       "<style scoped>\n",
       "    .dataframe tbody tr th:only-of-type {\n",
       "        vertical-align: middle;\n",
       "    }\n",
       "\n",
       "    .dataframe tbody tr th {\n",
       "        vertical-align: top;\n",
       "    }\n",
       "\n",
       "    .dataframe thead th {\n",
       "        text-align: right;\n",
       "    }\n",
       "</style>\n",
       "<table border=\"1\" class=\"dataframe\">\n",
       "  <thead>\n",
       "    <tr style=\"text-align: right;\">\n",
       "      <th>JOB TITLE</th>\n",
       "      <th>Current Job Id</th>\n",
       "      <th>analista datos</th>\n",
       "      <th>cientifico datos</th>\n",
       "      <th>ingeniero datos</th>\n",
       "      <th>Multiple Job Post</th>\n",
       "    </tr>\n",
       "  </thead>\n",
       "  <tbody>\n",
       "    <tr>\n",
       "      <th>0</th>\n",
       "      <td>1422096341</td>\n",
       "      <td></td>\n",
       "      <td></td>\n",
       "      <td>ID</td>\n",
       "      <td>--ID-</td>\n",
       "    </tr>\n",
       "    <tr>\n",
       "      <th>1</th>\n",
       "      <td>1516530143</td>\n",
       "      <td></td>\n",
       "      <td>CD</td>\n",
       "      <td></td>\n",
       "      <td>-CD--</td>\n",
       "    </tr>\n",
       "    <tr>\n",
       "      <th>2</th>\n",
       "      <td>1524810490</td>\n",
       "      <td></td>\n",
       "      <td>CD</td>\n",
       "      <td></td>\n",
       "      <td>-CD--</td>\n",
       "    </tr>\n",
       "    <tr>\n",
       "      <th>3</th>\n",
       "      <td>1560384265</td>\n",
       "      <td>AD</td>\n",
       "      <td></td>\n",
       "      <td></td>\n",
       "      <td>AD---</td>\n",
       "    </tr>\n",
       "    <tr>\n",
       "      <th>4</th>\n",
       "      <td>1598454977</td>\n",
       "      <td></td>\n",
       "      <td></td>\n",
       "      <td>ID</td>\n",
       "      <td>--ID-</td>\n",
       "    </tr>\n",
       "    <tr>\n",
       "      <th>...</th>\n",
       "      <td>...</td>\n",
       "      <td>...</td>\n",
       "      <td>...</td>\n",
       "      <td>...</td>\n",
       "      <td>...</td>\n",
       "    </tr>\n",
       "    <tr>\n",
       "      <th>95</th>\n",
       "      <td>1832936591</td>\n",
       "      <td></td>\n",
       "      <td></td>\n",
       "      <td>ID</td>\n",
       "      <td>--ID-</td>\n",
       "    </tr>\n",
       "    <tr>\n",
       "      <th>96</th>\n",
       "      <td>1832936642</td>\n",
       "      <td></td>\n",
       "      <td></td>\n",
       "      <td>ID</td>\n",
       "      <td>--ID-</td>\n",
       "    </tr>\n",
       "    <tr>\n",
       "      <th>97</th>\n",
       "      <td>1833195239</td>\n",
       "      <td></td>\n",
       "      <td>CD</td>\n",
       "      <td></td>\n",
       "      <td>-CD--</td>\n",
       "    </tr>\n",
       "    <tr>\n",
       "      <th>98</th>\n",
       "      <td>1833195441</td>\n",
       "      <td>AD</td>\n",
       "      <td></td>\n",
       "      <td></td>\n",
       "      <td>AD---</td>\n",
       "    </tr>\n",
       "    <tr>\n",
       "      <th>99</th>\n",
       "      <td>1833855620</td>\n",
       "      <td>AD</td>\n",
       "      <td></td>\n",
       "      <td></td>\n",
       "      <td>AD---</td>\n",
       "    </tr>\n",
       "  </tbody>\n",
       "</table>\n",
       "<p>100 rows × 5 columns</p>\n",
       "</div>"
      ],
      "text/plain": [
       "JOB TITLE  Current Job Id analista datos cientifico datos ingeniero datos  \\\n",
       "0              1422096341                                              ID   \n",
       "1              1516530143                              CD                   \n",
       "2              1524810490                              CD                   \n",
       "3              1560384265             AD                                    \n",
       "4              1598454977                                              ID   \n",
       "..                    ...            ...              ...             ...   \n",
       "95             1832936591                                              ID   \n",
       "96             1832936642                                              ID   \n",
       "97             1833195239                              CD                   \n",
       "98             1833195441             AD                                    \n",
       "99             1833855620             AD                                    \n",
       "\n",
       "JOB TITLE Multiple Job Post  \n",
       "0                     --ID-  \n",
       "1                     -CD--  \n",
       "2                     -CD--  \n",
       "3                     AD---  \n",
       "4                     --ID-  \n",
       "..                      ...  \n",
       "95                    --ID-  \n",
       "96                    --ID-  \n",
       "97                    -CD--  \n",
       "98                    AD---  \n",
       "99                    AD---  \n",
       "\n",
       "[100 rows x 5 columns]"
      ]
     },
     "execution_count": 63,
     "metadata": {},
     "output_type": "execute_result"
    }
   ],
   "source": [
    "pivot_ID_TITLES = pd.pivot_table(df_jobs,\n",
    "               values=\"LOCATION\",\n",
    "               index=['Current Job Id'],\n",
    "               columns=['JOB TITLE'],\n",
    "               aggfunc=np.count_nonzero        \n",
    "              ).reset_index()\n",
    "\n",
    "pivot_ID_TITLES['Multiple Job Post'] = \"\"\n",
    "\n",
    "for j in unique_jobs:\n",
    "    pivot_ID_TITLES[j] = \\\n",
    "    pivot_ID_TITLES[j].apply(lambda x: job_key_generator(j) if x==1.0 else '')\n",
    "    pivot_ID_TITLES['Multiple Job Post'] = pivot_ID_TITLES['Multiple Job Post'] + pivot_ID_TITLES[j] + '-'\n",
    "\n",
    "pivot_ID_TITLES"
   ]
  },
  {
   "cell_type": "code",
   "execution_count": 64,
   "metadata": {},
   "outputs": [],
   "source": [
    "df_jobs = df_jobs.merge(pivot_ID_TITLES[['Current Job Id','Multiple Job Post']],\n",
    "                       on='Current Job Id',\n",
    "                       how='left')"
   ]
  },
  {
   "cell_type": "code",
   "execution_count": null,
   "metadata": {},
   "outputs": [],
   "source": []
  },
  {
   "cell_type": "code",
   "execution_count": 65,
   "metadata": {},
   "outputs": [
    {
     "data": {
      "text/html": [
       "<div>\n",
       "<style scoped>\n",
       "    .dataframe tbody tr th:only-of-type {\n",
       "        vertical-align: middle;\n",
       "    }\n",
       "\n",
       "    .dataframe tbody tr th {\n",
       "        vertical-align: top;\n",
       "    }\n",
       "\n",
       "    .dataframe thead th {\n",
       "        text-align: right;\n",
       "    }\n",
       "</style>\n",
       "<table border=\"1\" class=\"dataframe\">\n",
       "  <thead>\n",
       "    <tr style=\"text-align: right;\">\n",
       "      <th></th>\n",
       "      <th>JOB TITLE</th>\n",
       "      <th>LOCATION</th>\n",
       "      <th>SEARCH DATETIME</th>\n",
       "      <th>Current Job Id</th>\n",
       "      <th>Job html</th>\n",
       "      <th>Job name</th>\n",
       "      <th>Company name</th>\n",
       "      <th>Company location</th>\n",
       "      <th>Posted date</th>\n",
       "      <th>Estimated post date</th>\n",
       "      <th>Easy apply</th>\n",
       "      <th>Job Description</th>\n",
       "      <th>Skills match</th>\n",
       "      <th>Seniority Level</th>\n",
       "      <th>Industry</th>\n",
       "      <th>Employment Type</th>\n",
       "      <th>Job Functions</th>\n",
       "      <th>Job info</th>\n",
       "      <th>JOB TITLE_ID</th>\n",
       "      <th>Multiple Job Post</th>\n",
       "    </tr>\n",
       "  </thead>\n",
       "  <tbody>\n",
       "  </tbody>\n",
       "</table>\n",
       "</div>"
      ],
      "text/plain": [
       "Empty DataFrame\n",
       "Columns: [JOB TITLE, LOCATION, SEARCH DATETIME, Current Job Id, Job html, Job name, Company name, Company location, Posted date, Estimated post date, Easy apply, Job Description, Skills match, Seniority Level, Industry, Employment Type, Job Functions, Job info, JOB TITLE_ID, Multiple Job Post]\n",
       "Index: []"
      ]
     },
     "execution_count": 65,
     "metadata": {},
     "output_type": "execute_result"
    }
   ],
   "source": [
    "df_jobs[df_jobs['Current Job Id']==1645918674]"
   ]
  },
  {
   "cell_type": "code",
   "execution_count": 66,
   "metadata": {},
   "outputs": [
    {
     "data": {
      "text/html": [
       "<div>\n",
       "<style scoped>\n",
       "    .dataframe tbody tr th:only-of-type {\n",
       "        vertical-align: middle;\n",
       "    }\n",
       "\n",
       "    .dataframe tbody tr th {\n",
       "        vertical-align: top;\n",
       "    }\n",
       "\n",
       "    .dataframe thead th {\n",
       "        text-align: right;\n",
       "    }\n",
       "</style>\n",
       "<table border=\"1\" class=\"dataframe\">\n",
       "  <thead>\n",
       "    <tr style=\"text-align: right;\">\n",
       "      <th></th>\n",
       "      <th>JOB TITLE</th>\n",
       "      <th>LOCATION</th>\n",
       "      <th>SEARCH DATETIME</th>\n",
       "      <th>Current Job Id</th>\n",
       "      <th>Job html</th>\n",
       "      <th>Job name</th>\n",
       "      <th>Company name</th>\n",
       "      <th>Company location</th>\n",
       "      <th>Posted date</th>\n",
       "      <th>Estimated post date</th>\n",
       "      <th>Easy apply</th>\n",
       "      <th>Job Description</th>\n",
       "      <th>Skills match</th>\n",
       "      <th>Seniority Level</th>\n",
       "      <th>Industry</th>\n",
       "      <th>Employment Type</th>\n",
       "      <th>Job Functions</th>\n",
       "      <th>Job info</th>\n",
       "      <th>JOB TITLE_ID</th>\n",
       "      <th>Multiple Job Post</th>\n",
       "    </tr>\n",
       "  </thead>\n",
       "  <tbody>\n",
       "    <tr>\n",
       "      <th>0</th>\n",
       "      <td>analista datos</td>\n",
       "      <td>Barcelona</td>\n",
       "      <td>2020-04-23 00:40</td>\n",
       "      <td>1712815780</td>\n",
       "      <td>https://www.linkedin.com/jobs/view/1712815780/</td>\n",
       "      <td>Analista Liferay</td>\n",
       "      <td>everis</td>\n",
       "      <td>Barcelona y alrededores, España</td>\n",
       "      <td>1 week</td>\n",
       "      <td>2020-04-16 00:40</td>\n",
       "      <td>True</td>\n",
       "      <td>¿Buscas un reto profesional que te saque de tu...</td>\n",
       "      <td>{'yes': ['Foreign Languages', 'Decision-Making...</td>\n",
       "      <td>Associate</td>\n",
       "      <td>Program Development</td>\n",
       "      <td>Full-time</td>\n",
       "      <td>Consulting</td>\n",
       "      <td>Posted Date\\nPosted 1 week ago\\nNumber of view...</td>\n",
       "      <td>analista datos_1712815780</td>\n",
       "      <td>AD---</td>\n",
       "    </tr>\n",
       "    <tr>\n",
       "      <th>1</th>\n",
       "      <td>analista datos</td>\n",
       "      <td>Barcelona</td>\n",
       "      <td>2020-04-23 00:40</td>\n",
       "      <td>1813681738</td>\n",
       "      <td>https://www.linkedin.com/jobs/view/1813681738/</td>\n",
       "      <td>Analista, programadores/as y manager Salesforce</td>\n",
       "      <td>Experis España</td>\n",
       "      <td>Barcelona, Catalonia, Spain</td>\n",
       "      <td>2 weeks</td>\n",
       "      <td>2020-04-09 00:40</td>\n",
       "      <td>True</td>\n",
       "      <td>Experis selecciona diferentes perfiles con exp...</td>\n",
       "      <td>{'yes': ['Business', 'Business Analysis'], 'no...</td>\n",
       "      <td>Mid-Senior level</td>\n",
       "      <td>Information Technology &amp; Services</td>\n",
       "      <td>Full-time</td>\n",
       "      <td>Information Technology</td>\n",
       "      <td>Posted Date\\nPosted 2 weeks ago\\nNumber of vie...</td>\n",
       "      <td>analista datos_1813681738</td>\n",
       "      <td>AD---</td>\n",
       "    </tr>\n",
       "    <tr>\n",
       "      <th>2</th>\n",
       "      <td>analista datos</td>\n",
       "      <td>Barcelona</td>\n",
       "      <td>2020-04-23 00:40</td>\n",
       "      <td>1824218680</td>\n",
       "      <td>https://www.linkedin.com/jobs/view/1824218680/</td>\n",
       "      <td>WMS Analyst</td>\n",
       "      <td>Randstad España</td>\n",
       "      <td>Barcelona, Cataluña / Catalunya, España</td>\n",
       "      <td>6 days</td>\n",
       "      <td>2020-04-17 00:40</td>\n",
       "      <td>True</td>\n",
       "      <td>Our client is based in Palau de Plegamans (30 ...</td>\n",
       "      <td>{'yes': ['Business', 'Analytical Skills', 'Cus...</td>\n",
       "      <td>Mid-Senior level</td>\n",
       "      <td>Logistics &amp; Supply Chain Food &amp; Beverages</td>\n",
       "      <td>Full-time</td>\n",
       "      <td>Information Technology</td>\n",
       "      <td>Posted Date\\nPosted 6 days ago\\nNumber of view...</td>\n",
       "      <td>analista datos_1824218680</td>\n",
       "      <td>AD---</td>\n",
       "    </tr>\n",
       "    <tr>\n",
       "      <th>3</th>\n",
       "      <td>analista datos</td>\n",
       "      <td>Barcelona</td>\n",
       "      <td>2020-04-23 00:40</td>\n",
       "      <td>1801660398</td>\n",
       "      <td>https://www.linkedin.com/jobs/view/1801660398/</td>\n",
       "      <td>Analista de datos</td>\n",
       "      <td>Banco Sabadell</td>\n",
       "      <td>San Cugat del Vallés, Cataluña / Catalunya, Es...</td>\n",
       "      <td>3 weeks</td>\n",
       "      <td>2020-04-02 00:40</td>\n",
       "      <td>True</td>\n",
       "      <td>Misión\\nObtener, depurar y presentar informaci...</td>\n",
       "      <td>{'yes': ['SQL', 'Analytical Skills', 'Computer...</td>\n",
       "      <td>Associate</td>\n",
       "      <td>Banking</td>\n",
       "      <td>Full-time</td>\n",
       "      <td>Analyst Engineering Information Technology</td>\n",
       "      <td>Posted Date\\nPosted 3 weeks ago\\nNumber of vie...</td>\n",
       "      <td>analista datos_1801660398</td>\n",
       "      <td>AD---</td>\n",
       "    </tr>\n",
       "    <tr>\n",
       "      <th>4</th>\n",
       "      <td>analista datos</td>\n",
       "      <td>Barcelona</td>\n",
       "      <td>2020-04-23 00:40</td>\n",
       "      <td>1779999677</td>\n",
       "      <td>https://www.linkedin.com/jobs/view/1779999677/</td>\n",
       "      <td>Analista de Datos</td>\n",
       "      <td>Outlet de Viviendas</td>\n",
       "      <td>Barcelona, ES</td>\n",
       "      <td>1 month</td>\n",
       "      <td>2020-03-26 00:40</td>\n",
       "      <td>False</td>\n",
       "      <td>Company Description: OUTLET DE VIVIENDAS, empr...</td>\n",
       "      <td>{}</td>\n",
       "      <td>Entry level</td>\n",
       "      <td>Commercial Real Estate Human Resources Real Es...</td>\n",
       "      <td>Full-time</td>\n",
       "      <td>Information Technology</td>\n",
       "      <td>Posted Date\\nPosted 1 month ago\\nNumber of vie...</td>\n",
       "      <td>analista datos_1779999677</td>\n",
       "      <td>AD---</td>\n",
       "    </tr>\n",
       "    <tr>\n",
       "      <th>...</th>\n",
       "      <td>...</td>\n",
       "      <td>...</td>\n",
       "      <td>...</td>\n",
       "      <td>...</td>\n",
       "      <td>...</td>\n",
       "      <td>...</td>\n",
       "      <td>...</td>\n",
       "      <td>...</td>\n",
       "      <td>...</td>\n",
       "      <td>...</td>\n",
       "      <td>...</td>\n",
       "      <td>...</td>\n",
       "      <td>...</td>\n",
       "      <td>...</td>\n",
       "      <td>...</td>\n",
       "      <td>...</td>\n",
       "      <td>...</td>\n",
       "      <td>...</td>\n",
       "      <td>...</td>\n",
       "      <td>...</td>\n",
       "    </tr>\n",
       "    <tr>\n",
       "      <th>95</th>\n",
       "      <td>ingeniero datos</td>\n",
       "      <td>Barcelona</td>\n",
       "      <td>2020-04-23 00:40</td>\n",
       "      <td>1832936591</td>\n",
       "      <td>https://www.linkedin.com/jobs/view/1832936591/</td>\n",
       "      <td>Data Scientist Internship</td>\n",
       "      <td>Entravision</td>\n",
       "      <td>Barcelona, ES</td>\n",
       "      <td>3 days</td>\n",
       "      <td>2020-04-20 00:40</td>\n",
       "      <td>False</td>\n",
       "      <td>At the heart of our technology are our Machine...</td>\n",
       "      <td>{}</td>\n",
       "      <td>Internship</td>\n",
       "      <td>Marketing &amp; Advertising Online Media Internet</td>\n",
       "      <td>Internship</td>\n",
       "      <td>Engineering Information Technology</td>\n",
       "      <td>Posted Date\\nPosted 3 days ago\\nNumber of view...</td>\n",
       "      <td>ingeniero datos_1832936591</td>\n",
       "      <td>--ID-</td>\n",
       "    </tr>\n",
       "    <tr>\n",
       "      <th>96</th>\n",
       "      <td>ingeniero datos</td>\n",
       "      <td>Barcelona</td>\n",
       "      <td>2020-04-23 00:40</td>\n",
       "      <td>1772485017</td>\n",
       "      <td>https://www.linkedin.com/jobs/view/1772485017/</td>\n",
       "      <td>Senior Big Data Engineer</td>\n",
       "      <td>Claire Joster</td>\n",
       "      <td>Barcelona, ES</td>\n",
       "      <td>1 month</td>\n",
       "      <td>2020-03-26 00:40</td>\n",
       "      <td>False</td>\n",
       "      <td>Job title:Senior Big Data Engineer\\nJob type:P...</td>\n",
       "      <td>{}</td>\n",
       "      <td>Associate</td>\n",
       "      <td>Information Technology &amp; Services Internet Hum...</td>\n",
       "      <td>Full-time</td>\n",
       "      <td>Engineering Information Technology</td>\n",
       "      <td>Posted Date\\nPosted 1 month ago\\nNumber of vie...</td>\n",
       "      <td>ingeniero datos_1772485017</td>\n",
       "      <td>--ID-</td>\n",
       "    </tr>\n",
       "    <tr>\n",
       "      <th>97</th>\n",
       "      <td>ingeniero datos</td>\n",
       "      <td>Barcelona</td>\n",
       "      <td>2020-04-23 00:40</td>\n",
       "      <td>1832911914</td>\n",
       "      <td>https://www.linkedin.com/jobs/view/1832911914/</td>\n",
       "      <td>Senior Data Engineer</td>\n",
       "      <td>Stuart</td>\n",
       "      <td>Barcelona, ES</td>\n",
       "      <td>1 day</td>\n",
       "      <td>2020-04-22 00:40</td>\n",
       "      <td>False</td>\n",
       "      <td>SVGs not supported by this browser. Facebook S...</td>\n",
       "      <td>{}</td>\n",
       "      <td>Associate</td>\n",
       "      <td>Information Technology &amp; Services Computer Sof...</td>\n",
       "      <td>Full-time</td>\n",
       "      <td>Information Technology</td>\n",
       "      <td>Posted Date\\nPosted 1 day ago\\nNumber of views...</td>\n",
       "      <td>ingeniero datos_1832911914</td>\n",
       "      <td>--ID-</td>\n",
       "    </tr>\n",
       "    <tr>\n",
       "      <th>98</th>\n",
       "      <td>ingeniero datos</td>\n",
       "      <td>Barcelona</td>\n",
       "      <td>2020-04-23 00:40</td>\n",
       "      <td>1832912351</td>\n",
       "      <td>https://www.linkedin.com/jobs/view/1832912351/</td>\n",
       "      <td>Big Data Developer</td>\n",
       "      <td>Technojobs</td>\n",
       "      <td>Barcelona, ES</td>\n",
       "      <td>2 days</td>\n",
       "      <td>2020-04-21 00:40</td>\n",
       "      <td>False</td>\n",
       "      <td>Location: Barcelona, Spain (remote flex) Salar...</td>\n",
       "      <td>{}</td>\n",
       "      <td>Entry level</td>\n",
       "      <td>Information Technology &amp; Services Computer Sof...</td>\n",
       "      <td>Full-time</td>\n",
       "      <td>Engineering Information Technology</td>\n",
       "      <td>Posted Date\\nPosted 2 days ago\\nNumber of view...</td>\n",
       "      <td>ingeniero datos_1832912351</td>\n",
       "      <td>--ID-</td>\n",
       "    </tr>\n",
       "    <tr>\n",
       "      <th>99</th>\n",
       "      <td>ingeniero datos</td>\n",
       "      <td>Barcelona</td>\n",
       "      <td>2020-04-23 00:40</td>\n",
       "      <td>1820246077</td>\n",
       "      <td>https://www.linkedin.com/jobs/view/1820246077/</td>\n",
       "      <td>Data Scientist, Barcelona</td>\n",
       "      <td>Altran Eña</td>\n",
       "      <td>Barcelona, ES</td>\n",
       "      <td>2 weeks</td>\n",
       "      <td>2020-04-09 00:40</td>\n",
       "      <td>False</td>\n",
       "      <td>Descripción de la oferta de empleo Desde nuest...</td>\n",
       "      <td>{}</td>\n",
       "      <td>Entry level</td>\n",
       "      <td>Information Technology &amp; Services Computer Sof...</td>\n",
       "      <td>Full-time</td>\n",
       "      <td>Engineering Information Technology</td>\n",
       "      <td>Posted Date\\nPosted 2 weeks ago\\nNumber of vie...</td>\n",
       "      <td>ingeniero datos_1820246077</td>\n",
       "      <td>--ID-</td>\n",
       "    </tr>\n",
       "  </tbody>\n",
       "</table>\n",
       "<p>100 rows × 20 columns</p>\n",
       "</div>"
      ],
      "text/plain": [
       "          JOB TITLE   LOCATION   SEARCH DATETIME  Current Job Id  \\\n",
       "0    analista datos  Barcelona  2020-04-23 00:40      1712815780   \n",
       "1    analista datos  Barcelona  2020-04-23 00:40      1813681738   \n",
       "2    analista datos  Barcelona  2020-04-23 00:40      1824218680   \n",
       "3    analista datos  Barcelona  2020-04-23 00:40      1801660398   \n",
       "4    analista datos  Barcelona  2020-04-23 00:40      1779999677   \n",
       "..              ...        ...               ...             ...   \n",
       "95  ingeniero datos  Barcelona  2020-04-23 00:40      1832936591   \n",
       "96  ingeniero datos  Barcelona  2020-04-23 00:40      1772485017   \n",
       "97  ingeniero datos  Barcelona  2020-04-23 00:40      1832911914   \n",
       "98  ingeniero datos  Barcelona  2020-04-23 00:40      1832912351   \n",
       "99  ingeniero datos  Barcelona  2020-04-23 00:40      1820246077   \n",
       "\n",
       "                                          Job html  \\\n",
       "0   https://www.linkedin.com/jobs/view/1712815780/   \n",
       "1   https://www.linkedin.com/jobs/view/1813681738/   \n",
       "2   https://www.linkedin.com/jobs/view/1824218680/   \n",
       "3   https://www.linkedin.com/jobs/view/1801660398/   \n",
       "4   https://www.linkedin.com/jobs/view/1779999677/   \n",
       "..                                             ...   \n",
       "95  https://www.linkedin.com/jobs/view/1832936591/   \n",
       "96  https://www.linkedin.com/jobs/view/1772485017/   \n",
       "97  https://www.linkedin.com/jobs/view/1832911914/   \n",
       "98  https://www.linkedin.com/jobs/view/1832912351/   \n",
       "99  https://www.linkedin.com/jobs/view/1820246077/   \n",
       "\n",
       "                                           Job name         Company name  \\\n",
       "0                                  Analista Liferay               everis   \n",
       "1   Analista, programadores/as y manager Salesforce       Experis España   \n",
       "2                                       WMS Analyst      Randstad España   \n",
       "3                                 Analista de datos       Banco Sabadell   \n",
       "4                                 Analista de Datos  Outlet de Viviendas   \n",
       "..                                              ...                  ...   \n",
       "95                        Data Scientist Internship          Entravision   \n",
       "96                         Senior Big Data Engineer        Claire Joster   \n",
       "97                             Senior Data Engineer               Stuart   \n",
       "98                               Big Data Developer           Technojobs   \n",
       "99                        Data Scientist, Barcelona           Altran Eña   \n",
       "\n",
       "                                     Company location Posted date  \\\n",
       "0                     Barcelona y alrededores, España      1 week   \n",
       "1                         Barcelona, Catalonia, Spain     2 weeks   \n",
       "2             Barcelona, Cataluña / Catalunya, España      6 days   \n",
       "3   San Cugat del Vallés, Cataluña / Catalunya, Es...     3 weeks   \n",
       "4                                       Barcelona, ES     1 month   \n",
       "..                                                ...         ...   \n",
       "95                                      Barcelona, ES      3 days   \n",
       "96                                      Barcelona, ES     1 month   \n",
       "97                                      Barcelona, ES       1 day   \n",
       "98                                      Barcelona, ES      2 days   \n",
       "99                                      Barcelona, ES     2 weeks   \n",
       "\n",
       "   Estimated post date  Easy apply  \\\n",
       "0     2020-04-16 00:40        True   \n",
       "1     2020-04-09 00:40        True   \n",
       "2     2020-04-17 00:40        True   \n",
       "3     2020-04-02 00:40        True   \n",
       "4     2020-03-26 00:40       False   \n",
       "..                 ...         ...   \n",
       "95    2020-04-20 00:40       False   \n",
       "96    2020-03-26 00:40       False   \n",
       "97    2020-04-22 00:40       False   \n",
       "98    2020-04-21 00:40       False   \n",
       "99    2020-04-09 00:40       False   \n",
       "\n",
       "                                      Job Description  \\\n",
       "0   ¿Buscas un reto profesional que te saque de tu...   \n",
       "1   Experis selecciona diferentes perfiles con exp...   \n",
       "2   Our client is based in Palau de Plegamans (30 ...   \n",
       "3   Misión\\nObtener, depurar y presentar informaci...   \n",
       "4   Company Description: OUTLET DE VIVIENDAS, empr...   \n",
       "..                                                ...   \n",
       "95  At the heart of our technology are our Machine...   \n",
       "96  Job title:Senior Big Data Engineer\\nJob type:P...   \n",
       "97  SVGs not supported by this browser. Facebook S...   \n",
       "98  Location: Barcelona, Spain (remote flex) Salar...   \n",
       "99  Descripción de la oferta de empleo Desde nuest...   \n",
       "\n",
       "                                         Skills match   Seniority Level  \\\n",
       "0   {'yes': ['Foreign Languages', 'Decision-Making...         Associate   \n",
       "1   {'yes': ['Business', 'Business Analysis'], 'no...  Mid-Senior level   \n",
       "2   {'yes': ['Business', 'Analytical Skills', 'Cus...  Mid-Senior level   \n",
       "3   {'yes': ['SQL', 'Analytical Skills', 'Computer...         Associate   \n",
       "4                                                  {}       Entry level   \n",
       "..                                                ...               ...   \n",
       "95                                                 {}        Internship   \n",
       "96                                                 {}         Associate   \n",
       "97                                                 {}         Associate   \n",
       "98                                                 {}       Entry level   \n",
       "99                                                 {}       Entry level   \n",
       "\n",
       "                                             Industry Employment Type  \\\n",
       "0                                 Program Development       Full-time   \n",
       "1                   Information Technology & Services       Full-time   \n",
       "2           Logistics & Supply Chain Food & Beverages       Full-time   \n",
       "3                                             Banking       Full-time   \n",
       "4   Commercial Real Estate Human Resources Real Es...       Full-time   \n",
       "..                                                ...             ...   \n",
       "95      Marketing & Advertising Online Media Internet      Internship   \n",
       "96  Information Technology & Services Internet Hum...       Full-time   \n",
       "97  Information Technology & Services Computer Sof...       Full-time   \n",
       "98  Information Technology & Services Computer Sof...       Full-time   \n",
       "99  Information Technology & Services Computer Sof...       Full-time   \n",
       "\n",
       "                                 Job Functions  \\\n",
       "0                                   Consulting   \n",
       "1                       Information Technology   \n",
       "2                       Information Technology   \n",
       "3   Analyst Engineering Information Technology   \n",
       "4                       Information Technology   \n",
       "..                                         ...   \n",
       "95          Engineering Information Technology   \n",
       "96          Engineering Information Technology   \n",
       "97                      Information Technology   \n",
       "98          Engineering Information Technology   \n",
       "99          Engineering Information Technology   \n",
       "\n",
       "                                             Job info  \\\n",
       "0   Posted Date\\nPosted 1 week ago\\nNumber of view...   \n",
       "1   Posted Date\\nPosted 2 weeks ago\\nNumber of vie...   \n",
       "2   Posted Date\\nPosted 6 days ago\\nNumber of view...   \n",
       "3   Posted Date\\nPosted 3 weeks ago\\nNumber of vie...   \n",
       "4   Posted Date\\nPosted 1 month ago\\nNumber of vie...   \n",
       "..                                                ...   \n",
       "95  Posted Date\\nPosted 3 days ago\\nNumber of view...   \n",
       "96  Posted Date\\nPosted 1 month ago\\nNumber of vie...   \n",
       "97  Posted Date\\nPosted 1 day ago\\nNumber of views...   \n",
       "98  Posted Date\\nPosted 2 days ago\\nNumber of view...   \n",
       "99  Posted Date\\nPosted 2 weeks ago\\nNumber of vie...   \n",
       "\n",
       "                  JOB TITLE_ID Multiple Job Post  \n",
       "0    analista datos_1712815780             AD---  \n",
       "1    analista datos_1813681738             AD---  \n",
       "2    analista datos_1824218680             AD---  \n",
       "3    analista datos_1801660398             AD---  \n",
       "4    analista datos_1779999677             AD---  \n",
       "..                         ...               ...  \n",
       "95  ingeniero datos_1832936591             --ID-  \n",
       "96  ingeniero datos_1772485017             --ID-  \n",
       "97  ingeniero datos_1832911914             --ID-  \n",
       "98  ingeniero datos_1832912351             --ID-  \n",
       "99  ingeniero datos_1820246077             --ID-  \n",
       "\n",
       "[100 rows x 20 columns]"
      ]
     },
     "execution_count": 66,
     "metadata": {},
     "output_type": "execute_result"
    }
   ],
   "source": [
    "df_jobs.drop_duplicates(subset='Current Job Id', keep='first')"
   ]
  },
  {
   "cell_type": "code",
   "execution_count": null,
   "metadata": {},
   "outputs": [],
   "source": []
  },
  {
   "cell_type": "markdown",
   "metadata": {},
   "source": [
    "### > Language of each job description:"
   ]
  },
  {
   "cell_type": "code",
   "execution_count": 67,
   "metadata": {},
   "outputs": [
    {
     "data": {
      "text/plain": [
       "0                                     Analista Liferay\n",
       "1      Analista, programadores/as y manager Salesforce\n",
       "2                                          WMS Analyst\n",
       "3                                    Analista de datos\n",
       "4                                    Analista de Datos\n",
       "5                        Innova-tsn: Analista de datos\n",
       "6                                  Senior Data Analyst\n",
       "7                                Analista de Postventa\n",
       "8    Snr Data Analyst – PepsiCo Global Template - I...\n",
       "9                       Analista de Datos (Matemático)\n",
       "Name: Job name, dtype: object"
      ]
     },
     "execution_count": 67,
     "metadata": {},
     "output_type": "execute_result"
    }
   ],
   "source": [
    "df_jobs['Job name'].head(10)"
   ]
  },
  {
   "cell_type": "code",
   "execution_count": 68,
   "metadata": {},
   "outputs": [
    {
     "data": {
      "text/plain": [
       "'en'"
      ]
     },
     "execution_count": 68,
     "metadata": {},
     "output_type": "execute_result"
    }
   ],
   "source": [
    "detect(df_jobs.loc[6,'Job Description'])"
   ]
  },
  {
   "cell_type": "code",
   "execution_count": 69,
   "metadata": {},
   "outputs": [],
   "source": [
    "#New comñumn identifying language\n",
    "df_jobs['Info Language'] = df_jobs['Job Description'].apply(lambda x: detect(x))"
   ]
  },
  {
   "cell_type": "code",
   "execution_count": 70,
   "metadata": {},
   "outputs": [
    {
     "data": {
      "text/plain": [
       "array(['es', 'en', 'ca'], dtype=object)"
      ]
     },
     "execution_count": 70,
     "metadata": {},
     "output_type": "execute_result"
    }
   ],
   "source": [
    "df_jobs['Info Language'].unique()"
   ]
  },
  {
   "cell_type": "code",
   "execution_count": 71,
   "metadata": {},
   "outputs": [
    {
     "data": {
      "text/plain": [
       "array(['Associate', 'Mid-Senior level', 'Entry level', nan, 'Executive',\n",
       "       'Internship'], dtype=object)"
      ]
     },
     "execution_count": 71,
     "metadata": {},
     "output_type": "execute_result"
    }
   ],
   "source": [
    "df_jobs['Seniority Level'].unique()"
   ]
  },
  {
   "cell_type": "markdown",
   "metadata": {},
   "source": [
    "### > Coincidences with definitions:"
   ]
  },
  {
   "cell_type": "code",
   "execution_count": 72,
   "metadata": {},
   "outputs": [],
   "source": [
    "def coincidencias(job_skills, post_skills):\n",
    "    c = 0\n",
    "    for i in job_skills: \n",
    "        if re.search(i,post_skills): \n",
    "            c+=1\n",
    "    return c\n",
    "        "
   ]
  },
  {
   "cell_type": "code",
   "execution_count": 73,
   "metadata": {},
   "outputs": [],
   "source": [
    "def list_coincidencias(job_skills, post_skills):\n",
    "    l=[]\n",
    "    for i in job_skills:\n",
    "        if re.search(i,post_skills):\n",
    "            l.append(i)\n",
    "    return l\n",
    "        "
   ]
  },
  {
   "cell_type": "code",
   "execution_count": 74,
   "metadata": {},
   "outputs": [],
   "source": [
    "def clean_text(text):\n",
    "    text = text.replace('\\n',' ')\n",
    "    text = text.replace('á','a')\n",
    "    text = text.replace('é','e')\n",
    "    text = text.replace('í','i')\n",
    "    text = text.replace('ó','o')\n",
    "    text = text.replace('ú','u')\n",
    "    text = text.replace('.',' ')\n",
    "    text = text.lower()\n",
    "    \n",
    "    return text\n",
    "    "
   ]
  },
  {
   "cell_type": "markdown",
   "metadata": {},
   "source": [
    "#### jobs >"
   ]
  },
  {
   "cell_type": "code",
   "execution_count": 75,
   "metadata": {},
   "outputs": [],
   "source": [
    "#jobs_list = list(df_jobs['JOB TITLE'].unique()) #only jobs that searcht has been taken\n",
    "unique_jobs = list(df_jobs['JOB TITLE'].unique())"
   ]
  },
  {
   "cell_type": "code",
   "execution_count": 76,
   "metadata": {},
   "outputs": [],
   "source": [
    "#New columns with coindicences DEFINITION vs Job post\n",
    "coincidences_jobs = []\n",
    "for j in unique_jobs:\n",
    "    skills_list = dic_key_words.get(j) #dictionary\n",
    "    coincidences_jobs.append(f'{j[0:2]} coincidences')\n",
    "    df_jobs[f'{j[0:2]} coincidences'] = \\\n",
    "    df_jobs['Job Description'].apply(lambda x: coincidencias(skills_list,clean_text(x)))\n",
    "    df_jobs[f'{j[0:2]} coincidences_list'] = \\\n",
    "    df_jobs['Job Description'].apply(lambda x: list_coincidencias(skills_list,clean_text(x)))\n",
    "\n",
    "#     df_jobs['DS coincidences'] = \\\n",
    "#     df_jobs['Job info'].apply(lambda x: coincidencias(DS_list,clean_text(x)))\n",
    "#     df_jobs['DS coincidences_list'] = \\\n",
    "#     df_jobs['Job info'].apply(lambda x: list_coincidencias(DS_list,clean_text(x)))\n",
    "\n",
    "#     df_jobs['DE coincidences'] = \\\n",
    "#     df_jobs['Job info'].apply(lambda x: coincidencias(DE_list,clean_text(x)))\n",
    "#     df_jobs['DE coincidences_list'] = \\\n",
    "#     df_jobs['Job info'].apply(lambda x: list_coincidencias(DE_list,clean_text(x)))"
   ]
  },
  {
   "cell_type": "markdown",
   "metadata": {},
   "source": [
    "#### profile >"
   ]
  },
  {
   "cell_type": "code",
   "execution_count": 77,
   "metadata": {},
   "outputs": [
    {
     "data": {
      "text/plain": [
       "\"['analytical skills', 'bash', 'business analysis', 'business intelligence', 'business process improvement', 'continuous improvement', 'data analysis', 'data analytics', 'data modeling', 'data pipelines', 'data science', 'data visualization', 'engineering', 'engineering - be', 'english', 'español', 'financial analysis', 'git', 'industrial engineering', 'industry knowledge', 'jupyter', 'leadership', 'lean manufacturing', 'machine learning', 'master', 'microsoft excel', 'microsoft office', 'microsoft power bi', 'microsoft power query', 'microsoft project', 'mysql', 'negotiation', 'numpy', 'pandas', 'power pivot', 'process engineering', 'process optimization', 'programming', 'project management', 'python', 'r', 'sap', 'scrum', 'seaborn', 'six sigma', 'spanish', 'sql', 'statistics', 'tableau', 'team management', 'teamwork', 'telco', 'vba', 'visual basic for applications', 'web scraping']\""
      ]
     },
     "execution_count": 77,
     "metadata": {},
     "output_type": "execute_result"
    }
   ],
   "source": [
    "df_profile.loc['total skills', 'info']"
   ]
  },
  {
   "cell_type": "code",
   "execution_count": 78,
   "metadata": {},
   "outputs": [
    {
     "data": {
      "text/plain": [
       "['analytical skills',\n",
       " 'bash',\n",
       " 'business analysis',\n",
       " 'business intelligence',\n",
       " 'business process improvement',\n",
       " 'continuous improvement',\n",
       " 'data analysis',\n",
       " 'data analytics',\n",
       " 'data modeling',\n",
       " 'data pipelines',\n",
       " 'data science',\n",
       " 'data visualization',\n",
       " 'engineering',\n",
       " 'english',\n",
       " 'español',\n",
       " 'financial analysis',\n",
       " 'git',\n",
       " 'industry knowledge',\n",
       " 'jupyter',\n",
       " 'leadership',\n",
       " 'lean manufacturing',\n",
       " 'machine learning',\n",
       " 'microsoft excel',\n",
       " 'microsoft office',\n",
       " 'microsoft power bi',\n",
       " 'microsoft power query',\n",
       " 'microsoft project',\n",
       " 'mysql',\n",
       " 'negotiation',\n",
       " 'numpy',\n",
       " 'pandas',\n",
       " 'power pivot',\n",
       " 'process engineering',\n",
       " 'process optimization',\n",
       " 'programming',\n",
       " 'project management',\n",
       " 'python',\n",
       " 'r',\n",
       " 'sap',\n",
       " 'scrum',\n",
       " 'seaborn',\n",
       " 'six sigma',\n",
       " 'sql',\n",
       " 'statistics',\n",
       " 'tableau',\n",
       " 'team management',\n",
       " 'teamwork',\n",
       " 'telco',\n",
       " 'vba',\n",
       " 'visual basic for applications',\n",
       " 'web scraping']"
      ]
     },
     "execution_count": 78,
     "metadata": {},
     "output_type": "execute_result"
    }
   ],
   "source": [
    "profile_skills = clean_text(df_profile.loc['skills', 'info'])\n",
    "#### THIS IS ONLY FOR JUPYTER !!!!!!!!!!!!!!!!!!!!\n",
    "profile_skills = profile_skills.replace('[','').replace(']','').replace(\"'\",\"\").split(', ')\n",
    "\n",
    "sorted(profile_skills)"
   ]
  },
  {
   "cell_type": "code",
   "execution_count": 79,
   "metadata": {},
   "outputs": [],
   "source": [
    "df_jobs['PROFILE coincidences'] = \\\n",
    "df_jobs['Job Description'].apply(lambda x:      coincidencias(profile_skills,clean_text(x)))\n",
    "df_jobs['PROFILE coincidences_list'] = \\\n",
    "df_jobs['Job Description'].apply(lambda x: list_coincidencias(profile_skills,clean_text(x)))"
   ]
  },
  {
   "cell_type": "code",
   "execution_count": 80,
   "metadata": {},
   "outputs": [
    {
     "data": {
      "text/html": [
       "<div>\n",
       "<style scoped>\n",
       "    .dataframe tbody tr th:only-of-type {\n",
       "        vertical-align: middle;\n",
       "    }\n",
       "\n",
       "    .dataframe tbody tr th {\n",
       "        vertical-align: top;\n",
       "    }\n",
       "\n",
       "    .dataframe thead th {\n",
       "        text-align: right;\n",
       "    }\n",
       "</style>\n",
       "<table border=\"1\" class=\"dataframe\">\n",
       "  <thead>\n",
       "    <tr style=\"text-align: right;\">\n",
       "      <th></th>\n",
       "      <th>JOB TITLE</th>\n",
       "      <th>LOCATION</th>\n",
       "      <th>SEARCH DATETIME</th>\n",
       "      <th>Current Job Id</th>\n",
       "      <th>Job html</th>\n",
       "      <th>Job name</th>\n",
       "      <th>Company name</th>\n",
       "      <th>Company location</th>\n",
       "      <th>Posted date</th>\n",
       "      <th>Estimated post date</th>\n",
       "      <th>...</th>\n",
       "      <th>Multiple Job Post</th>\n",
       "      <th>Info Language</th>\n",
       "      <th>an coincidences</th>\n",
       "      <th>an coincidences_list</th>\n",
       "      <th>ci coincidences</th>\n",
       "      <th>ci coincidences_list</th>\n",
       "      <th>in coincidences</th>\n",
       "      <th>in coincidences_list</th>\n",
       "      <th>PROFILE coincidences</th>\n",
       "      <th>PROFILE coincidences_list</th>\n",
       "    </tr>\n",
       "  </thead>\n",
       "  <tbody>\n",
       "    <tr>\n",
       "      <th>0</th>\n",
       "      <td>analista datos</td>\n",
       "      <td>Barcelona</td>\n",
       "      <td>2020-04-23 00:40</td>\n",
       "      <td>1712815780</td>\n",
       "      <td>https://www.linkedin.com/jobs/view/1712815780/</td>\n",
       "      <td>Analista Liferay</td>\n",
       "      <td>everis</td>\n",
       "      <td>Barcelona y alrededores, España</td>\n",
       "      <td>1 week</td>\n",
       "      <td>2020-04-16 00:40</td>\n",
       "      <td>...</td>\n",
       "      <td>AD---</td>\n",
       "      <td>es</td>\n",
       "      <td>0</td>\n",
       "      <td>[]</td>\n",
       "      <td>0</td>\n",
       "      <td>[]</td>\n",
       "      <td>1</td>\n",
       "      <td>[java ]</td>\n",
       "      <td>2</td>\n",
       "      <td>[git, r]</td>\n",
       "    </tr>\n",
       "    <tr>\n",
       "      <th>1</th>\n",
       "      <td>analista datos</td>\n",
       "      <td>Barcelona</td>\n",
       "      <td>2020-04-23 00:40</td>\n",
       "      <td>1813681738</td>\n",
       "      <td>https://www.linkedin.com/jobs/view/1813681738/</td>\n",
       "      <td>Analista, programadores/as y manager Salesforce</td>\n",
       "      <td>Experis España</td>\n",
       "      <td>Barcelona, Catalonia, Spain</td>\n",
       "      <td>2 weeks</td>\n",
       "      <td>2020-04-09 00:40</td>\n",
       "      <td>...</td>\n",
       "      <td>AD---</td>\n",
       "      <td>en</td>\n",
       "      <td>1</td>\n",
       "      <td>[business analyst]</td>\n",
       "      <td>1</td>\n",
       "      <td>[business analyst]</td>\n",
       "      <td>0</td>\n",
       "      <td>[]</td>\n",
       "      <td>2</td>\n",
       "      <td>[business analysis, r]</td>\n",
       "    </tr>\n",
       "  </tbody>\n",
       "</table>\n",
       "<p>2 rows × 29 columns</p>\n",
       "</div>"
      ],
      "text/plain": [
       "        JOB TITLE   LOCATION   SEARCH DATETIME  Current Job Id  \\\n",
       "0  analista datos  Barcelona  2020-04-23 00:40      1712815780   \n",
       "1  analista datos  Barcelona  2020-04-23 00:40      1813681738   \n",
       "\n",
       "                                         Job html  \\\n",
       "0  https://www.linkedin.com/jobs/view/1712815780/   \n",
       "1  https://www.linkedin.com/jobs/view/1813681738/   \n",
       "\n",
       "                                          Job name    Company name  \\\n",
       "0                                 Analista Liferay          everis   \n",
       "1  Analista, programadores/as y manager Salesforce  Experis España   \n",
       "\n",
       "                  Company location Posted date Estimated post date  ...  \\\n",
       "0  Barcelona y alrededores, España      1 week    2020-04-16 00:40  ...   \n",
       "1      Barcelona, Catalonia, Spain     2 weeks    2020-04-09 00:40  ...   \n",
       "\n",
       "   Multiple Job Post Info Language an coincidences an coincidences_list  \\\n",
       "0              AD---            es               0                   []   \n",
       "1              AD---            en               1   [business analyst]   \n",
       "\n",
       "  ci coincidences ci coincidences_list in coincidences in coincidences_list  \\\n",
       "0               0                   []               1              [java ]   \n",
       "1               1   [business analyst]               0                   []   \n",
       "\n",
       "  PROFILE coincidences PROFILE coincidences_list  \n",
       "0                    2                  [git, r]  \n",
       "1                    2    [business analysis, r]  \n",
       "\n",
       "[2 rows x 29 columns]"
      ]
     },
     "execution_count": 80,
     "metadata": {},
     "output_type": "execute_result"
    }
   ],
   "source": [
    "df_jobs.head(2)"
   ]
  },
  {
   "cell_type": "markdown",
   "metadata": {},
   "source": [
    "#### checking results >"
   ]
  },
  {
   "cell_type": "code",
   "execution_count": 81,
   "metadata": {},
   "outputs": [],
   "source": [
    "check = 5"
   ]
  },
  {
   "cell_type": "code",
   "execution_count": 82,
   "metadata": {},
   "outputs": [
    {
     "data": {
      "text/plain": [
       "'Innova-tsn: Analista de datos'"
      ]
     },
     "execution_count": 82,
     "metadata": {},
     "output_type": "execute_result"
    }
   ],
   "source": [
    "df_jobs.loc[check ,'Job name']"
   ]
  },
  {
   "cell_type": "code",
   "execution_count": 84,
   "metadata": {},
   "outputs": [
    {
     "ename": "KeyError",
     "evalue": "'ad coincidences'",
     "output_type": "error",
     "traceback": [
      "\u001b[0;31m---------------------------------------------------------------------------\u001b[0m",
      "\u001b[0;31mValueError\u001b[0m                                Traceback (most recent call last)",
      "\u001b[0;32m~/miniconda3/envs/final_project/lib/python3.7/site-packages/pandas/core/indexes/base.py\u001b[0m in \u001b[0;36mget_slice_bound\u001b[0;34m(self, label, side, kind)\u001b[0m\n\u001b[1;32m   4843\u001b[0m             \u001b[0;32mtry\u001b[0m\u001b[0;34m:\u001b[0m\u001b[0;34m\u001b[0m\u001b[0;34m\u001b[0m\u001b[0m\n\u001b[0;32m-> 4844\u001b[0;31m                 \u001b[0;32mreturn\u001b[0m \u001b[0mself\u001b[0m\u001b[0;34m.\u001b[0m\u001b[0m_searchsorted_monotonic\u001b[0m\u001b[0;34m(\u001b[0m\u001b[0mlabel\u001b[0m\u001b[0;34m,\u001b[0m \u001b[0mside\u001b[0m\u001b[0;34m)\u001b[0m\u001b[0;34m\u001b[0m\u001b[0;34m\u001b[0m\u001b[0m\n\u001b[0m\u001b[1;32m   4845\u001b[0m             \u001b[0;32mexcept\u001b[0m \u001b[0mValueError\u001b[0m\u001b[0;34m:\u001b[0m\u001b[0;34m\u001b[0m\u001b[0;34m\u001b[0m\u001b[0m\n",
      "\u001b[0;32m~/miniconda3/envs/final_project/lib/python3.7/site-packages/pandas/core/indexes/base.py\u001b[0m in \u001b[0;36m_searchsorted_monotonic\u001b[0;34m(self, label, side)\u001b[0m\n\u001b[1;32m   4804\u001b[0m \u001b[0;34m\u001b[0m\u001b[0m\n\u001b[0;32m-> 4805\u001b[0;31m         \u001b[0;32mraise\u001b[0m \u001b[0mValueError\u001b[0m\u001b[0;34m(\u001b[0m\u001b[0;34m\"index must be monotonic increasing or decreasing\"\u001b[0m\u001b[0;34m)\u001b[0m\u001b[0;34m\u001b[0m\u001b[0;34m\u001b[0m\u001b[0m\n\u001b[0m\u001b[1;32m   4806\u001b[0m \u001b[0;34m\u001b[0m\u001b[0m\n",
      "\u001b[0;31mValueError\u001b[0m: index must be monotonic increasing or decreasing",
      "\nDuring handling of the above exception, another exception occurred:\n",
      "\u001b[0;31mKeyError\u001b[0m                                  Traceback (most recent call last)",
      "\u001b[0;32m<ipython-input-84-0a3f937ba0ed>\u001b[0m in \u001b[0;36m<module>\u001b[0;34m\u001b[0m\n\u001b[0;32m----> 1\u001b[0;31m \u001b[0mdict\u001b[0m\u001b[0;34m(\u001b[0m\u001b[0mdf_jobs\u001b[0m\u001b[0;34m.\u001b[0m\u001b[0mloc\u001b[0m\u001b[0;34m[\u001b[0m\u001b[0mcheck\u001b[0m \u001b[0;34m,\u001b[0m\u001b[0;34m'ad coincidences'\u001b[0m\u001b[0;34m:\u001b[0m\u001b[0;34m'PROFILE coincidences_list'\u001b[0m\u001b[0;34m]\u001b[0m\u001b[0;34m)\u001b[0m\u001b[0;34m\u001b[0m\u001b[0;34m\u001b[0m\u001b[0m\n\u001b[0m",
      "\u001b[0;32m~/miniconda3/envs/final_project/lib/python3.7/site-packages/pandas/core/indexing.py\u001b[0m in \u001b[0;36m__getitem__\u001b[0;34m(self, key)\u001b[0m\n\u001b[1;32m   1760\u001b[0m                 \u001b[0;32mexcept\u001b[0m \u001b[0;34m(\u001b[0m\u001b[0mKeyError\u001b[0m\u001b[0;34m,\u001b[0m \u001b[0mIndexError\u001b[0m\u001b[0;34m,\u001b[0m \u001b[0mAttributeError\u001b[0m\u001b[0;34m)\u001b[0m\u001b[0;34m:\u001b[0m\u001b[0;34m\u001b[0m\u001b[0;34m\u001b[0m\u001b[0m\n\u001b[1;32m   1761\u001b[0m                     \u001b[0;32mpass\u001b[0m\u001b[0;34m\u001b[0m\u001b[0;34m\u001b[0m\u001b[0m\n\u001b[0;32m-> 1762\u001b[0;31m             \u001b[0;32mreturn\u001b[0m \u001b[0mself\u001b[0m\u001b[0;34m.\u001b[0m\u001b[0m_getitem_tuple\u001b[0m\u001b[0;34m(\u001b[0m\u001b[0mkey\u001b[0m\u001b[0;34m)\u001b[0m\u001b[0;34m\u001b[0m\u001b[0;34m\u001b[0m\u001b[0m\n\u001b[0m\u001b[1;32m   1763\u001b[0m         \u001b[0;32melse\u001b[0m\u001b[0;34m:\u001b[0m\u001b[0;34m\u001b[0m\u001b[0;34m\u001b[0m\u001b[0m\n\u001b[1;32m   1764\u001b[0m             \u001b[0;31m# we by definition only have the 0th axis\u001b[0m\u001b[0;34m\u001b[0m\u001b[0;34m\u001b[0m\u001b[0;34m\u001b[0m\u001b[0m\n",
      "\u001b[0;32m~/miniconda3/envs/final_project/lib/python3.7/site-packages/pandas/core/indexing.py\u001b[0m in \u001b[0;36m_getitem_tuple\u001b[0;34m(self, tup)\u001b[0m\n\u001b[1;32m   1270\u001b[0m     \u001b[0;32mdef\u001b[0m \u001b[0m_getitem_tuple\u001b[0m\u001b[0;34m(\u001b[0m\u001b[0mself\u001b[0m\u001b[0;34m,\u001b[0m \u001b[0mtup\u001b[0m\u001b[0;34m:\u001b[0m \u001b[0mTuple\u001b[0m\u001b[0;34m)\u001b[0m\u001b[0;34m:\u001b[0m\u001b[0;34m\u001b[0m\u001b[0;34m\u001b[0m\u001b[0m\n\u001b[1;32m   1271\u001b[0m         \u001b[0;32mtry\u001b[0m\u001b[0;34m:\u001b[0m\u001b[0;34m\u001b[0m\u001b[0;34m\u001b[0m\u001b[0m\n\u001b[0;32m-> 1272\u001b[0;31m             \u001b[0;32mreturn\u001b[0m \u001b[0mself\u001b[0m\u001b[0;34m.\u001b[0m\u001b[0m_getitem_lowerdim\u001b[0m\u001b[0;34m(\u001b[0m\u001b[0mtup\u001b[0m\u001b[0;34m)\u001b[0m\u001b[0;34m\u001b[0m\u001b[0;34m\u001b[0m\u001b[0m\n\u001b[0m\u001b[1;32m   1273\u001b[0m         \u001b[0;32mexcept\u001b[0m \u001b[0mIndexingError\u001b[0m\u001b[0;34m:\u001b[0m\u001b[0;34m\u001b[0m\u001b[0;34m\u001b[0m\u001b[0m\n\u001b[1;32m   1274\u001b[0m             \u001b[0;32mpass\u001b[0m\u001b[0;34m\u001b[0m\u001b[0;34m\u001b[0m\u001b[0m\n",
      "\u001b[0;32m~/miniconda3/envs/final_project/lib/python3.7/site-packages/pandas/core/indexing.py\u001b[0m in \u001b[0;36m_getitem_lowerdim\u001b[0;34m(self, tup)\u001b[0m\n\u001b[1;32m   1419\u001b[0m                     \u001b[0;32mreturn\u001b[0m \u001b[0msection\u001b[0m\u001b[0;34m\u001b[0m\u001b[0;34m\u001b[0m\u001b[0m\n\u001b[1;32m   1420\u001b[0m                 \u001b[0;31m# This is an elided recursive call to iloc/loc/etc'\u001b[0m\u001b[0;34m\u001b[0m\u001b[0;34m\u001b[0m\u001b[0;34m\u001b[0m\u001b[0m\n\u001b[0;32m-> 1421\u001b[0;31m                 \u001b[0;32mreturn\u001b[0m \u001b[0mgetattr\u001b[0m\u001b[0;34m(\u001b[0m\u001b[0msection\u001b[0m\u001b[0;34m,\u001b[0m \u001b[0mself\u001b[0m\u001b[0;34m.\u001b[0m\u001b[0mname\u001b[0m\u001b[0;34m)\u001b[0m\u001b[0;34m[\u001b[0m\u001b[0mnew_key\u001b[0m\u001b[0;34m]\u001b[0m\u001b[0;34m\u001b[0m\u001b[0;34m\u001b[0m\u001b[0m\n\u001b[0m\u001b[1;32m   1422\u001b[0m \u001b[0;34m\u001b[0m\u001b[0m\n\u001b[1;32m   1423\u001b[0m         \u001b[0;32mraise\u001b[0m \u001b[0mIndexingError\u001b[0m\u001b[0;34m(\u001b[0m\u001b[0;34m\"not applicable\"\u001b[0m\u001b[0;34m)\u001b[0m\u001b[0;34m\u001b[0m\u001b[0;34m\u001b[0m\u001b[0m\n",
      "\u001b[0;32m~/miniconda3/envs/final_project/lib/python3.7/site-packages/pandas/core/indexing.py\u001b[0m in \u001b[0;36m__getitem__\u001b[0;34m(self, key)\u001b[0m\n\u001b[1;32m   1766\u001b[0m \u001b[0;34m\u001b[0m\u001b[0m\n\u001b[1;32m   1767\u001b[0m             \u001b[0mmaybe_callable\u001b[0m \u001b[0;34m=\u001b[0m \u001b[0mcom\u001b[0m\u001b[0;34m.\u001b[0m\u001b[0mapply_if_callable\u001b[0m\u001b[0;34m(\u001b[0m\u001b[0mkey\u001b[0m\u001b[0;34m,\u001b[0m \u001b[0mself\u001b[0m\u001b[0;34m.\u001b[0m\u001b[0mobj\u001b[0m\u001b[0;34m)\u001b[0m\u001b[0;34m\u001b[0m\u001b[0;34m\u001b[0m\u001b[0m\n\u001b[0;32m-> 1768\u001b[0;31m             \u001b[0;32mreturn\u001b[0m \u001b[0mself\u001b[0m\u001b[0;34m.\u001b[0m\u001b[0m_getitem_axis\u001b[0m\u001b[0;34m(\u001b[0m\u001b[0mmaybe_callable\u001b[0m\u001b[0;34m,\u001b[0m \u001b[0maxis\u001b[0m\u001b[0;34m=\u001b[0m\u001b[0maxis\u001b[0m\u001b[0;34m)\u001b[0m\u001b[0;34m\u001b[0m\u001b[0;34m\u001b[0m\u001b[0m\n\u001b[0m\u001b[1;32m   1769\u001b[0m \u001b[0;34m\u001b[0m\u001b[0m\n\u001b[1;32m   1770\u001b[0m     \u001b[0;32mdef\u001b[0m \u001b[0m_is_scalar_access\u001b[0m\u001b[0;34m(\u001b[0m\u001b[0mself\u001b[0m\u001b[0;34m,\u001b[0m \u001b[0mkey\u001b[0m\u001b[0;34m:\u001b[0m \u001b[0mTuple\u001b[0m\u001b[0;34m)\u001b[0m\u001b[0;34m:\u001b[0m\u001b[0;34m\u001b[0m\u001b[0;34m\u001b[0m\u001b[0m\n",
      "\u001b[0;32m~/miniconda3/envs/final_project/lib/python3.7/site-packages/pandas/core/indexing.py\u001b[0m in \u001b[0;36m_getitem_axis\u001b[0;34m(self, key, axis)\u001b[0m\n\u001b[1;32m   1910\u001b[0m         \u001b[0;32mif\u001b[0m \u001b[0misinstance\u001b[0m\u001b[0;34m(\u001b[0m\u001b[0mkey\u001b[0m\u001b[0;34m,\u001b[0m \u001b[0mslice\u001b[0m\u001b[0;34m)\u001b[0m\u001b[0;34m:\u001b[0m\u001b[0;34m\u001b[0m\u001b[0;34m\u001b[0m\u001b[0m\n\u001b[1;32m   1911\u001b[0m             \u001b[0mself\u001b[0m\u001b[0;34m.\u001b[0m\u001b[0m_validate_key\u001b[0m\u001b[0;34m(\u001b[0m\u001b[0mkey\u001b[0m\u001b[0;34m,\u001b[0m \u001b[0maxis\u001b[0m\u001b[0;34m)\u001b[0m\u001b[0;34m\u001b[0m\u001b[0;34m\u001b[0m\u001b[0m\n\u001b[0;32m-> 1912\u001b[0;31m             \u001b[0;32mreturn\u001b[0m \u001b[0mself\u001b[0m\u001b[0;34m.\u001b[0m\u001b[0m_get_slice_axis\u001b[0m\u001b[0;34m(\u001b[0m\u001b[0mkey\u001b[0m\u001b[0;34m,\u001b[0m \u001b[0maxis\u001b[0m\u001b[0;34m=\u001b[0m\u001b[0maxis\u001b[0m\u001b[0;34m)\u001b[0m\u001b[0;34m\u001b[0m\u001b[0;34m\u001b[0m\u001b[0m\n\u001b[0m\u001b[1;32m   1913\u001b[0m         \u001b[0;32melif\u001b[0m \u001b[0mcom\u001b[0m\u001b[0;34m.\u001b[0m\u001b[0mis_bool_indexer\u001b[0m\u001b[0;34m(\u001b[0m\u001b[0mkey\u001b[0m\u001b[0;34m)\u001b[0m\u001b[0;34m:\u001b[0m\u001b[0;34m\u001b[0m\u001b[0;34m\u001b[0m\u001b[0m\n\u001b[1;32m   1914\u001b[0m             \u001b[0;32mreturn\u001b[0m \u001b[0mself\u001b[0m\u001b[0;34m.\u001b[0m\u001b[0m_getbool_axis\u001b[0m\u001b[0;34m(\u001b[0m\u001b[0mkey\u001b[0m\u001b[0;34m,\u001b[0m \u001b[0maxis\u001b[0m\u001b[0;34m=\u001b[0m\u001b[0maxis\u001b[0m\u001b[0;34m)\u001b[0m\u001b[0;34m\u001b[0m\u001b[0;34m\u001b[0m\u001b[0m\n",
      "\u001b[0;32m~/miniconda3/envs/final_project/lib/python3.7/site-packages/pandas/core/indexing.py\u001b[0m in \u001b[0;36m_get_slice_axis\u001b[0;34m(self, slice_obj, axis)\u001b[0m\n\u001b[1;32m   1795\u001b[0m         \u001b[0mlabels\u001b[0m \u001b[0;34m=\u001b[0m \u001b[0mobj\u001b[0m\u001b[0;34m.\u001b[0m\u001b[0m_get_axis\u001b[0m\u001b[0;34m(\u001b[0m\u001b[0maxis\u001b[0m\u001b[0;34m)\u001b[0m\u001b[0;34m\u001b[0m\u001b[0;34m\u001b[0m\u001b[0m\n\u001b[1;32m   1796\u001b[0m         indexer = labels.slice_indexer(\n\u001b[0;32m-> 1797\u001b[0;31m             \u001b[0mslice_obj\u001b[0m\u001b[0;34m.\u001b[0m\u001b[0mstart\u001b[0m\u001b[0;34m,\u001b[0m \u001b[0mslice_obj\u001b[0m\u001b[0;34m.\u001b[0m\u001b[0mstop\u001b[0m\u001b[0;34m,\u001b[0m \u001b[0mslice_obj\u001b[0m\u001b[0;34m.\u001b[0m\u001b[0mstep\u001b[0m\u001b[0;34m,\u001b[0m \u001b[0mkind\u001b[0m\u001b[0;34m=\u001b[0m\u001b[0mself\u001b[0m\u001b[0;34m.\u001b[0m\u001b[0mname\u001b[0m\u001b[0;34m\u001b[0m\u001b[0;34m\u001b[0m\u001b[0m\n\u001b[0m\u001b[1;32m   1798\u001b[0m         )\n\u001b[1;32m   1799\u001b[0m \u001b[0;34m\u001b[0m\u001b[0m\n",
      "\u001b[0;32m~/miniconda3/envs/final_project/lib/python3.7/site-packages/pandas/core/indexes/base.py\u001b[0m in \u001b[0;36mslice_indexer\u001b[0;34m(self, start, end, step, kind)\u001b[0m\n\u001b[1;32m   4710\u001b[0m         \u001b[0mslice\u001b[0m\u001b[0;34m(\u001b[0m\u001b[0;36m1\u001b[0m\u001b[0;34m,\u001b[0m \u001b[0;36m3\u001b[0m\u001b[0;34m)\u001b[0m\u001b[0;34m\u001b[0m\u001b[0;34m\u001b[0m\u001b[0m\n\u001b[1;32m   4711\u001b[0m         \"\"\"\n\u001b[0;32m-> 4712\u001b[0;31m         \u001b[0mstart_slice\u001b[0m\u001b[0;34m,\u001b[0m \u001b[0mend_slice\u001b[0m \u001b[0;34m=\u001b[0m \u001b[0mself\u001b[0m\u001b[0;34m.\u001b[0m\u001b[0mslice_locs\u001b[0m\u001b[0;34m(\u001b[0m\u001b[0mstart\u001b[0m\u001b[0;34m,\u001b[0m \u001b[0mend\u001b[0m\u001b[0;34m,\u001b[0m \u001b[0mstep\u001b[0m\u001b[0;34m=\u001b[0m\u001b[0mstep\u001b[0m\u001b[0;34m,\u001b[0m \u001b[0mkind\u001b[0m\u001b[0;34m=\u001b[0m\u001b[0mkind\u001b[0m\u001b[0;34m)\u001b[0m\u001b[0;34m\u001b[0m\u001b[0;34m\u001b[0m\u001b[0m\n\u001b[0m\u001b[1;32m   4713\u001b[0m \u001b[0;34m\u001b[0m\u001b[0m\n\u001b[1;32m   4714\u001b[0m         \u001b[0;31m# return a slice\u001b[0m\u001b[0;34m\u001b[0m\u001b[0;34m\u001b[0m\u001b[0;34m\u001b[0m\u001b[0m\n",
      "\u001b[0;32m~/miniconda3/envs/final_project/lib/python3.7/site-packages/pandas/core/indexes/base.py\u001b[0m in \u001b[0;36mslice_locs\u001b[0;34m(self, start, end, step, kind)\u001b[0m\n\u001b[1;32m   4923\u001b[0m         \u001b[0mstart_slice\u001b[0m \u001b[0;34m=\u001b[0m \u001b[0;32mNone\u001b[0m\u001b[0;34m\u001b[0m\u001b[0;34m\u001b[0m\u001b[0m\n\u001b[1;32m   4924\u001b[0m         \u001b[0;32mif\u001b[0m \u001b[0mstart\u001b[0m \u001b[0;32mis\u001b[0m \u001b[0;32mnot\u001b[0m \u001b[0;32mNone\u001b[0m\u001b[0;34m:\u001b[0m\u001b[0;34m\u001b[0m\u001b[0;34m\u001b[0m\u001b[0m\n\u001b[0;32m-> 4925\u001b[0;31m             \u001b[0mstart_slice\u001b[0m \u001b[0;34m=\u001b[0m \u001b[0mself\u001b[0m\u001b[0;34m.\u001b[0m\u001b[0mget_slice_bound\u001b[0m\u001b[0;34m(\u001b[0m\u001b[0mstart\u001b[0m\u001b[0;34m,\u001b[0m \u001b[0;34m\"left\"\u001b[0m\u001b[0;34m,\u001b[0m \u001b[0mkind\u001b[0m\u001b[0;34m)\u001b[0m\u001b[0;34m\u001b[0m\u001b[0;34m\u001b[0m\u001b[0m\n\u001b[0m\u001b[1;32m   4926\u001b[0m         \u001b[0;32mif\u001b[0m \u001b[0mstart_slice\u001b[0m \u001b[0;32mis\u001b[0m \u001b[0;32mNone\u001b[0m\u001b[0;34m:\u001b[0m\u001b[0;34m\u001b[0m\u001b[0;34m\u001b[0m\u001b[0m\n\u001b[1;32m   4927\u001b[0m             \u001b[0mstart_slice\u001b[0m \u001b[0;34m=\u001b[0m \u001b[0;36m0\u001b[0m\u001b[0;34m\u001b[0m\u001b[0;34m\u001b[0m\u001b[0m\n",
      "\u001b[0;32m~/miniconda3/envs/final_project/lib/python3.7/site-packages/pandas/core/indexes/base.py\u001b[0m in \u001b[0;36mget_slice_bound\u001b[0;34m(self, label, side, kind)\u001b[0m\n\u001b[1;32m   4845\u001b[0m             \u001b[0;32mexcept\u001b[0m \u001b[0mValueError\u001b[0m\u001b[0;34m:\u001b[0m\u001b[0;34m\u001b[0m\u001b[0;34m\u001b[0m\u001b[0m\n\u001b[1;32m   4846\u001b[0m                 \u001b[0;31m# raise the original KeyError\u001b[0m\u001b[0;34m\u001b[0m\u001b[0;34m\u001b[0m\u001b[0;34m\u001b[0m\u001b[0m\n\u001b[0;32m-> 4847\u001b[0;31m                 \u001b[0;32mraise\u001b[0m \u001b[0merr\u001b[0m\u001b[0;34m\u001b[0m\u001b[0;34m\u001b[0m\u001b[0m\n\u001b[0m\u001b[1;32m   4848\u001b[0m \u001b[0;34m\u001b[0m\u001b[0m\n\u001b[1;32m   4849\u001b[0m         \u001b[0;32mif\u001b[0m \u001b[0misinstance\u001b[0m\u001b[0;34m(\u001b[0m\u001b[0mslc\u001b[0m\u001b[0;34m,\u001b[0m \u001b[0mnp\u001b[0m\u001b[0;34m.\u001b[0m\u001b[0mndarray\u001b[0m\u001b[0;34m)\u001b[0m\u001b[0;34m:\u001b[0m\u001b[0;34m\u001b[0m\u001b[0;34m\u001b[0m\u001b[0m\n",
      "\u001b[0;32m~/miniconda3/envs/final_project/lib/python3.7/site-packages/pandas/core/indexes/base.py\u001b[0m in \u001b[0;36mget_slice_bound\u001b[0;34m(self, label, side, kind)\u001b[0m\n\u001b[1;32m   4839\u001b[0m         \u001b[0;31m# we need to look up the label\u001b[0m\u001b[0;34m\u001b[0m\u001b[0;34m\u001b[0m\u001b[0;34m\u001b[0m\u001b[0m\n\u001b[1;32m   4840\u001b[0m         \u001b[0;32mtry\u001b[0m\u001b[0;34m:\u001b[0m\u001b[0;34m\u001b[0m\u001b[0;34m\u001b[0m\u001b[0m\n\u001b[0;32m-> 4841\u001b[0;31m             \u001b[0mslc\u001b[0m \u001b[0;34m=\u001b[0m \u001b[0mself\u001b[0m\u001b[0;34m.\u001b[0m\u001b[0mget_loc\u001b[0m\u001b[0;34m(\u001b[0m\u001b[0mlabel\u001b[0m\u001b[0;34m)\u001b[0m\u001b[0;34m\u001b[0m\u001b[0;34m\u001b[0m\u001b[0m\n\u001b[0m\u001b[1;32m   4842\u001b[0m         \u001b[0;32mexcept\u001b[0m \u001b[0mKeyError\u001b[0m \u001b[0;32mas\u001b[0m \u001b[0merr\u001b[0m\u001b[0;34m:\u001b[0m\u001b[0;34m\u001b[0m\u001b[0;34m\u001b[0m\u001b[0m\n\u001b[1;32m   4843\u001b[0m             \u001b[0;32mtry\u001b[0m\u001b[0;34m:\u001b[0m\u001b[0;34m\u001b[0m\u001b[0;34m\u001b[0m\u001b[0m\n",
      "\u001b[0;32m~/miniconda3/envs/final_project/lib/python3.7/site-packages/pandas/core/indexes/base.py\u001b[0m in \u001b[0;36mget_loc\u001b[0;34m(self, key, method, tolerance)\u001b[0m\n\u001b[1;32m   2646\u001b[0m                 \u001b[0;32mreturn\u001b[0m \u001b[0mself\u001b[0m\u001b[0;34m.\u001b[0m\u001b[0m_engine\u001b[0m\u001b[0;34m.\u001b[0m\u001b[0mget_loc\u001b[0m\u001b[0;34m(\u001b[0m\u001b[0mkey\u001b[0m\u001b[0;34m)\u001b[0m\u001b[0;34m\u001b[0m\u001b[0;34m\u001b[0m\u001b[0m\n\u001b[1;32m   2647\u001b[0m             \u001b[0;32mexcept\u001b[0m \u001b[0mKeyError\u001b[0m\u001b[0;34m:\u001b[0m\u001b[0;34m\u001b[0m\u001b[0;34m\u001b[0m\u001b[0m\n\u001b[0;32m-> 2648\u001b[0;31m                 \u001b[0;32mreturn\u001b[0m \u001b[0mself\u001b[0m\u001b[0;34m.\u001b[0m\u001b[0m_engine\u001b[0m\u001b[0;34m.\u001b[0m\u001b[0mget_loc\u001b[0m\u001b[0;34m(\u001b[0m\u001b[0mself\u001b[0m\u001b[0;34m.\u001b[0m\u001b[0m_maybe_cast_indexer\u001b[0m\u001b[0;34m(\u001b[0m\u001b[0mkey\u001b[0m\u001b[0;34m)\u001b[0m\u001b[0;34m)\u001b[0m\u001b[0;34m\u001b[0m\u001b[0;34m\u001b[0m\u001b[0m\n\u001b[0m\u001b[1;32m   2649\u001b[0m         \u001b[0mindexer\u001b[0m \u001b[0;34m=\u001b[0m \u001b[0mself\u001b[0m\u001b[0;34m.\u001b[0m\u001b[0mget_indexer\u001b[0m\u001b[0;34m(\u001b[0m\u001b[0;34m[\u001b[0m\u001b[0mkey\u001b[0m\u001b[0;34m]\u001b[0m\u001b[0;34m,\u001b[0m \u001b[0mmethod\u001b[0m\u001b[0;34m=\u001b[0m\u001b[0mmethod\u001b[0m\u001b[0;34m,\u001b[0m \u001b[0mtolerance\u001b[0m\u001b[0;34m=\u001b[0m\u001b[0mtolerance\u001b[0m\u001b[0;34m)\u001b[0m\u001b[0;34m\u001b[0m\u001b[0;34m\u001b[0m\u001b[0m\n\u001b[1;32m   2650\u001b[0m         \u001b[0;32mif\u001b[0m \u001b[0mindexer\u001b[0m\u001b[0;34m.\u001b[0m\u001b[0mndim\u001b[0m \u001b[0;34m>\u001b[0m \u001b[0;36m1\u001b[0m \u001b[0;32mor\u001b[0m \u001b[0mindexer\u001b[0m\u001b[0;34m.\u001b[0m\u001b[0msize\u001b[0m \u001b[0;34m>\u001b[0m \u001b[0;36m1\u001b[0m\u001b[0;34m:\u001b[0m\u001b[0;34m\u001b[0m\u001b[0;34m\u001b[0m\u001b[0m\n",
      "\u001b[0;32mpandas/_libs/index.pyx\u001b[0m in \u001b[0;36mpandas._libs.index.IndexEngine.get_loc\u001b[0;34m()\u001b[0m\n",
      "\u001b[0;32mpandas/_libs/index.pyx\u001b[0m in \u001b[0;36mpandas._libs.index.IndexEngine.get_loc\u001b[0;34m()\u001b[0m\n",
      "\u001b[0;32mpandas/_libs/hashtable_class_helper.pxi\u001b[0m in \u001b[0;36mpandas._libs.hashtable.PyObjectHashTable.get_item\u001b[0;34m()\u001b[0m\n",
      "\u001b[0;32mpandas/_libs/hashtable_class_helper.pxi\u001b[0m in \u001b[0;36mpandas._libs.hashtable.PyObjectHashTable.get_item\u001b[0;34m()\u001b[0m\n",
      "\u001b[0;31mKeyError\u001b[0m: 'ad coincidences'"
     ]
    }
   ],
   "source": [
    "dict(df_jobs.loc[check ,'ad coincidences':'PROFILE coincidences_list'])"
   ]
  },
  {
   "cell_type": "code",
   "execution_count": null,
   "metadata": {},
   "outputs": [],
   "source": [
    "clean_text(df_jobs.loc[check ,'Job Description'])"
   ]
  },
  {
   "cell_type": "markdown",
   "metadata": {},
   "source": [
    "### TOP JOB POST >"
   ]
  },
  {
   "cell_type": "code",
   "execution_count": 85,
   "metadata": {},
   "outputs": [],
   "source": [
    "top = 5"
   ]
  },
  {
   "cell_type": "code",
   "execution_count": 86,
   "metadata": {},
   "outputs": [
    {
     "data": {
      "text/html": [
       "<div>\n",
       "<style scoped>\n",
       "    .dataframe tbody tr th:only-of-type {\n",
       "        vertical-align: middle;\n",
       "    }\n",
       "\n",
       "    .dataframe tbody tr th {\n",
       "        vertical-align: top;\n",
       "    }\n",
       "\n",
       "    .dataframe thead th {\n",
       "        text-align: right;\n",
       "    }\n",
       "</style>\n",
       "<table border=\"1\" class=\"dataframe\">\n",
       "  <thead>\n",
       "    <tr style=\"text-align: right;\">\n",
       "      <th></th>\n",
       "      <th>JOB TITLE</th>\n",
       "      <th>Job name</th>\n",
       "      <th>Company name</th>\n",
       "      <th>Company location</th>\n",
       "      <th>Posted date</th>\n",
       "      <th>Employment Type</th>\n",
       "      <th>Job html</th>\n",
       "      <th>Multiple Job Post</th>\n",
       "    </tr>\n",
       "  </thead>\n",
       "  <tbody>\n",
       "    <tr>\n",
       "      <th>95</th>\n",
       "      <td>ingeniero datos</td>\n",
       "      <td>Data Scientist Internship</td>\n",
       "      <td>Entravision</td>\n",
       "      <td>Barcelona, ES</td>\n",
       "      <td>3 days</td>\n",
       "      <td>Internship</td>\n",
       "      <td>https://www.linkedin.com/jobs/view/1832936591/</td>\n",
       "      <td>--ID-</td>\n",
       "    </tr>\n",
       "    <tr>\n",
       "      <th>83</th>\n",
       "      <td>ingeniero datos</td>\n",
       "      <td>Data Scientist (JVBS)</td>\n",
       "      <td>Zurich Insurance Company Ltd</td>\n",
       "      <td>Barcelona, ES</td>\n",
       "      <td>1 week</td>\n",
       "      <td>Full-time</td>\n",
       "      <td>https://www.linkedin.com/jobs/view/1776734400/</td>\n",
       "      <td>--ID-</td>\n",
       "    </tr>\n",
       "    <tr>\n",
       "      <th>10</th>\n",
       "      <td>analista datos</td>\n",
       "      <td>Senior Data Analyst - Barcelona</td>\n",
       "      <td>Flight Centre Travel Group</td>\n",
       "      <td>Barcelona, ES</td>\n",
       "      <td>3 months</td>\n",
       "      <td>Contract</td>\n",
       "      <td>https://www.linkedin.com/jobs/view/1704442844/</td>\n",
       "      <td>AD---</td>\n",
       "    </tr>\n",
       "    <tr>\n",
       "      <th>40</th>\n",
       "      <td>analista datos</td>\n",
       "      <td>Senior Data Analyst</td>\n",
       "      <td>Fcm</td>\n",
       "      <td>Barcelona, ES</td>\n",
       "      <td>3 weeks</td>\n",
       "      <td>Contract</td>\n",
       "      <td>https://www.linkedin.com/jobs/view/1830200694/</td>\n",
       "      <td>AD---</td>\n",
       "    </tr>\n",
       "    <tr>\n",
       "      <th>82</th>\n",
       "      <td>ingeniero datos</td>\n",
       "      <td>Data Scientist (JVBS)</td>\n",
       "      <td>Zurich</td>\n",
       "      <td>Barcelona, ES</td>\n",
       "      <td>1 month</td>\n",
       "      <td>Full-time</td>\n",
       "      <td>https://www.linkedin.com/jobs/view/1779904136/</td>\n",
       "      <td>--ID-</td>\n",
       "    </tr>\n",
       "  </tbody>\n",
       "</table>\n",
       "</div>"
      ],
      "text/plain": [
       "          JOB TITLE                         Job name  \\\n",
       "95  ingeniero datos        Data Scientist Internship   \n",
       "83  ingeniero datos            Data Scientist (JVBS)   \n",
       "10   analista datos  Senior Data Analyst - Barcelona   \n",
       "40   analista datos              Senior Data Analyst   \n",
       "82  ingeniero datos            Data Scientist (JVBS)   \n",
       "\n",
       "                    Company name Company location Posted date Employment Type  \\\n",
       "95                   Entravision    Barcelona, ES      3 days      Internship   \n",
       "83  Zurich Insurance Company Ltd    Barcelona, ES      1 week       Full-time   \n",
       "10    Flight Centre Travel Group    Barcelona, ES    3 months        Contract   \n",
       "40                           Fcm    Barcelona, ES     3 weeks        Contract   \n",
       "82                        Zurich    Barcelona, ES     1 month       Full-time   \n",
       "\n",
       "                                          Job html Multiple Job Post  \n",
       "95  https://www.linkedin.com/jobs/view/1832936591/             --ID-  \n",
       "83  https://www.linkedin.com/jobs/view/1776734400/             --ID-  \n",
       "10  https://www.linkedin.com/jobs/view/1704442844/             AD---  \n",
       "40  https://www.linkedin.com/jobs/view/1830200694/             AD---  \n",
       "82  https://www.linkedin.com/jobs/view/1779904136/             --ID-  "
      ]
     },
     "execution_count": 86,
     "metadata": {},
     "output_type": "execute_result"
    }
   ],
   "source": [
    "df_top_jobs = df_jobs\\\n",
    ".drop_duplicates(subset='Current Job Id', keep='first')\\\n",
    ".sort_values(by=['PROFILE coincidences'], ascending=False).head(top)\\\n",
    "[['JOB TITLE', 'Job name','Company name','Company location','Posted date','Employment Type',\n",
    "  'Job html','Multiple Job Post']]\n",
    "df_top_jobs"
   ]
  },
  {
   "cell_type": "code",
   "execution_count": 87,
   "metadata": {},
   "outputs": [],
   "source": [
    "df_top_jobs['Job html'] = df_top_jobs['Job html'].apply(lambda x: f'<a href={x}>link</a>')"
   ]
  },
  {
   "cell_type": "code",
   "execution_count": 88,
   "metadata": {},
   "outputs": [
    {
     "data": {
      "text/html": [
       "<div>\n",
       "<style scoped>\n",
       "    .dataframe tbody tr th:only-of-type {\n",
       "        vertical-align: middle;\n",
       "    }\n",
       "\n",
       "    .dataframe tbody tr th {\n",
       "        vertical-align: top;\n",
       "    }\n",
       "\n",
       "    .dataframe thead th {\n",
       "        text-align: right;\n",
       "    }\n",
       "</style>\n",
       "<table border=\"1\" class=\"dataframe\">\n",
       "  <thead>\n",
       "    <tr style=\"text-align: right;\">\n",
       "      <th></th>\n",
       "      <th>JOB TITLE</th>\n",
       "      <th>Job name</th>\n",
       "      <th>Company name</th>\n",
       "      <th>Company location</th>\n",
       "      <th>Posted date</th>\n",
       "      <th>Employment Type</th>\n",
       "      <th>Job html</th>\n",
       "      <th>Multiple Job Post</th>\n",
       "    </tr>\n",
       "  </thead>\n",
       "  <tbody>\n",
       "    <tr>\n",
       "      <th>95</th>\n",
       "      <td>ingeniero datos</td>\n",
       "      <td>Data Scientist Internship</td>\n",
       "      <td>Entravision</td>\n",
       "      <td>Barcelona, ES</td>\n",
       "      <td>3 days</td>\n",
       "      <td>Internship</td>\n",
       "      <td>&lt;a href=https://www.linkedin.com/jobs/view/183...</td>\n",
       "      <td>--ID-</td>\n",
       "    </tr>\n",
       "    <tr>\n",
       "      <th>83</th>\n",
       "      <td>ingeniero datos</td>\n",
       "      <td>Data Scientist (JVBS)</td>\n",
       "      <td>Zurich Insurance Company Ltd</td>\n",
       "      <td>Barcelona, ES</td>\n",
       "      <td>1 week</td>\n",
       "      <td>Full-time</td>\n",
       "      <td>&lt;a href=https://www.linkedin.com/jobs/view/177...</td>\n",
       "      <td>--ID-</td>\n",
       "    </tr>\n",
       "    <tr>\n",
       "      <th>10</th>\n",
       "      <td>analista datos</td>\n",
       "      <td>Senior Data Analyst - Barcelona</td>\n",
       "      <td>Flight Centre Travel Group</td>\n",
       "      <td>Barcelona, ES</td>\n",
       "      <td>3 months</td>\n",
       "      <td>Contract</td>\n",
       "      <td>&lt;a href=https://www.linkedin.com/jobs/view/170...</td>\n",
       "      <td>AD---</td>\n",
       "    </tr>\n",
       "    <tr>\n",
       "      <th>40</th>\n",
       "      <td>analista datos</td>\n",
       "      <td>Senior Data Analyst</td>\n",
       "      <td>Fcm</td>\n",
       "      <td>Barcelona, ES</td>\n",
       "      <td>3 weeks</td>\n",
       "      <td>Contract</td>\n",
       "      <td>&lt;a href=https://www.linkedin.com/jobs/view/183...</td>\n",
       "      <td>AD---</td>\n",
       "    </tr>\n",
       "    <tr>\n",
       "      <th>82</th>\n",
       "      <td>ingeniero datos</td>\n",
       "      <td>Data Scientist (JVBS)</td>\n",
       "      <td>Zurich</td>\n",
       "      <td>Barcelona, ES</td>\n",
       "      <td>1 month</td>\n",
       "      <td>Full-time</td>\n",
       "      <td>&lt;a href=https://www.linkedin.com/jobs/view/177...</td>\n",
       "      <td>--ID-</td>\n",
       "    </tr>\n",
       "  </tbody>\n",
       "</table>\n",
       "</div>"
      ],
      "text/plain": [
       "          JOB TITLE                         Job name  \\\n",
       "95  ingeniero datos        Data Scientist Internship   \n",
       "83  ingeniero datos            Data Scientist (JVBS)   \n",
       "10   analista datos  Senior Data Analyst - Barcelona   \n",
       "40   analista datos              Senior Data Analyst   \n",
       "82  ingeniero datos            Data Scientist (JVBS)   \n",
       "\n",
       "                    Company name Company location Posted date Employment Type  \\\n",
       "95                   Entravision    Barcelona, ES      3 days      Internship   \n",
       "83  Zurich Insurance Company Ltd    Barcelona, ES      1 week       Full-time   \n",
       "10    Flight Centre Travel Group    Barcelona, ES    3 months        Contract   \n",
       "40                           Fcm    Barcelona, ES     3 weeks        Contract   \n",
       "82                        Zurich    Barcelona, ES     1 month       Full-time   \n",
       "\n",
       "                                             Job html Multiple Job Post  \n",
       "95  <a href=https://www.linkedin.com/jobs/view/183...             --ID-  \n",
       "83  <a href=https://www.linkedin.com/jobs/view/177...             --ID-  \n",
       "10  <a href=https://www.linkedin.com/jobs/view/170...             AD---  \n",
       "40  <a href=https://www.linkedin.com/jobs/view/183...             AD---  \n",
       "82  <a href=https://www.linkedin.com/jobs/view/177...             --ID-  "
      ]
     },
     "execution_count": 88,
     "metadata": {},
     "output_type": "execute_result"
    }
   ],
   "source": [
    "df_top_jobs.head(10)"
   ]
  },
  {
   "cell_type": "code",
   "execution_count": 89,
   "metadata": {},
   "outputs": [],
   "source": [
    "## render dataframe as html\n",
    "html = df_top_jobs.to_html(escape=False)"
   ]
  },
  {
   "cell_type": "code",
   "execution_count": 91,
   "metadata": {},
   "outputs": [],
   "source": [
    "#write html to file\n",
    "if platform.system() == 'Linux':\n",
    "    html_file = f\"../data/results/top_{top}_jobs_in_{location}.html\"\n",
    "    text_file = open(html_file, \"w\")\n",
    "    text_file.write(html)\n",
    "    text_file.close()\n",
    "    #text_file.close()\n",
    "    webbrowser.open(html_file, new=1)\n",
    "    \n",
    "elif platform.system() == 'Windows':\n",
    "    text_file = open(f\"..\\\\data\\\\results\\\\top_{top}_jobs_in_{location}.html\", \"w\")\n",
    "    text_file.write(html)\n",
    "    #text_file.close()"
   ]
  },
  {
   "cell_type": "markdown",
   "metadata": {},
   "source": [
    "#### checking results >"
   ]
  },
  {
   "cell_type": "code",
   "execution_count": null,
   "metadata": {},
   "outputs": [],
   "source": [
    "df_jobs[df_jobs['Current Job Id']==1682047755]"
   ]
  },
  {
   "cell_type": "code",
   "execution_count": null,
   "metadata": {},
   "outputs": [],
   "source": []
  },
  {
   "cell_type": "markdown",
   "metadata": {},
   "source": [
    "## Using NLP"
   ]
  },
  {
   "cell_type": "code",
   "execution_count": 84,
   "metadata": {},
   "outputs": [],
   "source": [
    "nlp_en = spacy.load('en_core_web_md')\n",
    "nlp_es = spacy.load('es_core_news_md')"
   ]
  },
  {
   "cell_type": "code",
   "execution_count": 85,
   "metadata": {},
   "outputs": [
    {
     "data": {
      "text/plain": [
       "Index(['JOB TITLE', 'LOCATION', 'SEARCH DATETIME', 'Current Job Id',\n",
       "       'Job html', 'Job name', 'Company name', 'Company location',\n",
       "       'Posted date', 'Estimated post date', 'Easy apply', 'Skills match',\n",
       "       'Seniority Level', 'Industry', 'Employment Type', 'Job Functions',\n",
       "       'Job info', 'Job Description', 'JOB TITLE_ID', 'Info Language',\n",
       "       'da coincidences', 'da coincidences_list', 'PROFILE coincidences',\n",
       "       'PROFILE coincidences_list', 'Multiple Job Post'],\n",
       "      dtype='object')"
      ]
     },
     "execution_count": 85,
     "metadata": {},
     "output_type": "execute_result"
    }
   ],
   "source": [
    "df_jobs.columns"
   ]
  },
  {
   "cell_type": "code",
   "execution_count": 86,
   "metadata": {},
   "outputs": [
    {
     "data": {
      "text/plain": [
       "'DA'"
      ]
     },
     "execution_count": 86,
     "metadata": {},
     "output_type": "execute_result"
    }
   ],
   "source": [
    "unique_jobs[0].split(\" \")[0][0].upper() + unique_jobs[0].split(\" \")[1][0].upper()"
   ]
  },
  {
   "cell_type": "code",
   "execution_count": null,
   "metadata": {},
   "outputs": [],
   "source": []
  },
  {
   "cell_type": "code",
   "execution_count": 87,
   "metadata": {},
   "outputs": [
    {
     "data": {
      "text/plain": [
       "'DHK'"
      ]
     },
     "execution_count": 87,
     "metadata": {},
     "output_type": "execute_result"
    }
   ],
   "source": [
    "example = \"data hola kase\"\n",
    "nuevo_key = job_key_generator(example)\n",
    "nuevo_key"
   ]
  },
  {
   "cell_type": "code",
   "execution_count": 88,
   "metadata": {},
   "outputs": [
    {
     "data": {
      "text/plain": [
       "['data analyst', 'data scientist', 'data engineer']"
      ]
     },
     "execution_count": 88,
     "metadata": {},
     "output_type": "execute_result"
    }
   ],
   "source": [
    "unique_jobs"
   ]
  },
  {
   "cell_type": "code",
   "execution_count": 89,
   "metadata": {},
   "outputs": [
    {
     "data": {
      "text/plain": [
       "['es', 'en']"
      ]
     },
     "execution_count": 89,
     "metadata": {},
     "output_type": "execute_result"
    }
   ],
   "source": [
    "unique_languages = list(df_jobs['Info Language'].unique())\n",
    "unique_languages"
   ]
  },
  {
   "cell_type": "code",
   "execution_count": 90,
   "metadata": {},
   "outputs": [
    {
     "data": {
      "text/plain": [
       "'madrid'"
      ]
     },
     "execution_count": 90,
     "metadata": {},
     "output_type": "execute_result"
    }
   ],
   "source": [
    "location = df_jobs['LOCATION'].unique()[0].lower()\n",
    "location"
   ]
  },
  {
   "cell_type": "code",
   "execution_count": 91,
   "metadata": {},
   "outputs": [],
   "source": [
    "black_list = \\\n",
    "[location,\n",
    " 'empresa','work','skill',\n",
    "'parir','comer','timar',\n",
    " 'job','industry', 'type','employment', 'full','functions','seniority','level',\n",
    " 'company','experience','help','time','new','role','use','year','enable',\n",
    "]"
   ]
  },
  {
   "cell_type": "code",
   "execution_count": 92,
   "metadata": {},
   "outputs": [],
   "source": [
    "dict_corpus = {}\n",
    "dict_filtered_corpus = {}\n",
    "dict_filtered_tokens = {}\n",
    "dict_word_freq = {}\n",
    "dict_common_words_100 = {}\n",
    "\n",
    "dict_filtered_corpus_NN = {}\n",
    "dict_filtered_tokens_NN = {}\n",
    "dict_word_freq_NN = {}\n",
    "dict_common_words_100_NN = {}"
   ]
  },
  {
   "cell_type": "code",
   "execution_count": null,
   "metadata": {},
   "outputs": [],
   "source": []
  },
  {
   "cell_type": "code",
   "execution_count": null,
   "metadata": {},
   "outputs": [],
   "source": [
    "%%time\n",
    "for job in unique_jobs:\n",
    "    \n",
    "\n",
    "    job_key_s = job_key_generator(job)\n",
    "    \n",
    "    for lang in unique_languages:\n",
    "        \n",
    "        #CORPUS\n",
    "        filter_job  = df_jobs['JOB TITLE'] == job\n",
    "        filter_lang = df_jobs['Info Language'] == lang\n",
    "        corpus = df_jobs['Job Description'][filter_job & filter_lang].str.cat(sep=\" || \")\n",
    "        \n",
    "        dict_corpus.update( {f'{job_key_s}_{lang}' : corpus} )\n",
    "        \n",
    "        \n",
    "        #TOKENS\n",
    "        if   lang == 'en':\n",
    "            tokens = nlp_en(corpus)\n",
    "            STOP_WORDS = SW_en\n",
    "        elif lang == 'es':\n",
    "            tokens = nlp_es(corpus)\n",
    "            STOP_WORDS = SW_es\n",
    "        \n",
    "        filtered_corpus = \"\"\n",
    "        filtered_tokens = []\n",
    "        #NOUNS\n",
    "        filtered_corpus_NN = \"\"\n",
    "        filtered_tokens_NN = []\n",
    "\n",
    "        for word in tokens:\n",
    "            lemma = word.lemma_.lower().strip()\n",
    "            NN    = word.pos_.lower().strip()\n",
    "\n",
    "            if lemma not in STOP_WORDS and re.search('^[a-z]+$', lemma) and lemma not in black_list and len(lemma)>1:\n",
    "                    filtered_corpus += lemma + \" \"\n",
    "                    filtered_tokens.append(lemma)\n",
    "                    \n",
    "                    #NOUNS\n",
    "                    if word.pos_ == 'NOUN':\n",
    "                        filtered_corpus_NN += lemma + \" \"\n",
    "                        filtered_tokens_NN.append(lemma)\n",
    "        \n",
    "        dict_filtered_corpus.update( {f'{job_key_s}_{lang}': filtered_corpus} )\n",
    "        dict_filtered_tokens.update( {f'{job_key_s}_{lang}': filtered_tokens} )\n",
    "        \n",
    "        #NOUNS\n",
    "        dict_filtered_corpus_NN.update( {f'{job_key_s}_{lang}': filtered_corpus_NN} )\n",
    "        dict_filtered_tokens_NN.update( {f'{job_key_s}_{lang}': filtered_tokens_NN} )\n",
    "        \n",
    "        #100 COMMON WORDS\n",
    "        word_freq = Counter(filtered_tokens)\n",
    "        common_words_100 = word_freq.most_common(100)\n",
    "        dict_word_freq.update({f'{job_key_s}_{lang}': word_freq})\n",
    "        dict_common_words_100.update({f'{job_key_s}_{lang}': common_words_100})\n",
    "        \n",
    "        #NOUNS\n",
    "        word_freq_NN = Counter(filtered_tokens_NN)\n",
    "        common_words_100_NN = word_freq_NN.most_common(100) \n",
    "        dict_word_freq_NN.update({f'{job_key_s}_{lang}': word_freq_NN})\n",
    "        dict_common_words_100_NN.update({f'{job_key_s}_{lang}': common_words_100_NN})\n",
    "        \n",
    "        if platform.system() == 'Linux':\n",
    "            with open(f'../data/results/dict_word_freq{job_key_s}_{lang}.json', 'w') as fp:\n",
    "                json.dump(dict_word_freq, fp)\n",
    "        elif platform.system() == 'Windows':\n",
    "            with open(f'..\\\\data\\\\results\\\\dict_word_freq{job_key_s}_{lang}.json', 'w') as fp:\n",
    "                json.dump(dict_word_freq, fp)"
   ]
  },
  {
   "cell_type": "markdown",
   "metadata": {},
   "source": [
    "#### checking results >"
   ]
  },
  {
   "cell_type": "code",
   "execution_count": null,
   "metadata": {},
   "outputs": [],
   "source": [
    "job_lang = 'DS_es'"
   ]
  },
  {
   "cell_type": "code",
   "execution_count": null,
   "metadata": {},
   "outputs": [],
   "source": [
    "dict_corpus.keys()"
   ]
  },
  {
   "cell_type": "code",
   "execution_count": null,
   "metadata": {},
   "outputs": [],
   "source": [
    "dict_corpus.get(job_lang)[400:600]"
   ]
  },
  {
   "cell_type": "code",
   "execution_count": null,
   "metadata": {},
   "outputs": [],
   "source": [
    "dict_filtered_tokens.keys()"
   ]
  },
  {
   "cell_type": "code",
   "execution_count": null,
   "metadata": {},
   "outputs": [],
   "source": [
    "dict_filtered_tokens.get(job_lang)[600:610]"
   ]
  },
  {
   "cell_type": "code",
   "execution_count": null,
   "metadata": {},
   "outputs": [],
   "source": [
    "dict_word_freq.keys()"
   ]
  },
  {
   "cell_type": "code",
   "execution_count": null,
   "metadata": {},
   "outputs": [],
   "source": [
    "dict_common_words_100.keys()"
   ]
  },
  {
   "cell_type": "code",
   "execution_count": null,
   "metadata": {},
   "outputs": [],
   "source": [
    "dict_common_words_100.get(job_lang)[0:20]"
   ]
  },
  {
   "cell_type": "code",
   "execution_count": null,
   "metadata": {},
   "outputs": [],
   "source": [
    "dict_common_words_100_NN.get(job_lang)[0:40]"
   ]
  },
  {
   "cell_type": "markdown",
   "metadata": {},
   "source": [
    "## CLOUD "
   ]
  },
  {
   "cell_type": "code",
   "execution_count": null,
   "metadata": {},
   "outputs": [],
   "source": [
    "unique_jobs"
   ]
  },
  {
   "cell_type": "code",
   "execution_count": null,
   "metadata": {},
   "outputs": [],
   "source": [
    "unique_languages"
   ]
  },
  {
   "cell_type": "code",
   "execution_count": null,
   "metadata": {},
   "outputs": [],
   "source": [
    "#def cloud_word(unique_jobs):\n",
    "\n",
    "for j in unique_jobs:\n",
    "    \n",
    "\n",
    "    \"\"\"\n",
    "    if platform.system() == 'Linux':\n",
    "        try:\n",
    "            mask = np.array(Image.open(f\"../data/raw/{j}.png\"))\n",
    "        except:\n",
    "            mask = np.array(Image.open(f\"../data/raw/{j}.png\"))\n",
    "\n",
    "    elif platform.system() == 'Windows':\n",
    "        try:\n",
    "            mask = np.array(Image.open(f\"..\\\\data\\\\raw\\\\{j}.png\"))\n",
    "        except:\n",
    "            mask = np.array(Image.open(f\"..\\\\data\\\\raw\\\\{j}.png\"))\n",
    "\n",
    "    image_colors = ImageColorGenerator(mask)\n",
    "    \"\"\"\n",
    "\n",
    "    job_key_w = job_key_generator(j)\n",
    "    plot_rows = len(unique_languages)\n",
    "\n",
    "    fig , axes = plt.subplots(ncols=1, nrows=plot_rows)\n",
    "\n",
    "    ax = 0\n",
    "    for lang in unique_languages:\n",
    "        print(f'{job_key_w}_{lang}')\n",
    "        plt.axis(\"off\")\n",
    "        word_corpus = dict_filtered_corpus.get(f'{job_key_w}_{lang}')\n",
    "        wordcloud = \\\n",
    "        WordCloud(max_font_size=100, max_words=100, background_color=\"white\")\\\n",
    "                .generate(word_corpus)\n",
    "        #, mask=mask)\\\n",
    "        axes[ax].axis(\"off\")\n",
    "        axes[ax].set_title(f'{job_key_w}_{lang}')\n",
    "        axes[ax].imshow(wordcloud, interpolation='bilinear')\n",
    "\n",
    "        ax+=1\n",
    "    \n",
    "    plt.axis(\"off\") \n",
    "    fig.get_figure()\n",
    "    plt.show()\n",
    "\n",
    "\n",
    "    if platform.system() == 'Linux':\n",
    "        fig.savefig(f'../data/results/worldcloud_{job_key_w}_{location}.png', quality =95, dpi=300)\n",
    "        #wordcloud.to_file(f'../data/results/worldcloud_{job_lang}_{location}.png')\n",
    "\n",
    "    elif platform.system() == 'Windows':\n",
    "        fig.savefig(f'..\\\\data\\\\results\\\\worldcloud_{job_key_w}_{location}.png', quality =95, dpi=300)\n",
    "        #wordcloud.to_file(f'..\\\\data\\\\results\\\\worldcloud_{job_lang}_{location}.png')\n",
    "        \n",
    "    "
   ]
  },
  {
   "cell_type": "code",
   "execution_count": null,
   "metadata": {},
   "outputs": [],
   "source": [
    "#cloud_word(unique_jobs)"
   ]
  },
  {
   "cell_type": "code",
   "execution_count": null,
   "metadata": {},
   "outputs": [],
   "source": [
    "# Display the generated image:\n",
    "# plt.imshow(wordcloud, interpolation='bilinear')\n",
    "# plt.axis(\"off\")\n",
    "# plt.show()"
   ]
  },
  {
   "cell_type": "code",
   "execution_count": null,
   "metadata": {},
   "outputs": [],
   "source": []
  },
  {
   "cell_type": "markdown",
   "metadata": {},
   "source": [
    "## Using ML"
   ]
  },
  {
   "cell_type": "code",
   "execution_count": null,
   "metadata": {},
   "outputs": [],
   "source": []
  },
  {
   "cell_type": "code",
   "execution_count": null,
   "metadata": {},
   "outputs": [],
   "source": []
  },
  {
   "cell_type": "code",
   "execution_count": null,
   "metadata": {},
   "outputs": [],
   "source": []
  },
  {
   "cell_type": "code",
   "execution_count": null,
   "metadata": {},
   "outputs": [],
   "source": []
  },
  {
   "cell_type": "code",
   "execution_count": null,
   "metadata": {},
   "outputs": [],
   "source": []
  },
  {
   "cell_type": "code",
   "execution_count": null,
   "metadata": {},
   "outputs": [],
   "source": []
  },
  {
   "cell_type": "markdown",
   "metadata": {},
   "source": [
    "***\n",
    "# TESTING"
   ]
  },
  {
   "cell_type": "markdown",
   "metadata": {},
   "source": [
    "### Counting frequent words"
   ]
  },
  {
   "cell_type": "code",
   "execution_count": null,
   "metadata": {},
   "outputs": [],
   "source": [
    "c = re.findall('\\{(.*)\\}',str(dict_common_words.get(job_lang)))[0].split(',')\n",
    "c"
   ]
  },
  {
   "cell_type": "code",
   "execution_count": null,
   "metadata": {},
   "outputs": [],
   "source": [
    "word_freq = Counter(dict_filtered_tokens.get('DA_en'))\n",
    "type(word_freq)"
   ]
  },
  {
   "cell_type": "code",
   "execution_count": null,
   "metadata": {},
   "outputs": [],
   "source": [
    "common_words = word_freq.most_common\n",
    "type(common_words)"
   ]
  },
  {
   "cell_type": "code",
   "execution_count": null,
   "metadata": {},
   "outputs": [],
   "source": [
    "common_words"
   ]
  },
  {
   "cell_type": "markdown",
   "metadata": {},
   "source": [
    "### masks in CLOUD"
   ]
  },
  {
   "cell_type": "code",
   "execution_count": null,
   "metadata": {},
   "outputs": [],
   "source": [
    "if platform.system() == 'Linux':\n",
    "    mask = np.array(Image.open(\"../data/raw/plot.png\"))\n",
    "    \n",
    "elif platform.system() == 'Windows':\n",
    "    mask = np.array(Image.open(\"../data/raw/monitor.png\"))\n",
    "\n",
    "    \n",
    "image_colors = ImageColorGenerator(mask)"
   ]
  },
  {
   "cell_type": "code",
   "execution_count": null,
   "metadata": {},
   "outputs": [],
   "source": [
    "wordcloud = WordCloud(max_font_size=100, max_words=100, mode=\"RGBA\", background_color=\"white\", mask=mask)\\\n",
    "            .generate(dict_filtered_corpus.get(job_lang))"
   ]
  },
  {
   "cell_type": "code",
   "execution_count": null,
   "metadata": {},
   "outputs": [],
   "source": [
    "plt.figure(figsize=[7,7])\n",
    "plt.imshow(wordcloud.recolor(color_func=image_colors), interpolation='bilinear')\n",
    "plt.axis(\"off\")\n",
    "plt.show()"
   ]
  }
 ],
 "metadata": {
  "kernelspec": {
   "display_name": "Python [conda env:final_project]",
   "language": "python",
   "name": "conda-env-final_project-py"
  },
  "language_info": {
   "codemirror_mode": {
    "name": "ipython",
    "version": 3
   },
   "file_extension": ".py",
   "mimetype": "text/x-python",
   "name": "python",
   "nbconvert_exporter": "python",
   "pygments_lexer": "ipython3",
   "version": "3.7.6"
  }
 },
 "nbformat": 4,
 "nbformat_minor": 4
}
