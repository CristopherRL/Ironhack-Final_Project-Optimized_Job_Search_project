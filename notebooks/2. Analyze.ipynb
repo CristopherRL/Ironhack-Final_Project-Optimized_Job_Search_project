{
 "cells": [
  {
   "cell_type": "markdown",
   "metadata": {},
   "source": [
    "# Step 2: ANALYZE"
   ]
  },
  {
   "cell_type": "code",
   "execution_count": 1,
   "metadata": {},
   "outputs": [],
   "source": [
    "import pandas as pd\n",
    "from langdetect import detect, DetectorFactory\n",
    "DetectorFactory.seed = 0\n",
    "import re\n",
    "import pandas as pd\n",
    "import numpy as np\n",
    "import platform"
   ]
  },
  {
   "cell_type": "code",
   "execution_count": 2,
   "metadata": {},
   "outputs": [],
   "source": [
    "import spacy\n",
    "from spacy.lang.en.stop_words import STOP_WORDS as SW_en\n",
    "from spacy.lang.es.stop_words import STOP_WORDS as SW_es"
   ]
  },
  {
   "cell_type": "code",
   "execution_count": 3,
   "metadata": {},
   "outputs": [],
   "source": [
    "from collections import Counter"
   ]
  },
  {
   "cell_type": "code",
   "execution_count": 4,
   "metadata": {},
   "outputs": [],
   "source": [
    "from sklearn.feature_extraction.text import CountVectorizer,TfidfVectorizer"
   ]
  },
  {
   "cell_type": "code",
   "execution_count": 5,
   "metadata": {},
   "outputs": [],
   "source": [
    "#import nltk \n",
    "#from nltk.corpus import stopwords \n",
    "#set(stopwords.words('english'))\n"
   ]
  },
  {
   "cell_type": "code",
   "execution_count": 6,
   "metadata": {},
   "outputs": [],
   "source": [
    "#!python -m spacy download en_core_web_md\n",
    "#!python -m spacy download en_core_web_sm\n",
    "#!python -m spacy download es_core_news_md"
   ]
  },
  {
   "cell_type": "code",
   "execution_count": 8,
   "metadata": {},
   "outputs": [],
   "source": [
    "dic_key_words = \\\n",
    "{   'data analyst'  : ['data analyst','analisis de datos', \n",
    "                       'data analytics', 'analitica de datos',\n",
    "                       'business analyst', 'analisis de negocios',\n",
    "                       'sql',\n",
    "                       'python',\n",
    "                       'business intelligence', 'inteligencia de negocios' , ' bi ' , \n",
    "                       'excel', 'microsoft office', 'ms office' ,\n",
    "                       'dashboard','kpi', \n",
    "                       'reporting', 'informes',\n",
    "                       'tableau', 'powerbi', 'power bi', 'microsoft bi', 'qlik', 'spotfire',\n",
    "                      ],\n",
    " \n",
    "    'data scientist': ['data scientist', 'cientifico de datos',\n",
    "                       'data science', 'ciencia de datos',\n",
    "                       'sql', \n",
    "                       'python', ' r ', \n",
    "                       ' ml ', 'machine learning','deep learning','neuronal networks', \n",
    "                       'pandas', 'numpy', 'scipy', 'web scrapping' , \n",
    "                       'data visualization', 'visualizacion de datos','matplotlib', 'seaborn', \n",
    "                       'spss',  'statistics',\n",
    "                       'sklearn','sk learn', 'sk-learn','scikit learn', 'scikit-learn' ,'tensorflow', 'keras',\n",
    "                       'data wrangling', 'limpieza de datos',\n",
    "                       ' nlp ', 'a/b testing','a b testing'\n",
    "                      ],\n",
    " \n",
    "    'data engineer':  ['data engineer', 'ingeniero de datos',\n",
    "                       'sql', 'nosql', 'no sql', 'bases de datos no relacionales',\n",
    "                       'python', ' r ', 'scala', 'java ', 'spark', 'hadoop', 'haddop' 'hive', 'impala', 'kafka', \n",
    "                       'data wrangling', 'limpieza de datos',\n",
    "                       'etl','extract, transform and load','map reduce','mapreduce', \n",
    "                       'data acquisition', 'adquisicion de datos',\n",
    "                       'big data', 'bigdata', 'bigquery',\n",
    "                       'data warehouse', \n",
    "                       ' aws ', 'azure',\n",
    "                       'software engineering'\n",
    "                      ]\n",
    "}"
   ]
  },
  {
   "cell_type": "markdown",
   "metadata": {},
   "source": [
    "## Getting csv"
   ]
  },
  {
   "cell_type": "markdown",
   "metadata": {},
   "source": [
    "#### > PROFILE:"
   ]
  },
  {
   "cell_type": "code",
   "execution_count": 9,
   "metadata": {},
   "outputs": [
    {
     "data": {
      "text/plain": [
       "'Linux'"
      ]
     },
     "execution_count": 9,
     "metadata": {},
     "output_type": "execute_result"
    }
   ],
   "source": [
    "platform.system()"
   ]
  },
  {
   "cell_type": "code",
   "execution_count": 10,
   "metadata": {},
   "outputs": [
    {
     "data": {
      "text/html": [
       "<div>\n",
       "<style scoped>\n",
       "    .dataframe tbody tr th:only-of-type {\n",
       "        vertical-align: middle;\n",
       "    }\n",
       "\n",
       "    .dataframe tbody tr th {\n",
       "        vertical-align: top;\n",
       "    }\n",
       "\n",
       "    .dataframe thead th {\n",
       "        text-align: right;\n",
       "    }\n",
       "</style>\n",
       "<table border=\"1\" class=\"dataframe\">\n",
       "  <thead>\n",
       "    <tr style=\"text-align: right;\">\n",
       "      <th></th>\n",
       "      <th>Unnamed: 0</th>\n",
       "      <th>info</th>\n",
       "    </tr>\n",
       "  </thead>\n",
       "  <tbody>\n",
       "    <tr>\n",
       "      <th>0</th>\n",
       "      <td>profile</td>\n",
       "      <td>cristopherrojaslepe</td>\n",
       "    </tr>\n",
       "    <tr>\n",
       "      <th>1</th>\n",
       "      <td>headline</td>\n",
       "      <td>data scientist &amp; analyst | python | pandas | n...</td>\n",
       "    </tr>\n",
       "    <tr>\n",
       "      <th>2</th>\n",
       "      <td>open new jobs</td>\n",
       "      <td>True</td>\n",
       "    </tr>\n",
       "    <tr>\n",
       "      <th>3</th>\n",
       "      <td>about</td>\n",
       "      <td>data scientist &amp; analyst and industrial engine...</td>\n",
       "    </tr>\n",
       "    <tr>\n",
       "      <th>4</th>\n",
       "      <td>experiences</td>\n",
       "      <td>['collection coordination analyst', 'real esta...</td>\n",
       "    </tr>\n",
       "    <tr>\n",
       "      <th>5</th>\n",
       "      <td>years of experiences</td>\n",
       "      <td>['1 yr 2 mos', '1 yr', '2 yrs 1 mo', '8 mos', ...</td>\n",
       "    </tr>\n",
       "    <tr>\n",
       "      <th>6</th>\n",
       "      <td>total years</td>\n",
       "      <td>7</td>\n",
       "    </tr>\n",
       "    <tr>\n",
       "      <th>7</th>\n",
       "      <td>degrees</td>\n",
       "      <td>['master', 'engineering - be']</td>\n",
       "    </tr>\n",
       "    <tr>\n",
       "      <th>8</th>\n",
       "      <td>fields</td>\n",
       "      <td>['data analytics', 'industrial engineering']</td>\n",
       "    </tr>\n",
       "    <tr>\n",
       "      <th>9</th>\n",
       "      <td>skills</td>\n",
       "      <td>['microsoft project', 'español', 'microsoft of...</td>\n",
       "    </tr>\n",
       "    <tr>\n",
       "      <th>10</th>\n",
       "      <td>languages</td>\n",
       "      <td>['english', 'spanish']</td>\n",
       "    </tr>\n",
       "    <tr>\n",
       "      <th>11</th>\n",
       "      <td>total skills</td>\n",
       "      <td>['analytical skills', 'bash', 'business analys...</td>\n",
       "    </tr>\n",
       "  </tbody>\n",
       "</table>\n",
       "</div>"
      ],
      "text/plain": [
       "              Unnamed: 0                                               info\n",
       "0                profile                                cristopherrojaslepe\n",
       "1               headline  data scientist & analyst | python | pandas | n...\n",
       "2          open new jobs                                               True\n",
       "3                  about  data scientist & analyst and industrial engine...\n",
       "4            experiences  ['collection coordination analyst', 'real esta...\n",
       "5   years of experiences  ['1 yr 2 mos', '1 yr', '2 yrs 1 mo', '8 mos', ...\n",
       "6            total years                                                  7\n",
       "7                degrees                     ['master', 'engineering - be']\n",
       "8                 fields       ['data analytics', 'industrial engineering']\n",
       "9                 skills  ['microsoft project', 'español', 'microsoft of...\n",
       "10             languages                             ['english', 'spanish']\n",
       "11          total skills  ['analytical skills', 'bash', 'business analys..."
      ]
     },
     "execution_count": 10,
     "metadata": {},
     "output_type": "execute_result"
    }
   ],
   "source": [
    "if platform.system() == 'Linux':\n",
    "    df_profile = pd.read_csv(f'../data/raw/df_profile_cristopherrojaslepe.csv',\n",
    "                             sep = ';',\n",
    "                             encoding= 'utf8'\n",
    "                              )\n",
    "    \n",
    "elif platform.system() == 'Windows':\n",
    "    df_profile = pd.read_csv(f'..\\\\data\\\\raw\\\\df_profile.csv',\n",
    "                             sep = ';',\n",
    "                             encoding= 'utf8'\n",
    "                            )\n",
    "    \n",
    "df_profile"
   ]
  },
  {
   "cell_type": "code",
   "execution_count": 11,
   "metadata": {},
   "outputs": [],
   "source": [
    "## ONLY FOR JUPYTER !!!!!!!!!!\n",
    "df_profile.rename(columns={'Unnamed: 0':'type'},inplace=True)\n",
    "df_profile.set_index('type', inplace=True)"
   ]
  },
  {
   "cell_type": "code",
   "execution_count": 12,
   "metadata": {},
   "outputs": [
    {
     "data": {
      "text/html": [
       "<div>\n",
       "<style scoped>\n",
       "    .dataframe tbody tr th:only-of-type {\n",
       "        vertical-align: middle;\n",
       "    }\n",
       "\n",
       "    .dataframe tbody tr th {\n",
       "        vertical-align: top;\n",
       "    }\n",
       "\n",
       "    .dataframe thead th {\n",
       "        text-align: right;\n",
       "    }\n",
       "</style>\n",
       "<table border=\"1\" class=\"dataframe\">\n",
       "  <thead>\n",
       "    <tr style=\"text-align: right;\">\n",
       "      <th></th>\n",
       "      <th>info</th>\n",
       "    </tr>\n",
       "    <tr>\n",
       "      <th>type</th>\n",
       "      <th></th>\n",
       "    </tr>\n",
       "  </thead>\n",
       "  <tbody>\n",
       "    <tr>\n",
       "      <th>profile</th>\n",
       "      <td>cristopherrojaslepe</td>\n",
       "    </tr>\n",
       "    <tr>\n",
       "      <th>headline</th>\n",
       "      <td>data scientist &amp; analyst | python | pandas | n...</td>\n",
       "    </tr>\n",
       "    <tr>\n",
       "      <th>open new jobs</th>\n",
       "      <td>True</td>\n",
       "    </tr>\n",
       "    <tr>\n",
       "      <th>about</th>\n",
       "      <td>data scientist &amp; analyst and industrial engine...</td>\n",
       "    </tr>\n",
       "    <tr>\n",
       "      <th>experiences</th>\n",
       "      <td>['collection coordination analyst', 'real esta...</td>\n",
       "    </tr>\n",
       "    <tr>\n",
       "      <th>years of experiences</th>\n",
       "      <td>['1 yr 2 mos', '1 yr', '2 yrs 1 mo', '8 mos', ...</td>\n",
       "    </tr>\n",
       "    <tr>\n",
       "      <th>total years</th>\n",
       "      <td>7</td>\n",
       "    </tr>\n",
       "    <tr>\n",
       "      <th>degrees</th>\n",
       "      <td>['master', 'engineering - be']</td>\n",
       "    </tr>\n",
       "    <tr>\n",
       "      <th>fields</th>\n",
       "      <td>['data analytics', 'industrial engineering']</td>\n",
       "    </tr>\n",
       "    <tr>\n",
       "      <th>skills</th>\n",
       "      <td>['microsoft project', 'español', 'microsoft of...</td>\n",
       "    </tr>\n",
       "    <tr>\n",
       "      <th>languages</th>\n",
       "      <td>['english', 'spanish']</td>\n",
       "    </tr>\n",
       "    <tr>\n",
       "      <th>total skills</th>\n",
       "      <td>['analytical skills', 'bash', 'business analys...</td>\n",
       "    </tr>\n",
       "  </tbody>\n",
       "</table>\n",
       "</div>"
      ],
      "text/plain": [
       "                                                                   info\n",
       "type                                                                   \n",
       "profile                                             cristopherrojaslepe\n",
       "headline              data scientist & analyst | python | pandas | n...\n",
       "open new jobs                                                      True\n",
       "about                 data scientist & analyst and industrial engine...\n",
       "experiences           ['collection coordination analyst', 'real esta...\n",
       "years of experiences  ['1 yr 2 mos', '1 yr', '2 yrs 1 mo', '8 mos', ...\n",
       "total years                                                           7\n",
       "degrees                                  ['master', 'engineering - be']\n",
       "fields                     ['data analytics', 'industrial engineering']\n",
       "skills                ['microsoft project', 'español', 'microsoft of...\n",
       "languages                                        ['english', 'spanish']\n",
       "total skills          ['analytical skills', 'bash', 'business analys..."
      ]
     },
     "execution_count": 12,
     "metadata": {},
     "output_type": "execute_result"
    }
   ],
   "source": [
    "df_profile"
   ]
  },
  {
   "cell_type": "code",
   "execution_count": null,
   "metadata": {},
   "outputs": [],
   "source": []
  },
  {
   "cell_type": "markdown",
   "metadata": {},
   "source": [
    "#### > JOBS:"
   ]
  },
  {
   "cell_type": "code",
   "execution_count": 47,
   "metadata": {},
   "outputs": [],
   "source": [
    "\n",
    "#f'../data/raw/df_jobs_Madrid_2020-04-18 23.50.csv',\n",
    "#f'..\\\\data\\\\raw\\\\df_jobs_Madrid_2020-04-18 23.50.csv'\n",
    "if platform.system() == 'Linux':\n",
    "    df_jobs_raw = pd.read_csv(f'../data/raw/df_jobs_Barcelona_2020-04-21 00.58.csv',\n",
    "                              sep = ';',\n",
    "                              encoding= 'utf8',\n",
    "                  )\n",
    "elif platform.system() == 'Windows':\n",
    "    df_jobs_raw = pd.read_csv(f'..\\\\data\\\\raw\\\\df_jobs_Barcelona_2020-04-21 00.58.csv',\n",
    "                              sep = ';',\n",
    "                              encoding= 'utf8',\n",
    "                  )"
   ]
  },
  {
   "cell_type": "code",
   "execution_count": 48,
   "metadata": {},
   "outputs": [],
   "source": [
    "df_jobs = df_jobs_raw"
   ]
  },
  {
   "cell_type": "code",
   "execution_count": 49,
   "metadata": {},
   "outputs": [
    {
     "data": {
      "text/plain": [
       "(180, 18)"
      ]
     },
     "execution_count": 49,
     "metadata": {},
     "output_type": "execute_result"
    }
   ],
   "source": [
    "df_jobs.shape"
   ]
  },
  {
   "cell_type": "code",
   "execution_count": 50,
   "metadata": {},
   "outputs": [
    {
     "data": {
      "text/html": [
       "<div>\n",
       "<style scoped>\n",
       "    .dataframe tbody tr th:only-of-type {\n",
       "        vertical-align: middle;\n",
       "    }\n",
       "\n",
       "    .dataframe tbody tr th {\n",
       "        vertical-align: top;\n",
       "    }\n",
       "\n",
       "    .dataframe thead th {\n",
       "        text-align: right;\n",
       "    }\n",
       "</style>\n",
       "<table border=\"1\" class=\"dataframe\">\n",
       "  <thead>\n",
       "    <tr style=\"text-align: right;\">\n",
       "      <th></th>\n",
       "      <th>JOB TITLE</th>\n",
       "      <th>LOCATION</th>\n",
       "      <th>SEARCH DATETIME</th>\n",
       "      <th>Current Job Id</th>\n",
       "      <th>Job html</th>\n",
       "      <th>Job name</th>\n",
       "      <th>Company name</th>\n",
       "      <th>Company location</th>\n",
       "      <th>Posted date</th>\n",
       "      <th>Estimated post date</th>\n",
       "      <th>Easy apply</th>\n",
       "      <th>Job Description</th>\n",
       "      <th>Skills match</th>\n",
       "      <th>Seniority Level</th>\n",
       "      <th>Industry</th>\n",
       "      <th>Employment Type</th>\n",
       "      <th>Job Functions</th>\n",
       "      <th>Job info</th>\n",
       "    </tr>\n",
       "  </thead>\n",
       "  <tbody>\n",
       "    <tr>\n",
       "      <th>0</th>\n",
       "      <td>data analyst</td>\n",
       "      <td>Barcelona</td>\n",
       "      <td>2020-04-21 00:58</td>\n",
       "      <td>1753506830</td>\n",
       "      <td>https://www.linkedin.com/jobs/view/1753506830/</td>\n",
       "      <td>Solution Architect-Applied Intelligence Barcelona</td>\n",
       "      <td>Accenture España</td>\n",
       "      <td>Barcelona, ES</td>\n",
       "      <td>3 weeks</td>\n",
       "      <td>2020-03-31 00:58</td>\n",
       "      <td>False</td>\n",
       "      <td>Accenture Digital offers a comprehensive portf...</td>\n",
       "      <td>{'yes': [], 'no': ['Serverless Computing', 'Di...</td>\n",
       "      <td>Associate</td>\n",
       "      <td>Information Technology &amp; Services Computer Sof...</td>\n",
       "      <td>Full-time</td>\n",
       "      <td>Engineering Information Technology</td>\n",
       "      <td>Posted Date\\nPosted 3 weeks ago\\nNumber of vie...</td>\n",
       "    </tr>\n",
       "    <tr>\n",
       "      <th>1</th>\n",
       "      <td>data analyst</td>\n",
       "      <td>Barcelona</td>\n",
       "      <td>2020-04-21 00:58</td>\n",
       "      <td>1816757840</td>\n",
       "      <td>https://www.linkedin.com/jobs/view/1816757840/</td>\n",
       "      <td>Senior Investment Accounting Analyst.</td>\n",
       "      <td>Zurich Insurance Company Ltd</td>\n",
       "      <td>Barcelona, ES</td>\n",
       "      <td>1 week</td>\n",
       "      <td>2020-04-14 00:58</td>\n",
       "      <td>False</td>\n",
       "      <td>Our opportunity\\n\\nInvestment Administration &amp;...</td>\n",
       "      <td>{'yes': [], 'no': ['Serverless Computing', 'Di...</td>\n",
       "      <td>NaN</td>\n",
       "      <td>Financial Services Insurance</td>\n",
       "      <td>Full-time</td>\n",
       "      <td>Accounting/Auditing Finance</td>\n",
       "      <td>Posted Date\\nPosted 1 week ago\\nNumber of view...</td>\n",
       "    </tr>\n",
       "    <tr>\n",
       "      <th>2</th>\n",
       "      <td>data analyst</td>\n",
       "      <td>Barcelona</td>\n",
       "      <td>2020-04-21 00:58</td>\n",
       "      <td>1769986744</td>\n",
       "      <td>https://www.linkedin.com/jobs/view/1769986744/</td>\n",
       "      <td>Accounts Payable Analyst - Dutch Speaker</td>\n",
       "      <td>Tech Data</td>\n",
       "      <td>Barcelona, ES</td>\n",
       "      <td>2 weeks</td>\n",
       "      <td>2020-04-07 00:58</td>\n",
       "      <td>False</td>\n",
       "      <td>It's rewarding to work at a company where YOU ...</td>\n",
       "      <td>{'yes': [], 'no': ['Serverless Computing', 'Di...</td>\n",
       "      <td>NaN</td>\n",
       "      <td>Computer Hardware Computer Software Informatio...</td>\n",
       "      <td>Full-time</td>\n",
       "      <td>Accounting/Auditing Finance</td>\n",
       "      <td>Posted Date\\nPosted 2 weeks ago\\nNumber of vie...</td>\n",
       "    </tr>\n",
       "  </tbody>\n",
       "</table>\n",
       "</div>"
      ],
      "text/plain": [
       "      JOB TITLE   LOCATION   SEARCH DATETIME  Current Job Id  \\\n",
       "0  data analyst  Barcelona  2020-04-21 00:58      1753506830   \n",
       "1  data analyst  Barcelona  2020-04-21 00:58      1816757840   \n",
       "2  data analyst  Barcelona  2020-04-21 00:58      1769986744   \n",
       "\n",
       "                                         Job html  \\\n",
       "0  https://www.linkedin.com/jobs/view/1753506830/   \n",
       "1  https://www.linkedin.com/jobs/view/1816757840/   \n",
       "2  https://www.linkedin.com/jobs/view/1769986744/   \n",
       "\n",
       "                                            Job name  \\\n",
       "0  Solution Architect-Applied Intelligence Barcelona   \n",
       "1              Senior Investment Accounting Analyst.   \n",
       "2           Accounts Payable Analyst - Dutch Speaker   \n",
       "\n",
       "                   Company name Company location Posted date  \\\n",
       "0              Accenture España    Barcelona, ES     3 weeks   \n",
       "1  Zurich Insurance Company Ltd    Barcelona, ES      1 week   \n",
       "2                     Tech Data    Barcelona, ES     2 weeks   \n",
       "\n",
       "  Estimated post date  Easy apply  \\\n",
       "0    2020-03-31 00:58       False   \n",
       "1    2020-04-14 00:58       False   \n",
       "2    2020-04-07 00:58       False   \n",
       "\n",
       "                                     Job Description  \\\n",
       "0  Accenture Digital offers a comprehensive portf...   \n",
       "1  Our opportunity\\n\\nInvestment Administration &...   \n",
       "2  It's rewarding to work at a company where YOU ...   \n",
       "\n",
       "                                        Skills match Seniority Level  \\\n",
       "0  {'yes': [], 'no': ['Serverless Computing', 'Di...       Associate   \n",
       "1  {'yes': [], 'no': ['Serverless Computing', 'Di...             NaN   \n",
       "2  {'yes': [], 'no': ['Serverless Computing', 'Di...             NaN   \n",
       "\n",
       "                                            Industry Employment Type  \\\n",
       "0  Information Technology & Services Computer Sof...       Full-time   \n",
       "1                       Financial Services Insurance       Full-time   \n",
       "2  Computer Hardware Computer Software Informatio...       Full-time   \n",
       "\n",
       "                        Job Functions  \\\n",
       "0  Engineering Information Technology   \n",
       "1         Accounting/Auditing Finance   \n",
       "2         Accounting/Auditing Finance   \n",
       "\n",
       "                                            Job info  \n",
       "0  Posted Date\\nPosted 3 weeks ago\\nNumber of vie...  \n",
       "1  Posted Date\\nPosted 1 week ago\\nNumber of view...  \n",
       "2  Posted Date\\nPosted 2 weeks ago\\nNumber of vie...  "
      ]
     },
     "execution_count": 50,
     "metadata": {},
     "output_type": "execute_result"
    }
   ],
   "source": [
    "df_jobs.head(3)"
   ]
  },
  {
   "cell_type": "code",
   "execution_count": 51,
   "metadata": {},
   "outputs": [],
   "source": [
    "# ONLY IN CASE TO CORRECT WRONG DF\n",
    "#df_jobs.drop(columns='Job htmlJob name', inplace=True)\n",
    "\n",
    "#df_jobs = df_jobs[['JOB TITLE', 'LOCATION', 'SEARCH DATETIME', 'Current Job Id',\n",
    "#       'Job html', 'Job name', 'Company name', 'Company location',\n",
    "#       'Posted date', 'Estimated post date', 'Easy apply', 'Skills match',\n",
    "#       'Seniority Level', 'Industry', 'Employment Type', 'Job Functions',\n",
    "#       'Job info']]"
   ]
  },
  {
   "cell_type": "code",
   "execution_count": 52,
   "metadata": {},
   "outputs": [
    {
     "data": {
      "text/plain": [
       "(62, 18)"
      ]
     },
     "execution_count": 52,
     "metadata": {},
     "output_type": "execute_result"
    }
   ],
   "source": [
    "df_jobs[df_jobs['JOB TITLE']=='data analyst'].shape"
   ]
  },
  {
   "cell_type": "code",
   "execution_count": 53,
   "metadata": {},
   "outputs": [
    {
     "data": {
      "text/plain": [
       "(90, 18)"
      ]
     },
     "execution_count": 53,
     "metadata": {},
     "output_type": "execute_result"
    }
   ],
   "source": [
    "df_jobs[df_jobs['JOB TITLE']=='data scientist'].shape"
   ]
  },
  {
   "cell_type": "code",
   "execution_count": 54,
   "metadata": {},
   "outputs": [
    {
     "data": {
      "text/plain": [
       "(28, 18)"
      ]
     },
     "execution_count": 54,
     "metadata": {},
     "output_type": "execute_result"
    }
   ],
   "source": [
    "df_jobs[df_jobs['JOB TITLE']=='data engineer'].shape"
   ]
  },
  {
   "cell_type": "markdown",
   "metadata": {},
   "source": [
    "## Analizyng info"
   ]
  },
  {
   "cell_type": "markdown",
   "metadata": {},
   "source": [
    "### > Cleaning jobs:"
   ]
  },
  {
   "cell_type": "code",
   "execution_count": 55,
   "metadata": {},
   "outputs": [
    {
     "data": {
      "text/plain": [
       "JOB TITLE              data analyst\n",
       "LOCATION                  Barcelona\n",
       "SEARCH DATETIME    2020-04-21 00:58\n",
       "Current Job Id           1753506830\n",
       "Name: 0, dtype: object"
      ]
     },
     "execution_count": 55,
     "metadata": {},
     "output_type": "execute_result"
    }
   ],
   "source": [
    "df_jobs.loc[0,'JOB TITLE':'Current Job Id']"
   ]
  },
  {
   "cell_type": "markdown",
   "metadata": {},
   "source": [
    "##### * JOB TITLE_ID"
   ]
  },
  {
   "cell_type": "code",
   "execution_count": 56,
   "metadata": {},
   "outputs": [],
   "source": [
    "df_jobs['JOB TITLE_ID'] = df_jobs.apply(lambda x: x['JOB TITLE'] +\"_\"+ str(x['Current Job Id']), axis = 1 )"
   ]
  },
  {
   "cell_type": "code",
   "execution_count": 57,
   "metadata": {},
   "outputs": [
    {
     "data": {
      "text/plain": [
       "180"
      ]
     },
     "execution_count": 57,
     "metadata": {},
     "output_type": "execute_result"
    }
   ],
   "source": [
    "df_jobs.shape[0] "
   ]
  },
  {
   "cell_type": "code",
   "execution_count": 58,
   "metadata": {},
   "outputs": [
    {
     "data": {
      "text/plain": [
       "180"
      ]
     },
     "execution_count": 58,
     "metadata": {},
     "output_type": "execute_result"
    }
   ],
   "source": [
    "len(df_jobs['JOB TITLE_ID'].unique())"
   ]
  },
  {
   "cell_type": "code",
   "execution_count": 59,
   "metadata": {},
   "outputs": [
    {
     "data": {
      "text/html": [
       "<div>\n",
       "<style scoped>\n",
       "    .dataframe tbody tr th:only-of-type {\n",
       "        vertical-align: middle;\n",
       "    }\n",
       "\n",
       "    .dataframe tbody tr th {\n",
       "        vertical-align: top;\n",
       "    }\n",
       "\n",
       "    .dataframe thead th {\n",
       "        text-align: right;\n",
       "    }\n",
       "</style>\n",
       "<table border=\"1\" class=\"dataframe\">\n",
       "  <thead>\n",
       "    <tr style=\"text-align: right;\">\n",
       "      <th></th>\n",
       "      <th>LOCATION</th>\n",
       "    </tr>\n",
       "    <tr>\n",
       "      <th>JOB TITLE_ID</th>\n",
       "      <th></th>\n",
       "    </tr>\n",
       "  </thead>\n",
       "  <tbody>\n",
       "    <tr>\n",
       "      <th>data analyst_1422096341</th>\n",
       "      <td>1</td>\n",
       "    </tr>\n",
       "    <tr>\n",
       "      <th>data scientist_1758546757</th>\n",
       "      <td>1</td>\n",
       "    </tr>\n",
       "    <tr>\n",
       "      <th>data scientist_1768580522</th>\n",
       "      <td>1</td>\n",
       "    </tr>\n",
       "    <tr>\n",
       "      <th>data scientist_1772485017</th>\n",
       "      <td>1</td>\n",
       "    </tr>\n",
       "    <tr>\n",
       "      <th>data scientist_1776631970</th>\n",
       "      <td>1</td>\n",
       "    </tr>\n",
       "    <tr>\n",
       "      <th>...</th>\n",
       "      <td>...</td>\n",
       "    </tr>\n",
       "    <tr>\n",
       "      <th>data analyst_1830200694</th>\n",
       "      <td>1</td>\n",
       "    </tr>\n",
       "    <tr>\n",
       "      <th>data engineer_1117356782</th>\n",
       "      <td>1</td>\n",
       "    </tr>\n",
       "    <tr>\n",
       "      <th>data engineer_1401777412</th>\n",
       "      <td>1</td>\n",
       "    </tr>\n",
       "    <tr>\n",
       "      <th>data engineer_1636675203</th>\n",
       "      <td>1</td>\n",
       "    </tr>\n",
       "    <tr>\n",
       "      <th>data scientist_1831532448</th>\n",
       "      <td>1</td>\n",
       "    </tr>\n",
       "  </tbody>\n",
       "</table>\n",
       "<p>180 rows × 1 columns</p>\n",
       "</div>"
      ],
      "text/plain": [
       "                           LOCATION\n",
       "JOB TITLE_ID                       \n",
       "data analyst_1422096341           1\n",
       "data scientist_1758546757         1\n",
       "data scientist_1768580522         1\n",
       "data scientist_1772485017         1\n",
       "data scientist_1776631970         1\n",
       "...                             ...\n",
       "data analyst_1830200694           1\n",
       "data engineer_1117356782          1\n",
       "data engineer_1401777412          1\n",
       "data engineer_1636675203          1\n",
       "data scientist_1831532448         1\n",
       "\n",
       "[180 rows x 1 columns]"
      ]
     },
     "execution_count": 59,
     "metadata": {},
     "output_type": "execute_result"
    }
   ],
   "source": [
    "pd.pivot_table(df_jobs,\n",
    "               values=\"LOCATION\",\n",
    "               index=['JOB TITLE_ID'],\n",
    "               aggfunc=np.count_nonzero        \n",
    "              ).sort_values(by=['LOCATION'], ascending=False)"
   ]
  },
  {
   "cell_type": "code",
   "execution_count": 60,
   "metadata": {},
   "outputs": [
    {
     "data": {
      "text/html": [
       "<div>\n",
       "<style scoped>\n",
       "    .dataframe tbody tr th:only-of-type {\n",
       "        vertical-align: middle;\n",
       "    }\n",
       "\n",
       "    .dataframe tbody tr th {\n",
       "        vertical-align: top;\n",
       "    }\n",
       "\n",
       "    .dataframe thead th {\n",
       "        text-align: right;\n",
       "    }\n",
       "</style>\n",
       "<table border=\"1\" class=\"dataframe\">\n",
       "  <thead>\n",
       "    <tr style=\"text-align: right;\">\n",
       "      <th></th>\n",
       "      <th>JOB TITLE</th>\n",
       "      <th>LOCATION</th>\n",
       "      <th>SEARCH DATETIME</th>\n",
       "      <th>Current Job Id</th>\n",
       "      <th>Job html</th>\n",
       "      <th>Job name</th>\n",
       "      <th>Company name</th>\n",
       "      <th>Company location</th>\n",
       "      <th>Posted date</th>\n",
       "      <th>Estimated post date</th>\n",
       "      <th>Easy apply</th>\n",
       "      <th>Job Description</th>\n",
       "      <th>Skills match</th>\n",
       "      <th>Seniority Level</th>\n",
       "      <th>Industry</th>\n",
       "      <th>Employment Type</th>\n",
       "      <th>Job Functions</th>\n",
       "      <th>Job info</th>\n",
       "      <th>JOB TITLE_ID</th>\n",
       "    </tr>\n",
       "  </thead>\n",
       "  <tbody>\n",
       "  </tbody>\n",
       "</table>\n",
       "</div>"
      ],
      "text/plain": [
       "Empty DataFrame\n",
       "Columns: [JOB TITLE, LOCATION, SEARCH DATETIME, Current Job Id, Job html, Job name, Company name, Company location, Posted date, Estimated post date, Easy apply, Job Description, Skills match, Seniority Level, Industry, Employment Type, Job Functions, Job info, JOB TITLE_ID]\n",
       "Index: []"
      ]
     },
     "execution_count": 60,
     "metadata": {},
     "output_type": "execute_result"
    }
   ],
   "source": [
    "df_jobs[df_jobs['Current Job Id']==1774326710]"
   ]
  },
  {
   "cell_type": "code",
   "execution_count": 63,
   "metadata": {},
   "outputs": [
    {
     "data": {
      "text/plain": [
       "0"
      ]
     },
     "execution_count": 63,
     "metadata": {},
     "output_type": "execute_result"
    }
   ],
   "source": [
    "df_jobs.shape[0] - len(df_jobs['JOB TITLE_ID'].unique())"
   ]
  },
  {
   "cell_type": "code",
   "execution_count": 64,
   "metadata": {},
   "outputs": [],
   "source": [
    "df_jobs.drop_duplicates(subset='JOB TITLE_ID', keep='first', inplace = True)"
   ]
  },
  {
   "cell_type": "code",
   "execution_count": 65,
   "metadata": {},
   "outputs": [
    {
     "data": {
      "text/plain": [
       "(180, 19)"
      ]
     },
     "execution_count": 65,
     "metadata": {},
     "output_type": "execute_result"
    }
   ],
   "source": [
    "df_jobs.shape"
   ]
  },
  {
   "cell_type": "markdown",
   "metadata": {},
   "source": [
    "##### * Current Job Id"
   ]
  },
  {
   "cell_type": "code",
   "execution_count": 30,
   "metadata": {},
   "outputs": [
    {
     "data": {
      "text/plain": [
       "638"
      ]
     },
     "execution_count": 30,
     "metadata": {},
     "output_type": "execute_result"
    }
   ],
   "source": [
    "len(df_jobs['Current Job Id'].unique())"
   ]
  },
  {
   "cell_type": "code",
   "execution_count": 31,
   "metadata": {},
   "outputs": [
    {
     "data": {
      "text/html": [
       "<div>\n",
       "<style scoped>\n",
       "    .dataframe tbody tr th:only-of-type {\n",
       "        vertical-align: middle;\n",
       "    }\n",
       "\n",
       "    .dataframe tbody tr th {\n",
       "        vertical-align: top;\n",
       "    }\n",
       "\n",
       "    .dataframe thead th {\n",
       "        text-align: right;\n",
       "    }\n",
       "</style>\n",
       "<table border=\"1\" class=\"dataframe\">\n",
       "  <thead>\n",
       "    <tr style=\"text-align: right;\">\n",
       "      <th></th>\n",
       "      <th>LOCATION</th>\n",
       "    </tr>\n",
       "    <tr>\n",
       "      <th>Current Job Id</th>\n",
       "      <th></th>\n",
       "    </tr>\n",
       "  </thead>\n",
       "  <tbody>\n",
       "    <tr>\n",
       "      <th>1794127974</th>\n",
       "      <td>3</td>\n",
       "    </tr>\n",
       "    <tr>\n",
       "      <th>1828401888</th>\n",
       "      <td>3</td>\n",
       "    </tr>\n",
       "    <tr>\n",
       "      <th>1764841143</th>\n",
       "      <td>3</td>\n",
       "    </tr>\n",
       "    <tr>\n",
       "      <th>1768494778</th>\n",
       "      <td>3</td>\n",
       "    </tr>\n",
       "    <tr>\n",
       "      <th>1757263851</th>\n",
       "      <td>3</td>\n",
       "    </tr>\n",
       "    <tr>\n",
       "      <th>...</th>\n",
       "      <td>...</td>\n",
       "    </tr>\n",
       "    <tr>\n",
       "      <th>1794130353</th>\n",
       "      <td>1</td>\n",
       "    </tr>\n",
       "    <tr>\n",
       "      <th>1793255231</th>\n",
       "      <td>1</td>\n",
       "    </tr>\n",
       "    <tr>\n",
       "      <th>1793229309</th>\n",
       "      <td>1</td>\n",
       "    </tr>\n",
       "    <tr>\n",
       "      <th>1792793085</th>\n",
       "      <td>1</td>\n",
       "    </tr>\n",
       "    <tr>\n",
       "      <th>1805142663</th>\n",
       "      <td>1</td>\n",
       "    </tr>\n",
       "  </tbody>\n",
       "</table>\n",
       "<p>638 rows × 1 columns</p>\n",
       "</div>"
      ],
      "text/plain": [
       "                LOCATION\n",
       "Current Job Id          \n",
       "1794127974             3\n",
       "1828401888             3\n",
       "1764841143             3\n",
       "1768494778             3\n",
       "1757263851             3\n",
       "...                  ...\n",
       "1794130353             1\n",
       "1793255231             1\n",
       "1793229309             1\n",
       "1792793085             1\n",
       "1805142663             1\n",
       "\n",
       "[638 rows x 1 columns]"
      ]
     },
     "execution_count": 31,
     "metadata": {},
     "output_type": "execute_result"
    }
   ],
   "source": [
    "pd.pivot_table(df_jobs,\n",
    "               values=\"LOCATION\",\n",
    "               index=['Current Job Id'],\n",
    "               aggfunc=np.count_nonzero        \n",
    "              ).sort_values(by=['LOCATION'], ascending=False)"
   ]
  },
  {
   "cell_type": "code",
   "execution_count": 66,
   "metadata": {},
   "outputs": [
    {
     "data": {
      "text/html": [
       "<div>\n",
       "<style scoped>\n",
       "    .dataframe tbody tr th:only-of-type {\n",
       "        vertical-align: middle;\n",
       "    }\n",
       "\n",
       "    .dataframe tbody tr th {\n",
       "        vertical-align: top;\n",
       "    }\n",
       "\n",
       "    .dataframe thead th {\n",
       "        text-align: right;\n",
       "    }\n",
       "</style>\n",
       "<table border=\"1\" class=\"dataframe\">\n",
       "  <thead>\n",
       "    <tr style=\"text-align: right;\">\n",
       "      <th></th>\n",
       "      <th>JOB TITLE</th>\n",
       "      <th>LOCATION</th>\n",
       "      <th>SEARCH DATETIME</th>\n",
       "      <th>Current Job Id</th>\n",
       "      <th>Job html</th>\n",
       "      <th>Job name</th>\n",
       "      <th>Company name</th>\n",
       "      <th>Company location</th>\n",
       "      <th>Posted date</th>\n",
       "      <th>Estimated post date</th>\n",
       "      <th>Easy apply</th>\n",
       "      <th>Job Description</th>\n",
       "      <th>Skills match</th>\n",
       "      <th>Seniority Level</th>\n",
       "      <th>Industry</th>\n",
       "      <th>Employment Type</th>\n",
       "      <th>Job Functions</th>\n",
       "      <th>Job info</th>\n",
       "      <th>JOB TITLE_ID</th>\n",
       "    </tr>\n",
       "  </thead>\n",
       "  <tbody>\n",
       "  </tbody>\n",
       "</table>\n",
       "</div>"
      ],
      "text/plain": [
       "Empty DataFrame\n",
       "Columns: [JOB TITLE, LOCATION, SEARCH DATETIME, Current Job Id, Job html, Job name, Company name, Company location, Posted date, Estimated post date, Easy apply, Job Description, Skills match, Seniority Level, Industry, Employment Type, Job Functions, Job info, JOB TITLE_ID]\n",
       "Index: []"
      ]
     },
     "execution_count": 66,
     "metadata": {},
     "output_type": "execute_result"
    }
   ],
   "source": [
    "df_jobs[df_jobs['Current Job Id']==1645918674]"
   ]
  },
  {
   "cell_type": "code",
   "execution_count": null,
   "metadata": {},
   "outputs": [],
   "source": []
  },
  {
   "cell_type": "markdown",
   "metadata": {},
   "source": [
    "### > Language of each job description:"
   ]
  },
  {
   "cell_type": "code",
   "execution_count": 67,
   "metadata": {},
   "outputs": [
    {
     "data": {
      "text/plain": [
       "0    Solution Architect-Applied Intelligence Barcelona\n",
       "1                Senior Investment Accounting Analyst.\n",
       "2             Accounts Payable Analyst - Dutch Speaker\n",
       "3                          Data Analyst (sector Farma)\n",
       "4                                  IT Business Analyst\n",
       "5    Computational Linguist with Spanish - Mexican ...\n",
       "6                                  Master Data Analyst\n",
       "7                       Consultor Data Analytics (f/m)\n",
       "8                            Data Analytics Consultant\n",
       "9                                         Data Analyst\n",
       "Name: Job name, dtype: object"
      ]
     },
     "execution_count": 67,
     "metadata": {},
     "output_type": "execute_result"
    }
   ],
   "source": [
    "df_jobs['Job name'].head(10)"
   ]
  },
  {
   "cell_type": "code",
   "execution_count": 69,
   "metadata": {},
   "outputs": [
    {
     "data": {
      "text/plain": [
       "\"It's rewarding to work at a company where YOU make a difference! If you're passionate about the ever-changing IT industry and enjoy working in a fast-paced, collaborative progressive environment, you'll thrive at Tech Data! Join our team to connect the world with the power of technology!\\nTech Data es uno de los mayoristas más importantes del mundo en productos, servicios y soluciones de tecnología.\\nSus recursos avanzados de logística y sus servicios de valor añadido ayudan a más de 115.000 proveedores de IT a dar soporte a las necesidades tecnológicas de los usuarios de más de 100 países.\\nTech Data es un distribuidor de productos multitecnología para diferentes sectores del mundo empresarial: desde Enterprise (Azlan) a movilidad (Tech Data Mobile), desde Audio Video Profesional (Maverick) hasta Software de diseño (Datech), desde la tradicional IT (Tech Data) hasta consumibles electrónicos.\\n\\nTech Data está creciendo cada día más y buscamos incorporar un/a Master Data Analyst o grabador dedatos a nuestro equipo de Article Management.\\n\\nQué hacemos en Article Management?\\nDentro del área de compras internacionales, nuestro equipo de Article Management, se responsabiliza de la creación y mantenimiento de datos en nuestros sistemas informáticos. Gestionamos una base de datos con más de 1.000.000 de referencias activas.\\n\\nTareas a Desarrollar\\nCreación de datos maestros en nuestros sistemas informáticas\\nCreación de materiales, mantenimiento y actualización de precios, introducción de información relacionada con nuestro catálogo de productos\\nInvestigar, desarrollar e implementar iniciativas de mejora en el proceso de gestión del Master Data de la compañía, asegurando la calidad de la información en sistema\\nChequeo de integridad de datos en el sistema\\nRevisión de la información\\nResolución de incidencias\\nPunto de contacto con proveedores y recepción de cambios en lista de precios\\nBuscamos\\nAtención al detalle, meticulosidad en el trabajo\\nProactividad y auto-motivación\\nGestión del tiempo y organización individual\\nOrientación al cliente y a resultados\\nBuen dominio de idioma inglés\\nBuen dominio de programas informáticos Office (Excel nivel avanzado)\\nConocimiento de productos tecnológicos es un plus\\nTe unirás al mejor equipo de Master Data, con una clara vocación de servicio, orientado a la calidad y preocupado por tener un excelente clima laboral.\\n¿Te apuntas?\\nIndustry\\nComputer Hardware Computer Software Information Technology & Services\\nEmployment Type\\nFull-time\\nJob Functions\\nInformation Technology\""
      ]
     },
     "execution_count": 69,
     "metadata": {},
     "output_type": "execute_result"
    }
   ],
   "source": [
    "s = df_jobs.loc[6,'Job Description']\n",
    "s"
   ]
  },
  {
   "cell_type": "code",
   "execution_count": 70,
   "metadata": {},
   "outputs": [
    {
     "data": {
      "text/plain": [
       "'es'"
      ]
     },
     "execution_count": 70,
     "metadata": {},
     "output_type": "execute_result"
    }
   ],
   "source": [
    "detect(s)"
   ]
  },
  {
   "cell_type": "code",
   "execution_count": 71,
   "metadata": {},
   "outputs": [],
   "source": [
    "df_jobs['Info Language'] = df_jobs['Job info'].apply(lambda x: detect(x))"
   ]
  },
  {
   "cell_type": "code",
   "execution_count": 72,
   "metadata": {},
   "outputs": [
    {
     "data": {
      "text/plain": [
       "array(['en', 'es'], dtype=object)"
      ]
     },
     "execution_count": 72,
     "metadata": {},
     "output_type": "execute_result"
    }
   ],
   "source": [
    "df_jobs['Info Language'].unique()"
   ]
  },
  {
   "cell_type": "code",
   "execution_count": 73,
   "metadata": {},
   "outputs": [
    {
     "data": {
      "text/plain": [
       "array(['Associate', nan, 'Entry level', 'Mid-Senior level', 'Executive',\n",
       "       'Internship', 'Director'], dtype=object)"
      ]
     },
     "execution_count": 73,
     "metadata": {},
     "output_type": "execute_result"
    }
   ],
   "source": [
    "df_jobs['Seniority Level'].unique()"
   ]
  },
  {
   "cell_type": "markdown",
   "metadata": {},
   "source": [
    "### > Coincidences with definitions:"
   ]
  },
  {
   "cell_type": "code",
   "execution_count": 74,
   "metadata": {},
   "outputs": [],
   "source": [
    "def coincidencias(job_skills, post_skills):\n",
    "    c = 0\n",
    "    for i in job_skills: \n",
    "        if re.search(i,post_skills): \n",
    "            c+=1\n",
    "    return c\n",
    "        "
   ]
  },
  {
   "cell_type": "code",
   "execution_count": 75,
   "metadata": {},
   "outputs": [],
   "source": [
    "def list_coincidencias(job_skills, post_skills):\n",
    "    l=[]\n",
    "    for i in job_skills:\n",
    "        if re.search(i,post_skills):\n",
    "            l.append(i)\n",
    "    return l\n",
    "        "
   ]
  },
  {
   "cell_type": "code",
   "execution_count": 76,
   "metadata": {},
   "outputs": [],
   "source": [
    "def clean_text(text):\n",
    "    text = text.replace('\\n',' ')\n",
    "    text = text.replace('á','a')\n",
    "    text = text.replace('é','e')\n",
    "    text = text.replace('í','i')\n",
    "    text = text.replace('ó','o')\n",
    "    text = text.replace('ú','u')\n",
    "    text = text.replace('.',' ')\n",
    "    text = text.lower()\n",
    "    \n",
    "    return text\n",
    "    "
   ]
  },
  {
   "cell_type": "markdown",
   "metadata": {},
   "source": [
    "#### jobs >"
   ]
  },
  {
   "cell_type": "code",
   "execution_count": 79,
   "metadata": {},
   "outputs": [],
   "source": [
    "jobs_list = list(df_jobs['JOB TITLE'].unique()) #only jobs that searcht has been taken"
   ]
  },
  {
   "cell_type": "code",
   "execution_count": 81,
   "metadata": {},
   "outputs": [],
   "source": [
    "\n",
    "for j in jobs_list:\n",
    "    skills_list = dic_key_words.get(j) #dictionary\n",
    "\n",
    "    df_jobs[f'{j[0:2]} coincidences'] = \\\n",
    "    df_jobs['Job info'].apply(lambda x: coincidencias(skills_list,clean_text(x)))\n",
    "    df_jobs[f'{j[0:2]} coincidences_list'] = \\\n",
    "    df_jobs['Job info'].apply(lambda x: list_coincidencias(skills_list,clean_text(x)))\n",
    "\n",
    "#     df_jobs['DS coincidences'] = \\\n",
    "#     df_jobs['Job info'].apply(lambda x: coincidencias(DS_list,clean_text(x)))\n",
    "#     df_jobs['DS coincidences_list'] = \\\n",
    "#     df_jobs['Job info'].apply(lambda x: list_coincidencias(DS_list,clean_text(x)))\n",
    "\n",
    "#     df_jobs['DE coincidences'] = \\\n",
    "#     df_jobs['Job info'].apply(lambda x: coincidencias(DE_list,clean_text(x)))\n",
    "#     df_jobs['DE coincidences_list'] = \\\n",
    "#     df_jobs['Job info'].apply(lambda x: list_coincidencias(DE_list,clean_text(x)))"
   ]
  },
  {
   "cell_type": "markdown",
   "metadata": {},
   "source": [
    "#### profile >"
   ]
  },
  {
   "cell_type": "code",
   "execution_count": 82,
   "metadata": {},
   "outputs": [
    {
     "data": {
      "text/plain": [
       "\"['analytical skills', 'bash', 'business analysis', 'business intelligence', 'business process improvement', 'continuous improvement', 'data analysis', 'data analytics', 'data modeling', 'data pipelines', 'data science', 'data visualization', 'engineering', 'engineering - be', 'english', 'español', 'financial analysis', 'git', 'industrial engineering', 'industry knowledge', 'jupyter', 'leadership', 'lean manufacturing', 'machine learning', 'master', 'microsoft excel', 'microsoft office', 'microsoft power bi', 'microsoft power query', 'microsoft project', 'mysql', 'negotiation', 'numpy', 'pandas', 'power pivot', 'process engineering', 'process optimization', 'programming', 'project management', 'python', 'r', 'sap', 'scrum', 'seaborn', 'six sigma', 'spanish', 'sql', 'statistics', 'tableau', 'team management', 'teamwork', 'telco', 'vba', 'visual basic for applications', 'web scraping']\""
      ]
     },
     "execution_count": 82,
     "metadata": {},
     "output_type": "execute_result"
    }
   ],
   "source": [
    "df_profile.loc['total skills', 'info']"
   ]
  },
  {
   "cell_type": "code",
   "execution_count": 83,
   "metadata": {},
   "outputs": [
    {
     "data": {
      "text/plain": [
       "['analytical skills',\n",
       " 'bash',\n",
       " 'business analysis',\n",
       " 'business intelligence',\n",
       " 'business process improvement',\n",
       " 'continuous improvement',\n",
       " 'data analysis',\n",
       " 'data analytics',\n",
       " 'data modeling',\n",
       " 'data pipelines',\n",
       " 'data science',\n",
       " 'data visualization',\n",
       " 'engineering',\n",
       " 'english',\n",
       " 'español',\n",
       " 'financial analysis',\n",
       " 'git',\n",
       " 'industry knowledge',\n",
       " 'jupyter',\n",
       " 'leadership',\n",
       " 'lean manufacturing',\n",
       " 'machine learning',\n",
       " 'microsoft excel',\n",
       " 'microsoft office',\n",
       " 'microsoft power bi',\n",
       " 'microsoft power query',\n",
       " 'microsoft project',\n",
       " 'mysql',\n",
       " 'negotiation',\n",
       " 'numpy',\n",
       " 'pandas',\n",
       " 'power pivot',\n",
       " 'process engineering',\n",
       " 'process optimization',\n",
       " 'programming',\n",
       " 'project management',\n",
       " 'python',\n",
       " 'r',\n",
       " 'sap',\n",
       " 'scrum',\n",
       " 'seaborn',\n",
       " 'six sigma',\n",
       " 'sql',\n",
       " 'statistics',\n",
       " 'tableau',\n",
       " 'team management',\n",
       " 'teamwork',\n",
       " 'telco',\n",
       " 'vba',\n",
       " 'visual basic for applications',\n",
       " 'web scraping']"
      ]
     },
     "execution_count": 83,
     "metadata": {},
     "output_type": "execute_result"
    }
   ],
   "source": [
    "#### THIS IS ONLY FOR JUPYTER !!!!!!!!!!!!!!!!!!!!\n",
    "profile_skills = clean_text(df_profile.loc['skills', 'info']).replace('[','').replace(']','').replace(\"'\",\"\").split(', ')\n",
    "sorted(profile_skills)"
   ]
  },
  {
   "cell_type": "code",
   "execution_count": 84,
   "metadata": {},
   "outputs": [],
   "source": [
    "df_jobs['PROFILE coincidences'] = \\\n",
    "df_jobs['Job info'].apply(lambda x:      coincidencias(profile_skills,clean_text(x)))\n",
    "df_jobs['PROFILE coincidences_list'] = \\\n",
    "df_jobs['Job info'].apply(lambda x: list_coincidencias(profile_skills,clean_text(x)))"
   ]
  },
  {
   "cell_type": "code",
   "execution_count": 88,
   "metadata": {},
   "outputs": [
    {
     "data": {
      "text/html": [
       "<div>\n",
       "<style scoped>\n",
       "    .dataframe tbody tr th:only-of-type {\n",
       "        vertical-align: middle;\n",
       "    }\n",
       "\n",
       "    .dataframe tbody tr th {\n",
       "        vertical-align: top;\n",
       "    }\n",
       "\n",
       "    .dataframe thead th {\n",
       "        text-align: right;\n",
       "    }\n",
       "</style>\n",
       "<table border=\"1\" class=\"dataframe\">\n",
       "  <thead>\n",
       "    <tr style=\"text-align: right;\">\n",
       "      <th></th>\n",
       "      <th>JOB TITLE</th>\n",
       "      <th>LOCATION</th>\n",
       "      <th>SEARCH DATETIME</th>\n",
       "      <th>Current Job Id</th>\n",
       "      <th>Job html</th>\n",
       "      <th>Job name</th>\n",
       "      <th>Company name</th>\n",
       "      <th>Company location</th>\n",
       "      <th>Posted date</th>\n",
       "      <th>Estimated post date</th>\n",
       "      <th>...</th>\n",
       "      <th>Industry</th>\n",
       "      <th>Employment Type</th>\n",
       "      <th>Job Functions</th>\n",
       "      <th>Job info</th>\n",
       "      <th>JOB TITLE_ID</th>\n",
       "      <th>Info Language</th>\n",
       "      <th>da coincidences</th>\n",
       "      <th>da coincidences_list</th>\n",
       "      <th>PROFILE coincidences</th>\n",
       "      <th>PROFILE coincidences_list</th>\n",
       "    </tr>\n",
       "  </thead>\n",
       "  <tbody>\n",
       "    <tr>\n",
       "      <th>0</th>\n",
       "      <td>data analyst</td>\n",
       "      <td>Barcelona</td>\n",
       "      <td>2020-04-21 00:58</td>\n",
       "      <td>1753506830</td>\n",
       "      <td>https://www.linkedin.com/jobs/view/1753506830/</td>\n",
       "      <td>Solution Architect-Applied Intelligence Barcelona</td>\n",
       "      <td>Accenture España</td>\n",
       "      <td>Barcelona, ES</td>\n",
       "      <td>3 weeks</td>\n",
       "      <td>2020-03-31 00:58</td>\n",
       "      <td>...</td>\n",
       "      <td>Information Technology &amp; Services Computer Sof...</td>\n",
       "      <td>Full-time</td>\n",
       "      <td>Engineering Information Technology</td>\n",
       "      <td>Posted Date\\nPosted 3 weeks ago\\nNumber of vie...</td>\n",
       "      <td>data analyst_1753506830</td>\n",
       "      <td>en</td>\n",
       "      <td>6</td>\n",
       "      <td>[sql, nosql, python, java , big data, azure]</td>\n",
       "      <td>9</td>\n",
       "      <td>[english, git, sql, programming, python, r, en...</td>\n",
       "    </tr>\n",
       "    <tr>\n",
       "      <th>1</th>\n",
       "      <td>data analyst</td>\n",
       "      <td>Barcelona</td>\n",
       "      <td>2020-04-21 00:58</td>\n",
       "      <td>1816757840</td>\n",
       "      <td>https://www.linkedin.com/jobs/view/1816757840/</td>\n",
       "      <td>Senior Investment Accounting Analyst.</td>\n",
       "      <td>Zurich Insurance Company Ltd</td>\n",
       "      <td>Barcelona, ES</td>\n",
       "      <td>1 week</td>\n",
       "      <td>2020-04-14 00:58</td>\n",
       "      <td>...</td>\n",
       "      <td>Financial Services Insurance</td>\n",
       "      <td>Full-time</td>\n",
       "      <td>Accounting/Auditing Finance</td>\n",
       "      <td>Posted Date\\nPosted 1 week ago\\nNumber of view...</td>\n",
       "      <td>data analyst_1816757840</td>\n",
       "      <td>en</td>\n",
       "      <td>0</td>\n",
       "      <td>[]</td>\n",
       "      <td>3</td>\n",
       "      <td>[sap, english, r]</td>\n",
       "    </tr>\n",
       "  </tbody>\n",
       "</table>\n",
       "<p>2 rows × 24 columns</p>\n",
       "</div>"
      ],
      "text/plain": [
       "      JOB TITLE   LOCATION   SEARCH DATETIME  Current Job Id  \\\n",
       "0  data analyst  Barcelona  2020-04-21 00:58      1753506830   \n",
       "1  data analyst  Barcelona  2020-04-21 00:58      1816757840   \n",
       "\n",
       "                                         Job html  \\\n",
       "0  https://www.linkedin.com/jobs/view/1753506830/   \n",
       "1  https://www.linkedin.com/jobs/view/1816757840/   \n",
       "\n",
       "                                            Job name  \\\n",
       "0  Solution Architect-Applied Intelligence Barcelona   \n",
       "1              Senior Investment Accounting Analyst.   \n",
       "\n",
       "                   Company name Company location Posted date  \\\n",
       "0              Accenture España    Barcelona, ES     3 weeks   \n",
       "1  Zurich Insurance Company Ltd    Barcelona, ES      1 week   \n",
       "\n",
       "  Estimated post date  ...                                           Industry  \\\n",
       "0    2020-03-31 00:58  ...  Information Technology & Services Computer Sof...   \n",
       "1    2020-04-14 00:58  ...                       Financial Services Insurance   \n",
       "\n",
       "  Employment Type                       Job Functions  \\\n",
       "0       Full-time  Engineering Information Technology   \n",
       "1       Full-time         Accounting/Auditing Finance   \n",
       "\n",
       "                                            Job info             JOB TITLE_ID  \\\n",
       "0  Posted Date\\nPosted 3 weeks ago\\nNumber of vie...  data analyst_1753506830   \n",
       "1  Posted Date\\nPosted 1 week ago\\nNumber of view...  data analyst_1816757840   \n",
       "\n",
       "  Info Language da coincidences                          da coincidences_list  \\\n",
       "0            en               6  [sql, nosql, python, java , big data, azure]   \n",
       "1            en               0                                            []   \n",
       "\n",
       "  PROFILE coincidences                          PROFILE coincidences_list  \n",
       "0                    9  [english, git, sql, programming, python, r, en...  \n",
       "1                    3                                  [sap, english, r]  \n",
       "\n",
       "[2 rows x 24 columns]"
      ]
     },
     "execution_count": 88,
     "metadata": {},
     "output_type": "execute_result"
    }
   ],
   "source": [
    "df_jobs.head(2)"
   ]
  },
  {
   "cell_type": "markdown",
   "metadata": {},
   "source": [
    "#### checking results >"
   ]
  },
  {
   "cell_type": "code",
   "execution_count": 85,
   "metadata": {},
   "outputs": [],
   "source": [
    "check = 10"
   ]
  },
  {
   "cell_type": "code",
   "execution_count": 86,
   "metadata": {},
   "outputs": [
    {
     "data": {
      "text/plain": [
       "'Data Analyst Fotocasa'"
      ]
     },
     "execution_count": 86,
     "metadata": {},
     "output_type": "execute_result"
    }
   ],
   "source": [
    "df_jobs.loc[check ,'Job name']"
   ]
  },
  {
   "cell_type": "code",
   "execution_count": 89,
   "metadata": {},
   "outputs": [
    {
     "data": {
      "text/plain": [
       "{'da coincidences': 2,\n",
       " 'da coincidences_list': ['sql', ' r '],\n",
       " 'PROFILE coincidences': 4,\n",
       " 'PROFILE coincidences_list': ['git', 'sql', 'r', 'tableau']}"
      ]
     },
     "execution_count": 89,
     "metadata": {},
     "output_type": "execute_result"
    }
   ],
   "source": [
    "dict(df_jobs.loc[check ,'da coincidences':'PROFILE coincidences_list'])"
   ]
  },
  {
   "cell_type": "code",
   "execution_count": 90,
   "metadata": {},
   "outputs": [
    {
     "data": {
      "text/plain": [
       "'descripcion del empleo  estamos buscando un/a excepcional data/insight analyst para formar parte del equipo de data & insights de fotocasa  trabajaras como un miembro mas del equipo de data & insights, colaborando mano a mano con diferentes departamentos como producto, marketing o business development  tu mision principal es la de definir y realizar analisis de negocio y muy especialmente de producto y marketing, ayudando a entender el comportamiento de nuestros usuarios y clientes y asi mejorar el servicio que les ofrecemos   estas seran tus funciones identificar y comprender las necesidades de analisis de producto, marketing y business development para definir una solucion con los resuelva  analizar e interpretar kpis de nuestros sites entendiendo el comportamiento de usuarios, identificando tendencias, riesgos y oportunidades para dar insights que ayuden a realizar recomendaciones para optimizar y mejorar el servicio  a/b testing: participaras en la definicion de test, desde la creacion de hipotesis, identificacion kpis de exito, extraccion y analisis de resultados y recomendaciones  definicion y mantenimiento del tagging siguiendo las buenas practicas  acompañamiento a los diferentes equipos para formarles, asesorarles y eliminar las barreras que existan con el fin de facilitar la autonomia analitica de los equipos  benchmark de nuestros sites y del mercado   dashboarding & reporting conceptualizacion y creacion de dashboards para el seguimiento y control del negocio, asi como de las alertas que faciliten la monitorizacion proactiva  generar reports que permitan seguir tanto la evolucion de los proyectos como para necesidades concretas o puntuales  automatizar al maximo los procesos de analisis de los departamentos con las herramientas adecuadas para compartir el conocimiento y generar autonomia   titulos experiencia minimo 3 años en ecommerce o en una empresa online  acostumbrado/a trabajar con equipos de producto, estrategia, finanzas, direccion general  experiencia en definicion, implementacion y medicion de producto online  advanced user en digital analytics tools (adobe analytics, google analytics)  habituado a trabajar con bbdd y conocimiento avanzado de sql  conocimiento avanzado de excel  conocimientos de r y/o phyton  habituada a realizar visualizaciones en dashboards con herramientas como tableau  imprescindible que tengas capacidad de sintesis, sensible a la calidad del dato y orientacion al cliente  capacidad analitica: saber interpretar los datos para extraer insights relevantes y ser capaz de traducir las preguntas de negocio a necesidades analiticas  ingles intermediate o superior   informacion adicional trabajar con los mejores profesionales en una empresa referente y que apuesta por la innovacion  nuevas oficinas en la zona del 22@ (a 5 minutos de la estacion de glories)  flexibilidad horaria y jornada intensiva los viernes  jornada intensiva durante los meses de verano y semana santa  plan de retribucion flexible  beneficios sociales y descuentos como gimnasio  seguro medico totalmente financiado por la empresa  portatil macbookpro o dell & movil iphone8 o samsung9  parking subvencionado  seniority level entry level industry information technology & services computer software internet employment type full-time job functions information technology'"
      ]
     },
     "execution_count": 90,
     "metadata": {},
     "output_type": "execute_result"
    }
   ],
   "source": [
    "clean_text(df_jobs.loc[check ,'Job Description'])"
   ]
  },
  {
   "cell_type": "markdown",
   "metadata": {},
   "source": [
    "### TOP JOB POST >"
   ]
  },
  {
   "cell_type": "code",
   "execution_count": 91,
   "metadata": {},
   "outputs": [],
   "source": [
    "top = 5"
   ]
  },
  {
   "cell_type": "code",
   "execution_count": 92,
   "metadata": {},
   "outputs": [
    {
     "data": {
      "text/html": [
       "<div>\n",
       "<style scoped>\n",
       "    .dataframe tbody tr th:only-of-type {\n",
       "        vertical-align: middle;\n",
       "    }\n",
       "\n",
       "    .dataframe tbody tr th {\n",
       "        vertical-align: top;\n",
       "    }\n",
       "\n",
       "    .dataframe thead th {\n",
       "        text-align: right;\n",
       "    }\n",
       "</style>\n",
       "<table border=\"1\" class=\"dataframe\">\n",
       "  <thead>\n",
       "    <tr style=\"text-align: right;\">\n",
       "      <th></th>\n",
       "      <th>JOB TITLE</th>\n",
       "      <th>LOCATION</th>\n",
       "      <th>SEARCH DATETIME</th>\n",
       "      <th>Current Job Id</th>\n",
       "      <th>Job html</th>\n",
       "      <th>Job name</th>\n",
       "      <th>Company name</th>\n",
       "      <th>Company location</th>\n",
       "      <th>Posted date</th>\n",
       "      <th>Estimated post date</th>\n",
       "      <th>...</th>\n",
       "      <th>Industry</th>\n",
       "      <th>Employment Type</th>\n",
       "      <th>Job Functions</th>\n",
       "      <th>Job info</th>\n",
       "      <th>JOB TITLE_ID</th>\n",
       "      <th>Info Language</th>\n",
       "      <th>da coincidences</th>\n",
       "      <th>da coincidences_list</th>\n",
       "      <th>PROFILE coincidences</th>\n",
       "      <th>PROFILE coincidences_list</th>\n",
       "    </tr>\n",
       "  </thead>\n",
       "  <tbody>\n",
       "    <tr>\n",
       "      <th>152</th>\n",
       "      <td>data engineer</td>\n",
       "      <td>Barcelona</td>\n",
       "      <td>2020-04-21 00:58</td>\n",
       "      <td>1682047755</td>\n",
       "      <td>https://www.linkedin.com/jobs/view/1682047755/</td>\n",
       "      <td>Lead Data Scientist</td>\n",
       "      <td>TeamCMP</td>\n",
       "      <td>Barcelona, ES</td>\n",
       "      <td>6 days</td>\n",
       "      <td>2020-04-15 00:58</td>\n",
       "      <td>...</td>\n",
       "      <td>Internet</td>\n",
       "      <td>Full-time</td>\n",
       "      <td>Information Technology Analyst</td>\n",
       "      <td>Posted Date\\nPosted 6 days ago\\nNumber of view...</td>\n",
       "      <td>data engineer_1682047755</td>\n",
       "      <td>en</td>\n",
       "      <td>6</td>\n",
       "      <td>[data engineer, sql, python,  r , spark,  aws ]</td>\n",
       "      <td>15</td>\n",
       "      <td>[data analysis, english, git, sql, data scienc...</td>\n",
       "    </tr>\n",
       "    <tr>\n",
       "      <th>62</th>\n",
       "      <td>data scientist</td>\n",
       "      <td>Barcelona</td>\n",
       "      <td>2020-04-21 00:58</td>\n",
       "      <td>1682047755</td>\n",
       "      <td>https://www.linkedin.com/jobs/view/1682047755/</td>\n",
       "      <td>Lead Data Scientist</td>\n",
       "      <td>TeamCMP</td>\n",
       "      <td>Barcelona, ES</td>\n",
       "      <td>6 days</td>\n",
       "      <td>2020-04-15 00:58</td>\n",
       "      <td>...</td>\n",
       "      <td>Internet</td>\n",
       "      <td>Full-time</td>\n",
       "      <td>Information Technology Analyst</td>\n",
       "      <td>Posted Date\\nPosted 6 days ago\\nNumber of view...</td>\n",
       "      <td>data scientist_1682047755</td>\n",
       "      <td>en</td>\n",
       "      <td>6</td>\n",
       "      <td>[data engineer, sql, python,  r , spark,  aws ]</td>\n",
       "      <td>15</td>\n",
       "      <td>[data analysis, english, git, sql, data scienc...</td>\n",
       "    </tr>\n",
       "    <tr>\n",
       "      <th>143</th>\n",
       "      <td>data scientist</td>\n",
       "      <td>Barcelona</td>\n",
       "      <td>2020-04-21 00:58</td>\n",
       "      <td>1816580513</td>\n",
       "      <td>https://www.linkedin.com/jobs/view/1816580513/</td>\n",
       "      <td>Data Scientist Internship</td>\n",
       "      <td>Entravision</td>\n",
       "      <td>Barcelona, ES</td>\n",
       "      <td>3 weeks</td>\n",
       "      <td>2020-03-31 00:58</td>\n",
       "      <td>...</td>\n",
       "      <td>Marketing &amp; Advertising Online Media Internet</td>\n",
       "      <td>Internship</td>\n",
       "      <td>Engineering Information Technology</td>\n",
       "      <td>Posted Date\\nPosted 3 weeks ago\\nNumber of vie...</td>\n",
       "      <td>data scientist_1816580513</td>\n",
       "      <td>en</td>\n",
       "      <td>5</td>\n",
       "      <td>[sql, python, scala, spark,  aws ]</td>\n",
       "      <td>14</td>\n",
       "      <td>[english, git, sql, data visualization, data s...</td>\n",
       "    </tr>\n",
       "    <tr>\n",
       "      <th>123</th>\n",
       "      <td>data scientist</td>\n",
       "      <td>Barcelona</td>\n",
       "      <td>2020-04-21 00:58</td>\n",
       "      <td>1780265203</td>\n",
       "      <td>https://www.linkedin.com/jobs/view/1780265203/</td>\n",
       "      <td>Sr Data Scientist</td>\n",
       "      <td>Entravision</td>\n",
       "      <td>Barcelona, ES</td>\n",
       "      <td>1 month</td>\n",
       "      <td>2020-03-24 00:58</td>\n",
       "      <td>...</td>\n",
       "      <td>Marketing &amp; Advertising Online Media Internet</td>\n",
       "      <td>Full-time</td>\n",
       "      <td>Other</td>\n",
       "      <td>Posted Date\\nPosted 1 month ago\\nNumber of vie...</td>\n",
       "      <td>data scientist_1780265203</td>\n",
       "      <td>en</td>\n",
       "      <td>6</td>\n",
       "      <td>[sql, python, scala, java , spark,  aws ]</td>\n",
       "      <td>14</td>\n",
       "      <td>[english, git, sql, data visualization, data s...</td>\n",
       "    </tr>\n",
       "    <tr>\n",
       "      <th>135</th>\n",
       "      <td>data scientist</td>\n",
       "      <td>Barcelona</td>\n",
       "      <td>2020-04-21 00:58</td>\n",
       "      <td>1756897291</td>\n",
       "      <td>https://www.linkedin.com/jobs/view/1756897291/</td>\n",
       "      <td>Sr Data Scientist</td>\n",
       "      <td>Entravision Communications</td>\n",
       "      <td>Barcelona, ES</td>\n",
       "      <td>2 months</td>\n",
       "      <td>2020-02-25 00:58</td>\n",
       "      <td>...</td>\n",
       "      <td>Marketing &amp; Advertising Online Media Internet</td>\n",
       "      <td>Full-time</td>\n",
       "      <td>Other</td>\n",
       "      <td>Posted Date\\nPosted 2 months ago\\nNumber of vi...</td>\n",
       "      <td>data scientist_1756897291</td>\n",
       "      <td>en</td>\n",
       "      <td>6</td>\n",
       "      <td>[sql, python, scala, java , spark,  aws ]</td>\n",
       "      <td>14</td>\n",
       "      <td>[english, git, sql, data visualization, data s...</td>\n",
       "    </tr>\n",
       "  </tbody>\n",
       "</table>\n",
       "<p>5 rows × 24 columns</p>\n",
       "</div>"
      ],
      "text/plain": [
       "          JOB TITLE   LOCATION   SEARCH DATETIME  Current Job Id  \\\n",
       "152   data engineer  Barcelona  2020-04-21 00:58      1682047755   \n",
       "62   data scientist  Barcelona  2020-04-21 00:58      1682047755   \n",
       "143  data scientist  Barcelona  2020-04-21 00:58      1816580513   \n",
       "123  data scientist  Barcelona  2020-04-21 00:58      1780265203   \n",
       "135  data scientist  Barcelona  2020-04-21 00:58      1756897291   \n",
       "\n",
       "                                           Job html  \\\n",
       "152  https://www.linkedin.com/jobs/view/1682047755/   \n",
       "62   https://www.linkedin.com/jobs/view/1682047755/   \n",
       "143  https://www.linkedin.com/jobs/view/1816580513/   \n",
       "123  https://www.linkedin.com/jobs/view/1780265203/   \n",
       "135  https://www.linkedin.com/jobs/view/1756897291/   \n",
       "\n",
       "                      Job name                Company name Company location  \\\n",
       "152        Lead Data Scientist                     TeamCMP    Barcelona, ES   \n",
       "62         Lead Data Scientist                     TeamCMP    Barcelona, ES   \n",
       "143  Data Scientist Internship                 Entravision    Barcelona, ES   \n",
       "123          Sr Data Scientist                 Entravision    Barcelona, ES   \n",
       "135          Sr Data Scientist  Entravision Communications    Barcelona, ES   \n",
       "\n",
       "    Posted date Estimated post date  ...  \\\n",
       "152      6 days    2020-04-15 00:58  ...   \n",
       "62       6 days    2020-04-15 00:58  ...   \n",
       "143     3 weeks    2020-03-31 00:58  ...   \n",
       "123     1 month    2020-03-24 00:58  ...   \n",
       "135    2 months    2020-02-25 00:58  ...   \n",
       "\n",
       "                                          Industry Employment Type  \\\n",
       "152                                       Internet       Full-time   \n",
       "62                                        Internet       Full-time   \n",
       "143  Marketing & Advertising Online Media Internet      Internship   \n",
       "123  Marketing & Advertising Online Media Internet       Full-time   \n",
       "135  Marketing & Advertising Online Media Internet       Full-time   \n",
       "\n",
       "                          Job Functions  \\\n",
       "152      Information Technology Analyst   \n",
       "62       Information Technology Analyst   \n",
       "143  Engineering Information Technology   \n",
       "123                               Other   \n",
       "135                               Other   \n",
       "\n",
       "                                              Job info  \\\n",
       "152  Posted Date\\nPosted 6 days ago\\nNumber of view...   \n",
       "62   Posted Date\\nPosted 6 days ago\\nNumber of view...   \n",
       "143  Posted Date\\nPosted 3 weeks ago\\nNumber of vie...   \n",
       "123  Posted Date\\nPosted 1 month ago\\nNumber of vie...   \n",
       "135  Posted Date\\nPosted 2 months ago\\nNumber of vi...   \n",
       "\n",
       "                  JOB TITLE_ID Info Language da coincidences  \\\n",
       "152   data engineer_1682047755            en               6   \n",
       "62   data scientist_1682047755            en               6   \n",
       "143  data scientist_1816580513            en               5   \n",
       "123  data scientist_1780265203            en               6   \n",
       "135  data scientist_1756897291            en               6   \n",
       "\n",
       "                                da coincidences_list PROFILE coincidences  \\\n",
       "152  [data engineer, sql, python,  r , spark,  aws ]                   15   \n",
       "62   [data engineer, sql, python,  r , spark,  aws ]                   15   \n",
       "143               [sql, python, scala, spark,  aws ]                   14   \n",
       "123        [sql, python, scala, java , spark,  aws ]                   14   \n",
       "135        [sql, python, scala, java , spark,  aws ]                   14   \n",
       "\n",
       "                             PROFILE coincidences_list  \n",
       "152  [data analysis, english, git, sql, data scienc...  \n",
       "62   [data analysis, english, git, sql, data scienc...  \n",
       "143  [english, git, sql, data visualization, data s...  \n",
       "123  [english, git, sql, data visualization, data s...  \n",
       "135  [english, git, sql, data visualization, data s...  \n",
       "\n",
       "[5 rows x 24 columns]"
      ]
     },
     "execution_count": 92,
     "metadata": {},
     "output_type": "execute_result"
    }
   ],
   "source": [
    "df_jobs.sort_values(by=['PROFILE coincidences'], ascending=False).head(top)"
   ]
  },
  {
   "cell_type": "code",
   "execution_count": 94,
   "metadata": {},
   "outputs": [
    {
     "data": {
      "text/html": [
       "<div>\n",
       "<style scoped>\n",
       "    .dataframe tbody tr th:only-of-type {\n",
       "        vertical-align: middle;\n",
       "    }\n",
       "\n",
       "    .dataframe tbody tr th {\n",
       "        vertical-align: top;\n",
       "    }\n",
       "\n",
       "    .dataframe thead th {\n",
       "        text-align: right;\n",
       "    }\n",
       "</style>\n",
       "<table border=\"1\" class=\"dataframe\">\n",
       "  <thead>\n",
       "    <tr style=\"text-align: right;\">\n",
       "      <th></th>\n",
       "      <th>JOB TITLE</th>\n",
       "      <th>LOCATION</th>\n",
       "      <th>SEARCH DATETIME</th>\n",
       "      <th>Current Job Id</th>\n",
       "      <th>Job html</th>\n",
       "      <th>Job name</th>\n",
       "      <th>Company name</th>\n",
       "      <th>Company location</th>\n",
       "      <th>Posted date</th>\n",
       "      <th>Estimated post date</th>\n",
       "      <th>...</th>\n",
       "      <th>Industry</th>\n",
       "      <th>Employment Type</th>\n",
       "      <th>Job Functions</th>\n",
       "      <th>Job info</th>\n",
       "      <th>JOB TITLE_ID</th>\n",
       "      <th>Info Language</th>\n",
       "      <th>da coincidences</th>\n",
       "      <th>da coincidences_list</th>\n",
       "      <th>PROFILE coincidences</th>\n",
       "      <th>PROFILE coincidences_list</th>\n",
       "    </tr>\n",
       "  </thead>\n",
       "  <tbody>\n",
       "    <tr>\n",
       "      <th>62</th>\n",
       "      <td>data scientist</td>\n",
       "      <td>Barcelona</td>\n",
       "      <td>2020-04-21 00:58</td>\n",
       "      <td>1682047755</td>\n",
       "      <td>https://www.linkedin.com/jobs/view/1682047755/</td>\n",
       "      <td>Lead Data Scientist</td>\n",
       "      <td>TeamCMP</td>\n",
       "      <td>Barcelona, ES</td>\n",
       "      <td>6 days</td>\n",
       "      <td>2020-04-15 00:58</td>\n",
       "      <td>...</td>\n",
       "      <td>Internet</td>\n",
       "      <td>Full-time</td>\n",
       "      <td>Information Technology Analyst</td>\n",
       "      <td>Posted Date\\nPosted 6 days ago\\nNumber of view...</td>\n",
       "      <td>data scientist_1682047755</td>\n",
       "      <td>en</td>\n",
       "      <td>6</td>\n",
       "      <td>[data engineer, sql, python,  r , spark,  aws ]</td>\n",
       "      <td>15</td>\n",
       "      <td>[data analysis, english, git, sql, data scienc...</td>\n",
       "    </tr>\n",
       "    <tr>\n",
       "      <th>152</th>\n",
       "      <td>data engineer</td>\n",
       "      <td>Barcelona</td>\n",
       "      <td>2020-04-21 00:58</td>\n",
       "      <td>1682047755</td>\n",
       "      <td>https://www.linkedin.com/jobs/view/1682047755/</td>\n",
       "      <td>Lead Data Scientist</td>\n",
       "      <td>TeamCMP</td>\n",
       "      <td>Barcelona, ES</td>\n",
       "      <td>6 days</td>\n",
       "      <td>2020-04-15 00:58</td>\n",
       "      <td>...</td>\n",
       "      <td>Internet</td>\n",
       "      <td>Full-time</td>\n",
       "      <td>Information Technology Analyst</td>\n",
       "      <td>Posted Date\\nPosted 6 days ago\\nNumber of view...</td>\n",
       "      <td>data engineer_1682047755</td>\n",
       "      <td>en</td>\n",
       "      <td>6</td>\n",
       "      <td>[data engineer, sql, python,  r , spark,  aws ]</td>\n",
       "      <td>15</td>\n",
       "      <td>[data analysis, english, git, sql, data scienc...</td>\n",
       "    </tr>\n",
       "  </tbody>\n",
       "</table>\n",
       "<p>2 rows × 24 columns</p>\n",
       "</div>"
      ],
      "text/plain": [
       "          JOB TITLE   LOCATION   SEARCH DATETIME  Current Job Id  \\\n",
       "62   data scientist  Barcelona  2020-04-21 00:58      1682047755   \n",
       "152   data engineer  Barcelona  2020-04-21 00:58      1682047755   \n",
       "\n",
       "                                           Job html             Job name  \\\n",
       "62   https://www.linkedin.com/jobs/view/1682047755/  Lead Data Scientist   \n",
       "152  https://www.linkedin.com/jobs/view/1682047755/  Lead Data Scientist   \n",
       "\n",
       "    Company name Company location Posted date Estimated post date  ...  \\\n",
       "62       TeamCMP    Barcelona, ES      6 days    2020-04-15 00:58  ...   \n",
       "152      TeamCMP    Barcelona, ES      6 days    2020-04-15 00:58  ...   \n",
       "\n",
       "     Industry Employment Type                   Job Functions  \\\n",
       "62   Internet       Full-time  Information Technology Analyst   \n",
       "152  Internet       Full-time  Information Technology Analyst   \n",
       "\n",
       "                                              Job info  \\\n",
       "62   Posted Date\\nPosted 6 days ago\\nNumber of view...   \n",
       "152  Posted Date\\nPosted 6 days ago\\nNumber of view...   \n",
       "\n",
       "                  JOB TITLE_ID Info Language da coincidences  \\\n",
       "62   data scientist_1682047755            en               6   \n",
       "152   data engineer_1682047755            en               6   \n",
       "\n",
       "                                da coincidences_list PROFILE coincidences  \\\n",
       "62   [data engineer, sql, python,  r , spark,  aws ]                   15   \n",
       "152  [data engineer, sql, python,  r , spark,  aws ]                   15   \n",
       "\n",
       "                             PROFILE coincidences_list  \n",
       "62   [data analysis, english, git, sql, data scienc...  \n",
       "152  [data analysis, english, git, sql, data scienc...  \n",
       "\n",
       "[2 rows x 24 columns]"
      ]
     },
     "execution_count": 94,
     "metadata": {},
     "output_type": "execute_result"
    }
   ],
   "source": [
    "df_jobs[df_jobs['Current Job Id']==1682047755]"
   ]
  },
  {
   "cell_type": "code",
   "execution_count": null,
   "metadata": {},
   "outputs": [],
   "source": []
  },
  {
   "cell_type": "markdown",
   "metadata": {},
   "source": [
    "## Using NLP"
   ]
  },
  {
   "cell_type": "code",
   "execution_count": 95,
   "metadata": {},
   "outputs": [],
   "source": [
    "nlp_en = spacy.load('en_core_web_md')\n",
    "nlp_es = spacy.load('es_core_news_md')"
   ]
  },
  {
   "cell_type": "code",
   "execution_count": 96,
   "metadata": {},
   "outputs": [
    {
     "data": {
      "text/plain": [
       "Index(['JOB TITLE', 'LOCATION', 'SEARCH DATETIME', 'Current Job Id',\n",
       "       'Job html', 'Job name', 'Company name', 'Company location',\n",
       "       'Posted date', 'Estimated post date', 'Easy apply', 'Job Description',\n",
       "       'Skills match', 'Seniority Level', 'Industry', 'Employment Type',\n",
       "       'Job Functions', 'Job info', 'JOB TITLE_ID', 'Info Language',\n",
       "       'da coincidences', 'da coincidences_list', 'PROFILE coincidences',\n",
       "       'PROFILE coincidences_list'],\n",
       "      dtype='object')"
      ]
     },
     "execution_count": 96,
     "metadata": {},
     "output_type": "execute_result"
    }
   ],
   "source": [
    "df_jobs.columns"
   ]
  },
  {
   "cell_type": "code",
   "execution_count": 97,
   "metadata": {},
   "outputs": [
    {
     "data": {
      "text/plain": [
       "['data analyst', 'data scientist', 'data engineer']"
      ]
     },
     "execution_count": 97,
     "metadata": {},
     "output_type": "execute_result"
    }
   ],
   "source": [
    "unique_jobs = list(df_jobs['JOB TITLE'].unique())\n",
    "unique_jobs"
   ]
  },
  {
   "cell_type": "code",
   "execution_count": 98,
   "metadata": {},
   "outputs": [
    {
     "data": {
      "text/plain": [
       "'DA'"
      ]
     },
     "execution_count": 98,
     "metadata": {},
     "output_type": "execute_result"
    }
   ],
   "source": [
    "unique_jobs[0].split(\" \")[0][0].upper() + unique_jobs[0].split(\" \")[1][0].upper()"
   ]
  },
  {
   "cell_type": "code",
   "execution_count": 99,
   "metadata": {},
   "outputs": [
    {
     "data": {
      "text/plain": [
       "['en', 'es']"
      ]
     },
     "execution_count": 99,
     "metadata": {},
     "output_type": "execute_result"
    }
   ],
   "source": [
    "unique_languages = list(df_jobs['Info Language'].unique())\n",
    "unique_languages"
   ]
  },
  {
   "cell_type": "code",
   "execution_count": 161,
   "metadata": {},
   "outputs": [
    {
     "data": {
      "text/plain": [
       "'barcelona'"
      ]
     },
     "execution_count": 161,
     "metadata": {},
     "output_type": "execute_result"
    }
   ],
   "source": [
    "location = df_jobs['LOCATION'].unique()[0].lower()\n",
    "location"
   ]
  },
  {
   "cell_type": "code",
   "execution_count": 163,
   "metadata": {},
   "outputs": [],
   "source": [
    "dict_corpus = {}\n",
    "dict_filtered_tokens = {}"
   ]
  },
  {
   "cell_type": "code",
   "execution_count": 164,
   "metadata": {},
   "outputs": [],
   "source": [
    "for job in unique_jobs:\n",
    "    job_key = job.split(\" \")[0][0] + job.split(\" \")[1][0]\n",
    "    job_key = job_key.upper()\n",
    "    \n",
    "    for lang in unique_languages:\n",
    "        \n",
    "        #CORPUS\n",
    "        filter_job  = df_jobs['JOB TITLE'] == job\n",
    "        filter_lang = df_jobs['Info Language'] == lang\n",
    "        corpus = df_jobs['Job Description'][filter_job & filter_lang].str.cat(sep=\" || \")\n",
    "        \n",
    "        dict_corpus.update( {f'{job_key}_{lang}' : corpus} )\n",
    "        \n",
    "        \n",
    "        #TOKENS\n",
    "        if   lang == 'en':\n",
    "            tokens = nlp_en(corpus)\n",
    "            STOP_WORDS = SW_en\n",
    "        elif lang == 'es':\n",
    "            tokens = nlp_es(corpus)\n",
    "            STOP_WORDS = SW_es\n",
    "\n",
    "        filtered_tokens = []\n",
    "\n",
    "        for word in tokens:\n",
    "            lemma = word.lemma_.lower().strip()\n",
    "\n",
    "            if lemma not in STOP_WORDS and re.search('^[a-z]+$', lemma) and lemma not in black_list and len(lemma)>1:\n",
    "                    filtered_tokens.append(lemma)\n",
    "        \n",
    "        dict_filtered_tokens.update( {f'{job_key}_{lang}': filtered_tokens} )"
   ]
  },
  {
   "cell_type": "code",
   "execution_count": 165,
   "metadata": {},
   "outputs": [
    {
     "data": {
      "text/plain": [
       "dict_keys(['DA_en', 'DA_es', 'DS_en', 'DS_es', 'DE_en', 'DE_es'])"
      ]
     },
     "execution_count": 165,
     "metadata": {},
     "output_type": "execute_result"
    }
   ],
   "source": [
    "dict_corpus.keys()"
   ]
  },
  {
   "cell_type": "code",
   "execution_count": 166,
   "metadata": {},
   "outputs": [
    {
     "data": {
      "text/plain": [
       "' Digital, help our clients grow their business in entirely new ways. Artificial Intelligence and Analytics enables our clients to achieve high performance through insights from data - insights that in'"
      ]
     },
     "execution_count": 166,
     "metadata": {},
     "output_type": "execute_result"
    }
   ],
   "source": [
    "dict_corpus.get('DA_en')[400:600]"
   ]
  },
  {
   "cell_type": "code",
   "execution_count": 167,
   "metadata": {},
   "outputs": [
    {
     "data": {
      "text/plain": [
       "dict_keys(['DA_en', 'DA_es', 'DS_en', 'DS_es', 'DE_en', 'DE_es'])"
      ]
     },
     "execution_count": 167,
     "metadata": {},
     "output_type": "execute_result"
    }
   ],
   "source": [
    "dict_filtered_tokens.keys()"
   ]
  },
  {
   "cell_type": "code",
   "execution_count": 168,
   "metadata": {},
   "outputs": [],
   "source": [
    "#dict_filtered_tokens.get('DA_en')[600:650]"
   ]
  },
  {
   "cell_type": "markdown",
   "metadata": {},
   "source": [
    "### Counting frequent words"
   ]
  },
  {
   "cell_type": "code",
   "execution_count": 171,
   "metadata": {},
   "outputs": [],
   "source": [
    "word_freq = Counter(dict_filtered_tokens.get('DA_en'))"
   ]
  },
  {
   "cell_type": "code",
   "execution_count": 172,
   "metadata": {},
   "outputs": [],
   "source": [
    "black_list = \\\n",
    "[location,\n",
    " 'empresa','work','skill',\n",
    "'parir','comer','timar',\n",
    " 'job','industry', 'type','employment', 'full','functions','seniority','level',\n",
    "]"
   ]
  },
  {
   "cell_type": "code",
   "execution_count": 173,
   "metadata": {},
   "outputs": [
    {
     "data": {
      "text/plain": [
       "[('work', 144),\n",
       " ('datum', 123),\n",
       " ('team', 123),\n",
       " ('job', 114),\n",
       " ('business', 109),\n",
       " ('experience', 96),\n",
       " ('data', 94),\n",
       " ('analyst', 87),\n",
       " ('product', 85),\n",
       " ('skill', 83),\n",
       " ('technology', 76),\n",
       " ('level', 65),\n",
       " ('company', 63),\n",
       " ('information', 59),\n",
       " ('help', 57),\n",
       " ('time', 55),\n",
       " ('analysis', 52),\n",
       " ('knowledge', 51),\n",
       " ('industry', 50),\n",
       " ('employment', 50),\n",
       " ('new', 46),\n",
       " ('language', 46),\n",
       " ('accounting', 44),\n",
       " ('service', 43),\n",
       " ('type', 42),\n",
       " ('investment', 42),\n",
       " ('role', 41),\n",
       " ('ability', 41),\n",
       " ('good', 40),\n",
       " ('customer', 39)]"
      ]
     },
     "execution_count": 173,
     "metadata": {},
     "output_type": "execute_result"
    }
   ],
   "source": [
    "common_words = word_freq.most_common(30)\n",
    "common_words"
   ]
  },
  {
   "cell_type": "code",
   "execution_count": null,
   "metadata": {},
   "outputs": [],
   "source": []
  },
  {
   "cell_type": "code",
   "execution_count": null,
   "metadata": {},
   "outputs": [],
   "source": []
  }
 ],
 "metadata": {
  "kernelspec": {
   "display_name": "Python [conda env:final_project]",
   "language": "python",
   "name": "conda-env-final_project-py"
  },
  "language_info": {
   "codemirror_mode": {
    "name": "ipython",
    "version": 3
   },
   "file_extension": ".py",
   "mimetype": "text/x-python",
   "name": "python",
   "nbconvert_exporter": "python",
   "pygments_lexer": "ipython3",
   "version": "3.7.6"
  }
 },
 "nbformat": 4,
 "nbformat_minor": 4
}
