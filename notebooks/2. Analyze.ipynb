{
 "cells": [
  {
   "cell_type": "markdown",
   "metadata": {},
   "source": [
    "# Step 2: ANALYZE"
   ]
  },
  {
   "cell_type": "code",
   "execution_count": 74,
   "metadata": {},
   "outputs": [],
   "source": [
    "import pandas as pd\n",
    "from langdetect import detect, DetectorFactory\n",
    "DetectorFactory.seed = 0\n",
    "import re\n",
    "import pandas as pd\n",
    "import numpy as np"
   ]
  },
  {
   "cell_type": "code",
   "execution_count": 162,
   "metadata": {},
   "outputs": [],
   "source": [
    "import spacy\n",
    "from spacy.lang.en.stop_words import STOP_WORDS as SW_en\n",
    "from spacy.lang.es.stop_words import STOP_WORDS as SW_es"
   ]
  },
  {
   "cell_type": "code",
   "execution_count": 76,
   "metadata": {},
   "outputs": [],
   "source": [
    "#import nltk \n",
    "#from nltk.corpus import stopwords \n",
    "#set(stopwords.words('english'))\n"
   ]
  },
  {
   "cell_type": "code",
   "execution_count": 77,
   "metadata": {},
   "outputs": [],
   "source": [
    "#!python -m spacy download en_core_web_md\n",
    "#!python -m spacy download en_core_web_sm\n",
    "#!python -m spacy download es_core_news_md"
   ]
  },
  {
   "cell_type": "code",
   "execution_count": 79,
   "metadata": {},
   "outputs": [],
   "source": [
    "dic_key_words = \\\n",
    "{   'data analyst'  : ['data analyst','analisis de datos', \n",
    "                       'data analytics', 'analitica de datos',\n",
    "                       'business analyst', 'analisis de negocios',\n",
    "                       'sql',\n",
    "                       'python',\n",
    "                       'business intelligence', 'inteligencia de negocios' , ' bi ' , \n",
    "                       'excel', 'microsoft office', 'ms office' ,\n",
    "                       'dashboard','kpi', \n",
    "                       'reporting', 'informes',\n",
    "                       'tableau', 'powerbi', 'power bi', 'microsoft bi', 'qlik', 'spotfire',\n",
    "                      ],\n",
    " \n",
    "    'data scientist': ['data scientist', 'cientifico de datos',\n",
    "                       'data science', 'ciencia de datos',\n",
    "                       'sql', \n",
    "                       'python', ' r ', \n",
    "                       ' ml ', 'machine learning','deep learning','neuronal networks', \n",
    "                       'pandas', 'numpy', 'scipy', 'web scrapping' , \n",
    "                       'data visualization', 'visualizacion de datos','matplotlib', 'seaborn', \n",
    "                       'spss',  'statistics',\n",
    "                       'sklearn','sk learn', 'sk-learn','scikit learn', 'scikit-learn' ,'tensorflow', 'keras',\n",
    "                       'data wrangling', 'limpieza de datos',\n",
    "                       ' nlp ', 'a/b testing','a b testing'\n",
    "                      ],\n",
    " \n",
    "    'data engineer':  ['data engineer', 'ingeniero de datos',\n",
    "                       'sql', 'nosql', 'no sql', 'bases de datos no relacionales',\n",
    "                       'python', ' r ', 'scala', 'java ', 'spark', 'hadoop', 'haddop' 'hive', 'impala', 'kafka', \n",
    "                       'data wrangling', 'limpieza de datos',\n",
    "                       'etl','extract, transform and load','map reduce','mapreduce', \n",
    "                       'data acquisition', 'adquisicion de datos',\n",
    "                       'big data', 'bigdata', 'bigquery',\n",
    "                       'data warehouse', \n",
    "                       ' aws ', 'azure',\n",
    "                       'software engineering'\n",
    "                      ]\n",
    "}"
   ]
  },
  {
   "cell_type": "markdown",
   "metadata": {},
   "source": [
    "## Getting csv"
   ]
  },
  {
   "cell_type": "markdown",
   "metadata": {},
   "source": [
    "#### > PROFILE:"
   ]
  },
  {
   "cell_type": "code",
   "execution_count": 116,
   "metadata": {},
   "outputs": [
    {
     "data": {
      "text/html": [
       "<div>\n",
       "<style scoped>\n",
       "    .dataframe tbody tr th:only-of-type {\n",
       "        vertical-align: middle;\n",
       "    }\n",
       "\n",
       "    .dataframe tbody tr th {\n",
       "        vertical-align: top;\n",
       "    }\n",
       "\n",
       "    .dataframe thead th {\n",
       "        text-align: right;\n",
       "    }\n",
       "</style>\n",
       "<table border=\"1\" class=\"dataframe\">\n",
       "  <thead>\n",
       "    <tr style=\"text-align: right;\">\n",
       "      <th></th>\n",
       "      <th>Unnamed: 0</th>\n",
       "      <th>info</th>\n",
       "    </tr>\n",
       "  </thead>\n",
       "  <tbody>\n",
       "    <tr>\n",
       "      <th>0</th>\n",
       "      <td>profile</td>\n",
       "      <td>cristopherrojaslepe</td>\n",
       "    </tr>\n",
       "    <tr>\n",
       "      <th>1</th>\n",
       "      <td>headline</td>\n",
       "      <td>data scientist &amp; analyst | python | pandas | n...</td>\n",
       "    </tr>\n",
       "    <tr>\n",
       "      <th>2</th>\n",
       "      <td>open new jobs</td>\n",
       "      <td>True</td>\n",
       "    </tr>\n",
       "    <tr>\n",
       "      <th>3</th>\n",
       "      <td>about</td>\n",
       "      <td>data scientist &amp; analyst and industrial engine...</td>\n",
       "    </tr>\n",
       "    <tr>\n",
       "      <th>4</th>\n",
       "      <td>experiences</td>\n",
       "      <td>['collection coordination analyst', 'real esta...</td>\n",
       "    </tr>\n",
       "    <tr>\n",
       "      <th>5</th>\n",
       "      <td>years of experiences</td>\n",
       "      <td>['1 yr 2 mos', '1 yr', '2 yrs 1 mo', '8 mos', ...</td>\n",
       "    </tr>\n",
       "    <tr>\n",
       "      <th>6</th>\n",
       "      <td>total years</td>\n",
       "      <td>7</td>\n",
       "    </tr>\n",
       "    <tr>\n",
       "      <th>7</th>\n",
       "      <td>degrees</td>\n",
       "      <td>['master', 'engineering - be']</td>\n",
       "    </tr>\n",
       "    <tr>\n",
       "      <th>8</th>\n",
       "      <td>fields</td>\n",
       "      <td>['data analytics', 'industrial engineering']</td>\n",
       "    </tr>\n",
       "    <tr>\n",
       "      <th>9</th>\n",
       "      <td>skills</td>\n",
       "      <td>['numpy', 'mysql', 'business analysis', 'micro...</td>\n",
       "    </tr>\n",
       "    <tr>\n",
       "      <th>10</th>\n",
       "      <td>languages</td>\n",
       "      <td>['english', 'spanish']</td>\n",
       "    </tr>\n",
       "    <tr>\n",
       "      <th>11</th>\n",
       "      <td>total skills</td>\n",
       "      <td>['analytical skills', 'bash', 'business analys...</td>\n",
       "    </tr>\n",
       "  </tbody>\n",
       "</table>\n",
       "</div>"
      ],
      "text/plain": [
       "              Unnamed: 0                                               info\n",
       "0                profile                                cristopherrojaslepe\n",
       "1               headline  data scientist & analyst | python | pandas | n...\n",
       "2          open new jobs                                               True\n",
       "3                  about  data scientist & analyst and industrial engine...\n",
       "4            experiences  ['collection coordination analyst', 'real esta...\n",
       "5   years of experiences  ['1 yr 2 mos', '1 yr', '2 yrs 1 mo', '8 mos', ...\n",
       "6            total years                                                  7\n",
       "7                degrees                     ['master', 'engineering - be']\n",
       "8                 fields       ['data analytics', 'industrial engineering']\n",
       "9                 skills  ['numpy', 'mysql', 'business analysis', 'micro...\n",
       "10             languages                             ['english', 'spanish']\n",
       "11          total skills  ['analytical skills', 'bash', 'business analys..."
      ]
     },
     "execution_count": 116,
     "metadata": {},
     "output_type": "execute_result"
    }
   ],
   "source": [
    "if platform.system() == 'Linux':\n",
    "    df_profile = pd.read_csv(f'../data/raw/df_profile_cristopherrojaslepe.csv',\n",
    "                             sep = ';',\n",
    "                             encoding= 'utf8'\n",
    "                  )\n",
    "elif platform.system() == 'Windows':\n",
    "    df_profile = pd.read_csv(f'..\\\\data\\\\raw\\\\df_profile.csv',\n",
    "                             sep = ';',\n",
    "                             encoding= 'utf8'\n",
    "    \n",
    "df_profile"
   ]
  },
  {
   "cell_type": "code",
   "execution_count": 117,
   "metadata": {},
   "outputs": [],
   "source": [
    "## ONLY FOR JUPYTER !!!!!!!!!!\n",
    "df_profile.rename(columns={'Unnamed: 0':'type'},inplace=True)\n",
    "df_profile.set_index('type', inplace=True)"
   ]
  },
  {
   "cell_type": "code",
   "execution_count": 118,
   "metadata": {},
   "outputs": [
    {
     "data": {
      "text/html": [
       "<div>\n",
       "<style scoped>\n",
       "    .dataframe tbody tr th:only-of-type {\n",
       "        vertical-align: middle;\n",
       "    }\n",
       "\n",
       "    .dataframe tbody tr th {\n",
       "        vertical-align: top;\n",
       "    }\n",
       "\n",
       "    .dataframe thead th {\n",
       "        text-align: right;\n",
       "    }\n",
       "</style>\n",
       "<table border=\"1\" class=\"dataframe\">\n",
       "  <thead>\n",
       "    <tr style=\"text-align: right;\">\n",
       "      <th></th>\n",
       "      <th>info</th>\n",
       "    </tr>\n",
       "    <tr>\n",
       "      <th>type</th>\n",
       "      <th></th>\n",
       "    </tr>\n",
       "  </thead>\n",
       "  <tbody>\n",
       "    <tr>\n",
       "      <th>profile</th>\n",
       "      <td>cristopherrojaslepe</td>\n",
       "    </tr>\n",
       "    <tr>\n",
       "      <th>headline</th>\n",
       "      <td>data scientist &amp; analyst | python | pandas | n...</td>\n",
       "    </tr>\n",
       "    <tr>\n",
       "      <th>open new jobs</th>\n",
       "      <td>True</td>\n",
       "    </tr>\n",
       "    <tr>\n",
       "      <th>about</th>\n",
       "      <td>data scientist &amp; analyst and industrial engine...</td>\n",
       "    </tr>\n",
       "    <tr>\n",
       "      <th>experiences</th>\n",
       "      <td>['collection coordination analyst', 'real esta...</td>\n",
       "    </tr>\n",
       "    <tr>\n",
       "      <th>years of experiences</th>\n",
       "      <td>['1 yr 2 mos', '1 yr', '2 yrs 1 mo', '8 mos', ...</td>\n",
       "    </tr>\n",
       "    <tr>\n",
       "      <th>total years</th>\n",
       "      <td>7</td>\n",
       "    </tr>\n",
       "    <tr>\n",
       "      <th>degrees</th>\n",
       "      <td>['master', 'engineering - be']</td>\n",
       "    </tr>\n",
       "    <tr>\n",
       "      <th>fields</th>\n",
       "      <td>['data analytics', 'industrial engineering']</td>\n",
       "    </tr>\n",
       "    <tr>\n",
       "      <th>skills</th>\n",
       "      <td>['numpy', 'mysql', 'business analysis', 'micro...</td>\n",
       "    </tr>\n",
       "    <tr>\n",
       "      <th>languages</th>\n",
       "      <td>['english', 'spanish']</td>\n",
       "    </tr>\n",
       "    <tr>\n",
       "      <th>total skills</th>\n",
       "      <td>['analytical skills', 'bash', 'business analys...</td>\n",
       "    </tr>\n",
       "  </tbody>\n",
       "</table>\n",
       "</div>"
      ],
      "text/plain": [
       "                                                                   info\n",
       "type                                                                   \n",
       "profile                                             cristopherrojaslepe\n",
       "headline              data scientist & analyst | python | pandas | n...\n",
       "open new jobs                                                      True\n",
       "about                 data scientist & analyst and industrial engine...\n",
       "experiences           ['collection coordination analyst', 'real esta...\n",
       "years of experiences  ['1 yr 2 mos', '1 yr', '2 yrs 1 mo', '8 mos', ...\n",
       "total years                                                           7\n",
       "degrees                                  ['master', 'engineering - be']\n",
       "fields                     ['data analytics', 'industrial engineering']\n",
       "skills                ['numpy', 'mysql', 'business analysis', 'micro...\n",
       "languages                                        ['english', 'spanish']\n",
       "total skills          ['analytical skills', 'bash', 'business analys..."
      ]
     },
     "execution_count": 118,
     "metadata": {},
     "output_type": "execute_result"
    }
   ],
   "source": [
    "df_profile"
   ]
  },
  {
   "cell_type": "code",
   "execution_count": null,
   "metadata": {},
   "outputs": [],
   "source": []
  },
  {
   "cell_type": "markdown",
   "metadata": {},
   "source": [
    "#### > JOBS:"
   ]
  },
  {
   "cell_type": "code",
   "execution_count": 83,
   "metadata": {},
   "outputs": [],
   "source": [
    "#f'..\\\\data\\\\raw\\\\df_jobs_Madrid_2020-04-18 23.50.csv'\n",
    "if platform.system() == 'Linux':\n",
    "    df_jobs_raw = pd.read_csv(f'../data/raw/df_jobs_Madrid_2020-04-18 23.50.csv',\n",
    "                              sep = ';',\n",
    "                              encoding= 'utf8',\n",
    "                  )\n",
    "elif platform.system() == 'Windows':\n",
    "    df_jobs_raw = pd.read_csv(f'..\\\\data\\\\raw\\\\df_jobs_Madrid_2020-04-18 23.50.csv',\n",
    "                              sep = ';',\n",
    "                              encoding= 'utf8',\n",
    "                  )"
   ]
  },
  {
   "cell_type": "code",
   "execution_count": 84,
   "metadata": {},
   "outputs": [],
   "source": [
    "df_jobs = df_jobs_raw"
   ]
  },
  {
   "cell_type": "code",
   "execution_count": 85,
   "metadata": {},
   "outputs": [
    {
     "data": {
      "text/plain": [
       "(859, 17)"
      ]
     },
     "execution_count": 85,
     "metadata": {},
     "output_type": "execute_result"
    }
   ],
   "source": [
    "df_jobs.shape"
   ]
  },
  {
   "cell_type": "code",
   "execution_count": 86,
   "metadata": {},
   "outputs": [
    {
     "data": {
      "text/html": [
       "<div>\n",
       "<style scoped>\n",
       "    .dataframe tbody tr th:only-of-type {\n",
       "        vertical-align: middle;\n",
       "    }\n",
       "\n",
       "    .dataframe tbody tr th {\n",
       "        vertical-align: top;\n",
       "    }\n",
       "\n",
       "    .dataframe thead th {\n",
       "        text-align: right;\n",
       "    }\n",
       "</style>\n",
       "<table border=\"1\" class=\"dataframe\">\n",
       "  <thead>\n",
       "    <tr style=\"text-align: right;\">\n",
       "      <th></th>\n",
       "      <th>JOB TITLE</th>\n",
       "      <th>LOCATION</th>\n",
       "      <th>SEARCH DATETIME</th>\n",
       "      <th>Current Job Id</th>\n",
       "      <th>Job html</th>\n",
       "      <th>Job name</th>\n",
       "      <th>Company name</th>\n",
       "      <th>Company location</th>\n",
       "      <th>Posted date</th>\n",
       "      <th>Estimated post date</th>\n",
       "      <th>Easy apply</th>\n",
       "      <th>Skills match</th>\n",
       "      <th>Seniority Level</th>\n",
       "      <th>Industry</th>\n",
       "      <th>Employment Type</th>\n",
       "      <th>Job Functions</th>\n",
       "      <th>Job info</th>\n",
       "    </tr>\n",
       "  </thead>\n",
       "  <tbody>\n",
       "    <tr>\n",
       "      <th>0</th>\n",
       "      <td>data analyst</td>\n",
       "      <td>Madrid</td>\n",
       "      <td>2020-04-18 23:50</td>\n",
       "      <td>1804937837</td>\n",
       "      <td>https://www.linkedin.com/jobs/view/1804937837/</td>\n",
       "      <td>Business Process Analyst</td>\n",
       "      <td>SWIFT</td>\n",
       "      <td>Madrid, ES</td>\n",
       "      <td>1 day</td>\n",
       "      <td>2020-04-17 23:50</td>\n",
       "      <td>False</td>\n",
       "      <td>{'yes': ['Portfolio Management', 'Business Int...</td>\n",
       "      <td>Associate</td>\n",
       "      <td>Information Technology &amp; Services Computer Sof...</td>\n",
       "      <td>Full-time</td>\n",
       "      <td>Management Manufacturing</td>\n",
       "      <td>Posted Date\\nPosted 1 day ago\\nNumber of views...</td>\n",
       "    </tr>\n",
       "    <tr>\n",
       "      <th>1</th>\n",
       "      <td>data analyst</td>\n",
       "      <td>Madrid</td>\n",
       "      <td>2020-04-18 23:50</td>\n",
       "      <td>1828401888</td>\n",
       "      <td>https://www.linkedin.com/jobs/view/1828401888/</td>\n",
       "      <td>Big Data Engineer</td>\n",
       "      <td>Vodafone</td>\n",
       "      <td>Madrid, ES</td>\n",
       "      <td>1 day</td>\n",
       "      <td>2020-04-17 23:50</td>\n",
       "      <td>False</td>\n",
       "      <td>{'yes': ['Portfolio Management', 'Business Int...</td>\n",
       "      <td>NaN</td>\n",
       "      <td>Information Services Information Technology &amp; ...</td>\n",
       "      <td>Full-time</td>\n",
       "      <td>Strategy/Planning</td>\n",
       "      <td>Posted Date\\nPosted 1 day ago\\nNumber of views...</td>\n",
       "    </tr>\n",
       "    <tr>\n",
       "      <th>2</th>\n",
       "      <td>data analyst</td>\n",
       "      <td>Madrid</td>\n",
       "      <td>2020-04-18 23:50</td>\n",
       "      <td>1822423791</td>\n",
       "      <td>https://www.linkedin.com/jobs/view/1822423791/</td>\n",
       "      <td>Senior Consultant, Data &amp; Analytics (Level 6)</td>\n",
       "      <td>Amazon Web Services (AWS)</td>\n",
       "      <td>Madrid, ES</td>\n",
       "      <td>3 days</td>\n",
       "      <td>2020-04-15 23:50</td>\n",
       "      <td>False</td>\n",
       "      <td>{'yes': ['Portfolio Management', 'Business Int...</td>\n",
       "      <td>Mid-Senior level</td>\n",
       "      <td>Computer Software Information Technology &amp; Ser...</td>\n",
       "      <td>Full-time</td>\n",
       "      <td>Sales Advertising Business Development</td>\n",
       "      <td>Posted Date\\nPosted 3 days ago\\nNumber of view...</td>\n",
       "    </tr>\n",
       "  </tbody>\n",
       "</table>\n",
       "</div>"
      ],
      "text/plain": [
       "      JOB TITLE LOCATION   SEARCH DATETIME  Current Job Id  \\\n",
       "0  data analyst   Madrid  2020-04-18 23:50      1804937837   \n",
       "1  data analyst   Madrid  2020-04-18 23:50      1828401888   \n",
       "2  data analyst   Madrid  2020-04-18 23:50      1822423791   \n",
       "\n",
       "                                         Job html  \\\n",
       "0  https://www.linkedin.com/jobs/view/1804937837/   \n",
       "1  https://www.linkedin.com/jobs/view/1828401888/   \n",
       "2  https://www.linkedin.com/jobs/view/1822423791/   \n",
       "\n",
       "                                        Job name               Company name  \\\n",
       "0                       Business Process Analyst                      SWIFT   \n",
       "1                              Big Data Engineer                   Vodafone   \n",
       "2  Senior Consultant, Data & Analytics (Level 6)  Amazon Web Services (AWS)   \n",
       "\n",
       "  Company location Posted date Estimated post date  Easy apply  \\\n",
       "0       Madrid, ES       1 day    2020-04-17 23:50       False   \n",
       "1       Madrid, ES       1 day    2020-04-17 23:50       False   \n",
       "2       Madrid, ES      3 days    2020-04-15 23:50       False   \n",
       "\n",
       "                                        Skills match   Seniority Level  \\\n",
       "0  {'yes': ['Portfolio Management', 'Business Int...         Associate   \n",
       "1  {'yes': ['Portfolio Management', 'Business Int...               NaN   \n",
       "2  {'yes': ['Portfolio Management', 'Business Int...  Mid-Senior level   \n",
       "\n",
       "                                            Industry Employment Type  \\\n",
       "0  Information Technology & Services Computer Sof...       Full-time   \n",
       "1  Information Services Information Technology & ...       Full-time   \n",
       "2  Computer Software Information Technology & Ser...       Full-time   \n",
       "\n",
       "                            Job Functions  \\\n",
       "0                Management Manufacturing   \n",
       "1                       Strategy/Planning   \n",
       "2  Sales Advertising Business Development   \n",
       "\n",
       "                                            Job info  \n",
       "0  Posted Date\\nPosted 1 day ago\\nNumber of views...  \n",
       "1  Posted Date\\nPosted 1 day ago\\nNumber of views...  \n",
       "2  Posted Date\\nPosted 3 days ago\\nNumber of view...  "
      ]
     },
     "execution_count": 86,
     "metadata": {},
     "output_type": "execute_result"
    }
   ],
   "source": [
    "df_jobs.head(3)"
   ]
  },
  {
   "cell_type": "code",
   "execution_count": 87,
   "metadata": {},
   "outputs": [],
   "source": [
    "# ONLY IN CASE TO CORRECT WRONG DF\n",
    "#df_jobs.drop(columns='Job htmlJob name', inplace=True)\n",
    "\n",
    "#df_jobs = df_jobs[['JOB TITLE', 'LOCATION', 'SEARCH DATETIME', 'Current Job Id',\n",
    "#       'Job html', 'Job name', 'Company name', 'Company location',\n",
    "#       'Posted date', 'Estimated post date', 'Easy apply', 'Skills match',\n",
    "#       'Seniority Level', 'Industry', 'Employment Type', 'Job Functions',\n",
    "#       'Job info']]"
   ]
  },
  {
   "cell_type": "code",
   "execution_count": 88,
   "metadata": {},
   "outputs": [
    {
     "data": {
      "text/plain": [
       "(179, 17)"
      ]
     },
     "execution_count": 88,
     "metadata": {},
     "output_type": "execute_result"
    }
   ],
   "source": [
    "df_jobs[df_jobs['JOB TITLE']=='data analyst'].shape"
   ]
  },
  {
   "cell_type": "code",
   "execution_count": 89,
   "metadata": {},
   "outputs": [
    {
     "data": {
      "text/plain": [
       "(392, 17)"
      ]
     },
     "execution_count": 89,
     "metadata": {},
     "output_type": "execute_result"
    }
   ],
   "source": [
    "df_jobs[df_jobs['JOB TITLE']=='data scientist'].shape"
   ]
  },
  {
   "cell_type": "code",
   "execution_count": 90,
   "metadata": {},
   "outputs": [
    {
     "data": {
      "text/plain": [
       "(288, 17)"
      ]
     },
     "execution_count": 90,
     "metadata": {},
     "output_type": "execute_result"
    }
   ],
   "source": [
    "df_jobs[df_jobs['JOB TITLE']=='data engineer'].shape"
   ]
  },
  {
   "cell_type": "markdown",
   "metadata": {},
   "source": [
    "## Analizyng info"
   ]
  },
  {
   "cell_type": "markdown",
   "metadata": {},
   "source": [
    "### > Cleaning jobs:"
   ]
  },
  {
   "cell_type": "code",
   "execution_count": 91,
   "metadata": {},
   "outputs": [
    {
     "data": {
      "text/plain": [
       "JOB TITLE              data analyst\n",
       "LOCATION                     Madrid\n",
       "SEARCH DATETIME    2020-04-18 23:50\n",
       "Current Job Id           1804937837\n",
       "Name: 0, dtype: object"
      ]
     },
     "execution_count": 91,
     "metadata": {},
     "output_type": "execute_result"
    }
   ],
   "source": [
    "df_jobs.loc[0,'JOB TITLE':'Current Job Id']"
   ]
  },
  {
   "cell_type": "markdown",
   "metadata": {},
   "source": [
    "##### * JOB TITLE_ID"
   ]
  },
  {
   "cell_type": "code",
   "execution_count": 92,
   "metadata": {},
   "outputs": [],
   "source": [
    "df_jobs['JOB TITLE_ID'] = df_jobs.apply(lambda x: x['JOB TITLE'] +\"_\"+ str(x['Current Job Id']), axis = 1 )"
   ]
  },
  {
   "cell_type": "code",
   "execution_count": 93,
   "metadata": {},
   "outputs": [
    {
     "data": {
      "text/plain": [
       "859"
      ]
     },
     "execution_count": 93,
     "metadata": {},
     "output_type": "execute_result"
    }
   ],
   "source": [
    "df_jobs.shape[0] "
   ]
  },
  {
   "cell_type": "code",
   "execution_count": 94,
   "metadata": {},
   "outputs": [
    {
     "data": {
      "text/plain": [
       "855"
      ]
     },
     "execution_count": 94,
     "metadata": {},
     "output_type": "execute_result"
    }
   ],
   "source": [
    "len(df_jobs['JOB TITLE_ID'].unique())"
   ]
  },
  {
   "cell_type": "code",
   "execution_count": 95,
   "metadata": {},
   "outputs": [
    {
     "data": {
      "text/html": [
       "<div>\n",
       "<style scoped>\n",
       "    .dataframe tbody tr th:only-of-type {\n",
       "        vertical-align: middle;\n",
       "    }\n",
       "\n",
       "    .dataframe tbody tr th {\n",
       "        vertical-align: top;\n",
       "    }\n",
       "\n",
       "    .dataframe thead th {\n",
       "        text-align: right;\n",
       "    }\n",
       "</style>\n",
       "<table border=\"1\" class=\"dataframe\">\n",
       "  <thead>\n",
       "    <tr style=\"text-align: right;\">\n",
       "      <th></th>\n",
       "      <th>LOCATION</th>\n",
       "    </tr>\n",
       "    <tr>\n",
       "      <th>JOB TITLE_ID</th>\n",
       "      <th></th>\n",
       "    </tr>\n",
       "  </thead>\n",
       "  <tbody>\n",
       "    <tr>\n",
       "      <th>data engineer_1774326710</th>\n",
       "      <td>2</td>\n",
       "    </tr>\n",
       "    <tr>\n",
       "      <th>data engineer_1806878071</th>\n",
       "      <td>2</td>\n",
       "    </tr>\n",
       "    <tr>\n",
       "      <th>data engineer_1384647865</th>\n",
       "      <td>2</td>\n",
       "    </tr>\n",
       "    <tr>\n",
       "      <th>data engineer_1696188592</th>\n",
       "      <td>2</td>\n",
       "    </tr>\n",
       "    <tr>\n",
       "      <th>data analyst_1298845523</th>\n",
       "      <td>1</td>\n",
       "    </tr>\n",
       "    <tr>\n",
       "      <th>...</th>\n",
       "      <td>...</td>\n",
       "    </tr>\n",
       "    <tr>\n",
       "      <th>data engineer_1776649341</th>\n",
       "      <td>1</td>\n",
       "    </tr>\n",
       "    <tr>\n",
       "      <th>data engineer_1776706802</th>\n",
       "      <td>1</td>\n",
       "    </tr>\n",
       "    <tr>\n",
       "      <th>data engineer_1778218609</th>\n",
       "      <td>1</td>\n",
       "    </tr>\n",
       "    <tr>\n",
       "      <th>data engineer_1779301012</th>\n",
       "      <td>1</td>\n",
       "    </tr>\n",
       "    <tr>\n",
       "      <th>data scientist_977380035</th>\n",
       "      <td>1</td>\n",
       "    </tr>\n",
       "  </tbody>\n",
       "</table>\n",
       "<p>855 rows × 1 columns</p>\n",
       "</div>"
      ],
      "text/plain": [
       "                          LOCATION\n",
       "JOB TITLE_ID                      \n",
       "data engineer_1774326710         2\n",
       "data engineer_1806878071         2\n",
       "data engineer_1384647865         2\n",
       "data engineer_1696188592         2\n",
       "data analyst_1298845523          1\n",
       "...                            ...\n",
       "data engineer_1776649341         1\n",
       "data engineer_1776706802         1\n",
       "data engineer_1778218609         1\n",
       "data engineer_1779301012         1\n",
       "data scientist_977380035         1\n",
       "\n",
       "[855 rows x 1 columns]"
      ]
     },
     "execution_count": 95,
     "metadata": {},
     "output_type": "execute_result"
    }
   ],
   "source": [
    "pd.pivot_table(df_jobs,\n",
    "               values=\"LOCATION\",\n",
    "               index=['JOB TITLE_ID'],\n",
    "               aggfunc=np.count_nonzero        \n",
    "              ).sort_values(by=['LOCATION'], ascending=False)"
   ]
  },
  {
   "cell_type": "code",
   "execution_count": 96,
   "metadata": {},
   "outputs": [
    {
     "data": {
      "text/html": [
       "<div>\n",
       "<style scoped>\n",
       "    .dataframe tbody tr th:only-of-type {\n",
       "        vertical-align: middle;\n",
       "    }\n",
       "\n",
       "    .dataframe tbody tr th {\n",
       "        vertical-align: top;\n",
       "    }\n",
       "\n",
       "    .dataframe thead th {\n",
       "        text-align: right;\n",
       "    }\n",
       "</style>\n",
       "<table border=\"1\" class=\"dataframe\">\n",
       "  <thead>\n",
       "    <tr style=\"text-align: right;\">\n",
       "      <th></th>\n",
       "      <th>JOB TITLE</th>\n",
       "      <th>LOCATION</th>\n",
       "      <th>SEARCH DATETIME</th>\n",
       "      <th>Current Job Id</th>\n",
       "      <th>Job html</th>\n",
       "      <th>Job name</th>\n",
       "      <th>Company name</th>\n",
       "      <th>Company location</th>\n",
       "      <th>Posted date</th>\n",
       "      <th>Estimated post date</th>\n",
       "      <th>Easy apply</th>\n",
       "      <th>Skills match</th>\n",
       "      <th>Seniority Level</th>\n",
       "      <th>Industry</th>\n",
       "      <th>Employment Type</th>\n",
       "      <th>Job Functions</th>\n",
       "      <th>Job info</th>\n",
       "      <th>JOB TITLE_ID</th>\n",
       "    </tr>\n",
       "  </thead>\n",
       "  <tbody>\n",
       "    <tr>\n",
       "      <th>572</th>\n",
       "      <td>data engineer</td>\n",
       "      <td>Madrid</td>\n",
       "      <td>2020-04-18 23:50</td>\n",
       "      <td>1774326710</td>\n",
       "      <td>https://www.linkedin.com/jobs/view/1774326710/</td>\n",
       "      <td>Senior Data Engineer</td>\n",
       "      <td>Packlink — Simply Shipping</td>\n",
       "      <td>Madrid, Comunidad de Madrid, España</td>\n",
       "      <td>1 week</td>\n",
       "      <td>2020-04-11 23:50</td>\n",
       "      <td>True</td>\n",
       "      <td>{'yes': ['Python (Programming Language)', 'SQL...</td>\n",
       "      <td>Associate</td>\n",
       "      <td>Internet</td>\n",
       "      <td>Full-time</td>\n",
       "      <td>Information Technology</td>\n",
       "      <td>Posted Date\\nPosted 1 week ago\\nNumber of view...</td>\n",
       "      <td>data engineer_1774326710</td>\n",
       "    </tr>\n",
       "    <tr>\n",
       "      <th>597</th>\n",
       "      <td>data engineer</td>\n",
       "      <td>Madrid</td>\n",
       "      <td>2020-04-18 23:50</td>\n",
       "      <td>1774326710</td>\n",
       "      <td>https://www.linkedin.com/jobs/view/1774326710/</td>\n",
       "      <td>Senior Data Engineer</td>\n",
       "      <td>Packlink — Simply Shipping</td>\n",
       "      <td>Madrid, Comunidad de Madrid, España</td>\n",
       "      <td>1 week</td>\n",
       "      <td>2020-04-11 23:50</td>\n",
       "      <td>True</td>\n",
       "      <td>{'yes': ['Python (Programming Language)', 'SQL...</td>\n",
       "      <td>Associate</td>\n",
       "      <td>Internet</td>\n",
       "      <td>Full-time</td>\n",
       "      <td>Information Technology</td>\n",
       "      <td>Posted Date\\nPosted 1 week ago\\nNumber of view...</td>\n",
       "      <td>data engineer_1774326710</td>\n",
       "    </tr>\n",
       "  </tbody>\n",
       "</table>\n",
       "</div>"
      ],
      "text/plain": [
       "         JOB TITLE LOCATION   SEARCH DATETIME  Current Job Id  \\\n",
       "572  data engineer   Madrid  2020-04-18 23:50      1774326710   \n",
       "597  data engineer   Madrid  2020-04-18 23:50      1774326710   \n",
       "\n",
       "                                           Job html              Job name  \\\n",
       "572  https://www.linkedin.com/jobs/view/1774326710/  Senior Data Engineer   \n",
       "597  https://www.linkedin.com/jobs/view/1774326710/  Senior Data Engineer   \n",
       "\n",
       "                   Company name                     Company location  \\\n",
       "572  Packlink — Simply Shipping  Madrid, Comunidad de Madrid, España   \n",
       "597  Packlink — Simply Shipping  Madrid, Comunidad de Madrid, España   \n",
       "\n",
       "    Posted date Estimated post date  Easy apply  \\\n",
       "572      1 week    2020-04-11 23:50        True   \n",
       "597      1 week    2020-04-11 23:50        True   \n",
       "\n",
       "                                          Skills match Seniority Level  \\\n",
       "572  {'yes': ['Python (Programming Language)', 'SQL...       Associate   \n",
       "597  {'yes': ['Python (Programming Language)', 'SQL...       Associate   \n",
       "\n",
       "     Industry Employment Type           Job Functions  \\\n",
       "572  Internet       Full-time  Information Technology   \n",
       "597  Internet       Full-time  Information Technology   \n",
       "\n",
       "                                              Job info  \\\n",
       "572  Posted Date\\nPosted 1 week ago\\nNumber of view...   \n",
       "597  Posted Date\\nPosted 1 week ago\\nNumber of view...   \n",
       "\n",
       "                 JOB TITLE_ID  \n",
       "572  data engineer_1774326710  \n",
       "597  data engineer_1774326710  "
      ]
     },
     "execution_count": 96,
     "metadata": {},
     "output_type": "execute_result"
    }
   ],
   "source": [
    "df_jobs[df_jobs['Current Job Id']==1774326710]"
   ]
  },
  {
   "cell_type": "code",
   "execution_count": 97,
   "metadata": {},
   "outputs": [
    {
     "data": {
      "text/plain": [
       "True"
      ]
     },
     "execution_count": 97,
     "metadata": {},
     "output_type": "execute_result"
    }
   ],
   "source": [
    "df_jobs.loc[572,'Job info'] == df_jobs.loc[597,'Job info']"
   ]
  },
  {
   "cell_type": "code",
   "execution_count": 98,
   "metadata": {},
   "outputs": [
    {
     "data": {
      "text/plain": [
       "4"
      ]
     },
     "execution_count": 98,
     "metadata": {},
     "output_type": "execute_result"
    }
   ],
   "source": [
    "df_jobs.shape[0] - len(df_jobs['JOB TITLE_ID'].unique())"
   ]
  },
  {
   "cell_type": "code",
   "execution_count": 99,
   "metadata": {},
   "outputs": [],
   "source": [
    "df_jobs.drop_duplicates(subset='JOB TITLE_ID', keep='first', inplace = True)"
   ]
  },
  {
   "cell_type": "code",
   "execution_count": 100,
   "metadata": {},
   "outputs": [
    {
     "data": {
      "text/plain": [
       "(855, 18)"
      ]
     },
     "execution_count": 100,
     "metadata": {},
     "output_type": "execute_result"
    }
   ],
   "source": [
    "df_jobs.shape"
   ]
  },
  {
   "cell_type": "markdown",
   "metadata": {},
   "source": [
    "##### * Current Job Id"
   ]
  },
  {
   "cell_type": "code",
   "execution_count": 101,
   "metadata": {},
   "outputs": [
    {
     "data": {
      "text/plain": [
       "638"
      ]
     },
     "execution_count": 101,
     "metadata": {},
     "output_type": "execute_result"
    }
   ],
   "source": [
    "len(df_jobs['Current Job Id'].unique())"
   ]
  },
  {
   "cell_type": "code",
   "execution_count": 102,
   "metadata": {},
   "outputs": [
    {
     "data": {
      "text/html": [
       "<div>\n",
       "<style scoped>\n",
       "    .dataframe tbody tr th:only-of-type {\n",
       "        vertical-align: middle;\n",
       "    }\n",
       "\n",
       "    .dataframe tbody tr th {\n",
       "        vertical-align: top;\n",
       "    }\n",
       "\n",
       "    .dataframe thead th {\n",
       "        text-align: right;\n",
       "    }\n",
       "</style>\n",
       "<table border=\"1\" class=\"dataframe\">\n",
       "  <thead>\n",
       "    <tr style=\"text-align: right;\">\n",
       "      <th></th>\n",
       "      <th>LOCATION</th>\n",
       "    </tr>\n",
       "    <tr>\n",
       "      <th>Current Job Id</th>\n",
       "      <th></th>\n",
       "    </tr>\n",
       "  </thead>\n",
       "  <tbody>\n",
       "    <tr>\n",
       "      <th>1794127974</th>\n",
       "      <td>3</td>\n",
       "    </tr>\n",
       "    <tr>\n",
       "      <th>1828401888</th>\n",
       "      <td>3</td>\n",
       "    </tr>\n",
       "    <tr>\n",
       "      <th>1764841143</th>\n",
       "      <td>3</td>\n",
       "    </tr>\n",
       "    <tr>\n",
       "      <th>1768494778</th>\n",
       "      <td>3</td>\n",
       "    </tr>\n",
       "    <tr>\n",
       "      <th>1757263851</th>\n",
       "      <td>3</td>\n",
       "    </tr>\n",
       "    <tr>\n",
       "      <th>...</th>\n",
       "      <td>...</td>\n",
       "    </tr>\n",
       "    <tr>\n",
       "      <th>1794130353</th>\n",
       "      <td>1</td>\n",
       "    </tr>\n",
       "    <tr>\n",
       "      <th>1793255231</th>\n",
       "      <td>1</td>\n",
       "    </tr>\n",
       "    <tr>\n",
       "      <th>1793229309</th>\n",
       "      <td>1</td>\n",
       "    </tr>\n",
       "    <tr>\n",
       "      <th>1792793085</th>\n",
       "      <td>1</td>\n",
       "    </tr>\n",
       "    <tr>\n",
       "      <th>1805142663</th>\n",
       "      <td>1</td>\n",
       "    </tr>\n",
       "  </tbody>\n",
       "</table>\n",
       "<p>638 rows × 1 columns</p>\n",
       "</div>"
      ],
      "text/plain": [
       "                LOCATION\n",
       "Current Job Id          \n",
       "1794127974             3\n",
       "1828401888             3\n",
       "1764841143             3\n",
       "1768494778             3\n",
       "1757263851             3\n",
       "...                  ...\n",
       "1794130353             1\n",
       "1793255231             1\n",
       "1793229309             1\n",
       "1792793085             1\n",
       "1805142663             1\n",
       "\n",
       "[638 rows x 1 columns]"
      ]
     },
     "execution_count": 102,
     "metadata": {},
     "output_type": "execute_result"
    }
   ],
   "source": [
    "pd.pivot_table(df_jobs,\n",
    "               values=\"LOCATION\",\n",
    "               index=['Current Job Id'],\n",
    "               aggfunc=np.count_nonzero        \n",
    "              ).sort_values(by=['LOCATION'], ascending=False)"
   ]
  },
  {
   "cell_type": "code",
   "execution_count": 103,
   "metadata": {},
   "outputs": [
    {
     "data": {
      "text/html": [
       "<div>\n",
       "<style scoped>\n",
       "    .dataframe tbody tr th:only-of-type {\n",
       "        vertical-align: middle;\n",
       "    }\n",
       "\n",
       "    .dataframe tbody tr th {\n",
       "        vertical-align: top;\n",
       "    }\n",
       "\n",
       "    .dataframe thead th {\n",
       "        text-align: right;\n",
       "    }\n",
       "</style>\n",
       "<table border=\"1\" class=\"dataframe\">\n",
       "  <thead>\n",
       "    <tr style=\"text-align: right;\">\n",
       "      <th></th>\n",
       "      <th>JOB TITLE</th>\n",
       "      <th>LOCATION</th>\n",
       "      <th>SEARCH DATETIME</th>\n",
       "      <th>Current Job Id</th>\n",
       "      <th>Job html</th>\n",
       "      <th>Job name</th>\n",
       "      <th>Company name</th>\n",
       "      <th>Company location</th>\n",
       "      <th>Posted date</th>\n",
       "      <th>Estimated post date</th>\n",
       "      <th>Easy apply</th>\n",
       "      <th>Skills match</th>\n",
       "      <th>Seniority Level</th>\n",
       "      <th>Industry</th>\n",
       "      <th>Employment Type</th>\n",
       "      <th>Job Functions</th>\n",
       "      <th>Job info</th>\n",
       "      <th>JOB TITLE_ID</th>\n",
       "    </tr>\n",
       "  </thead>\n",
       "  <tbody>\n",
       "    <tr>\n",
       "      <th>39</th>\n",
       "      <td>data analyst</td>\n",
       "      <td>Madrid</td>\n",
       "      <td>2020-04-18 23:50</td>\n",
       "      <td>1645918674</td>\n",
       "      <td>https://www.linkedin.com/jobs/view/1645918674/</td>\n",
       "      <td>Senior Data Analyst &amp; Data Scientist</td>\n",
       "      <td>Ekkiden</td>\n",
       "      <td>Madrid, ES</td>\n",
       "      <td>4 months</td>\n",
       "      <td>2019-12-28 23:50</td>\n",
       "      <td>False</td>\n",
       "      <td>{'yes': ['Python (Programming Language)', 'SQL...</td>\n",
       "      <td>Associate</td>\n",
       "      <td>Information Technology &amp; Services</td>\n",
       "      <td>Full-time</td>\n",
       "      <td>Analyst Engineering Information Technology</td>\n",
       "      <td>Posted Date\\nPosted 4 months ago\\nNumber of vi...</td>\n",
       "      <td>data analyst_1645918674</td>\n",
       "    </tr>\n",
       "    <tr>\n",
       "      <th>203</th>\n",
       "      <td>data scientist</td>\n",
       "      <td>Madrid</td>\n",
       "      <td>2020-04-18 23:50</td>\n",
       "      <td>1645918674</td>\n",
       "      <td>https://www.linkedin.com/jobs/view/1645918674/</td>\n",
       "      <td>Senior Data Analyst &amp; Data Scientist</td>\n",
       "      <td>Ekkiden</td>\n",
       "      <td>Madrid, ES</td>\n",
       "      <td>4 months</td>\n",
       "      <td>2019-12-28 23:50</td>\n",
       "      <td>False</td>\n",
       "      <td>{'yes': ['Python (Programming Language)', 'Com...</td>\n",
       "      <td>Associate</td>\n",
       "      <td>Information Technology &amp; Services</td>\n",
       "      <td>Full-time</td>\n",
       "      <td>Analyst Engineering Information Technology</td>\n",
       "      <td>Posted Date\\nPosted 4 months ago\\nNumber of vi...</td>\n",
       "      <td>data scientist_1645918674</td>\n",
       "    </tr>\n",
       "    <tr>\n",
       "      <th>601</th>\n",
       "      <td>data engineer</td>\n",
       "      <td>Madrid</td>\n",
       "      <td>2020-04-18 23:50</td>\n",
       "      <td>1645918674</td>\n",
       "      <td>https://www.linkedin.com/jobs/view/1645918674/</td>\n",
       "      <td>Senior Data Analyst &amp; Data Scientist</td>\n",
       "      <td>Ekkiden</td>\n",
       "      <td>Madrid, ES</td>\n",
       "      <td>4 months</td>\n",
       "      <td>2019-12-28 23:50</td>\n",
       "      <td>False</td>\n",
       "      <td>{'yes': ['Python (Programming Language)', 'SQL...</td>\n",
       "      <td>Associate</td>\n",
       "      <td>Information Technology &amp; Services</td>\n",
       "      <td>Full-time</td>\n",
       "      <td>Analyst Engineering Information Technology</td>\n",
       "      <td>Posted Date\\nPosted 4 months ago\\nNumber of vi...</td>\n",
       "      <td>data engineer_1645918674</td>\n",
       "    </tr>\n",
       "  </tbody>\n",
       "</table>\n",
       "</div>"
      ],
      "text/plain": [
       "          JOB TITLE LOCATION   SEARCH DATETIME  Current Job Id  \\\n",
       "39     data analyst   Madrid  2020-04-18 23:50      1645918674   \n",
       "203  data scientist   Madrid  2020-04-18 23:50      1645918674   \n",
       "601   data engineer   Madrid  2020-04-18 23:50      1645918674   \n",
       "\n",
       "                                           Job html  \\\n",
       "39   https://www.linkedin.com/jobs/view/1645918674/   \n",
       "203  https://www.linkedin.com/jobs/view/1645918674/   \n",
       "601  https://www.linkedin.com/jobs/view/1645918674/   \n",
       "\n",
       "                                 Job name Company name Company location  \\\n",
       "39   Senior Data Analyst & Data Scientist      Ekkiden       Madrid, ES   \n",
       "203  Senior Data Analyst & Data Scientist      Ekkiden       Madrid, ES   \n",
       "601  Senior Data Analyst & Data Scientist      Ekkiden       Madrid, ES   \n",
       "\n",
       "    Posted date Estimated post date  Easy apply  \\\n",
       "39     4 months    2019-12-28 23:50       False   \n",
       "203    4 months    2019-12-28 23:50       False   \n",
       "601    4 months    2019-12-28 23:50       False   \n",
       "\n",
       "                                          Skills match Seniority Level  \\\n",
       "39   {'yes': ['Python (Programming Language)', 'SQL...       Associate   \n",
       "203  {'yes': ['Python (Programming Language)', 'Com...       Associate   \n",
       "601  {'yes': ['Python (Programming Language)', 'SQL...       Associate   \n",
       "\n",
       "                              Industry Employment Type  \\\n",
       "39   Information Technology & Services       Full-time   \n",
       "203  Information Technology & Services       Full-time   \n",
       "601  Information Technology & Services       Full-time   \n",
       "\n",
       "                                  Job Functions  \\\n",
       "39   Analyst Engineering Information Technology   \n",
       "203  Analyst Engineering Information Technology   \n",
       "601  Analyst Engineering Information Technology   \n",
       "\n",
       "                                              Job info  \\\n",
       "39   Posted Date\\nPosted 4 months ago\\nNumber of vi...   \n",
       "203  Posted Date\\nPosted 4 months ago\\nNumber of vi...   \n",
       "601  Posted Date\\nPosted 4 months ago\\nNumber of vi...   \n",
       "\n",
       "                  JOB TITLE_ID  \n",
       "39     data analyst_1645918674  \n",
       "203  data scientist_1645918674  \n",
       "601   data engineer_1645918674  "
      ]
     },
     "execution_count": 103,
     "metadata": {},
     "output_type": "execute_result"
    }
   ],
   "source": [
    "df_jobs[df_jobs['Current Job Id']==1645918674]"
   ]
  },
  {
   "cell_type": "code",
   "execution_count": null,
   "metadata": {},
   "outputs": [],
   "source": []
  },
  {
   "cell_type": "markdown",
   "metadata": {},
   "source": [
    "### > Language of each job description:"
   ]
  },
  {
   "cell_type": "code",
   "execution_count": 104,
   "metadata": {},
   "outputs": [
    {
     "data": {
      "text/plain": [
       "0                         Business Process Analyst\n",
       "1                                Big Data Engineer\n",
       "2    Senior Consultant, Data & Analytics (Level 6)\n",
       "3                      Senior Data Analyst, Madrid\n",
       "4                                     Data Analyst\n",
       "5             Junior Business Intelligence Analyst\n",
       "6                              Data Analyst Junior\n",
       "7                                     Data Analyst\n",
       "8                                 Business Analyst\n",
       "9                            Business Data Analyst\n",
       "Name: Job name, dtype: object"
      ]
     },
     "execution_count": 104,
     "metadata": {},
     "output_type": "execute_result"
    }
   ],
   "source": [
    "df_jobs['Job name'].head(10)"
   ]
  },
  {
   "cell_type": "code",
   "execution_count": 105,
   "metadata": {},
   "outputs": [
    {
     "data": {
      "text/plain": [
       "'Posted Date\\nPosted 1 month ago\\nNumber of views\\n311 views\\nShare\\nShow more options\\nSave\\nSave Data Analyst Junior at Tempotel\\nApply\\nSee how you compare to 51 applicants. Reactivate Premium\\nJob\\n51 applicants\\nAssociate\\nCompany\\n51-200 employees\\nHuman Resources\\nConnections\\nYou have 0 connections at this company.\\nAdd >\\nFUNCIONES\\n\\nMisión: Asegurar que la arquitectura de datos de empleados funciona correctamente y apoya las necesidades de la compañía y de los empleados buscando la excelencia en la calidad de los datos (Carga masiva de ficheros a la aplicación).\\n\\nFunciones\\nAnalista de datos, informes y análisis.\\nTrabajar en el Equipo Global en todos los niveles del negocio enfocado principalmente en dar servicio a los Equipos Locales.\\nCapacidad para validar un gran número de informes con grandes volúmenes de datos.\\nREQUISITOS\\n\\nFormación: Ingeniería, Grado en Matemáticas, Estadistica, etc.\\n\\nGran experiencia en Excel, SQL e idealmente SFSF (Sucessfactor)\\n\\nHerramientas de visualización de informes y datos (por ejemplo, Power BI, Tableau).\\n\\nNivel alto de inglés (uso diario responsables ingleses)\\n\\nCONDICIONES\\n\\nContrato: Obra y servicio larga duración.\\n\\nSalario: 26.000€b/a + cheques comida\\n\\nHorario: Jornada completa\\n\\nAPLICAR A ESTE PUESTO\\n\\nEs obligatorio rellenar todos los campos (excepto el apartado de Carta de Presentación y perfil en Linkedin) para poder enviar la inscripción en la oferta y dar una respuesta a su solicitud. Por favor revise también que ha aceptado las condiciones legales que aparecen debajo del cuadro sobre \"Información Básica sobre Protección de Datos\", gracias.\\n\\nNombre*\\n\\nApellidos*\\n\\nSu e-mail*\\n\\nTeléfono*\\n\\nPerfil de Linkedin\\n\\nAdjunte su CV* (doc, docx o pdf)\\n\\nAdjunte su carta de presentación (doc, docx o pdf)\\n\\nDescargue este archivo y adjúntelo debidamente cumplimentado* (doc o docx)\\n\\nINFORMACIÓN BÁSICA SOBRE PROTECCIÓN DE DATOS Responsable Tempotel ETT SAU Finalidad Gestión y valoración de los datos recibidos para acceder al proceso final de selección y gestión de la contratación en caso de que se produzca. Legitimación Consentimiento del interesado Destinatario Empresas Cliente Transf. Intern. No se realizan transferencias internacionales Derechos de los interesados A retirar su consentimiento en cualquier momento, a oponerse al tratamiento, a acceder, rectificar y suprimir los datos, así como otros derechos, como se explica en la información adicional. Información Adicional Puede consultar la información adicional y detallada en esta web en el apartado \"aviso legal\"\\nHe leído y acepto la \"Protección de datos para candidatos\" establecida en el Aviso legal\\nSeniority Level\\nAssociate\\nIndustry\\nMarketing & Advertising Staffing & Recruiting Human Resources\\nEmployment Type\\nFull-time\\nJob Functions\\nInformation Technology'"
      ]
     },
     "execution_count": 105,
     "metadata": {},
     "output_type": "execute_result"
    }
   ],
   "source": [
    "s = df_jobs.loc[6,'Job info']\n",
    "s"
   ]
  },
  {
   "cell_type": "code",
   "execution_count": 106,
   "metadata": {},
   "outputs": [
    {
     "data": {
      "text/plain": [
       "'es'"
      ]
     },
     "execution_count": 106,
     "metadata": {},
     "output_type": "execute_result"
    }
   ],
   "source": [
    "detect(s)"
   ]
  },
  {
   "cell_type": "code",
   "execution_count": 107,
   "metadata": {},
   "outputs": [],
   "source": [
    "df_jobs['Info Language'] = df_jobs['Job info'].apply(lambda x: detect(x))"
   ]
  },
  {
   "cell_type": "code",
   "execution_count": 108,
   "metadata": {},
   "outputs": [
    {
     "data": {
      "text/plain": [
       "array(['en', 'es'], dtype=object)"
      ]
     },
     "execution_count": 108,
     "metadata": {},
     "output_type": "execute_result"
    }
   ],
   "source": [
    "df_jobs['Info Language'].unique()"
   ]
  },
  {
   "cell_type": "code",
   "execution_count": 109,
   "metadata": {},
   "outputs": [
    {
     "data": {
      "text/plain": [
       "array(['Associate', nan, 'Mid-Senior level', 'Entry level', 'Director',\n",
       "       'Internship', 'Executive'], dtype=object)"
      ]
     },
     "execution_count": 109,
     "metadata": {},
     "output_type": "execute_result"
    }
   ],
   "source": [
    "df_jobs['Seniority Level'].unique()"
   ]
  },
  {
   "cell_type": "markdown",
   "metadata": {},
   "source": [
    "### > Coincidences with definitions:"
   ]
  },
  {
   "cell_type": "code",
   "execution_count": 110,
   "metadata": {},
   "outputs": [],
   "source": [
    "def coincidencias(job_skills, post_skills):\n",
    "    c = 0\n",
    "    for i in job_skills: \n",
    "        if re.search(i,post_skills): \n",
    "            c+=1\n",
    "    return c\n",
    "        "
   ]
  },
  {
   "cell_type": "code",
   "execution_count": 111,
   "metadata": {},
   "outputs": [],
   "source": [
    "def list_coincidencias(job_skills, post_skills):\n",
    "    l=[]\n",
    "    for i in job_skills:\n",
    "        if re.search(i,post_skills):\n",
    "            l.append(i)\n",
    "    return l\n",
    "        "
   ]
  },
  {
   "cell_type": "code",
   "execution_count": 112,
   "metadata": {},
   "outputs": [],
   "source": [
    "def clean_text(text):\n",
    "    text = text.replace('\\n',' ')\n",
    "    text = text.replace('á','a')\n",
    "    text = text.replace('é','e')\n",
    "    text = text.replace('í','i')\n",
    "    text = text.replace('ó','o')\n",
    "    text = text.replace('ú','u')\n",
    "    text = text.replace('.',' ')\n",
    "    text = text.lower()\n",
    "    \n",
    "    return text\n",
    "    "
   ]
  },
  {
   "cell_type": "markdown",
   "metadata": {},
   "source": [
    "#### jobs >"
   ]
  },
  {
   "cell_type": "code",
   "execution_count": 113,
   "metadata": {},
   "outputs": [
    {
     "data": {
      "text/plain": [
       "['data analyst',\n",
       " 'analisis de datos',\n",
       " 'data analytics',\n",
       " 'analitica de datos',\n",
       " 'business analyst',\n",
       " 'analisis de negocios',\n",
       " 'sql',\n",
       " 'python',\n",
       " 'business intelligence',\n",
       " 'inteligencia de negocios',\n",
       " ' bi ',\n",
       " 'excel',\n",
       " 'microsoft office',\n",
       " 'ms office',\n",
       " 'dashboard',\n",
       " 'kpi',\n",
       " 'reporting',\n",
       " 'informes',\n",
       " 'tableau',\n",
       " 'powerbi',\n",
       " 'power bi',\n",
       " 'microsoft bi',\n",
       " 'qlik',\n",
       " 'spotfire']"
      ]
     },
     "execution_count": 113,
     "metadata": {},
     "output_type": "execute_result"
    }
   ],
   "source": [
    "DA_list = dic_key_words.get('data analyst')\n",
    "DS_list = dic_key_words.get('data scientist')\n",
    "DE_list = dic_key_words.get('data engineer')\n",
    "\n",
    "DA_list"
   ]
  },
  {
   "cell_type": "code",
   "execution_count": 114,
   "metadata": {},
   "outputs": [],
   "source": [
    "df_jobs['DA coincidences'] = \\\n",
    "df_jobs['Job info'].apply(lambda x: coincidencias(DA_list,clean_text(x)))\n",
    "df_jobs['DA coincidences_list'] = \\\n",
    "df_jobs['Job info'].apply(lambda x: list_coincidencias(DA_list,clean_text(x)))\n",
    "\n",
    "df_jobs['DS coincidences'] = \\\n",
    "df_jobs['Job info'].apply(lambda x: coincidencias(DS_list,clean_text(x)))\n",
    "df_jobs['DS coincidences_list'] = \\\n",
    "df_jobs['Job info'].apply(lambda x: list_coincidencias(DS_list,clean_text(x)))\n",
    "\n",
    "df_jobs['DE coincidences'] = \\\n",
    "df_jobs['Job info'].apply(lambda x: coincidencias(DE_list,clean_text(x)))\n",
    "df_jobs['DE coincidences_list'] = \\\n",
    "df_jobs['Job info'].apply(lambda x: list_coincidencias(DE_list,clean_text(x)))"
   ]
  },
  {
   "cell_type": "markdown",
   "metadata": {},
   "source": [
    "#### profile >"
   ]
  },
  {
   "cell_type": "code",
   "execution_count": 119,
   "metadata": {},
   "outputs": [
    {
     "data": {
      "text/plain": [
       "\"['analytical skills', 'bash', 'business analysis', 'business intelligence', 'business process improvement', 'continuous improvement', 'data analysis', 'data analytics', 'data modeling', 'data pipelines', 'data science', 'data visualization', 'engineering', 'engineering - be', 'english', 'español', 'financial analysis', 'git', 'industrial engineering', 'industry knowledge', 'jupyter', 'leadership', 'lean manufacturing', 'machine learning', 'master', 'microsoft excel', 'microsoft office', 'microsoft power bi', 'microsoft power query', 'microsoft project', 'mysql', 'negotiation', 'numpy', 'pandas', 'power pivot', 'process engineering', 'process optimization', 'programming', 'project management', 'python', 'r', 'sap', 'scrum', 'seaborn', 'six sigma', 'spanish', 'sql', 'statistics', 'tableau', 'team management', 'teamwork', 'telco', 'vba', 'visual basic for applications', 'web scraping']\""
      ]
     },
     "execution_count": 119,
     "metadata": {},
     "output_type": "execute_result"
    }
   ],
   "source": [
    "df_profile.loc['total skills', 'info']"
   ]
  },
  {
   "cell_type": "code",
   "execution_count": 122,
   "metadata": {},
   "outputs": [
    {
     "data": {
      "text/plain": [
       "['analytical skills',\n",
       " 'bash',\n",
       " 'business analysis',\n",
       " 'business intelligence',\n",
       " 'business process improvement',\n",
       " 'continuous improvement',\n",
       " 'data analysis',\n",
       " 'data analytics',\n",
       " 'data modeling',\n",
       " 'data pipelines',\n",
       " 'data science',\n",
       " 'data visualization',\n",
       " 'engineering',\n",
       " 'english',\n",
       " 'español',\n",
       " 'financial analysis',\n",
       " 'git',\n",
       " 'industry knowledge',\n",
       " 'jupyter',\n",
       " 'leadership',\n",
       " 'lean manufacturing',\n",
       " 'machine learning',\n",
       " 'microsoft excel',\n",
       " 'microsoft office',\n",
       " 'microsoft power bi',\n",
       " 'microsoft power query',\n",
       " 'microsoft project',\n",
       " 'mysql',\n",
       " 'negotiation',\n",
       " 'numpy',\n",
       " 'pandas',\n",
       " 'power pivot',\n",
       " 'process engineering',\n",
       " 'process optimization',\n",
       " 'programming',\n",
       " 'project management',\n",
       " 'python',\n",
       " 'r',\n",
       " 'sap',\n",
       " 'scrum',\n",
       " 'seaborn',\n",
       " 'six sigma',\n",
       " 'sql',\n",
       " 'statistics',\n",
       " 'tableau',\n",
       " 'team management',\n",
       " 'teamwork',\n",
       " 'telco',\n",
       " 'vba',\n",
       " 'visual basic for applications',\n",
       " 'web scraping']"
      ]
     },
     "execution_count": 122,
     "metadata": {},
     "output_type": "execute_result"
    }
   ],
   "source": [
    "#### THIS IS ONLY FOR JUPYTER !!!!!!!!!!!!!!!!!!!!\n",
    "profile_skills = clean_text(df_profile.loc['skills', 'info']).replace('[','').replace(']','').replace(\"'\",\"\").split(', ')\n",
    "sorted(profile_skills)"
   ]
  },
  {
   "cell_type": "code",
   "execution_count": 123,
   "metadata": {},
   "outputs": [],
   "source": [
    "df_jobs['PROFILE coincidences'] = \\\n",
    "df_jobs['Job info'].apply(lambda x:      coincidencias(profile_skills,clean_text(x)))\n",
    "df_jobs['PROFILE coincidences_list'] = \\\n",
    "df_jobs['Job info'].apply(lambda x: list_coincidencias(profile_skills,clean_text(x)))"
   ]
  },
  {
   "cell_type": "code",
   "execution_count": null,
   "metadata": {},
   "outputs": [],
   "source": []
  },
  {
   "cell_type": "markdown",
   "metadata": {},
   "source": [
    "#### checking results >"
   ]
  },
  {
   "cell_type": "code",
   "execution_count": 124,
   "metadata": {},
   "outputs": [],
   "source": [
    "check = 10"
   ]
  },
  {
   "cell_type": "code",
   "execution_count": 125,
   "metadata": {},
   "outputs": [
    {
     "data": {
      "text/plain": [
       "'Data Analyst'"
      ]
     },
     "execution_count": 125,
     "metadata": {},
     "output_type": "execute_result"
    }
   ],
   "source": [
    "df_jobs.loc[check ,'Job name']"
   ]
  },
  {
   "cell_type": "code",
   "execution_count": 126,
   "metadata": {},
   "outputs": [
    {
     "data": {
      "text/plain": [
       "{'DA coincidences': 6,\n",
       " 'DA coincidences_list': ['data analyst',\n",
       "  'sql',\n",
       "  'business intelligence',\n",
       "  'excel',\n",
       "  'kpi',\n",
       "  'reporting'],\n",
       " 'DS coincidences': 2,\n",
       " 'DS coincidences_list': ['sql', 'statistics'],\n",
       " 'DE coincidences': 1,\n",
       " 'DE coincidences_list': ['sql'],\n",
       " 'PROFILE coincidences': 8,\n",
       " 'PROFILE coincidences_list': ['business intelligence',\n",
       "  'r',\n",
       "  'data analysis',\n",
       "  'english',\n",
       "  'engineering',\n",
       "  'statistics',\n",
       "  'sql',\n",
       "  'microsoft excel']}"
      ]
     },
     "execution_count": 126,
     "metadata": {},
     "output_type": "execute_result"
    }
   ],
   "source": [
    "dict(df_jobs.loc[check ,'DA coincidences':'PROFILE coincidences_list'])"
   ]
  },
  {
   "cell_type": "code",
   "execution_count": 127,
   "metadata": {},
   "outputs": [
    {
     "data": {
      "text/plain": [
       "'posted date posted 1 week ago number of views 562 views share show more options save save data analyst at teva pharmaceuticals apply see how you compare to 53 applicants  reactivate premium job 53 applicants entry level company 10001+ employees pharmaceuticals connections you have 0 connections at this company  add > company info  teva is a global pharmaceutical leader and the world\\'s largest generic medicines producer, committed to improving health and increasing access to quality health solutions worldwide  our employees are at the core of our success, with colleagues in over 80 countries delivering the world\\'s largest medicine cabinet to 200 million people every day  we offer a uniquely diverse portfolio of products and solutions for patients and we\\'ve built a promising pipeline centered around our core therapeutic areas  we are continually developing patient-centric solutions and significantly growing both our generic and specialty medicines business through investment in research and development, marketing, business development and innovation  this is how we improve health and enable people to live better, healthier lives  join us on our journey of growth!  executive summary  we are looking for a creative and innovative person to data analyst position which will be integrate into a multidisciplinary team responsible for managing data for all life cycle, creating and improving report regarding the mainly kpi’s and creating and maintaining the statistical forecast models at the different levels, markets, business unit   , ensuring also that the data utilized is accurate, consistent and compliant   basic functions generate reporting and ad-hoc analysis – adding all data sources from our business areas develop, implement and maintain statistical forecast based mainly on historical data and mathematical algorithms support the user community in the understanding of statistical models performed research demand drivers, identify best fit statistical forecast models, and evaluate forecast results assist on reporting and benchmark analysis  calculate forecasting related key performance indicators and report onto the corresponding organizational department   years of experience  one to two years of experience in data analysis and sas  education/training  university degree in mathematics, statistics, economics, engineering or physics  languages  spanish and english: fluent, both spoken and written  required education / experience / specific job-related skills demonstrated experience in sas base valuable experience in and sas forecast studio demonstrated experience working with db (oracle, sql server …) demonstrated proficiency in microsoft excel value experience on statistical models, mainly time series demonstrated experience in business intelligence value experience in data mining very strong analytical and organized skills interpersonal skills are also essential to effectively interact with all teams, areas and levels results oriented profile is key to meet the objectives both in quality and time work in a fast-paced, dynamic work environment   already working @teva?  if you are a current teva employee, please apply using the internal career site available on \"employee central\"  by doing so, your application will be treated with priority  you will also be able to see opportunities that are open exclusively to teva employees  use the following link to search and apply: internal career site  the internal career site is available from your home network as well  if you have trouble accessing your ec account, please contact your local hr/it partner   teva’s equal employment opportunity commitment  teva pharmaceuticals is committed to equal opportunity in employment  it is teva\\'s global policy that equal employment opportunity be provided without regard to age, race, creed, color, religion, sex, disability, pregnancy, medical condition, sexual orientation, gender identity or expression, ancestry, veteran status, national or ethnic origin or any other legally recognized status entitled to protection under applicable laws   teva pharmaceuticals is committed to equal opportunity in employment  it is teva\\'s policy that equal employment opportunity be provided without regard to age, race, creed, color, religion, sex, disability, pregnancy, medical condition, genetic information, marital status, sexual orientation, gender identity or expression, ancestry, national or ethnic origin, citizenship status, military status or status as a disabled or protected veteran, or any legally recognized status entitled to protection under applicable federal, state, or local laws  seniority level entry level industry health, wellness & fitness biotechnology pharmaceuticals employment type full-time job functions information technology'"
      ]
     },
     "execution_count": 127,
     "metadata": {},
     "output_type": "execute_result"
    }
   ],
   "source": [
    "clean_text(df_jobs.loc[check ,'Job info'])"
   ]
  },
  {
   "cell_type": "markdown",
   "metadata": {},
   "source": [
    "### TOP JOB POST >"
   ]
  },
  {
   "cell_type": "code",
   "execution_count": 134,
   "metadata": {},
   "outputs": [],
   "source": [
    "top = 5"
   ]
  },
  {
   "cell_type": "code",
   "execution_count": 135,
   "metadata": {},
   "outputs": [
    {
     "data": {
      "text/html": [
       "<div>\n",
       "<style scoped>\n",
       "    .dataframe tbody tr th:only-of-type {\n",
       "        vertical-align: middle;\n",
       "    }\n",
       "\n",
       "    .dataframe tbody tr th {\n",
       "        vertical-align: top;\n",
       "    }\n",
       "\n",
       "    .dataframe thead th {\n",
       "        text-align: right;\n",
       "    }\n",
       "</style>\n",
       "<table border=\"1\" class=\"dataframe\">\n",
       "  <thead>\n",
       "    <tr style=\"text-align: right;\">\n",
       "      <th></th>\n",
       "      <th>JOB TITLE</th>\n",
       "      <th>LOCATION</th>\n",
       "      <th>SEARCH DATETIME</th>\n",
       "      <th>Current Job Id</th>\n",
       "      <th>Job html</th>\n",
       "      <th>Job name</th>\n",
       "      <th>Company name</th>\n",
       "      <th>Company location</th>\n",
       "      <th>Posted date</th>\n",
       "      <th>Estimated post date</th>\n",
       "      <th>...</th>\n",
       "      <th>JOB TITLE_ID</th>\n",
       "      <th>Info Language</th>\n",
       "      <th>DA coincidences</th>\n",
       "      <th>DA coincidences_list</th>\n",
       "      <th>DS coincidences</th>\n",
       "      <th>DS coincidences_list</th>\n",
       "      <th>DE coincidences</th>\n",
       "      <th>DE coincidences_list</th>\n",
       "      <th>PROFILE coincidences</th>\n",
       "      <th>PROFILE coincidences_list</th>\n",
       "    </tr>\n",
       "  </thead>\n",
       "  <tbody>\n",
       "    <tr>\n",
       "      <th>580</th>\n",
       "      <td>data engineer</td>\n",
       "      <td>Madrid</td>\n",
       "      <td>2020-04-18 23:50</td>\n",
       "      <td>1788328087</td>\n",
       "      <td>https://www.linkedin.com/jobs/view/1788328087/</td>\n",
       "      <td>Data Engineers (0 – 5 years of experience) at ...</td>\n",
       "      <td>EY</td>\n",
       "      <td>Madrid Area, Spain</td>\n",
       "      <td>1 week</td>\n",
       "      <td>2020-04-11 23:50</td>\n",
       "      <td>...</td>\n",
       "      <td>data engineer_1788328087</td>\n",
       "      <td>en</td>\n",
       "      <td>9</td>\n",
       "      <td>[data analytics, sql, python, business intelli...</td>\n",
       "      <td>6</td>\n",
       "      <td>[data science, sql, python, machine learning, ...</td>\n",
       "      <td>8</td>\n",
       "      <td>[data engineer, sql, no sql, python, java , sp...</td>\n",
       "      <td>18</td>\n",
       "      <td>[business intelligence, programming, r, englis...</td>\n",
       "    </tr>\n",
       "    <tr>\n",
       "      <th>442</th>\n",
       "      <td>data scientist</td>\n",
       "      <td>Madrid</td>\n",
       "      <td>2020-04-18 23:50</td>\n",
       "      <td>1772483934</td>\n",
       "      <td>https://www.linkedin.com/jobs/view/1772483934/</td>\n",
       "      <td>Data Scientist &amp; Project Administrator (SoF)</td>\n",
       "      <td>Brambles</td>\n",
       "      <td>Madrid, ES</td>\n",
       "      <td>1 month</td>\n",
       "      <td>2020-03-21 23:50</td>\n",
       "      <td>...</td>\n",
       "      <td>data scientist_1772483934</td>\n",
       "      <td>en</td>\n",
       "      <td>8</td>\n",
       "      <td>[data analytics, sql, python, business intelli...</td>\n",
       "      <td>7</td>\n",
       "      <td>[data scientist, data science, sql, python,  r...</td>\n",
       "      <td>5</td>\n",
       "      <td>[sql, python,  r , hadoop, big data]</td>\n",
       "      <td>16</td>\n",
       "      <td>[business intelligence, programming, r, englis...</td>\n",
       "    </tr>\n",
       "    <tr>\n",
       "      <th>740</th>\n",
       "      <td>data engineer</td>\n",
       "      <td>Madrid</td>\n",
       "      <td>2020-04-18 23:50</td>\n",
       "      <td>1772483934</td>\n",
       "      <td>https://www.linkedin.com/jobs/view/1772483934/</td>\n",
       "      <td>Data Scientist &amp; Project Administrator (SoF)</td>\n",
       "      <td>Brambles</td>\n",
       "      <td>Madrid, ES</td>\n",
       "      <td>1 month</td>\n",
       "      <td>2020-03-21 23:50</td>\n",
       "      <td>...</td>\n",
       "      <td>data engineer_1772483934</td>\n",
       "      <td>en</td>\n",
       "      <td>8</td>\n",
       "      <td>[data analytics, sql, python, business intelli...</td>\n",
       "      <td>7</td>\n",
       "      <td>[data scientist, data science, sql, python,  r...</td>\n",
       "      <td>5</td>\n",
       "      <td>[sql, python,  r , hadoop, big data]</td>\n",
       "      <td>16</td>\n",
       "      <td>[business intelligence, programming, r, englis...</td>\n",
       "    </tr>\n",
       "    <tr>\n",
       "      <th>607</th>\n",
       "      <td>data engineer</td>\n",
       "      <td>Madrid</td>\n",
       "      <td>2020-04-18 23:50</td>\n",
       "      <td>1713962733</td>\n",
       "      <td>https://www.linkedin.com/jobs/view/1713962733/</td>\n",
       "      <td>Data Scientist &amp; Project Manager</td>\n",
       "      <td>CHEP</td>\n",
       "      <td>Madrid, Community of Madrid, Spain</td>\n",
       "      <td>3 weeks</td>\n",
       "      <td>2020-03-28 23:50</td>\n",
       "      <td>...</td>\n",
       "      <td>data engineer_1713962733</td>\n",
       "      <td>en</td>\n",
       "      <td>8</td>\n",
       "      <td>[data analytics, sql, python, business intelli...</td>\n",
       "      <td>8</td>\n",
       "      <td>[data scientist, data science, sql, python,  r...</td>\n",
       "      <td>5</td>\n",
       "      <td>[sql, python,  r , hadoop, big data]</td>\n",
       "      <td>15</td>\n",
       "      <td>[business intelligence, programming, r, englis...</td>\n",
       "    </tr>\n",
       "    <tr>\n",
       "      <th>303</th>\n",
       "      <td>data scientist</td>\n",
       "      <td>Madrid</td>\n",
       "      <td>2020-04-18 23:50</td>\n",
       "      <td>1800986416</td>\n",
       "      <td>https://www.linkedin.com/jobs/view/1800986416/</td>\n",
       "      <td>Data Scientist &amp; Project Administrator</td>\n",
       "      <td>CHEP</td>\n",
       "      <td>Madrid, ES</td>\n",
       "      <td>4 days</td>\n",
       "      <td>2020-04-14 23:50</td>\n",
       "      <td>...</td>\n",
       "      <td>data scientist_1800986416</td>\n",
       "      <td>en</td>\n",
       "      <td>8</td>\n",
       "      <td>[data analytics, sql, python, business intelli...</td>\n",
       "      <td>7</td>\n",
       "      <td>[data scientist, data science, sql, python,  r...</td>\n",
       "      <td>5</td>\n",
       "      <td>[sql, python,  r , hadoop, big data]</td>\n",
       "      <td>15</td>\n",
       "      <td>[business intelligence, programming, r, englis...</td>\n",
       "    </tr>\n",
       "  </tbody>\n",
       "</table>\n",
       "<p>5 rows × 27 columns</p>\n",
       "</div>"
      ],
      "text/plain": [
       "          JOB TITLE LOCATION   SEARCH DATETIME  Current Job Id  \\\n",
       "580   data engineer   Madrid  2020-04-18 23:50      1788328087   \n",
       "442  data scientist   Madrid  2020-04-18 23:50      1772483934   \n",
       "740   data engineer   Madrid  2020-04-18 23:50      1772483934   \n",
       "607   data engineer   Madrid  2020-04-18 23:50      1713962733   \n",
       "303  data scientist   Madrid  2020-04-18 23:50      1800986416   \n",
       "\n",
       "                                           Job html  \\\n",
       "580  https://www.linkedin.com/jobs/view/1788328087/   \n",
       "442  https://www.linkedin.com/jobs/view/1772483934/   \n",
       "740  https://www.linkedin.com/jobs/view/1772483934/   \n",
       "607  https://www.linkedin.com/jobs/view/1713962733/   \n",
       "303  https://www.linkedin.com/jobs/view/1800986416/   \n",
       "\n",
       "                                              Job name Company name  \\\n",
       "580  Data Engineers (0 – 5 years of experience) at ...           EY   \n",
       "442       Data Scientist & Project Administrator (SoF)     Brambles   \n",
       "740       Data Scientist & Project Administrator (SoF)     Brambles   \n",
       "607                   Data Scientist & Project Manager         CHEP   \n",
       "303             Data Scientist & Project Administrator         CHEP   \n",
       "\n",
       "                       Company location Posted date Estimated post date  ...  \\\n",
       "580                  Madrid Area, Spain      1 week    2020-04-11 23:50  ...   \n",
       "442                          Madrid, ES     1 month    2020-03-21 23:50  ...   \n",
       "740                          Madrid, ES     1 month    2020-03-21 23:50  ...   \n",
       "607  Madrid, Community of Madrid, Spain     3 weeks    2020-03-28 23:50  ...   \n",
       "303                          Madrid, ES      4 days    2020-04-14 23:50  ...   \n",
       "\n",
       "                  JOB TITLE_ID Info Language DA coincidences  \\\n",
       "580   data engineer_1788328087            en               9   \n",
       "442  data scientist_1772483934            en               8   \n",
       "740   data engineer_1772483934            en               8   \n",
       "607   data engineer_1713962733            en               8   \n",
       "303  data scientist_1800986416            en               8   \n",
       "\n",
       "                                  DA coincidences_list DS coincidences  \\\n",
       "580  [data analytics, sql, python, business intelli...               6   \n",
       "442  [data analytics, sql, python, business intelli...               7   \n",
       "740  [data analytics, sql, python, business intelli...               7   \n",
       "607  [data analytics, sql, python, business intelli...               8   \n",
       "303  [data analytics, sql, python, business intelli...               7   \n",
       "\n",
       "                                  DS coincidences_list DE coincidences  \\\n",
       "580  [data science, sql, python, machine learning, ...               8   \n",
       "442  [data scientist, data science, sql, python,  r...               5   \n",
       "740  [data scientist, data science, sql, python,  r...               5   \n",
       "607  [data scientist, data science, sql, python,  r...               5   \n",
       "303  [data scientist, data science, sql, python,  r...               5   \n",
       "\n",
       "                                  DE coincidences_list PROFILE coincidences  \\\n",
       "580  [data engineer, sql, no sql, python, java , sp...                   18   \n",
       "442               [sql, python,  r , hadoop, big data]                   16   \n",
       "740               [sql, python,  r , hadoop, big data]                   16   \n",
       "607               [sql, python,  r , hadoop, big data]                   15   \n",
       "303               [sql, python,  r , hadoop, big data]                   15   \n",
       "\n",
       "                             PROFILE coincidences_list  \n",
       "580  [business intelligence, programming, r, englis...  \n",
       "442  [business intelligence, programming, r, englis...  \n",
       "740  [business intelligence, programming, r, englis...  \n",
       "607  [business intelligence, programming, r, englis...  \n",
       "303  [business intelligence, programming, r, englis...  \n",
       "\n",
       "[5 rows x 27 columns]"
      ]
     },
     "execution_count": 135,
     "metadata": {},
     "output_type": "execute_result"
    }
   ],
   "source": [
    "df_jobs.sort_values(by=['PROFILE coincidences'], ascending=False).head(top)"
   ]
  },
  {
   "cell_type": "code",
   "execution_count": 130,
   "metadata": {},
   "outputs": [
    {
     "data": {
      "text/html": [
       "<div>\n",
       "<style scoped>\n",
       "    .dataframe tbody tr th:only-of-type {\n",
       "        vertical-align: middle;\n",
       "    }\n",
       "\n",
       "    .dataframe tbody tr th {\n",
       "        vertical-align: top;\n",
       "    }\n",
       "\n",
       "    .dataframe thead th {\n",
       "        text-align: right;\n",
       "    }\n",
       "</style>\n",
       "<table border=\"1\" class=\"dataframe\">\n",
       "  <thead>\n",
       "    <tr style=\"text-align: right;\">\n",
       "      <th></th>\n",
       "      <th>JOB TITLE</th>\n",
       "      <th>LOCATION</th>\n",
       "      <th>SEARCH DATETIME</th>\n",
       "      <th>Current Job Id</th>\n",
       "      <th>Job html</th>\n",
       "      <th>Job name</th>\n",
       "      <th>Company name</th>\n",
       "      <th>Company location</th>\n",
       "      <th>Posted date</th>\n",
       "      <th>Estimated post date</th>\n",
       "      <th>...</th>\n",
       "      <th>JOB TITLE_ID</th>\n",
       "      <th>Info Language</th>\n",
       "      <th>DA coincidences</th>\n",
       "      <th>DA coincidences_list</th>\n",
       "      <th>DS coincidences</th>\n",
       "      <th>DS coincidences_list</th>\n",
       "      <th>DE coincidences</th>\n",
       "      <th>DE coincidences_list</th>\n",
       "      <th>PROFILE coincidences</th>\n",
       "      <th>PROFILE coincidences_list</th>\n",
       "    </tr>\n",
       "  </thead>\n",
       "  <tbody>\n",
       "    <tr>\n",
       "      <th>580</th>\n",
       "      <td>data engineer</td>\n",
       "      <td>Madrid</td>\n",
       "      <td>2020-04-18 23:50</td>\n",
       "      <td>1788328087</td>\n",
       "      <td>https://www.linkedin.com/jobs/view/1788328087/</td>\n",
       "      <td>Data Engineers (0 – 5 years of experience) at ...</td>\n",
       "      <td>EY</td>\n",
       "      <td>Madrid Area, Spain</td>\n",
       "      <td>1 week</td>\n",
       "      <td>2020-04-11 23:50</td>\n",
       "      <td>...</td>\n",
       "      <td>data engineer_1788328087</td>\n",
       "      <td>en</td>\n",
       "      <td>9</td>\n",
       "      <td>[data analytics, sql, python, business intelli...</td>\n",
       "      <td>6</td>\n",
       "      <td>[data science, sql, python, machine learning, ...</td>\n",
       "      <td>8</td>\n",
       "      <td>[data engineer, sql, no sql, python, java , sp...</td>\n",
       "      <td>18</td>\n",
       "      <td>[business intelligence, programming, r, englis...</td>\n",
       "    </tr>\n",
       "  </tbody>\n",
       "</table>\n",
       "<p>1 rows × 27 columns</p>\n",
       "</div>"
      ],
      "text/plain": [
       "         JOB TITLE LOCATION   SEARCH DATETIME  Current Job Id  \\\n",
       "580  data engineer   Madrid  2020-04-18 23:50      1788328087   \n",
       "\n",
       "                                           Job html  \\\n",
       "580  https://www.linkedin.com/jobs/view/1788328087/   \n",
       "\n",
       "                                              Job name Company name  \\\n",
       "580  Data Engineers (0 – 5 years of experience) at ...           EY   \n",
       "\n",
       "       Company location Posted date Estimated post date  ...  \\\n",
       "580  Madrid Area, Spain      1 week    2020-04-11 23:50  ...   \n",
       "\n",
       "                 JOB TITLE_ID Info Language DA coincidences  \\\n",
       "580  data engineer_1788328087            en               9   \n",
       "\n",
       "                                  DA coincidences_list DS coincidences  \\\n",
       "580  [data analytics, sql, python, business intelli...               6   \n",
       "\n",
       "                                  DS coincidences_list DE coincidences  \\\n",
       "580  [data science, sql, python, machine learning, ...               8   \n",
       "\n",
       "                                  DE coincidences_list PROFILE coincidences  \\\n",
       "580  [data engineer, sql, no sql, python, java , sp...                   18   \n",
       "\n",
       "                             PROFILE coincidences_list  \n",
       "580  [business intelligence, programming, r, englis...  \n",
       "\n",
       "[1 rows x 27 columns]"
      ]
     },
     "execution_count": 130,
     "metadata": {},
     "output_type": "execute_result"
    }
   ],
   "source": [
    "df_jobs[df_jobs['Current Job Id']==1788328087]"
   ]
  },
  {
   "cell_type": "code",
   "execution_count": null,
   "metadata": {},
   "outputs": [],
   "source": []
  },
  {
   "cell_type": "markdown",
   "metadata": {},
   "source": [
    "## Using NLP"
   ]
  },
  {
   "cell_type": "code",
   "execution_count": 78,
   "metadata": {},
   "outputs": [],
   "source": [
    "nlp_en = spacy.load('en_core_web_md')\n",
    "nlp_es = spacy.load('es_core_news_md')"
   ]
  },
  {
   "cell_type": "code",
   "execution_count": 131,
   "metadata": {},
   "outputs": [
    {
     "data": {
      "text/plain": [
       "Index(['JOB TITLE', 'LOCATION', 'SEARCH DATETIME', 'Current Job Id',\n",
       "       'Job html', 'Job name', 'Company name', 'Company location',\n",
       "       'Posted date', 'Estimated post date', 'Easy apply', 'Skills match',\n",
       "       'Seniority Level', 'Industry', 'Employment Type', 'Job Functions',\n",
       "       'Job info', 'JOB TITLE_ID', 'Info Language', 'DA coincidences',\n",
       "       'DA coincidences_list', 'DS coincidences', 'DS coincidences_list',\n",
       "       'DE coincidences', 'DE coincidences_list', 'PROFILE coincidences',\n",
       "       'PROFILE coincidences_list'],\n",
       "      dtype='object')"
      ]
     },
     "execution_count": 131,
     "metadata": {},
     "output_type": "execute_result"
    }
   ],
   "source": [
    "df_jobs.columns"
   ]
  },
  {
   "cell_type": "code",
   "execution_count": 197,
   "metadata": {},
   "outputs": [
    {
     "data": {
      "text/plain": [
       "['data analyst', 'data scientist', 'data engineer']"
      ]
     },
     "execution_count": 197,
     "metadata": {},
     "output_type": "execute_result"
    }
   ],
   "source": [
    "unique_jobs = list(df_jobs['JOB TITLE'].unique())\n",
    "unique_jobs"
   ]
  },
  {
   "cell_type": "code",
   "execution_count": 201,
   "metadata": {},
   "outputs": [
    {
     "data": {
      "text/plain": [
       "'DA'"
      ]
     },
     "execution_count": 201,
     "metadata": {},
     "output_type": "execute_result"
    }
   ],
   "source": [
    "unique_jobs[0].split(\" \")[0][0].upper() + unique_jobs[0].split(\" \")[1][0].upper()"
   ]
  },
  {
   "cell_type": "code",
   "execution_count": 198,
   "metadata": {},
   "outputs": [
    {
     "data": {
      "text/plain": [
       "['en', 'es']"
      ]
     },
     "execution_count": 198,
     "metadata": {},
     "output_type": "execute_result"
    }
   ],
   "source": [
    "unique_languages = list(df_jobs['Info Language'].unique())\n",
    "unique_languages"
   ]
  },
  {
   "cell_type": "code",
   "execution_count": 199,
   "metadata": {},
   "outputs": [],
   "source": [
    "dict_corpus = {}\n",
    "dict_filtered_tokens = {}"
   ]
  },
  {
   "cell_type": "code",
   "execution_count": 217,
   "metadata": {},
   "outputs": [],
   "source": [
    "for job in unique_jobs:\n",
    "    job_key = job.split(\" \")[0][0] + job.split(\" \")[1][0]\n",
    "    job_key = job_key.upper()\n",
    "    \n",
    "    for lang in unique_languages:\n",
    "        #CORPUS\n",
    "        filter_job  = df_jobs['JOB TITLE'] == job\n",
    "        filter_lang = df_jobs['Info Language'] == lang\n",
    "        corpus = df_jobs['Job info'][filter_job & filter_lang].str.cat(sep=\" || \")\n",
    "        \n",
    "        dict_corpus.update( {job_key : corpus} )\n",
    "        \n",
    "        if   lang == 'en':\n",
    "            tokens = nlp_en(corpus)\n",
    "            STOP_WORDS = SW_en\n",
    "        elif lang == 'es':\n",
    "            tokens = nlp_es(corpus)\n",
    "            STOP_WORDS = SW_es\n",
    "\n",
    "        filtered_tokens = []\n",
    "\n",
    "        for word in tokens:\n",
    "            lemma = word.lemma_.lower().strip()\n",
    "\n",
    "            if lemma not in STOP_WORDS and re.search('^[a-z]+$', lemma) and lemma not in black_list:\n",
    "                    filtered_tokens.append(lemma)\n",
    "        \n",
    "        dict_filtered_tokens.update( {job_key : filtered_tokens} )"
   ]
  },
  {
   "cell_type": "code",
   "execution_count": 218,
   "metadata": {},
   "outputs": [
    {
     "data": {
      "text/plain": [
       "' de la marca en España y por ese motivo estamos buscando un/a Consultor/a con alto conocimiento PowerBI y otras herramientas relacionadas con el análisis de datos. El objetivo será generar, obtener y '"
      ]
     },
     "execution_count": 218,
     "metadata": {},
     "output_type": "execute_result"
    }
   ],
   "source": [
    "dict_corpus.get('DA')[400:600]"
   ]
  },
  {
   "cell_type": "code",
   "execution_count": 219,
   "metadata": {},
   "outputs": [
    {
     "data": {
      "text/plain": [
       "['legal',\n",
       " 'seniority',\n",
       " 'level',\n",
       " 'associate',\n",
       " 'marketing',\n",
       " 'advertising',\n",
       " 'staffing',\n",
       " 'recruiting',\n",
       " 'human',\n",
       " 'resources',\n",
       " 'employment',\n",
       " 'type',\n",
       " 'full',\n",
       " 'timar',\n",
       " 'functions',\n",
       " 'information',\n",
       " 'technology',\n",
       " 'posted',\n",
       " 'posted',\n",
       " 'months',\n",
       " 'number',\n",
       " 'of',\n",
       " 'views',\n",
       " 'views',\n",
       " 'show',\n",
       " 'morar',\n",
       " 'options',\n",
       " 'business',\n",
       " 'data',\n",
       " 'analyst',\n",
       " 'at',\n",
       " 'social',\n",
       " 'you',\n",
       " 'see',\n",
       " 'how',\n",
       " 'you',\n",
       " 'comparar',\n",
       " 'to',\n",
       " 'applicants',\n",
       " 'applicants',\n",
       " 'associate',\n",
       " 'employees',\n",
       " 'internet',\n",
       " 'connections',\n",
       " 'you',\n",
       " 'have',\n",
       " 'connections',\n",
       " 'at',\n",
       " 'this',\n",
       " 'business',\n",
       " 'data',\n",
       " 'analyst',\n",
       " 'referencia',\n",
       " 'madrid',\n",
       " 'cliente',\n",
       " 'consultor',\n",
       " 'especializar',\n",
       " 'servicio',\n",
       " 'enfocar',\n",
       " 'a',\n",
       " 'calidad',\n",
       " 'y',\n",
       " 'seguridad',\n",
       " 'principal',\n",
       " 'objetivar',\n",
       " 'ayudar',\n",
       " 'a',\n",
       " 'cliente',\n",
       " 'a',\n",
       " 'convertir',\n",
       " 'departamento',\n",
       " 'it',\n",
       " 'motor',\n",
       " 'productividad',\n",
       " 'utilizar',\n",
       " 'adecuar',\n",
       " 'eficiente',\n",
       " 'rentable',\n",
       " 'y',\n",
       " 'sostenible',\n",
       " 'disponen',\n",
       " 'sedar',\n",
       " 'madrid',\n",
       " 'y',\n",
       " 'barcelona',\n",
       " 'servicio',\n",
       " 'a',\n",
       " 'grande',\n",
       " 'y',\n",
       " 'mediano',\n",
       " 'empresa',\n",
       " 'buscar',\n",
       " 'business',\n",
       " 'data',\n",
       " 'analyst',\n",
       " 'experimentar',\n",
       " 'experiencia',\n",
       " 'herramienta',\n",
       " 'comer',\n",
       " 'google',\n",
       " 'analytics',\n",
       " 'bigquery',\n",
       " 'tableau',\n",
       " 'power',\n",
       " 'bi',\n",
       " 'rol',\n",
       " 'responsable',\n",
       " 'equipo',\n",
       " 'multidisciplinario',\n",
       " 'investigador',\n",
       " 'cualitativo',\n",
       " 'propietario',\n",
       " 'producto',\n",
       " 'desarrollador',\n",
       " 'parir',\n",
       " 'combinar',\n",
       " 'y',\n",
       " 'dato',\n",
       " 'parir',\n",
       " 'generar',\n",
       " 'usuario',\n",
       " 'y',\n",
       " 'mercar',\n",
       " 'y',\n",
       " 'principales',\n",
       " 'responsabilidades',\n",
       " 'interpretar',\n",
       " 'dato',\n",
       " 'analizar',\n",
       " 'resultar',\n",
       " 'utilizar',\n",
       " 'y',\n",
       " 'proporcionar',\n",
       " 'informe',\n",
       " 'continuo',\n",
       " 'adquirir',\n",
       " 'dato',\n",
       " 'fuente',\n",
       " 'dato',\n",
       " 'primario',\n",
       " 'o',\n",
       " 'secundario',\n",
       " 'parir',\n",
       " 'enriquecer',\n",
       " 'dato',\n",
       " 'identificar',\n",
       " 'analizar',\n",
       " 'e',\n",
       " 'interpretar',\n",
       " 'tendencia',\n",
       " 'o',\n",
       " 'conjunto',\n",
       " 'dato',\n",
       " 'complejo',\n",
       " 'parir',\n",
       " 'encontrar',\n",
       " 'filtre',\n",
       " 'y',\n",
       " 'limpiar',\n",
       " 'dato',\n",
       " 'revisar',\n",
       " 'informe',\n",
       " 'computador',\n",
       " 'impresionar',\n",
       " 'e',\n",
       " 'indicador',\n",
       " 'rendimiento',\n",
       " 'parir',\n",
       " 'localizar',\n",
       " 'y',\n",
       " 'corregir',\n",
       " 'problema',\n",
       " 'gerencia',\n",
       " 'parir',\n",
       " 'priorizar',\n",
       " 'necesidad',\n",
       " 'comercial',\n",
       " 'y',\n",
       " 'identificar',\n",
       " 'y',\n",
       " 'proponer',\n",
       " 'mejorar',\n",
       " 'basar',\n",
       " 'dato',\n",
       " 'y',\n",
       " 'perspectivo',\n",
       " 'mercar',\n",
       " 'dato',\n",
       " 'e',\n",
       " 'informe',\n",
       " 'excepcionar',\n",
       " 'liderar',\n",
       " 'iniciativo',\n",
       " 'basar',\n",
       " 'dato',\n",
       " 'parir',\n",
       " 'mejorar',\n",
       " 'tomar',\n",
       " 'empresa',\n",
       " 'y']"
      ]
     },
     "execution_count": 219,
     "metadata": {},
     "output_type": "execute_result"
    }
   ],
   "source": [
    "dict_filtered_tokens.get('DA')[400:600]"
   ]
  },
  {
   "cell_type": "markdown",
   "metadata": {},
   "source": [
    "### Data analyst >"
   ]
  },
  {
   "cell_type": "code",
   "execution_count": 148,
   "metadata": {},
   "outputs": [],
   "source": [
    "filter_da_1 = df_jobs['JOB TITLE'] == 'data analyst'\n",
    "filter_da_l1 = df_jobs['Info Language'] == 'en'\n",
    "filter_da_l2 = df_jobs['Info Language'] == 'es'"
   ]
  },
  {
   "cell_type": "code",
   "execution_count": 149,
   "metadata": {},
   "outputs": [
    {
     "data": {
      "text/plain": [
       "(95, 27)"
      ]
     },
     "execution_count": 149,
     "metadata": {},
     "output_type": "execute_result"
    }
   ],
   "source": [
    "df_jobs[filter_da_1 & filter_da_l1].shape"
   ]
  },
  {
   "cell_type": "code",
   "execution_count": 150,
   "metadata": {},
   "outputs": [
    {
     "data": {
      "text/plain": [
       "(84, 27)"
      ]
     },
     "execution_count": 150,
     "metadata": {},
     "output_type": "execute_result"
    }
   ],
   "source": [
    "df_jobs[filter_da_1 & filter_da_l2].shape"
   ]
  },
  {
   "cell_type": "code",
   "execution_count": 152,
   "metadata": {},
   "outputs": [],
   "source": [
    "corpus_DA_en = df_jobs['Job info'][filter_da_1 & filter_da_l1].str.cat(sep=\" || \")\n",
    "corpus_DA_es = df_jobs['Job info'][filter_da_1 & filter_da_l2].str.cat(sep=\" || \")"
   ]
  },
  {
   "cell_type": "code",
   "execution_count": 153,
   "metadata": {},
   "outputs": [
    {
     "data": {
      "text/plain": [
       "369341"
      ]
     },
     "execution_count": 153,
     "metadata": {},
     "output_type": "execute_result"
    }
   ],
   "source": [
    "len(corpus_DA_en)"
   ]
  },
  {
   "cell_type": "code",
   "execution_count": 154,
   "metadata": {},
   "outputs": [
    {
     "data": {
      "text/plain": [
       "208147"
      ]
     },
     "execution_count": 154,
     "metadata": {},
     "output_type": "execute_result"
    }
   ],
   "source": [
    "len(corpus_DA_es)"
   ]
  },
  {
   "cell_type": "code",
   "execution_count": null,
   "metadata": {},
   "outputs": [],
   "source": [
    "corpus_DA_es[0:5000]"
   ]
  },
  {
   "cell_type": "code",
   "execution_count": 192,
   "metadata": {},
   "outputs": [],
   "source": [
    "def spacy_tokenizer(corpus, lang):\n",
    "    \n",
    "    if   lang == 'en':\n",
    "        tokens = nlp_en(corpus)\n",
    "        STOP_WORDS = SW_en\n",
    "    elif lang == 'es':\n",
    "        tokens = nlp_es(corpus)\n",
    "        STOP_WORDS = SW_es\n",
    "    \n",
    "    filtered_tokens = []\n",
    "\n",
    "    for word in tokens:\n",
    "        lemma = word.lemma_.lower().strip()\n",
    "\n",
    "        if lemma not in STOP_WORDS and re.search('^[a-z]+$', lemma) and lemma not in black_list:\n",
    "                filtered_tokens.append(lemma)\n",
    "    \n",
    "    return filtered_tokens"
   ]
  },
  {
   "cell_type": "code",
   "execution_count": 178,
   "metadata": {},
   "outputs": [],
   "source": [
    "black_list = ['post','view','ago','date','option','share','reactivate','premium','company','connection',\n",
    "              'add', 'save','compare','day','applicant','apply','industry','job',\n",
    "             ]"
   ]
  },
  {
   "cell_type": "markdown",
   "metadata": {},
   "source": [
    "#### english:"
   ]
  },
  {
   "cell_type": "code",
   "execution_count": 156,
   "metadata": {},
   "outputs": [],
   "source": [
    "tokens_DA_en = nlp_en(corpus_DA_en)"
   ]
  },
  {
   "cell_type": "code",
   "execution_count": 190,
   "metadata": {},
   "outputs": [
    {
     "data": {
      "text/plain": [
       "industry were business challenges and opportunities grow every day.\n",
       "SWIFT’s Professional Services are a means to help our customers with their challenges to adhere to regulation, reduce costs and risks, streamline and ensure smooth operations and to improve the end customer’s experience. Our goal is to help our customers use SWIFT in the best way possible and excel faster.\n",
       "\n",
       "The Services Marketing and Engineering team is part of the Services Enablement and Customer operations -Customer Experience organization. Our team enables the services organization to effectively provide high value and experience to our customers; We deliver around the following three main activities 1 - Portfolio management for Professional services, Training and Care/Support; 2 - Data analytics and predictive models; 3 - Business process design, Services delivery methodologies and Risk assessment\n",
       "\n",
       "We are looking for a Business process analyst who will be responsible for analyzing critical business process with the aim of improve and streamline processes across teams for optimum efficiency in terms of both performance and cost. Helping the organization to improve the quality, reduce errors and lead time.\n",
       "If you believe that tools are not the only answer to equip organizations to be more effective, you have high interest in process optimization, you are an analytical person who can keep a view of the bigger picture and you like to work in a multinational environment, you should read on!. If on top of this, you are a natural business enabler, willing to learn, with a great capacity to actively listen and think holistically while still having an eye for detail, you may be the person we are looking for.\n",
       "\n",
       "Responsibilities\n",
       "\n",
       "Responsibilities\n",
       "\n",
       "As a Business Process Analyst you constantly contribute to the optimization of the processes and related systems within the business owner and agile development teams. When looking at efficiency you will be confronted to explore as well techniques on process automation, with that respect you will closely collaborate with our business process engineer that develops the RPA strategy. You will leverage their expertise and take decisions consciously based on quantitative and qualitative information.\n",
       "\n",
       "Your Main Responsibilities Will Be\n",
       "Modelling business process working together with the business process owners"
      ]
     },
     "execution_count": 190,
     "metadata": {},
     "output_type": "execute_result"
    }
   ],
   "source": [
    "tokens_DA_en[100:500]"
   ]
  },
  {
   "cell_type": "code",
   "execution_count": null,
   "metadata": {},
   "outputs": [],
   "source": [
    "SP_en"
   ]
  },
  {
   "cell_type": "code",
   "execution_count": null,
   "metadata": {},
   "outputs": [],
   "source": [
    "filtered_tokens_DA_en = spacy_tokenizer(corpus_DA_en, 'en')"
   ]
  },
  {
   "cell_type": "code",
   "execution_count": null,
   "metadata": {},
   "outputs": [],
   "source": [
    "filtered_tokens_DA_en[100:500]"
   ]
  },
  {
   "cell_type": "markdown",
   "metadata": {},
   "source": [
    "#### spanish:"
   ]
  },
  {
   "cell_type": "code",
   "execution_count": 193,
   "metadata": {},
   "outputs": [],
   "source": [
    "filtered_tokens_DA_es = spacy_tokenizer(corpus_DA_es, 'es')"
   ]
  },
  {
   "cell_type": "code",
   "execution_count": null,
   "metadata": {},
   "outputs": [],
   "source": []
  },
  {
   "cell_type": "markdown",
   "metadata": {},
   "source": [
    "### Data scientist >"
   ]
  },
  {
   "cell_type": "code",
   "execution_count": 72,
   "metadata": {},
   "outputs": [
    {
     "data": {
      "text/plain": [
       "(392, 27)"
      ]
     },
     "execution_count": 72,
     "metadata": {},
     "output_type": "execute_result"
    }
   ],
   "source": [
    "df_jobs[df_jobs['JOB TITLE'] == 'data scientist'].shape"
   ]
  },
  {
   "cell_type": "code",
   "execution_count": 69,
   "metadata": {},
   "outputs": [],
   "source": [
    "corpus_DS = df_jobs['JOB TITLE'][df_jobs['JOB TITLE'] == 'data scientist'].str.cat(sep=\" || \")"
   ]
  },
  {
   "cell_type": "code",
   "execution_count": 70,
   "metadata": {},
   "outputs": [
    {
     "data": {
      "text/plain": [
       "7052"
      ]
     },
     "execution_count": 70,
     "metadata": {},
     "output_type": "execute_result"
    }
   ],
   "source": [
    "len(corpus_DS)"
   ]
  },
  {
   "cell_type": "code",
   "execution_count": 194,
   "metadata": {},
   "outputs": [
    {
     "ename": "SyntaxError",
     "evalue": "invalid syntax (<ipython-input-194-cdb0facc3ef4>, line 1)",
     "output_type": "error",
     "traceback": [
      "\u001b[0;36m  File \u001b[0;32m\"<ipython-input-194-cdb0facc3ef4>\"\u001b[0;36m, line \u001b[0;32m1\u001b[0m\n\u001b[0;31m    df_{top} = 1\u001b[0m\n\u001b[0m       ^\u001b[0m\n\u001b[0;31mSyntaxError\u001b[0m\u001b[0;31m:\u001b[0m invalid syntax\n"
     ]
    }
   ],
   "source": []
  },
  {
   "cell_type": "code",
   "execution_count": null,
   "metadata": {},
   "outputs": [],
   "source": []
  }
 ],
 "metadata": {
  "kernelspec": {
   "display_name": "Python [conda env:final_project]",
   "language": "python",
   "name": "conda-env-final_project-py"
  },
  "language_info": {
   "codemirror_mode": {
    "name": "ipython",
    "version": 3
   },
   "file_extension": ".py",
   "mimetype": "text/x-python",
   "name": "python",
   "nbconvert_exporter": "python",
   "pygments_lexer": "ipython3",
   "version": "3.7.6"
  }
 },
 "nbformat": 4,
 "nbformat_minor": 4
}
