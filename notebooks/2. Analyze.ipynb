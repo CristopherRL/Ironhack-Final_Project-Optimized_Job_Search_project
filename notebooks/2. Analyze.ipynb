{
 "cells": [
  {
   "cell_type": "markdown",
   "metadata": {},
   "source": [
    "# Step 2: ANALYZE"
   ]
  },
  {
   "cell_type": "code",
   "execution_count": 46,
   "metadata": {},
   "outputs": [],
   "source": [
    "import pandas as pd\n",
    "from langdetect import detect, DetectorFactory\n",
    "DetectorFactory.seed = 0\n",
    "import re"
   ]
  },
  {
   "cell_type": "markdown",
   "metadata": {},
   "source": [
    "## Getting csv"
   ]
  },
  {
   "cell_type": "markdown",
   "metadata": {},
   "source": [
    "df_jobs.to_csv(f'..\\\\data\\\\raw\\\\df_{job_title_df}_{location}_{now_file}.csv',\n",
    "              sep = ';',\n",
    "              encoding= 'ANSI',\n",
    "              index=False,\n",
    "              )"
   ]
  },
  {
   "cell_type": "code",
   "execution_count": 51,
   "metadata": {},
   "outputs": [],
   "source": [
    "df_jobs = pd.read_csv(f'..\\\\data\\\\raw\\\\df_jobs_Madrid_2020-04-16-20.47.csv',\n",
    "              sep = ';',\n",
    "              encoding= 'utf8',\n",
    "              )"
   ]
  },
  {
   "cell_type": "code",
   "execution_count": 59,
   "metadata": {},
   "outputs": [
    {
     "data": {
      "text/html": [
       "<div>\n",
       "<style scoped>\n",
       "    .dataframe tbody tr th:only-of-type {\n",
       "        vertical-align: middle;\n",
       "    }\n",
       "\n",
       "    .dataframe tbody tr th {\n",
       "        vertical-align: top;\n",
       "    }\n",
       "\n",
       "    .dataframe thead th {\n",
       "        text-align: right;\n",
       "    }\n",
       "</style>\n",
       "<table border=\"1\" class=\"dataframe\">\n",
       "  <thead>\n",
       "    <tr style=\"text-align: right;\">\n",
       "      <th></th>\n",
       "      <th>JOB TITLE</th>\n",
       "      <th>LOCATION</th>\n",
       "      <th>SEARCH DATETIME</th>\n",
       "      <th>Current Job Id</th>\n",
       "      <th>Job htmlJob name</th>\n",
       "      <th>Company name</th>\n",
       "      <th>Company location</th>\n",
       "      <th>Posted date</th>\n",
       "      <th>Estimated post date</th>\n",
       "      <th>Easy apply</th>\n",
       "      <th>Skills match</th>\n",
       "      <th>Seniority Level</th>\n",
       "      <th>Industry</th>\n",
       "      <th>Employment Type</th>\n",
       "      <th>Job Functions</th>\n",
       "      <th>Job info</th>\n",
       "      <th>Job html</th>\n",
       "      <th>Job name</th>\n",
       "      <th>Info Language</th>\n",
       "      <th>Name Language</th>\n",
       "    </tr>\n",
       "  </thead>\n",
       "  <tbody>\n",
       "    <tr>\n",
       "      <th>0</th>\n",
       "      <td>data analyst</td>\n",
       "      <td>Madrid</td>\n",
       "      <td>2020-04-16-20:47</td>\n",
       "      <td>1744889236</td>\n",
       "      <td>NaN</td>\n",
       "      <td>YUKON IT SPAIN &amp; EUROPE</td>\n",
       "      <td>Madrid y alrededores</td>\n",
       "      <td>1 month</td>\n",
       "      <td>2020-03-19-20:47</td>\n",
       "      <td>True</td>\n",
       "      <td>NaN</td>\n",
       "      <td>Associate</td>\n",
       "      <td>Information Technology &amp; Services Telecommunic...</td>\n",
       "      <td>Full-time</td>\n",
       "      <td>Information Technology Engineering</td>\n",
       "      <td>Posted Date\\nPosted 1 month ago\\nNumber of vie...</td>\n",
       "      <td>https://www.linkedin.com/jobs/view/1744889236/</td>\n",
       "      <td>Analista de datos</td>\n",
       "      <td>es</td>\n",
       "      <td>pt</td>\n",
       "    </tr>\n",
       "    <tr>\n",
       "      <th>1</th>\n",
       "      <td>data analyst</td>\n",
       "      <td>Madrid</td>\n",
       "      <td>2020-04-16-20:47</td>\n",
       "      <td>1822454033</td>\n",
       "      <td>NaN</td>\n",
       "      <td>SoYou_Bankia</td>\n",
       "      <td>Madrid y alrededores, España</td>\n",
       "      <td>1 day</td>\n",
       "      <td>2020-04-15-20:47</td>\n",
       "      <td>True</td>\n",
       "      <td>NaN</td>\n",
       "      <td>Associate</td>\n",
       "      <td>Financial Services</td>\n",
       "      <td>Full-time</td>\n",
       "      <td>Analyst Information Technology Product Management</td>\n",
       "      <td>Posted Date\\nPosted 1 day ago\\nNumber of views...</td>\n",
       "      <td>https://www.linkedin.com/jobs/view/1822454033/</td>\n",
       "      <td>Backoffice Product Owner</td>\n",
       "      <td>en</td>\n",
       "      <td>en</td>\n",
       "    </tr>\n",
       "    <tr>\n",
       "      <th>2</th>\n",
       "      <td>data analyst</td>\n",
       "      <td>Madrid</td>\n",
       "      <td>2020-04-16-20:47</td>\n",
       "      <td>1766737805</td>\n",
       "      <td>NaN</td>\n",
       "      <td>Interbrand</td>\n",
       "      <td>Madrid, ES</td>\n",
       "      <td>1 week</td>\n",
       "      <td>2020-04-09-20:47</td>\n",
       "      <td>False</td>\n",
       "      <td>NaN</td>\n",
       "      <td>NaN</td>\n",
       "      <td>Graphic Design Management Consulting Marketing...</td>\n",
       "      <td>Full-time</td>\n",
       "      <td>Marketing Sales</td>\n",
       "      <td>Posted Date\\nPosted 1 week ago\\nNumber of view...</td>\n",
       "      <td>https://www.linkedin.com/jobs/view/1766737805/</td>\n",
       "      <td>Analyst Intern- Group Growth Department</td>\n",
       "      <td>en</td>\n",
       "      <td>en</td>\n",
       "    </tr>\n",
       "    <tr>\n",
       "      <th>3</th>\n",
       "      <td>data analyst</td>\n",
       "      <td>Madrid</td>\n",
       "      <td>2020-04-16-20:47</td>\n",
       "      <td>1616514766</td>\n",
       "      <td>NaN</td>\n",
       "      <td>Enghouse Interactive</td>\n",
       "      <td>Madrid, ES</td>\n",
       "      <td>5 months</td>\n",
       "      <td>2019-11-28-20:47</td>\n",
       "      <td>False</td>\n",
       "      <td>NaN</td>\n",
       "      <td>Associate</td>\n",
       "      <td>Information Technology &amp; Services Telecommunic...</td>\n",
       "      <td>Full-time</td>\n",
       "      <td>Sales Marketing</td>\n",
       "      <td>Posted Date\\nPosted 5 months ago\\nNumber of vi...</td>\n",
       "      <td>https://www.linkedin.com/jobs/view/1616514766/</td>\n",
       "      <td>Business Data &amp; Operations Analyst</td>\n",
       "      <td>es</td>\n",
       "      <td>en</td>\n",
       "    </tr>\n",
       "    <tr>\n",
       "      <th>4</th>\n",
       "      <td>data analyst</td>\n",
       "      <td>Madrid</td>\n",
       "      <td>2020-04-16-20:47</td>\n",
       "      <td>1812956345</td>\n",
       "      <td>NaN</td>\n",
       "      <td>Grupo CMC</td>\n",
       "      <td>Madrid, ES</td>\n",
       "      <td>2 weeks</td>\n",
       "      <td>2020-04-02-20:47</td>\n",
       "      <td>False</td>\n",
       "      <td>NaN</td>\n",
       "      <td>Entry level</td>\n",
       "      <td>Information Technology &amp; Services Human Resour...</td>\n",
       "      <td>Full-time</td>\n",
       "      <td>Information Technology</td>\n",
       "      <td>Posted Date\\nPosted 2 weeks ago\\nNumber of vie...</td>\n",
       "      <td>https://www.linkedin.com/jobs/view/1812956345/</td>\n",
       "      <td>Analista De Datos (Python), Madrid</td>\n",
       "      <td>es</td>\n",
       "      <td>es</td>\n",
       "    </tr>\n",
       "  </tbody>\n",
       "</table>\n",
       "</div>"
      ],
      "text/plain": [
       "      JOB TITLE LOCATION   SEARCH DATETIME  Current Job Id  Job htmlJob name  \\\n",
       "0  data analyst   Madrid  2020-04-16-20:47      1744889236               NaN   \n",
       "1  data analyst   Madrid  2020-04-16-20:47      1822454033               NaN   \n",
       "2  data analyst   Madrid  2020-04-16-20:47      1766737805               NaN   \n",
       "3  data analyst   Madrid  2020-04-16-20:47      1616514766               NaN   \n",
       "4  data analyst   Madrid  2020-04-16-20:47      1812956345               NaN   \n",
       "\n",
       "              Company name              Company location Posted date  \\\n",
       "0  YUKON IT SPAIN & EUROPE          Madrid y alrededores     1 month   \n",
       "1             SoYou_Bankia  Madrid y alrededores, España       1 day   \n",
       "2               Interbrand                    Madrid, ES      1 week   \n",
       "3     Enghouse Interactive                    Madrid, ES    5 months   \n",
       "4                Grupo CMC                    Madrid, ES     2 weeks   \n",
       "\n",
       "  Estimated post date  Easy apply  Skills match Seniority Level  \\\n",
       "0    2020-03-19-20:47        True           NaN       Associate   \n",
       "1    2020-04-15-20:47        True           NaN       Associate   \n",
       "2    2020-04-09-20:47       False           NaN             NaN   \n",
       "3    2019-11-28-20:47       False           NaN       Associate   \n",
       "4    2020-04-02-20:47       False           NaN     Entry level   \n",
       "\n",
       "                                            Industry Employment Type  \\\n",
       "0  Information Technology & Services Telecommunic...       Full-time   \n",
       "1                                 Financial Services       Full-time   \n",
       "2  Graphic Design Management Consulting Marketing...       Full-time   \n",
       "3  Information Technology & Services Telecommunic...       Full-time   \n",
       "4  Information Technology & Services Human Resour...       Full-time   \n",
       "\n",
       "                                       Job Functions  \\\n",
       "0                 Information Technology Engineering   \n",
       "1  Analyst Information Technology Product Management   \n",
       "2                                    Marketing Sales   \n",
       "3                                    Sales Marketing   \n",
       "4                             Information Technology   \n",
       "\n",
       "                                            Job info  \\\n",
       "0  Posted Date\\nPosted 1 month ago\\nNumber of vie...   \n",
       "1  Posted Date\\nPosted 1 day ago\\nNumber of views...   \n",
       "2  Posted Date\\nPosted 1 week ago\\nNumber of view...   \n",
       "3  Posted Date\\nPosted 5 months ago\\nNumber of vi...   \n",
       "4  Posted Date\\nPosted 2 weeks ago\\nNumber of vie...   \n",
       "\n",
       "                                         Job html  \\\n",
       "0  https://www.linkedin.com/jobs/view/1744889236/   \n",
       "1  https://www.linkedin.com/jobs/view/1822454033/   \n",
       "2  https://www.linkedin.com/jobs/view/1766737805/   \n",
       "3  https://www.linkedin.com/jobs/view/1616514766/   \n",
       "4  https://www.linkedin.com/jobs/view/1812956345/   \n",
       "\n",
       "                                  Job name Info Language Name Language  \n",
       "0                        Analista de datos            es            pt  \n",
       "1                 Backoffice Product Owner            en            en  \n",
       "2  Analyst Intern- Group Growth Department            en            en  \n",
       "3       Business Data & Operations Analyst            es            en  \n",
       "4       Analista De Datos (Python), Madrid            es            es  "
      ]
     },
     "execution_count": 59,
     "metadata": {},
     "output_type": "execute_result"
    }
   ],
   "source": [
    "df_jobs.head(5)"
   ]
  },
  {
   "cell_type": "code",
   "execution_count": 53,
   "metadata": {},
   "outputs": [
    {
     "data": {
      "text/plain": [
       "0                                    Analista de datos\n",
       "1                             Backoffice Product Owner\n",
       "2              Analyst Intern- Group Growth Department\n",
       "3                   Business Data & Operations Analyst\n",
       "4                   Analista De Datos (Python), Madrid\n",
       "5    Data Analyst -Scientist - Uber Eats (Sector es...\n",
       "6                                       Data Analytics\n",
       "7                                  Python Data Analyst\n",
       "8                        Data Analytics Manager Madrid\n",
       "9                                    Analista de Datos\n",
       "Name: Job name, dtype: object"
      ]
     },
     "execution_count": 53,
     "metadata": {},
     "output_type": "execute_result"
    }
   ],
   "source": [
    "df_jobs['Job name'].head(10)"
   ]
  },
  {
   "cell_type": "code",
   "execution_count": 54,
   "metadata": {},
   "outputs": [
    {
     "data": {
      "text/plain": [
       "'Posted Date\\nPosted 1 month ago\\nNumber of views\\n1,219 views\\nShare\\nShow more options\\nUnsave\\nUnsave Analista de datos at YUKON IT SPAIN & EUROPE\\nEasy Apply\\nSee how you compare to 228 applicants. Reactivate Premium\\nJob\\n6/10 skills match\\n228 applicants\\nCompany\\n501-1,000 employees\\nMadrid, Madrid\\nConnections\\nYou have 0 connections at this company.\\nAdd >\\nPosted by\\nPilar Tauroni Martínez 2nd\\nDirección en Multinacional Americana IT\\nSend InMail\\nDesde YUKON IT buscamos incorporar como parte del equipo de minería de datos, varios perfiles para realizar tareas de acceso y tratamiento de datos.\\n\\n- Desde el inicio, contarás con un contrato indefinido.\\n- Proyecto estable para el Sector Público.\\n- Ubicación: Madrid, Pio XII.\\n- Flexibilidad horaria, con jornada intensiva los viernes y en verano.\\n\\n¿Que buscamos?\\n\\nFormación: Titulado superior en estadística, Matemáticas, informática o similar.\\n\\nConocimientos necesarios:\\n- Análisis estadístico, acceso y tratamiento de datos.\\n- SQL y JavaScript.\\n- Buscamos profesional con interés por la analítica de datos que quiera avanzar su carrera profesional en el tratamiento y estudio de datos.\\n\\nValoramos conocimiento en:\\n- Excel.\\n- Herramientas de análisis de datos, BI o ETL...\\n\\n¡¡Si te puede interesar no dudes en unirte a nuestro equipo!!\\nSeniority Level\\nAssociate\\nIndustry\\nInformation Technology & Services Telecommunications Internet\\nEmployment Type\\nFull-time\\nJob Functions\\nInformation Technology Engineering\\nHow you match\\nCriteria provided by job poster\\nSkills\\nMatch\\nStatistics\\nMatch\\nSQL\\nMatch\\nMicrosoft Excel\\nMatch\\nData Analysis\\nMatch\\nData Mining\\nMatch\\nAnalytics\\nNo match\\nPublic Sector\\nNo match\\nAcess\\nNo match\\nMathematica\\nNo match\\nJavaScript'"
      ]
     },
     "execution_count": 54,
     "metadata": {},
     "output_type": "execute_result"
    }
   ],
   "source": [
    "s = df_jobs.loc[0,'Job info']\n",
    "s"
   ]
  },
  {
   "cell_type": "code",
   "execution_count": 55,
   "metadata": {},
   "outputs": [
    {
     "data": {
      "text/plain": [
       "'es'"
      ]
     },
     "execution_count": 55,
     "metadata": {},
     "output_type": "execute_result"
    }
   ],
   "source": [
    "detect(s)"
   ]
  },
  {
   "cell_type": "code",
   "execution_count": 58,
   "metadata": {},
   "outputs": [],
   "source": [
    "df_jobs['Name Language'] = df_jobs['Job name'].apply(lambda x: detect(x))"
   ]
  },
  {
   "cell_type": "code",
   "execution_count": 60,
   "metadata": {},
   "outputs": [
    {
     "data": {
      "text/plain": [
       "array(['pt', 'en', 'es', 'tl', 'it', 'de', 'so', 'id', 'ca', 'nl', 'no',\n",
       "       'sv', 'hr', 'ro', 'af'], dtype=object)"
      ]
     },
     "execution_count": 60,
     "metadata": {},
     "output_type": "execute_result"
    }
   ],
   "source": [
    "df_jobs['Name Language'].unique()"
   ]
  },
  {
   "cell_type": "code",
   "execution_count": 65,
   "metadata": {},
   "outputs": [
    {
     "data": {
      "text/plain": [
       "array(['Big Data Developer'], dtype=object)"
      ]
     },
     "execution_count": 65,
     "metadata": {},
     "output_type": "execute_result"
    }
   ],
   "source": [
    "df_jobs['Job name'][df_jobs['Name Language']=='nl'].unique()"
   ]
  },
  {
   "cell_type": "code",
   "execution_count": 56,
   "metadata": {},
   "outputs": [],
   "source": [
    "df_jobs['Info Language'] = df_jobs['Job info'].apply(lambda x: detect(x))"
   ]
  },
  {
   "cell_type": "code",
   "execution_count": 57,
   "metadata": {},
   "outputs": [
    {
     "data": {
      "text/plain": [
       "array(['es', 'en'], dtype=object)"
      ]
     },
     "execution_count": 57,
     "metadata": {},
     "output_type": "execute_result"
    }
   ],
   "source": [
    "df_jobs['Info Language'].unique()"
   ]
  },
  {
   "cell_type": "code",
   "execution_count": null,
   "metadata": {},
   "outputs": [],
   "source": []
  }
 ],
 "metadata": {
  "kernelspec": {
   "display_name": "Python [conda env:final_project]",
   "language": "python",
   "name": "conda-env-final_project-py"
  },
  "language_info": {
   "codemirror_mode": {
    "name": "ipython",
    "version": 3
   },
   "file_extension": ".py",
   "mimetype": "text/x-python",
   "name": "python",
   "nbconvert_exporter": "python",
   "pygments_lexer": "ipython3",
   "version": "3.7.7"
  }
 },
 "nbformat": 4,
 "nbformat_minor": 4
}
