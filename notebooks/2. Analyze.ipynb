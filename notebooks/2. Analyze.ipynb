{
 "cells": [
  {
   "cell_type": "markdown",
   "metadata": {},
   "source": [
    "# Step 2: ANALYZE"
   ]
  },
  {
   "cell_type": "code",
   "execution_count": 1,
   "metadata": {},
   "outputs": [],
   "source": [
    "import pandas as pd\n",
    "from langdetect import detect, DetectorFactory\n",
    "DetectorFactory.seed = 0\n",
    "import re\n",
    "import pandas as pd\n",
    "import numpy as np\n",
    "import platform\n",
    "import matplotlib.pyplot as plt\n",
    "import json\n"
   ]
  },
  {
   "cell_type": "code",
   "execution_count": 2,
   "metadata": {},
   "outputs": [],
   "source": [
    "import spacy\n",
    "from spacy.lang.en.stop_words import STOP_WORDS as SW_en\n",
    "from spacy.lang.es.stop_words import STOP_WORDS as SW_es"
   ]
  },
  {
   "cell_type": "code",
   "execution_count": 3,
   "metadata": {},
   "outputs": [],
   "source": [
    "from collections import Counter\n",
    "from wordcloud import WordCloud, STOPWORDS, ImageColorGenerator\n",
    "from PIL import Image"
   ]
  },
  {
   "cell_type": "code",
   "execution_count": 4,
   "metadata": {},
   "outputs": [],
   "source": [
    "from sklearn.feature_extraction.text import CountVectorizer,TfidfVectorizer"
   ]
  },
  {
   "cell_type": "code",
   "execution_count": 5,
   "metadata": {},
   "outputs": [],
   "source": [
    "#import nltk \n",
    "#from nltk.corpus import stopwords \n",
    "#set(stopwords.words('english'))\n"
   ]
  },
  {
   "cell_type": "code",
   "execution_count": 6,
   "metadata": {},
   "outputs": [],
   "source": [
    "#!python -m spacy download en_core_web_md\n",
    "#!python -m spacy download en_core_web_sm\n",
    "#!python -m spacy download es_core_news_md"
   ]
  },
  {
   "cell_type": "code",
   "execution_count": 7,
   "metadata": {},
   "outputs": [],
   "source": [
    "##################################333 PARAMETERS #####################\n",
    "\n",
    "key_words_DA = ['data analyst', 'analisis de datos',\n",
    "                      'data analytics', 'analitica de datos',\n",
    "                      'business analyst', 'analisis de negocios',\n",
    "                      'sql',\n",
    "                      'python',\n",
    "                      'business intelligence', 'inteligencia de negocios', ' bi ',\n",
    "                      'excel', 'microsoft office', 'ms office',\n",
    "                      'dashboard', 'kpi',\n",
    "                      'reporting', 'informes',\n",
    "                      'tableau', 'powerbi', 'power bi', 'microsoft bi', 'qlik', 'spotfire',\n",
    "                      ]\n",
    "\n",
    "key_words_DS = ['data analyst', 'analisis de datos',\n",
    "                      'data analytics', 'analitica de datos',\n",
    "                      'business analyst', 'analisis de negocios',\n",
    "                      'sql',\n",
    "                      'python',\n",
    "                      'business intelligence', 'inteligencia de negocios', ' bi ',\n",
    "                      'excel', 'microsoft office', 'ms office',\n",
    "                      'dashboard', 'kpi',\n",
    "                      'reporting', 'informes',\n",
    "                      'tableau', 'powerbi', 'power bi', 'microsoft bi', 'qlik', 'spotfire',\n",
    "                      ]\n",
    "\n",
    "key_words_DE = ['data engineer', 'ingeniero de datos',\n",
    "                       'sql', 'nosql', 'no sql', 'bases de datos no relacionales',\n",
    "                       'python', ' r ', 'scala', 'java ', 'spark', 'hadoop', 'haddop' 'hive', 'impala', 'kafka',\n",
    "                       'data wrangling', 'limpieza de datos',\n",
    "                       'etl', 'extract, transform and load', 'map reduce', 'mapreduce',\n",
    "                       'data acquisition', 'adquisicion de datos',\n",
    "                       'big data', 'bigdata', 'bigquery',\n",
    "                       'data warehouse',\n",
    "                       ' aws ', 'azure',\n",
    "                       'software engineering'\n",
    "                       ]\n",
    "\n",
    "dic_key_words = \\\n",
    "    {'data analyst'    : key_words_DA,\n",
    "     'data scientist'  : key_words_DS,\n",
    "     'data engineer'   : key_words_DE,\n",
    "     'analista datos'  : key_words_DA,\n",
    "     'cientifico datos': key_words_DS,\n",
    "     'ingeniero datos' : key_words_DE\n",
    "     }"
   ]
  },
  {
   "cell_type": "code",
   "execution_count": 72,
   "metadata": {},
   "outputs": [],
   "source": [
    "def job_key_generator(job):\n",
    "    job_key_s = \"\"\n",
    "    job_name_splitted = job.split(\" \")\n",
    "    for string in job_name_splitted:\n",
    "        job_key_s += string[0].upper()\n",
    "        #job_key_s = job_key_s\n",
    "    \n",
    "    return job_key_s"
   ]
  },
  {
   "cell_type": "markdown",
   "metadata": {},
   "source": [
    "## Getting csv"
   ]
  },
  {
   "cell_type": "markdown",
   "metadata": {},
   "source": [
    "#### > PROFILE:"
   ]
  },
  {
   "cell_type": "code",
   "execution_count": 8,
   "metadata": {},
   "outputs": [
    {
     "data": {
      "text/plain": [
       "'Linux'"
      ]
     },
     "execution_count": 8,
     "metadata": {},
     "output_type": "execute_result"
    }
   ],
   "source": [
    "platform.system()"
   ]
  },
  {
   "cell_type": "code",
   "execution_count": 9,
   "metadata": {},
   "outputs": [
    {
     "data": {
      "text/html": [
       "<div>\n",
       "<style scoped>\n",
       "    .dataframe tbody tr th:only-of-type {\n",
       "        vertical-align: middle;\n",
       "    }\n",
       "\n",
       "    .dataframe tbody tr th {\n",
       "        vertical-align: top;\n",
       "    }\n",
       "\n",
       "    .dataframe thead th {\n",
       "        text-align: right;\n",
       "    }\n",
       "</style>\n",
       "<table border=\"1\" class=\"dataframe\">\n",
       "  <thead>\n",
       "    <tr style=\"text-align: right;\">\n",
       "      <th></th>\n",
       "      <th>info</th>\n",
       "    </tr>\n",
       "  </thead>\n",
       "  <tbody>\n",
       "    <tr>\n",
       "      <th>profile</th>\n",
       "      <td>cristopherrojaslepe</td>\n",
       "    </tr>\n",
       "    <tr>\n",
       "      <th>headline</th>\n",
       "      <td>data scientist &amp; analyst | python | pandas | n...</td>\n",
       "    </tr>\n",
       "    <tr>\n",
       "      <th>open new jobs</th>\n",
       "      <td>True</td>\n",
       "    </tr>\n",
       "    <tr>\n",
       "      <th>about</th>\n",
       "      <td>data scientist &amp; analyst and industrial engine...</td>\n",
       "    </tr>\n",
       "    <tr>\n",
       "      <th>experiences</th>\n",
       "      <td>['collection coordination analyst', 'real esta...</td>\n",
       "    </tr>\n",
       "    <tr>\n",
       "      <th>years of experiences</th>\n",
       "      <td>['1 yr 2 mos', '1 yr', '2 yrs 1 mo', '8 mos', ...</td>\n",
       "    </tr>\n",
       "    <tr>\n",
       "      <th>total years</th>\n",
       "      <td>7</td>\n",
       "    </tr>\n",
       "    <tr>\n",
       "      <th>degrees</th>\n",
       "      <td>['master', 'engineering - be']</td>\n",
       "    </tr>\n",
       "    <tr>\n",
       "      <th>fields</th>\n",
       "      <td>['data analytics', 'industrial engineering']</td>\n",
       "    </tr>\n",
       "    <tr>\n",
       "      <th>skills</th>\n",
       "      <td>['analytical skills', 'bash', 'business analys...</td>\n",
       "    </tr>\n",
       "    <tr>\n",
       "      <th>languages</th>\n",
       "      <td>['english', 'spanish']</td>\n",
       "    </tr>\n",
       "    <tr>\n",
       "      <th>total skills</th>\n",
       "      <td>['analytical skills', 'bash', 'business analys...</td>\n",
       "    </tr>\n",
       "    <tr>\n",
       "      <th>profile raw</th>\n",
       "      <td>Add profile section More… Cristopher Rojas Lep...</td>\n",
       "    </tr>\n",
       "  </tbody>\n",
       "</table>\n",
       "</div>"
      ],
      "text/plain": [
       "                                                                   info\n",
       "profile                                             cristopherrojaslepe\n",
       "headline              data scientist & analyst | python | pandas | n...\n",
       "open new jobs                                                      True\n",
       "about                 data scientist & analyst and industrial engine...\n",
       "experiences           ['collection coordination analyst', 'real esta...\n",
       "years of experiences  ['1 yr 2 mos', '1 yr', '2 yrs 1 mo', '8 mos', ...\n",
       "total years                                                           7\n",
       "degrees                                  ['master', 'engineering - be']\n",
       "fields                     ['data analytics', 'industrial engineering']\n",
       "skills                ['analytical skills', 'bash', 'business analys...\n",
       "languages                                        ['english', 'spanish']\n",
       "total skills          ['analytical skills', 'bash', 'business analys...\n",
       "profile raw           Add profile section More… Cristopher Rojas Lep..."
      ]
     },
     "execution_count": 9,
     "metadata": {},
     "output_type": "execute_result"
    }
   ],
   "source": [
    "if platform.system() == 'Linux':\n",
    "    df_profile = pd.read_csv(f'../data/raw/df_profile/df_profile_cristopherrojaslepe_2020-04-23 17.29.csv',\n",
    "                             sep = ';',\n",
    "                             encoding= 'utf8',\n",
    "                             index_col = 0\n",
    "                              )\n",
    "    \n",
    "elif platform.system() == 'Windows':\n",
    "    df_profile = pd.read_csv(f'..\\\\data\\\\raw\\\\df_profile.csv',\n",
    "                             sep = ';',\n",
    "                             encoding= 'utf8'\n",
    "                            )\n",
    "    \n",
    "df_profile"
   ]
  },
  {
   "cell_type": "code",
   "execution_count": null,
   "metadata": {},
   "outputs": [],
   "source": []
  },
  {
   "cell_type": "code",
   "execution_count": 10,
   "metadata": {},
   "outputs": [],
   "source": [
    "## ONLY FOR JUPYTER !!!!!!!!!!\n",
    "# df_profile.rename(columns={'Unnamed: 0':'type'},inplace=True)\n",
    "# df_profile.set_index('type', inplace=True)"
   ]
  },
  {
   "cell_type": "code",
   "execution_count": null,
   "metadata": {},
   "outputs": [],
   "source": []
  },
  {
   "cell_type": "markdown",
   "metadata": {},
   "source": [
    "#### > JOBS:"
   ]
  },
  {
   "cell_type": "code",
   "execution_count": 12,
   "metadata": {},
   "outputs": [],
   "source": [
    "#f'../data/raw/df_jobs_Madrid_2020-04-18 23.50.csv',\n",
    "#f'..\\\\data\\\\raw\\\\df_jobs_Madrid_2020-04-18 23.50.csv'\n",
    "if platform.system() == 'Linux':\n",
    "    df_jobs_raw = pd.read_csv(f'../data/raw/df_jobs/df_jobs_Madrid_en_2020-04-20 01.38_465.csv',\n",
    "                              sep = ';',\n",
    "                              encoding= 'utf8',\n",
    "                  )\n",
    "elif platform.system() == 'Windows':\n",
    "    df_jobs_raw = pd.read_csv(f'..\\\\data\\\\raw\\\\df_jobs\\\\df_jobs_Madrid_2020-04-20 01.38.csv',\n",
    "                              sep = ';',\n",
    "                              encoding= 'utf8',\n",
    "                  )"
   ]
  },
  {
   "cell_type": "code",
   "execution_count": 13,
   "metadata": {},
   "outputs": [],
   "source": [
    "df_jobs = df_jobs_raw"
   ]
  },
  {
   "cell_type": "code",
   "execution_count": 14,
   "metadata": {},
   "outputs": [
    {
     "data": {
      "text/plain": [
       "(465, 18)"
      ]
     },
     "execution_count": 14,
     "metadata": {},
     "output_type": "execute_result"
    }
   ],
   "source": [
    "df_jobs.shape"
   ]
  },
  {
   "cell_type": "code",
   "execution_count": 15,
   "metadata": {},
   "outputs": [
    {
     "data": {
      "text/html": [
       "<div>\n",
       "<style scoped>\n",
       "    .dataframe tbody tr th:only-of-type {\n",
       "        vertical-align: middle;\n",
       "    }\n",
       "\n",
       "    .dataframe tbody tr th {\n",
       "        vertical-align: top;\n",
       "    }\n",
       "\n",
       "    .dataframe thead th {\n",
       "        text-align: right;\n",
       "    }\n",
       "</style>\n",
       "<table border=\"1\" class=\"dataframe\">\n",
       "  <thead>\n",
       "    <tr style=\"text-align: right;\">\n",
       "      <th></th>\n",
       "      <th>JOB TITLE</th>\n",
       "      <th>LOCATION</th>\n",
       "      <th>SEARCH DATETIME</th>\n",
       "      <th>Current Job Id</th>\n",
       "      <th>Job html</th>\n",
       "      <th>Job name</th>\n",
       "      <th>Company name</th>\n",
       "      <th>Company location</th>\n",
       "      <th>Posted date</th>\n",
       "      <th>Estimated post date</th>\n",
       "      <th>Easy apply</th>\n",
       "      <th>Skills match</th>\n",
       "      <th>Seniority Level</th>\n",
       "      <th>Industry</th>\n",
       "      <th>Employment Type</th>\n",
       "      <th>Job Functions</th>\n",
       "      <th>Job info</th>\n",
       "      <th>Job Description</th>\n",
       "    </tr>\n",
       "  </thead>\n",
       "  <tbody>\n",
       "    <tr>\n",
       "      <th>0</th>\n",
       "      <td>data analyst</td>\n",
       "      <td>Madrid</td>\n",
       "      <td>2020-04-20 01:38</td>\n",
       "      <td>1821611516</td>\n",
       "      <td>https://www.linkedin.com/jobs/view/1821611516/</td>\n",
       "      <td>Data Analyst Scala H/M</td>\n",
       "      <td>Experis IT</td>\n",
       "      <td>Madrid, Comunidad de Madrid, España</td>\n",
       "      <td>5 days</td>\n",
       "      <td>2020-04-15 01:38</td>\n",
       "      <td>True</td>\n",
       "      <td>{'yes': ['Data Analysis', 'Business Intelligen...</td>\n",
       "      <td>Mid-Senior level</td>\n",
       "      <td>Information Services Telecommunications Banking</td>\n",
       "      <td>Full-time</td>\n",
       "      <td>Information Technology Consulting Project Mana...</td>\n",
       "      <td>Posted Date\\nPosted 5 days ago\\nNumber of view...</td>\n",
       "      <td>Experis IT, somos una compañía líder en soluci...</td>\n",
       "    </tr>\n",
       "    <tr>\n",
       "      <th>1</th>\n",
       "      <td>data analyst</td>\n",
       "      <td>Madrid</td>\n",
       "      <td>2020-04-20 01:38</td>\n",
       "      <td>1811532919</td>\n",
       "      <td>https://www.linkedin.com/jobs/view/1811532919/</td>\n",
       "      <td>Finance Systems Business Analyst - GL/FA/AP/AR...</td>\n",
       "      <td>SystemsAccountants</td>\n",
       "      <td>Greater Madrid Metropolitan Area</td>\n",
       "      <td>1 week</td>\n",
       "      <td>2020-04-13 01:38</td>\n",
       "      <td>True</td>\n",
       "      <td>{'yes': ['Business', 'Spanish', 'Accounting', ...</td>\n",
       "      <td>Mid-Senior level</td>\n",
       "      <td>Consumer Goods Consumer Services Financial Ser...</td>\n",
       "      <td>Full-time</td>\n",
       "      <td>Information Technology Finance Project Management</td>\n",
       "      <td>Posted Date\\nPosted 1 week ago\\nNumber of view...</td>\n",
       "      <td>A large company based near Madrid is currentl...</td>\n",
       "    </tr>\n",
       "    <tr>\n",
       "      <th>2</th>\n",
       "      <td>data analyst</td>\n",
       "      <td>Madrid</td>\n",
       "      <td>2020-04-20 01:38</td>\n",
       "      <td>1800343808</td>\n",
       "      <td>https://www.linkedin.com/jobs/view/1800343808/</td>\n",
       "      <td>Senior Business Development Manager - Cloud Ec...</td>\n",
       "      <td>Amazon Web Services (AWS)</td>\n",
       "      <td>Madrid, ES</td>\n",
       "      <td>3 weeks</td>\n",
       "      <td>2020-03-30 01:38</td>\n",
       "      <td>False</td>\n",
       "      <td>{'yes': ['Statistics', 'SQL', 'Microsoft Excel...</td>\n",
       "      <td>Mid-Senior level</td>\n",
       "      <td>Computer Software Information Technology &amp; Ser...</td>\n",
       "      <td>Full-time</td>\n",
       "      <td>Business Development Information Technology</td>\n",
       "      <td>Posted Date\\nPosted 3 weeks ago\\nNumber of vie...</td>\n",
       "      <td>Description\\n\\nWould you like to be part of a ...</td>\n",
       "    </tr>\n",
       "  </tbody>\n",
       "</table>\n",
       "</div>"
      ],
      "text/plain": [
       "      JOB TITLE LOCATION   SEARCH DATETIME  Current Job Id  \\\n",
       "0  data analyst   Madrid  2020-04-20 01:38      1821611516   \n",
       "1  data analyst   Madrid  2020-04-20 01:38      1811532919   \n",
       "2  data analyst   Madrid  2020-04-20 01:38      1800343808   \n",
       "\n",
       "                                         Job html  \\\n",
       "0  https://www.linkedin.com/jobs/view/1821611516/   \n",
       "1  https://www.linkedin.com/jobs/view/1811532919/   \n",
       "2  https://www.linkedin.com/jobs/view/1800343808/   \n",
       "\n",
       "                                            Job name  \\\n",
       "0                             Data Analyst Scala H/M   \n",
       "1  Finance Systems Business Analyst - GL/FA/AP/AR...   \n",
       "2  Senior Business Development Manager - Cloud Ec...   \n",
       "\n",
       "                Company name                     Company location Posted date  \\\n",
       "0                 Experis IT  Madrid, Comunidad de Madrid, España      5 days   \n",
       "1         SystemsAccountants     Greater Madrid Metropolitan Area      1 week   \n",
       "2  Amazon Web Services (AWS)                           Madrid, ES     3 weeks   \n",
       "\n",
       "  Estimated post date  Easy apply  \\\n",
       "0    2020-04-15 01:38        True   \n",
       "1    2020-04-13 01:38        True   \n",
       "2    2020-03-30 01:38       False   \n",
       "\n",
       "                                        Skills match   Seniority Level  \\\n",
       "0  {'yes': ['Data Analysis', 'Business Intelligen...  Mid-Senior level   \n",
       "1  {'yes': ['Business', 'Spanish', 'Accounting', ...  Mid-Senior level   \n",
       "2  {'yes': ['Statistics', 'SQL', 'Microsoft Excel...  Mid-Senior level   \n",
       "\n",
       "                                            Industry Employment Type  \\\n",
       "0    Information Services Telecommunications Banking       Full-time   \n",
       "1  Consumer Goods Consumer Services Financial Ser...       Full-time   \n",
       "2  Computer Software Information Technology & Ser...       Full-time   \n",
       "\n",
       "                                       Job Functions  \\\n",
       "0  Information Technology Consulting Project Mana...   \n",
       "1  Information Technology Finance Project Management   \n",
       "2        Business Development Information Technology   \n",
       "\n",
       "                                            Job info  \\\n",
       "0  Posted Date\\nPosted 5 days ago\\nNumber of view...   \n",
       "1  Posted Date\\nPosted 1 week ago\\nNumber of view...   \n",
       "2  Posted Date\\nPosted 3 weeks ago\\nNumber of vie...   \n",
       "\n",
       "                                     Job Description  \n",
       "0  Experis IT, somos una compañía líder en soluci...  \n",
       "1   A large company based near Madrid is currentl...  \n",
       "2  Description\\n\\nWould you like to be part of a ...  "
      ]
     },
     "execution_count": 15,
     "metadata": {},
     "output_type": "execute_result"
    }
   ],
   "source": [
    "df_jobs.head(3)"
   ]
  },
  {
   "cell_type": "code",
   "execution_count": 16,
   "metadata": {},
   "outputs": [],
   "source": [
    "# ONLY IN CASE TO CORRECT WRONG DF\n",
    "#df_jobs.drop(columns='Job htmlJob name', inplace=True)\n",
    "\n",
    "#df_jobs = df_jobs[['JOB TITLE', 'LOCATION', 'SEARCH DATETIME', 'Current Job Id',\n",
    "#       'Job html', 'Job name', 'Company name', 'Company location',\n",
    "#       'Posted date', 'Estimated post date', 'Easy apply', 'Skills match',\n",
    "#       'Seniority Level', 'Industry', 'Employment Type', 'Job Functions',\n",
    "#       'Job info']]"
   ]
  },
  {
   "cell_type": "code",
   "execution_count": 17,
   "metadata": {},
   "outputs": [
    {
     "data": {
      "text/plain": [
       "(98, 18)"
      ]
     },
     "execution_count": 17,
     "metadata": {},
     "output_type": "execute_result"
    }
   ],
   "source": [
    "df_jobs[df_jobs['JOB TITLE']=='data analyst'].shape"
   ]
  },
  {
   "cell_type": "code",
   "execution_count": 18,
   "metadata": {},
   "outputs": [
    {
     "data": {
      "text/plain": [
       "(255, 18)"
      ]
     },
     "execution_count": 18,
     "metadata": {},
     "output_type": "execute_result"
    }
   ],
   "source": [
    "df_jobs[df_jobs['JOB TITLE']=='data scientist'].shape"
   ]
  },
  {
   "cell_type": "code",
   "execution_count": 19,
   "metadata": {},
   "outputs": [
    {
     "data": {
      "text/plain": [
       "(112, 18)"
      ]
     },
     "execution_count": 19,
     "metadata": {},
     "output_type": "execute_result"
    }
   ],
   "source": [
    "df_jobs[df_jobs['JOB TITLE']=='data engineer'].shape"
   ]
  },
  {
   "cell_type": "markdown",
   "metadata": {},
   "source": [
    "## Analizyng info"
   ]
  },
  {
   "cell_type": "code",
   "execution_count": 20,
   "metadata": {},
   "outputs": [
    {
     "data": {
      "text/plain": [
       "'Madrid'"
      ]
     },
     "execution_count": 20,
     "metadata": {},
     "output_type": "execute_result"
    }
   ],
   "source": [
    "location = df_jobs.loc[0,'LOCATION']\n",
    "location"
   ]
  },
  {
   "cell_type": "markdown",
   "metadata": {},
   "source": [
    "### > Cleaning jobs:"
   ]
  },
  {
   "cell_type": "code",
   "execution_count": 21,
   "metadata": {},
   "outputs": [
    {
     "data": {
      "text/plain": [
       "JOB TITLE              data analyst\n",
       "LOCATION                     Madrid\n",
       "SEARCH DATETIME    2020-04-20 01:38\n",
       "Current Job Id           1821611516\n",
       "Name: 0, dtype: object"
      ]
     },
     "execution_count": 21,
     "metadata": {},
     "output_type": "execute_result"
    }
   ],
   "source": [
    "df_jobs.loc[0,'JOB TITLE':'Current Job Id']"
   ]
  },
  {
   "cell_type": "markdown",
   "metadata": {},
   "source": [
    "##### * JOB TITLE_ID"
   ]
  },
  {
   "cell_type": "code",
   "execution_count": 22,
   "metadata": {},
   "outputs": [],
   "source": [
    "df_jobs['JOB TITLE_ID'] = df_jobs.apply(lambda x: x['JOB TITLE'] +\"_\"+ str(x['Current Job Id']), axis = 1 )"
   ]
  },
  {
   "cell_type": "code",
   "execution_count": 23,
   "metadata": {},
   "outputs": [
    {
     "data": {
      "text/plain": [
       "465"
      ]
     },
     "execution_count": 23,
     "metadata": {},
     "output_type": "execute_result"
    }
   ],
   "source": [
    "df_jobs.shape[0] "
   ]
  },
  {
   "cell_type": "code",
   "execution_count": 60,
   "metadata": {},
   "outputs": [
    {
     "data": {
      "text/plain": [
       "462"
      ]
     },
     "execution_count": 60,
     "metadata": {},
     "output_type": "execute_result"
    }
   ],
   "source": [
    "len(df_jobs['JOB TITLE_ID'].unique())"
   ]
  },
  {
   "cell_type": "code",
   "execution_count": 25,
   "metadata": {},
   "outputs": [
    {
     "data": {
      "text/html": [
       "<div>\n",
       "<style scoped>\n",
       "    .dataframe tbody tr th:only-of-type {\n",
       "        vertical-align: middle;\n",
       "    }\n",
       "\n",
       "    .dataframe tbody tr th {\n",
       "        vertical-align: top;\n",
       "    }\n",
       "\n",
       "    .dataframe thead th {\n",
       "        text-align: right;\n",
       "    }\n",
       "</style>\n",
       "<table border=\"1\" class=\"dataframe\">\n",
       "  <thead>\n",
       "    <tr style=\"text-align: right;\">\n",
       "      <th></th>\n",
       "      <th>LOCATION</th>\n",
       "    </tr>\n",
       "    <tr>\n",
       "      <th>JOB TITLE_ID</th>\n",
       "      <th></th>\n",
       "    </tr>\n",
       "  </thead>\n",
       "  <tbody>\n",
       "    <tr>\n",
       "      <th>data scientist_1796064556</th>\n",
       "      <td>2</td>\n",
       "    </tr>\n",
       "    <tr>\n",
       "      <th>data engineer_1807219706</th>\n",
       "      <td>2</td>\n",
       "    </tr>\n",
       "    <tr>\n",
       "      <th>data analyst_1800343808</th>\n",
       "      <td>2</td>\n",
       "    </tr>\n",
       "    <tr>\n",
       "      <th>data analyst_1298845523</th>\n",
       "      <td>1</td>\n",
       "    </tr>\n",
       "    <tr>\n",
       "      <th>data scientist_1808206378</th>\n",
       "      <td>1</td>\n",
       "    </tr>\n",
       "    <tr>\n",
       "      <th>...</th>\n",
       "      <td>...</td>\n",
       "    </tr>\n",
       "    <tr>\n",
       "      <th>data engineer_1809991992</th>\n",
       "      <td>1</td>\n",
       "    </tr>\n",
       "    <tr>\n",
       "      <th>data engineer_1809448415</th>\n",
       "      <td>1</td>\n",
       "    </tr>\n",
       "    <tr>\n",
       "      <th>data engineer_1808744900</th>\n",
       "      <td>1</td>\n",
       "    </tr>\n",
       "    <tr>\n",
       "      <th>data engineer_1808203945</th>\n",
       "      <td>1</td>\n",
       "    </tr>\n",
       "    <tr>\n",
       "      <th>data scientist_1831109667</th>\n",
       "      <td>1</td>\n",
       "    </tr>\n",
       "  </tbody>\n",
       "</table>\n",
       "<p>462 rows × 1 columns</p>\n",
       "</div>"
      ],
      "text/plain": [
       "                           LOCATION\n",
       "JOB TITLE_ID                       \n",
       "data scientist_1796064556         2\n",
       "data engineer_1807219706          2\n",
       "data analyst_1800343808           2\n",
       "data analyst_1298845523           1\n",
       "data scientist_1808206378         1\n",
       "...                             ...\n",
       "data engineer_1809991992          1\n",
       "data engineer_1809448415          1\n",
       "data engineer_1808744900          1\n",
       "data engineer_1808203945          1\n",
       "data scientist_1831109667         1\n",
       "\n",
       "[462 rows x 1 columns]"
      ]
     },
     "execution_count": 25,
     "metadata": {},
     "output_type": "execute_result"
    }
   ],
   "source": [
    "pd.pivot_table(df_jobs,\n",
    "               values=\"LOCATION\",\n",
    "               index=['JOB TITLE_ID'],\n",
    "               aggfunc=np.count_nonzero        \n",
    "              ).sort_values(by=['LOCATION'], ascending=False)"
   ]
  },
  {
   "cell_type": "code",
   "execution_count": 26,
   "metadata": {},
   "outputs": [
    {
     "data": {
      "text/html": [
       "<div>\n",
       "<style scoped>\n",
       "    .dataframe tbody tr th:only-of-type {\n",
       "        vertical-align: middle;\n",
       "    }\n",
       "\n",
       "    .dataframe tbody tr th {\n",
       "        vertical-align: top;\n",
       "    }\n",
       "\n",
       "    .dataframe thead th {\n",
       "        text-align: right;\n",
       "    }\n",
       "</style>\n",
       "<table border=\"1\" class=\"dataframe\">\n",
       "  <thead>\n",
       "    <tr style=\"text-align: right;\">\n",
       "      <th></th>\n",
       "      <th>JOB TITLE</th>\n",
       "      <th>LOCATION</th>\n",
       "      <th>SEARCH DATETIME</th>\n",
       "      <th>Current Job Id</th>\n",
       "      <th>Job html</th>\n",
       "      <th>Job name</th>\n",
       "      <th>Company name</th>\n",
       "      <th>Company location</th>\n",
       "      <th>Posted date</th>\n",
       "      <th>Estimated post date</th>\n",
       "      <th>Easy apply</th>\n",
       "      <th>Skills match</th>\n",
       "      <th>Seniority Level</th>\n",
       "      <th>Industry</th>\n",
       "      <th>Employment Type</th>\n",
       "      <th>Job Functions</th>\n",
       "      <th>Job info</th>\n",
       "      <th>Job Description</th>\n",
       "      <th>JOB TITLE_ID</th>\n",
       "    </tr>\n",
       "  </thead>\n",
       "  <tbody>\n",
       "  </tbody>\n",
       "</table>\n",
       "</div>"
      ],
      "text/plain": [
       "Empty DataFrame\n",
       "Columns: [JOB TITLE, LOCATION, SEARCH DATETIME, Current Job Id, Job html, Job name, Company name, Company location, Posted date, Estimated post date, Easy apply, Skills match, Seniority Level, Industry, Employment Type, Job Functions, Job info, Job Description, JOB TITLE_ID]\n",
       "Index: []"
      ]
     },
     "execution_count": 26,
     "metadata": {},
     "output_type": "execute_result"
    }
   ],
   "source": [
    "df_jobs[df_jobs['Current Job Id']==1774326710]"
   ]
  },
  {
   "cell_type": "code",
   "execution_count": 27,
   "metadata": {},
   "outputs": [
    {
     "data": {
      "text/plain": [
       "3"
      ]
     },
     "execution_count": 27,
     "metadata": {},
     "output_type": "execute_result"
    }
   ],
   "source": [
    "df_jobs.shape[0] - len(df_jobs['JOB TITLE_ID'].unique())"
   ]
  },
  {
   "cell_type": "code",
   "execution_count": 28,
   "metadata": {},
   "outputs": [],
   "source": [
    "df_jobs.drop_duplicates(subset='JOB TITLE_ID', keep='first', inplace = True)"
   ]
  },
  {
   "cell_type": "code",
   "execution_count": 29,
   "metadata": {},
   "outputs": [
    {
     "data": {
      "text/plain": [
       "(462, 19)"
      ]
     },
     "execution_count": 29,
     "metadata": {},
     "output_type": "execute_result"
    }
   ],
   "source": [
    "df_jobs.shape"
   ]
  },
  {
   "cell_type": "markdown",
   "metadata": {},
   "source": [
    "##### * Current Job Id"
   ]
  },
  {
   "cell_type": "code",
   "execution_count": 30,
   "metadata": {},
   "outputs": [
    {
     "data": {
      "text/plain": [
       "403"
      ]
     },
     "execution_count": 30,
     "metadata": {},
     "output_type": "execute_result"
    }
   ],
   "source": [
    "len(df_jobs['Current Job Id'].unique())"
   ]
  },
  {
   "cell_type": "code",
   "execution_count": 31,
   "metadata": {},
   "outputs": [
    {
     "data": {
      "text/html": [
       "<div>\n",
       "<style scoped>\n",
       "    .dataframe tbody tr th:only-of-type {\n",
       "        vertical-align: middle;\n",
       "    }\n",
       "\n",
       "    .dataframe tbody tr th {\n",
       "        vertical-align: top;\n",
       "    }\n",
       "\n",
       "    .dataframe thead th {\n",
       "        text-align: right;\n",
       "    }\n",
       "</style>\n",
       "<table border=\"1\" class=\"dataframe\">\n",
       "  <thead>\n",
       "    <tr style=\"text-align: right;\">\n",
       "      <th></th>\n",
       "      <th>LOCATION</th>\n",
       "    </tr>\n",
       "    <tr>\n",
       "      <th>Current Job Id</th>\n",
       "      <th></th>\n",
       "    </tr>\n",
       "  </thead>\n",
       "  <tbody>\n",
       "    <tr>\n",
       "      <th>1806494044</th>\n",
       "      <td>2</td>\n",
       "    </tr>\n",
       "    <tr>\n",
       "      <th>1828476880</th>\n",
       "      <td>2</td>\n",
       "    </tr>\n",
       "    <tr>\n",
       "      <th>1821384825</th>\n",
       "      <td>2</td>\n",
       "    </tr>\n",
       "    <tr>\n",
       "      <th>1818317791</th>\n",
       "      <td>2</td>\n",
       "    </tr>\n",
       "    <tr>\n",
       "      <th>1825643625</th>\n",
       "      <td>2</td>\n",
       "    </tr>\n",
       "    <tr>\n",
       "      <th>...</th>\n",
       "      <td>...</td>\n",
       "    </tr>\n",
       "    <tr>\n",
       "      <th>1800343808</th>\n",
       "      <td>1</td>\n",
       "    </tr>\n",
       "    <tr>\n",
       "      <th>1799852661</th>\n",
       "      <td>1</td>\n",
       "    </tr>\n",
       "    <tr>\n",
       "      <th>1797911270</th>\n",
       "      <td>1</td>\n",
       "    </tr>\n",
       "    <tr>\n",
       "      <th>1797853509</th>\n",
       "      <td>1</td>\n",
       "    </tr>\n",
       "    <tr>\n",
       "      <th>1831109667</th>\n",
       "      <td>1</td>\n",
       "    </tr>\n",
       "  </tbody>\n",
       "</table>\n",
       "<p>403 rows × 1 columns</p>\n",
       "</div>"
      ],
      "text/plain": [
       "                LOCATION\n",
       "Current Job Id          \n",
       "1806494044             2\n",
       "1828476880             2\n",
       "1821384825             2\n",
       "1818317791             2\n",
       "1825643625             2\n",
       "...                  ...\n",
       "1800343808             1\n",
       "1799852661             1\n",
       "1797911270             1\n",
       "1797853509             1\n",
       "1831109667             1\n",
       "\n",
       "[403 rows x 1 columns]"
      ]
     },
     "execution_count": 31,
     "metadata": {},
     "output_type": "execute_result"
    }
   ],
   "source": [
    "pd.pivot_table(df_jobs,\n",
    "               values=\"LOCATION\",\n",
    "               index=['Current Job Id'],\n",
    "               aggfunc=np.count_nonzero        \n",
    "              ).sort_values(by=['LOCATION'], ascending=False)"
   ]
  },
  {
   "cell_type": "code",
   "execution_count": 71,
   "metadata": {},
   "outputs": [
    {
     "data": {
      "text/plain": [
       "['data analyst', 'data scientist', 'data engineer']"
      ]
     },
     "execution_count": 71,
     "metadata": {},
     "output_type": "execute_result"
    }
   ],
   "source": [
    "unique_jobs = list(df_jobs['JOB TITLE'].unique())\n",
    "unique_jobs"
   ]
  },
  {
   "cell_type": "code",
   "execution_count": 80,
   "metadata": {},
   "outputs": [
    {
     "data": {
      "text/html": [
       "<div>\n",
       "<style scoped>\n",
       "    .dataframe tbody tr th:only-of-type {\n",
       "        vertical-align: middle;\n",
       "    }\n",
       "\n",
       "    .dataframe tbody tr th {\n",
       "        vertical-align: top;\n",
       "    }\n",
       "\n",
       "    .dataframe thead th {\n",
       "        text-align: right;\n",
       "    }\n",
       "</style>\n",
       "<table border=\"1\" class=\"dataframe\">\n",
       "  <thead>\n",
       "    <tr style=\"text-align: right;\">\n",
       "      <th>JOB TITLE</th>\n",
       "      <th>Current Job Id</th>\n",
       "      <th>data analyst</th>\n",
       "      <th>data engineer</th>\n",
       "      <th>data scientist</th>\n",
       "      <th>Multiple Job Post</th>\n",
       "    </tr>\n",
       "  </thead>\n",
       "  <tbody>\n",
       "    <tr>\n",
       "      <th>0</th>\n",
       "      <td>1276595125</td>\n",
       "      <td></td>\n",
       "      <td></td>\n",
       "      <td>DS</td>\n",
       "      <td>-DS--</td>\n",
       "    </tr>\n",
       "    <tr>\n",
       "      <th>1</th>\n",
       "      <td>1298845523</td>\n",
       "      <td>DA</td>\n",
       "      <td></td>\n",
       "      <td></td>\n",
       "      <td>DA---</td>\n",
       "    </tr>\n",
       "    <tr>\n",
       "      <th>2</th>\n",
       "      <td>1298846568</td>\n",
       "      <td>DA</td>\n",
       "      <td></td>\n",
       "      <td></td>\n",
       "      <td>DA---</td>\n",
       "    </tr>\n",
       "    <tr>\n",
       "      <th>3</th>\n",
       "      <td>1298846570</td>\n",
       "      <td></td>\n",
       "      <td></td>\n",
       "      <td>DS</td>\n",
       "      <td>-DS--</td>\n",
       "    </tr>\n",
       "    <tr>\n",
       "      <th>4</th>\n",
       "      <td>1328392365</td>\n",
       "      <td></td>\n",
       "      <td></td>\n",
       "      <td>DS</td>\n",
       "      <td>-DS--</td>\n",
       "    </tr>\n",
       "    <tr>\n",
       "      <th>...</th>\n",
       "      <td>...</td>\n",
       "      <td>...</td>\n",
       "      <td>...</td>\n",
       "      <td>...</td>\n",
       "      <td>...</td>\n",
       "    </tr>\n",
       "    <tr>\n",
       "      <th>398</th>\n",
       "      <td>1830255201</td>\n",
       "      <td>DA</td>\n",
       "      <td></td>\n",
       "      <td>DS</td>\n",
       "      <td>DA-DS--</td>\n",
       "    </tr>\n",
       "    <tr>\n",
       "      <th>399</th>\n",
       "      <td>1831080577</td>\n",
       "      <td></td>\n",
       "      <td>DE</td>\n",
       "      <td></td>\n",
       "      <td>--DE-</td>\n",
       "    </tr>\n",
       "    <tr>\n",
       "      <th>400</th>\n",
       "      <td>1831081455</td>\n",
       "      <td></td>\n",
       "      <td></td>\n",
       "      <td>DS</td>\n",
       "      <td>-DS--</td>\n",
       "    </tr>\n",
       "    <tr>\n",
       "      <th>401</th>\n",
       "      <td>1831082025</td>\n",
       "      <td></td>\n",
       "      <td></td>\n",
       "      <td>DS</td>\n",
       "      <td>-DS--</td>\n",
       "    </tr>\n",
       "    <tr>\n",
       "      <th>402</th>\n",
       "      <td>1831109667</td>\n",
       "      <td></td>\n",
       "      <td></td>\n",
       "      <td>DS</td>\n",
       "      <td>-DS--</td>\n",
       "    </tr>\n",
       "  </tbody>\n",
       "</table>\n",
       "<p>403 rows × 5 columns</p>\n",
       "</div>"
      ],
      "text/plain": [
       "JOB TITLE  Current Job Id data analyst data engineer data scientist  \\\n",
       "0              1276595125                                        DS   \n",
       "1              1298845523           DA                                \n",
       "2              1298846568           DA                                \n",
       "3              1298846570                                        DS   \n",
       "4              1328392365                                        DS   \n",
       "..                    ...          ...           ...            ...   \n",
       "398            1830255201           DA                           DS   \n",
       "399            1831080577                         DE                  \n",
       "400            1831081455                                        DS   \n",
       "401            1831082025                                        DS   \n",
       "402            1831109667                                        DS   \n",
       "\n",
       "JOB TITLE Multiple Job Post  \n",
       "0                     -DS--  \n",
       "1                     DA---  \n",
       "2                     DA---  \n",
       "3                     -DS--  \n",
       "4                     -DS--  \n",
       "..                      ...  \n",
       "398                 DA-DS--  \n",
       "399                   --DE-  \n",
       "400                   -DS--  \n",
       "401                   -DS--  \n",
       "402                   -DS--  \n",
       "\n",
       "[403 rows x 5 columns]"
      ]
     },
     "execution_count": 80,
     "metadata": {},
     "output_type": "execute_result"
    }
   ],
   "source": [
    "pivot_ID_TITLES = pd.pivot_table(df_jobs,\n",
    "               values=\"LOCATION\",\n",
    "               index=['Current Job Id'],\n",
    "               columns=['JOB TITLE'],\n",
    "               aggfunc=np.count_nonzero        \n",
    "              ).reset_index()\n",
    "\n",
    "pivot_ID_TITLES['Multiple Job Post'] = \"\"\n",
    "\n",
    "for j in unique_jobs:\n",
    "    pivot_ID_TITLES[j] = \\\n",
    "    pivot_ID_TITLES[j].apply(lambda x: job_key_generator(j) if x==1.0 else '')\n",
    "    pivot_ID_TITLES['Multiple Job Post'] = pivot_ID_TITLES['Multiple Job Post'] + pivot_ID_TITLES[j] + '-'\n",
    "\n",
    "pivot_ID_TITLES"
   ]
  },
  {
   "cell_type": "code",
   "execution_count": 81,
   "metadata": {},
   "outputs": [],
   "source": [
    "df_jobs = df_jobs.merge(pivot_ID_TITLES[['Current Job Id','Multiple Job Post']],\n",
    "                       on='Current Job Id',\n",
    "                       how='left')"
   ]
  },
  {
   "cell_type": "code",
   "execution_count": null,
   "metadata": {},
   "outputs": [],
   "source": []
  },
  {
   "cell_type": "code",
   "execution_count": 82,
   "metadata": {},
   "outputs": [
    {
     "data": {
      "text/html": [
       "<div>\n",
       "<style scoped>\n",
       "    .dataframe tbody tr th:only-of-type {\n",
       "        vertical-align: middle;\n",
       "    }\n",
       "\n",
       "    .dataframe tbody tr th {\n",
       "        vertical-align: top;\n",
       "    }\n",
       "\n",
       "    .dataframe thead th {\n",
       "        text-align: right;\n",
       "    }\n",
       "</style>\n",
       "<table border=\"1\" class=\"dataframe\">\n",
       "  <thead>\n",
       "    <tr style=\"text-align: right;\">\n",
       "      <th></th>\n",
       "      <th>JOB TITLE</th>\n",
       "      <th>LOCATION</th>\n",
       "      <th>SEARCH DATETIME</th>\n",
       "      <th>Current Job Id</th>\n",
       "      <th>Job html</th>\n",
       "      <th>Job name</th>\n",
       "      <th>Company name</th>\n",
       "      <th>Company location</th>\n",
       "      <th>Posted date</th>\n",
       "      <th>Estimated post date</th>\n",
       "      <th>...</th>\n",
       "      <th>Job Functions</th>\n",
       "      <th>Job info</th>\n",
       "      <th>Job Description</th>\n",
       "      <th>JOB TITLE_ID</th>\n",
       "      <th>Info Language</th>\n",
       "      <th>da coincidences</th>\n",
       "      <th>da coincidences_list</th>\n",
       "      <th>PROFILE coincidences</th>\n",
       "      <th>PROFILE coincidences_list</th>\n",
       "      <th>Multiple Job Post</th>\n",
       "    </tr>\n",
       "  </thead>\n",
       "  <tbody>\n",
       "    <tr>\n",
       "      <th>119</th>\n",
       "      <td>data scientist</td>\n",
       "      <td>Madrid</td>\n",
       "      <td>2020-04-20 01:38</td>\n",
       "      <td>1645918674</td>\n",
       "      <td>https://www.linkedin.com/jobs/view/1645918674/</td>\n",
       "      <td>Senior Data Analyst &amp; Data Scientist</td>\n",
       "      <td>Ekkiden</td>\n",
       "      <td>Madrid, ES</td>\n",
       "      <td>4 months</td>\n",
       "      <td>2019-12-30 01:38</td>\n",
       "      <td>...</td>\n",
       "      <td>Analyst Engineering Information Technology</td>\n",
       "      <td>Posted Date\\nPosted 4 months ago\\nNumber of vi...</td>\n",
       "      <td>This is Ekkiden\\n\\nAmbition and innovation are...</td>\n",
       "      <td>data scientist_1645918674</td>\n",
       "      <td>en</td>\n",
       "      <td>2</td>\n",
       "      <td>[sql, python]</td>\n",
       "      <td>10</td>\n",
       "      <td>[analytical skills, data analytics, data scien...</td>\n",
       "      <td>-DS--</td>\n",
       "    </tr>\n",
       "  </tbody>\n",
       "</table>\n",
       "<p>1 rows × 25 columns</p>\n",
       "</div>"
      ],
      "text/plain": [
       "          JOB TITLE LOCATION   SEARCH DATETIME  Current Job Id  \\\n",
       "119  data scientist   Madrid  2020-04-20 01:38      1645918674   \n",
       "\n",
       "                                           Job html  \\\n",
       "119  https://www.linkedin.com/jobs/view/1645918674/   \n",
       "\n",
       "                                 Job name Company name Company location  \\\n",
       "119  Senior Data Analyst & Data Scientist      Ekkiden       Madrid, ES   \n",
       "\n",
       "    Posted date Estimated post date  ...  \\\n",
       "119    4 months    2019-12-30 01:38  ...   \n",
       "\n",
       "                                  Job Functions  \\\n",
       "119  Analyst Engineering Information Technology   \n",
       "\n",
       "                                              Job info  \\\n",
       "119  Posted Date\\nPosted 4 months ago\\nNumber of vi...   \n",
       "\n",
       "                                       Job Description  \\\n",
       "119  This is Ekkiden\\n\\nAmbition and innovation are...   \n",
       "\n",
       "                  JOB TITLE_ID Info Language da coincidences  \\\n",
       "119  data scientist_1645918674            en               2   \n",
       "\n",
       "    da coincidences_list PROFILE coincidences  \\\n",
       "119        [sql, python]                   10   \n",
       "\n",
       "                             PROFILE coincidences_list Multiple Job Post  \n",
       "119  [analytical skills, data analytics, data scien...             -DS--  \n",
       "\n",
       "[1 rows x 25 columns]"
      ]
     },
     "execution_count": 82,
     "metadata": {},
     "output_type": "execute_result"
    }
   ],
   "source": [
    "df_jobs[df_jobs['Current Job Id']==1645918674]"
   ]
  },
  {
   "cell_type": "code",
   "execution_count": 33,
   "metadata": {},
   "outputs": [
    {
     "data": {
      "text/html": [
       "<div>\n",
       "<style scoped>\n",
       "    .dataframe tbody tr th:only-of-type {\n",
       "        vertical-align: middle;\n",
       "    }\n",
       "\n",
       "    .dataframe tbody tr th {\n",
       "        vertical-align: top;\n",
       "    }\n",
       "\n",
       "    .dataframe thead th {\n",
       "        text-align: right;\n",
       "    }\n",
       "</style>\n",
       "<table border=\"1\" class=\"dataframe\">\n",
       "  <thead>\n",
       "    <tr style=\"text-align: right;\">\n",
       "      <th></th>\n",
       "      <th>JOB TITLE</th>\n",
       "      <th>LOCATION</th>\n",
       "      <th>SEARCH DATETIME</th>\n",
       "      <th>Current Job Id</th>\n",
       "      <th>Job html</th>\n",
       "      <th>Job name</th>\n",
       "      <th>Company name</th>\n",
       "      <th>Company location</th>\n",
       "      <th>Posted date</th>\n",
       "      <th>Estimated post date</th>\n",
       "      <th>Easy apply</th>\n",
       "      <th>Skills match</th>\n",
       "      <th>Seniority Level</th>\n",
       "      <th>Industry</th>\n",
       "      <th>Employment Type</th>\n",
       "      <th>Job Functions</th>\n",
       "      <th>Job info</th>\n",
       "      <th>Job Description</th>\n",
       "      <th>JOB TITLE_ID</th>\n",
       "    </tr>\n",
       "  </thead>\n",
       "  <tbody>\n",
       "    <tr>\n",
       "      <th>0</th>\n",
       "      <td>data analyst</td>\n",
       "      <td>Madrid</td>\n",
       "      <td>2020-04-20 01:38</td>\n",
       "      <td>1821611516</td>\n",
       "      <td>https://www.linkedin.com/jobs/view/1821611516/</td>\n",
       "      <td>Data Analyst Scala H/M</td>\n",
       "      <td>Experis IT</td>\n",
       "      <td>Madrid, Comunidad de Madrid, España</td>\n",
       "      <td>5 days</td>\n",
       "      <td>2020-04-15 01:38</td>\n",
       "      <td>True</td>\n",
       "      <td>{'yes': ['Data Analysis', 'Business Intelligen...</td>\n",
       "      <td>Mid-Senior level</td>\n",
       "      <td>Information Services Telecommunications Banking</td>\n",
       "      <td>Full-time</td>\n",
       "      <td>Information Technology Consulting Project Mana...</td>\n",
       "      <td>Posted Date\\nPosted 5 days ago\\nNumber of view...</td>\n",
       "      <td>Experis IT, somos una compañía líder en soluci...</td>\n",
       "      <td>data analyst_1821611516</td>\n",
       "    </tr>\n",
       "    <tr>\n",
       "      <th>1</th>\n",
       "      <td>data analyst</td>\n",
       "      <td>Madrid</td>\n",
       "      <td>2020-04-20 01:38</td>\n",
       "      <td>1811532919</td>\n",
       "      <td>https://www.linkedin.com/jobs/view/1811532919/</td>\n",
       "      <td>Finance Systems Business Analyst - GL/FA/AP/AR...</td>\n",
       "      <td>SystemsAccountants</td>\n",
       "      <td>Greater Madrid Metropolitan Area</td>\n",
       "      <td>1 week</td>\n",
       "      <td>2020-04-13 01:38</td>\n",
       "      <td>True</td>\n",
       "      <td>{'yes': ['Business', 'Spanish', 'Accounting', ...</td>\n",
       "      <td>Mid-Senior level</td>\n",
       "      <td>Consumer Goods Consumer Services Financial Ser...</td>\n",
       "      <td>Full-time</td>\n",
       "      <td>Information Technology Finance Project Management</td>\n",
       "      <td>Posted Date\\nPosted 1 week ago\\nNumber of view...</td>\n",
       "      <td>A large company based near Madrid is currentl...</td>\n",
       "      <td>data analyst_1811532919</td>\n",
       "    </tr>\n",
       "    <tr>\n",
       "      <th>2</th>\n",
       "      <td>data analyst</td>\n",
       "      <td>Madrid</td>\n",
       "      <td>2020-04-20 01:38</td>\n",
       "      <td>1800343808</td>\n",
       "      <td>https://www.linkedin.com/jobs/view/1800343808/</td>\n",
       "      <td>Senior Business Development Manager - Cloud Ec...</td>\n",
       "      <td>Amazon Web Services (AWS)</td>\n",
       "      <td>Madrid, ES</td>\n",
       "      <td>3 weeks</td>\n",
       "      <td>2020-03-30 01:38</td>\n",
       "      <td>False</td>\n",
       "      <td>{'yes': ['Statistics', 'SQL', 'Microsoft Excel...</td>\n",
       "      <td>Mid-Senior level</td>\n",
       "      <td>Computer Software Information Technology &amp; Ser...</td>\n",
       "      <td>Full-time</td>\n",
       "      <td>Business Development Information Technology</td>\n",
       "      <td>Posted Date\\nPosted 3 weeks ago\\nNumber of vie...</td>\n",
       "      <td>Description\\n\\nWould you like to be part of a ...</td>\n",
       "      <td>data analyst_1800343808</td>\n",
       "    </tr>\n",
       "    <tr>\n",
       "      <th>3</th>\n",
       "      <td>data analyst</td>\n",
       "      <td>Madrid</td>\n",
       "      <td>2020-04-20 01:38</td>\n",
       "      <td>1712806429</td>\n",
       "      <td>https://www.linkedin.com/jobs/view/1712806429/</td>\n",
       "      <td>Digital Data Scientist</td>\n",
       "      <td>JTI (Japan Tobacco International)</td>\n",
       "      <td>Madrid, ES</td>\n",
       "      <td>4 weeks</td>\n",
       "      <td>2020-03-23 01:38</td>\n",
       "      <td>False</td>\n",
       "      <td>{'yes': ['Data Visualization', 'Data Analytics...</td>\n",
       "      <td>Entry level</td>\n",
       "      <td>Consumer Goods Food &amp; Beverages Tobacco</td>\n",
       "      <td>Full-time</td>\n",
       "      <td>Engineering Information Technology</td>\n",
       "      <td>Posted Date\\nPosted 4 weeks ago\\nNumber of vie...</td>\n",
       "      <td>JTI is a leading international tobacco company...</td>\n",
       "      <td>data analyst_1712806429</td>\n",
       "    </tr>\n",
       "    <tr>\n",
       "      <th>4</th>\n",
       "      <td>data analyst</td>\n",
       "      <td>Madrid</td>\n",
       "      <td>2020-04-20 01:38</td>\n",
       "      <td>1786901267</td>\n",
       "      <td>https://www.linkedin.com/jobs/view/1786901267/</td>\n",
       "      <td>Data Analytics Manager Madrid</td>\n",
       "      <td>Accenture España</td>\n",
       "      <td>Madrid, ES</td>\n",
       "      <td>13 hours</td>\n",
       "      <td>2020-04-19 12:38</td>\n",
       "      <td>False</td>\n",
       "      <td>{'yes': ['Data Visualization', 'Data Analytics...</td>\n",
       "      <td>Mid-Senior level</td>\n",
       "      <td>Information Technology &amp; Services Computer Sof...</td>\n",
       "      <td>Full-time</td>\n",
       "      <td>Business Development Sales</td>\n",
       "      <td>New\\nPosted Date\\nPosted 13 hours ago\\nNumber ...</td>\n",
       "      <td>Accenture Digital offers a comprehensive portf...</td>\n",
       "      <td>data analyst_1786901267</td>\n",
       "    </tr>\n",
       "    <tr>\n",
       "      <th>...</th>\n",
       "      <td>...</td>\n",
       "      <td>...</td>\n",
       "      <td>...</td>\n",
       "      <td>...</td>\n",
       "      <td>...</td>\n",
       "      <td>...</td>\n",
       "      <td>...</td>\n",
       "      <td>...</td>\n",
       "      <td>...</td>\n",
       "      <td>...</td>\n",
       "      <td>...</td>\n",
       "      <td>...</td>\n",
       "      <td>...</td>\n",
       "      <td>...</td>\n",
       "      <td>...</td>\n",
       "      <td>...</td>\n",
       "      <td>...</td>\n",
       "      <td>...</td>\n",
       "      <td>...</td>\n",
       "    </tr>\n",
       "    <tr>\n",
       "      <th>454</th>\n",
       "      <td>data engineer</td>\n",
       "      <td>Madrid</td>\n",
       "      <td>2020-04-20 01:38</td>\n",
       "      <td>1808203945</td>\n",
       "      <td>https://www.linkedin.com/jobs/view/1808203945/</td>\n",
       "      <td>Senior Consultant</td>\n",
       "      <td>Board International Sa</td>\n",
       "      <td>Madrid, ES</td>\n",
       "      <td>2 weeks</td>\n",
       "      <td>2020-04-06 01:38</td>\n",
       "      <td>False</td>\n",
       "      <td>{'yes': ['Apache Spark'], 'no': ['Hive', 'Hado...</td>\n",
       "      <td>Associate</td>\n",
       "      <td>Information Technology &amp; Services Computer Sof...</td>\n",
       "      <td>Full-time</td>\n",
       "      <td>Consulting Information Technology Sales</td>\n",
       "      <td>Posted Date\\nPosted 2 weeks ago\\nNumber of vie...</td>\n",
       "      <td>We are looking for a highly analytical, self-m...</td>\n",
       "      <td>data engineer_1808203945</td>\n",
       "    </tr>\n",
       "    <tr>\n",
       "      <th>461</th>\n",
       "      <td>data engineer</td>\n",
       "      <td>Madrid</td>\n",
       "      <td>2020-04-20 01:38</td>\n",
       "      <td>1802827962</td>\n",
       "      <td>https://www.linkedin.com/jobs/view/1802827962/</td>\n",
       "      <td>DevSecOps Engineer</td>\n",
       "      <td>AIRBUS</td>\n",
       "      <td>Madrid, ES</td>\n",
       "      <td>1 month</td>\n",
       "      <td>2020-03-23 01:38</td>\n",
       "      <td>False</td>\n",
       "      <td>{'yes': ['Apache Spark'], 'no': ['Hive', 'Hado...</td>\n",
       "      <td>Entry level</td>\n",
       "      <td>Information Technology &amp; Services Computer Sof...</td>\n",
       "      <td>Full-time</td>\n",
       "      <td>Engineering Information Technology</td>\n",
       "      <td>Posted Date\\nPosted 1 month ago\\nNumber of vie...</td>\n",
       "      <td>Job Description\\n\\nDescription of the job\\n\\nF...</td>\n",
       "      <td>data engineer_1802827962</td>\n",
       "    </tr>\n",
       "    <tr>\n",
       "      <th>462</th>\n",
       "      <td>data engineer</td>\n",
       "      <td>Madrid</td>\n",
       "      <td>2020-04-20 01:38</td>\n",
       "      <td>1820745753</td>\n",
       "      <td>https://www.linkedin.com/jobs/view/1820745753/</td>\n",
       "      <td>DevSecOps Engineer</td>\n",
       "      <td>AIRBUS</td>\n",
       "      <td>Madrid, ES</td>\n",
       "      <td>1 week</td>\n",
       "      <td>2020-04-13 01:38</td>\n",
       "      <td>False</td>\n",
       "      <td>{'yes': ['Apache Spark'], 'no': ['Hive', 'Hado...</td>\n",
       "      <td>Entry level</td>\n",
       "      <td>Information Technology &amp; Services Computer Sof...</td>\n",
       "      <td>Full-time</td>\n",
       "      <td>Engineering Information Technology</td>\n",
       "      <td>Posted Date\\nPosted 1 week ago\\nNumber of view...</td>\n",
       "      <td>Job Description\\n\\nDescription of the job\\n\\nF...</td>\n",
       "      <td>data engineer_1820745753</td>\n",
       "    </tr>\n",
       "    <tr>\n",
       "      <th>463</th>\n",
       "      <td>data engineer</td>\n",
       "      <td>Madrid</td>\n",
       "      <td>2020-04-20 01:38</td>\n",
       "      <td>1514349186</td>\n",
       "      <td>https://www.linkedin.com/jobs/view/1514349186/</td>\n",
       "      <td>SALES ENGINEER, EMEA</td>\n",
       "      <td>Power Factors, Llc</td>\n",
       "      <td>Madrid, ES</td>\n",
       "      <td>7 months</td>\n",
       "      <td>2019-10-07 01:38</td>\n",
       "      <td>False</td>\n",
       "      <td>{'yes': ['Apache Spark'], 'no': ['Hive', 'Hado...</td>\n",
       "      <td>Entry level</td>\n",
       "      <td>Renewables &amp; Environment Information Technolog...</td>\n",
       "      <td>Contract</td>\n",
       "      <td>Sales Business Development</td>\n",
       "      <td>Posted Date\\nPosted 7 months ago\\nNumber of vi...</td>\n",
       "      <td>Who We Are\\n\\nWe are Power Factors, developer ...</td>\n",
       "      <td>data engineer_1514349186</td>\n",
       "    </tr>\n",
       "    <tr>\n",
       "      <th>464</th>\n",
       "      <td>data engineer</td>\n",
       "      <td>Madrid</td>\n",
       "      <td>2020-04-20 01:38</td>\n",
       "      <td>1828608235</td>\n",
       "      <td>https://www.linkedin.com/jobs/view/1828608235/</td>\n",
       "      <td>Internship: DevSecOps Engineer</td>\n",
       "      <td>AIRBUS</td>\n",
       "      <td>Madrid, ES</td>\n",
       "      <td>2 days</td>\n",
       "      <td>2020-04-18 01:38</td>\n",
       "      <td>False</td>\n",
       "      <td>{'yes': ['Apache Spark'], 'no': ['Hive', 'Hado...</td>\n",
       "      <td>Internship</td>\n",
       "      <td>Information Technology &amp; Services Computer Sof...</td>\n",
       "      <td>Internship</td>\n",
       "      <td>Education Training</td>\n",
       "      <td>Posted Date\\nPosted 2 days ago\\nNumber of view...</td>\n",
       "      <td>Airbus Defence and Space SAU\\n\\nAirbus is a gl...</td>\n",
       "      <td>data engineer_1828608235</td>\n",
       "    </tr>\n",
       "  </tbody>\n",
       "</table>\n",
       "<p>403 rows × 19 columns</p>\n",
       "</div>"
      ],
      "text/plain": [
       "         JOB TITLE LOCATION   SEARCH DATETIME  Current Job Id  \\\n",
       "0     data analyst   Madrid  2020-04-20 01:38      1821611516   \n",
       "1     data analyst   Madrid  2020-04-20 01:38      1811532919   \n",
       "2     data analyst   Madrid  2020-04-20 01:38      1800343808   \n",
       "3     data analyst   Madrid  2020-04-20 01:38      1712806429   \n",
       "4     data analyst   Madrid  2020-04-20 01:38      1786901267   \n",
       "..             ...      ...               ...             ...   \n",
       "454  data engineer   Madrid  2020-04-20 01:38      1808203945   \n",
       "461  data engineer   Madrid  2020-04-20 01:38      1802827962   \n",
       "462  data engineer   Madrid  2020-04-20 01:38      1820745753   \n",
       "463  data engineer   Madrid  2020-04-20 01:38      1514349186   \n",
       "464  data engineer   Madrid  2020-04-20 01:38      1828608235   \n",
       "\n",
       "                                           Job html  \\\n",
       "0    https://www.linkedin.com/jobs/view/1821611516/   \n",
       "1    https://www.linkedin.com/jobs/view/1811532919/   \n",
       "2    https://www.linkedin.com/jobs/view/1800343808/   \n",
       "3    https://www.linkedin.com/jobs/view/1712806429/   \n",
       "4    https://www.linkedin.com/jobs/view/1786901267/   \n",
       "..                                              ...   \n",
       "454  https://www.linkedin.com/jobs/view/1808203945/   \n",
       "461  https://www.linkedin.com/jobs/view/1802827962/   \n",
       "462  https://www.linkedin.com/jobs/view/1820745753/   \n",
       "463  https://www.linkedin.com/jobs/view/1514349186/   \n",
       "464  https://www.linkedin.com/jobs/view/1828608235/   \n",
       "\n",
       "                                              Job name  \\\n",
       "0                               Data Analyst Scala H/M   \n",
       "1    Finance Systems Business Analyst - GL/FA/AP/AR...   \n",
       "2    Senior Business Development Manager - Cloud Ec...   \n",
       "3                               Digital Data Scientist   \n",
       "4                        Data Analytics Manager Madrid   \n",
       "..                                                 ...   \n",
       "454                                  Senior Consultant   \n",
       "461                                 DevSecOps Engineer   \n",
       "462                                 DevSecOps Engineer   \n",
       "463                               SALES ENGINEER, EMEA   \n",
       "464                     Internship: DevSecOps Engineer   \n",
       "\n",
       "                          Company name                     Company location  \\\n",
       "0                           Experis IT  Madrid, Comunidad de Madrid, España   \n",
       "1                   SystemsAccountants     Greater Madrid Metropolitan Area   \n",
       "2            Amazon Web Services (AWS)                           Madrid, ES   \n",
       "3    JTI (Japan Tobacco International)                           Madrid, ES   \n",
       "4                     Accenture España                           Madrid, ES   \n",
       "..                                 ...                                  ...   \n",
       "454             Board International Sa                           Madrid, ES   \n",
       "461                             AIRBUS                           Madrid, ES   \n",
       "462                             AIRBUS                           Madrid, ES   \n",
       "463                 Power Factors, Llc                           Madrid, ES   \n",
       "464                             AIRBUS                           Madrid, ES   \n",
       "\n",
       "    Posted date Estimated post date  Easy apply  \\\n",
       "0        5 days    2020-04-15 01:38        True   \n",
       "1        1 week    2020-04-13 01:38        True   \n",
       "2       3 weeks    2020-03-30 01:38       False   \n",
       "3       4 weeks    2020-03-23 01:38       False   \n",
       "4      13 hours    2020-04-19 12:38       False   \n",
       "..          ...                 ...         ...   \n",
       "454     2 weeks    2020-04-06 01:38       False   \n",
       "461     1 month    2020-03-23 01:38       False   \n",
       "462      1 week    2020-04-13 01:38       False   \n",
       "463    7 months    2019-10-07 01:38       False   \n",
       "464      2 days    2020-04-18 01:38       False   \n",
       "\n",
       "                                          Skills match   Seniority Level  \\\n",
       "0    {'yes': ['Data Analysis', 'Business Intelligen...  Mid-Senior level   \n",
       "1    {'yes': ['Business', 'Spanish', 'Accounting', ...  Mid-Senior level   \n",
       "2    {'yes': ['Statistics', 'SQL', 'Microsoft Excel...  Mid-Senior level   \n",
       "3    {'yes': ['Data Visualization', 'Data Analytics...       Entry level   \n",
       "4    {'yes': ['Data Visualization', 'Data Analytics...  Mid-Senior level   \n",
       "..                                                 ...               ...   \n",
       "454  {'yes': ['Apache Spark'], 'no': ['Hive', 'Hado...         Associate   \n",
       "461  {'yes': ['Apache Spark'], 'no': ['Hive', 'Hado...       Entry level   \n",
       "462  {'yes': ['Apache Spark'], 'no': ['Hive', 'Hado...       Entry level   \n",
       "463  {'yes': ['Apache Spark'], 'no': ['Hive', 'Hado...       Entry level   \n",
       "464  {'yes': ['Apache Spark'], 'no': ['Hive', 'Hado...        Internship   \n",
       "\n",
       "                                              Industry Employment Type  \\\n",
       "0      Information Services Telecommunications Banking       Full-time   \n",
       "1    Consumer Goods Consumer Services Financial Ser...       Full-time   \n",
       "2    Computer Software Information Technology & Ser...       Full-time   \n",
       "3              Consumer Goods Food & Beverages Tobacco       Full-time   \n",
       "4    Information Technology & Services Computer Sof...       Full-time   \n",
       "..                                                 ...             ...   \n",
       "454  Information Technology & Services Computer Sof...       Full-time   \n",
       "461  Information Technology & Services Computer Sof...       Full-time   \n",
       "462  Information Technology & Services Computer Sof...       Full-time   \n",
       "463  Renewables & Environment Information Technolog...        Contract   \n",
       "464  Information Technology & Services Computer Sof...      Internship   \n",
       "\n",
       "                                         Job Functions  \\\n",
       "0    Information Technology Consulting Project Mana...   \n",
       "1    Information Technology Finance Project Management   \n",
       "2          Business Development Information Technology   \n",
       "3                   Engineering Information Technology   \n",
       "4                           Business Development Sales   \n",
       "..                                                 ...   \n",
       "454            Consulting Information Technology Sales   \n",
       "461                 Engineering Information Technology   \n",
       "462                 Engineering Information Technology   \n",
       "463                         Sales Business Development   \n",
       "464                                 Education Training   \n",
       "\n",
       "                                              Job info  \\\n",
       "0    Posted Date\\nPosted 5 days ago\\nNumber of view...   \n",
       "1    Posted Date\\nPosted 1 week ago\\nNumber of view...   \n",
       "2    Posted Date\\nPosted 3 weeks ago\\nNumber of vie...   \n",
       "3    Posted Date\\nPosted 4 weeks ago\\nNumber of vie...   \n",
       "4    New\\nPosted Date\\nPosted 13 hours ago\\nNumber ...   \n",
       "..                                                 ...   \n",
       "454  Posted Date\\nPosted 2 weeks ago\\nNumber of vie...   \n",
       "461  Posted Date\\nPosted 1 month ago\\nNumber of vie...   \n",
       "462  Posted Date\\nPosted 1 week ago\\nNumber of view...   \n",
       "463  Posted Date\\nPosted 7 months ago\\nNumber of vi...   \n",
       "464  Posted Date\\nPosted 2 days ago\\nNumber of view...   \n",
       "\n",
       "                                       Job Description  \\\n",
       "0    Experis IT, somos una compañía líder en soluci...   \n",
       "1     A large company based near Madrid is currentl...   \n",
       "2    Description\\n\\nWould you like to be part of a ...   \n",
       "3    JTI is a leading international tobacco company...   \n",
       "4    Accenture Digital offers a comprehensive portf...   \n",
       "..                                                 ...   \n",
       "454  We are looking for a highly analytical, self-m...   \n",
       "461  Job Description\\n\\nDescription of the job\\n\\nF...   \n",
       "462  Job Description\\n\\nDescription of the job\\n\\nF...   \n",
       "463  Who We Are\\n\\nWe are Power Factors, developer ...   \n",
       "464  Airbus Defence and Space SAU\\n\\nAirbus is a gl...   \n",
       "\n",
       "                 JOB TITLE_ID  \n",
       "0     data analyst_1821611516  \n",
       "1     data analyst_1811532919  \n",
       "2     data analyst_1800343808  \n",
       "3     data analyst_1712806429  \n",
       "4     data analyst_1786901267  \n",
       "..                        ...  \n",
       "454  data engineer_1808203945  \n",
       "461  data engineer_1802827962  \n",
       "462  data engineer_1820745753  \n",
       "463  data engineer_1514349186  \n",
       "464  data engineer_1828608235  \n",
       "\n",
       "[403 rows x 19 columns]"
      ]
     },
     "execution_count": 33,
     "metadata": {},
     "output_type": "execute_result"
    }
   ],
   "source": [
    "df_jobs.drop_duplicates(subset='Current Job Id', keep='first')"
   ]
  },
  {
   "cell_type": "code",
   "execution_count": null,
   "metadata": {},
   "outputs": [],
   "source": []
  },
  {
   "cell_type": "markdown",
   "metadata": {},
   "source": [
    "### > Language of each job description:"
   ]
  },
  {
   "cell_type": "code",
   "execution_count": 34,
   "metadata": {},
   "outputs": [
    {
     "data": {
      "text/plain": [
       "0                                Data Analyst Scala H/M\n",
       "1     Finance Systems Business Analyst - GL/FA/AP/AR...\n",
       "2     Senior Business Development Manager - Cloud Ec...\n",
       "3                                Digital Data Scientist\n",
       "4                         Data Analytics Manager Madrid\n",
       "6        Grupo CMC: Analista de datos (python) - madrid\n",
       "7                    Programmatic Trader & Data Analyst\n",
       "8                    Programmatic Trader & Data Analyst\n",
       "9                                    Analistas de datos\n",
       "10                                   Analistas de datos\n",
       "Name: Job name, dtype: object"
      ]
     },
     "execution_count": 34,
     "metadata": {},
     "output_type": "execute_result"
    }
   ],
   "source": [
    "df_jobs['Job name'].head(10)"
   ]
  },
  {
   "cell_type": "code",
   "execution_count": 35,
   "metadata": {},
   "outputs": [
    {
     "data": {
      "text/plain": [
       "'es'"
      ]
     },
     "execution_count": 35,
     "metadata": {},
     "output_type": "execute_result"
    }
   ],
   "source": [
    "detect(df_jobs.loc[6,'Job Description'])"
   ]
  },
  {
   "cell_type": "code",
   "execution_count": 36,
   "metadata": {},
   "outputs": [],
   "source": [
    "#New comñumn identifying language\n",
    "df_jobs['Info Language'] = df_jobs['Job Description'].apply(lambda x: detect(x))"
   ]
  },
  {
   "cell_type": "code",
   "execution_count": 37,
   "metadata": {},
   "outputs": [
    {
     "data": {
      "text/plain": [
       "array(['es', 'en'], dtype=object)"
      ]
     },
     "execution_count": 37,
     "metadata": {},
     "output_type": "execute_result"
    }
   ],
   "source": [
    "df_jobs['Info Language'].unique()"
   ]
  },
  {
   "cell_type": "code",
   "execution_count": 38,
   "metadata": {},
   "outputs": [
    {
     "data": {
      "text/plain": [
       "array(['Mid-Senior level', 'Entry level', 'Associate', nan, 'Internship',\n",
       "       'Director'], dtype=object)"
      ]
     },
     "execution_count": 38,
     "metadata": {},
     "output_type": "execute_result"
    }
   ],
   "source": [
    "df_jobs['Seniority Level'].unique()"
   ]
  },
  {
   "cell_type": "markdown",
   "metadata": {},
   "source": [
    "### > Coincidences with definitions:"
   ]
  },
  {
   "cell_type": "code",
   "execution_count": 39,
   "metadata": {},
   "outputs": [],
   "source": [
    "def coincidencias(job_skills, post_skills):\n",
    "    c = 0\n",
    "    for i in job_skills: \n",
    "        if re.search(i,post_skills): \n",
    "            c+=1\n",
    "    return c\n",
    "        "
   ]
  },
  {
   "cell_type": "code",
   "execution_count": 40,
   "metadata": {},
   "outputs": [],
   "source": [
    "def list_coincidencias(job_skills, post_skills):\n",
    "    l=[]\n",
    "    for i in job_skills:\n",
    "        if re.search(i,post_skills):\n",
    "            l.append(i)\n",
    "    return l\n",
    "        "
   ]
  },
  {
   "cell_type": "code",
   "execution_count": 41,
   "metadata": {},
   "outputs": [],
   "source": [
    "def clean_text(text):\n",
    "    text = text.replace('\\n',' ')\n",
    "    text = text.replace('á','a')\n",
    "    text = text.replace('é','e')\n",
    "    text = text.replace('í','i')\n",
    "    text = text.replace('ó','o')\n",
    "    text = text.replace('ú','u')\n",
    "    text = text.replace('.',' ')\n",
    "    text = text.lower()\n",
    "    \n",
    "    return text\n",
    "    "
   ]
  },
  {
   "cell_type": "markdown",
   "metadata": {},
   "source": [
    "#### jobs >"
   ]
  },
  {
   "cell_type": "code",
   "execution_count": 42,
   "metadata": {},
   "outputs": [],
   "source": [
    "#jobs_list = list(df_jobs['JOB TITLE'].unique()) #only jobs that searcht has been taken\n",
    "unique_jobs = list(df_jobs['JOB TITLE'].unique())"
   ]
  },
  {
   "cell_type": "code",
   "execution_count": 43,
   "metadata": {},
   "outputs": [],
   "source": [
    "#New columns with coindicences DEFINITION vs Job post\n",
    "coincidences_jobs = []\n",
    "for j in unique_jobs:\n",
    "    skills_list = dic_key_words.get(j) #dictionary\n",
    "    coincidences_jobs.append(f'{j[0:2]} coincidences')\n",
    "    df_jobs[f'{j[0:2]} coincidences'] = \\\n",
    "    df_jobs['Job Description'].apply(lambda x: coincidencias(skills_list,clean_text(x)))\n",
    "    df_jobs[f'{j[0:2]} coincidences_list'] = \\\n",
    "    df_jobs['Job Description'].apply(lambda x: list_coincidencias(skills_list,clean_text(x)))\n",
    "\n",
    "#     df_jobs['DS coincidences'] = \\\n",
    "#     df_jobs['Job info'].apply(lambda x: coincidencias(DS_list,clean_text(x)))\n",
    "#     df_jobs['DS coincidences_list'] = \\\n",
    "#     df_jobs['Job info'].apply(lambda x: list_coincidencias(DS_list,clean_text(x)))\n",
    "\n",
    "#     df_jobs['DE coincidences'] = \\\n",
    "#     df_jobs['Job info'].apply(lambda x: coincidencias(DE_list,clean_text(x)))\n",
    "#     df_jobs['DE coincidences_list'] = \\\n",
    "#     df_jobs['Job info'].apply(lambda x: list_coincidencias(DE_list,clean_text(x)))"
   ]
  },
  {
   "cell_type": "markdown",
   "metadata": {},
   "source": [
    "#### profile >"
   ]
  },
  {
   "cell_type": "code",
   "execution_count": 44,
   "metadata": {},
   "outputs": [
    {
     "data": {
      "text/plain": [
       "\"['analytical skills', 'bash', 'business analysis', 'business intelligence', 'business process improvement', 'continuous improvement', 'data analysis', 'data analytics', 'data modeling', 'data pipelines', 'data science', 'data visualization', 'engineering', 'engineering - be', 'english', 'español', 'financial analysis', 'git', 'industrial engineering', 'industry knowledge', 'jupyter', 'leadership', 'lean manufacturing', 'machine learning', 'master', 'microsoft excel', 'microsoft office', 'microsoft power bi', 'microsoft power query', 'microsoft project', 'mysql', 'negotiation', 'numpy', 'pandas', 'power pivot', 'process engineering', 'process optimization', 'programming', 'project management', 'python', 'r', 'sap', 'scrum', 'seaborn', 'six sigma', 'spanish', 'sql', 'statistics', 'tableau', 'team management', 'teamwork', 'telco', 'vba', 'visual basic for applications', 'web scraping']\""
      ]
     },
     "execution_count": 44,
     "metadata": {},
     "output_type": "execute_result"
    }
   ],
   "source": [
    "df_profile.loc['total skills', 'info']"
   ]
  },
  {
   "cell_type": "code",
   "execution_count": 45,
   "metadata": {},
   "outputs": [
    {
     "data": {
      "text/plain": [
       "['analytical skills',\n",
       " 'bash',\n",
       " 'business analysis',\n",
       " 'business intelligence',\n",
       " 'business process improvement',\n",
       " 'continuous improvement',\n",
       " 'data analysis',\n",
       " 'data analytics',\n",
       " 'data modeling',\n",
       " 'data pipelines',\n",
       " 'data science',\n",
       " 'data visualization',\n",
       " 'engineering',\n",
       " 'english',\n",
       " 'español',\n",
       " 'financial analysis',\n",
       " 'git',\n",
       " 'industry knowledge',\n",
       " 'jupyter',\n",
       " 'leadership',\n",
       " 'lean manufacturing',\n",
       " 'machine learning',\n",
       " 'microsoft excel',\n",
       " 'microsoft office',\n",
       " 'microsoft power bi',\n",
       " 'microsoft power query',\n",
       " 'microsoft project',\n",
       " 'mysql',\n",
       " 'negotiation',\n",
       " 'numpy',\n",
       " 'pandas',\n",
       " 'power pivot',\n",
       " 'process engineering',\n",
       " 'process optimization',\n",
       " 'programming',\n",
       " 'project management',\n",
       " 'python',\n",
       " 'r',\n",
       " 'sap',\n",
       " 'scrum',\n",
       " 'seaborn',\n",
       " 'six sigma',\n",
       " 'sql',\n",
       " 'statistics',\n",
       " 'tableau',\n",
       " 'team management',\n",
       " 'teamwork',\n",
       " 'telco',\n",
       " 'vba',\n",
       " 'visual basic for applications',\n",
       " 'web scraping']"
      ]
     },
     "execution_count": 45,
     "metadata": {},
     "output_type": "execute_result"
    }
   ],
   "source": [
    "profile_skills = clean_text(df_profile.loc['skills', 'info'])\n",
    "#### THIS IS ONLY FOR JUPYTER !!!!!!!!!!!!!!!!!!!!\n",
    "profile_skills = profile_skills.replace('[','').replace(']','').replace(\"'\",\"\").split(', ')\n",
    "\n",
    "sorted(profile_skills)"
   ]
  },
  {
   "cell_type": "code",
   "execution_count": 46,
   "metadata": {},
   "outputs": [],
   "source": [
    "df_jobs['PROFILE coincidences'] = \\\n",
    "df_jobs['Job Description'].apply(lambda x:      coincidencias(profile_skills,clean_text(x)))\n",
    "df_jobs['PROFILE coincidences_list'] = \\\n",
    "df_jobs['Job Description'].apply(lambda x: list_coincidencias(profile_skills,clean_text(x)))"
   ]
  },
  {
   "cell_type": "code",
   "execution_count": 47,
   "metadata": {},
   "outputs": [
    {
     "data": {
      "text/html": [
       "<div>\n",
       "<style scoped>\n",
       "    .dataframe tbody tr th:only-of-type {\n",
       "        vertical-align: middle;\n",
       "    }\n",
       "\n",
       "    .dataframe tbody tr th {\n",
       "        vertical-align: top;\n",
       "    }\n",
       "\n",
       "    .dataframe thead th {\n",
       "        text-align: right;\n",
       "    }\n",
       "</style>\n",
       "<table border=\"1\" class=\"dataframe\">\n",
       "  <thead>\n",
       "    <tr style=\"text-align: right;\">\n",
       "      <th></th>\n",
       "      <th>JOB TITLE</th>\n",
       "      <th>LOCATION</th>\n",
       "      <th>SEARCH DATETIME</th>\n",
       "      <th>Current Job Id</th>\n",
       "      <th>Job html</th>\n",
       "      <th>Job name</th>\n",
       "      <th>Company name</th>\n",
       "      <th>Company location</th>\n",
       "      <th>Posted date</th>\n",
       "      <th>Estimated post date</th>\n",
       "      <th>...</th>\n",
       "      <th>Employment Type</th>\n",
       "      <th>Job Functions</th>\n",
       "      <th>Job info</th>\n",
       "      <th>Job Description</th>\n",
       "      <th>JOB TITLE_ID</th>\n",
       "      <th>Info Language</th>\n",
       "      <th>da coincidences</th>\n",
       "      <th>da coincidences_list</th>\n",
       "      <th>PROFILE coincidences</th>\n",
       "      <th>PROFILE coincidences_list</th>\n",
       "    </tr>\n",
       "  </thead>\n",
       "  <tbody>\n",
       "    <tr>\n",
       "      <th>0</th>\n",
       "      <td>data analyst</td>\n",
       "      <td>Madrid</td>\n",
       "      <td>2020-04-20 01:38</td>\n",
       "      <td>1821611516</td>\n",
       "      <td>https://www.linkedin.com/jobs/view/1821611516/</td>\n",
       "      <td>Data Analyst Scala H/M</td>\n",
       "      <td>Experis IT</td>\n",
       "      <td>Madrid, Comunidad de Madrid, España</td>\n",
       "      <td>5 days</td>\n",
       "      <td>2020-04-15 01:38</td>\n",
       "      <td>...</td>\n",
       "      <td>Full-time</td>\n",
       "      <td>Information Technology Consulting Project Mana...</td>\n",
       "      <td>Posted Date\\nPosted 5 days ago\\nNumber of view...</td>\n",
       "      <td>Experis IT, somos una compañía líder en soluci...</td>\n",
       "      <td>data analyst_1821611516</td>\n",
       "      <td>es</td>\n",
       "      <td>3</td>\n",
       "      <td>[ r , scala, big data]</td>\n",
       "      <td>5</td>\n",
       "      <td>[business intelligence, data analysis, data an...</td>\n",
       "    </tr>\n",
       "    <tr>\n",
       "      <th>1</th>\n",
       "      <td>data analyst</td>\n",
       "      <td>Madrid</td>\n",
       "      <td>2020-04-20 01:38</td>\n",
       "      <td>1811532919</td>\n",
       "      <td>https://www.linkedin.com/jobs/view/1811532919/</td>\n",
       "      <td>Finance Systems Business Analyst - GL/FA/AP/AR...</td>\n",
       "      <td>SystemsAccountants</td>\n",
       "      <td>Greater Madrid Metropolitan Area</td>\n",
       "      <td>1 week</td>\n",
       "      <td>2020-04-13 01:38</td>\n",
       "      <td>...</td>\n",
       "      <td>Full-time</td>\n",
       "      <td>Information Technology Finance Project Management</td>\n",
       "      <td>Posted Date\\nPosted 1 week ago\\nNumber of view...</td>\n",
       "      <td>A large company based near Madrid is currentl...</td>\n",
       "      <td>data analyst_1811532919</td>\n",
       "      <td>en</td>\n",
       "      <td>0</td>\n",
       "      <td>[]</td>\n",
       "      <td>6</td>\n",
       "      <td>[business analysis, english, git, project mana...</td>\n",
       "    </tr>\n",
       "  </tbody>\n",
       "</table>\n",
       "<p>2 rows × 24 columns</p>\n",
       "</div>"
      ],
      "text/plain": [
       "      JOB TITLE LOCATION   SEARCH DATETIME  Current Job Id  \\\n",
       "0  data analyst   Madrid  2020-04-20 01:38      1821611516   \n",
       "1  data analyst   Madrid  2020-04-20 01:38      1811532919   \n",
       "\n",
       "                                         Job html  \\\n",
       "0  https://www.linkedin.com/jobs/view/1821611516/   \n",
       "1  https://www.linkedin.com/jobs/view/1811532919/   \n",
       "\n",
       "                                            Job name        Company name  \\\n",
       "0                             Data Analyst Scala H/M          Experis IT   \n",
       "1  Finance Systems Business Analyst - GL/FA/AP/AR...  SystemsAccountants   \n",
       "\n",
       "                      Company location Posted date Estimated post date  ...  \\\n",
       "0  Madrid, Comunidad de Madrid, España      5 days    2020-04-15 01:38  ...   \n",
       "1     Greater Madrid Metropolitan Area      1 week    2020-04-13 01:38  ...   \n",
       "\n",
       "   Employment Type                                      Job Functions  \\\n",
       "0        Full-time  Information Technology Consulting Project Mana...   \n",
       "1        Full-time  Information Technology Finance Project Management   \n",
       "\n",
       "                                            Job info  \\\n",
       "0  Posted Date\\nPosted 5 days ago\\nNumber of view...   \n",
       "1  Posted Date\\nPosted 1 week ago\\nNumber of view...   \n",
       "\n",
       "                                     Job Description             JOB TITLE_ID  \\\n",
       "0  Experis IT, somos una compañía líder en soluci...  data analyst_1821611516   \n",
       "1   A large company based near Madrid is currentl...  data analyst_1811532919   \n",
       "\n",
       "  Info Language da coincidences    da coincidences_list PROFILE coincidences  \\\n",
       "0            es               3  [ r , scala, big data]                    5   \n",
       "1            en               0                      []                    6   \n",
       "\n",
       "                           PROFILE coincidences_list  \n",
       "0  [business intelligence, data analysis, data an...  \n",
       "1  [business analysis, english, git, project mana...  \n",
       "\n",
       "[2 rows x 24 columns]"
      ]
     },
     "execution_count": 47,
     "metadata": {},
     "output_type": "execute_result"
    }
   ],
   "source": [
    "df_jobs.head(2)"
   ]
  },
  {
   "cell_type": "markdown",
   "metadata": {},
   "source": [
    "#### checking results >"
   ]
  },
  {
   "cell_type": "code",
   "execution_count": 48,
   "metadata": {},
   "outputs": [],
   "source": [
    "check = 5"
   ]
  },
  {
   "cell_type": "code",
   "execution_count": 49,
   "metadata": {},
   "outputs": [
    {
     "data": {
      "text/plain": [
       "'Analistas de datos'"
      ]
     },
     "execution_count": 49,
     "metadata": {},
     "output_type": "execute_result"
    }
   ],
   "source": [
    "df_jobs.loc[check ,'Job name']"
   ]
  },
  {
   "cell_type": "code",
   "execution_count": 50,
   "metadata": {},
   "outputs": [
    {
     "data": {
      "text/plain": [
       "{'da coincidences': 7,\n",
       " 'da coincidences_list': ['sql',\n",
       "  'nosql',\n",
       "  'python',\n",
       "  ' r ',\n",
       "  'hadoop',\n",
       "  'mapreduce',\n",
       "  'big data'],\n",
       " 'PROFILE coincidences': 7,\n",
       " 'PROFILE coincidences_list': ['data science',\n",
       "  'machine learning',\n",
       "  'mysql',\n",
       "  'python',\n",
       "  'r',\n",
       "  'scrum',\n",
       "  'sql']}"
      ]
     },
     "execution_count": 50,
     "metadata": {},
     "output_type": "execute_result"
    }
   ],
   "source": [
    "dict(df_jobs.loc[check ,'da coincidences':'PROFILE coincidences_list'])"
   ]
  },
  {
   "cell_type": "code",
   "execution_count": 51,
   "metadata": {},
   "outputs": [
    {
     "data": {
      "text/plain": [
       "'descripcion del trabajo  detalles del puesto  en grupo invoin estamos buscando analistas de datos para un interesante proyecto estable de gestion tecnologica en madrid   te escuchamos y te hacemos una oferta salario abierto a experiencia: te ayudamos a mejorar tus condiciones actuales  buen entorno laboral, ambiente joven y dinamico y crecimiento profesional  paquete de beneficios sociales (ticket comida, ticket transporte, cheque guarderia, seguro medico privado)  ubicacion: alcobendas (madrid)  puesto estable, jornada completa  horario: lunes a jueves de 8:00h a 17:00h viernes de 8:00h a 15:00h requisitos 3 años de experiencia en la aplicacion de tecnologias en proyectos de analitica avanzada de grandes volumenes de datos e inteligencia artificial  experiencia desarrollando proyectos de ingenieria e inteligencia de datos, coordinando con equipos multidisciplinares y aplicando metodologias agiles  titulacion superior en estadistica, economicas, matematicas, informatica o ingenieria  valorable formacion de postgrado en inteligencia artificial, big data y machine learning  funciones toma de requerimientos y busqueda de soluciones  analisis funcionales y descriptivos  documentacion tecnica y a nivel de usuario  busqueda, tratamiento y limpieza de los datos  analisis e interpretacion de la informacion  modelizacion de datos  uso de algoritmos como neural net, gbm, random forest, … elaboracion de modelos predictivos  manipulacion de bases de datos  conocimientos data science, analitica avanzada (predictiva y prescriptiva) de volumenes masivos de datos  arquitecturas data-centric (ingesta, tratamiento, enriquecimiento, mineria, explotacion, analisis de grandes volumenes de datos) conocimiento de metodologias agiles de diseño y desarrollo: design thinking, scrum, devops, etc  dbms: oracle (pl/sql), mysql, postgre, etc  uso avanzado de al menos uno de los lenguajes de programacion para el analisis y modelado estadistico, preferiblemente r o python, tambien se valoraran sas, matlab, spss, stata, etc  valorable conocimiento avanzado en: machine learning / deep learning  librerias: tensorflow procesamiento del lenguaje natural  representacion del conocimiento (knowledge graph construction and exploitation) bbdd nosql: apache cassandra, neo4j, etc  herramientas de big data : mapreduce, hadoop, hive, etc  te apuntas?  envianos tu cv y te llamamos para mantener una entrevista y valorar tu candidatura  no te cierres a las oportunidades, tal vez esta sea la oferta que esperabas, ¡aplica ya! seniority level entry level industry information technology & services computer software human resources employment type full-time job functions information technology'"
      ]
     },
     "execution_count": 51,
     "metadata": {},
     "output_type": "execute_result"
    }
   ],
   "source": [
    "clean_text(df_jobs.loc[check ,'Job Description'])"
   ]
  },
  {
   "cell_type": "markdown",
   "metadata": {},
   "source": [
    "### TOP JOB POST >"
   ]
  },
  {
   "cell_type": "code",
   "execution_count": 56,
   "metadata": {},
   "outputs": [],
   "source": [
    "top = 5"
   ]
  },
  {
   "cell_type": "code",
   "execution_count": 83,
   "metadata": {},
   "outputs": [
    {
     "data": {
      "text/html": [
       "<div>\n",
       "<style scoped>\n",
       "    .dataframe tbody tr th:only-of-type {\n",
       "        vertical-align: middle;\n",
       "    }\n",
       "\n",
       "    .dataframe tbody tr th {\n",
       "        vertical-align: top;\n",
       "    }\n",
       "\n",
       "    .dataframe thead th {\n",
       "        text-align: right;\n",
       "    }\n",
       "</style>\n",
       "<table border=\"1\" class=\"dataframe\">\n",
       "  <thead>\n",
       "    <tr style=\"text-align: right;\">\n",
       "      <th></th>\n",
       "      <th>JOB TITLE</th>\n",
       "      <th>Job name</th>\n",
       "      <th>Company name</th>\n",
       "      <th>Company location</th>\n",
       "      <th>Posted date</th>\n",
       "      <th>Employment Type</th>\n",
       "      <th>Job html</th>\n",
       "      <th>Multiple Job Post</th>\n",
       "    </tr>\n",
       "  </thead>\n",
       "  <tbody>\n",
       "    <tr>\n",
       "      <th>232</th>\n",
       "      <td>data scientist</td>\n",
       "      <td>Data Scientist &amp; Project Administrator (SoF)</td>\n",
       "      <td>Brambles</td>\n",
       "      <td>Madrid, ES</td>\n",
       "      <td>1 month</td>\n",
       "      <td>Full-time</td>\n",
       "      <td>https://www.linkedin.com/jobs/view/1772483934/</td>\n",
       "      <td>-DS--</td>\n",
       "    </tr>\n",
       "    <tr>\n",
       "      <th>123</th>\n",
       "      <td>data scientist</td>\n",
       "      <td>Consultor Data Scientist</td>\n",
       "      <td>Bip Spain</td>\n",
       "      <td>Madrid y alrededores, España</td>\n",
       "      <td>1 week</td>\n",
       "      <td>Full-time</td>\n",
       "      <td>https://www.linkedin.com/jobs/view/1793291346/</td>\n",
       "      <td>-DS--</td>\n",
       "    </tr>\n",
       "    <tr>\n",
       "      <th>103</th>\n",
       "      <td>data scientist</td>\n",
       "      <td>Data Analyst</td>\n",
       "      <td>Amazon</td>\n",
       "      <td>Madrid, ES</td>\n",
       "      <td>3 weeks</td>\n",
       "      <td>Full-time</td>\n",
       "      <td>https://www.linkedin.com/jobs/view/1827111451/</td>\n",
       "      <td>-DS--</td>\n",
       "    </tr>\n",
       "    <tr>\n",
       "      <th>117</th>\n",
       "      <td>data scientist</td>\n",
       "      <td>Data Analyst</td>\n",
       "      <td>OrbitalAds</td>\n",
       "      <td>Madrid, ES</td>\n",
       "      <td>1 month</td>\n",
       "      <td>Full-time</td>\n",
       "      <td>https://www.linkedin.com/jobs/view/1748642606/</td>\n",
       "      <td>-DS--</td>\n",
       "    </tr>\n",
       "    <tr>\n",
       "      <th>55</th>\n",
       "      <td>data analyst</td>\n",
       "      <td>4P Internal Use Cases Business Data Analyst en...</td>\n",
       "      <td>Telefonica</td>\n",
       "      <td>Madrid, ES</td>\n",
       "      <td>1 month</td>\n",
       "      <td>Internship</td>\n",
       "      <td>https://www.linkedin.com/jobs/view/1768578002/</td>\n",
       "      <td>DA-DS--</td>\n",
       "    </tr>\n",
       "  </tbody>\n",
       "</table>\n",
       "</div>"
      ],
      "text/plain": [
       "          JOB TITLE                                           Job name  \\\n",
       "232  data scientist       Data Scientist & Project Administrator (SoF)   \n",
       "123  data scientist                           Consultor Data Scientist   \n",
       "103  data scientist                                       Data Analyst   \n",
       "117  data scientist                                       Data Analyst   \n",
       "55     data analyst  4P Internal Use Cases Business Data Analyst en...   \n",
       "\n",
       "    Company name              Company location Posted date Employment Type  \\\n",
       "232     Brambles                    Madrid, ES     1 month       Full-time   \n",
       "123    Bip Spain  Madrid y alrededores, España      1 week       Full-time   \n",
       "103       Amazon                    Madrid, ES     3 weeks       Full-time   \n",
       "117   OrbitalAds                    Madrid, ES     1 month       Full-time   \n",
       "55    Telefonica                    Madrid, ES     1 month      Internship   \n",
       "\n",
       "                                           Job html Multiple Job Post  \n",
       "232  https://www.linkedin.com/jobs/view/1772483934/             -DS--  \n",
       "123  https://www.linkedin.com/jobs/view/1793291346/             -DS--  \n",
       "103  https://www.linkedin.com/jobs/view/1827111451/             -DS--  \n",
       "117  https://www.linkedin.com/jobs/view/1748642606/             -DS--  \n",
       "55   https://www.linkedin.com/jobs/view/1768578002/           DA-DS--  "
      ]
     },
     "execution_count": 83,
     "metadata": {},
     "output_type": "execute_result"
    }
   ],
   "source": [
    "df_top_jobs = df_jobs\\\n",
    ".drop_duplicates(subset='Current Job Id', keep='first')\\\n",
    ".sort_values(by=['PROFILE coincidences'], ascending=False).head(top)\\\n",
    "[['JOB TITLE', 'Job name','Company name','Company location','Posted date','Employment Type',\n",
    "  'Job html','Multiple Job Post']]\n",
    "df_top_jobs"
   ]
  },
  {
   "cell_type": "code",
   "execution_count": 58,
   "metadata": {},
   "outputs": [],
   "source": [
    "df_top_jobs['Job html'] = df_top_jobs['Job html'].apply(lambda x: f'<a href={x}>link</a>')"
   ]
  },
  {
   "cell_type": "code",
   "execution_count": 59,
   "metadata": {},
   "outputs": [
    {
     "data": {
      "text/html": [
       "<div>\n",
       "<style scoped>\n",
       "    .dataframe tbody tr th:only-of-type {\n",
       "        vertical-align: middle;\n",
       "    }\n",
       "\n",
       "    .dataframe tbody tr th {\n",
       "        vertical-align: top;\n",
       "    }\n",
       "\n",
       "    .dataframe thead th {\n",
       "        text-align: right;\n",
       "    }\n",
       "</style>\n",
       "<table border=\"1\" class=\"dataframe\">\n",
       "  <thead>\n",
       "    <tr style=\"text-align: right;\">\n",
       "      <th></th>\n",
       "      <th>JOB TITLE</th>\n",
       "      <th>Job name</th>\n",
       "      <th>Company name</th>\n",
       "      <th>Company location</th>\n",
       "      <th>Posted date</th>\n",
       "      <th>Employment Type</th>\n",
       "      <th>Job html</th>\n",
       "    </tr>\n",
       "  </thead>\n",
       "  <tbody>\n",
       "    <tr>\n",
       "      <th>234</th>\n",
       "      <td>data scientist</td>\n",
       "      <td>Data Scientist &amp; Project Administrator (SoF)</td>\n",
       "      <td>Brambles</td>\n",
       "      <td>Madrid, ES</td>\n",
       "      <td>1 month</td>\n",
       "      <td>Full-time</td>\n",
       "      <td>&lt;a href=https://www.linkedin.com/jobs/view/177...</td>\n",
       "    </tr>\n",
       "    <tr>\n",
       "      <th>124</th>\n",
       "      <td>data scientist</td>\n",
       "      <td>Consultor Data Scientist</td>\n",
       "      <td>Bip Spain</td>\n",
       "      <td>Madrid y alrededores, España</td>\n",
       "      <td>1 week</td>\n",
       "      <td>Full-time</td>\n",
       "      <td>&lt;a href=https://www.linkedin.com/jobs/view/179...</td>\n",
       "    </tr>\n",
       "    <tr>\n",
       "      <th>104</th>\n",
       "      <td>data scientist</td>\n",
       "      <td>Data Analyst</td>\n",
       "      <td>Amazon</td>\n",
       "      <td>Madrid, ES</td>\n",
       "      <td>3 weeks</td>\n",
       "      <td>Full-time</td>\n",
       "      <td>&lt;a href=https://www.linkedin.com/jobs/view/182...</td>\n",
       "    </tr>\n",
       "    <tr>\n",
       "      <th>118</th>\n",
       "      <td>data scientist</td>\n",
       "      <td>Data Analyst</td>\n",
       "      <td>OrbitalAds</td>\n",
       "      <td>Madrid, ES</td>\n",
       "      <td>1 month</td>\n",
       "      <td>Full-time</td>\n",
       "      <td>&lt;a href=https://www.linkedin.com/jobs/view/174...</td>\n",
       "    </tr>\n",
       "    <tr>\n",
       "      <th>56</th>\n",
       "      <td>data analyst</td>\n",
       "      <td>4P Internal Use Cases Business Data Analyst en...</td>\n",
       "      <td>Telefonica</td>\n",
       "      <td>Madrid, ES</td>\n",
       "      <td>1 month</td>\n",
       "      <td>Internship</td>\n",
       "      <td>&lt;a href=https://www.linkedin.com/jobs/view/176...</td>\n",
       "    </tr>\n",
       "  </tbody>\n",
       "</table>\n",
       "</div>"
      ],
      "text/plain": [
       "          JOB TITLE                                           Job name  \\\n",
       "234  data scientist       Data Scientist & Project Administrator (SoF)   \n",
       "124  data scientist                           Consultor Data Scientist   \n",
       "104  data scientist                                       Data Analyst   \n",
       "118  data scientist                                       Data Analyst   \n",
       "56     data analyst  4P Internal Use Cases Business Data Analyst en...   \n",
       "\n",
       "    Company name              Company location Posted date Employment Type  \\\n",
       "234     Brambles                    Madrid, ES     1 month       Full-time   \n",
       "124    Bip Spain  Madrid y alrededores, España      1 week       Full-time   \n",
       "104       Amazon                    Madrid, ES     3 weeks       Full-time   \n",
       "118   OrbitalAds                    Madrid, ES     1 month       Full-time   \n",
       "56    Telefonica                    Madrid, ES     1 month      Internship   \n",
       "\n",
       "                                              Job html  \n",
       "234  <a href=https://www.linkedin.com/jobs/view/177...  \n",
       "124  <a href=https://www.linkedin.com/jobs/view/179...  \n",
       "104  <a href=https://www.linkedin.com/jobs/view/182...  \n",
       "118  <a href=https://www.linkedin.com/jobs/view/174...  \n",
       "56   <a href=https://www.linkedin.com/jobs/view/176...  "
      ]
     },
     "execution_count": 59,
     "metadata": {},
     "output_type": "execute_result"
    }
   ],
   "source": [
    "df_top_jobs.head(10)"
   ]
  },
  {
   "cell_type": "markdown",
   "metadata": {},
   "source": [
    "## render dataframe as html\n",
    "html = df_top_jobs.to_html(escape=False)\n",
    "\n",
    "#write html to file\n",
    "if platform.system() == 'Linux':\n",
    "    text_file = open(f\"../data/results/top_{top}_jobs_in_{location}.html\", \"w\")\n",
    "    text_file.write(html)\n",
    "    text_file.close()\n",
    "    #text_file.close()\n",
    "    \n",
    "    \n",
    "elif platform.system() == 'Windows':\n",
    "    text_file = open(f\"..\\\\data\\\\results\\\\top_{top}_jobs_in_{location}.html\", \"w\")\n",
    "    text_file.write(html)\n",
    "    #text_file.close()"
   ]
  },
  {
   "cell_type": "markdown",
   "metadata": {},
   "source": [
    "#### checking results >"
   ]
  },
  {
   "cell_type": "code",
   "execution_count": null,
   "metadata": {},
   "outputs": [],
   "source": [
    "df_jobs[df_jobs['Current Job Id']==1682047755]"
   ]
  },
  {
   "cell_type": "code",
   "execution_count": null,
   "metadata": {},
   "outputs": [],
   "source": []
  },
  {
   "cell_type": "markdown",
   "metadata": {},
   "source": [
    "## Using NLP"
   ]
  },
  {
   "cell_type": "code",
   "execution_count": 84,
   "metadata": {},
   "outputs": [],
   "source": [
    "nlp_en = spacy.load('en_core_web_md')\n",
    "nlp_es = spacy.load('es_core_news_md')"
   ]
  },
  {
   "cell_type": "code",
   "execution_count": 85,
   "metadata": {},
   "outputs": [
    {
     "data": {
      "text/plain": [
       "Index(['JOB TITLE', 'LOCATION', 'SEARCH DATETIME', 'Current Job Id',\n",
       "       'Job html', 'Job name', 'Company name', 'Company location',\n",
       "       'Posted date', 'Estimated post date', 'Easy apply', 'Skills match',\n",
       "       'Seniority Level', 'Industry', 'Employment Type', 'Job Functions',\n",
       "       'Job info', 'Job Description', 'JOB TITLE_ID', 'Info Language',\n",
       "       'da coincidences', 'da coincidences_list', 'PROFILE coincidences',\n",
       "       'PROFILE coincidences_list', 'Multiple Job Post'],\n",
       "      dtype='object')"
      ]
     },
     "execution_count": 85,
     "metadata": {},
     "output_type": "execute_result"
    }
   ],
   "source": [
    "df_jobs.columns"
   ]
  },
  {
   "cell_type": "code",
   "execution_count": 86,
   "metadata": {},
   "outputs": [
    {
     "data": {
      "text/plain": [
       "'DA'"
      ]
     },
     "execution_count": 86,
     "metadata": {},
     "output_type": "execute_result"
    }
   ],
   "source": [
    "unique_jobs[0].split(\" \")[0][0].upper() + unique_jobs[0].split(\" \")[1][0].upper()"
   ]
  },
  {
   "cell_type": "code",
   "execution_count": null,
   "metadata": {},
   "outputs": [],
   "source": []
  },
  {
   "cell_type": "code",
   "execution_count": 87,
   "metadata": {},
   "outputs": [
    {
     "data": {
      "text/plain": [
       "'DHK'"
      ]
     },
     "execution_count": 87,
     "metadata": {},
     "output_type": "execute_result"
    }
   ],
   "source": [
    "example = \"data hola kase\"\n",
    "nuevo_key = job_key_generator(example)\n",
    "nuevo_key"
   ]
  },
  {
   "cell_type": "code",
   "execution_count": 88,
   "metadata": {},
   "outputs": [
    {
     "data": {
      "text/plain": [
       "['data analyst', 'data scientist', 'data engineer']"
      ]
     },
     "execution_count": 88,
     "metadata": {},
     "output_type": "execute_result"
    }
   ],
   "source": [
    "unique_jobs"
   ]
  },
  {
   "cell_type": "code",
   "execution_count": 89,
   "metadata": {},
   "outputs": [
    {
     "data": {
      "text/plain": [
       "['es', 'en']"
      ]
     },
     "execution_count": 89,
     "metadata": {},
     "output_type": "execute_result"
    }
   ],
   "source": [
    "unique_languages = list(df_jobs['Info Language'].unique())\n",
    "unique_languages"
   ]
  },
  {
   "cell_type": "code",
   "execution_count": 90,
   "metadata": {},
   "outputs": [
    {
     "data": {
      "text/plain": [
       "'madrid'"
      ]
     },
     "execution_count": 90,
     "metadata": {},
     "output_type": "execute_result"
    }
   ],
   "source": [
    "location = df_jobs['LOCATION'].unique()[0].lower()\n",
    "location"
   ]
  },
  {
   "cell_type": "code",
   "execution_count": 91,
   "metadata": {},
   "outputs": [],
   "source": [
    "black_list = \\\n",
    "[location,\n",
    " 'empresa','work','skill',\n",
    "'parir','comer','timar',\n",
    " 'job','industry', 'type','employment', 'full','functions','seniority','level',\n",
    " 'company','experience','help','time','new','role','use','year','enable',\n",
    "]"
   ]
  },
  {
   "cell_type": "code",
   "execution_count": 92,
   "metadata": {},
   "outputs": [],
   "source": [
    "dict_corpus = {}\n",
    "dict_filtered_corpus = {}\n",
    "dict_filtered_tokens = {}\n",
    "dict_word_freq = {}\n",
    "dict_common_words_100 = {}\n",
    "\n",
    "dict_filtered_corpus_NN = {}\n",
    "dict_filtered_tokens_NN = {}\n",
    "dict_word_freq_NN = {}\n",
    "dict_common_words_100_NN = {}"
   ]
  },
  {
   "cell_type": "code",
   "execution_count": null,
   "metadata": {},
   "outputs": [],
   "source": []
  },
  {
   "cell_type": "code",
   "execution_count": null,
   "metadata": {},
   "outputs": [],
   "source": [
    "%%time\n",
    "for job in unique_jobs:\n",
    "    \n",
    "\n",
    "    job_key_s = job_key_generator(job)\n",
    "    \n",
    "    for lang in unique_languages:\n",
    "        \n",
    "        #CORPUS\n",
    "        filter_job  = df_jobs['JOB TITLE'] == job\n",
    "        filter_lang = df_jobs['Info Language'] == lang\n",
    "        corpus = df_jobs['Job Description'][filter_job & filter_lang].str.cat(sep=\" || \")\n",
    "        \n",
    "        dict_corpus.update( {f'{job_key_s}_{lang}' : corpus} )\n",
    "        \n",
    "        \n",
    "        #TOKENS\n",
    "        if   lang == 'en':\n",
    "            tokens = nlp_en(corpus)\n",
    "            STOP_WORDS = SW_en\n",
    "        elif lang == 'es':\n",
    "            tokens = nlp_es(corpus)\n",
    "            STOP_WORDS = SW_es\n",
    "        \n",
    "        filtered_corpus = \"\"\n",
    "        filtered_tokens = []\n",
    "        #NOUNS\n",
    "        filtered_corpus_NN = \"\"\n",
    "        filtered_tokens_NN = []\n",
    "\n",
    "        for word in tokens:\n",
    "            lemma = word.lemma_.lower().strip()\n",
    "            NN    = word.pos_.lower().strip()\n",
    "\n",
    "            if lemma not in STOP_WORDS and re.search('^[a-z]+$', lemma) and lemma not in black_list and len(lemma)>1:\n",
    "                    filtered_corpus += lemma + \" \"\n",
    "                    filtered_tokens.append(lemma)\n",
    "                    \n",
    "                    #NOUNS\n",
    "                    if word.pos_ == 'NOUN':\n",
    "                        filtered_corpus_NN += lemma + \" \"\n",
    "                        filtered_tokens_NN.append(lemma)\n",
    "        \n",
    "        dict_filtered_corpus.update( {f'{job_key_s}_{lang}': filtered_corpus} )\n",
    "        dict_filtered_tokens.update( {f'{job_key_s}_{lang}': filtered_tokens} )\n",
    "        \n",
    "        #NOUNS\n",
    "        dict_filtered_corpus_NN.update( {f'{job_key_s}_{lang}': filtered_corpus_NN} )\n",
    "        dict_filtered_tokens_NN.update( {f'{job_key_s}_{lang}': filtered_tokens_NN} )\n",
    "        \n",
    "        #100 COMMON WORDS\n",
    "        word_freq = Counter(filtered_tokens)\n",
    "        common_words_100 = word_freq.most_common(100)\n",
    "        dict_word_freq.update({f'{job_key_s}_{lang}': word_freq})\n",
    "        dict_common_words_100.update({f'{job_key_s}_{lang}': common_words_100})\n",
    "        \n",
    "        #NOUNS\n",
    "        word_freq_NN = Counter(filtered_tokens_NN)\n",
    "        common_words_100_NN = word_freq_NN.most_common(100) \n",
    "        dict_word_freq_NN.update({f'{job_key_s}_{lang}': word_freq_NN})\n",
    "        dict_common_words_100_NN.update({f'{job_key_s}_{lang}': common_words_100_NN})\n",
    "        \n",
    "        if platform.system() == 'Linux':\n",
    "            with open(f'../data/results/dict_word_freq{job_key_s}_{lang}.json', 'w') as fp:\n",
    "                json.dump(dict_word_freq, fp)\n",
    "        elif platform.system() == 'Windows':\n",
    "            with open(f'..\\\\data\\\\results\\\\dict_word_freq{job_key_s}_{lang}.json', 'w') as fp:\n",
    "                json.dump(dict_word_freq, fp)"
   ]
  },
  {
   "cell_type": "markdown",
   "metadata": {},
   "source": [
    "#### checking results >"
   ]
  },
  {
   "cell_type": "code",
   "execution_count": null,
   "metadata": {},
   "outputs": [],
   "source": [
    "job_lang = 'DS_es'"
   ]
  },
  {
   "cell_type": "code",
   "execution_count": null,
   "metadata": {},
   "outputs": [],
   "source": [
    "dict_corpus.keys()"
   ]
  },
  {
   "cell_type": "code",
   "execution_count": null,
   "metadata": {},
   "outputs": [],
   "source": [
    "dict_corpus.get(job_lang)[400:600]"
   ]
  },
  {
   "cell_type": "code",
   "execution_count": null,
   "metadata": {},
   "outputs": [],
   "source": [
    "dict_filtered_tokens.keys()"
   ]
  },
  {
   "cell_type": "code",
   "execution_count": null,
   "metadata": {},
   "outputs": [],
   "source": [
    "dict_filtered_tokens.get(job_lang)[600:610]"
   ]
  },
  {
   "cell_type": "code",
   "execution_count": null,
   "metadata": {},
   "outputs": [],
   "source": [
    "dict_word_freq.keys()"
   ]
  },
  {
   "cell_type": "code",
   "execution_count": null,
   "metadata": {},
   "outputs": [],
   "source": [
    "dict_common_words_100.keys()"
   ]
  },
  {
   "cell_type": "code",
   "execution_count": null,
   "metadata": {},
   "outputs": [],
   "source": [
    "dict_common_words_100.get(job_lang)[0:20]"
   ]
  },
  {
   "cell_type": "code",
   "execution_count": null,
   "metadata": {},
   "outputs": [],
   "source": [
    "dict_common_words_100_NN.get(job_lang)[0:40]"
   ]
  },
  {
   "cell_type": "markdown",
   "metadata": {},
   "source": [
    "## CLOUD "
   ]
  },
  {
   "cell_type": "code",
   "execution_count": null,
   "metadata": {},
   "outputs": [],
   "source": [
    "unique_jobs"
   ]
  },
  {
   "cell_type": "code",
   "execution_count": null,
   "metadata": {},
   "outputs": [],
   "source": [
    "unique_languages"
   ]
  },
  {
   "cell_type": "code",
   "execution_count": null,
   "metadata": {},
   "outputs": [],
   "source": [
    "#def cloud_word(unique_jobs):\n",
    "\n",
    "for j in unique_jobs:\n",
    "    \n",
    "\n",
    "    \"\"\"\n",
    "    if platform.system() == 'Linux':\n",
    "        try:\n",
    "            mask = np.array(Image.open(f\"../data/raw/{j}.png\"))\n",
    "        except:\n",
    "            mask = np.array(Image.open(f\"../data/raw/{j}.png\"))\n",
    "\n",
    "    elif platform.system() == 'Windows':\n",
    "        try:\n",
    "            mask = np.array(Image.open(f\"..\\\\data\\\\raw\\\\{j}.png\"))\n",
    "        except:\n",
    "            mask = np.array(Image.open(f\"..\\\\data\\\\raw\\\\{j}.png\"))\n",
    "\n",
    "    image_colors = ImageColorGenerator(mask)\n",
    "    \"\"\"\n",
    "\n",
    "    job_key_w = job_key_generator(j)\n",
    "    plot_rows = len(unique_languages)\n",
    "\n",
    "    fig , axes = plt.subplots(ncols=1, nrows=plot_rows)\n",
    "\n",
    "    ax = 0\n",
    "    for lang in unique_languages:\n",
    "        print(f'{job_key_w}_{lang}')\n",
    "        plt.axis(\"off\")\n",
    "        word_corpus = dict_filtered_corpus.get(f'{job_key_w}_{lang}')\n",
    "        wordcloud = \\\n",
    "        WordCloud(max_font_size=100, max_words=100, background_color=\"white\")\\\n",
    "                .generate(word_corpus)\n",
    "        #, mask=mask)\\\n",
    "        axes[ax].axis(\"off\")\n",
    "        axes[ax].set_title(f'{job_key_w}_{lang}')\n",
    "        axes[ax].imshow(wordcloud, interpolation='bilinear')\n",
    "\n",
    "        ax+=1\n",
    "    plt.axis(\"off\")  \n",
    "    fig.get_figure()\n",
    "    plt.show()\n",
    "\n",
    "\n",
    "    if platform.system() == 'Linux':\n",
    "        fig.savefig(f'../data/results/worldcloud_{job_key_w}_{location}.png', quality =95, dpi=300)\n",
    "        #wordcloud.to_file(f'../data/results/worldcloud_{job_lang}_{location}.png')\n",
    "\n",
    "    elif platform.system() == 'Windows':\n",
    "        fig.savefig(f'..\\\\data\\\\results\\\\worldcloud_{job_key_w}_{location}.png', quality =95, dpi=300)\n",
    "        #wordcloud.to_file(f'..\\\\data\\\\results\\\\worldcloud_{job_lang}_{location}.png')\n",
    "        \n",
    "    "
   ]
  },
  {
   "cell_type": "code",
   "execution_count": null,
   "metadata": {},
   "outputs": [],
   "source": [
    "#cloud_word(unique_jobs)"
   ]
  },
  {
   "cell_type": "code",
   "execution_count": null,
   "metadata": {},
   "outputs": [],
   "source": [
    "# Display the generated image:\n",
    "# plt.imshow(wordcloud, interpolation='bilinear')\n",
    "# plt.axis(\"off\")\n",
    "# plt.show()"
   ]
  },
  {
   "cell_type": "code",
   "execution_count": null,
   "metadata": {},
   "outputs": [],
   "source": []
  },
  {
   "cell_type": "markdown",
   "metadata": {},
   "source": [
    "## Using ML"
   ]
  },
  {
   "cell_type": "code",
   "execution_count": null,
   "metadata": {},
   "outputs": [],
   "source": []
  },
  {
   "cell_type": "code",
   "execution_count": null,
   "metadata": {},
   "outputs": [],
   "source": []
  },
  {
   "cell_type": "code",
   "execution_count": null,
   "metadata": {},
   "outputs": [],
   "source": []
  },
  {
   "cell_type": "code",
   "execution_count": null,
   "metadata": {},
   "outputs": [],
   "source": []
  },
  {
   "cell_type": "code",
   "execution_count": null,
   "metadata": {},
   "outputs": [],
   "source": []
  },
  {
   "cell_type": "code",
   "execution_count": null,
   "metadata": {},
   "outputs": [],
   "source": []
  },
  {
   "cell_type": "markdown",
   "metadata": {},
   "source": [
    "***\n",
    "# TESTING"
   ]
  },
  {
   "cell_type": "markdown",
   "metadata": {},
   "source": [
    "### Counting frequent words"
   ]
  },
  {
   "cell_type": "code",
   "execution_count": null,
   "metadata": {},
   "outputs": [],
   "source": [
    "c = re.findall('\\{(.*)\\}',str(dict_common_words.get(job_lang)))[0].split(',')\n",
    "c"
   ]
  },
  {
   "cell_type": "code",
   "execution_count": null,
   "metadata": {},
   "outputs": [],
   "source": [
    "word_freq = Counter(dict_filtered_tokens.get('DA_en'))\n",
    "type(word_freq)"
   ]
  },
  {
   "cell_type": "code",
   "execution_count": null,
   "metadata": {},
   "outputs": [],
   "source": [
    "common_words = word_freq.most_common\n",
    "type(common_words)"
   ]
  },
  {
   "cell_type": "code",
   "execution_count": null,
   "metadata": {},
   "outputs": [],
   "source": [
    "common_words"
   ]
  },
  {
   "cell_type": "markdown",
   "metadata": {},
   "source": [
    "### masks in CLOUD"
   ]
  },
  {
   "cell_type": "code",
   "execution_count": null,
   "metadata": {},
   "outputs": [],
   "source": [
    "if platform.system() == 'Linux':\n",
    "    mask = np.array(Image.open(\"../data/raw/plot.png\"))\n",
    "    \n",
    "elif platform.system() == 'Windows':\n",
    "    mask = np.array(Image.open(\"../data/raw/monitor.png\"))\n",
    "\n",
    "    \n",
    "image_colors = ImageColorGenerator(mask)"
   ]
  },
  {
   "cell_type": "code",
   "execution_count": null,
   "metadata": {},
   "outputs": [],
   "source": [
    "wordcloud = WordCloud(max_font_size=100, max_words=100, mode=\"RGBA\", background_color=\"white\", mask=mask)\\\n",
    "            .generate(dict_filtered_corpus.get(job_lang))"
   ]
  },
  {
   "cell_type": "code",
   "execution_count": null,
   "metadata": {},
   "outputs": [],
   "source": [
    "plt.figure(figsize=[7,7])\n",
    "plt.imshow(wordcloud.recolor(color_func=image_colors), interpolation='bilinear')\n",
    "plt.axis(\"off\")\n",
    "plt.show()"
   ]
  }
 ],
 "metadata": {
  "kernelspec": {
   "display_name": "Python [conda env:final_project]",
   "language": "python",
   "name": "conda-env-final_project-py"
  },
  "language_info": {
   "codemirror_mode": {
    "name": "ipython",
    "version": 3
   },
   "file_extension": ".py",
   "mimetype": "text/x-python",
   "name": "python",
   "nbconvert_exporter": "python",
   "pygments_lexer": "ipython3",
   "version": "3.7.6"
  }
 },
 "nbformat": 4,
 "nbformat_minor": 4
}
