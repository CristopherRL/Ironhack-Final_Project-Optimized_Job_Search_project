{
 "cells": [
  {
   "cell_type": "markdown",
   "metadata": {},
   "source": [
    "# Step 1: ACQUIRE DATA"
   ]
  },
  {
   "cell_type": "markdown",
   "metadata": {},
   "source": [
    "> ## SEARCH"
   ]
  },
  {
   "cell_type": "code",
   "execution_count": 87,
   "metadata": {},
   "outputs": [
    {
     "name": "stdin",
     "output_type": "stream",
     "text": [
      "PLEASE ENTER THE JOB THAT YOU'D LIKE TO SEARCH:  data scientist\n"
     ]
    }
   ],
   "source": [
    "job_title_input = input(\"PLEASE ENTER THE JOB THAT YOU'D LIKE TO SEARCH: \")"
   ]
  },
  {
   "cell_type": "code",
   "execution_count": 88,
   "metadata": {},
   "outputs": [
    {
     "name": "stdin",
     "output_type": "stream",
     "text": [
      "PLEASE ENTER THE LOCATION WHERE YOU'D LIKE TO SEARCH:  berlin\n"
     ]
    }
   ],
   "source": [
    "location_input = input(\"PLEASE ENTER THE LOCATION WHERE YOU'D LIKE TO SEARCH: \")"
   ]
  },
  {
   "cell_type": "code",
   "execution_count": 89,
   "metadata": {},
   "outputs": [
    {
     "data": {
      "text/plain": [
       "'data%20scientist'"
      ]
     },
     "execution_count": 89,
     "metadata": {},
     "output_type": "execute_result"
    }
   ],
   "source": [
    "job_title = job_title_input.lower().replace(' ', '%20')\n",
    "job_title "
   ]
  },
  {
   "cell_type": "code",
   "execution_count": 90,
   "metadata": {},
   "outputs": [
    {
     "data": {
      "text/plain": [
       "'Berlin'"
      ]
     },
     "execution_count": 90,
     "metadata": {},
     "output_type": "execute_result"
    }
   ],
   "source": [
    "location = location_input.capitalize()\n",
    "location"
   ]
  },
  {
   "cell_type": "code",
   "execution_count": 91,
   "metadata": {},
   "outputs": [],
   "source": [
    "# geoId=\"100994331\""
   ]
  },
  {
   "cell_type": "code",
   "execution_count": null,
   "metadata": {},
   "outputs": [],
   "source": []
  },
  {
   "cell_type": "markdown",
   "metadata": {},
   "source": [
    "> ## API"
   ]
  },
  {
   "cell_type": "code",
   "execution_count": 92,
   "metadata": {},
   "outputs": [],
   "source": [
    "# ??????????????????????"
   ]
  },
  {
   "cell_type": "code",
   "execution_count": null,
   "metadata": {},
   "outputs": [],
   "source": []
  },
  {
   "cell_type": "markdown",
   "metadata": {},
   "source": [
    "> ## WEB SCRAPPING"
   ]
  },
  {
   "cell_type": "markdown",
   "metadata": {},
   "source": [
    "### SELENIUM >"
   ]
  },
  {
   "cell_type": "code",
   "execution_count": 93,
   "metadata": {},
   "outputs": [],
   "source": [
    "from selenium import webdriver\n",
    "import os\n",
    "from dotenv import load_dotenv\n",
    "import time"
   ]
  },
  {
   "cell_type": "code",
   "execution_count": 94,
   "metadata": {},
   "outputs": [],
   "source": [
    "import requests\n",
    "from bs4 import BeautifulSoup"
   ]
  },
  {
   "cell_type": "markdown",
   "metadata": {},
   "source": [
    "#### DRIVER PATH:"
   ]
  },
  {
   "cell_type": "code",
   "execution_count": 95,
   "metadata": {},
   "outputs": [],
   "source": [
    "os.environ['PATH'] = f'{os.environ[\"PATH\"]}:/home/cristopherrl/Documents/program/selenium/drivers/'"
   ]
  },
  {
   "cell_type": "code",
   "execution_count": 112,
   "metadata": {},
   "outputs": [
    {
     "data": {
      "text/plain": [
       "'/home/cristopherrl/miniconda3/envs/final_project/bin:/home/cristopherrl/miniconda3/condabin:/home/cristopherrl/.local/bin:/usr/local/sbin:/usr/local/bin:/usr/sbin:/usr/bin:/sbin:/bin:/usr/games:/usr/local/games:/snap/bin:/home/cristopherrl/Documents/program/selenium/drivers/:/home/cristopherrl/Documents/program/selenium/drivers/:/home/cristopherrl/Documents/program/selenium/drivers/'"
      ]
     },
     "execution_count": 112,
     "metadata": {},
     "output_type": "execute_result"
    }
   ],
   "source": [
    "os.environ['PATH']"
   ]
  },
  {
   "cell_type": "code",
   "execution_count": null,
   "metadata": {},
   "outputs": [],
   "source": []
  },
  {
   "cell_type": "markdown",
   "metadata": {},
   "source": [
    "#### .ENV PATH:"
   ]
  },
  {
   "cell_type": "code",
   "execution_count": 97,
   "metadata": {},
   "outputs": [
    {
     "data": {
      "text/plain": [
       "True"
      ]
     },
     "execution_count": 97,
     "metadata": {},
     "output_type": "execute_result"
    }
   ],
   "source": [
    "load_dotenv(dotenv_path='../.env')"
   ]
  },
  {
   "cell_type": "markdown",
   "metadata": {},
   "source": [
    "#### SIGN IN:"
   ]
  },
  {
   "cell_type": "code",
   "execution_count": 113,
   "metadata": {},
   "outputs": [
    {
     "ename": "WebDriverException",
     "evalue": "Message: '' executable may have wrong permissions. Please see https://sites.google.com/a/chromium.org/chromedriver/home\n",
     "output_type": "error",
     "traceback": [
      "\u001b[0;31m---------------------------------------------------------------------------\u001b[0m",
      "\u001b[0;31mPermissionError\u001b[0m                           Traceback (most recent call last)",
      "\u001b[0;32m~/miniconda3/envs/final_project/lib/python3.7/site-packages/selenium/webdriver/common/service.py\u001b[0m in \u001b[0;36mstart\u001b[0;34m(self)\u001b[0m\n\u001b[1;32m     75\u001b[0m                                             \u001b[0mstderr\u001b[0m\u001b[0;34m=\u001b[0m\u001b[0mself\u001b[0m\u001b[0;34m.\u001b[0m\u001b[0mlog_file\u001b[0m\u001b[0;34m,\u001b[0m\u001b[0;34m\u001b[0m\u001b[0;34m\u001b[0m\u001b[0m\n\u001b[0;32m---> 76\u001b[0;31m                                             stdin=PIPE)\n\u001b[0m\u001b[1;32m     77\u001b[0m         \u001b[0;32mexcept\u001b[0m \u001b[0mTypeError\u001b[0m\u001b[0;34m:\u001b[0m\u001b[0;34m\u001b[0m\u001b[0;34m\u001b[0m\u001b[0m\n",
      "\u001b[0;32m~/miniconda3/envs/final_project/lib/python3.7/subprocess.py\u001b[0m in \u001b[0;36m__init__\u001b[0;34m(self, args, bufsize, executable, stdin, stdout, stderr, preexec_fn, close_fds, shell, cwd, env, universal_newlines, startupinfo, creationflags, restore_signals, start_new_session, pass_fds, encoding, errors, text)\u001b[0m\n\u001b[1;32m    799\u001b[0m                                 \u001b[0merrread\u001b[0m\u001b[0;34m,\u001b[0m \u001b[0merrwrite\u001b[0m\u001b[0;34m,\u001b[0m\u001b[0;34m\u001b[0m\u001b[0;34m\u001b[0m\u001b[0m\n\u001b[0;32m--> 800\u001b[0;31m                                 restore_signals, start_new_session)\n\u001b[0m\u001b[1;32m    801\u001b[0m         \u001b[0;32mexcept\u001b[0m\u001b[0;34m:\u001b[0m\u001b[0;34m\u001b[0m\u001b[0;34m\u001b[0m\u001b[0m\n",
      "\u001b[0;32m~/miniconda3/envs/final_project/lib/python3.7/subprocess.py\u001b[0m in \u001b[0;36m_execute_child\u001b[0;34m(self, args, executable, preexec_fn, close_fds, pass_fds, cwd, env, startupinfo, creationflags, shell, p2cread, p2cwrite, c2pread, c2pwrite, errread, errwrite, restore_signals, start_new_session)\u001b[0m\n\u001b[1;32m   1550\u001b[0m                             \u001b[0merr_msg\u001b[0m \u001b[0;34m+=\u001b[0m \u001b[0;34m': '\u001b[0m \u001b[0;34m+\u001b[0m \u001b[0mrepr\u001b[0m\u001b[0;34m(\u001b[0m\u001b[0merr_filename\u001b[0m\u001b[0;34m)\u001b[0m\u001b[0;34m\u001b[0m\u001b[0;34m\u001b[0m\u001b[0m\n\u001b[0;32m-> 1551\u001b[0;31m                     \u001b[0;32mraise\u001b[0m \u001b[0mchild_exception_type\u001b[0m\u001b[0;34m(\u001b[0m\u001b[0merrno_num\u001b[0m\u001b[0;34m,\u001b[0m \u001b[0merr_msg\u001b[0m\u001b[0;34m,\u001b[0m \u001b[0merr_filename\u001b[0m\u001b[0;34m)\u001b[0m\u001b[0;34m\u001b[0m\u001b[0;34m\u001b[0m\u001b[0m\n\u001b[0m\u001b[1;32m   1552\u001b[0m                 \u001b[0;32mraise\u001b[0m \u001b[0mchild_exception_type\u001b[0m\u001b[0;34m(\u001b[0m\u001b[0merr_msg\u001b[0m\u001b[0;34m)\u001b[0m\u001b[0;34m\u001b[0m\u001b[0;34m\u001b[0m\u001b[0m\n",
      "\u001b[0;31mPermissionError\u001b[0m: [Errno 13] Permission denied: '/home/cristopherrl/Documents/program/selenium/drivers/'",
      "\nDuring handling of the above exception, another exception occurred:\n",
      "\u001b[0;31mWebDriverException\u001b[0m                        Traceback (most recent call last)",
      "\u001b[0;32m<ipython-input-113-d575ff6ed989>\u001b[0m in \u001b[0;36m<module>\u001b[0;34m\u001b[0m\n\u001b[0;32m----> 1\u001b[0;31m \u001b[0mbrowser\u001b[0m \u001b[0;34m=\u001b[0m \u001b[0mwebdriver\u001b[0m\u001b[0;34m.\u001b[0m\u001b[0mChrome\u001b[0m\u001b[0;34m(\u001b[0m\u001b[0mexecutable_path\u001b[0m\u001b[0;34m=\u001b[0m\u001b[0;34m'/home/cristopherrl/Documents/program/selenium/drivers/'\u001b[0m\u001b[0;34m)\u001b[0m\u001b[0;34m\u001b[0m\u001b[0;34m\u001b[0m\u001b[0m\n\u001b[0m\u001b[1;32m      2\u001b[0m \u001b[0mURL\u001b[0m \u001b[0;34m=\u001b[0m \u001b[0;34m'https://www.linkedin.com/login'\u001b[0m\u001b[0;34m\u001b[0m\u001b[0;34m\u001b[0m\u001b[0m\n\u001b[1;32m      3\u001b[0m \u001b[0mbrowser\u001b[0m\u001b[0;34m.\u001b[0m\u001b[0mget\u001b[0m\u001b[0;34m(\u001b[0m\u001b[0mURL\u001b[0m\u001b[0;34m)\u001b[0m\u001b[0;34m\u001b[0m\u001b[0;34m\u001b[0m\u001b[0m\n",
      "\u001b[0;32m~/miniconda3/envs/final_project/lib/python3.7/site-packages/selenium/webdriver/chrome/webdriver.py\u001b[0m in \u001b[0;36m__init__\u001b[0;34m(self, executable_path, port, options, service_args, desired_capabilities, service_log_path, chrome_options, keep_alive)\u001b[0m\n\u001b[1;32m     71\u001b[0m             \u001b[0mservice_args\u001b[0m\u001b[0;34m=\u001b[0m\u001b[0mservice_args\u001b[0m\u001b[0;34m,\u001b[0m\u001b[0;34m\u001b[0m\u001b[0;34m\u001b[0m\u001b[0m\n\u001b[1;32m     72\u001b[0m             log_path=service_log_path)\n\u001b[0;32m---> 73\u001b[0;31m         \u001b[0mself\u001b[0m\u001b[0;34m.\u001b[0m\u001b[0mservice\u001b[0m\u001b[0;34m.\u001b[0m\u001b[0mstart\u001b[0m\u001b[0;34m(\u001b[0m\u001b[0;34m)\u001b[0m\u001b[0;34m\u001b[0m\u001b[0;34m\u001b[0m\u001b[0m\n\u001b[0m\u001b[1;32m     74\u001b[0m \u001b[0;34m\u001b[0m\u001b[0m\n\u001b[1;32m     75\u001b[0m         \u001b[0;32mtry\u001b[0m\u001b[0;34m:\u001b[0m\u001b[0;34m\u001b[0m\u001b[0;34m\u001b[0m\u001b[0m\n",
      "\u001b[0;32m~/miniconda3/envs/final_project/lib/python3.7/site-packages/selenium/webdriver/common/service.py\u001b[0m in \u001b[0;36mstart\u001b[0;34m(self)\u001b[0m\n\u001b[1;32m     86\u001b[0m                 raise WebDriverException(\n\u001b[1;32m     87\u001b[0m                     \"'%s' executable may have wrong permissions. %s\" % (\n\u001b[0;32m---> 88\u001b[0;31m                         os.path.basename(self.path), self.start_error_message)\n\u001b[0m\u001b[1;32m     89\u001b[0m                 )\n\u001b[1;32m     90\u001b[0m             \u001b[0;32melse\u001b[0m\u001b[0;34m:\u001b[0m\u001b[0;34m\u001b[0m\u001b[0;34m\u001b[0m\u001b[0m\n",
      "\u001b[0;31mWebDriverException\u001b[0m: Message: '' executable may have wrong permissions. Please see https://sites.google.com/a/chromium.org/chromedriver/home\n"
     ]
    }
   ],
   "source": [
    "browser = webdriver.Chrome()\n",
    "URL = 'https://www.linkedin.com/login'\n",
    "browser.get(URL)"
   ]
  },
  {
   "cell_type": "code",
   "execution_count": 99,
   "metadata": {},
   "outputs": [],
   "source": [
    "SECRET_USER = os.getenv(\"SESSION_KEY\")\n",
    "SECRET_PASS = os.getenv(\"SESSION_PASSWORD\")"
   ]
  },
  {
   "cell_type": "code",
   "execution_count": 100,
   "metadata": {},
   "outputs": [],
   "source": [
    "user     = browser.find_element_by_xpath('/html/body/div/main/div/form/div[1]/input')\n",
    "user.send_keys(SECRET_USER)\n",
    "time.sleep(1)"
   ]
  },
  {
   "cell_type": "code",
   "execution_count": 101,
   "metadata": {},
   "outputs": [],
   "source": [
    "password = browser.find_element_by_xpath('/html/body/div/main/div/form/div[2]/input')\n",
    "password.send_keys(SECRET_PASS)\n",
    "time.sleep(1)"
   ]
  },
  {
   "cell_type": "code",
   "execution_count": 102,
   "metadata": {},
   "outputs": [],
   "source": [
    "#sign_in  = browser.find_element_by_xpath('/html/body/div/main/div/form/div[3]/button')\n",
    "sign_in  = browser.find_element_by_class_name('login__form_action_container')\n",
    "sign_in.click()\n",
    "time.sleep(1)"
   ]
  },
  {
   "cell_type": "code",
   "execution_count": null,
   "metadata": {},
   "outputs": [],
   "source": []
  },
  {
   "cell_type": "markdown",
   "metadata": {},
   "source": [
    "#### JOB SEARCH :"
   ]
  },
  {
   "cell_type": "code",
   "execution_count": 103,
   "metadata": {},
   "outputs": [
    {
     "data": {
      "text/plain": [
       "'https://www.linkedin.com/feed/'"
      ]
     },
     "execution_count": 103,
     "metadata": {},
     "output_type": "execute_result"
    }
   ],
   "source": [
    "current_url = browser.current_url\n",
    "current_url"
   ]
  },
  {
   "cell_type": "code",
   "execution_count": 104,
   "metadata": {},
   "outputs": [
    {
     "data": {
      "text/plain": [
       "<bound method WebDriver.get_cookies of <selenium.webdriver.chrome.webdriver.WebDriver (session=\"9fd41474c91d0a4e3891ba084a38d9a8\")>>"
      ]
     },
     "execution_count": 104,
     "metadata": {},
     "output_type": "execute_result"
    }
   ],
   "source": [
    "browser.get_cookies"
   ]
  },
  {
   "cell_type": "code",
   "execution_count": 105,
   "metadata": {},
   "outputs": [],
   "source": [
    "#JOB_URL = f'https://www.linkedin.com/jobs/search/?f_LF=f_AL&keywords={job_title}&location={location}'\n",
    "JOB_URL = f'https://www.linkedin.com/jobs/search/?keywords={job_title}&location={location}&start=0'\n",
    "browser.get(JOB_URL)"
   ]
  },
  {
   "cell_type": "code",
   "execution_count": 106,
   "metadata": {},
   "outputs": [
    {
     "data": {
      "text/plain": [
       "<bound method WebDriver.get_cookies of <selenium.webdriver.chrome.webdriver.WebDriver (session=\"9fd41474c91d0a4e3891ba084a38d9a8\")>>"
      ]
     },
     "execution_count": 106,
     "metadata": {},
     "output_type": "execute_result"
    }
   ],
   "source": [
    "browser.get_cookies"
   ]
  },
  {
   "cell_type": "code",
   "execution_count": 107,
   "metadata": {},
   "outputs": [
    {
     "data": {
      "text/plain": [
       "[{'domain': '.linkedin.com',\n",
       "  'expiry': 1648767459,\n",
       "  'httpOnly': False,\n",
       "  'name': 'AMCV_14215E3D5995C57C0A495C55%40AdobeOrg',\n",
       "  'path': '/',\n",
       "  'secure': False,\n",
       "  'value': '-1303530583%7CMCIDTS%7C18353%7CMCMID%7C80103671983134964121910596110623671722%7CMCAAMLH-1586300259%7C6%7CMCAAMB-1586300259%7C6G1ynYcLPuiQxYZrsz_pkqfLG9yMXBpb2zX5dvJdYQJzPXImdj0y%7CMCOPTOUT-1585702649s%7CNONE%7CvVersion%7C3.3.0%7CMCCIDH%7C1642908695'},\n",
       " {'domain': '.linkedin.com',\n",
       "  'expiry': 1585696057,\n",
       "  'httpOnly': False,\n",
       "  'name': '_gat',\n",
       "  'path': '/',\n",
       "  'secure': False,\n",
       "  'value': '1'},\n",
       " {'domain': '.linkedin.com',\n",
       "  'expiry': 1585760557.461005,\n",
       "  'httpOnly': False,\n",
       "  'name': 'lidc',\n",
       "  'path': '/',\n",
       "  'sameSite': 'None',\n",
       "  'secure': True,\n",
       "  'value': '\"b=VB73:g=2467:u=583:i=1585695452:t=1585760557:s=AQHYMEQYV9ZHP70ERyiWmSgbIptF87aF\"'},\n",
       " {'domain': '.linkedin.com',\n",
       "  'httpOnly': False,\n",
       "  'name': 'lang',\n",
       "  'path': '/',\n",
       "  'sameSite': 'None',\n",
       "  'secure': True,\n",
       "  'value': 'v=2&lang=en-us'},\n",
       " {'domain': '.www.linkedin.com',\n",
       "  'expiry': 1593471452.949416,\n",
       "  'httpOnly': False,\n",
       "  'name': 'sl',\n",
       "  'path': '/',\n",
       "  'sameSite': 'None',\n",
       "  'secure': True,\n",
       "  'value': 'v=1&G0Gn4'},\n",
       " {'domain': '.www.linkedin.com',\n",
       "  'expiry': 1617231452.949395,\n",
       "  'httpOnly': True,\n",
       "  'name': 'li_at',\n",
       "  'path': '/',\n",
       "  'sameSite': 'None',\n",
       "  'secure': True,\n",
       "  'value': 'AQEDAQsPvz0BM-g-AAABcTLQbhMAAAFxVtzyE1YAA-cN9Bi4v37k2RP5_VSXgLQjCx4hxdifDFG0_bGzcN9KbSS_Xldtj3b7TOh495JEJTFicPlumSR8SwlRiVwmWb8DXp2gjA96f8C_0m4vfjysu-l6'},\n",
       " {'domain': '.www.linkedin.com',\n",
       "  'expiry': 1648809299.944232,\n",
       "  'httpOnly': True,\n",
       "  'name': 'bscookie',\n",
       "  'path': '/',\n",
       "  'sameSite': 'None',\n",
       "  'secure': True,\n",
       "  'value': '\"v=1&202003312257278033c012-b440-4583-8127-eb25d485ca26AQHfbu84Zr-IMyLepVKCsVTrDeKz-2Dz\"'},\n",
       " {'domain': '.linkedin.com',\n",
       "  'expiry': 1593471452.949364,\n",
       "  'httpOnly': False,\n",
       "  'name': 'liap',\n",
       "  'path': '/',\n",
       "  'sameSite': 'None',\n",
       "  'secure': True,\n",
       "  'value': 'true'},\n",
       " {'domain': '.linkedin.com',\n",
       "  'expiry': 1617231447.944268,\n",
       "  'httpOnly': False,\n",
       "  'name': 'lissc',\n",
       "  'path': '/',\n",
       "  'sameSite': 'None',\n",
       "  'secure': True,\n",
       "  'value': '1'},\n",
       " {'domain': '.linkedin.com',\n",
       "  'expiry': 1588287459,\n",
       "  'httpOnly': False,\n",
       "  'name': 'aam_uuid',\n",
       "  'path': '/',\n",
       "  'secure': False,\n",
       "  'value': '80630329264796007911895138267154970209'},\n",
       " {'domain': '.www.linkedin.com',\n",
       "  'expiry': 1593471452.94948,\n",
       "  'httpOnly': False,\n",
       "  'name': 'JSESSIONID',\n",
       "  'path': '/',\n",
       "  'sameSite': 'None',\n",
       "  'secure': True,\n",
       "  'value': '\"ajax:2066673446423755471\"'},\n",
       " {'domain': '.linkedin.com',\n",
       "  'httpOnly': False,\n",
       "  'name': 'AMCVS_14215E3D5995C57C0A495C55%40AdobeOrg',\n",
       "  'path': '/',\n",
       "  'secure': False,\n",
       "  'value': '1'},\n",
       " {'domain': '.linkedin.com',\n",
       "  'expiry': 1648767457,\n",
       "  'httpOnly': False,\n",
       "  'name': '_ga',\n",
       "  'path': '/',\n",
       "  'secure': False,\n",
       "  'value': 'GA1.2.2039085393.1585695458'},\n",
       " {'domain': '.linkedin.com',\n",
       "  'expiry': 1648809299.944169,\n",
       "  'httpOnly': False,\n",
       "  'name': 'bcookie',\n",
       "  'path': '/',\n",
       "  'sameSite': 'None',\n",
       "  'secure': True,\n",
       "  'value': '\"v=2&554f2fb0-5870-4d0d-8921-5bf4d9eb2b54\"'}]"
      ]
     },
     "execution_count": 107,
     "metadata": {},
     "output_type": "execute_result"
    }
   ],
   "source": [
    "browser.get_cookies()"
   ]
  },
  {
   "cell_type": "code",
   "execution_count": null,
   "metadata": {},
   "outputs": [],
   "source": []
  },
  {
   "cell_type": "markdown",
   "metadata": {},
   "source": [
    "#### GETTING JOB POSTS :"
   ]
  },
  {
   "cell_type": "code",
   "execution_count": 61,
   "metadata": {},
   "outputs": [
    {
     "data": {
      "text/plain": [
       "'https://www.linkedin.com/jobs/search/?keywords=data%20analyst&location=Berlin&start=0'"
      ]
     },
     "execution_count": 61,
     "metadata": {},
     "output_type": "execute_result"
    }
   ],
   "source": [
    "# current url\n",
    "browser.current_url"
   ]
  },
  {
   "cell_type": "code",
   "execution_count": 62,
   "metadata": {},
   "outputs": [
    {
     "data": {
      "text/plain": [
       "7"
      ]
     },
     "execution_count": 62,
     "metadata": {},
     "output_type": "execute_result"
    }
   ],
   "source": [
    "#number of pages with job posts\n",
    "pages = \\\n",
    "browser.find_element_by_xpath\\\n",
    "('/html/body/div[5]/div[4]/div[3]/section[1]/div[2]/div/div/div[1]/div[2]/div/section/artdeco-pagination/ul')\n",
    "n_pages = int(pages.text.split('\\n')[-1])\n",
    "n_pages"
   ]
  },
  {
   "cell_type": "code",
   "execution_count": 63,
   "metadata": {},
   "outputs": [],
   "source": [
    "tabla_grande = \\\n",
    "browser.find_element_by_xpath(\"/html/body/div[5]/div[4]/div[3]/section[1]/div[2]/div/div\")\n",
    "#                               html/body/div[5]/div[4]/div[3]/section[1]/div[2]\n",
    "#                               /html/body/div[5]/div[4]/div[3]/section[1]/div[2]/div/div/div[1]"
   ]
  },
  {
   "cell_type": "code",
   "execution_count": 64,
   "metadata": {},
   "outputs": [
    {
     "data": {
      "text/plain": [
       "'Data analyst in Berlin, Berlin, Germany\\n163 results\\nJob alert\\nJob Alert Off\\nManage alerts\\nData Analyst Promoted\\nHarnham\\nBerlin, Berlin, Germany\\n1 connection works here\\n1 day ago\\nEasy Apply\\nData Analyst Rental (w/m/d) Promoted\\nArjo\\nKleinmachnow, DE\\n2 days ago\\n7 applicants\\nPricing Data Analyst Promoted\\nZalando SE\\nBerlin, DE\\n2 alumni work here\\n5 days ago\\n17 applicants\\nData/Business Analyst (m/f/d)\\nSimplifa GmbH\\nBerlin, DE\\nYour profile matches this job\\n3 days ago\\n8 applicants\\n(Junior) Data Analyst *\\nmyToys.de G.m.b.H\\nBerlin, DE\\nYour profile matches this job\\n7 hours ago\\nJunior Data Analyst (m/w/d)\\nThe Retail Factory Pty Ltd\\nBerlin, DE\\nYour profile matches this job\\n3 days ago\\n9 applicants\\nJunior Data Analyst (m/w/d)\\ndatapine\\nBerlin, DE\\nYour profile matches this job\\n1 month ago\\n8 applicants\\n1\\n2\\n3\\n4\\n5\\n6\\n7\\nData Analyst\\nCompany Name\\nHarnham\\nCompany Location\\nBerlin, Berlin, Germany\\nPosted Date\\nPosted 1 day ago\\nNumber of views\\n438 views\\nSave\\nSave Data Analyst at Harnham\\nEasy Apply\\nSee how you compare to 152 applicants. Reactivate Premium\\nJob\\n6/10 skills match\\n152 applicants\\nCompany\\n51-200 employees\\nStaffing & Recruiting\\nConnections\\n1 connection\\nPosted by\\nDominik Probst 1st\\nRecruitment Consultant- Marketing & Insight at Harnham\\nMessage\\nDATA ANALYST - REMOTE WORKING (M / W / D)\\n\\nBERLIN, CURRENTLY- HOME WORKING / REMOTE\\n\\n65,000 – 75,000 + BONUS + BENEFIT\\n\\nAs a leading manufacturer of home appliances, our client is the number one in improving people’s quality of life by thinking in solutions. With their global brands as well as their local brands, they explore innovative technologies from voice recognition to artificial intelligence. As they utilize these to create new user experiences, they think, prototype, build – and keep on learning. Join them now and give your career a home and focus on Marketing data.\\n  THE ROLE\\n\\nYou will be working in an exciting, international environment and contributing personally to the company’s success. Challenging tasks and projects await you, such as:\\n\\nBig data analysis to provide data-based insights into processes for worldwide internal audits\\nManaging end to end data analysed projects (conceptual design, data generation, analysis, reporting, consulting auditors)\\nAssessing opportunities for additional usage of data-driven insights\\nDeveloping new fields of data analytics\\n\\n  YOUR SKILLS AND EXPERIENCE\\n\\nMinimum of two years of experience in the field\\nGood understanding of applying advanced big data analysis in business contexts\\nAdvanced knowledge in SQL, as well as big data/ data mining tools R, Python and visualisation tools like Tableau or Power Bi\\nFluent written and spoken English and at least basic German, fast learner, international team player\\n\\n     THE BENEFITS\\n\\nflexible working hours schemes and diverse career opportunities\\nindividual development programs and international perspectives\\ncompany pension scheme and modern healthcare services\\n\\nHOW TO APPLY\\n\\n\\nPlease register your interest by sending your CV to Dominik Probst via the Apply link on this page.\\n\\n\\nPlease note that our cloent is currently running a fully remote interview process, and able to on-board and hire remotley as well.\\n\\nKey Words: Analytics, Customer Analytics, Retail, eCommerce, Marketing Analytics, Customer Targeting, Target Market, Campaign Analytics, Insights, Web Analytics, SQL, R, Python, Google Analytics, Customer Segmentation, Performance Review, Value Creation, remote,flexible\\nSeniority Level\\nMid-Senior level\\nIndustry\\nInformation Technology & Services Management Consulting Information Services\\nEmployment Type\\nFull-time\\nJob Functions\\nMarketing Analyst Consulting\\nHow you match\\nCriteria provided by job poster\\nSkills\\nMatch\\nEnglish\\nMatch\\nSQL\\nMatch\\nAnalytical Skills\\nMatch\\nMicrosoft Power BI\\nMatch\\nData Analysis\\nMatch\\nData Analytics\\nNo match\\nCustomer Analysis\\nNo match\\nBig Data\\nNo match\\nBig Data Analytics\\nNo match\\nMarketing Analytics'"
      ]
     },
     "execution_count": 64,
     "metadata": {},
     "output_type": "execute_result"
    }
   ],
   "source": [
    "tabla_grande.text"
   ]
  },
  {
   "cell_type": "code",
   "execution_count": null,
   "metadata": {},
   "outputs": [],
   "source": []
  },
  {
   "cell_type": "code",
   "execution_count": 65,
   "metadata": {},
   "outputs": [
    {
     "data": {
      "text/plain": [
       "'https://www.linkedin.com/jobs/search/?keywords=data%20analyst&location=Berlin&start=0'"
      ]
     },
     "execution_count": 65,
     "metadata": {},
     "output_type": "execute_result"
    }
   ],
   "source": [
    "# current url\n",
    "browser.current_url"
   ]
  },
  {
   "cell_type": "code",
   "execution_count": 66,
   "metadata": {},
   "outputs": [],
   "source": [
    "tabla_izq = \\\n",
    "browser.find_element_by_xpath(\"/html/body/div[5]/div[4]/div[3]/section[1]/div[2]/div/div/div[1]\")\n",
    "#browser.find_element_by_class_name(\"jobs-search-two-pane__results display-flex\")\n",
    "#                              /html/body/div[5]/div[4]/div[3]/section[1]/div[2]/div/div/div[1]\n",
    "time.sleep(0.5)"
   ]
  },
  {
   "cell_type": "code",
   "execution_count": 67,
   "metadata": {},
   "outputs": [
    {
     "data": {
      "text/plain": [
       "1"
      ]
     },
     "execution_count": 67,
     "metadata": {},
     "output_type": "execute_result"
    }
   ],
   "source": [
    "current_p = int(browser.current_url.split('&start=')[1])//25+1\n",
    "current_p"
   ]
  },
  {
   "cell_type": "code",
   "execution_count": 68,
   "metadata": {},
   "outputs": [],
   "source": [
    "#are_you = browser.find_element_by_class_name(\"jobs-search-feedback-card\")\n",
    "#are_you.is_enabled()"
   ]
  },
  {
   "cell_type": "code",
   "execution_count": 69,
   "metadata": {},
   "outputs": [
    {
     "name": "stdout",
     "output_type": "stream",
     "text": [
      "7\n"
     ]
    },
    {
     "data": {
      "text/plain": [
       "['Data Analyst Promoted\\nHarnham\\nBerlin, Berlin, Germany\\n1 connection works here\\n1 day ',\n",
       " '\\nEasy Apply\\nData Analyst Rental (w/m/d) Promoted\\nArjo\\nKleinmachnow, DE\\n2 days ',\n",
       " '\\n7 applicants\\nPricing Data Analyst Promoted\\nZalando SE\\nBerlin, DE\\n2 alumni work here\\n5 days ',\n",
       " '\\n17 applicants\\nData/Business Analyst (m/f/d)\\nSimplifa GmbH\\nBerlin, DE\\nYour profile matches this job\\n3 days ',\n",
       " '\\n8 applicants\\n(Junior) Data Analyst *\\nmyToys.de G.m.b.H\\nBerlin, DE\\nYour profile matches this job\\n7 hours ',\n",
       " '\\nJunior Data Analyst (m/w/d)\\nThe Retail Factory Pty Ltd\\nBerlin, DE\\nYour profile matches this job\\n3 days ',\n",
       " '\\n9 applicants\\nJunior Data Analyst (m/w/d)\\ndatapine\\nBerlin, DE\\nYour profile matches this job\\n1 month ',\n",
       " '\\n8 applicants\\n1\\n2\\n3\\n4\\n5\\n6\\n7']"
      ]
     },
     "execution_count": 69,
     "metadata": {},
     "output_type": "execute_result"
    }
   ],
   "source": [
    "#for last page there is another logic (not 'Close')\n",
    "if current_p < n_pages:\n",
    "    job_list = tabla_izq.text.split('Manage alerts\\n')[1].split('Close\\n')[0].split('ago')\n",
    "else:\n",
    "    job_list = \\\n",
    "    tabla_izq.text.split('Manage alerts\\n')[1].split('Close\\n')[0].split('Create alert for this search\\n')[0].split('ago')\n",
    "\n",
    "n_job_list = len(job_list)-1\n",
    "print(n_job_list) \n",
    "job_list "
   ]
  },
  {
   "cell_type": "code",
   "execution_count": 70,
   "metadata": {},
   "outputs": [
    {
     "name": "stdout",
     "output_type": "stream",
     "text": [
      "1779370384\n"
     ]
    },
    {
     "data": {
      "text/plain": [
       "['Data Analyst Rental (w/m/d)',\n",
       " 'Company Name',\n",
       " 'Arjo',\n",
       " 'Company Location',\n",
       " 'Kleinmachnow, DE',\n",
       " 'Posted Date',\n",
       " 'Posted 2 days ago',\n",
       " 'Number of views',\n",
       " '131 views',\n",
       " 'Share',\n",
       " 'Show more options',\n",
       " 'Save',\n",
       " 'Save Data Analyst Rental (w/m/d) at Arjo',\n",
       " 'Apply',\n",
       " 'Job',\n",
       " '8 applicants\\nEntry level\\nCompany\\n5,001-10,000 employees\\nMedical Device\\nConnections\\nYou have 0 connections at this company.\\nAdd >\\n\\nWith people in mind\\n\\nArjo ist ein global tätiges Unternehmen mit schwedischen Wurzeln, bei dem ein erfolgreiches Umfeld durch schwedische Kultur und Management geprägt ist.\\n\\nAls Unternehmen, welches Menschen in den Mittelpunkt allen Handelns stellt, sind alle unsere Mitarbeiter Partner bei unserer Mission, Leben zu verbessern.\\n\\nEntdecken Sie herausfordernde und erfüllende Aufgaben in einer Vielzahl von Bereichen innerhalb unseres globalen Netzwerks.\\n\\nZur Verstärkung unseres Rental Service Teams suchen wir ab soforteinen Data Analyst Rental (w/m/d).\\n\\nWas Sie erwartet:\\n\\nAls Data Analyst Rental (w/m/d)werden Sie zur wertvollen Unterstützung für unser Rental Service Team Deutschland.\\n\\nPlanung, Vorbereitung und Durchführung von Reports und Auswertungen\\nAd-hoc-Analysen und Aufbereitung von Kennzahlen\\nEntwicklung und Bereitstellung von Dashboards und Reports\\nBudgetüberwachung\\nErstellen der Rental Managementberichtserstattung\\nErfolgsanalyse der Mietprodukte sowie die Maßnahmenbewertung entsprechend der KPI-Ziele\\nUnterstützung bei der Budget- und Forecastplanung\\nUnterstützung bei Inventuren der Mietsysteme\\nMitarbeit bei Sonderaufgaben (Bestandsanalysen, Ad-hoc Aufgaben)\\n\\nDas zeichnet Sie aus:\\n\\nabgeschlossenes betriebswirtschaftliches Studium idealerweise mit Schwerpunkt Supply Chain, Controlling oder vergleichbare Ausbildung\\nErste Berufserfahrung (mind. 2 Jahre) in vergleichbarer Position\\nExzellente Kenntnisse in Excel und gute Kenntnisse in den gängigen MS-Office Programmen\\nSehr gute analytische und konzeptionelle Fähigkeiten\\nSelbständiger und verantwortungsbewusster Arbeitsstil\\nKommunikations- und Teamfähigkeit sowie Durchsetzungsvermögen\\n\\nWas wir ihnen bieten:\\n\\nEine interessante und abwechslungsbereiche Tätigkeit sowie ein dynamisches, offenes Arbeitsklima\\nEine umfassende Einarbeitung in Ihren Aufgabenbereich und unserer Produkte\\nEine leistungsgerechte Vergütung, Weiterbildungsmöglichkeiten sowie modernste Arbeitsmittel\\n\\nAlles was wir tun – wir tun es „with people in mind“.\\n\\nUnsere Motivation liegt in den Bedürfnissen und den Herausforderungen, denen unsere Kunden gegenüberstehen.\\n\\nUnsere Antriebskraft sind unsere Mitarbeiter, die nach den bestmöglichen Lösungen für unsere Kunden suchen.\\n\\nAuf diejenigen die mit Leidenschaft die Ergebnisse anderer verbessern möchten wartet eine erfüllende Karriere bei Arjo.\\n\\nWir freuen uns auf Ihre Bewerbung!\\nSeniority Level\\nEntry level\\nIndustry\\nMedical Device Hospital & Health Care Business Supplies & Equipment\\nEmployment Type\\nFull-time\\nJob Functions\\nDistribution Supply Chain Customer Service']"
      ]
     },
     "execution_count": 70,
     "metadata": {},
     "output_type": "execute_result"
    }
   ],
   "source": [
    "# TESTING\n",
    "n = 2 # max 25\n",
    "job_post = \\\n",
    "browser.find_element_by_xpath\\\n",
    "(f'/html/body/div[5]/div[4]/div[3]/section[1]/div[2]/div/div/div[1]/div[2]/div/ul/li[{n}]')\n",
    "job_post.click()\n",
    "currentJobId = browser.current_url.split('?')[1].split('&')[0].split('=')[1]\n",
    "print(currentJobId)\n",
    "\n",
    "job_post_right = \\\n",
    "browser.find_element_by_xpath\\\n",
    "('/html/body/div[5]/div[4]/div[3]/section[1]/div[2]/div/div/div[2]')\n",
    "job_post_right.text.split('\\n',15)\n",
    "#print(f'{job_post_right.text.split('\\n',15)}')"
   ]
  },
  {
   "cell_type": "code",
   "execution_count": 71,
   "metadata": {},
   "outputs": [
    {
     "data": {
      "text/plain": [
       "[0, 25, 50, 75, 100, 125, 150]"
      ]
     },
     "execution_count": 71,
     "metadata": {},
     "output_type": "execute_result"
    }
   ],
   "source": [
    "list(range(0,n_pages*25,25))"
   ]
  },
  {
   "cell_type": "code",
   "execution_count": 85,
   "metadata": {},
   "outputs": [
    {
     "data": {
      "text/plain": [
       "<bound method WebDriver.get_log of <selenium.webdriver.chrome.webdriver.WebDriver (session=\"a254fb1d240bf13a317cf1726a0956ef\")>>"
      ]
     },
     "execution_count": 85,
     "metadata": {},
     "output_type": "execute_result"
    }
   ],
   "source": [
    "browser.get_log"
   ]
  },
  {
   "cell_type": "code",
   "execution_count": 86,
   "metadata": {},
   "outputs": [
    {
     "ename": "NoSuchElementException",
     "evalue": "Message: no such element: Unable to locate element: {\"method\":\"css selector\",\"selector\":\".jobs-search-results jobs-search-results--is-two-pane\"}\n  (Session info: chrome=80.0.3987.132)\n",
     "output_type": "error",
     "traceback": [
      "\u001b[0;31m---------------------------------------------------------------------------\u001b[0m",
      "\u001b[0;31mNoSuchElementException\u001b[0m                    Traceback (most recent call last)",
      "\u001b[0;32m<ipython-input-86-114ab16a2277>\u001b[0m in \u001b[0;36m<module>\u001b[0;34m\u001b[0m\n\u001b[0;32m----> 1\u001b[0;31m \u001b[0mizq\u001b[0m \u001b[0;34m=\u001b[0m \u001b[0mbrowser\u001b[0m\u001b[0;34m.\u001b[0m\u001b[0mfind_element_by_class_name\u001b[0m\u001b[0;34m(\u001b[0m\u001b[0;34m'jobs-search-results jobs-search-results--is-two-pane'\u001b[0m\u001b[0;34m)\u001b[0m\u001b[0;34m\u001b[0m\u001b[0;34m\u001b[0m\u001b[0m\n\u001b[0m\u001b[1;32m      2\u001b[0m \u001b[0mizq\u001b[0m\u001b[0;34m.\u001b[0m\u001b[0mtext\u001b[0m\u001b[0;34m(\u001b[0m\u001b[0;34m)\u001b[0m\u001b[0;34m\u001b[0m\u001b[0;34m\u001b[0m\u001b[0m\n",
      "\u001b[0;32m~/miniconda3/envs/final_project/lib/python3.7/site-packages/selenium/webdriver/remote/webdriver.py\u001b[0m in \u001b[0;36mfind_element_by_class_name\u001b[0;34m(self, name)\u001b[0m\n\u001b[1;32m    562\u001b[0m             \u001b[0melement\u001b[0m \u001b[0;34m=\u001b[0m \u001b[0mdriver\u001b[0m\u001b[0;34m.\u001b[0m\u001b[0mfind_element_by_class_name\u001b[0m\u001b[0;34m(\u001b[0m\u001b[0;34m'foo'\u001b[0m\u001b[0;34m)\u001b[0m\u001b[0;34m\u001b[0m\u001b[0;34m\u001b[0m\u001b[0m\n\u001b[1;32m    563\u001b[0m         \"\"\"\n\u001b[0;32m--> 564\u001b[0;31m         \u001b[0;32mreturn\u001b[0m \u001b[0mself\u001b[0m\u001b[0;34m.\u001b[0m\u001b[0mfind_element\u001b[0m\u001b[0;34m(\u001b[0m\u001b[0mby\u001b[0m\u001b[0;34m=\u001b[0m\u001b[0mBy\u001b[0m\u001b[0;34m.\u001b[0m\u001b[0mCLASS_NAME\u001b[0m\u001b[0;34m,\u001b[0m \u001b[0mvalue\u001b[0m\u001b[0;34m=\u001b[0m\u001b[0mname\u001b[0m\u001b[0;34m)\u001b[0m\u001b[0;34m\u001b[0m\u001b[0;34m\u001b[0m\u001b[0m\n\u001b[0m\u001b[1;32m    565\u001b[0m \u001b[0;34m\u001b[0m\u001b[0m\n\u001b[1;32m    566\u001b[0m     \u001b[0;32mdef\u001b[0m \u001b[0mfind_elements_by_class_name\u001b[0m\u001b[0;34m(\u001b[0m\u001b[0mself\u001b[0m\u001b[0;34m,\u001b[0m \u001b[0mname\u001b[0m\u001b[0;34m)\u001b[0m\u001b[0;34m:\u001b[0m\u001b[0;34m\u001b[0m\u001b[0;34m\u001b[0m\u001b[0m\n",
      "\u001b[0;32m~/miniconda3/envs/final_project/lib/python3.7/site-packages/selenium/webdriver/remote/webdriver.py\u001b[0m in \u001b[0;36mfind_element\u001b[0;34m(self, by, value)\u001b[0m\n\u001b[1;32m    976\u001b[0m         return self.execute(Command.FIND_ELEMENT, {\n\u001b[1;32m    977\u001b[0m             \u001b[0;34m'using'\u001b[0m\u001b[0;34m:\u001b[0m \u001b[0mby\u001b[0m\u001b[0;34m,\u001b[0m\u001b[0;34m\u001b[0m\u001b[0;34m\u001b[0m\u001b[0m\n\u001b[0;32m--> 978\u001b[0;31m             'value': value})['value']\n\u001b[0m\u001b[1;32m    979\u001b[0m \u001b[0;34m\u001b[0m\u001b[0m\n\u001b[1;32m    980\u001b[0m     \u001b[0;32mdef\u001b[0m \u001b[0mfind_elements\u001b[0m\u001b[0;34m(\u001b[0m\u001b[0mself\u001b[0m\u001b[0;34m,\u001b[0m \u001b[0mby\u001b[0m\u001b[0;34m=\u001b[0m\u001b[0mBy\u001b[0m\u001b[0;34m.\u001b[0m\u001b[0mID\u001b[0m\u001b[0;34m,\u001b[0m \u001b[0mvalue\u001b[0m\u001b[0;34m=\u001b[0m\u001b[0;32mNone\u001b[0m\u001b[0;34m)\u001b[0m\u001b[0;34m:\u001b[0m\u001b[0;34m\u001b[0m\u001b[0;34m\u001b[0m\u001b[0m\n",
      "\u001b[0;32m~/miniconda3/envs/final_project/lib/python3.7/site-packages/selenium/webdriver/remote/webdriver.py\u001b[0m in \u001b[0;36mexecute\u001b[0;34m(self, driver_command, params)\u001b[0m\n\u001b[1;32m    319\u001b[0m         \u001b[0mresponse\u001b[0m \u001b[0;34m=\u001b[0m \u001b[0mself\u001b[0m\u001b[0;34m.\u001b[0m\u001b[0mcommand_executor\u001b[0m\u001b[0;34m.\u001b[0m\u001b[0mexecute\u001b[0m\u001b[0;34m(\u001b[0m\u001b[0mdriver_command\u001b[0m\u001b[0;34m,\u001b[0m \u001b[0mparams\u001b[0m\u001b[0;34m)\u001b[0m\u001b[0;34m\u001b[0m\u001b[0;34m\u001b[0m\u001b[0m\n\u001b[1;32m    320\u001b[0m         \u001b[0;32mif\u001b[0m \u001b[0mresponse\u001b[0m\u001b[0;34m:\u001b[0m\u001b[0;34m\u001b[0m\u001b[0;34m\u001b[0m\u001b[0m\n\u001b[0;32m--> 321\u001b[0;31m             \u001b[0mself\u001b[0m\u001b[0;34m.\u001b[0m\u001b[0merror_handler\u001b[0m\u001b[0;34m.\u001b[0m\u001b[0mcheck_response\u001b[0m\u001b[0;34m(\u001b[0m\u001b[0mresponse\u001b[0m\u001b[0;34m)\u001b[0m\u001b[0;34m\u001b[0m\u001b[0;34m\u001b[0m\u001b[0m\n\u001b[0m\u001b[1;32m    322\u001b[0m             response['value'] = self._unwrap_value(\n\u001b[1;32m    323\u001b[0m                 response.get('value', None))\n",
      "\u001b[0;32m~/miniconda3/envs/final_project/lib/python3.7/site-packages/selenium/webdriver/remote/errorhandler.py\u001b[0m in \u001b[0;36mcheck_response\u001b[0;34m(self, response)\u001b[0m\n\u001b[1;32m    240\u001b[0m                 \u001b[0malert_text\u001b[0m \u001b[0;34m=\u001b[0m \u001b[0mvalue\u001b[0m\u001b[0;34m[\u001b[0m\u001b[0;34m'alert'\u001b[0m\u001b[0;34m]\u001b[0m\u001b[0;34m.\u001b[0m\u001b[0mget\u001b[0m\u001b[0;34m(\u001b[0m\u001b[0;34m'text'\u001b[0m\u001b[0;34m)\u001b[0m\u001b[0;34m\u001b[0m\u001b[0;34m\u001b[0m\u001b[0m\n\u001b[1;32m    241\u001b[0m             \u001b[0;32mraise\u001b[0m \u001b[0mexception_class\u001b[0m\u001b[0;34m(\u001b[0m\u001b[0mmessage\u001b[0m\u001b[0;34m,\u001b[0m \u001b[0mscreen\u001b[0m\u001b[0;34m,\u001b[0m \u001b[0mstacktrace\u001b[0m\u001b[0;34m,\u001b[0m \u001b[0malert_text\u001b[0m\u001b[0;34m)\u001b[0m\u001b[0;34m\u001b[0m\u001b[0;34m\u001b[0m\u001b[0m\n\u001b[0;32m--> 242\u001b[0;31m         \u001b[0;32mraise\u001b[0m \u001b[0mexception_class\u001b[0m\u001b[0;34m(\u001b[0m\u001b[0mmessage\u001b[0m\u001b[0;34m,\u001b[0m \u001b[0mscreen\u001b[0m\u001b[0;34m,\u001b[0m \u001b[0mstacktrace\u001b[0m\u001b[0;34m)\u001b[0m\u001b[0;34m\u001b[0m\u001b[0;34m\u001b[0m\u001b[0m\n\u001b[0m\u001b[1;32m    243\u001b[0m \u001b[0;34m\u001b[0m\u001b[0m\n\u001b[1;32m    244\u001b[0m     \u001b[0;32mdef\u001b[0m \u001b[0m_value_or_default\u001b[0m\u001b[0;34m(\u001b[0m\u001b[0mself\u001b[0m\u001b[0;34m,\u001b[0m \u001b[0mobj\u001b[0m\u001b[0;34m,\u001b[0m \u001b[0mkey\u001b[0m\u001b[0;34m,\u001b[0m \u001b[0mdefault\u001b[0m\u001b[0;34m)\u001b[0m\u001b[0;34m:\u001b[0m\u001b[0;34m\u001b[0m\u001b[0;34m\u001b[0m\u001b[0m\n",
      "\u001b[0;31mNoSuchElementException\u001b[0m: Message: no such element: Unable to locate element: {\"method\":\"css selector\",\"selector\":\".jobs-search-results jobs-search-results--is-two-pane\"}\n  (Session info: chrome=80.0.3987.132)\n"
     ]
    }
   ],
   "source": [
    "izq = browser.find_element_by_class_name('jobs-search-results jobs-search-results--is-two-pane')\n",
    "izq.text()"
   ]
  },
  {
   "cell_type": "code",
   "execution_count": 111,
   "metadata": {},
   "outputs": [
    {
     "name": "stdout",
     "output_type": "stream",
     "text": [
      "Data Analyst Promoted\n",
      "https://www.linkedin.com/jobs/search/?currentJobId=1801697885&keywords=data%20scientist&location=Berlin\n",
      "1801697885\n",
      "Data Analyst\n",
      "Company Name\n",
      "Harnham\n",
      "Company Location\n",
      "Berlin, Berlin, Germany\n",
      "Posted Date\n",
      "Posted 1 day ago\n",
      "Number of views\n",
      "439 views\n",
      "Share\n",
      "Show more options\n",
      "Save\n",
      "Save Data Analyst at Harnham\n",
      "Easy Apply\n",
      "See how you compare to 152 applicants. Reactivate Premium\n",
      "Job\n",
      "6/10 skills match\n",
      "152 applicants\n",
      "Company\n",
      "51-200 employees\n",
      "Wimbledon, London\n",
      "Connections\n",
      "1 connection\n",
      "Posted by\n",
      "Dominik Probst 1st\n",
      "Recruitment Consultant- Marketing & Insight at Harnham\n",
      "Message\n",
      "DATA ANALYST - REMOTE WORKING (M / W / D)\n",
      "\n",
      "BERLIN, CURRENTLY- HOME WORKING / REMOTE\n",
      "\n",
      "65,000 – 75,000 + BONUS + BENEFIT\n",
      "\n",
      "As a leading manufacturer of home appliances, our client is the number one in improving people’s quality of life by thinking in solutions. With their global brands as well as their local brands, they explore innovative technologies from voice recognition to artificial intelligence. As they utilize these to create new user experiences, they think, prototype, build – and keep on learning. Join them now and give your career a home and focus on Marketing data.\n",
      "  THE ROLE\n",
      "\n",
      "You will be working in an exciting, international environment and contributing personally to the company’s success. Challenging tasks and projects await you, such as:\n",
      "\n",
      "Big data analysis to provide data-based insights into processes for worldwide internal audits\n",
      "Managing end to end data analysed projects (conceptual design, data generation, analysis, reporting, consulting auditors)\n",
      "Assessing opportunities for additional usage of data-driven insights\n",
      "Developing new fields of data analytics\n",
      "\n",
      "  YOUR SKILLS AND EXPERIENCE\n",
      "\n",
      "Minimum of two years of experience in the field\n",
      "Good understanding of applying advanced big data analysis in business contexts\n",
      "Advanced knowledge in SQL, as well as big data/ data mining tools R, Python and visualisation tools like Tableau or Power Bi\n",
      "Fluent written and spoken English and at least basic German, fast learner, international team player\n",
      "\n",
      "     THE BENEFITS\n",
      "\n",
      "flexible working hours schemes and diverse career opportunities\n",
      "individual development programs and international perspectives\n",
      "company pension scheme and modern healthcare services\n",
      "\n",
      "HOW TO APPLY\n",
      "\n",
      "\n",
      "Please register your interest by sending your CV to Dominik Probst via the Apply link on this page.\n",
      "\n",
      "\n",
      "Please note that our cloent is currently running a fully remote interview process, and able to on-board and hire remotley as well.\n",
      "\n",
      "Key Words: Analytics, Customer Analytics, Retail, eCommerce, Marketing Analytics, Customer Targeting, Target Market, Campaign Analytics, Insights, Web Analytics, SQL, R, Python, Google Analytics, Customer Segmentation, Performance Review, Value Creation, remote,flexible\n",
      "Seniority Level\n",
      "Mid-Senior level\n",
      "Industry\n",
      "Information Technology & Services Management Consulting Information Services\n",
      "Employment Type\n",
      "Full-time\n",
      "Job Functions\n",
      "Marketing Analyst Consulting\n",
      "How you match\n",
      "Criteria provided by job poster\n",
      "Skills\n",
      "Match\n",
      "English\n",
      "Match\n",
      "SQL\n",
      "Match\n",
      "Analytical Skills\n",
      "Match\n",
      "Microsoft Power BI\n",
      "Match\n",
      "Data Analysis\n",
      "Match\n",
      "Data Analytics\n",
      "No match\n",
      "Customer Analysis\n",
      "No match\n",
      "Big Data\n",
      "No match\n",
      "Big Data Analytics\n",
      "No match\n",
      "Marketing Analytics\n",
      "\n",
      "(Senior) Game Data Analyst (f/m/d) Promoted\n",
      "https://www.linkedin.com/jobs/search/?currentJobId=1609589278&keywords=data%20scientist&location=Berlin&start=25\n",
      "1609589278\n",
      "(Senior) Game Data Analyst (f/m/d)\n",
      "Company Name\n",
      "Kolibri Games\n",
      "Company Location\n",
      "Berlin, Berlin, Germany\n",
      "Posted Date\n",
      "Posted 2 days ago\n",
      "Number of views\n",
      "970 views\n",
      "Share\n",
      "Show more options\n",
      "Save\n",
      "Save (Senior) Game Data Analyst (f/m/d) at Kolibri Games\n",
      "Apply\n",
      "See how you compare to 148 applicants. Reactivate Premium\n",
      "Job\n",
      "7/10 skills match\n",
      "148 applicants\n",
      "Company\n",
      "51-200 employees\n",
      "Connections\n",
      "You have 0 connections at this company.\n",
      "Add >\n",
      "Three years ago in a student flat in Karlsruhe we dreamed of becoming the most player-centric games developer in the world. Fast forward to 2019: We’re now a team of more than 100 people in our studio in Kreuzberg, Berlin, and our two mobile games ‘Idle Miner Tycoon’ and ‘Idle Factory Tycoon’ have reached more than 100 million global downloads.\n",
      "\n",
      "Our vision remains, and we want you to become a part of it! Help us in bringing joy to the people who love our games and join a company that has plenty of fun while doing so.\n",
      "\n",
      "(Senior) Game Data Analyst (f/m/d)\n",
      "\n",
      "Kolibri Games are looking for a Game Data Analyst, to work closely with our most established game team, ‘Idle Miner Tycoon’.\n",
      "\n",
      "You will work alongside our Product Director, analyzing in-game metrics and offering insights and evaluations that will impact our Design and Development decisions.\n",
      "\n",
      "Working in a fast-paced company, the Game Data Analyst will influence the shape of our game and how we interpret player behaviour. You will gain a deep understanding of how the product functions and using your expertise, make unbiased, data-lead recommendations.\n",
      "\n",
      "This role would suit an experienced data analyst with either prior games experience or a desire to work in the games industry. This will be a highly influential role, allowing you to delve into interesting data sets and help make changes and recommendations, impacting millions of players.\n",
      "\n",
      "Responsibilities\n",
      "\n",
      "Make Idle Miner Tycoon more successful by delivering insights into player behaviour\n",
      "Analyzing data and making recommendations to the ‘Idle Miner Tycoon’ team\n",
      "Recommend and design new data collection opportunities\n",
      "Providing meaningful insights into data based on analysis and presenting these findings to technical and non-technical team members\n",
      "Working with the Data Platform team to deliver useful exploration tools and technologies to make analyzing data easier\n",
      "\n",
      "Required Skills\n",
      "\n",
      "3+ years of experience working as a Data Analyst\n",
      "Previous experience using Data Visualisation Tools such as; Looker, Tableau or similar\n",
      "Professional experience with at least Python, R or similar\n",
      "The ability to understand data and communicate this in a coherent manner to technical as well as non-technical team members\n",
      "Confidence presenting to multiple people with the ability to clearly and concisely explain key findings\n",
      "Ability to work within a fast-paced environment\n",
      "\n",
      "Desirable Skills\n",
      "\n",
      "Previous experience within a Free to Play games studio\n",
      "Strong SQL skills in an enterprise data environment\n",
      "An interest in machine learning, data science, business intelligence, and data technologies.\n",
      "\n",
      "Your Benefits – We’re game to support you:\n",
      "\n",
      "Competitive Salary - We believe that top performers should receive top payment\n",
      "Training Budget - We believe in learning. A generous personal learning budget to spend on learning and development, including books, workshops and attending conferences. We also offer in-house training such as coding and German classes\n",
      "Equipment - The newest technical equipment, including laptops and phones of your choice, which may also be used in your free time\n",
      "Health and Fitness - We pay €50 towards a monthly gym membership or a fitness activity\n",
      "Relocation - Relocation support to help you move to Berlin\n",
      "Pension - Opportunity to save for your pension tax-free\n",
      "\n",
      "Bonus Level – We love to have a good time, too:\n",
      "\n",
      "Food and Drinks - Fresh fruits to keep you healthy and fresh coffee to keep you alert. We also have a fully stocked fridge with Smoothies, Coke, Club Mate, beer etc\n",
      "Parties and Team Events - Apart from our regular parties, BBQ’s and movie nights we also have a team event budget you can use to buy games or sports equipment to make working here even more fun\n",
      "Company Holidays - To celebrate a key company milestone we went to Tenerife on a company holiday - and this year we are going to Greece!\n",
      "Friday Celebrations - Company provided dinner and drinks on Friday afternoons\n",
      "\n",
      "Kolibri Games is an equal opportunity employer. We celebrate diversity and are committed to creating an inclusive environment for all employees.\n",
      "\n",
      "We are an international studio, so don’t forget to send in your application in English.\n",
      "\n",
      "We look forward to hearing from you!\n",
      "Seniority Level\n",
      "Associate\n",
      "Industry\n",
      "Consumer Electronics Entertainment Computer Games\n",
      "Employment Type\n",
      "Full-time\n",
      "Job Functions\n",
      "Analyst Information Technology\n",
      "How you match\n",
      "Criteria provided by job poster\n",
      "Skills\n",
      "Match\n",
      "English\n",
      "Match\n",
      "Data Visualization\n",
      "Match\n",
      "Analytical Skills\n",
      "Match\n",
      "Data Analysis\n",
      "Match\n",
      "Data Analytics\n",
      "Match\n",
      "Presentations\n",
      "Match\n",
      "Data Science\n",
      "No match\n",
      "Technical Equipment\n",
      "No match\n",
      "Business Insights\n",
      "No match\n",
      "Enterprise Data\n",
      "\n",
      "Senior Game Data Analyst (m/f/x) Promoted\n",
      "https://www.linkedin.com/jobs/search/?currentJobId=1772020331&keywords=data%20scientist&location=Berlin&start=50\n",
      "1772020331\n",
      "Senior Game Data Analyst (m/f/x)\n",
      "Company Name\n",
      "SOFTGAMES - Mobile Entertainment Services GmbH\n",
      "Company Location\n",
      "Berlin, Germany\n",
      "Posted Date\n",
      "Posted 1 week ago\n",
      "Number of views\n",
      "144 views\n",
      "Share\n",
      "Show more options\n",
      "Save\n",
      "Save Senior Game Data Analyst (m/f/x) at SOFTGAMES - Mobile Entertainment Services GmbH\n",
      "Apply\n",
      "See how you compare to 15 applicants. Reactivate Premium\n",
      "Job\n",
      "7/10 skills match\n",
      "15 applicants\n",
      "Company\n",
      "51-200 employees\n",
      "Berlin, Berlin\n",
      "Connections\n",
      "You have 0 connections at this company.\n",
      "Add >\n",
      "Posted by\n",
      "Alexander Krug\n",
      "CEO & Co-Founder SOFTGAMES - Leading Developer of The Most Popular Instant Games - WE ARE HIRING!\n",
      "Send InMail\n",
      "SOFTGAMES is currently looking for a passionate and proactive Senior Game Data Analyst (f/m/x) to strengthen our BI team. You interact with other Game Data Analysts, Producers of multiple game teams and key players across the company to provide a broad and detailed understanding of our user base. Our goal is to create the best experience for our players.\n",
      "\n",
      "The ideal candidate will be a data-driven advisor who enjoys deep diving into our games, has the ability to do independent research and generate insights from large data sets as well as a hands-on attitude of servicing daily data requests and analyses.\n",
      "\n",
      "This role requires 2+ years experience with F2P Mobile Games, excellent understanding of SQL and other query languages, and enjoys combining analytic skills with business acumen to provide our game teams with the data and insights that will drive the continued success of our games.\n",
      " Your role:\n",
      "Make our Instant Games more successful by delivering insights into player behaviour\n",
      "Extend our Game Analytics systems\n",
      "Perform hands-on research, data exploration and analysis of key performance indicators\n",
      "Communicate, define and create clear and unambiguous visualizations of your results/analysis\n",
      "Identify and report actionable insights and make recommendations\n",
      "Other areas of data-driven reporting, analysis and investigations as they are required \n",
      "Work with teams and individuals across the company\n",
      "\n",
      "Your profile:\n",
      "University degree in the fields of Mathematics, Statistics, Data Science or comparable qualification\n",
      "2+ years of experience working as a Data Analyst for Free-2-Play (F2P) mobile games\n",
      "Advanced knowledge of SQL\n",
      "Working knowledge in some data analysis and reporting tools (Eg. Tableau, or similar business intelligence tools)\n",
      "Experience with data discovery, visualization and dashboards\n",
      "People-oriented, a team player with excellent communication skills\n",
      "Fluent in written and spoken English\n",
      "Good knowledge of DeltaDNA is a plus\n",
      "\n",
      "We offer:\n",
      "A spirited, inspiring, international and enthusiastic team\n",
      "The best and brightest company in producing and distributing HTML5 Messenger Games\n",
      "The chance to produce Messenger games for millions of gamers globally\n",
      "Valuable insights into global expansion, start-up scene and entrepreneurship\n",
      "Flexible working-hours and flat company hierarchy\n",
      "Inspiring company breakfasts, team events\n",
      "Perks: fresh fruits, cold drinks, tee, coffee, discounted local transport ticket, health package etc.\n",
      "Seniority Level\n",
      "Mid-Senior level\n",
      "Industry\n",
      "Computer Games Entertainment Internet\n",
      "Employment Type\n",
      "Full-time\n",
      "Job Functions\n",
      "Information Technology Analyst Strategy/Planning\n",
      "How you match\n",
      "Criteria provided by job poster\n",
      "Skills\n",
      "Match\n",
      "SQL\n",
      "Match\n",
      "Tableau\n",
      "Match\n",
      "Analytical Skills\n",
      "Match\n",
      "Data Analysis\n",
      "Match\n",
      "Data Analytics\n",
      "Match\n",
      "Data Mining\n",
      "Match\n",
      "Business Intelligence (BI)\n",
      "No match\n",
      "Business Intelligence Tools\n",
      "No match\n",
      "Mobile Games\n",
      "No match\n",
      "Free to Play\n",
      "\n",
      "Sr. Data Scientist - ML Labs Promoted\n",
      "https://www.linkedin.com/jobs/search/?currentJobId=1796546571&keywords=data%20scientist&location=Berlin&start=75\n",
      "1796546571\n",
      "Sr. Data Scientist - ML Labs\n",
      "Company Name\n",
      "Amazon Web Services (AWS)\n",
      "Company Location\n",
      "Berlin, DE\n",
      "Posted Date\n",
      "Posted 4 days ago\n",
      "Number of views\n",
      "110 views\n",
      "Share\n",
      "Show more options\n",
      "Save\n",
      "Save Sr. Data Scientist - ML Labs at Amazon Web Services (AWS)\n",
      "Apply\n",
      "See how you compare to 15 applicants. Reactivate Premium\n",
      "Job\n",
      "15 applicants\n",
      "Mid-Senior level\n",
      "Company\n",
      "10001+ employees\n",
      "Seattle, WA\n",
      "Connections\n",
      "1 connection\n",
      "1 alum\n",
      "Description\n",
      "\n",
      "Machine Learning (ML) has been strategic to Amazon from the early years. We are pioneers in areas such as recommendation engines, product search, eCommerce fraud detection, and large-scale optimization of fulfillment center operations.\n",
      "\n",
      "The ML team within AWS provides opportunities to innovate in a fast-paced organization that contributes to game-changing projects and technologies that get deployed on devices and the cloud. As a Sr. ML Data Scientist in the AWS ML team, you'll partner with technology and business teams to build new services that surprise and delight our customers. You will be working with terabytes of text, images, and other types of data to solve real-world problems. You'll design and run experiments, research new algorithms, and find new ways of optimizing risk, profitability, and customer experience.\n",
      "\n",
      "We’re looking for top ML data scientists capable of using ML and other techniques to design, evangelize, and implement state-of-the-art solutions for never-before-solved problems.\n",
      "\n",
      "The Primary Responsibilities Of This Role Are To\n",
      "Use deep learning, machine learning and analytical techniques to create scalable solutions for business problems\n",
      "Design, development and evaluation of highly innovative models for predictive learning, content ranking, and anomaly detection\n",
      "Interact with customers directly to understand the business problem, help and aid them in implementation of DL/ML algorithms to solve problems\n",
      "Analyze and extract relevant information from large amounts of historical data to help automate and optimize key processes\n",
      "Work closely with account team, research scientist teams and product engineering teams to drive model implementations and new algorithms\n",
      "This position requires travel of up to 40%.\n",
      "\n",
      "We at AWS value individual expression, respect different opinions, and work together to create a culture where each of us is able to contribute fully. Our unique backgrounds and perspectives strengthen our ability to achieve Amazon's mission of being Earth's most customer-centric company.\n",
      "\n",
      "This team will be comprised of Deep Learning Architects and Data Scientists to create cutting edge solutions for clients across EMEA. We are currently recruiting for talented individuals in the following cities: London, Berlin, Luxembourg, and Paris. Discover more at https://www.amazon.jobs/en/teams/amazonai.\n",
      "\n",
      "\n",
      "Basic Qualifications\n",
      "Masters degree (or European advanced degree equivalent) in Computer Science, or related technical, math, or scientific field\n",
      "Several years of relevant experience in building large scale machine learning or deep learning models and/or systems in a production environment\n",
      "Experience in using Python, R or Matlab or other statistical/machine learning software language\n",
      "Experience with statistical modelling/machine learning\n",
      "At least 1 year of experience specifically with deep learning (e.g., CNN, RNN, LSTM, etc.)\n",
      "Experience hiring or mentoring more junior colleagues\n",
      "Fluency in written and spoken German and English\n",
      "Preferred Qualifications\n",
      "PhD degree in Computer Science, or related technical, math, or scientific field\n",
      "Strong working knowledge of deep learning, machine learning and statistics\n",
      "Hands on experience building models with deep learning frameworks like MXNet, Tensorflow, Caffe, Torch, Theano or similar\n",
      "Fluency with other European languages are a plus\n",
      "Strong communication and data presentation skills\n",
      "The motivation to achieve results in a fast-paced environment\n",
      "Strong attention to detail\n",
      "Comfortable working in a fast paced, highly collaborative, dynamic work environment\n",
      "Ability to think creatively and solve problems\n",
      "\n",
      "Company - AWS EMEA SARL (Germany Branch)\n",
      "Job ID: A955797\n",
      "Seniority Level\n",
      "Mid-Senior level\n",
      "Industry\n",
      "Computer Software Information Technology & Services Internet\n",
      "Employment Type\n",
      "Full-time\n",
      "Job Functions\n",
      "Other\n",
      "\n",
      "Senior Data Scientist (f/m/x) Promoted\n",
      "https://www.linkedin.com/jobs/search/?currentJobId=1770314692&keywords=data%20scientist&location=Berlin&start=100\n",
      "1770314692\n",
      "Senior Data Scientist (f/m/x)\n",
      "Company Name\n",
      "HelloFresh\n",
      "Company Location\n",
      "Berlin, DE\n",
      "Posted Date\n",
      "Posted 1 week ago\n",
      "Number of views\n",
      "207 views\n",
      "Share\n",
      "Show more options\n",
      "Save\n",
      "Save Senior Data Scientist (f/m/x) at HelloFresh\n",
      "Apply\n",
      "See how you compare to 38 applicants. Reactivate Premium\n",
      "Job\n",
      "38 applicants\n",
      "Associate\n",
      "Company\n",
      "1,001-5,000 employees\n",
      "Berlin, Berlin\n",
      "Connections\n",
      "1 alum\n",
      "HelloFresh\n",
      "\n",
      "At HelloFresh, our mission is to change the way people eat - forever. From our 2011 founding in Europe’s vibrant tech hub Berlin, we’ve become the global market leader in the meal kit sector and inspire millions of energised home cooks across the globe every week.\n",
      "\n",
      "We offer our meal kit boxes full of exciting recipes and thoughtfully sourced, fresh ingredients in more than 13 countries, operating from offices in Berlin, New York City, Sydney, Toronto, London, Amsterdam and Copenhagen and shipped out more than 250 Million meals in 2019.\n",
      "\n",
      "Our more than 5,000 employees are the heart and soul of our highly international, fast-paced, and dynamic environment where innovation and smart, fast action is encouraged.\n",
      "\n",
      "We want you to join us and help take HelloFresh to the next level - as a company in its growth phase this is a great time to join. Career and development opportunities are endless.\n",
      "\n",
      "We will encourage you to make an immediate impact in your area of work as well as empower you to grow your career with us.\n",
      "\n",
      "Our Engineering, Data, Product and Security teams are located in Berlin and New York and are critical to what we do. From procurement tools, to conversion rate optimization, live pricing tools, payment services and add-on upselling features, we work on challenging problems and have a high output of building and releasing features and engines that make our business thrive and deliver real financial impact.\n",
      "\n",
      "You can get a taste of what we've been working on by checking out our tech blog.\n",
      "\n",
      "About The Job\n",
      "\n",
      "At HelloFresh, Data Science is an interdisciplinary team that designs, implements, and maintains state of the art machine learning models to automate and optimize marketing, operations, logistics and customer experience. With our rapid company expansion, we are currently looking for a Senior Data Scientist that is excited about turning innovative ideas into powerful data driven products. As a member of the team, you will help bringing these ideas into reality and improve the experience of millions of customers around the globe.\n",
      "\n",
      "To succeed in this role, you’ll need a hunger for discovering information in massive amounts of data, an attitude towards experimentation, fluency in machine learning techniques and software engineering best practices.\n",
      "Deriving and maintaining a technical vision for end-to-end data science and machine learning pipelines.\n",
      "Playing a key role in ensuring the ongoing alignment and standards of our technology vision for the data science team.\n",
      "Leading by example by translating business problems into quantitative terms and productionized models to presenting the results in clear and effective manner through visualization and prototyping.\n",
      "Collaborating with cross-functional teams to discover innovative ways of leveraging vast repositories of user generated data.\n",
      "Turning prototypes into production ready implementation.\n",
      "Measuring performance over time, tuning, and inspecting models.\n",
      "Sharing data solutions and intel through Open Source and promoting a data driven culture within a large international organization.\n",
      "\n",
      "\n",
      "Who We Are Looking For\n",
      "A strong understanding of the state of the art in machine learning methods and in-depth Data Science techniques for practical application.\n",
      "Significant experience in the tech industry.\n",
      "Excellent educational background; plus if holding an advanced degree in Data Science, Computer Science, Mathematics, NLP, Computational Linguistics, Physics, or similar quantitative field.\n",
      "Advanced engineering abilities to deliver flexible and scalable end-to-end machine learning solutions.\n",
      "Great coding skills in Python and knowledge of data libraries such as sklearn, NLTK, and pandas. Knowledge of Deep Learning frameworks like Tensorflow or Keras is a plus.\n",
      "Exceptional written and verbal communication skills, with an ability to listen and show empathy.\n",
      "A self-organized individual, with excellent focus and prioritization of workload using business data and metrics.\n",
      "A role model who enjoys mentoring team members.\n",
      "\n",
      "\n",
      "What We Offer\n",
      "Relocation assistance to move to Berlin and visa application support\n",
      "Competitive compensation\n",
      "Significant reduction on our meal kits\n",
      "Annual learning and development budget to attend conferences or purchase educational resources\n",
      "Sabbatical policy\n",
      "Work in our office located in the heart of Berlin\n",
      "A diverse and vibrant international environment\n",
      "A range of perks (Free in-house crash course in German, compensation for advanced German classes, in-house lecture series and knowledge sharing programme, discounts for our neighboring gym & Urban Sports Club, free weekly yoga classes, summer & winter parties, discount on our HelloFresh GO vending machines)\n",
      "The chance to have a significant impact on one of the fastest-growing technology companies in Europe in an exciting growth phase\n",
      "\n",
      "Are you up for a challenge?\n",
      "\n",
      "Please submit your complete application below including your salary expectations and earliest starting date.\n",
      "Seniority Level\n",
      "Associate\n",
      "Industry\n",
      "Marketing & Advertising Food & Beverages Internet\n",
      "Employment Type\n",
      "Full-time\n",
      "Job Functions\n",
      "Other\n",
      "\n",
      "Senior Data Scientist Natural Language Processing - NLP (m/f/d) Promoted\n",
      "https://www.linkedin.com/jobs/search/?currentJobId=1737055174&keywords=data%20scientist&location=Berlin&start=125\n",
      "1737055174\n",
      "Senior Data Scientist Natural Language Processing - NLP (m/f/d)\n",
      "Company Name\n",
      "BuildingMinds\n",
      "Company Location\n",
      "Berlin, Berlin, Germany\n",
      "Posted Date\n",
      "Posted 3 weeks ago\n",
      "Number of views\n",
      "287 views\n",
      "Share\n",
      "Show more options\n",
      "Save\n",
      "Save Senior Data Scientist Natural Language Processing - NLP (m/f/d) at BuildingMinds\n",
      "Apply\n",
      "See how you compare to 49 applicants. Reactivate Premium\n",
      "Job\n",
      "2/10 skills match\n",
      "49 applicants\n",
      "Company\n",
      "51-200 employees\n",
      "Berlin, Berlin\n",
      "Connections\n",
      "1 alum\n",
      "Role Summary\n",
      "\n",
      "As Senior Data Scientist NLP at BuildingMinds, you will be the Go-to-person for all things NLP and ensure our ability to use documents of all kinds and languages as a central data asset. For this you will work closely with the product and technology teams. \n",
      "Are you the perfect fit for BuildingMinds? \n",
      "You are passionate about driving our vision of revolutionizing building management through the power of data\n",
      "You have a strong interest in AI and cloud technology and keeping up with trends and best practices in the dynamic field of Natural Language Processing and Understanding \n",
      "You thrive in a goal oriented, feedback driven and customer centric working environment\n",
      "You are pragmatic and willing to try new approaches, putting the goals of customers and users ahead of your own curiosity\n",
      "You know that mastering complex tasks for a global customer base requires working effectively in an international team of experts \n",
      "\n",
      "Key Responsibilities:\n",
      "Collaborate with internal and external stakeholders to design and build powerful and scalable end-to-end NLP solutions for our building management platform, such as automated document classification and annotation\n",
      "Support the product teams and management as internal adviser about modern NLP applications and technologies – from Deep Learning frameworks to cloud services\n",
      "Effectively communicate and document all NLP activities to the broader community at BuildingMinds\n",
      "Work closely with the product and technology teams to define data and technology requirements to realize the full potential of unstructured data for our customers\n",
      "\n",
      "Key Qualifications: \n",
      "MSc, or PhD in in appropriate technology field (computer science, physics, statistics, applied mathematics, operations research, etc.) \n",
      "3 years or more practical business experience with data driven NLP applications \n",
      "Expertise in modern AI methods in the context of NLP, such as Deep Learning (LSTM, RNN, BERT), Embeddings (Word2Vec, FastText), Ensemble Methods, Language Translation\n",
      "Practical knowledge of modern AI technologies and frameworks in the context of NLP along the whole spectrum from open source software (python/R, sklearn, pytorch, NLTK, spacy) to managed cloud services (Azure Cognitive Services)\n",
      "Your way of working is characterized by proactivity, self-reliance, and creativity in solving problems\n",
      "You prioritize your workload, to meet tight deadlines whilst achieving results, especially in a fast-paced, high-growth environment\n",
      "Experience with mentoring, knowledge transfer and project management are a big plus\n",
      "Seniority Level\n",
      "Mid-Senior level\n",
      "Industry\n",
      "Computer Software\n",
      "Employment Type\n",
      "Full-time\n",
      "Job Functions\n",
      "Information Technology Customer Service Business Development\n",
      "How you match\n",
      "Criteria provided by job poster\n",
      "Skills\n",
      "Match\n",
      "Machine Learning\n",
      "Match\n",
      "Data Science\n",
      "No match\n",
      "Recurrent Neural Networks (RNN)\n",
      "No match\n",
      "BERT\n",
      "No match\n",
      "Cloud Services\n",
      "No match\n",
      "Long Short-term Memory (LSTM)\n",
      "No match\n",
      "Deep Learning\n",
      "No match\n",
      "Microsoft Azure\n",
      "No match\n",
      "PyTorch\n",
      "No match\n",
      "spaCy\n",
      "\n"
     ]
    },
    {
     "ename": "NoSuchElementException",
     "evalue": "Message: no such element: Unable to locate element: {\"method\":\"xpath\",\"selector\":\"/html/body/div[5]/div[4]/div[3]/section[1]/div[2]/div/div/div[1]/div[2]/div/ul/li[1]/div/artdeco-entity-lockup/artdeco-entity-lockup-content/h3/a\"}\n  (Session info: chrome=80.0.3987.132)\n",
     "output_type": "error",
     "traceback": [
      "\u001b[0;31m---------------------------------------------------------------------------\u001b[0m",
      "\u001b[0;31mNoSuchElementException\u001b[0m                    Traceback (most recent call last)",
      "\u001b[0;32m<ipython-input-111-92005da38bb1>\u001b[0m in \u001b[0;36m<module>\u001b[0;34m\u001b[0m\n\u001b[1;32m     10\u001b[0m         \u001b[0mjob_post\u001b[0m \u001b[0;34m=\u001b[0m\u001b[0;31m \u001b[0m\u001b[0;31m\\\u001b[0m\u001b[0;34m\u001b[0m\u001b[0;34m\u001b[0m\u001b[0m\n\u001b[1;32m     11\u001b[0m         \u001b[0mbrowser\u001b[0m\u001b[0;34m.\u001b[0m\u001b[0mfind_element_by_xpath\u001b[0m\u001b[0;31m\\\u001b[0m\u001b[0;34m\u001b[0m\u001b[0;34m\u001b[0m\u001b[0m\n\u001b[0;32m---> 12\u001b[0;31m         \u001b[0;34m(\u001b[0m\u001b[0;34mf'/html/body/div[5]/div[4]/div[3]/section[1]/div[2]/div/div/div[1]/div[2]/div/ul/li[{i}]/div/artdeco-entity-lockup/artdeco-entity-lockup-content/h3/a'\u001b[0m\u001b[0;34m)\u001b[0m\u001b[0;34m\u001b[0m\u001b[0;34m\u001b[0m\u001b[0m\n\u001b[0m\u001b[1;32m     13\u001b[0m         \u001b[0;31m#  /html/body/div[5]/div[4]/div[3]/section[1]/div[2]/div/div/div[1]/div[2]/div/ul/li[1]/div/artdeco-entity-lockup/artdeco-entity-lockup-content/h3/a\u001b[0m\u001b[0;34m\u001b[0m\u001b[0;34m\u001b[0m\u001b[0;34m\u001b[0m\u001b[0m\n\u001b[1;32m     14\u001b[0m         \u001b[0;31m# //*[@id=\"ember334\"]\u001b[0m\u001b[0;34m\u001b[0m\u001b[0;34m\u001b[0m\u001b[0;34m\u001b[0m\u001b[0m\n",
      "\u001b[0;32m~/miniconda3/envs/final_project/lib/python3.7/site-packages/selenium/webdriver/remote/webdriver.py\u001b[0m in \u001b[0;36mfind_element_by_xpath\u001b[0;34m(self, xpath)\u001b[0m\n\u001b[1;32m    392\u001b[0m             \u001b[0melement\u001b[0m \u001b[0;34m=\u001b[0m \u001b[0mdriver\u001b[0m\u001b[0;34m.\u001b[0m\u001b[0mfind_element_by_xpath\u001b[0m\u001b[0;34m(\u001b[0m\u001b[0;34m'//div/td[1]'\u001b[0m\u001b[0;34m)\u001b[0m\u001b[0;34m\u001b[0m\u001b[0;34m\u001b[0m\u001b[0m\n\u001b[1;32m    393\u001b[0m         \"\"\"\n\u001b[0;32m--> 394\u001b[0;31m         \u001b[0;32mreturn\u001b[0m \u001b[0mself\u001b[0m\u001b[0;34m.\u001b[0m\u001b[0mfind_element\u001b[0m\u001b[0;34m(\u001b[0m\u001b[0mby\u001b[0m\u001b[0;34m=\u001b[0m\u001b[0mBy\u001b[0m\u001b[0;34m.\u001b[0m\u001b[0mXPATH\u001b[0m\u001b[0;34m,\u001b[0m \u001b[0mvalue\u001b[0m\u001b[0;34m=\u001b[0m\u001b[0mxpath\u001b[0m\u001b[0;34m)\u001b[0m\u001b[0;34m\u001b[0m\u001b[0;34m\u001b[0m\u001b[0m\n\u001b[0m\u001b[1;32m    395\u001b[0m \u001b[0;34m\u001b[0m\u001b[0m\n\u001b[1;32m    396\u001b[0m     \u001b[0;32mdef\u001b[0m \u001b[0mfind_elements_by_xpath\u001b[0m\u001b[0;34m(\u001b[0m\u001b[0mself\u001b[0m\u001b[0;34m,\u001b[0m \u001b[0mxpath\u001b[0m\u001b[0;34m)\u001b[0m\u001b[0;34m:\u001b[0m\u001b[0;34m\u001b[0m\u001b[0;34m\u001b[0m\u001b[0m\n",
      "\u001b[0;32m~/miniconda3/envs/final_project/lib/python3.7/site-packages/selenium/webdriver/remote/webdriver.py\u001b[0m in \u001b[0;36mfind_element\u001b[0;34m(self, by, value)\u001b[0m\n\u001b[1;32m    976\u001b[0m         return self.execute(Command.FIND_ELEMENT, {\n\u001b[1;32m    977\u001b[0m             \u001b[0;34m'using'\u001b[0m\u001b[0;34m:\u001b[0m \u001b[0mby\u001b[0m\u001b[0;34m,\u001b[0m\u001b[0;34m\u001b[0m\u001b[0;34m\u001b[0m\u001b[0m\n\u001b[0;32m--> 978\u001b[0;31m             'value': value})['value']\n\u001b[0m\u001b[1;32m    979\u001b[0m \u001b[0;34m\u001b[0m\u001b[0m\n\u001b[1;32m    980\u001b[0m     \u001b[0;32mdef\u001b[0m \u001b[0mfind_elements\u001b[0m\u001b[0;34m(\u001b[0m\u001b[0mself\u001b[0m\u001b[0;34m,\u001b[0m \u001b[0mby\u001b[0m\u001b[0;34m=\u001b[0m\u001b[0mBy\u001b[0m\u001b[0;34m.\u001b[0m\u001b[0mID\u001b[0m\u001b[0;34m,\u001b[0m \u001b[0mvalue\u001b[0m\u001b[0;34m=\u001b[0m\u001b[0;32mNone\u001b[0m\u001b[0;34m)\u001b[0m\u001b[0;34m:\u001b[0m\u001b[0;34m\u001b[0m\u001b[0;34m\u001b[0m\u001b[0m\n",
      "\u001b[0;32m~/miniconda3/envs/final_project/lib/python3.7/site-packages/selenium/webdriver/remote/webdriver.py\u001b[0m in \u001b[0;36mexecute\u001b[0;34m(self, driver_command, params)\u001b[0m\n\u001b[1;32m    319\u001b[0m         \u001b[0mresponse\u001b[0m \u001b[0;34m=\u001b[0m \u001b[0mself\u001b[0m\u001b[0;34m.\u001b[0m\u001b[0mcommand_executor\u001b[0m\u001b[0;34m.\u001b[0m\u001b[0mexecute\u001b[0m\u001b[0;34m(\u001b[0m\u001b[0mdriver_command\u001b[0m\u001b[0;34m,\u001b[0m \u001b[0mparams\u001b[0m\u001b[0;34m)\u001b[0m\u001b[0;34m\u001b[0m\u001b[0;34m\u001b[0m\u001b[0m\n\u001b[1;32m    320\u001b[0m         \u001b[0;32mif\u001b[0m \u001b[0mresponse\u001b[0m\u001b[0;34m:\u001b[0m\u001b[0;34m\u001b[0m\u001b[0;34m\u001b[0m\u001b[0m\n\u001b[0;32m--> 321\u001b[0;31m             \u001b[0mself\u001b[0m\u001b[0;34m.\u001b[0m\u001b[0merror_handler\u001b[0m\u001b[0;34m.\u001b[0m\u001b[0mcheck_response\u001b[0m\u001b[0;34m(\u001b[0m\u001b[0mresponse\u001b[0m\u001b[0;34m)\u001b[0m\u001b[0;34m\u001b[0m\u001b[0;34m\u001b[0m\u001b[0m\n\u001b[0m\u001b[1;32m    322\u001b[0m             response['value'] = self._unwrap_value(\n\u001b[1;32m    323\u001b[0m                 response.get('value', None))\n",
      "\u001b[0;32m~/miniconda3/envs/final_project/lib/python3.7/site-packages/selenium/webdriver/remote/errorhandler.py\u001b[0m in \u001b[0;36mcheck_response\u001b[0;34m(self, response)\u001b[0m\n\u001b[1;32m    240\u001b[0m                 \u001b[0malert_text\u001b[0m \u001b[0;34m=\u001b[0m \u001b[0mvalue\u001b[0m\u001b[0;34m[\u001b[0m\u001b[0;34m'alert'\u001b[0m\u001b[0;34m]\u001b[0m\u001b[0;34m.\u001b[0m\u001b[0mget\u001b[0m\u001b[0;34m(\u001b[0m\u001b[0;34m'text'\u001b[0m\u001b[0;34m)\u001b[0m\u001b[0;34m\u001b[0m\u001b[0;34m\u001b[0m\u001b[0m\n\u001b[1;32m    241\u001b[0m             \u001b[0;32mraise\u001b[0m \u001b[0mexception_class\u001b[0m\u001b[0;34m(\u001b[0m\u001b[0mmessage\u001b[0m\u001b[0;34m,\u001b[0m \u001b[0mscreen\u001b[0m\u001b[0;34m,\u001b[0m \u001b[0mstacktrace\u001b[0m\u001b[0;34m,\u001b[0m \u001b[0malert_text\u001b[0m\u001b[0;34m)\u001b[0m\u001b[0;34m\u001b[0m\u001b[0;34m\u001b[0m\u001b[0m\n\u001b[0;32m--> 242\u001b[0;31m         \u001b[0;32mraise\u001b[0m \u001b[0mexception_class\u001b[0m\u001b[0;34m(\u001b[0m\u001b[0mmessage\u001b[0m\u001b[0;34m,\u001b[0m \u001b[0mscreen\u001b[0m\u001b[0;34m,\u001b[0m \u001b[0mstacktrace\u001b[0m\u001b[0;34m)\u001b[0m\u001b[0;34m\u001b[0m\u001b[0;34m\u001b[0m\u001b[0m\n\u001b[0m\u001b[1;32m    243\u001b[0m \u001b[0;34m\u001b[0m\u001b[0m\n\u001b[1;32m    244\u001b[0m     \u001b[0;32mdef\u001b[0m \u001b[0m_value_or_default\u001b[0m\u001b[0;34m(\u001b[0m\u001b[0mself\u001b[0m\u001b[0;34m,\u001b[0m \u001b[0mobj\u001b[0m\u001b[0;34m,\u001b[0m \u001b[0mkey\u001b[0m\u001b[0;34m,\u001b[0m \u001b[0mdefault\u001b[0m\u001b[0;34m)\u001b[0m\u001b[0;34m:\u001b[0m\u001b[0;34m\u001b[0m\u001b[0;34m\u001b[0m\u001b[0m\n",
      "\u001b[0;31mNoSuchElementException\u001b[0m: Message: no such element: Unable to locate element: {\"method\":\"xpath\",\"selector\":\"/html/body/div[5]/div[4]/div[3]/section[1]/div[2]/div/div/div[1]/div[2]/div/ul/li[1]/div/artdeco-entity-lockup/artdeco-entity-lockup-content/h3/a\"}\n  (Session info: chrome=80.0.3987.132)\n"
     ]
    }
   ],
   "source": [
    "# Extracting info\n",
    "\n",
    "for p in range(0,n_pages*25,25):\n",
    "    JOB_URL = \\\n",
    "       f'https://www.linkedin.com/jobs/search/?keywords={job_title}&location={location}&start={p}'\n",
    "    browser.get(JOB_URL)\n",
    "    \n",
    "    #for i in range(1,26):\n",
    "    for i in range(1,2):\n",
    "        job_post = \\\n",
    "        browser.find_element_by_xpath\\\n",
    "        (f'/html/body/div[5]/div[4]/div[3]/section[1]/div[2]/div/div/div[1]/div[2]/div/ul/li[{i}]/div/artdeco-entity-lockup/artdeco-entity-lockup-content/h3/a') \n",
    "        #  /html/body/div[5]/div[4]/div[3]/section[1]/div[2]/div/div/div[1]/div[2]/div/ul/li[1]/div/artdeco-entity-lockup/artdeco-entity-lockup-content/h3/a\n",
    "        # //*[@id=\"ember334\"]\n",
    "        #(f'/html/body/div[5]/div[4]/div[3]/section[1]/div[2]/div/div/div[1]/div[2]/div/ul/li[{i}]')\n",
    "        print(job_post.text)\n",
    "        job_post.click()\n",
    "        time.sleep(0.1)\n",
    "        print(browser.current_url)\n",
    "        currentJobId = browser.current_url.split('currentJobId=')[1].split('&')[0]\n",
    "        print(f'{currentJobId}')\n",
    "        #print(f'{currentJobId}\\n')\n",
    "\n",
    "\n",
    "        job_post_right = \\\n",
    "        browser.find_element_by_xpath\\\n",
    "        ('/html/body/div[5]/div[4]/div[3]/section[1]/div[2]/div/div/div[2]')\n",
    "        print(f'{job_post_right.text}\\n')\n",
    "\n",
    "        # if you wanna watch the job page\n",
    "        # html = f'https://www.linkedin.com/jobs/view/{currentJobId}/' # > hit's possible to use REQUESTS"
   ]
  },
  {
   "cell_type": "code",
   "execution_count": null,
   "metadata": {},
   "outputs": [],
   "source": []
  },
  {
   "cell_type": "code",
   "execution_count": null,
   "metadata": {},
   "outputs": [],
   "source": [
    "/html/body/div[5]/div[4]/div[3]/section[1]/div[2]/div/div/div[1]/div[2]/div/ul/li[1]\n",
    "/html/body/div[5]/div[4]/div[3]/section[1]/div[2]/div/div/div[1]/div[2]/div/ul/li[2]\n",
    "\n",
    "/html/body/div[5]/div[4]/div[3]/section[1]/div[2]/div/div/div[1]/div[2]/div/ul/li[25]"
   ]
  },
  {
   "cell_type": "code",
   "execution_count": null,
   "metadata": {},
   "outputs": [],
   "source": []
  },
  {
   "cell_type": "code",
   "execution_count": null,
   "metadata": {},
   "outputs": [],
   "source": [
    "import requests\n",
    "from bs4 import BeautifulSoup"
   ]
  },
  {
   "cell_type": "code",
   "execution_count": null,
   "metadata": {},
   "outputs": [],
   "source": [
    "#with requests.Session() as s:\n",
    "\n",
    "with requests.Session() as session:\n",
    "    \n",
    "    response = session.get(LOGIN_URL)\n",
    "    session = session.cookies.get_dict()\n",
    "    bcookie = session.get('bcookie')\n",
    "    print(bcookie)\n",
    "    cookie = bcookie.split('&')[1].split('\"')[0]\n",
    "    print(f'\\n{cookie}')\n",
    "    \n",
    "    LoginCsrfParam   = cookie\n",
    "    Session_key      = \"cristopher.rojas.lepe@gmail.com\" # \"cristopher.rojas.lepe%40gmail.com\"\n",
    "    Session_password = \"M3t4n01@\" # \"M3t4n01%40\"\n",
    "    Session_redirect = \"https%3A%2F%2Fwww.linkedin.com%2Fjobs\" # \"https://www.linkedin.com/jobs\" #\"https%3A%2F%2Fwww.linkedin.com%2Fjobs\"\n",
    "    Trk              = \"guest_homepage-jobseeker_sign-in-submit\"\n",
    "    \n",
    "    payload = {'loginCsrfParam'  : LoginCsrfParam,\n",
    "               'session_key'     : Session_key,\n",
    "               'session_password': Session_password,\n",
    "               'session_redirect': Session_redirect,\n",
    "               'trk'             : Trk\n",
    "              }\n",
    "    print(f'\\n{payload}')\n",
    "    p = requests.post(LOGIN_URL, data = payload)  \n",
    "    #p = session.post(LOGIN_URL, data = payload) \n",
    "    # print the html returned or something more intelligent to see if it's a successful login page.\n",
    "    print(f'\\n{p.content}')\n",
    "    soup = BeautifulSoup(p.content,'html.parser')\n",
    "    print(f'\\n{soup}')\n",
    "\n",
    "    # An authorised request.\n",
    "#     r = s.get('A protected web page url')\n",
    "#     print r.text"
   ]
  }
 ],
 "metadata": {
  "kernelspec": {
   "display_name": "Python [conda env:final_project]",
   "language": "python",
   "name": "conda-env-final_project-py"
  },
  "language_info": {
   "codemirror_mode": {
    "name": "ipython",
    "version": 3
   },
   "file_extension": ".py",
   "mimetype": "text/x-python",
   "name": "python",
   "nbconvert_exporter": "python",
   "pygments_lexer": "ipython3",
   "version": "3.7.6"
  }
 },
 "nbformat": 4,
 "nbformat_minor": 4
}
