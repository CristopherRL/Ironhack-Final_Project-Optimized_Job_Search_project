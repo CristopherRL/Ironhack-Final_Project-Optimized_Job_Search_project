{
 "cells": [
  {
   "cell_type": "markdown",
   "metadata": {},
   "source": [
    "# Step 1: ACQUIRE DATA"
   ]
  },
  {
   "cell_type": "code",
   "execution_count": 1,
   "metadata": {},
   "outputs": [],
   "source": [
    "from selenium import webdriver\n",
    "from selenium.webdriver.common.action_chains import ActionChains\n",
    "from selenium.webdriver.common.keys import Keys\n",
    "from selenium.common.exceptions import ElementClickInterceptedException\n",
    "import os\n",
    "from dotenv import load_dotenv\n",
    "import time\n",
    "import re\n",
    "import pandas as pd\n",
    "from datetime import datetime, timedelta\n",
    "import getpass\n",
    "import platform"
   ]
  },
  {
   "cell_type": "markdown",
   "metadata": {},
   "source": [
    "> ## STARTING"
   ]
  },
  {
   "cell_type": "code",
   "execution_count": 2,
   "metadata": {},
   "outputs": [
    {
     "name": "stdout",
     "output_type": "stream",
     "text": [
      "\n",
      "*******************  OPTIMIZED JOB SEARCH ON LINKEDIN *******************\n",
      "\n",
      "Welcome!\n",
      "\n",
      "Please enter your information to sign in on LINKEDIN and begin the search >>>\n",
      "\n"
     ]
    },
    {
     "name": "stdin",
     "output_type": "stream",
     "text": [
      "EMAIL:  cristopher.rojas.lepe@gmail.com\n",
      "PASSWORD:  ········\n"
     ]
    }
   ],
   "source": [
    "print(\"\"\"\n",
    "*******************  OPTIMIZED JOB SEARCH ON LINKEDIN *******************\n",
    "\n",
    "Welcome!\n",
    "\n",
    "Please enter your information to sign in on LINKEDIN and begin the search >>>\n",
    "\"\"\")\n",
    "\n",
    "SECRET_USER = input(\"EMAIL: \")\n",
    "SECRET_PASS = getpass.getpass(\"PASSWORD: \")"
   ]
  },
  {
   "cell_type": "code",
   "execution_count": 3,
   "metadata": {},
   "outputs": [
    {
     "name": "stdin",
     "output_type": "stream",
     "text": [
      "\n",
      "\n",
      "Please enter the LOCATION where you'd like to search >>> bilbao\n"
     ]
    },
    {
     "data": {
      "text/plain": [
       "'Bilbao'"
      ]
     },
     "execution_count": 3,
     "metadata": {},
     "output_type": "execute_result"
    }
   ],
   "source": [
    "location_input = input(\"\\n\\nPlease enter the LOCATION where you'd like to search >>>\")\n",
    "#location_input = 'madrid'\n",
    "location = location_input.capitalize()\n",
    "location"
   ]
  },
  {
   "cell_type": "code",
   "execution_count": null,
   "metadata": {},
   "outputs": [],
   "source": []
  },
  {
   "cell_type": "markdown",
   "metadata": {},
   "source": [
    "> ## SEARCH"
   ]
  },
  {
   "cell_type": "code",
   "execution_count": 4,
   "metadata": {},
   "outputs": [],
   "source": [
    "#job_title_input = input(\"PLEASE ENTER THE JOB THAT YOU'D LIKE TO SEARCH: \")\n",
    "#job_title_input = 'data scientist'"
   ]
  },
  {
   "cell_type": "code",
   "execution_count": 5,
   "metadata": {},
   "outputs": [],
   "source": [
    "#job_title_df = job_title_input.lower()\n",
    "# job_title_s  = job_title_input.lower().replace(' ', '%20')\n",
    "# job_title_s "
   ]
  },
  {
   "cell_type": "markdown",
   "metadata": {},
   "source": [
    "> ## WEB SCRAPPING"
   ]
  },
  {
   "cell_type": "markdown",
   "metadata": {},
   "source": [
    "### SELENIUM >"
   ]
  },
  {
   "cell_type": "code",
   "execution_count": 6,
   "metadata": {},
   "outputs": [],
   "source": [
    "#import requests\n",
    "#from bs4 import BeautifulSoup"
   ]
  },
  {
   "cell_type": "markdown",
   "metadata": {},
   "source": [
    "#### DRIVER PATH:"
   ]
  },
  {
   "cell_type": "code",
   "execution_count": 7,
   "metadata": {},
   "outputs": [
    {
     "data": {
      "text/plain": [
       "'Linux'"
      ]
     },
     "execution_count": 7,
     "metadata": {},
     "output_type": "execute_result"
    }
   ],
   "source": [
    "platform.system()"
   ]
  },
  {
   "cell_type": "code",
   "execution_count": 8,
   "metadata": {},
   "outputs": [],
   "source": [
    "#DEPEND OF THE OS\n",
    "\n",
    "#LINUX\n",
    "if platform.system() == 'Linux':\n",
    "    os.environ['PATH'] = f'{os.environ[\"PATH\"]}:/home/cristopherrl/Documents/program/selenium/drivers/'\n",
    "    \n",
    "elif platform.system() == 'Windows':\n",
    "    os.environ['PATH'] = f'{os.environ[\"PATH\"]};C:\\\\Users\\\\x385645\\\\Documents\\\\Selenium'"
   ]
  },
  {
   "cell_type": "code",
   "execution_count": 9,
   "metadata": {},
   "outputs": [
    {
     "data": {
      "text/plain": [
       "'/home/cristopherrl/miniconda3/envs/final_project/bin:/home/cristopherrl/miniconda3/condabin:/home/cristopherrl/.local/bin:/usr/local/sbin:/usr/local/bin:/usr/sbin:/usr/bin:/sbin:/bin:/usr/games:/usr/local/games:/snap/bin:/home/cristopherrl/Documents/program/selenium/drivers/'"
      ]
     },
     "execution_count": 9,
     "metadata": {},
     "output_type": "execute_result"
    }
   ],
   "source": [
    "os.environ['PATH']"
   ]
  },
  {
   "cell_type": "code",
   "execution_count": null,
   "metadata": {},
   "outputs": [],
   "source": []
  },
  {
   "cell_type": "markdown",
   "metadata": {},
   "source": [
    "#### .ENV PATH:"
   ]
  },
  {
   "cell_type": "code",
   "execution_count": 10,
   "metadata": {},
   "outputs": [
    {
     "data": {
      "text/plain": [
       "True"
      ]
     },
     "execution_count": 10,
     "metadata": {},
     "output_type": "execute_result"
    }
   ],
   "source": [
    "load_dotenv(dotenv_path='../.env')"
   ]
  },
  {
   "cell_type": "markdown",
   "metadata": {},
   "source": [
    "#### SIGN IN:"
   ]
  },
  {
   "cell_type": "code",
   "execution_count": 11,
   "metadata": {},
   "outputs": [],
   "source": [
    "browser = webdriver.Chrome()\n",
    "URL = 'https://www.linkedin.com/login'\n",
    "browser.get(URL)"
   ]
  },
  {
   "cell_type": "code",
   "execution_count": 12,
   "metadata": {},
   "outputs": [],
   "source": [
    "# SECRET_USER = os.getenv(\"SESSION_KEY\")\n",
    "# SECRET_PASS = os.getenv(\"SESSION_PASSWORD\")"
   ]
  },
  {
   "cell_type": "code",
   "execution_count": 13,
   "metadata": {},
   "outputs": [],
   "source": [
    "try:\n",
    "    # user box\n",
    "    user     = browser.find_element_by_xpath('/html/body/div/main/div/form/div[1]/input')\n",
    "    user.send_keys(SECRET_USER)\n",
    "    time.sleep(1)\n",
    "\n",
    "    # password box\n",
    "    password = browser.find_element_by_xpath('/html/body/div/main/div/form/div[2]/input')\n",
    "    password.send_keys(SECRET_PASS)\n",
    "    time.sleep(1)\n",
    "\n",
    "    #sign_in  = browser.find_element_by_xpath('/html/body/div/main/div/form/div[3]/button')\n",
    "    # sign in button\n",
    "    sign_in  = browser.find_element_by_class_name('login__form_action_container')\n",
    "    sign_in.click()\n",
    "    time.sleep(1)\n",
    "\n",
    "except:\n",
    "    raise ValueError(\"DATOS ERRONEOS!!! Cierre y vuelva a ejecutar el programa\")    "
   ]
  },
  {
   "cell_type": "code",
   "execution_count": 14,
   "metadata": {},
   "outputs": [],
   "source": [
    "browser.maximize_window()"
   ]
  },
  {
   "cell_type": "code",
   "execution_count": null,
   "metadata": {},
   "outputs": [],
   "source": []
  },
  {
   "cell_type": "markdown",
   "metadata": {},
   "source": [
    "***\n",
    "***\n",
    "#### LINKEDIN PROFILE :"
   ]
  },
  {
   "cell_type": "code",
   "execution_count": 15,
   "metadata": {},
   "outputs": [],
   "source": [
    "# Click on profile button (up-rigth)\n",
    "profile = browser.find_element_by_id('profile-nav-item')\n",
    "#profile = browser.find_element_by_xpath('/html/body/header/div/nav/ul/li[6]/div/artdeco-dropdown/artdeco-dropdown-trigger/div')\n",
    "profile.click() "
   ]
  },
  {
   "cell_type": "code",
   "execution_count": 16,
   "metadata": {},
   "outputs": [],
   "source": [
    "# Click on View profile button\n",
    "#link_profile = browser.find_element_by_xpath('/html/body/header/div/nav/ul/li[6]/div/artdeco-dropdown/artdeco-dropdown-content/div/ul/li[1]/a/div[2]/span')\n",
    "link_profile = browser.find_element_by_xpath(\"//span[@class='artdeco-button artdeco-button--tertiary artdeco-button--fluid']\")\n",
    "link_profile.click()"
   ]
  },
  {
   "cell_type": "markdown",
   "metadata": {},
   "source": [
    "#### Profile page >"
   ]
  },
  {
   "cell_type": "code",
   "execution_count": 17,
   "metadata": {},
   "outputs": [],
   "source": [
    "html_body = browser.find_element_by_xpath ('/html/body')\n",
    "html_body.send_keys(Keys.PAGE_DOWN)\n",
    "time.sleep(0.5)"
   ]
  },
  {
   "cell_type": "code",
   "execution_count": 18,
   "metadata": {},
   "outputs": [
    {
     "data": {
      "text/plain": [
       "'https://www.linkedin.com/in/cristopherrojaslepe/'"
      ]
     },
     "execution_count": 18,
     "metadata": {},
     "output_type": "execute_result"
    }
   ],
   "source": [
    "browser.current_url"
   ]
  },
  {
   "cell_type": "code",
   "execution_count": 19,
   "metadata": {},
   "outputs": [
    {
     "data": {
      "text/plain": [
       "'cristopherrojaslepe'"
      ]
     },
     "execution_count": 19,
     "metadata": {},
     "output_type": "execute_result"
    }
   ],
   "source": [
    "linkedin_profile = browser.current_url.split('/')[4]\n",
    "linkedin_profile"
   ]
  },
  {
   "cell_type": "markdown",
   "metadata": {},
   "source": [
    "#### Headline:"
   ]
  },
  {
   "cell_type": "code",
   "execution_count": 20,
   "metadata": {},
   "outputs": [
    {
     "data": {
      "text/plain": [
       "'data scientist & analyst | python | pandas | numpy | matplotlib | web scrapping | machine learning | tableau | sql | git'"
      ]
     },
     "execution_count": 20,
     "metadata": {},
     "output_type": "execute_result"
    }
   ],
   "source": [
    "# Getting HEADLINE table\n",
    "profile_headline = browser.find_element_by_xpath(\"//h2[@class='mt1 t-18 t-black t-normal']\")\n",
    "headline = profile_headline.text.lower()\n",
    "headline"
   ]
  },
  {
   "cell_type": "code",
   "execution_count": 21,
   "metadata": {},
   "outputs": [],
   "source": [
    "#try:\n",
    "#if browser.find_element_by_xpath\\\n",
    "#    ('/html/body/div[6]/div[4]/div[3]/div/div/div/div/div[2]/main/div[1]/section/div[2]/div[2]/div[1]/h2'):\n",
    "#    profile_headline = browser.find_element_by_xpath\\\n",
    "#    ('/html/body/div[6]/div[4]/div[3]/div/div/div/div/div[2]/main/div[1]/section/div[2]/div[2]/div[1]/h2')\n",
    "#    # /html/body/div[6]/div[4]/div[3]/div/div/div/div/div[2]/main/div[1]/section/div[2]/div[2]/div[1]/h2\n",
    "#    print('opcion 1')#\n",
    "#\n",
    "#elif   browser.find_element_by_xpath\\\n",
    "#    ('/html/body/div[5]/div[3]/div[3]/div/div/div/div/div[2]/main/div[1]/section/div[2]/div[2]/div[1]/h2'):\n",
    "#    profile_headline = browser.find_element_by_xpath\\\n",
    "#    ('/html/body/div[5]/div[3]/div[3]/div/div/div/div/div[2]/main/div[1]/section/div[2]/div[2]/div[1]/h2')\n",
    "#    print('opcion 2')#\n",
    "#\n",
    "##except:\n",
    "#elif browser.find_element_by_xpath\\\n",
    "#    ('/html/body/div[5]/div[4]/div[3]/div/div/div/div/div[2]/main/div[1]/section/div[2]/div[2]/div[1]/h2'):\n",
    "#    profile_headline = browser.find_element_by_xpath\\\n",
    "#    ('/html/body/div[5]/div[4]/div[3]/div/div/div/div/div[2]/main/div[1]/section/div[2]/div[2]/div[1]/h2')\n",
    "#    print('opcion 3')\n",
    "#    \n",
    "#profile_headline.text"
   ]
  },
  {
   "cell_type": "code",
   "execution_count": 22,
   "metadata": {},
   "outputs": [
    {
     "name": "stdout",
     "output_type": "stream",
     "text": [
      "Open to job opportunities\n",
      "Data Analyst, Data Scientist and Business Analyst roles\n",
      "See all details\n",
      "Only recruiters\n"
     ]
    },
    {
     "data": {
      "text/plain": [
       "True"
      ]
     },
     "execution_count": 22,
     "metadata": {},
     "output_type": "execute_result"
    }
   ],
   "source": [
    "profile_open = browser.find_element_by_xpath(\"//artdeco-carousel-content[@class='artdeco-carousel__content']\")\n",
    "print(profile_open.text)\n",
    "\n",
    "if profile_open.text.split(\" \")[0] == 'Open':\n",
    "    open_status = True\n",
    "else:\n",
    "    open_status = False\n",
    "open_status"
   ]
  },
  {
   "cell_type": "markdown",
   "metadata": {},
   "source": [
    "#### About:"
   ]
  },
  {
   "cell_type": "code",
   "execution_count": 23,
   "metadata": {},
   "outputs": [],
   "source": [
    "# show MORE > button \"see more \"\n",
    "profile_show_about = browser.find_element_by_xpath(\"//span[@class='lt-line-clamp__line lt-line-clamp__line--last']\")\n",
    "ActionChains(browser).move_to_element(profile_show_about).perform()\n",
    "profile_show_about.click()"
   ]
  },
  {
   "cell_type": "code",
   "execution_count": 24,
   "metadata": {},
   "outputs": [
    {
     "data": {
      "text/plain": [
       "'data scientist & analyst and industrial engineer, 7 years of experience in data analysis, project management, process management and business intelligence.\\n\\ngreat motivation and knowledge in data science and innovation. high analytic, problem solving skill and focused on achievements.\\n\\ngood learning capacity with high disposition to teach and concerned about good labour relations.\\n\\ni am interested in taking part of teams who want to take on new challenges.'"
      ]
     },
     "execution_count": 24,
     "metadata": {},
     "output_type": "execute_result"
    }
   ],
   "source": [
    "# Getting HEADLINE table\n",
    "profile_about = browser.find_element_by_xpath(\"//p[@class='pv-about__summary-text mt4 t-14 ember-view']\")\n",
    "about = profile_about.text.lower()\n",
    "about"
   ]
  },
  {
   "cell_type": "markdown",
   "metadata": {},
   "source": [
    "#### Job experience:"
   ]
  },
  {
   "cell_type": "code",
   "execution_count": 25,
   "metadata": {},
   "outputs": [],
   "source": [
    "html_body.send_keys(Keys.PAGE_DOWN * 5)\n",
    "time.sleep(0.2)\n",
    "html_body.send_keys(Keys.PAGE_DOWN * 5)\n",
    "time.sleep(0.2)"
   ]
  },
  {
   "cell_type": "code",
   "execution_count": 26,
   "metadata": {},
   "outputs": [],
   "source": [
    "# id='profile-content' >>   /html/body/div[5]/div[4]/div[3]\n",
    "# class='profile-detail' >> /html/body/div[5]/div[4]/div[3]/div/div/div/div/div[2]/main/div[7]\n",
    "#/html/body/div[5]/div[4]/div[3]/div/div/div/div/div[2]/main/div[7]/div[2]/span/div/section/div[1]"
   ]
  },
  {
   "cell_type": "code",
   "execution_count": 27,
   "metadata": {},
   "outputs": [],
   "source": [
    "# show more experiences\n",
    "#try:    \n",
    "#if   browser.find_element_by_xpath('/html/body/div[5]/div[4]/div[3]/div/div/div/div/div[2]/main/div[7]/div[2]/span/div/section/div[1]/section/div/button'):\n",
    "#                                   #/html/body/div[5]/div[4]/div[3]/div/div/div/div/div[2]/main/div[7]/div[2]/span/div/section/div[1]/section/div/button\n",
    "#    profile_show_experience = browser.find_element_by_xpath('/html/body/div[5]/div[4]/div[3]/div/div/div/div/div[2]/main/div[7]/div[2]/span/div/section/div[1]/section/div/button')\n",
    "#    print(1)\n",
    "##except:\n",
    "#elif browser.find_element_by_xpath('/html/body/div[5]/div[3]/div[3]/div/div/div/div/div[2]/main/div[7]/div[2]/span/div/section/div[1]/section/div/button'):\n",
    "#    profile_show_experience = browser.find_element_by_xpath ('/html/body/div[5]/div[3]/div[3]/div/div/div/div/div[2]/main/div[7]/div[2]/span/div/section/div[1]/section/div/button')\n",
    "#    print(2)\n",
    "#    #actions = ActionChains(browser)\n",
    "#    #actions.move_to_element(profile_show_experience).perform()##\n",
    "#\n",
    "##except:\n",
    "#    #actions = ActionChains(browser)\n",
    "#    #actions.move_to_element(profile_show_experience).perform()\n",
    "#time.sleep(1)  "
   ]
  },
  {
   "cell_type": "code",
   "execution_count": 28,
   "metadata": {},
   "outputs": [],
   "source": [
    "# show MORE experiences > button \"show more experience\"\n",
    "profile_show_experience = browser.find_element_by_xpath\\\n",
    "(\"//button[@class='pv-profile-section__see-more-inline pv-profile-section__text-truncate-toggle link link-without-hover-state']\")\n",
    "ActionChains(browser).move_to_element(profile_show_experience).perform()\n",
    "profile_show_experience.click()\n",
    "html_body.send_keys(Keys.PAGE_UP)"
   ]
  },
  {
   "cell_type": "code",
   "execution_count": 29,
   "metadata": {},
   "outputs": [],
   "source": [
    "#try:\n",
    "#  # Tries to click an element\n",
    "#  profile_show_experience.click()\n",
    "#except ElementClickInterceptedException:\n",
    "#  # Use Javascript to scroll down to bottom of page\n",
    "#  browser.execute_script(\"window.scrollTo(0, document.body.scrollHeight);\")"
   ]
  },
  {
   "cell_type": "code",
   "execution_count": 30,
   "metadata": {},
   "outputs": [],
   "source": [
    "# experiences > text\n",
    "#if browser.find_element_by_xpath('/html/body/div[5]/div[4]/div[3]/div/div/div/div/div[2]/main/div[7]/div[2]/span/div/section/div[1]'):\n",
    "#    profile_experience = browser.find_element_by_xpath\\\n",
    "#    ('/html/body/div[5]/div[4]/div[3]/div/div/div/div/div[2]/main/div[7]/div[2]/span/div/section/div[1]')##\n",
    "#\n",
    "#elif browser.find_element_by_xpath(  '/html/body/div[5]/div[3]/div[3]/div/div/div/div/div[2]/main/div[7]/div[2]/span/div/section/div[1]'):\n",
    "#    profile_experience = browser.find_element_by_xpath\\\n",
    "#    ('/html/body/div[5]/div[3]/div[3]/div/div/div/div/div[2]/main/div[7]/div[2]/span/div/section/div[1]')\n",
    "#    \n",
    "#profile_experience.text "
   ]
  },
  {
   "cell_type": "code",
   "execution_count": 31,
   "metadata": {},
   "outputs": [
    {
     "data": {
      "text/plain": [
       "'Experience\\nCollection Coordination Analyst\\nCompany Name\\nGrupo CIL Marketing Directo Full-time\\nDates Employed\\nMar 2019 – Present\\nEmployment Duration\\n1 yr 2 mos\\nLocation\\nMadrid Area, Spain\\nAnalyze the customer payment behavior to create and manage the development of new processes and projects.\\n\\nResponsible for the coordination of the collection processes in Spain, France and Portugal, ensuring the proper functioning in all countries.\\nReal Estate Agent\\nCompany Name\\nRedpiso Grupo Inmobiliario y Financiero Full-time\\nDates Employed\\nApr 2018 – Mar 2019\\nEmployment Duration\\n1 yr\\nLocation\\nMadrid Area, Spain\\nManage a portfolio of properties, negotiating to catch new products and offering them to others clients.\\n\\nBringing assistance to sellers and buyers to close transactions from the beginning to the end of the process.\\n…\\nsee more\\nPricing Analyst\\nCompany Name\\nClaro Chile S.A. Full-time\\nDates Employed\\nFeb 2015 – Feb 2017\\nEmployment Duration\\n2 yrs 1 mo\\nLocation\\nSantiago, Chile\\nDefine and upgrade the cost and pricing model of different TELECOM and IT products of the Enterprises Market area, also helping to product areas on launching of new products, supporting to sellers in sales processes, and advising to engineers checking the design of standard projects.\\n\\nDesign special offers to promote the sales of specific products, checking in parallel the prices of the products in the market.\\n\\n• Implementation of new evaluation tools for sales team, optimizing response time to clients from 2 weeks to 1 day.\\n• Development of new standard offer of products based on demand from different customer segments.\\n…\\nsee more\\nFinancial Analyst\\nCompany Name\\nSupermercados Tottus. Full-time\\nDates Employed\\nFeb 2014 – Sep 2014\\nEmployment Duration\\n8 mos\\nLocation\\nSantiago, Chile\\nGenerate commercial relationship with different entities involved, attending to their needs, evaluating indicators for cost optimization and detecting deviations.\\n\\nElaborate financial reports for Tottus’ Management and Directorate.\\n\\n• Improvement and optimization in Financial Reporting, reducing reporting time process in 20%.\\n…\\nsee more\\nContinuous Improvement Engineer\\nCompany Name\\nFinning South America Full-time\\nDates Employed\\nJul 2013 – Jan 2014\\nEmployment Duration\\n7 mos\\nLocation\\nSantiago, Chile\\nModel and redesign the processes that formed the different Finning businesses, in order to achieve connected and efficient process flows.\\n\\nDetect opportunities for improvement in different areas.\\n\\n• Redesign of Equipment Logistic process with SCOR methodology, eliminating waste and optimizing process time.\\n…\\nsee more\\nCompany Name\\nARAUCO, planta Horcones I\\nTotal Duration\\n3 yrs 5 mos\\nTitle\\nOperational Excellence Lead\\nFull-time\\nDates Employed\\nJul 2011 – Jan 2013\\nEmployment Duration\\n1 yr 7 mos\\nLocation\\nArauco, Chile\\nGenerate, control and manage the projects created in base of the methodology of Operational Excellence (OE), ensuring these are focused in three principal items: Safety, Environment and Business\\n\\nWorking to reduce process gaps with the goal to improve the Processes Management Indicator (PMI).\\n\\nTrain staff in concepts of Continuous Improvement and Operational Excellence\\n\\n• Annual record in project generation (25) / Fourth place in the national project competition of OE.\\n• Implementation of training plan for workers in each area of the plant, in addition to a plan to expand the philosophy of Continuous Improvement.\\n• Definition and work with EO leaders in each area.\\n…\\nsee more\\nTitle\\nProcess Management Consultant\\nFull-time\\nDates Employed\\nSep 2010 – Jul 2011\\nEmployment Duration\\n11 mos\\nLocation\\nArauco, Chile\\nGenerate, control and manage the improvement of operational KPI on each area of the company (Yield, Factor of Operation, Variable Costs), in order to reduce the gap by comparing with optimal scenarios of each process indicator.\\n\\n• Improvement of PMI from 10% to 7% through the management and control of the project portfolio.\\n…\\nsee more\\nShow 1 more role\\nShow fewer experiences'"
      ]
     },
     "execution_count": 31,
     "metadata": {},
     "output_type": "execute_result"
    }
   ],
   "source": [
    "# experiences > text\n",
    "profile_experience = browser.find_element_by_id('experience-section')\n",
    "profile_experience.text "
   ]
  },
  {
   "cell_type": "code",
   "execution_count": 32,
   "metadata": {},
   "outputs": [
    {
     "data": {
      "text/plain": [
       "['1 yr 2 mos', '1 yr', '2 yrs 1 mo', '8 mos', '7 mos', '1 yr 7 mos', '11 mos']"
      ]
     },
     "execution_count": 32,
     "metadata": {},
     "output_type": "execute_result"
    }
   ],
   "source": [
    "# getting info: time experience\n",
    "pattern_1 = 'Employment Duration\\n(.*)\\nLocation'\n",
    "time_experience = list(re.findall(pattern_1 , profile_experience.text))\n",
    "time_experience"
   ]
  },
  {
   "cell_type": "code",
   "execution_count": 33,
   "metadata": {},
   "outputs": [
    {
     "data": {
      "text/plain": [
       "['collection coordination analyst',\n",
       " 'real estate agent',\n",
       " 'pricing analyst',\n",
       " 'financial analyst',\n",
       " 'continuous improvement engineer',\n",
       " 'operational excellence lead',\n",
       " 'process management consultant']"
      ]
     },
     "execution_count": 33,
     "metadata": {},
     "output_type": "execute_result"
    }
   ],
   "source": [
    "# getting info: name experience\n",
    "pattern_n1 = '\\n(.*)\\ncompany name'\n",
    "name_experience1 = list(re.findall(pattern_n1 , profile_experience.text.lower()))\n",
    "pattern_n2 = 'title\\n(.*)\\n'\n",
    "name_experience2 = list(re.findall(pattern_n2 , profile_experience.text.lower()))\n",
    "name_experience = name_experience1 + name_experience2 \n",
    "name_experience.remove('see more')\n",
    "name_experience"
   ]
  },
  {
   "cell_type": "code",
   "execution_count": 34,
   "metadata": {},
   "outputs": [
    {
     "name": "stdout",
     "output_type": "stream",
     "text": [
      "1 yr 2 mos\n",
      "1 yr\n",
      "2 yrs 1 mo\n",
      "8 mos\n",
      "7 mos\n",
      "1 yr 7 mos\n",
      "11 mos\n",
      "5 years - 26 months\n",
      "7 years - 2 months\n"
     ]
    }
   ],
   "source": [
    "y, m = 0 , 0\n",
    "for t in time_experience:\n",
    "    print(t)\n",
    "    if re.findall('[0-9] yr', t):\n",
    "        year  = re.findall('[0-9] yr', t)[0].split(\" \")[0]\n",
    "        y += int(year)\n",
    "    if re.findall('[0-9] mo', t):\n",
    "        month = re.findall('[0-9] mo', t)[0].split(\" \")[0]\n",
    "        m += int(month)\n",
    "print(y, \"years -\", m,\"months\")\n",
    "m_nuevo = m//12\n",
    "y_nuevo = y + m%12\n",
    "print(y_nuevo , \"years -\", m_nuevo ,\"months\")"
   ]
  },
  {
   "cell_type": "markdown",
   "metadata": {},
   "source": [
    "#### Education:"
   ]
  },
  {
   "cell_type": "code",
   "execution_count": 35,
   "metadata": {},
   "outputs": [
    {
     "data": {
      "text/plain": [
       "\"education\\nironhack\\ndegree name\\nmaster's degree\\nfield of study\\ndata analytics\\ndates attended or expected graduation\\n2019 – 2020\\n- tools and technologies: git, mysql, python, pandas, numpy, web scraping, matplotlib, seaborn, scipy, scikit-learn, tableau\\n- good development practices: data cleaning, data manipulation, data interpretation (apis, web scraping), data visualization, data pipelines, descriptive statistics, business intelligence, supervised and unsupervised learning\\nuniversidad de concepción\\ndegree name\\nbachelor of engineering - be\\nfield of study\\nindustrial engineering\\ngrade\\napproved with maximum distinction. grade 6.0 of 7.0\\ndates attended or expected graduation\\n2003 – 2009\\nactivities and societies: - participation in a student center - drummer in a band - basketball, capoeira, taekwondo\\ncivil industrial engineer, universidad de concepción\\nsubjects as :\\n- project evaluation and management\\n- quality management and six sigma\\n- logistic management\\n- operations research\\n- planning and scheduling of production\\n- financial management\\n- process simulation\\n- advanced statistics\""
      ]
     },
     "execution_count": 35,
     "metadata": {},
     "output_type": "execute_result"
    }
   ],
   "source": [
    "profile_education = browser.find_element_by_id('education-section')\n",
    "profile_education.text.lower()"
   ]
  },
  {
   "cell_type": "code",
   "execution_count": 36,
   "metadata": {},
   "outputs": [
    {
     "data": {
      "text/plain": [
       "['master', 'engineering - be']"
      ]
     },
     "execution_count": 36,
     "metadata": {},
     "output_type": "execute_result"
    }
   ],
   "source": [
    "# getting info: degrees\n",
    "pattern_2 = 'degree name\\n(.*)\\n'\n",
    "degrees = \\\n",
    "re.findall(pattern_2 , profile_education.text.lower())\n",
    "\n",
    "degrees = [x.replace('bachelor of ','').replace('\\'s degree','') for x in degrees ]\n",
    "degrees"
   ]
  },
  {
   "cell_type": "code",
   "execution_count": 37,
   "metadata": {},
   "outputs": [
    {
     "data": {
      "text/plain": [
       "['data analytics', 'industrial engineering']"
      ]
     },
     "execution_count": 37,
     "metadata": {},
     "output_type": "execute_result"
    }
   ],
   "source": [
    "# getting info: grades\n",
    "pattern_3 = 'field of study\\n(.*)\\n'\n",
    "fields = re.findall(pattern_3 , profile_education.text.lower())\n",
    "fields"
   ]
  },
  {
   "cell_type": "code",
   "execution_count": null,
   "metadata": {},
   "outputs": [],
   "source": []
  },
  {
   "cell_type": "markdown",
   "metadata": {},
   "source": [
    "#### Skills:"
   ]
  },
  {
   "cell_type": "code",
   "execution_count": 38,
   "metadata": {},
   "outputs": [],
   "source": [
    "#show MORE skills > > button \"show more...\"\n",
    "profile_more_skills =  browser.find_element_by_xpath(\"//button[@data-control-name='skill_details']\")\n",
    "ActionChains(browser).move_to_element(profile_more_skills).perform()\n",
    "profile_more_skills.click()\n",
    "html_body.send_keys(Keys.PAGE_UP)"
   ]
  },
  {
   "cell_type": "code",
   "execution_count": 39,
   "metadata": {},
   "outputs": [
    {
     "data": {
      "text/plain": [
       "'Skills & Endorsements\\nAdd a new skill\\nTake skill quiz\\nMicrosoft Excel\\nSee 5 endorsements for Microsoft Excel\\n5\\nEndorsed by Reinaldo Alarcón Campos, who is highly skilled at this\\nEndorsed by 2 of Cristopher’s colleagues at ARAUCO\\nPassed: LinkedIn Assessments\\nData Analytics\\nSee 1 endorsement for Data Analytics\\n1\\nVictor Galan Vaquerizo has given an endorsement for this skill\\nPython (Programming Language)\\nSee 2 endorsements for Python (Programming Language)\\n2\\nVictor Galan Vaquerizo and 1 connection have given endorsements for this skill\\nIndustry Knowledge\\nProject Management\\nBusiness Process Improvement\\nContinuous Improvement\\nSix Sigma\\nLean manufacturing\\nSee 1 endorsement for Lean manufacturing\\n1\\nBusiness Analysis\\nData Analysis\\nSee 1 endorsement for Data Analysis\\n1\\nProgramming\\nEngineering\\nBusiness Intelligence\\nAnalytical Skills\\nScrum\\nFinancial Analysis\\nStatistics\\nProcess Optimization\\nProcess Engineering\\nMachine Learning\\nData Modeling\\nData Visualization\\nData Science\\nTools & Technologies\\nMicrosoft Office\\nSee 7 endorsements for Microsoft Office\\n7\\nMicrosoft Project\\nSee 1 endorsement for Microsoft Project\\n1\\nVBA\\nSAP\\nSee 2 endorsements for SAP\\n2\\nSQL\\nR\\nTableau\\nBash\\nGit\\nMySQL\\nInterpersonal Skills\\nTeam Management\\nTeamwork\\nNegotiation\\nSee 1 endorsement for Negotiation\\n1\\nLeadership\\nLanguages\\nEnglish\\nEspañol\\nOther Skills\\nMicrosoft Power BI\\nTelco\\nMicrosoft Power Query\\nPower Pivot\\nData Pipelines\\nWeb Scraping\\nVisual Basic for Applications (VBA)\\nNumPy\\nPandas (Software)\\nSeaborn\\nJupyter\\nShow less\\nShow only Cristopher’s featured skills'"
      ]
     },
     "execution_count": 39,
     "metadata": {},
     "output_type": "execute_result"
    }
   ],
   "source": [
    "# skill table> text\n",
    "profile_skills_details = browser.find_element_by_xpath\\\n",
    "(\"//section[@class='pv-profile-section pv-skill-categories-section artdeco-container-card ember-view']\")\n",
    "profile_skills_details.text"
   ]
  },
  {
   "cell_type": "code",
   "execution_count": 40,
   "metadata": {},
   "outputs": [
    {
     "name": "stdout",
     "output_type": "stream",
     "text": [
      "['Skills & Endorsements', 'Add a new skill', 'Take skill quiz', 'Microsoft Excel', 'See 5 endorsements for Microsoft Excel', '5', 'Endorsed by Reinaldo Alarcón Campos, who is highly skilled at this', 'Endorsed by 2 of Cristopher’s colleagues at ARAUCO', 'Passed: LinkedIn Assessments', 'Data Analytics', 'See 1 endorsement for Data Analytics', '1', 'Victor Galan Vaquerizo has given an endorsement for this skill', 'Python (Programming Language)', 'See 2 endorsements for Python (Programming Language)', '2', 'Victor Galan Vaquerizo and 1 connection have given endorsements for this skill', 'Industry Knowledge', 'Project Management', 'Business Process Improvement', 'Continuous Improvement', 'Six Sigma', 'Lean manufacturing', 'See 1 endorsement for Lean manufacturing', '1', 'Business Analysis', 'Data Analysis', 'See 1 endorsement for Data Analysis', '1', 'Programming', 'Engineering', 'Business Intelligence', 'Analytical Skills', 'Scrum', 'Financial Analysis', 'Statistics', 'Process Optimization', 'Process Engineering', 'Machine Learning', 'Data Modeling', 'Data Visualization', 'Data Science', 'Tools & Technologies', 'Microsoft Office', 'See 7 endorsements for Microsoft Office', '7', 'Microsoft Project', 'See 1 endorsement for Microsoft Project', '1', 'VBA', 'SAP', 'See 2 endorsements for SAP', '2', 'SQL', 'R', 'Tableau', 'Bash', 'Git', 'MySQL', 'Interpersonal Skills', 'Team Management', 'Teamwork', 'Negotiation', 'See 1 endorsement for Negotiation', '1', 'Leadership', 'Languages', 'English', 'Español', 'Other Skills', 'Microsoft Power BI', 'Telco', 'Microsoft Power Query', 'Power Pivot', 'Data Pipelines', 'Web Scraping', 'Visual Basic for Applications (VBA)', 'NumPy', 'Pandas (Software)', 'Seaborn', 'Jupyter', 'Show less', 'Show only Cristopher’s featured skills']\n"
     ]
    }
   ],
   "source": [
    "skills = profile_skills_details.text.split(\"\\n\")\n",
    "print(skills)\n",
    "not_needed_words = ['Skills & Endorsements', \n",
    "                    'Add a new skill', \n",
    "                    'Take skill quiz', \n",
    "                    'Passed: LinkedIn Assessments',\n",
    "                    'Tools & Technologies',\n",
    "                    'Interpersonal Skills',\n",
    "                    'Languages',\n",
    "                    'Other Skills',\n",
    "                    'Show less',\n",
    "                   ]"
   ]
  },
  {
   "cell_type": "code",
   "execution_count": 41,
   "metadata": {},
   "outputs": [
    {
     "name": "stdout",
     "output_type": "stream",
     "text": [
      "['Skills & Endorsements', 'Add a new skill', 'Take skill quiz', 'See 5 endorsements for Microsoft Excel', '5', 'Endorsed by Reinaldo Alarcón Campos, who is highly skilled at this', 'Endorsed by 2 of Cristopher’s colleagues at ARAUCO', 'Passed: LinkedIn Assessments', 'See 1 endorsement for Data Analytics', '1', 'Victor Galan Vaquerizo has given an endorsement for this skill', 'See 2 endorsements for Python (Programming Language)', '2', 'Victor Galan Vaquerizo and 1 connection have given endorsements for this skill', 'See 1 endorsement for Lean manufacturing', '1', 'See 1 endorsement for Data Analysis', '1', 'Tools & Technologies', 'See 7 endorsements for Microsoft Office', '7', 'See 1 endorsement for Microsoft Project', '1', 'See 2 endorsements for SAP', '2', 'Interpersonal Skills', 'See 1 endorsement for Negotiation', '1', 'Languages', 'Other Skills', 'Show less', 'Show only Cristopher’s featured skills']\n"
     ]
    },
    {
     "data": {
      "text/plain": [
       "['analytical skills',\n",
       " 'bash',\n",
       " 'business analysis',\n",
       " 'business intelligence',\n",
       " 'business process improvement',\n",
       " 'continuous improvement',\n",
       " 'data analysis',\n",
       " 'data analytics',\n",
       " 'data modeling',\n",
       " 'data pipelines',\n",
       " 'data science',\n",
       " 'data visualization',\n",
       " 'engineering',\n",
       " 'english',\n",
       " 'español',\n",
       " 'financial analysis',\n",
       " 'git',\n",
       " 'industry knowledge',\n",
       " 'jupyter',\n",
       " 'leadership',\n",
       " 'lean manufacturing',\n",
       " 'machine learning',\n",
       " 'microsoft excel',\n",
       " 'microsoft office',\n",
       " 'microsoft power bi',\n",
       " 'microsoft power query',\n",
       " 'microsoft project',\n",
       " 'mysql',\n",
       " 'negotiation',\n",
       " 'numpy',\n",
       " 'pandas',\n",
       " 'power pivot',\n",
       " 'process engineering',\n",
       " 'process optimization',\n",
       " 'programming',\n",
       " 'project management',\n",
       " 'python',\n",
       " 'r',\n",
       " 'sap',\n",
       " 'scrum',\n",
       " 'seaborn',\n",
       " 'six sigma',\n",
       " 'sql',\n",
       " 'statistics',\n",
       " 'tableau',\n",
       " 'team management',\n",
       " 'teamwork',\n",
       " 'telco',\n",
       " 'vba',\n",
       " 'visual basic for applications',\n",
       " 'web scraping']"
      ]
     },
     "execution_count": 41,
     "metadata": {},
     "output_type": "execute_result"
    }
   ],
   "source": [
    "#Getting just necesary skills\n",
    "skills_delete = []\n",
    "for s in skills:\n",
    "    #if (s in not_needed_words) or ('ndorse' in s) or ('Show only' in s) or s.isdigit():\n",
    "    if (s in not_needed_words) or re.search('ndorse',s) or re.search('Show only',s) or re.search('[0-9]',s):\n",
    "        #print(s)\n",
    "        skills_delete.append(s)\n",
    "        \n",
    "        #skills.remove(s)\n",
    "print(skills_delete)\n",
    "skills_clean = list(set(skills)-set(skills_delete))\n",
    "skills_clean = [ x.lower().split(' (')[0] for x in skills_clean]\n",
    "sorted(skills_clean)"
   ]
  },
  {
   "cell_type": "code",
   "execution_count": 42,
   "metadata": {},
   "outputs": [],
   "source": [
    "#skills_1 = re.findall( '\\n(.*)\\nSee' , profile_skills_details.text.split(\"\\nIndustry Knowledge\")[0])\n",
    "#skills_1"
   ]
  },
  {
   "cell_type": "code",
   "execution_count": 43,
   "metadata": {},
   "outputs": [],
   "source": [
    "#skills_2_delete = re.findall('\\nShow less\\nShow only(.*)featured skills', profile_skills_details.text.split(\"\\nIndustry Knowledge\")[1])[0]\n",
    "#skills_2_delete"
   ]
  },
  {
   "cell_type": "code",
   "execution_count": 44,
   "metadata": {},
   "outputs": [],
   "source": [
    "#skills_2 = profile_skills_details.text.split(\"\\nIndustry Knowledge\")[1]\\\n",
    "#                                    .replace(\"\\nTools & Technologies\",\"\")\\\n",
    "#                                    .replace(\"\\nInterpersonal Skills\",\"\")\\\n",
    "#                                    .replace(\"\\nLanguages\",\"\")\\\n",
    "#                                    .replace(\"\\nOther Skills\",\"\")\\\n",
    "#                                    .split(\"\\n\")\n",
    "#.replace(f\"\\nShow less\\nShow only{skills_2_delete}featured skills'\",\"\")\\\n",
    "#skills_2                            "
   ]
  },
  {
   "cell_type": "markdown",
   "metadata": {},
   "source": [
    "#### Languages:"
   ]
  },
  {
   "cell_type": "code",
   "execution_count": 45,
   "metadata": {},
   "outputs": [
    {
     "data": {
      "text/plain": [
       "['english', 'spanish']"
      ]
     },
     "execution_count": 45,
     "metadata": {},
     "output_type": "execute_result"
    }
   ],
   "source": [
    "languages = browser.find_element_by_id('languages-expandable-content').text.split(' ')\n",
    "languages = [x.lower() for x in languages]\n",
    "languages"
   ]
  },
  {
   "cell_type": "code",
   "execution_count": 46,
   "metadata": {},
   "outputs": [
    {
     "data": {
      "text/plain": [
       "['analytical skills',\n",
       " 'bash',\n",
       " 'business analysis',\n",
       " 'business intelligence',\n",
       " 'business process improvement',\n",
       " 'continuous improvement',\n",
       " 'data analysis',\n",
       " 'data analytics',\n",
       " 'data modeling',\n",
       " 'data pipelines',\n",
       " 'data science',\n",
       " 'data visualization',\n",
       " 'engineering',\n",
       " 'engineering - be',\n",
       " 'english',\n",
       " 'español',\n",
       " 'financial analysis',\n",
       " 'git',\n",
       " 'industrial engineering',\n",
       " 'industry knowledge',\n",
       " 'jupyter',\n",
       " 'leadership',\n",
       " 'lean manufacturing',\n",
       " 'machine learning',\n",
       " 'master',\n",
       " 'microsoft excel',\n",
       " 'microsoft office',\n",
       " 'microsoft power bi',\n",
       " 'microsoft power query',\n",
       " 'microsoft project',\n",
       " 'mysql',\n",
       " 'negotiation',\n",
       " 'numpy',\n",
       " 'pandas',\n",
       " 'power pivot',\n",
       " 'process engineering',\n",
       " 'process optimization',\n",
       " 'programming',\n",
       " 'project management',\n",
       " 'python',\n",
       " 'r',\n",
       " 'sap',\n",
       " 'scrum',\n",
       " 'seaborn',\n",
       " 'six sigma',\n",
       " 'spanish',\n",
       " 'sql',\n",
       " 'statistics',\n",
       " 'tableau',\n",
       " 'team management',\n",
       " 'teamwork',\n",
       " 'telco',\n",
       " 'vba',\n",
       " 'visual basic for applications',\n",
       " 'web scraping']"
      ]
     },
     "execution_count": 46,
     "metadata": {},
     "output_type": "execute_result"
    }
   ],
   "source": [
    "total_skills = sorted(list(set(degrees + fields + skills_clean + languages)))\n",
    "total_skills"
   ]
  },
  {
   "cell_type": "code",
   "execution_count": 52,
   "metadata": {},
   "outputs": [
    {
     "data": {
      "text/plain": [
       "'Add profile section More… Cristopher Rojas Lepe Cristopher has a account Data Scientist & Analyst | Python | Pandas | NumPy | Matplotlib | Web Scrapping | Machine Learning | Tableau | SQL | Git Madrid, Community of Madrid, Spain 309 connections Contact info Grupo CIL Marketing Directo Ironhack Open to job opportunities Data Analyst, Data Scientist and Business Analyst roles See all details Only recruiters About Data Scientist & Analyst and Industrial Engineer, 7 years of experience in Data Analysis, Project Management, Process Management and Business Intelligence.  Great motivation and knowledge in Data Science and Innovation. High analytic, problem solving skill and focused on achievements.  Good learning capacity with high disposition to teach and concerned about good labour relations.  I am interested in taking part of teams who want to take on new challenges. Featured Showcase your work by featuring your best posts, documents, media, and websites. Add featured Your Dashboard Private to you All Star 58 Who viewed your profile 58 Post views 13 Search appearances Salary insights See how your salary compares to others in the community Activity 309 followers Manage followers Lo que el Corona Virus nos está enseñando a nivel laboral Cristopher shared this Pues el artículo se refiere para comenzar a programar, que es más fácil para las personas que saben sobre idiomas... Al final la programación es un idioma, y los algoritmos son instrucciones 😊 Y claro, si quieres meterte más avanzado como Machine Learning si que necesitas saber de estadística Ahora bien la idea es que la gente no crea que el lenguaje es sólo para gente \"buena en matemática\", hay que desmitificar eso, se debe abrir a más personas, incluso lo que es lenguaje verbal o escrito que se desarrolla a través de NLP es súper interesante Cristopher replied to a comment Si es bueno en idiomas, pues comience a programar!!! Cristopher shared this 2 Reactions 2 Comments AWS Innovate Online Conference Cristopher shared this Experience Collection Coordination Analyst Company Name Grupo CIL Marketing Directo Full-time Dates Employed Mar 2019 – Present Employment Duration 1 yr 2 mos Location Madrid Area, Spain Analyze the customer payment behavior to create and manage the development of new processes and projects.  Responsible for the coordination of the collection processes in Spain, France and Portugal, ensuring the proper functioning in all countries. Real Estate Agent Company Name Redpiso Grupo Inmobiliario y Financiero Full-time Dates Employed Apr 2018 – Mar 2019 Employment Duration 1 yr Location Madrid Area, Spain Manage a portfolio of properties, negotiating to catch new products and offering them to others clients.  Bringing assistance to sellers and buyers to close transactions from the beginning to the end of the process. … see more Pricing Analyst Company Name Claro Chile S.A. Full-time Dates Employed Feb 2015 – Feb 2017 Employment Duration 2 yrs 1 mo Location Santiago, Chile Define and upgrade the cost and pricing model of different TELECOM and IT products of the Enterprises Market area, also helping to product areas on launching of new products, supporting to sellers in sales processes, and advising to engineers checking the design of standard projects.  Design special offers to promote the sales of specific products, checking in parallel the prices of the products in the market.  • Implementation of new evaluation tools for sales team, optimizing response time to clients from 2 weeks to 1 day. • Development of new standard offer of products based on demand from different customer segments. … see more Financial Analyst Company Name Supermercados Tottus. Full-time Dates Employed Feb 2014 – Sep 2014 Employment Duration 8 mos Location Santiago, Chile Generate commercial relationship with different entities involved, attending to their needs, evaluating indicators for cost optimization and detecting deviations.  Elaborate financial reports for Tottus’ Management and Directorate.  • Improvement and optimization in Financial Reporting, reducing reporting time process in 20%. … see more Continuous Improvement Engineer Company Name Finning South America Full-time Dates Employed Jul 2013 – Jan 2014 Employment Duration 7 mos Location Santiago, Chile Model and redesign the processes that formed the different Finning businesses, in order to achieve connected and efficient process flows.  Detect opportunities for improvement in different areas.  • Redesign of Equipment Logistic process with SCOR methodology, eliminating waste and optimizing process time. … see more Company Name ARAUCO, planta Horcones I Total Duration 3 yrs 5 mos Title Operational Excellence Lead Full-time Dates Employed Jul 2011 – Jan 2013 Employment Duration 1 yr 7 mos Location Arauco, Chile Generate, control and manage the projects created in base of the methodology of Operational Excellence (OE), ensuring these are focused in three principal items: Safety, Environment and Business  Working to reduce process gaps with the goal to improve the Processes Management Indicator (PMI).  Train staff in concepts of Continuous Improvement and Operational Excellence  • Annual record in project generation (25) / Fourth place in the national project competition of OE. • Implementation of training plan for workers in each area of the plant, in addition to a plan to expand the philosophy of Continuous Improvement. • Definition and work with EO leaders in each area. … see more Title Process Management Consultant Full-time Dates Employed Sep 2010 – Jul 2011 Employment Duration 11 mos Location Arauco, Chile Generate, control and manage the improvement of operational KPI on each area of the company (Yield, Factor of Operation, Variable Costs), in order to reduce the gap by comparing with optimal scenarios of each process indicator.  • Improvement of PMI from 10% to 7% through the management and control of the project portfolio. … see more Show 1 more role Show fewer experiences Education Ironhack Degree Name Master\\'s degree Field Of Study Data Analytics Dates attended or expected graduation 2019 – 2020 - Tools and technologies: Git, MySQL, Python, Pandas, Numpy, Web Scraping, Matplotlib, Seaborn, Scipy, Scikit-Learn, Tableau - Good development practices: Data cleaning, data manipulation, data interpretation (APIs, Web Scraping), data visualization, Data Pipelines, descriptive statistics, Business Intelligence, supervised and unsupervised learning Universidad de Concepción Degree Name Bachelor of Engineering - BE Field Of Study Industrial Engineering Grade Approved with Maximum Distinction. Grade 6.0 of 7.0 Dates attended or expected graduation 2003 – 2009 Activities and Societies: - Participation in a student center - Drummer in a band - Basketball, capoeira, taekwondo Civil Industrial Engineer, Universidad de Concepción Subjects as : - Project Evaluation and Management - Quality Management and Six Sigma - Logistic Management - Operations research - Planning and scheduling of production - Financial management - Process simulation - Advanced Statistics Licenses & Certifications Excel Business Intelligence Part 1: Power Query Issuing authority LinkedIn Issued date and, if applicable, expiration date of the certification or license Issued Apr 2019No Expiration Date See credential Excel Business Intelligence Part 2: Data Modeling 101 Issuing authority LinkedIn Issued date and, if applicable, expiration date of the certification or license Issued Apr 2019No Expiration Date See credential Introducción al Machine Learning (5.ª edición) Issuing authority Miríadax Issued date and, if applicable, expiration date of the certification or license Issued Mar 2019No Expiration Date Credential Identifier Credential ID 12691771 See credential Show more Volunteer Experience Mentoring Company Name Integrare BioBio Dates volunteered Sep 2013 – Dec 2013 Volunteer duration 4 mos Cause Economic Empowerment Support to the owner of PEJE company of the city of Arauco. Deliver knowledge in tools like Excel, to help better control the business in relation to costs, customers, etc. Help in the presentation of the company to open to new businesses. Cost study Company Name Corporación Simón de Cirene Dates volunteered May 2008 – Jul 2008 Volunteer duration 3 mos Cause Economic Empowerment With 3 career partners and an entrepreneur, we participated in the Triangle Project of the \"Simón de Cirene\" Corporation, advising the company \"Cecinas Tres Torres\" in Concepción and Chillán. A computational costing tool was developed for a product and a presentation of the company and its products to enter a new market was also designed. Skills & Endorsements Add a new skill Take skill quiz Microsoft Excel See 5 endorsements for Microsoft Excel 5 Endorsed by Reinaldo Alarcón Campos, who is highly skilled at this Endorsed by 2 of Cristopher’s colleagues at ARAUCO Passed: LinkedIn Assessments Data Analytics See 1 endorsement for Data Analytics 1 Victor Galan Vaquerizo has given an endorsement for this skill Python (Programming Language) See 2 endorsements for Python (Programming Language) 2 Victor Galan Vaquerizo and 1 connection have given endorsements for this skill Industry Knowledge Project Management Business Process Improvement Continuous Improvement Six Sigma Lean manufacturing See 1 endorsement for Lean manufacturing 1 Business Analysis Data Analysis See 1 endorsement for Data Analysis 1 Programming Engineering Business Intelligence Analytical Skills Scrum Financial Analysis Statistics Process Optimization Process Engineering Machine Learning Data Modeling Data Visualization Data Science Tools & Technologies Microsoft Office See 7 endorsements for Microsoft Office 7 Microsoft Project See 1 endorsement for Microsoft Project 1 VBA SAP See 2 endorsements for SAP 2 SQL R Tableau Bash Git MySQL Interpersonal Skills Team Management Teamwork Negotiation See 1 endorsement for Negotiation 1 Leadership Languages English Español Other Skills Microsoft Power BI Telco Microsoft Power Query Power Pivot Data Pipelines Web Scraping Visual Basic for Applications (VBA) NumPy Pandas (Software) Seaborn Jupyter Show less Show only Cristopher’s featured skills Ask for a recommendation Recommendations Received (3) Given (3) Aquiles Barba Asenjo Jefe de Inteligencia y Desarrollo de Negocio en Claro Chile S.A. August 16, 2017, Aquiles worked with Cristopher in different groups Proactive, with high skills to work in a team. Resolute when he is faced with problems. Great knowledge in Process Managment and Continuous Improvement. Focused in personal goals and on reaching the results of the company. Reinaldo A. Gallegos Rabanal Safety Health & Environment Manager Nestlé Chile S.A Fábrica Los Ángeles. November 24, 2014, Reinaldo A. managed Cristopher directly Trabajé con Cristopher en Aserradero Horcones I alrededor de 3 años y medio, durante su gestión como Jefe de Excelencia Operacional y Gestión de Procesos destaco su capacidad para formar equipos de trabajo y liderar proyectos de gran impacto en Asset Intensity, comentar también que uno de sus gr... See more Show more Show more Accomplishments Cristopher has 8 courses 8 Courses 5S Monitor Training / ACHS Continuous Improvement CPS Methodology (Caterpillar Production System) / Finning Southamerica Design of Innovation Projects to apply for Public Funds / CPCC Capacitación Ltda Development of Competences for Social and Labor Behavior / UDEC Capacita Innova Arauco Program / Carlos Osorio, DBF, Universidad Adolfo Ibañez Management Control: A tool for decision making / IRADE Upper Intermediate English course - ACE English MALTA Use of Tools and Optimization of Annual Training Plans / Instituto Valle Central Cristopher has 2 languages 2 Languages English Spanish Cristopher has 1 project 1 Project Development of Excel Add-In to implement Statistical Process Control in a manufacturing process Cristopher has 1 test score 1 Test Score TOEIC Interests Oracle 5,238,572 followers IBM 8,237,430 followers Red Ingenieros de Chile 47,609 members SCRUMstudy - #1 Group for Scrum and Agile; For Scrum Master, Product Owner and Project Team Members 107,705 members ¡Johnson & Johnson Southern Cone: Anímate a vivir la experiencia! 13,792 members Deloitte 4,816,710 followers See all See all following'"
      ]
     },
     "execution_count": 52,
     "metadata": {},
     "output_type": "execute_result"
    }
   ],
   "source": [
    "#raw profile\n",
    "#profile_raw = browser.find_element_by_xpath(\"//main[@class='core-rail']\").text.replace(\"\\nActivity(.*)\\nExperience\",\" \")\n",
    "profile_raw = browser.find_element_by_xpath(\"//main[@class='core-rail']\").text.replace(\"\\n\",\" \")\n",
    "profile_raw"
   ]
  },
  {
   "cell_type": "code",
   "execution_count": 53,
   "metadata": {},
   "outputs": [],
   "source": [
    "# Creating df_profile\n",
    "profile = [linkedin_profile, headline, open_status, about, name_experience, time_experience ,\n",
    "           y_nuevo, degrees, fields, skills_clean, languages, total_skills, profile_raw]\n",
    "\n",
    "df_profile = pd.DataFrame(profile,\n",
    "                          index = ['profile',\n",
    "                                   'headline',\n",
    "                                   'open new jobs',\n",
    "                                   'about',\n",
    "                                   'experiences',\n",
    "                                   'years of experiences',\n",
    "                                   'total years',\n",
    "                                   'degrees',\n",
    "                                   'fields',\n",
    "                                   'skills',\n",
    "                                   'languages',\n",
    "                                   'total skills',\n",
    "                                   'profile raw'\n",
    "                                   \n",
    "                                  ],\n",
    "                          columns= ['info']\n",
    "                         )\n"
   ]
  },
  {
   "cell_type": "code",
   "execution_count": 54,
   "metadata": {},
   "outputs": [
    {
     "data": {
      "text/html": [
       "<div>\n",
       "<style scoped>\n",
       "    .dataframe tbody tr th:only-of-type {\n",
       "        vertical-align: middle;\n",
       "    }\n",
       "\n",
       "    .dataframe tbody tr th {\n",
       "        vertical-align: top;\n",
       "    }\n",
       "\n",
       "    .dataframe thead th {\n",
       "        text-align: right;\n",
       "    }\n",
       "</style>\n",
       "<table border=\"1\" class=\"dataframe\">\n",
       "  <thead>\n",
       "    <tr style=\"text-align: right;\">\n",
       "      <th></th>\n",
       "      <th>info</th>\n",
       "    </tr>\n",
       "  </thead>\n",
       "  <tbody>\n",
       "    <tr>\n",
       "      <th>profile</th>\n",
       "      <td>cristopherrojaslepe</td>\n",
       "    </tr>\n",
       "    <tr>\n",
       "      <th>headline</th>\n",
       "      <td>data scientist &amp; analyst | python | pandas | n...</td>\n",
       "    </tr>\n",
       "    <tr>\n",
       "      <th>open new jobs</th>\n",
       "      <td>True</td>\n",
       "    </tr>\n",
       "    <tr>\n",
       "      <th>about</th>\n",
       "      <td>data scientist &amp; analyst and industrial engine...</td>\n",
       "    </tr>\n",
       "    <tr>\n",
       "      <th>experiences</th>\n",
       "      <td>[collection coordination analyst, real estate ...</td>\n",
       "    </tr>\n",
       "    <tr>\n",
       "      <th>years of experiences</th>\n",
       "      <td>[1 yr 2 mos, 1 yr, 2 yrs 1 mo, 8 mos, 7 mos, 1...</td>\n",
       "    </tr>\n",
       "    <tr>\n",
       "      <th>total years</th>\n",
       "      <td>7</td>\n",
       "    </tr>\n",
       "    <tr>\n",
       "      <th>degrees</th>\n",
       "      <td>[master, engineering - be]</td>\n",
       "    </tr>\n",
       "    <tr>\n",
       "      <th>fields</th>\n",
       "      <td>[data analytics, industrial engineering]</td>\n",
       "    </tr>\n",
       "    <tr>\n",
       "      <th>skills</th>\n",
       "      <td>[microsoft power bi, bash, business process im...</td>\n",
       "    </tr>\n",
       "    <tr>\n",
       "      <th>languages</th>\n",
       "      <td>[english, spanish]</td>\n",
       "    </tr>\n",
       "    <tr>\n",
       "      <th>total skills</th>\n",
       "      <td>[analytical skills, bash, business analysis, b...</td>\n",
       "    </tr>\n",
       "    <tr>\n",
       "      <th>profile raw</th>\n",
       "      <td>Add profile section More… Cristopher Rojas Lep...</td>\n",
       "    </tr>\n",
       "  </tbody>\n",
       "</table>\n",
       "</div>"
      ],
      "text/plain": [
       "                                                                   info\n",
       "profile                                             cristopherrojaslepe\n",
       "headline              data scientist & analyst | python | pandas | n...\n",
       "open new jobs                                                      True\n",
       "about                 data scientist & analyst and industrial engine...\n",
       "experiences           [collection coordination analyst, real estate ...\n",
       "years of experiences  [1 yr 2 mos, 1 yr, 2 yrs 1 mo, 8 mos, 7 mos, 1...\n",
       "total years                                                           7\n",
       "degrees                                      [master, engineering - be]\n",
       "fields                         [data analytics, industrial engineering]\n",
       "skills                [microsoft power bi, bash, business process im...\n",
       "languages                                            [english, spanish]\n",
       "total skills          [analytical skills, bash, business analysis, b...\n",
       "profile raw           Add profile section More… Cristopher Rojas Lep..."
      ]
     },
     "execution_count": 54,
     "metadata": {},
     "output_type": "execute_result"
    }
   ],
   "source": [
    "df_profile"
   ]
  },
  {
   "cell_type": "code",
   "execution_count": null,
   "metadata": {},
   "outputs": [],
   "source": [
    "#LINUX\n",
    "if platform.system() == 'Linux':\n",
    "    df_profile.to_csv(f'../data/raw/df_profile_{linkedin_profile}.csv',\n",
    "                  sep = ';',\n",
    "                  encoding= 'utf8'\n",
    "              )\n",
    "#WINDOWS\n",
    "elif platform.system() == 'Windows':\n",
    "    df_profile.to_csv(f'..\\\\data\\\\raw\\\\df_profile_{linkedin_profile}.csv',\n",
    "                      sep = ';',\n",
    "                      encoding= 'utf8'\n",
    "                  )"
   ]
  },
  {
   "cell_type": "code",
   "execution_count": null,
   "metadata": {},
   "outputs": [],
   "source": []
  },
  {
   "cell_type": "markdown",
   "metadata": {},
   "source": [
    "***\n",
    "***\n",
    "#### JOB SEARCH :"
   ]
  },
  {
   "cell_type": "markdown",
   "metadata": {},
   "source": [
    "#### GETTING JOB POSTS :"
   ]
  },
  {
   "cell_type": "markdown",
   "metadata": {},
   "source": [
    "#### Functions >"
   ]
  },
  {
   "cell_type": "code",
   "execution_count": null,
   "metadata": {},
   "outputs": [],
   "source": [
    "#number of pages with job posts considering job title given to thi\n",
    "def n_pages_linkedin(browser,job_title_s, location):\n",
    "    \n",
    "    JOB_URL = f'https://www.linkedin.com/jobs/search/?keywords={job_title_s}&location={location}'\n",
    "    browser.get(JOB_URL)\n",
    "    time.sleep(1)\n",
    "    \n",
    "    # Total results \n",
    "    results = browser.find_element_by_xpath(\"//small[@class='display-flex t-12 t-black--light t-normal']\").text\n",
    "    print(f'RESULTS:{results}')\n",
    "    results = int(results.split(\" \")[0])\n",
    "    #if   browser.find_element_by_xpath(\"/html/body/div[5]/div[4]/div[3]/section[1]/div[2]/div/div/div[1]/div[1]/div[1]/small\"):\n",
    "    #    results = int(browser.find_element_by_xpath\\\n",
    "    #    (\"/html/body/div[5]/div[4]/div[3]/section[1]/div[2]/div/div/div[1]/div[1]/div[1]/small\").text.split(\" \")[0])\n",
    "    #elif browser.find_element_by_xpath(\"/html/body/div[6]/div[4]/div[3]/section[1]/div[2]/div/div/div[1]/div[1]/div[1]/small\"):\n",
    "    #    results = int(browser.find_element_by_xpath\\\n",
    "    #    (\"/html/body/div[5]/div[4]/div[3]/section[1]/div[2]/div/div/div[1]/div[1]/div[1]/small\").text.split(\" \")[0])\n",
    "    \n",
    "    # More than 25 results > More than 1 page\n",
    "    if results > 25:\n",
    "        pages = browser.find_element_by_xpath(\"//ul[@class='artdeco-pagination__pages artdeco-pagination__pages--number']\")\n",
    "        #try:\n",
    "        #    pages = browser.find_element_by_xpath\\\n",
    "        #    ('/html/body/div[5]/div[4]/div[3]/section[1]/div[2]/div/div/div[1]/div[2]/div/section/artdeco-pagination/ul')\n",
    "        #except:\n",
    "        #    pages = browser.find_element_by_xpath\\\n",
    "        #    ('/html/body/div[6]/div[4]/div[3]/section[1]/div[2]/div/div/div[1]/div[2]/div/section/artdeco-pagination/ul')\n",
    "        \n",
    "        print(type(pages))\n",
    "        n_pages = int(pages.text.split('\\n')[-1])\n",
    "        print(n_pages)\n",
    "        return n_pages #,results \n",
    "    \n",
    "    else:\n",
    "        n_pages = 1\n",
    "        print(n_pages)\n",
    "        return n_pages #,results "
   ]
  },
  {
   "cell_type": "code",
   "execution_count": null,
   "metadata": {},
   "outputs": [],
   "source": [
    "#n_pages_linkedin(browser,'data%20analyst', 'Madrid')"
   ]
  },
  {
   "cell_type": "code",
   "execution_count": null,
   "metadata": {},
   "outputs": [],
   "source": [
    "#Iterator of JOB POSTS > the only wayt is considering XPATH with an iteration\n",
    "def j_post(browser, i):\n",
    "    if   browser.find_element_by_xpath\\\n",
    "        (f'/html/body/div[5]/div[4]/div[3]/section[1]/div[2]/div/div/div[1]/div[2]/div/ul/li[{i}]/div/artdeco-entity-lockup/artdeco-entity-lockup-content/h3/a'):\n",
    "        job_post = browser.find_element_by_xpath\\\n",
    "        (f'/html/body/div[5]/div[4]/div[3]/section[1]/div[2]/div/div/div[1]/div[2]/div/ul/li[{i}]/div/artdeco-entity-lockup/artdeco-entity-lockup-content/h3/a')\n",
    "                                                        #  /html/body/div[5]/div[4]/div[3]/section[1]/div[2]/div/div/div[1]/div[2]/div/ul/li[ 1 ]/div/artdeco-entity-lockup/artdeco-entity-lockup-content/h3/a\n",
    "                                                        #  /html/body/div[5]/div[4]/div[3]/section[1]/div[2]/div/div/div[1]/div[2]/div/ul/li[ 1 ]/div/artdeco-entity-lockup/artdeco-entity-lockup-content/h3/a\n",
    "    elif browser.find_element_by_xpath\\\n",
    "        (f'/html/body/div[6]/div[4]/div[3]/section[1]/div[2]/div/div/div[1]/div[2]/div/ul/li[{i}]/div/artdeco-entity-lockup/artdeco-entity-lockup-content/h3/a'):\n",
    "        job_post = browser.find_element_by_xpath\\\n",
    "        ( '/html/body/div[6]/div[4]/div[3]/section[1]/div[2]/div/div/div[1]/div[2]/div/ul/li[{i}]/div/artdeco-entity-lockup/artdeco-entity-lockup-content/h3/a')\n",
    "\n",
    "    elif browser.find_element_by_xpath\\\n",
    "        (f'/html/body/div[5]/div[4]/div[3]/section[1]/div[2]/div/div/div[1]/div[2]/div[2]/ul/li[{i}]/div/artdeco-entity-lockup/artdeco-entity-lockup-content/h3/a'):\n",
    "        job_post = browser.find_element_by_xpath\\\n",
    "        (f'/html/body/div[5]/div[4]/div[3]/section[1]/div[2]/div/div/div[1]/div[2]/div[2]/ul/li[{i}]/div/artdeco-entity-lockup/artdeco-entity-lockup-content/h3/a')\n",
    "\n",
    "    elif browser.find_element_by_xpath\\\n",
    "        (f'/html/body/div[6]/div[4]/div[3]/section[1]/div[2]/div/div/div[1]/div[2]/div[2]/ul/li[{i}]/div/artdeco-entity-lockup/artdeco-entity-lockup-content/h3/a'):\n",
    "        job_post = browser.find_element_by_xpath\\\n",
    "        (f'/html/body/div[6]/div[4]/div[3]/section[1]/div[2]/div/div/div[1]/div[2]/div[2]/ul/li[{i}]/div/artdeco-entity-lockup/artdeco-entity-lockup-content/h3/a')\n",
    "    \n",
    "    return job_post"
   ]
  },
  {
   "cell_type": "code",
   "execution_count": null,
   "metadata": {},
   "outputs": [],
   "source": [
    "#last = browser.find_element_by_xpath()'/html/body/div[6]/div[4]/div[3]/section[1]/div[2]/div/div/div[1]/div[2]/div/section/artdeco-pagination/ul')"
   ]
  },
  {
   "cell_type": "code",
   "execution_count": null,
   "metadata": {},
   "outputs": [],
   "source": [
    "#pages.location_once_scrolled_into_view"
   ]
  },
  {
   "cell_type": "markdown",
   "metadata": {},
   "source": [
    "***"
   ]
  },
  {
   "cell_type": "code",
   "execution_count": null,
   "metadata": {},
   "outputs": [],
   "source": [
    "# Creating df\n",
    "df_jobs = pd.DataFrame(columns=['JOB TITLE',\n",
    "                                'LOCATION',\n",
    "                                'SEARCH DATETIME',\n",
    "                                'Current Job Id',\n",
    "                                'Job html',\n",
    "                                'Job name',\n",
    "                                'Company name',\n",
    "                                'Company location',\n",
    "                                'Posted date',\n",
    "                                'Estimated post date',\n",
    "                                'Easy apply',\n",
    "                                'Job Description',\n",
    "                                'Skills match',\n",
    "                                'Seniority Level',\n",
    "                                'Industry',\n",
    "                                'Employment Type',\n",
    "                                'Job Functions',\n",
    "                                'Job info'                                \n",
    "                               ])"
   ]
  },
  {
   "cell_type": "code",
   "execution_count": null,
   "metadata": {},
   "outputs": [],
   "source": [
    "# Jobs search\n",
    "jobs_list = ['data analyst', 'data scientist', 'data engineer']"
   ]
  },
  {
   "cell_type": "code",
   "execution_count": null,
   "metadata": {},
   "outputs": [],
   "source": [
    "location"
   ]
  },
  {
   "cell_type": "code",
   "execution_count": null,
   "metadata": {},
   "outputs": [],
   "source": [
    "# Defining current date time\n",
    "now = datetime.now()\n",
    "now_str = datetime.now().strftime('%Y-%m-%d %H:%M')"
   ]
  },
  {
   "cell_type": "code",
   "execution_count": null,
   "metadata": {},
   "outputs": [],
   "source": [
    "# iterator of JOB LIST\n",
    "#total_results = 0\n",
    "\n",
    "try:\n",
    "    \n",
    "    for j in jobs_list:\n",
    "\n",
    "        # Getting each job for the search\n",
    "        print(f'++++++++++++++++  {j} +++++++++++++++++++')\n",
    "        job_title_df  = j\n",
    "        job_title_s   = j.replace(' ', '%20')\n",
    "\n",
    "        # Getting number of pages for each search\n",
    "        n_pages = n_pages_linkedin(browser,job_title_s, location)\n",
    "        #total_results +=results\n",
    "        last_job_page = n_pages*25\n",
    "        print(last_job_page)  \n",
    "\n",
    "\n",
    "        #*************************************************************************\n",
    "        # iterator of JOB PAGES\n",
    "        for p in range(0,last_job_page,25):\n",
    "        #for p in range(0,1):\n",
    "\n",
    "            print(f'PAGINA: {p}')\n",
    "\n",
    "            #Exploring each page with maximum 25 job posts\n",
    "            JOB_URL = f'https://www.linkedin.com/jobs/search/?keywords={job_title_s}&location={location}&start={p}'\n",
    "            browser.get(JOB_URL)\n",
    "\n",
    "            if p==0:\n",
    "                time.sleep(2)\n",
    "            else:\n",
    "                time.sleep(0.5)\n",
    "\n",
    "            \"\"\"\n",
    "            #activate all job posts in each page \n",
    "            if results > 25:\n",
    "                try:\n",
    "                    pages = browser.find_element_by_xpath\\\n",
    "                    ('/html/body/div[5]/div[4]/div[3]/section[1]/div[2]/div/div/div[1]/div[2]/div/section/artdeco-pagination/ul')\n",
    "                except:\n",
    "                    pages = browser.find_element_by_xpath\\\n",
    "                    ('/html/body/div[6]/div[4]/div[3]/section[1]/div[2]/div/div/div[1]/div[2]/div/section/artdeco-pagination/ul')\n",
    "            actions = ActionChains(browser)\n",
    "            actions.move_to_element(pages).perform()\n",
    "            \"\"\"\n",
    "\n",
    "            # Taking table of job posts\n",
    "            tabla_izq = browser.find_element_by_xpath\\\n",
    "            (\"//div[@class='jobs-search-results jobs-search-results--is-two-pane']\")\n",
    "\n",
    "\n",
    "            \"\"\"\n",
    "            try:\n",
    "                if browser.find_element_by_xpath(\"/html/body/div[5]/div[4]/div[3]/section[1]/div[2]/div/div/div[1]\"):\n",
    "                    tabla_izq = browser.find_element_by_xpath(\"/html/body/div[5]/div[4]/div[3]/section[1]/div[2]/div/div/div[1]\")\n",
    "                elif browser.find_element_by_xpath(\"/html/body/div[6]/div[4]/div[3]/section[1]/div[2]/div/div/div[1]\"):\n",
    "                    tabla_izq = browser.find_element_by_xpath(\"/html/body/div[6]/div[4]/div[3]/section[1]/div[2]/div/div/div[1]\") \n",
    "            except:\n",
    "                JOB_URL = f'https://www.linkedin.com/jobs/search/?keywords={job_title_s}&location={location}&start={p}'\n",
    "                browser.get(JOB_URL)\n",
    "                time.sleep(0.2)\n",
    "\n",
    "                if browser.find_element_by_xpath(\"/html/body/div[5]/div[4]/div[3]/section[1]/div[2]/div/div/div[1]\"):\n",
    "                    tabla_izq = browser.find_element_by_xpath(\"/html/body/div[5]/div[4]/div[3]/section[1]/div[2]/div/div/div[1]\")\n",
    "                elif browser.find_element_by_xpath(\"/html/body/div[6]/div[4]/div[3]/section[1]/div[2]/div/div/div[1]\"):\n",
    "                    tabla_izq = browser.find_element_by_xpath(\"/html/body/div[6]/div[4]/div[3]/section[1]/div[2]/div/div/div[1]\") \n",
    "            \"\"\"\n",
    "\n",
    "            #try:\n",
    "            #    tabla_izq = \\\n",
    "            #        browser.find_element_by_xpath(\"/html/body/div[5]/div[4]/div[3]/section[1]/div[2]/div/div/div[1]\")\n",
    "            #except:\n",
    "            #    tabla_izq = \\\n",
    "            #        browser.find_element_by_xpath(\"/html/body/div[6]/div[4]/div[3]/section[1]/div[2]/div/div/div[1]\")         \n",
    "            #time.sleep(0.5)\n",
    "\n",
    "            \"\"\"\n",
    "            # Getting quantity of job posts that you CAN SEE directly in each page\n",
    "            if p < (last_job_page-25):\n",
    "                job_list = \\\n",
    "                tabla_izq.text.split('Manage alerts\\n')[1].split('Close\\n')[0].split('ago')    \n",
    "            else:\n",
    "                job_list = \\\n",
    "                tabla_izq.text.split('Manage alerts\\n')[1].split('Close\\n')[0].split('Create alert for this search\\n')[0].split('ago')\n",
    "\n",
    "            n_job_list = len(job_list)-1\n",
    "            print(f'Lista de trabajos visibles:{n_job_list}') \n",
    "            time.sleep(0.1)\n",
    "            \"\"\"\n",
    "\n",
    "            # iterator of JOB LIST\n",
    "            # iterator of jobs posts\n",
    "            i=1\n",
    "            error=False\n",
    "\n",
    "            while i<=25 and error==False:\n",
    "            #for i in range(1,n_job_list+1):\n",
    "\n",
    "                try:\n",
    "\n",
    "                    print(f'i:{i}')\n",
    "\n",
    "                    # Selecting job post in order to click on it\n",
    "                    job_post = j_post(browser, i)\n",
    "\n",
    "                    \"\"\"\n",
    "                    # Selecting job post in order to click on it\n",
    "                    if   browser.find_element_by_xpath\\\n",
    "                        (f'/html/body/div[5]/div[4]/div[3]/section[1]/div[2]/div/div/div[1]/div[2]/div/ul/li[{i}]/div/artdeco-entity-lockup/artdeco-entity-lockup-content/h3/a'):\n",
    "                        job_post = browser.find_element_by_xpath\\\n",
    "                        (f'/html/body/div[5]/div[4]/div[3]/section[1]/div[2]/div/div/div[1]/div[2]/div/ul/li[{i}]/div/artdeco-entity-lockup/artdeco-entity-lockup-content/h3/a')\n",
    "                        #  /html/body/div[5]/div[4]/div[3]/section[1]/div[2]/div/div/div[1]/div[2]/div/ul/li[ 1 ]/div/artdeco-entity-lockup/artdeco-entity-lockup-content/h3/a\n",
    "                        #  /html/body/div[5]/div[4]/div[3]/section[1]/div[2]/div/div/div[1]/div[2]/div/ul/li[ 1 ]/div/artdeco-entity-lockup/artdeco-entity-lockup-content/h3/a\n",
    "                    elif browser.find_element_by_xpath\\\n",
    "                        (f'/html/body/div[6]/div[4]/div[3]/section[1]/div[2]/div/div/div[1]/div[2]/div/ul/li[{i}]/div/artdeco-entity-lockup/artdeco-entity-lockup-content/h3/a'):\n",
    "                        job_post = browser.find_element_by_xpath\\\n",
    "                        (f'/html/body/div[6]/div[4]/div[3]/section[1]/div[2]/div/div/div[1]/div[2]/div/ul/li[{i}]/div/artdeco-entity-lockup/artdeco-entity-lockup-content/h3/a')\n",
    "\n",
    "                    elif browser.find_element_by_xpath\\\n",
    "                        (f'/html/body/div[5]/div[4]/div[3]/section[1]/div[2]/div/div/div[1]/div[2]/div[2]/ul/li[{i}]/div/artdeco-entity-lockup/artdeco-entity-lockup-content/h3/a'):\n",
    "                        job_post = browser.find_element_by_xpath\\\n",
    "                        (f'/html/body/div[5]/div[4]/div[3]/section[1]/div[2]/div/div/div[1]/div[2]/div[2]/ul/li[{i}]/div/artdeco-entity-lockup/artdeco-entity-lockup-content/h3/a')\n",
    "\n",
    "                    elif browser.find_element_by_xpath\\\n",
    "                        (f'/html/body/div[6]/div[4]/div[3]/section[1]/div[2]/div/div/div[1]/div[2]/div[2]/ul/li[{i}]/div/artdeco-entity-lockup/artdeco-entity-lockup-content/h3/a'):\n",
    "                        job_post = browser.find_element_by_xpath\\\n",
    "                        (f'/html/body/div[6]/div[4]/div[3]/section[1]/div[2]/div/div/div[1]/div[2]/div[2]/ul/li[{i}]/div/artdeco-entity-lockup/artdeco-entity-lockup-content/h3/a')\n",
    "                    \"\"\"\n",
    "\n",
    "                    #try:\n",
    "                    #    job_post = browser.find_element_by_xpath\\\n",
    "                    #    (f'/html/body/div[5]/div[4]/div[3]/section[1]/div[2]/div/div/div[1]/div[2]/div/ul/li[{i}]/div/artdeco-entity-lockup/artdeco-entity-lockup-content/h3/a')\n",
    "                    #except:\n",
    "                    #    job_post = browser.find_element_by_xpath\\\n",
    "                    #    (f'/html/body/div[6]/div[4]/div[3]/section[1]/div[2]/div/div/div[1]/div[2]/div/ul/li[{i}]/div/artdeco-entity-lockup/artdeco-entity-lockup-content/h3/a')\n",
    "\n",
    "                    print(job_post.text)\n",
    "                    job_post.click()\n",
    "                    time.sleep(0.1)\n",
    "\n",
    "                    # Getting current job ID\n",
    "                    print(browser.current_url)      \n",
    "                    currentJobId = browser.current_url.split('currentJobId=')[1].split('&')[0] #col1_pd\n",
    "                    # if you wanna watch the job page\n",
    "                    job_html = f'https://www.linkedin.com/jobs/view/{currentJobId}/'\n",
    "                    print(f'{currentJobId}')\n",
    "\n",
    "                    # Extracting job information on the right side\n",
    "                    job_post_right = browser.find_element_by_xpath(\"//div[@class='jobs-search-two-pane__details pt4 ph3 jobs-search-two-pane__details ember-view']\")   \n",
    "\n",
    "                    \"\"\"\n",
    "                    try:\n",
    "                        job_post_right = browser.find_element_by_xpath\\\n",
    "                            ('/html/body/div[5]/div[4]/div[3]/section[1]/div[2]/div/div/div[2]')\n",
    "                    except:\n",
    "                        job_post_right = browser.find_element_by_xpath\\\n",
    "                            ('/html/body/div[6]/div[4]/div[3]/section[1]/div[2]/div/div/div[2]')\n",
    "                    \"\"\"\n",
    "                    #getting info and only separating: job name, company name, company location\n",
    "                    #job_post_right_content    = job_post_right.text.split('\\n', 5)\n",
    "\n",
    "                    ##################################################################################################\n",
    "                    #Job name\n",
    "                    job_post_name             = job_post_right.text.split('\\n', 1)[0]\n",
    "\n",
    "                    #Company name > Sometimes there is no info here\n",
    "                    if job_post_right.text.split('Company Name\\n',1)[1].split('\\n')[0] == 'Company Location':\n",
    "                        job_post_company_name = \"\"\n",
    "                    else:\n",
    "                        job_post_company_name = job_post_right.text.split('Company Name\\n',1)[1].split('\\n')[0]\n",
    "\n",
    "                    #Location\n",
    "                    job_post_company_location = job_post_right.text.split('Company Location\\n',1)[1].split('\\n')[0]\n",
    "\n",
    "                    #Posted date\n",
    "                    job_post_posted_date      = job_post_right.text.split(' ago',1)[0].split('Posted Date\\nPosted ')[1]\n",
    "                    if   job_post_posted_date.split(\" \")[1] in ['hour', 'hours']:\n",
    "                        job_post_estimated_date = now - timedelta(hours =     int(job_post_posted_date.split(\" \")[0]))\n",
    "                    elif job_post_posted_date.split(\" \")[1] in ['day', 'days']:\n",
    "                        job_post_estimated_date = now - timedelta(days  =     int(job_post_posted_date.split(\" \")[0]))\n",
    "                    elif job_post_posted_date.split(\" \")[1] in ['week', 'weeks']:\n",
    "                        job_post_estimated_date = now - timedelta(weeks =     int(job_post_posted_date.split(\" \")[0]))\n",
    "                    elif job_post_posted_date.split(\" \")[1] in ['month', 'months']:\n",
    "                        job_post_estimated_date = now - timedelta(weeks =   4*int(job_post_posted_date.split(\" \")[0]))\n",
    "                    elif job_post_posted_date.split(\" \")[1] in ['year', 'years']:\n",
    "                        job_post_estimated_date = now - timedelta(weeks = 365*int(job_post_posted_date.split(\" \")[0]))\n",
    "\n",
    "                    #Easy apply: T/F\n",
    "                    try:\n",
    "                        if job_post_right.text.split('Save\\n',1)[1].split('\\n',2)[1] == 'Easy Apply':\n",
    "                            job_post_easy_apply = True\n",
    "                        else:\n",
    "                            job_post_easy_apply = False\n",
    "                    except:\n",
    "                        if job_post_right.text.split('Unsave\\n',1)[1].split('\\n',2)[1] == 'Easy Apply':\n",
    "                            job_post_easy_apply = True\n",
    "                        else:\n",
    "                            job_post_easy_apply = False\n",
    "\n",
    "\n",
    "                    #Skills match\n",
    "                    if re.search('\\nHow you match',job_post_right.text):\n",
    "                    #if '\\nHow you match' in job_post_right.text:\n",
    "                        y = 'Match\\n(.*)\\n'\n",
    "                        n = 'No match\\n(.*)\\n' \n",
    "                        job_post_skills_match    = re.findall(y,job_post_right.text)\n",
    "                        job_post_skills_nomatch  = re.findall(n,job_post_right.text)\n",
    "                        job_post_skills = {'yes': job_post_skills_match,\n",
    "                                           'no' : job_post_skills_nomatch,\n",
    "                                           'all': job_post_skills_match + job_post_skills_nomatch\n",
    "                                          }\n",
    "                    else:\n",
    "                        job_post_skills_match    = {}\n",
    "\n",
    "\n",
    "                    ####\n",
    "                    # Extracting job information on the right side\n",
    "                    job_post_right_description = \\\n",
    "                    browser.find_element_by_xpath(\"//div[@class='jobs-box jobs-box--fadein jobs-box--full-width jobs-box--with-cta-large jobs-description jobs-description--reformatted ember-view']\").text  \n",
    "\n",
    "\n",
    "\n",
    "                    #Seniority Level\n",
    "                    try:\n",
    "                        job_post_seniority_level = job_post_right.text.split('Seniority Level\\n',1)[1].split('\\n')[0]\n",
    "                    except:\n",
    "                        job_post_seniority_level = \"\"\n",
    "\n",
    "                    #Industry\n",
    "                    try:\n",
    "                        job_post_industry        = job_post_right.text.split('Industry\\n',1)[1].split('\\n')[0]\n",
    "                    except:\n",
    "                        job_post_industry        = \"\"\n",
    "\n",
    "                    #Employment Type\n",
    "                    try:\n",
    "                        job_post_employment_type = job_post_right.text.split('Employment Type\\n',1)[1].split('\\n')[0]\n",
    "                    except:\n",
    "                        job_post_employment_type = \"\"\n",
    "\n",
    "                    #Job Functions > maybe this is the last\n",
    "                    try:\n",
    "                        job_post_job_functions   = job_post_right.text.split('Job Functions\\n',1)[1].split('\\n')[0]\n",
    "                    except:\n",
    "                        job_post_job_functions   = \"\"\n",
    "\n",
    "\n",
    "                    #job info\n",
    "                    job_post_info             = job_post_right.text.split('\\n', 5)[5]\n",
    "\n",
    "                    #Dataframe\n",
    "                    df_jobs = df_jobs.append({\n",
    "                                                'JOB TITLE'          : job_title_df,\n",
    "                                                'LOCATION'           : location,\n",
    "                                                'SEARCH DATETIME'    : now_str,\n",
    "                                                'Current Job Id'     : currentJobId,\n",
    "                                                'Job html'           : job_html,\n",
    "                                                'Job name'           : job_post_name,\n",
    "                                                'Company name'       : job_post_company_name,\n",
    "                                                'Company location'   : job_post_company_location,\n",
    "                                                'Posted date'        : job_post_posted_date,\n",
    "                                                'Estimated post date': job_post_estimated_date.strftime('%Y-%m-%d %H:%M'),\n",
    "                                                'Easy apply'         : job_post_easy_apply,\n",
    "\n",
    "                                                'Skills match'       : job_post_skills,\n",
    "                                                'Job Description'    : job_post_right_description,\n",
    "                                                'Seniority Level'    : job_post_seniority_level,\n",
    "                                                'Industry'           : job_post_industry ,\n",
    "                                                'Employment Type'    : job_post_employment_type,\n",
    "                                                'Job Functions'      : job_post_job_functions,\n",
    "                                                'Job info'           : job_post_info,\n",
    "                                             }, ignore_index=True)\n",
    "\n",
    "                    #print(len(job_post_right_content))\n",
    "                    print(job_post_name)\n",
    "                    print(job_post_company_name)\n",
    "                    print(job_post_company_location)\n",
    "                    print(job_post_posted_date)\n",
    "                    #print(f'{job_post_info}\\n')\n",
    "                    print(\"\")\n",
    "\n",
    "                    # if you wanna watch the job page\n",
    "                    # job_html = f'https://www.linkedin.com/jobs/view/{currentJobId}/' # > it's possible to use REQUESTS >>> NOPE XXXXX\n",
    "\n",
    "                    if i%5==0: #each 5 job post, one execution of 2 pages down\n",
    "                        tabla_izq.send_keys(Keys.PAGE_DOWN*2)\n",
    "                        time.sleep(0.1)\n",
    "\n",
    "                except:\n",
    "                    error=True #if an error ocurred when the algorith tried to get a post, this loop finishs and goes to the next page\n",
    "                finally:\n",
    "                    i+=1 # next one >>>>>>>>>>>>>>>>\n",
    "\n",
    "except:\n",
    "    print(f'\\n - Se han recopilado {df_jobs.shape[0]} ofertas de trabajo')\n",
    "    #browser.close()"
   ]
  },
  {
   "cell_type": "code",
   "execution_count": null,
   "metadata": {},
   "outputs": [],
   "source": [
    "df_jobs.shape"
   ]
  },
  {
   "cell_type": "code",
   "execution_count": null,
   "metadata": {},
   "outputs": [],
   "source": [
    "df_jobs['JOB TITLE'].unique()"
   ]
  },
  {
   "cell_type": "code",
   "execution_count": null,
   "metadata": {},
   "outputs": [],
   "source": [
    "df_jobs[df_jobs['JOB TITLE']=='data analyst'].shape"
   ]
  },
  {
   "cell_type": "code",
   "execution_count": null,
   "metadata": {},
   "outputs": [],
   "source": [
    "df_jobs[df_jobs['JOB TITLE']=='data scientist'].shape"
   ]
  },
  {
   "cell_type": "code",
   "execution_count": null,
   "metadata": {},
   "outputs": [],
   "source": [
    "df_jobs[df_jobs['JOB TITLE']=='data engineer'].shape"
   ]
  },
  {
   "cell_type": "code",
   "execution_count": null,
   "metadata": {},
   "outputs": [],
   "source": [
    "#browser.quit()"
   ]
  },
  {
   "cell_type": "markdown",
   "metadata": {},
   "source": [
    "### Exporting to csv"
   ]
  },
  {
   "cell_type": "code",
   "execution_count": null,
   "metadata": {},
   "outputs": [],
   "source": [
    "now_file = now_str.replace(':','.')\n",
    "now_file"
   ]
  },
  {
   "cell_type": "code",
   "execution_count": null,
   "metadata": {},
   "outputs": [],
   "source": [
    "#LINUX\n",
    "if platform.system() == 'Linux':\n",
    "    df_jobs.to_csv(f'../data/raw/df_jobs_{location}_{now_file}.csv',\n",
    "                  sep = ';',\n",
    "                  encoding= 'utf8',\n",
    "                  index=False,\n",
    "                  )\n",
    "#WINDOWS\n",
    "elif platform.system() == 'Windows':\n",
    "    df_jobs.to_csv(f'..\\\\data\\\\raw\\\\df_jobs_{location}_{now_file}.csv',\n",
    "                  sep = ';',\n",
    "                  encoding= 'utf8',\n",
    "                  index=False,\n",
    "                  )"
   ]
  },
  {
   "cell_type": "code",
   "execution_count": null,
   "metadata": {},
   "outputs": [],
   "source": [
    "df_jobs.head(2)"
   ]
  },
  {
   "cell_type": "code",
   "execution_count": null,
   "metadata": {},
   "outputs": [],
   "source": [
    "df_jobs.columns"
   ]
  },
  {
   "cell_type": "code",
   "execution_count": null,
   "metadata": {},
   "outputs": [],
   "source": [
    "df_jobs[df_jobs['Easy apply']==True].shape"
   ]
  },
  {
   "cell_type": "code",
   "execution_count": null,
   "metadata": {},
   "outputs": [],
   "source": [
    "end = datetime.now()\n",
    "end"
   ]
  },
  {
   "cell_type": "code",
   "execution_count": null,
   "metadata": {},
   "outputs": [],
   "source": [
    "dif = end - now\n",
    "dif.total_seconds()/60 #21 minutes to get 460 job posts"
   ]
  },
  {
   "cell_type": "markdown",
   "metadata": {},
   "source": [
    "## TESTING:"
   ]
  },
  {
   "cell_type": "markdown",
   "metadata": {},
   "source": [
    "***"
   ]
  },
  {
   "cell_type": "code",
   "execution_count": null,
   "metadata": {},
   "outputs": [],
   "source": [
    "# > Trying with one job title\n",
    "n_pages = n_pages_linkedin(browser, 'data analyst', location)\n",
    "n_pages"
   ]
  },
  {
   "cell_type": "code",
   "execution_count": null,
   "metadata": {},
   "outputs": [],
   "source": [
    "# Going to last row \n",
    "try:\n",
    "    pages = browser.find_element_by_xpath\\\n",
    "    ('/html/body/div[5]/div[4]/div[3]/section[1]/div[2]/div/div/div[1]/div[2]/div/section/artdeco-pagination/ul')\n",
    "except:\n",
    "    pages = browser.find_element_by_xpath\\\n",
    "    ('/html/body/div[6]/div[4]/div[3]/section[1]/div[2]/div/div/div[1]/div[2]/div/section/artdeco-pagination/ul')\n",
    "actions = ActionChains(browser)\n",
    "actions.move_to_element(pages).perform()"
   ]
  },
  {
   "cell_type": "code",
   "execution_count": null,
   "metadata": {},
   "outputs": [],
   "source": [
    "#show MORE skills\n",
    "izq =  browser.find_element_by_xpath\\\n",
    "(\"//div[@class='jobs-search-results jobs-search-results--is-two-pane']\")\n",
    "#ActionChains(browser).move_to_element(izq).perform()"
   ]
  },
  {
   "cell_type": "code",
   "execution_count": null,
   "metadata": {},
   "outputs": [],
   "source": [
    "izq.text"
   ]
  },
  {
   "cell_type": "code",
   "execution_count": null,
   "metadata": {},
   "outputs": [],
   "source": [
    "izq.send_keys(Keys.PAGE_UP*10)"
   ]
  },
  {
   "cell_type": "code",
   "execution_count": null,
   "metadata": {},
   "outputs": [],
   "source": [
    "trabajo = j_post(browser, 3)\n",
    "trabajo.text"
   ]
  },
  {
   "cell_type": "code",
   "execution_count": null,
   "metadata": {},
   "outputs": [],
   "source": [
    "# ALL right side\n",
    "job_post_right = \\\n",
    "browser.find_element_by_xpath(\"//div[@class='jobs-search-two-pane__details pt4 ph3 jobs-search-two-pane__details ember-view']\")   \n",
    "job_post_right.text"
   ]
  },
  {
   "cell_type": "code",
   "execution_count": null,
   "metadata": {},
   "outputs": [],
   "source": [
    "# JUST job description\n",
    "job_post_right_description = \\\n",
    "browser.find_element_by_xpath(\"//div[@class='jobs-box jobs-box--fadein jobs-box--full-width jobs-box--with-cta-large jobs-description jobs-description--reformatted ember-view']\").text  \n",
    "job_post_right_description"
   ]
  },
  {
   "cell_type": "code",
   "execution_count": null,
   "metadata": {},
   "outputs": [],
   "source": [
    "#Skills match\n",
    "if re.search('\\nHow you match',job_post_right.text):\n",
    "#if '\\nHow you match' in job_post_right.text:\n",
    "    y = 'Match\\n(.*)\\n'\n",
    "    n = 'No match\\n(.*)\\n' \n",
    "    job_post_skills_match    = re.findall(y,job_post_right.text)\n",
    "    job_post_skills_nomatch  = re.findall(n,job_post_right.text)\n",
    "    job_post_skills = {'yes': job_post_skills_match,\n",
    "                       'no' : job_post_skills_nomatch,\n",
    "                       'all': job_post_skills_match + job_post_skills_nomatch\n",
    "                      }\n",
    "else:\n",
    "    job_post_skills_match    = {}\n",
    "    \n",
    "job_post_skills "
   ]
  },
  {
   "cell_type": "code",
   "execution_count": null,
   "metadata": {},
   "outputs": [],
   "source": [
    "trabajo = j_post(browser, 10)\n",
    "trabajo"
   ]
  },
  {
   "cell_type": "code",
   "execution_count": null,
   "metadata": {},
   "outputs": [],
   "source": [
    "actions = ActionChains(trabajo)\n",
    "actions.move_to_element(trabajo).perform()"
   ]
  },
  {
   "cell_type": "code",
   "execution_count": null,
   "metadata": {},
   "outputs": [],
   "source": [
    "job_post_right_ind = \\\n",
    "browser.find_element_by_xpath(\"//div[@class='jobs-description-details pt4 pt4 ember-view']\")   \n",
    "job_post_right_ind.text"
   ]
  },
  {
   "cell_type": "code",
   "execution_count": null,
   "metadata": {},
   "outputs": [],
   "source": [
    "job_post_right_ind_1 = \\\n",
    "browser.find_element_by_xpath(\"//ul[@class='jobs-box__list jobs-description-details__list js-formatted-industries-list']\")   \n",
    "job_post_right_ind_1.text"
   ]
  },
  {
   "cell_type": "code",
   "execution_count": null,
   "metadata": {},
   "outputs": [],
   "source": [
    "#Industry\n",
    "try:\n",
    "    job_post_industry        = job_post_right.text.split('Industry\\n',1)[1].split('\\n')[0]\n",
    "except:\n",
    "    job_post_industry        = \"\"\n",
    "job_post_industry"
   ]
  },
  {
   "cell_type": "code",
   "execution_count": null,
   "metadata": {},
   "outputs": [],
   "source": []
  },
  {
   "cell_type": "markdown",
   "metadata": {},
   "source": [
    "***"
   ]
  },
  {
   "cell_type": "code",
   "execution_count": null,
   "metadata": {},
   "outputs": [],
   "source": [
    "df_jobs[df_jobs['Company name']=='']"
   ]
  },
  {
   "cell_type": "code",
   "execution_count": null,
   "metadata": {},
   "outputs": [],
   "source": [
    "df_jobs[df_jobs['Easy apply']==True]"
   ]
  },
  {
   "cell_type": "code",
   "execution_count": null,
   "metadata": {},
   "outputs": [],
   "source": [
    "df_jobs[df_jobs['Current Job Id']=='1772020331'].iloc[0,14]"
   ]
  },
  {
   "cell_type": "code",
   "execution_count": null,
   "metadata": {},
   "outputs": [],
   "source": [
    "' skills match\\n' in df_jobs[df_jobs['Current Job Id']=='1772020331'].iloc[0,14]"
   ]
  },
  {
   "cell_type": "code",
   "execution_count": null,
   "metadata": {},
   "outputs": [],
   "source": [
    "rigth = browser.find_element_by_xpath('/html/body/div[5]/div[4]/div[3]/section[1]/div[2]/div/div/div[2]').text"
   ]
  },
  {
   "cell_type": "code",
   "execution_count": null,
   "metadata": {},
   "outputs": [],
   "source": [
    "rigth"
   ]
  },
  {
   "cell_type": "code",
   "execution_count": null,
   "metadata": {},
   "outputs": [],
   "source": [
    "rigth.split(' ago',1)[0].split('Posted Date\\nPosted ')[1]"
   ]
  },
  {
   "cell_type": "code",
   "execution_count": null,
   "metadata": {},
   "outputs": [],
   "source": [
    "rigth.split('Save\\n',1)[1].split('\\n',2)[1]"
   ]
  },
  {
   "cell_type": "code",
   "execution_count": null,
   "metadata": {},
   "outputs": [],
   "source": [
    "df_jobs.shape"
   ]
  },
  {
   "cell_type": "code",
   "execution_count": null,
   "metadata": {},
   "outputs": [],
   "source": [
    "df_jobs.dtypes"
   ]
  },
  {
   "cell_type": "code",
   "execution_count": null,
   "metadata": {},
   "outputs": [],
   "source": [
    "df_jobs.iloc[0,6].split(' ago',1)[0].split('Posted Date\\nPosted ')[1]"
   ]
  },
  {
   "cell_type": "code",
   "execution_count": null,
   "metadata": {},
   "outputs": [],
   "source": [
    "df_jobs.iloc[0,6]"
   ]
  },
  {
   "cell_type": "code",
   "execution_count": null,
   "metadata": {},
   "outputs": [],
   "source": []
  },
  {
   "cell_type": "markdown",
   "metadata": {},
   "source": [
    "***\n",
    "## PUENTE"
   ]
  },
  {
   "cell_type": "code",
   "execution_count": null,
   "metadata": {},
   "outputs": [],
   "source": [
    "#location_input = input(\"PLEASE ENTER THE LOCATION WHERE YOU'D LIKE TO SEARCH: \")\n",
    "location_input = 'berlin'"
   ]
  },
  {
   "cell_type": "code",
   "execution_count": null,
   "metadata": {},
   "outputs": [],
   "source": [
    "location = location_input.capitalize()\n",
    "location"
   ]
  },
  {
   "cell_type": "code",
   "execution_count": null,
   "metadata": {},
   "outputs": [],
   "source": []
  },
  {
   "cell_type": "code",
   "execution_count": null,
   "metadata": {},
   "outputs": [],
   "source": [
    "#job_title_input = input(\"PLEASE ENTER THE JOB THAT YOU'D LIKE TO SEARCH: \")\n",
    "job_title_input = 'data analyst'"
   ]
  },
  {
   "cell_type": "code",
   "execution_count": null,
   "metadata": {},
   "outputs": [],
   "source": [
    "job_title_df = job_title_input.lower()\n",
    "job_title_s    = job_title_input.lower().replace(' ', '%20')\n",
    "job_title_s "
   ]
  },
  {
   "cell_type": "markdown",
   "metadata": {},
   "source": [
    "#### >>> GO TO > JOB SEARCH :"
   ]
  },
  {
   "cell_type": "code",
   "execution_count": null,
   "metadata": {},
   "outputs": [],
   "source": []
  },
  {
   "cell_type": "markdown",
   "metadata": {},
   "source": [
    "*** \n",
    "# OLD TESTING\n",
    "***"
   ]
  },
  {
   "cell_type": "code",
   "execution_count": null,
   "metadata": {},
   "outputs": [],
   "source": [
    "#tabla_grande = \\\n",
    "#browser.find_element_by_xpath(\"/html/body/div[5]/div[4]/div[3]/section[1]/div[2]/div/div\")\n",
    "\n",
    "#                               html/body/div[5]/div[4]/div[3]/section[1]/div[2]\n",
    "#                               /html/body/div[5]/div[4]/div[3]/section[1]/div[2]/div/div/div[1]"
   ]
  },
  {
   "cell_type": "code",
   "execution_count": null,
   "metadata": {},
   "outputs": [],
   "source": [
    "#Taking table of job posts\n",
    "try:\n",
    "    tabla_izq = \\\n",
    "    browser.find_element_by_xpath(\"/html/body/div[5]/div[4]/div[3]/section[1]/div[2]/div/div/div[1]\")\n",
    "                                  #/html/body/div[6]/div[4]/div[3]/section[1]/div[2]/div/div/div[1]\n",
    "                                  #/html/body/div[6]/div[4]/div[3]/section[1]/div[2]/div/div/div[1]/div[2]\n",
    "                                  #/html/body/div[5]/div[4]/div[3]/section[1]/div[2]/div/div/div[1]/div[2]\n",
    "    #browser.find_element_by_class_name(\"jobs-search-two-pane__results display-flex\")\n",
    "    #                              /html/body/div[5]/div[4]/div[3]/section[1]/div[2]/div/div/div[1]\n",
    "except:\n",
    "    tabla_izq = \\\n",
    "    browser.find_element_by_xpath(\"/html/body/div[6]/div[4]/div[3]/section[1]/div[2]/div/div/div[1]\")\n",
    "    \n",
    "time.sleep(0.5)\n",
    "tabla_izq.text"
   ]
  },
  {
   "cell_type": "code",
   "execution_count": null,
   "metadata": {},
   "outputs": [],
   "source": [
    "tabla_izq.text.split('\\n')"
   ]
  },
  {
   "cell_type": "code",
   "execution_count": null,
   "metadata": {},
   "outputs": [],
   "source": [
    "current_p = int(browser.current_url.split('&start=')[1])//25+1\n",
    "current_p"
   ]
  },
  {
   "cell_type": "code",
   "execution_count": null,
   "metadata": {},
   "outputs": [],
   "source": [
    "#are_you = browser.find_element_by_class_name(\"jobs-search-feedback-card\")\n",
    "#are_you.is_enabled()"
   ]
  },
  {
   "cell_type": "code",
   "execution_count": null,
   "metadata": {},
   "outputs": [],
   "source": [
    "#for last page there is another logic (not 'Close')\n",
    "if current_p < n_pages:\n",
    "    job_list = tabla_izq.text.split('Manage alerts\\n')[1].split('Close\\n')[0].split('ago')\n",
    "else:\n",
    "    job_list = \\\n",
    "    tabla_izq.text.split('Manage alerts\\n')[1].split('Close\\n')[0].split('Create alert for this search\\n')[0].split('ago')\n",
    "\n",
    "n_job_list = len(job_list)-1\n",
    "print(n_job_list) \n",
    "job_list "
   ]
  },
  {
   "cell_type": "code",
   "execution_count": null,
   "metadata": {},
   "outputs": [],
   "source": [
    "# TESTING - clicking one selected job\n",
    "n = n_job_list # max 25\n",
    "\n",
    "# Selecting job post in order\n",
    "try:\n",
    "    job_post = browser.find_element_by_xpath\\\n",
    "    (f'/html/body/div[5]/div[4]/div[3]/section[1]/div[2]/div/div/div[1]/div[2]/div/ul/li[{n}]/div/artdeco-entity-lockup/artdeco-entity-lockup-content/h3/a')\n",
    "except:\n",
    "    job_post = browser.find_element_by_xpath\\\n",
    "    (f'/html/body/div[6]/div[4]/div[3]/section[1]/div[2]/div/div/div[1]/div[2]/div/ul/li[{n}]/div/artdeco-entity-lockup/artdeco-entity-lockup-content/h3/a')\n",
    "#     /html/body/div[5]/div[4]/div[3]/section[1]/div[2]/div/div/div[1]/div[2]/div/ul/li[1]/div/artdeco-entity-lockup/artdeco-entity-lockup-content/h3/a\n",
    "#  (f'/html/body/div[5]/div[4]/div[3]/section[1]/div[2]/div/div/div[1]/div[2]/div/ul/li[{n}]')\n",
    "job_post.click()\n",
    "\n",
    "# Getting job post ID\n",
    "currentJobId = browser.current_url.split('currentJobId=')[1].split('&')[0]\n",
    "#currentJobId = browser.current_url.split('?')[1].split('&')[0].split('=')[1]\n",
    "print(currentJobId)\n",
    "\n",
    "# Extracting job information\n",
    "try:\n",
    "    job_post_right = browser.find_element_by_xpath\\\n",
    "        ('/html/body/div[5]/div[4]/div[3]/section[1]/div[2]/div/div/div[2]')\n",
    "except:\n",
    "    job_post_right = browser.find_element_by_xpath\\\n",
    "        ('/html/body/div[6]/div[4]/div[3]/section[1]/div[2]/div/div/div[2]')\n",
    "job_post_right_content = job_post_right.text.split('\\n',16)\n",
    "print(len(job_post_right_content))\n",
    "print(f'{job_post_right_content}')\n",
    "#print(f'{job_post_right.text.split('\\n',15)}')\n",
    "\n",
    "# 200402 21.00 (Session info: chrome=80.0.3987.162)\n",
    "# 200403 21.00 (Session info: chrome=80.0.3987.162)\n",
    "# 200404 17.00  (Session info: chrome=80.0.3987.162)"
   ]
  },
  {
   "cell_type": "code",
   "execution_count": null,
   "metadata": {},
   "outputs": [],
   "source": [
    "list(range(0,n_pages*25,25))"
   ]
  },
  {
   "cell_type": "code",
   "execution_count": null,
   "metadata": {},
   "outputs": [],
   "source": [
    "browser.get_log"
   ]
  },
  {
   "cell_type": "code",
   "execution_count": null,
   "metadata": {},
   "outputs": [],
   "source": [
    "izq = browser.find_element_by_class_name('jobs-search-results jobs-search-results--is-two-pane')\n",
    "izq.text()"
   ]
  },
  {
   "cell_type": "code",
   "execution_count": null,
   "metadata": {},
   "outputs": [],
   "source": [
    "tabla_izq.text"
   ]
  },
  {
   "cell_type": "code",
   "execution_count": null,
   "metadata": {},
   "outputs": [],
   "source": []
  },
  {
   "cell_type": "code",
   "execution_count": null,
   "metadata": {},
   "outputs": [],
   "source": [
    "import requests\n",
    "from bs4 import BeautifulSoup"
   ]
  },
  {
   "cell_type": "code",
   "execution_count": null,
   "metadata": {},
   "outputs": [],
   "source": [
    "#with requests.Session() as s:\n",
    "\n",
    "with requests.Session() as session:\n",
    "    \n",
    "    response = session.get(LOGIN_URL)\n",
    "    session = session.cookies.get_dict()\n",
    "    bcookie = session.get('bcookie')\n",
    "    print(bcookie)\n",
    "    cookie = bcookie.split('&')[1].split('\"')[0]\n",
    "    print(f'\\n{cookie}')\n",
    "    \n",
    "    LoginCsrfParam   = cookie\n",
    "    Session_key      = \"cristopher.rojas.lepe@gmail.com\" # \"cristopher.rojas.lepe%40gmail.com\"\n",
    "    Session_password = \"M3t4n01@\" # \"M3t4n01%40\"\n",
    "    Session_redirect = \"https%3A%2F%2Fwww.linkedin.com%2Fjobs\" # \"https://www.linkedin.com/jobs\" #\"https%3A%2F%2Fwww.linkedin.com%2Fjobs\"\n",
    "    Trk              = \"guest_homepage-jobseeker_sign-in-submit\"\n",
    "    \n",
    "    payload = {'loginCsrfParam'  : LoginCsrfParam,\n",
    "               'session_key'     : Session_key,\n",
    "               'session_password': Session_password,\n",
    "               'session_redirect': Session_redirect,\n",
    "               'trk'             : Trk\n",
    "              }\n",
    "    print(f'\\n{payload}')\n",
    "    p = requests.post(LOGIN_URL, data = payload)  \n",
    "    #p = session.post(LOGIN_URL, data = payload) \n",
    "    # print the html returned or something more intelligent to see if it's a successful login page.\n",
    "    print(f'\\n{p.content}')\n",
    "    soup = BeautifulSoup(p.content,'html.parser')\n",
    "    print(f'\\n{soup}')\n",
    "\n",
    "    # An authorised request.\n",
    "#     r = s.get('A protected web page url')\n",
    "#     print r.text"
   ]
  }
 ],
 "metadata": {
  "kernelspec": {
   "display_name": "Python [conda env:final_project]",
   "language": "python",
   "name": "conda-env-final_project-py"
  },
  "language_info": {
   "codemirror_mode": {
    "name": "ipython",
    "version": 3
   },
   "file_extension": ".py",
   "mimetype": "text/x-python",
   "name": "python",
   "nbconvert_exporter": "python",
   "pygments_lexer": "ipython3",
   "version": "3.7.6"
  }
 },
 "nbformat": 4,
 "nbformat_minor": 4
}
