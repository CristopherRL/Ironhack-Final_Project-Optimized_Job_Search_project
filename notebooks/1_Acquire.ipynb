{
 "cells": [
  {
   "cell_type": "markdown",
   "metadata": {},
   "source": [
    "# Step 1: ACQUIRE DATA"
   ]
  },
  {
   "cell_type": "markdown",
   "metadata": {},
   "source": [
    "> ## SEARCH"
   ]
  },
  {
   "cell_type": "code",
   "execution_count": 85,
   "metadata": {},
   "outputs": [],
   "source": [
    "#job_title_input = input(\"PLEASE ENTER THE JOB THAT YOU'D LIKE TO SEARCH: \")\n",
    "job_title_input = 'data scientist'"
   ]
  },
  {
   "cell_type": "code",
   "execution_count": 86,
   "metadata": {},
   "outputs": [],
   "source": [
    "#location_input = input(\"PLEASE ENTER THE LOCATION WHERE YOU'D LIKE TO SEARCH: \")\n",
    "location_input = 'berlin'"
   ]
  },
  {
   "cell_type": "code",
   "execution_count": 87,
   "metadata": {},
   "outputs": [
    {
     "data": {
      "text/plain": [
       "'data%20scientist'"
      ]
     },
     "execution_count": 87,
     "metadata": {},
     "output_type": "execute_result"
    }
   ],
   "source": [
    "job_title_df = job_title_input.lower()\n",
    "job_title    = job_title_input.lower().replace(' ', '%20')\n",
    "job_title "
   ]
  },
  {
   "cell_type": "code",
   "execution_count": 88,
   "metadata": {},
   "outputs": [
    {
     "data": {
      "text/plain": [
       "'Berlin'"
      ]
     },
     "execution_count": 88,
     "metadata": {},
     "output_type": "execute_result"
    }
   ],
   "source": [
    "location = location_input.capitalize()\n",
    "location"
   ]
  },
  {
   "cell_type": "code",
   "execution_count": 89,
   "metadata": {},
   "outputs": [],
   "source": [
    "# geoId=\"100994331\""
   ]
  },
  {
   "cell_type": "code",
   "execution_count": null,
   "metadata": {},
   "outputs": [],
   "source": []
  },
  {
   "cell_type": "markdown",
   "metadata": {},
   "source": [
    "> ## API"
   ]
  },
  {
   "cell_type": "code",
   "execution_count": 90,
   "metadata": {},
   "outputs": [],
   "source": [
    "# ??????????????????????"
   ]
  },
  {
   "cell_type": "code",
   "execution_count": null,
   "metadata": {},
   "outputs": [],
   "source": []
  },
  {
   "cell_type": "markdown",
   "metadata": {},
   "source": [
    "> ## WEB SCRAPPING"
   ]
  },
  {
   "cell_type": "markdown",
   "metadata": {},
   "source": [
    "### SELENIUM >"
   ]
  },
  {
   "cell_type": "code",
   "execution_count": 91,
   "metadata": {},
   "outputs": [],
   "source": [
    "from selenium import webdriver\n",
    "from selenium.webdriver.common.action_chains import ActionChains\n",
    "import os\n",
    "from dotenv import load_dotenv\n",
    "import time"
   ]
  },
  {
   "cell_type": "code",
   "execution_count": 92,
   "metadata": {},
   "outputs": [],
   "source": [
    "#import requests\n",
    "#from bs4 import BeautifulSoup"
   ]
  },
  {
   "cell_type": "markdown",
   "metadata": {},
   "source": [
    "#### DRIVER PATH:"
   ]
  },
  {
   "cell_type": "code",
   "execution_count": 93,
   "metadata": {},
   "outputs": [],
   "source": [
    "#LINUX\n",
    "#os.environ['PATH'] = f'{os.environ[\"PATH\"]}:/home/cristopherrl/Documents/program/selenium/drivers/'\n",
    "#WINDOWS\n",
    "os.environ['PATH'] = f'{os.environ[\"PATH\"]};C:\\\\Users\\\\x385645\\\\Documents\\\\Selenium'"
   ]
  },
  {
   "cell_type": "code",
   "execution_count": 94,
   "metadata": {},
   "outputs": [
    {
     "data": {
      "text/plain": [
       "'C:\\\\Users\\\\x385645\\\\AppData\\\\Local\\\\Continuum\\\\anaconda3\\\\envs\\\\final_project;C:\\\\Users\\\\x385645\\\\AppData\\\\Local\\\\Continuum\\\\anaconda3\\\\envs\\\\final_project\\\\Library\\\\mingw-w64\\\\bin;C:\\\\Users\\\\x385645\\\\AppData\\\\Local\\\\Continuum\\\\anaconda3\\\\envs\\\\final_project\\\\Library\\\\usr\\\\bin;C:\\\\Users\\\\x385645\\\\AppData\\\\Local\\\\Continuum\\\\anaconda3\\\\envs\\\\final_project\\\\Library\\\\bin;C:\\\\Users\\\\x385645\\\\AppData\\\\Local\\\\Continuum\\\\anaconda3\\\\envs\\\\final_project\\\\Scripts;C:\\\\Users\\\\x385645\\\\AppData\\\\Local\\\\Continuum\\\\anaconda3\\\\envs\\\\final_project\\\\bin;C:\\\\Users\\\\x385645\\\\AppData\\\\Local\\\\Continuum\\\\anaconda3\\\\condabin;C:\\\\ARQDISP;C:\\\\PROGRA~1\\\\7-ZIP;C:\\\\PROGRAM FILES (X86)\\\\IBM\\\\TRACE FACILITY;C:\\\\PROGRAM FILES (X86)\\\\IBM\\\\PERSONAL COMMUNICATIONS;C:\\\\PROGRAM FILES (X86)\\\\JAVA\\\\JRE1.8.0_91\\\\BIN\\\\CLIENT;C:\\\\PROGRAMDATA\\\\ORACLE\\\\JAVA\\\\JAVAPATH;C:\\\\WINDOWS\\\\SYSTEM32;C:\\\\WINDOWS;C:\\\\WINDOWS\\\\SYSTEM32\\\\WBEM;C:\\\\WINDOWS\\\\SYSTEM32\\\\WINDOWSPOWERSHELL\\\\V1.0;.;C:\\\\WINDOWS\\\\system32;C:\\\\WINDOWS;C:\\\\WINDOWS\\\\System32\\\\Wbem;C:\\\\WINDOWS\\\\System32\\\\WindowsPowerShell\\\\v1.0;C:\\\\WINDOWS\\\\System32\\\\OpenSSH;C:\\\\Users\\\\x385645\\\\AppData\\\\Local\\\\Microsoft\\\\WindowsApps;C:\\\\Users\\\\x385645\\\\AppData\\\\Local\\\\Programs\\\\Azure Data Studio\\\\bin;C:\\\\Users\\\\x385645\\\\AppData\\\\Local\\\\Programs\\\\Git\\\\cmd;C:\\\\Users\\\\x385645\\\\Documents\\\\Selenium;C:\\\\Users\\\\x385645\\\\Documents\\\\Selenium;C:\\\\Users\\\\x385645\\\\Documents\\\\Selenium'"
      ]
     },
     "execution_count": 94,
     "metadata": {},
     "output_type": "execute_result"
    }
   ],
   "source": [
    "os.environ['PATH']"
   ]
  },
  {
   "cell_type": "code",
   "execution_count": null,
   "metadata": {},
   "outputs": [],
   "source": []
  },
  {
   "cell_type": "markdown",
   "metadata": {},
   "source": [
    "#### .ENV PATH:"
   ]
  },
  {
   "cell_type": "code",
   "execution_count": 95,
   "metadata": {},
   "outputs": [
    {
     "data": {
      "text/plain": [
       "True"
      ]
     },
     "execution_count": 95,
     "metadata": {},
     "output_type": "execute_result"
    }
   ],
   "source": [
    "load_dotenv(dotenv_path='../.env')"
   ]
  },
  {
   "cell_type": "markdown",
   "metadata": {},
   "source": [
    "#### SIGN IN:"
   ]
  },
  {
   "cell_type": "code",
   "execution_count": 96,
   "metadata": {},
   "outputs": [],
   "source": [
    "browser = webdriver.Chrome()\n",
    "URL = 'https://www.linkedin.com/login'\n",
    "browser.get(URL)"
   ]
  },
  {
   "cell_type": "code",
   "execution_count": 97,
   "metadata": {},
   "outputs": [],
   "source": [
    "SECRET_USER = os.getenv(\"SESSION_KEY\")\n",
    "SECRET_PASS = os.getenv(\"SESSION_PASSWORD\")"
   ]
  },
  {
   "cell_type": "code",
   "execution_count": 98,
   "metadata": {},
   "outputs": [],
   "source": [
    "user     = browser.find_element_by_xpath('/html/body/div/main/div/form/div[1]/input')\n",
    "user.send_keys(SECRET_USER)\n",
    "time.sleep(1)"
   ]
  },
  {
   "cell_type": "code",
   "execution_count": 99,
   "metadata": {},
   "outputs": [],
   "source": [
    "password = browser.find_element_by_xpath('/html/body/div/main/div/form/div[2]/input')\n",
    "password.send_keys(SECRET_PASS)\n",
    "time.sleep(1)"
   ]
  },
  {
   "cell_type": "code",
   "execution_count": 100,
   "metadata": {},
   "outputs": [],
   "source": [
    "#sign_in  = browser.find_element_by_xpath('/html/body/div/main/div/form/div[3]/button')\n",
    "sign_in  = browser.find_element_by_class_name('login__form_action_container')\n",
    "sign_in.click()\n",
    "time.sleep(1)"
   ]
  },
  {
   "cell_type": "code",
   "execution_count": null,
   "metadata": {},
   "outputs": [],
   "source": []
  },
  {
   "cell_type": "markdown",
   "metadata": {},
   "source": [
    "#### JOB SEARCH :"
   ]
  },
  {
   "cell_type": "code",
   "execution_count": 101,
   "metadata": {},
   "outputs": [
    {
     "data": {
      "text/plain": [
       "'https://www.linkedin.com/checkpoint/challenge/AgGM_EEO7krQgQAAAXFmjw-Fo6qfzr619ajkpq2YkgkvthZGTVpynwZIQ6S0jEjSmD78yG_JCM2rqSg7SXS4cEghjZ2OPQ?ut=2eqSzcZPDCuVc1'"
      ]
     },
     "execution_count": 101,
     "metadata": {},
     "output_type": "execute_result"
    }
   ],
   "source": [
    "current_url = browser.current_url\n",
    "current_url"
   ]
  },
  {
   "cell_type": "code",
   "execution_count": 102,
   "metadata": {},
   "outputs": [],
   "source": [
    "# First job search URL\n",
    "JOB_URL = f'https://www.linkedin.com/jobs/search/?keywords={job_title}&location={location}&start=0'\n",
    "browser.get(JOB_URL)"
   ]
  },
  {
   "cell_type": "code",
   "execution_count": 103,
   "metadata": {},
   "outputs": [
    {
     "data": {
      "text/plain": [
       "<bound method WebDriver.get_cookies of <selenium.webdriver.chrome.webdriver.WebDriver (session=\"3b79a3c4ac08f70d98b7f8f0e15800da\")>>"
      ]
     },
     "execution_count": 103,
     "metadata": {},
     "output_type": "execute_result"
    }
   ],
   "source": [
    "browser.get_cookies"
   ]
  },
  {
   "cell_type": "code",
   "execution_count": null,
   "metadata": {},
   "outputs": [],
   "source": []
  },
  {
   "cell_type": "markdown",
   "metadata": {},
   "source": [
    "#### GETTING JOB POSTS :"
   ]
  },
  {
   "cell_type": "code",
   "execution_count": 104,
   "metadata": {},
   "outputs": [
    {
     "data": {
      "text/plain": [
       "'https://www.linkedin.com/jobs/search/?keywords=data%20scientist&location=Berlin&start=0&redirect=false&position=1&pageNum=0'"
      ]
     },
     "execution_count": 104,
     "metadata": {},
     "output_type": "execute_result"
    }
   ],
   "source": [
    "# current url\n",
    "browser.current_url"
   ]
  },
  {
   "cell_type": "code",
   "execution_count": 105,
   "metadata": {},
   "outputs": [],
   "source": [
    "#browser.find_element_by_xpath(\"/html/body/div[5]/div[4]/div[3]/section[1]/div[2]/div/div/div[1]/div[1]/div[1]/small\").text.split(\" \")[0]"
   ]
  },
  {
   "cell_type": "code",
   "execution_count": 106,
   "metadata": {},
   "outputs": [
    {
     "ename": "NoSuchElementException",
     "evalue": "Message: no such element: Unable to locate element: {\"method\":\"xpath\",\"selector\":\"/html/body/div[5]/div[4]/div[3]/section[1]/div[2]/div/div/div[1]/div[1]/div[1]/small\"}\n  (Session info: chrome=80.0.3987.122)\n",
     "output_type": "error",
     "traceback": [
      "\u001b[1;31m---------------------------------------------------------------------------\u001b[0m",
      "\u001b[1;31mNoSuchElementException\u001b[0m                    Traceback (most recent call last)",
      "\u001b[1;32m<ipython-input-106-ce0044ef1d21>\u001b[0m in \u001b[0;36m<module>\u001b[1;34m\u001b[0m\n\u001b[0;32m      1\u001b[0m \u001b[1;31m#number of pages with job posts\u001b[0m\u001b[1;33m\u001b[0m\u001b[1;33m\u001b[0m\u001b[1;33m\u001b[0m\u001b[0m\n\u001b[1;32m----> 2\u001b[1;33m \u001b[1;32mif\u001b[0m   \u001b[0mbrowser\u001b[0m\u001b[1;33m.\u001b[0m\u001b[0mfind_element_by_xpath\u001b[0m\u001b[1;33m(\u001b[0m\u001b[1;34m\"/html/body/div[5]/div[4]/div[3]/section[1]/div[2]/div/div/div[1]/div[1]/div[1]/small\"\u001b[0m\u001b[1;33m)\u001b[0m\u001b[1;33m:\u001b[0m\u001b[1;33m\u001b[0m\u001b[1;33m\u001b[0m\u001b[0m\n\u001b[0m\u001b[0;32m      3\u001b[0m     results = int(browser.find_element_by_xpath\\\n\u001b[0;32m      4\u001b[0m     (\"/html/body/div[5]/div[4]/div[3]/section[1]/div[2]/div/div/div[1]/div[1]/div[1]/small\").text.split(\" \")[0])\n\u001b[0;32m      5\u001b[0m \u001b[1;32melif\u001b[0m \u001b[0mbrowser\u001b[0m\u001b[1;33m.\u001b[0m\u001b[0mfind_element_by_xpath\u001b[0m\u001b[1;33m(\u001b[0m\u001b[1;34m\"/html/body/div[6]/div[4]/div[3]/section[1]/div[2]/div/div/div[1]/div[1]/div[1]/small\"\u001b[0m\u001b[1;33m)\u001b[0m\u001b[1;33m:\u001b[0m\u001b[1;33m\u001b[0m\u001b[1;33m\u001b[0m\u001b[0m\n",
      "\u001b[1;32m~\\AppData\\Local\\Continuum\\anaconda3\\envs\\final_project\\lib\\site-packages\\selenium\\webdriver\\remote\\webdriver.py\u001b[0m in \u001b[0;36mfind_element_by_xpath\u001b[1;34m(self, xpath)\u001b[0m\n\u001b[0;32m    392\u001b[0m             \u001b[0melement\u001b[0m \u001b[1;33m=\u001b[0m \u001b[0mdriver\u001b[0m\u001b[1;33m.\u001b[0m\u001b[0mfind_element_by_xpath\u001b[0m\u001b[1;33m(\u001b[0m\u001b[1;34m'//div/td[1]'\u001b[0m\u001b[1;33m)\u001b[0m\u001b[1;33m\u001b[0m\u001b[1;33m\u001b[0m\u001b[0m\n\u001b[0;32m    393\u001b[0m         \"\"\"\n\u001b[1;32m--> 394\u001b[1;33m         \u001b[1;32mreturn\u001b[0m \u001b[0mself\u001b[0m\u001b[1;33m.\u001b[0m\u001b[0mfind_element\u001b[0m\u001b[1;33m(\u001b[0m\u001b[0mby\u001b[0m\u001b[1;33m=\u001b[0m\u001b[0mBy\u001b[0m\u001b[1;33m.\u001b[0m\u001b[0mXPATH\u001b[0m\u001b[1;33m,\u001b[0m \u001b[0mvalue\u001b[0m\u001b[1;33m=\u001b[0m\u001b[0mxpath\u001b[0m\u001b[1;33m)\u001b[0m\u001b[1;33m\u001b[0m\u001b[1;33m\u001b[0m\u001b[0m\n\u001b[0m\u001b[0;32m    395\u001b[0m \u001b[1;33m\u001b[0m\u001b[0m\n\u001b[0;32m    396\u001b[0m     \u001b[1;32mdef\u001b[0m \u001b[0mfind_elements_by_xpath\u001b[0m\u001b[1;33m(\u001b[0m\u001b[0mself\u001b[0m\u001b[1;33m,\u001b[0m \u001b[0mxpath\u001b[0m\u001b[1;33m)\u001b[0m\u001b[1;33m:\u001b[0m\u001b[1;33m\u001b[0m\u001b[1;33m\u001b[0m\u001b[0m\n",
      "\u001b[1;32m~\\AppData\\Local\\Continuum\\anaconda3\\envs\\final_project\\lib\\site-packages\\selenium\\webdriver\\remote\\webdriver.py\u001b[0m in \u001b[0;36mfind_element\u001b[1;34m(self, by, value)\u001b[0m\n\u001b[0;32m    976\u001b[0m         return self.execute(Command.FIND_ELEMENT, {\n\u001b[0;32m    977\u001b[0m             \u001b[1;34m'using'\u001b[0m\u001b[1;33m:\u001b[0m \u001b[0mby\u001b[0m\u001b[1;33m,\u001b[0m\u001b[1;33m\u001b[0m\u001b[1;33m\u001b[0m\u001b[0m\n\u001b[1;32m--> 978\u001b[1;33m             'value': value})['value']\n\u001b[0m\u001b[0;32m    979\u001b[0m \u001b[1;33m\u001b[0m\u001b[0m\n\u001b[0;32m    980\u001b[0m     \u001b[1;32mdef\u001b[0m \u001b[0mfind_elements\u001b[0m\u001b[1;33m(\u001b[0m\u001b[0mself\u001b[0m\u001b[1;33m,\u001b[0m \u001b[0mby\u001b[0m\u001b[1;33m=\u001b[0m\u001b[0mBy\u001b[0m\u001b[1;33m.\u001b[0m\u001b[0mID\u001b[0m\u001b[1;33m,\u001b[0m \u001b[0mvalue\u001b[0m\u001b[1;33m=\u001b[0m\u001b[1;32mNone\u001b[0m\u001b[1;33m)\u001b[0m\u001b[1;33m:\u001b[0m\u001b[1;33m\u001b[0m\u001b[1;33m\u001b[0m\u001b[0m\n",
      "\u001b[1;32m~\\AppData\\Local\\Continuum\\anaconda3\\envs\\final_project\\lib\\site-packages\\selenium\\webdriver\\remote\\webdriver.py\u001b[0m in \u001b[0;36mexecute\u001b[1;34m(self, driver_command, params)\u001b[0m\n\u001b[0;32m    319\u001b[0m         \u001b[0mresponse\u001b[0m \u001b[1;33m=\u001b[0m \u001b[0mself\u001b[0m\u001b[1;33m.\u001b[0m\u001b[0mcommand_executor\u001b[0m\u001b[1;33m.\u001b[0m\u001b[0mexecute\u001b[0m\u001b[1;33m(\u001b[0m\u001b[0mdriver_command\u001b[0m\u001b[1;33m,\u001b[0m \u001b[0mparams\u001b[0m\u001b[1;33m)\u001b[0m\u001b[1;33m\u001b[0m\u001b[1;33m\u001b[0m\u001b[0m\n\u001b[0;32m    320\u001b[0m         \u001b[1;32mif\u001b[0m \u001b[0mresponse\u001b[0m\u001b[1;33m:\u001b[0m\u001b[1;33m\u001b[0m\u001b[1;33m\u001b[0m\u001b[0m\n\u001b[1;32m--> 321\u001b[1;33m             \u001b[0mself\u001b[0m\u001b[1;33m.\u001b[0m\u001b[0merror_handler\u001b[0m\u001b[1;33m.\u001b[0m\u001b[0mcheck_response\u001b[0m\u001b[1;33m(\u001b[0m\u001b[0mresponse\u001b[0m\u001b[1;33m)\u001b[0m\u001b[1;33m\u001b[0m\u001b[1;33m\u001b[0m\u001b[0m\n\u001b[0m\u001b[0;32m    322\u001b[0m             response['value'] = self._unwrap_value(\n\u001b[0;32m    323\u001b[0m                 response.get('value', None))\n",
      "\u001b[1;32m~\\AppData\\Local\\Continuum\\anaconda3\\envs\\final_project\\lib\\site-packages\\selenium\\webdriver\\remote\\errorhandler.py\u001b[0m in \u001b[0;36mcheck_response\u001b[1;34m(self, response)\u001b[0m\n\u001b[0;32m    240\u001b[0m                 \u001b[0malert_text\u001b[0m \u001b[1;33m=\u001b[0m \u001b[0mvalue\u001b[0m\u001b[1;33m[\u001b[0m\u001b[1;34m'alert'\u001b[0m\u001b[1;33m]\u001b[0m\u001b[1;33m.\u001b[0m\u001b[0mget\u001b[0m\u001b[1;33m(\u001b[0m\u001b[1;34m'text'\u001b[0m\u001b[1;33m)\u001b[0m\u001b[1;33m\u001b[0m\u001b[1;33m\u001b[0m\u001b[0m\n\u001b[0;32m    241\u001b[0m             \u001b[1;32mraise\u001b[0m \u001b[0mexception_class\u001b[0m\u001b[1;33m(\u001b[0m\u001b[0mmessage\u001b[0m\u001b[1;33m,\u001b[0m \u001b[0mscreen\u001b[0m\u001b[1;33m,\u001b[0m \u001b[0mstacktrace\u001b[0m\u001b[1;33m,\u001b[0m \u001b[0malert_text\u001b[0m\u001b[1;33m)\u001b[0m\u001b[1;33m\u001b[0m\u001b[1;33m\u001b[0m\u001b[0m\n\u001b[1;32m--> 242\u001b[1;33m         \u001b[1;32mraise\u001b[0m \u001b[0mexception_class\u001b[0m\u001b[1;33m(\u001b[0m\u001b[0mmessage\u001b[0m\u001b[1;33m,\u001b[0m \u001b[0mscreen\u001b[0m\u001b[1;33m,\u001b[0m \u001b[0mstacktrace\u001b[0m\u001b[1;33m)\u001b[0m\u001b[1;33m\u001b[0m\u001b[1;33m\u001b[0m\u001b[0m\n\u001b[0m\u001b[0;32m    243\u001b[0m \u001b[1;33m\u001b[0m\u001b[0m\n\u001b[0;32m    244\u001b[0m     \u001b[1;32mdef\u001b[0m \u001b[0m_value_or_default\u001b[0m\u001b[1;33m(\u001b[0m\u001b[0mself\u001b[0m\u001b[1;33m,\u001b[0m \u001b[0mobj\u001b[0m\u001b[1;33m,\u001b[0m \u001b[0mkey\u001b[0m\u001b[1;33m,\u001b[0m \u001b[0mdefault\u001b[0m\u001b[1;33m)\u001b[0m\u001b[1;33m:\u001b[0m\u001b[1;33m\u001b[0m\u001b[1;33m\u001b[0m\u001b[0m\n",
      "\u001b[1;31mNoSuchElementException\u001b[0m: Message: no such element: Unable to locate element: {\"method\":\"xpath\",\"selector\":\"/html/body/div[5]/div[4]/div[3]/section[1]/div[2]/div/div/div[1]/div[1]/div[1]/small\"}\n  (Session info: chrome=80.0.3987.122)\n"
     ]
    }
   ],
   "source": [
    "#number of pages with job posts\n",
    "if   browser.find_element_by_xpath(\"/html/body/div[5]/div[4]/div[3]/section[1]/div[2]/div/div/div[1]/div[1]/div[1]/small\"):\n",
    "    results = int(browser.find_element_by_xpath\\\n",
    "    (\"/html/body/div[5]/div[4]/div[3]/section[1]/div[2]/div/div/div[1]/div[1]/div[1]/small\").text.split(\" \")[0])\n",
    "elif browser.find_element_by_xpath(\"/html/body/div[6]/div[4]/div[3]/section[1]/div[2]/div/div/div[1]/div[1]/div[1]/small\"):\n",
    "    results = int(browser.find_element_by_xpath\\\n",
    "    (\"/html/body/div[5]/div[4]/div[3]/section[1]/div[2]/div/div/div[1]/div[1]/div[1]/small\").text.split(\" \")[0])\n",
    "\n",
    "if results > 25:\n",
    "    try:\n",
    "        pages = browser.find_element_by_xpath\\\n",
    "        ('/html/body/div[5]/div[4]/div[3]/section[1]/div[2]/div/div/div[1]/div[2]/div/section/artdeco-pagination/ul')\n",
    "    except:\n",
    "        pages = browser.find_element_by_xpath\\\n",
    "        ('/html/body/div[6]/div[4]/div[3]/section[1]/div[2]/div/div/div[1]/div[2]/div/section/artdeco-pagination/ul')\n",
    "    print(type(pages))\n",
    "    n_pages = int(pages.text.split('\\n')[-1])\n",
    "    print(n_pages)\n",
    "else:\n",
    "    n_pages = 1"
   ]
  },
  {
   "cell_type": "code",
   "execution_count": null,
   "metadata": {},
   "outputs": [],
   "source": [
    "#last = browser.find_element_by_xpath()'/html/body/div[6]/div[4]/div[3]/section[1]/div[2]/div/div/div[1]/div[2]/div/section/artdeco-pagination/ul')"
   ]
  },
  {
   "cell_type": "code",
   "execution_count": null,
   "metadata": {},
   "outputs": [],
   "source": [
    "#pages.location_once_scrolled_into_view"
   ]
  },
  {
   "cell_type": "markdown",
   "metadata": {},
   "source": [
    "***"
   ]
  },
  {
   "cell_type": "code",
   "execution_count": null,
   "metadata": {},
   "outputs": [],
   "source": [
    "import pandas as pd\n",
    "from datetime import datetime, timedelta\n"
   ]
  },
  {
   "cell_type": "code",
   "execution_count": null,
   "metadata": {},
   "outputs": [],
   "source": [
    "# Extracting info\n",
    "last_job_page = n_pages*25\n",
    "print(last_job_page)\n",
    "\n",
    "now = datetime.now()\n",
    "\n",
    "df_jobs = pd.DataFrame(columns=['JOB TITLE',\n",
    "                                'LOCATION',\n",
    "                                'SEARCH DATETIME',\n",
    "                                'Current Job Id',\n",
    "                                'Job name',\n",
    "                                'Company name',\n",
    "                                'Company location',\n",
    "                                'Posted date',\n",
    "                                'Estimated post date',\n",
    "                                'Easy apply',\n",
    "                                'Seniority Level',\n",
    "                                'Industry',\n",
    "                                'Employment Type',\n",
    "                                'Job Functions',\n",
    "                                'Job info'                                \n",
    "                               ])\n",
    "\n",
    "\n",
    "for p in range(0,last_job_page,25):\n",
    "#for p in range(0,1):\n",
    "    \n",
    "    print(f'pagina: {p}')\n",
    "    \n",
    "    #Exploring each page with maximum 25 job posts\n",
    "    if p > 0:\n",
    "        JOB_URL = f'https://www.linkedin.com/jobs/search/?keywords={job_title}&location={location}&start={p}'\n",
    "        browser.get(JOB_URL)\n",
    "    time.sleep(0.5)\n",
    "    \n",
    "    \"\"\"\n",
    "    #activate all job posts in each page \n",
    "    if results > 25:\n",
    "        try:\n",
    "            pages = browser.find_element_by_xpath\\\n",
    "            ('/html/body/div[5]/div[4]/div[3]/section[1]/div[2]/div/div/div[1]/div[2]/div/section/artdeco-pagination/ul')\n",
    "        except:\n",
    "            pages = browser.find_element_by_xpath\\\n",
    "            ('/html/body/div[6]/div[4]/div[3]/section[1]/div[2]/div/div/div[1]/div[2]/div/section/artdeco-pagination/ul')\n",
    "    actions = ActionChains(browser)\n",
    "    actions.move_to_element(pages).perform()\n",
    "    \"\"\"\n",
    "    \n",
    "    # Taking table of job posts\n",
    "    #if   browser.find_element_by_class_name(\"jobs-search-two-pane__results display-flex\"):\n",
    "    #    tabla_izq = browser.find_element_by_class_name(\"jobs-search-two-pane__results display-flex\")\n",
    "    #                                    /html/body/div[5]/div[4]/div[3]/section[1]/div[2]/div/div/div[1]\n",
    "    try:\n",
    "        if browser.find_element_by_xpath(\"/html/body/div[5]/div[4]/div[3]/section[1]/div[2]/div/div/div[1]\"):\n",
    "            tabla_izq = browser.find_element_by_xpath(\"/html/body/div[5]/div[4]/div[3]/section[1]/div[2]/div/div/div[1]\")\n",
    "        elif browser.find_element_by_xpath(\"/html/body/div[6]/div[4]/div[3]/section[1]/div[2]/div/div/div[1]\"):\n",
    "            tabla_izq = browser.find_element_by_xpath(\"/html/body/div[6]/div[4]/div[3]/section[1]/div[2]/div/div/div[1]\") \n",
    "    except:\n",
    "        JOB_URL = f'https://www.linkedin.com/jobs/search/?keywords={job_title}&location={location}&start={p}'\n",
    "        browser.get(JOB_URL)\n",
    "        time.sleep(0.2)\n",
    "        \n",
    "        if browser.find_element_by_xpath(\"/html/body/div[5]/div[4]/div[3]/section[1]/div[2]/div/div/div[1]\"):\n",
    "            tabla_izq = browser.find_element_by_xpath(\"/html/body/div[5]/div[4]/div[3]/section[1]/div[2]/div/div/div[1]\")\n",
    "        elif browser.find_element_by_xpath(\"/html/body/div[6]/div[4]/div[3]/section[1]/div[2]/div/div/div[1]\"):\n",
    "            tabla_izq = browser.find_element_by_xpath(\"/html/body/div[6]/div[4]/div[3]/section[1]/div[2]/div/div/div[1]\") \n",
    "   \n",
    "        \n",
    "    #try:\n",
    "    #    tabla_izq = \\\n",
    "    #        browser.find_element_by_xpath(\"/html/body/div[5]/div[4]/div[3]/section[1]/div[2]/div/div/div[1]\")\n",
    "    #except:\n",
    "    #    tabla_izq = \\\n",
    "    #        browser.find_element_by_xpath(\"/html/body/div[6]/div[4]/div[3]/section[1]/div[2]/div/div/div[1]\")         \n",
    "    #time.sleep(0.5)\n",
    "    \n",
    "    \n",
    "    # Getting quantity of job posts that you can see directly in each page\n",
    "    if p < (last_job_page-25):\n",
    "        job_list = \\\n",
    "        tabla_izq.text.split('Manage alerts\\n')[1].split('Close\\n')[0].split('ago')    \n",
    "    else:\n",
    "        job_list = \\\n",
    "        tabla_izq.text.split('Manage alerts\\n')[1].split('Close\\n')[0].split('Create alert for this search\\n')[0].split('ago')\n",
    "     \n",
    "    \n",
    "    n_job_list = len(job_list)-1\n",
    "    print(f'Lista de trabajos visibles:{n_job_list}') \n",
    "    time.sleep(0.1)\n",
    "    \n",
    "    for i in range(1,n_job_list+1):\n",
    "    #for i in range(1,26):\n",
    "    #for i in range(1,2):\n",
    "        print(f'i:{i}')\n",
    "        \n",
    "        # Selecting job post in order to click on it\n",
    "        if   browser.find_element_by_xpath(          f'/html/body/div[5]/div[4]/div[3]/section[1]/div[2]/div/div/div[1]/div[2]/div/ul/li[{i}]/div/artdeco-entity-lockup/artdeco-entity-lockup-content/h3/a'):\n",
    "            job_post = browser.find_element_by_xpath(f'/html/body/div[5]/div[4]/div[3]/section[1]/div[2]/div/div/div[1]/div[2]/div/ul/li[{i}]/div/artdeco-entity-lockup/artdeco-entity-lockup-content/h3/a')\n",
    "                                                    #  /html/body/div[5]/div[4]/div[3]/section[1]/div[2]/div/div/div[1]/div[2]/div/ul/li[ 1 ]/div/artdeco-entity-lockup/artdeco-entity-lockup-content/h3/a\n",
    "                                                    #  /html/body/div[5]/div[4]/div[3]/section[1]/div[2]/div/div/div[1]/div[2]/div/ul/li[ 1 ]/div/artdeco-entity-lockup/artdeco-entity-lockup-content/h3/a\n",
    "        elif browser.find_element_by_xpath(          f'/html/body/div[6]/div[4]/div[3]/section[1]/div[2]/div/div/div[1]/div[2]/div/ul/li[{i}]/div/artdeco-entity-lockup/artdeco-entity-lockup-content/h3/a'):\n",
    "            job_post = browser.find_element_by_xpath(f'/html/body/div[6]/div[4]/div[3]/section[1]/div[2]/div/div/div[1]/div[2]/div/ul/li[{i}]/div/artdeco-entity-lockup/artdeco-entity-lockup-content/h3/a')\n",
    "            \n",
    "        elif browser.find_element_by_xpath(          f'/html/body/div[5]/div[4]/div[3]/section[1]/div[2]/div/div/div[1]/div[2]/div[2]/ul/li[{i}]/div/artdeco-entity-lockup/artdeco-entity-lockup-content/h3/a'):\n",
    "            job_post = browser.find_element_by_xpath(f'/html/body/div[5]/div[4]/div[3]/section[1]/div[2]/div/div/div[1]/div[2]/div[2]/ul/li[{i}]/div/artdeco-entity-lockup/artdeco-entity-lockup-content/h3/a')\n",
    "            \n",
    "        elif browser.find_element_by_xpath(          f'/html/body/div[6]/div[4]/div[3]/section[1]/div[2]/div/div/div[1]/div[2]/div[2]/ul/li[{i}]/div/artdeco-entity-lockup/artdeco-entity-lockup-content/h3/a'):\n",
    "            job_post = browser.find_element_by_xpath(f'/html/body/div[6]/div[4]/div[3]/section[1]/div[2]/div/div/div[1]/div[2]/div[2]/ul/li[{i}]/div/artdeco-entity-lockup/artdeco-entity-lockup-content/h3/a')\n",
    "        \n",
    "        #try:\n",
    "        #    job_post = browser.find_element_by_xpath\\\n",
    "        #    (f'/html/body/div[5]/div[4]/div[3]/section[1]/div[2]/div/div/div[1]/div[2]/div/ul/li[{i}]/div/artdeco-entity-lockup/artdeco-entity-lockup-content/h3/a')\n",
    "        #except:\n",
    "        #    job_post = browser.find_element_by_xpath\\\n",
    "        #    (f'/html/body/div[6]/div[4]/div[3]/section[1]/div[2]/div/div/div[1]/div[2]/div/ul/li[{i}]/div/artdeco-entity-lockup/artdeco-entity-lockup-content/h3/a')\n",
    "        \n",
    "        print(job_post.text)\n",
    "        job_post.click()\n",
    "        time.sleep(0.1)\n",
    "        \n",
    "        # Getting current job ID\n",
    "        print(browser.current_url)      \n",
    "        currentJobId = browser.current_url.split('currentJobId=')[1].split('&')[0] #col1_pd\n",
    "        print(f'{currentJobId}')\n",
    "\n",
    "        # Extracting job information on the right side\n",
    "        try:\n",
    "            job_post_right = browser.find_element_by_xpath\\\n",
    "                ('/html/body/div[5]/div[4]/div[3]/section[1]/div[2]/div/div/div[2]')\n",
    "        except:\n",
    "            job_post_right = browser.find_element_by_xpath\\\n",
    "                ('/html/body/div[6]/div[4]/div[3]/section[1]/div[2]/div/div/div[2]')\n",
    "            \n",
    "        #getting info and only separating: job name, company name, company location\n",
    "        #job_post_right_content    = job_post_right.text.split('\\n', 5)\n",
    "        \n",
    "        #Job name\n",
    "        job_post_name             = job_post_right.text.split('\\n', 1)[0]\n",
    "        \n",
    "        #Company name > Sometimes there is no info here\n",
    "        if job_post_right.text.split('Company Name\\n',1)[1].split('\\n')[0] == 'Company Location':\n",
    "            job_post_company_name = \"\"\n",
    "        else:\n",
    "            job_post_company_name = job_post_right.text.split('Company Name\\n',1)[1].split('\\n')[0]\n",
    "        \n",
    "        #Location\n",
    "        job_post_company_location = job_post_right.text.split('Company Location\\n',1)[1].split('\\n')[0]\n",
    "        \n",
    "        #Posted date\n",
    "        job_post_posted_date      = job_post_right.text.split(' ago',1)[0].split('Posted Date\\nPosted ')[1]\n",
    "        if   job_post_posted_date.split(\" \")[1] in ['hour', 'hours']:\n",
    "            job_post_estimated_date = now - timedelta(hours =     int(job_post_posted_date.split(\" \")[0]))\n",
    "        elif job_post_posted_date.split(\" \")[1] in ['week', 'weeks']:\n",
    "            job_post_estimated_date = now - timedelta(weeks =     int(job_post_posted_date.split(\" \")[0]))\n",
    "        elif job_post_posted_date.split(\" \")[1] in ['month', 'months']:\n",
    "            job_post_estimated_date = now - timedelta(weeks =   4*int(job_post_posted_date.split(\" \")[0]))\n",
    "        elif job_post_posted_date.split(\" \")[1] in ['year', 'years']:\n",
    "            job_post_estimated_date = now - timedelta(weeks = 365*int(job_post_posted_date.split(\" \")[0]))\n",
    "        \n",
    "        #Easy apply: T/F\n",
    "        try:\n",
    "            if job_post_right.text.split('Save\\n',1)[1].split('\\n',2)[1] == 'Easy Apply':\n",
    "                job_post_easy_apply = True\n",
    "            else:\n",
    "                job_post_easy_apply = False\n",
    "        except:\n",
    "            if job_post_right.text.split('Unsave\\n',1)[1].split('\\n',2)[1] == 'Easy Apply':\n",
    "                job_post_easy_apply = True\n",
    "            else:\n",
    "                job_post_easy_apply = False\n",
    "            \n",
    "\n",
    "        #Seniority Level\n",
    "        try:\n",
    "            job_post_seniority_level = job_post_right.text.split('Seniority Level\\n',1)[1].split('\\n')[0]\n",
    "        except:\n",
    "            job_post_seniority_level = \"\"\n",
    "        \n",
    "        #Industry\n",
    "        try:\n",
    "            job_post_industry        = job_post_right.text.split('Industry\\n',1)[1].split('\\n')[0]\n",
    "        except:\n",
    "            job_post_industry        = \"\"\n",
    "        \n",
    "        #Employment Type\n",
    "        try:\n",
    "            job_post_employment_type = job_post_right.text.split('Employment Type\\n',1)[1].split('\\n')[0]\n",
    "        except:\n",
    "            job_post_employment_type = \"\"\n",
    "            \n",
    "        #Job Functions > maybe this is the last\n",
    "        try:\n",
    "            job_post_job_functions   = job_post_right.text.split('Job Functions\\n',1)[1].split('\\n')[0]\n",
    "        except:\n",
    "            job_post_job_functions   = \"\"\n",
    "        \n",
    "        #job info\n",
    "        job_post_info             = job_post_right.text.split('\\n', 5)[5]\n",
    "        \n",
    "        #Dataframe\n",
    "        df_jobs = df_jobs.append({\n",
    "                                    'JOB TITLE'          : job_title_df,\n",
    "                                    'LOCATION'           : location,\n",
    "                                    'SEARCH DATETIME'    : now,\n",
    "                                    'Current Job Id'     : currentJobId,\n",
    "                                    'Job name'           : job_post_name,\n",
    "                                    'Company name'       : job_post_company_name,\n",
    "                                    'Company location'   : job_post_company_location,\n",
    "                                    'Posted date'        : job_post_posted_date,\n",
    "                                    'Estimated post date': job_post_estimated_date,\n",
    "                                    'Easy apply'         : job_post_easy_apply,\n",
    "                                    'Seniority Level'    : job_post_seniority_level,\n",
    "                                    'Industry'           : job_post_industry ,\n",
    "                                    'Employment Type'    : job_post_employment_type,\n",
    "                                    'Job Functions'      : job_post_job_functions,\n",
    "                                    'Job info'           : job_post_info,\n",
    "                                 }, ignore_index=True)\n",
    "        \n",
    "        #print(len(job_post_right_content))\n",
    "        print(job_post_name)\n",
    "        print(job_post_company_name)\n",
    "        print(job_post_company_location)\n",
    "        print(job_post_posted_date)\n",
    "        #print(f'{job_post_info}\\n')\n",
    "        print(\"\")\n",
    "\n",
    "        # if you wanna watch the job page\n",
    "        # job_html = f'https://www.linkedin.com/jobs/view/{currentJobId}/' # > it's possible to use REQUESTS\n",
    "        \n",
    "df_jobs.head(10)"
   ]
  },
  {
   "cell_type": "code",
   "execution_count": 58,
   "metadata": {},
   "outputs": [
    {
     "data": {
      "text/html": [
       "<div>\n",
       "<style scoped>\n",
       "    .dataframe tbody tr th:only-of-type {\n",
       "        vertical-align: middle;\n",
       "    }\n",
       "\n",
       "    .dataframe tbody tr th {\n",
       "        vertical-align: top;\n",
       "    }\n",
       "\n",
       "    .dataframe thead th {\n",
       "        text-align: right;\n",
       "    }\n",
       "</style>\n",
       "<table border=\"1\" class=\"dataframe\">\n",
       "  <thead>\n",
       "    <tr style=\"text-align: right;\">\n",
       "      <th></th>\n",
       "      <th>JOB TITLE</th>\n",
       "      <th>LOCATION</th>\n",
       "      <th>Current Job Id</th>\n",
       "      <th>Job name</th>\n",
       "      <th>Company name</th>\n",
       "      <th>Company location</th>\n",
       "      <th>Posted date</th>\n",
       "      <th>Job info</th>\n",
       "    </tr>\n",
       "  </thead>\n",
       "  <tbody>\n",
       "  </tbody>\n",
       "</table>\n",
       "</div>"
      ],
      "text/plain": [
       "Empty DataFrame\n",
       "Columns: [JOB TITLE, LOCATION, Current Job Id, Job name, Company name, Company location, Posted date, Job info]\n",
       "Index: []"
      ]
     },
     "execution_count": 58,
     "metadata": {},
     "output_type": "execute_result"
    }
   ],
   "source": [
    "df_jobs[df_jobs['Company name']=='']"
   ]
  },
  {
   "cell_type": "code",
   "execution_count": 82,
   "metadata": {},
   "outputs": [],
   "source": [
    "rigth = browser.find_element_by_xpath('/html/body/div[5]/div[4]/div[3]/section[1]/div[2]/div/div/div[2]').text"
   ]
  },
  {
   "cell_type": "code",
   "execution_count": 83,
   "metadata": {},
   "outputs": [
    {
     "data": {
      "text/plain": [
       "'Analista de datos\\nCompany Name\\nYUKON IT SPAIN & EUROPE\\nCompany Location\\nMadrid y alrededores\\nPosted Date\\nPosted 3 weeks ago\\nNumber of views\\n1,129 views\\nShare\\nShow more options\\nUnsave\\nUnsave Analista de datos at YUKON IT SPAIN & EUROPE\\nEasy Apply\\nSee how you compare to 217 applicants. Reactivate Premium\\nJob\\n6/10 skills match\\n217 applicants\\nCompany\\n501-1,000 employees\\nMadrid, Madrid\\nConnections\\nYou have 0 connections at this company.\\nAdd >\\nPosted by\\nPilar Tauroni Martínez 2nd\\nDirección en Multinacional Americana IT\\nSend InMail\\nDesde YUKON IT buscamos incorporar como parte del equipo de minería de datos, varios perfiles para realizar tareas de acceso y tratamiento de datos.\\n\\n- Desde el inicio, contarás con un contrato indefinido.\\n- Proyecto estable para el Sector Público.\\n- Ubicación: Madrid, Pio XII.\\n- Flexibilidad horaria, con jornada intensiva los viernes y en verano.\\n\\n¿Que buscamos?\\n\\nFormación: Titulado superior en estadística, Matemáticas, informática o similar.\\n\\nConocimientos necesarios:\\n- Análisis estadístico, acceso y tratamiento de datos.\\n- SQL y JavaScript.\\n- Buscamos profesional con interés por la analítica de datos que quiera avanzar su carrera profesional en el tratamiento y estudio de datos.\\n\\nValoramos conocimiento en:\\n- Excel.\\n- Herramientas de análisis de datos, BI o ETL...\\n\\n¡¡Si te puede interesar no dudes en unirte a nuestro equipo!!\\nSeniority Level\\nAssociate\\nIndustry\\nInformation Technology & Services Telecommunications Internet\\nEmployment Type\\nFull-time\\nJob Functions\\nInformation Technology Engineering\\nHow you match\\nCriteria provided by job poster\\nSkills\\nMatch\\nStatistics\\nMatch\\nSQL\\nMatch\\nMicrosoft Excel\\nMatch\\nData Analysis\\nMatch\\nData Mining\\nMatch\\nAnalytics\\nNo match\\nPublic Sector\\nNo match\\nAcess\\nNo match\\nMathematica\\nNo match\\nJavaScript'"
      ]
     },
     "execution_count": 83,
     "metadata": {},
     "output_type": "execute_result"
    }
   ],
   "source": [
    "rigth"
   ]
  },
  {
   "cell_type": "code",
   "execution_count": 66,
   "metadata": {},
   "outputs": [
    {
     "data": {
      "text/plain": [
       "'1 day'"
      ]
     },
     "execution_count": 66,
     "metadata": {},
     "output_type": "execute_result"
    }
   ],
   "source": [
    "rigth.split(' ago',1)[0].split('Posted Date\\nPosted ')[1]"
   ]
  },
  {
   "cell_type": "code",
   "execution_count": 67,
   "metadata": {},
   "outputs": [
    {
     "data": {
      "text/plain": [
       "'Easy Apply'"
      ]
     },
     "execution_count": 67,
     "metadata": {},
     "output_type": "execute_result"
    }
   ],
   "source": [
    "rigth.split('Save\\n',1)[1].split('\\n',2)[1]"
   ]
  },
  {
   "cell_type": "code",
   "execution_count": null,
   "metadata": {},
   "outputs": [],
   "source": [
    "df_jobs.shape"
   ]
  },
  {
   "cell_type": "code",
   "execution_count": null,
   "metadata": {},
   "outputs": [],
   "source": [
    "df_jobs.dtypes"
   ]
  },
  {
   "cell_type": "code",
   "execution_count": null,
   "metadata": {},
   "outputs": [],
   "source": [
    "df_jobs.iloc[0,6].split(' ago',1)[0].split('Posted Date\\nPosted ')[1]"
   ]
  },
  {
   "cell_type": "code",
   "execution_count": null,
   "metadata": {},
   "outputs": [],
   "source": [
    "df_jobs.iloc[0,6]"
   ]
  },
  {
   "cell_type": "code",
   "execution_count": null,
   "metadata": {},
   "outputs": [],
   "source": []
  },
  {
   "cell_type": "markdown",
   "metadata": {},
   "source": [
    "*** \n",
    "# TESTING\n",
    "***"
   ]
  },
  {
   "cell_type": "code",
   "execution_count": null,
   "metadata": {},
   "outputs": [],
   "source": [
    "#tabla_grande = \\\n",
    "#browser.find_element_by_xpath(\"/html/body/div[5]/div[4]/div[3]/section[1]/div[2]/div/div\")\n",
    "\n",
    "#                               html/body/div[5]/div[4]/div[3]/section[1]/div[2]\n",
    "#                               /html/body/div[5]/div[4]/div[3]/section[1]/div[2]/div/div/div[1]"
   ]
  },
  {
   "cell_type": "code",
   "execution_count": null,
   "metadata": {},
   "outputs": [],
   "source": [
    "#Taking table of job posts\n",
    "try:\n",
    "    tabla_izq = \\\n",
    "    browser.find_element_by_xpath(\"/html/body/div[5]/div[4]/div[3]/section[1]/div[2]/div/div/div[1]\")\n",
    "                                  #/html/body/div[6]/div[4]/div[3]/section[1]/div[2]/div/div/div[1]\n",
    "                                  #/html/body/div[6]/div[4]/div[3]/section[1]/div[2]/div/div/div[1]/div[2]\n",
    "                                  #/html/body/div[5]/div[4]/div[3]/section[1]/div[2]/div/div/div[1]/div[2]\n",
    "    #browser.find_element_by_class_name(\"jobs-search-two-pane__results display-flex\")\n",
    "    #                              /html/body/div[5]/div[4]/div[3]/section[1]/div[2]/div/div/div[1]\n",
    "except:\n",
    "    tabla_izq = \\\n",
    "    browser.find_element_by_xpath(\"/html/body/div[6]/div[4]/div[3]/section[1]/div[2]/div/div/div[1]\")\n",
    "    \n",
    "time.sleep(0.5)\n",
    "tabla_izq.text"
   ]
  },
  {
   "cell_type": "code",
   "execution_count": null,
   "metadata": {},
   "outputs": [],
   "source": [
    "tabla_izq.text.split('\\n')"
   ]
  },
  {
   "cell_type": "code",
   "execution_count": null,
   "metadata": {},
   "outputs": [],
   "source": [
    "current_p = int(browser.current_url.split('&start=')[1])//25+1\n",
    "current_p"
   ]
  },
  {
   "cell_type": "code",
   "execution_count": null,
   "metadata": {},
   "outputs": [],
   "source": [
    "#are_you = browser.find_element_by_class_name(\"jobs-search-feedback-card\")\n",
    "#are_you.is_enabled()"
   ]
  },
  {
   "cell_type": "code",
   "execution_count": null,
   "metadata": {},
   "outputs": [],
   "source": [
    "#for last page there is another logic (not 'Close')\n",
    "if current_p < n_pages:\n",
    "    job_list = tabla_izq.text.split('Manage alerts\\n')[1].split('Close\\n')[0].split('ago')\n",
    "else:\n",
    "    job_list = \\\n",
    "    tabla_izq.text.split('Manage alerts\\n')[1].split('Close\\n')[0].split('Create alert for this search\\n')[0].split('ago')\n",
    "\n",
    "n_job_list = len(job_list)-1\n",
    "print(n_job_list) \n",
    "job_list "
   ]
  },
  {
   "cell_type": "code",
   "execution_count": null,
   "metadata": {},
   "outputs": [],
   "source": [
    "# TESTING - clicking one selected job\n",
    "n = n_job_list # max 25\n",
    "\n",
    "# Selecting job post in order\n",
    "try:\n",
    "    job_post = browser.find_element_by_xpath\\\n",
    "    (f'/html/body/div[5]/div[4]/div[3]/section[1]/div[2]/div/div/div[1]/div[2]/div/ul/li[{n}]/div/artdeco-entity-lockup/artdeco-entity-lockup-content/h3/a')\n",
    "except:\n",
    "    job_post = browser.find_element_by_xpath\\\n",
    "    (f'/html/body/div[6]/div[4]/div[3]/section[1]/div[2]/div/div/div[1]/div[2]/div/ul/li[{n}]/div/artdeco-entity-lockup/artdeco-entity-lockup-content/h3/a')\n",
    "#     /html/body/div[5]/div[4]/div[3]/section[1]/div[2]/div/div/div[1]/div[2]/div/ul/li[1]/div/artdeco-entity-lockup/artdeco-entity-lockup-content/h3/a\n",
    "#  (f'/html/body/div[5]/div[4]/div[3]/section[1]/div[2]/div/div/div[1]/div[2]/div/ul/li[{n}]')\n",
    "job_post.click()\n",
    "\n",
    "# Getting job post ID\n",
    "currentJobId = browser.current_url.split('currentJobId=')[1].split('&')[0]\n",
    "#currentJobId = browser.current_url.split('?')[1].split('&')[0].split('=')[1]\n",
    "print(currentJobId)\n",
    "\n",
    "# Extracting job information\n",
    "try:\n",
    "    job_post_right = browser.find_element_by_xpath\\\n",
    "        ('/html/body/div[5]/div[4]/div[3]/section[1]/div[2]/div/div/div[2]')\n",
    "except:\n",
    "    job_post_right = browser.find_element_by_xpath\\\n",
    "        ('/html/body/div[6]/div[4]/div[3]/section[1]/div[2]/div/div/div[2]')\n",
    "job_post_right_content = job_post_right.text.split('\\n',16)\n",
    "print(len(job_post_right_content))\n",
    "print(f'{job_post_right_content}')\n",
    "#print(f'{job_post_right.text.split('\\n',15)}')\n",
    "\n",
    "# 200402 21.00 (Session info: chrome=80.0.3987.162)\n",
    "# 200403 21.00 (Session info: chrome=80.0.3987.162)\n",
    "# 200404 17.00  (Session info: chrome=80.0.3987.162)"
   ]
  },
  {
   "cell_type": "code",
   "execution_count": null,
   "metadata": {},
   "outputs": [],
   "source": [
    "list(range(0,n_pages*25,25))"
   ]
  },
  {
   "cell_type": "code",
   "execution_count": null,
   "metadata": {},
   "outputs": [],
   "source": [
    "browser.get_log"
   ]
  },
  {
   "cell_type": "code",
   "execution_count": null,
   "metadata": {},
   "outputs": [],
   "source": [
    "izq = browser.find_element_by_class_name('jobs-search-results jobs-search-results--is-two-pane')\n",
    "izq.text()"
   ]
  },
  {
   "cell_type": "code",
   "execution_count": null,
   "metadata": {},
   "outputs": [],
   "source": [
    "tabla_izq.text"
   ]
  },
  {
   "cell_type": "code",
   "execution_count": null,
   "metadata": {},
   "outputs": [],
   "source": []
  },
  {
   "cell_type": "code",
   "execution_count": null,
   "metadata": {},
   "outputs": [],
   "source": [
    "import requests\n",
    "from bs4 import BeautifulSoup"
   ]
  },
  {
   "cell_type": "code",
   "execution_count": null,
   "metadata": {},
   "outputs": [],
   "source": [
    "#with requests.Session() as s:\n",
    "\n",
    "with requests.Session() as session:\n",
    "    \n",
    "    response = session.get(LOGIN_URL)\n",
    "    session = session.cookies.get_dict()\n",
    "    bcookie = session.get('bcookie')\n",
    "    print(bcookie)\n",
    "    cookie = bcookie.split('&')[1].split('\"')[0]\n",
    "    print(f'\\n{cookie}')\n",
    "    \n",
    "    LoginCsrfParam   = cookie\n",
    "    Session_key      = \"cristopher.rojas.lepe@gmail.com\" # \"cristopher.rojas.lepe%40gmail.com\"\n",
    "    Session_password = \"M3t4n01@\" # \"M3t4n01%40\"\n",
    "    Session_redirect = \"https%3A%2F%2Fwww.linkedin.com%2Fjobs\" # \"https://www.linkedin.com/jobs\" #\"https%3A%2F%2Fwww.linkedin.com%2Fjobs\"\n",
    "    Trk              = \"guest_homepage-jobseeker_sign-in-submit\"\n",
    "    \n",
    "    payload = {'loginCsrfParam'  : LoginCsrfParam,\n",
    "               'session_key'     : Session_key,\n",
    "               'session_password': Session_password,\n",
    "               'session_redirect': Session_redirect,\n",
    "               'trk'             : Trk\n",
    "              }\n",
    "    print(f'\\n{payload}')\n",
    "    p = requests.post(LOGIN_URL, data = payload)  \n",
    "    #p = session.post(LOGIN_URL, data = payload) \n",
    "    # print the html returned or something more intelligent to see if it's a successful login page.\n",
    "    print(f'\\n{p.content}')\n",
    "    soup = BeautifulSoup(p.content,'html.parser')\n",
    "    print(f'\\n{soup}')\n",
    "\n",
    "    # An authorised request.\n",
    "#     r = s.get('A protected web page url')\n",
    "#     print r.text"
   ]
  }
 ],
 "metadata": {
  "kernelspec": {
   "display_name": "Python [conda env:final_project]",
   "language": "python",
   "name": "conda-env-final_project-py"
  },
  "language_info": {
   "codemirror_mode": {
    "name": "ipython",
    "version": 3
   },
   "file_extension": ".py",
   "mimetype": "text/x-python",
   "name": "python",
   "nbconvert_exporter": "python",
   "pygments_lexer": "ipython3",
   "version": "3.7.7"
  }
 },
 "nbformat": 4,
 "nbformat_minor": 4
}
