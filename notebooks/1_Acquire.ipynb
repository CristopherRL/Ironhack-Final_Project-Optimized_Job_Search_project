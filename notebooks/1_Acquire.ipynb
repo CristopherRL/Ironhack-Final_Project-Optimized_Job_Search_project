{
 "cells": [
  {
   "cell_type": "markdown",
   "metadata": {},
   "source": [
    "# Step 1: ACQUIRE DATA"
   ]
  },
  {
   "cell_type": "markdown",
   "metadata": {},
   "source": [
    "> ## SEARCH"
   ]
  },
  {
   "cell_type": "code",
   "execution_count": 16,
   "metadata": {},
   "outputs": [],
   "source": [
    "#job_title_input = input(\"PLEASE ENTER THE JOB THAT YOU'D LIKE TO SEARCH: \")\n",
    "job_title_input = 'data analyst'"
   ]
  },
  {
   "cell_type": "code",
   "execution_count": 17,
   "metadata": {},
   "outputs": [],
   "source": [
    "#location_input = input(\"PLEASE ENTER THE LOCATION WHERE YOU'D LIKE TO SEARCH: \")\n",
    "location_input = 'Berlin'"
   ]
  },
  {
   "cell_type": "code",
   "execution_count": 18,
   "metadata": {},
   "outputs": [
    {
     "data": {
      "text/plain": [
       "'data%20analyst'"
      ]
     },
     "execution_count": 18,
     "metadata": {},
     "output_type": "execute_result"
    }
   ],
   "source": [
    "job_title = job_title_input.lower().replace(' ', '%20')\n",
    "job_title "
   ]
  },
  {
   "cell_type": "code",
   "execution_count": 19,
   "metadata": {},
   "outputs": [
    {
     "data": {
      "text/plain": [
       "'Berlin'"
      ]
     },
     "execution_count": 19,
     "metadata": {},
     "output_type": "execute_result"
    }
   ],
   "source": [
    "location = location_input.capitalize()\n",
    "location"
   ]
  },
  {
   "cell_type": "code",
   "execution_count": 20,
   "metadata": {},
   "outputs": [],
   "source": [
    "# geoId=\"100994331\""
   ]
  },
  {
   "cell_type": "code",
   "execution_count": null,
   "metadata": {},
   "outputs": [],
   "source": []
  },
  {
   "cell_type": "markdown",
   "metadata": {},
   "source": [
    "> ## API"
   ]
  },
  {
   "cell_type": "code",
   "execution_count": 21,
   "metadata": {},
   "outputs": [],
   "source": [
    "# ??????????????????????"
   ]
  },
  {
   "cell_type": "code",
   "execution_count": null,
   "metadata": {},
   "outputs": [],
   "source": []
  },
  {
   "cell_type": "markdown",
   "metadata": {},
   "source": [
    "> ## WEB SCRAPPING"
   ]
  },
  {
   "cell_type": "markdown",
   "metadata": {},
   "source": [
    "### SELENIUM >"
   ]
  },
  {
   "cell_type": "code",
   "execution_count": 22,
   "metadata": {},
   "outputs": [],
   "source": [
    "from selenium import webdriver\n",
    "import os\n",
    "from dotenv import load_dotenv\n",
    "import time"
   ]
  },
  {
   "cell_type": "code",
   "execution_count": 23,
   "metadata": {},
   "outputs": [],
   "source": [
    "import requests\n",
    "from bs4 import BeautifulSoup"
   ]
  },
  {
   "cell_type": "markdown",
   "metadata": {},
   "source": [
    "#### DRIVER PATH:"
   ]
  },
  {
   "cell_type": "code",
   "execution_count": 24,
   "metadata": {},
   "outputs": [],
   "source": [
    "os.environ['PATH'] = f'{os.environ[\"PATH\"]}:/home/cristopherrl/Documents/program/selenium/drivers/'"
   ]
  },
  {
   "cell_type": "code",
   "execution_count": 25,
   "metadata": {},
   "outputs": [
    {
     "data": {
      "text/plain": [
       "'/home/cristopherrl/miniconda3/envs/final_project/bin:/home/cristopherrl/miniconda3/condabin:/home/cristopherrl/.local/bin:/usr/local/sbin:/usr/local/bin:/usr/sbin:/usr/bin:/sbin:/bin:/usr/games:/usr/local/games:/snap/bin:/home/cristopherrl/Documents/program/selenium/drivers/:/home/cristopherrl/Documents/program/selenium/drivers/'"
      ]
     },
     "execution_count": 25,
     "metadata": {},
     "output_type": "execute_result"
    }
   ],
   "source": [
    "os.environ['PATH']"
   ]
  },
  {
   "cell_type": "code",
   "execution_count": null,
   "metadata": {},
   "outputs": [],
   "source": []
  },
  {
   "cell_type": "markdown",
   "metadata": {},
   "source": [
    "#### .ENV PATH:"
   ]
  },
  {
   "cell_type": "code",
   "execution_count": 26,
   "metadata": {},
   "outputs": [
    {
     "data": {
      "text/plain": [
       "True"
      ]
     },
     "execution_count": 26,
     "metadata": {},
     "output_type": "execute_result"
    }
   ],
   "source": [
    "load_dotenv(dotenv_path='../.env')"
   ]
  },
  {
   "cell_type": "markdown",
   "metadata": {},
   "source": [
    "#### SIGN IN:"
   ]
  },
  {
   "cell_type": "code",
   "execution_count": 27,
   "metadata": {},
   "outputs": [],
   "source": [
    "browser = webdriver.Chrome()\n",
    "URL = 'https://www.linkedin.com/login'\n",
    "browser.get(URL)"
   ]
  },
  {
   "cell_type": "code",
   "execution_count": 28,
   "metadata": {},
   "outputs": [],
   "source": [
    "SECRET_USER = os.getenv(\"SESSION_KEY\")\n",
    "SECRET_PASS = os.getenv(\"SESSION_PASSWORD\")"
   ]
  },
  {
   "cell_type": "code",
   "execution_count": 29,
   "metadata": {},
   "outputs": [],
   "source": [
    "user     = browser.find_element_by_xpath('/html/body/div/main/div/form/div[1]/input')\n",
    "user.send_keys(SECRET_USER)\n",
    "time.sleep(1)"
   ]
  },
  {
   "cell_type": "code",
   "execution_count": 30,
   "metadata": {},
   "outputs": [],
   "source": [
    "password = browser.find_element_by_xpath('/html/body/div/main/div/form/div[2]/input')\n",
    "password.send_keys(SECRET_PASS)\n",
    "time.sleep(1)"
   ]
  },
  {
   "cell_type": "code",
   "execution_count": 31,
   "metadata": {},
   "outputs": [],
   "source": [
    "#sign_in  = browser.find_element_by_xpath('/html/body/div/main/div/form/div[3]/button')\n",
    "sign_in  = browser.find_element_by_class_name('login__form_action_container')\n",
    "sign_in.click()\n",
    "time.sleep(1)"
   ]
  },
  {
   "cell_type": "code",
   "execution_count": null,
   "metadata": {},
   "outputs": [],
   "source": []
  },
  {
   "cell_type": "markdown",
   "metadata": {},
   "source": [
    "#### JOB SEARCH :"
   ]
  },
  {
   "cell_type": "code",
   "execution_count": 32,
   "metadata": {},
   "outputs": [
    {
     "data": {
      "text/plain": [
       "'https://www.linkedin.com/feed/'"
      ]
     },
     "execution_count": 32,
     "metadata": {},
     "output_type": "execute_result"
    }
   ],
   "source": [
    "current_url = browser.current_url\n",
    "current_url"
   ]
  },
  {
   "cell_type": "code",
   "execution_count": 33,
   "metadata": {},
   "outputs": [],
   "source": [
    "JOB_URL = f'https://www.linkedin.com/jobs/search/?keywords={job_title}&location={location}&start=0'\n",
    "browser.get(JOB_URL)"
   ]
  },
  {
   "cell_type": "code",
   "execution_count": 34,
   "metadata": {},
   "outputs": [
    {
     "data": {
      "text/plain": [
       "<bound method WebDriver.get_cookies of <selenium.webdriver.chrome.webdriver.WebDriver (session=\"d9029bfc387b29d617c6c6b006010deb\")>>"
      ]
     },
     "execution_count": 34,
     "metadata": {},
     "output_type": "execute_result"
    }
   ],
   "source": [
    "browser.get_cookies"
   ]
  },
  {
   "cell_type": "code",
   "execution_count": null,
   "metadata": {},
   "outputs": [],
   "source": []
  },
  {
   "cell_type": "markdown",
   "metadata": {},
   "source": [
    "#### GETTING JOB POSTS :"
   ]
  },
  {
   "cell_type": "code",
   "execution_count": 35,
   "metadata": {},
   "outputs": [
    {
     "data": {
      "text/plain": [
       "'https://www.linkedin.com/jobs/search/?keywords=data%20analyst&location=Berlin&start=0'"
      ]
     },
     "execution_count": 35,
     "metadata": {},
     "output_type": "execute_result"
    }
   ],
   "source": [
    "# current url\n",
    "browser.current_url"
   ]
  },
  {
   "cell_type": "code",
   "execution_count": 36,
   "metadata": {},
   "outputs": [
    {
     "name": "stdout",
     "output_type": "stream",
     "text": [
      "<class 'selenium.webdriver.remote.webelement.WebElement'>\n",
      "10\n"
     ]
    }
   ],
   "source": [
    "#number of pages with job posts\n",
    "try:\n",
    "    pages = \\\n",
    "    browser.find_element_by_xpath\\\n",
    "    ('/html/body/div[5]/div[4]/div[3]/section[1]/div[2]/div/div/div[1]/div[2]/div/section/artdeco-pagination/ul')\n",
    "except:\n",
    "    pages = \\\n",
    "    browser.find_element_by_xpath\\\n",
    "    ('/html/body/div[6]/div[4]/div[3]/section[1]/div[2]/div/div/div[1]/div[2]/div/section/artdeco-pagination/ul')\n",
    "\n",
    "print(type(pages))\n",
    "n_pages = int(pages.text.split('\\n')[-1])\n",
    "print(n_pages)"
   ]
  },
  {
   "cell_type": "code",
   "execution_count": 37,
   "metadata": {},
   "outputs": [],
   "source": [
    "#tabla_grande = \\\n",
    "#browser.find_element_by_xpath(\"/html/body/div[5]/div[4]/div[3]/section[1]/div[2]/div/div\")\n",
    "\n",
    "#                               html/body/div[5]/div[4]/div[3]/section[1]/div[2]\n",
    "#                               /html/body/div[5]/div[4]/div[3]/section[1]/div[2]/div/div/div[1]"
   ]
  },
  {
   "cell_type": "code",
   "execution_count": 38,
   "metadata": {},
   "outputs": [],
   "source": [
    "tabla_izq = \\\n",
    "browser.find_element_by_xpath(\"/html/body/div[5]/div[4]/div[3]/section[1]/div[2]/div/div/div[1]\")\n",
    "                              #/html/body/div[5]/div[4]/div[3]/section[1]/div[2]/div/div/div[1]/div[2]\n",
    "#browser.find_element_by_class_name(\"jobs-search-two-pane__results display-flex\")\n",
    "#                              /html/body/div[5]/div[4]/div[3]/section[1]/div[2]/div/div/div[1]\n",
    "time.sleep(0.5)\n"
   ]
  },
  {
   "cell_type": "code",
   "execution_count": 39,
   "metadata": {},
   "outputs": [
    {
     "data": {
      "text/plain": [
       "['Data analyst in Berlin, Berlin, Germany',\n",
       " '231 results',\n",
       " 'Job alert',\n",
       " 'Job Alert Off',\n",
       " 'Manage alerts',\n",
       " 'Data Analyst Rental (w/m/d) Promoted',\n",
       " 'Arjo',\n",
       " 'Kleinmachnow, DE',\n",
       " '6 days ago',\n",
       " '10 applicants',\n",
       " 'Senior Game Data Analyst (m/f/x) Promoted',\n",
       " 'SOFTGAMES - Mobile Entertainment Services GmbH',\n",
       " 'Berlin, Germany',\n",
       " '1 week ago',\n",
       " '20 applicants',\n",
       " '(Senior) Game Data Analyst (f/m/d) Promoted',\n",
       " 'Kolibri Games',\n",
       " 'Berlin, Berlin, Germany',\n",
       " 'Your profile matches this job',\n",
       " '6 days ago',\n",
       " 'Data Analyst (m/f/d)',\n",
       " 'BASF',\n",
       " 'Berlin, DE',\n",
       " '2 hours ago',\n",
       " 'Data Analyst',\n",
       " 'Harnham',\n",
       " 'Berlin, Berlin, Germany',\n",
       " '1 connection works here',\n",
       " '4 days ago',\n",
       " 'Easy Apply',\n",
       " 'Junior Data Analyst (m/w/d)',\n",
       " 'factorymarket',\n",
       " 'Berlin, DE',\n",
       " '18 hours ago',\n",
       " 'Junior Data Analyst (m/w/d)',\n",
       " 'The Retail Factory Pty Ltd',\n",
       " 'Berlin, DE',\n",
       " 'Your profile matches this job',\n",
       " '1 week ago',\n",
       " '19 applicants',\n",
       " '1',\n",
       " '2',\n",
       " '3',\n",
       " '4',\n",
       " '5',\n",
       " '6',\n",
       " '7',\n",
       " '8',\n",
       " '9',\n",
       " '10']"
      ]
     },
     "execution_count": 39,
     "metadata": {},
     "output_type": "execute_result"
    }
   ],
   "source": [
    "tabla_izq.text.split('\\n')"
   ]
  },
  {
   "cell_type": "code",
   "execution_count": 40,
   "metadata": {},
   "outputs": [
    {
     "data": {
      "text/plain": [
       "1"
      ]
     },
     "execution_count": 40,
     "metadata": {},
     "output_type": "execute_result"
    }
   ],
   "source": [
    "current_p = int(browser.current_url.split('&start=')[1])//25+1\n",
    "current_p"
   ]
  },
  {
   "cell_type": "code",
   "execution_count": 41,
   "metadata": {},
   "outputs": [],
   "source": [
    "#are_you = browser.find_element_by_class_name(\"jobs-search-feedback-card\")\n",
    "#are_you.is_enabled()"
   ]
  },
  {
   "cell_type": "code",
   "execution_count": 42,
   "metadata": {},
   "outputs": [
    {
     "name": "stdout",
     "output_type": "stream",
     "text": [
      "7\n"
     ]
    },
    {
     "data": {
      "text/plain": [
       "['Data Analyst Rental (w/m/d) Promoted\\nArjo\\nKleinmachnow, DE\\n6 days ',\n",
       " '\\n10 applicants\\nSenior Game Data Analyst (m/f/x) Promoted\\nSOFTGAMES - Mobile Entertainment Services GmbH\\nBerlin, Germany\\n1 week ',\n",
       " '\\n20 applicants\\n(Senior) Game Data Analyst (f/m/d) Promoted\\nKolibri Games\\nBerlin, Berlin, Germany\\nYour profile matches this job\\n6 days ',\n",
       " '\\nData Analyst (m/f/d)\\nBASF\\nBerlin, DE\\n2 hours ',\n",
       " '\\nData Analyst\\nHarnham\\nBerlin, Berlin, Germany\\n1 connection works here\\n4 days ',\n",
       " '\\nEasy Apply\\nJunior Data Analyst (m/w/d)\\nfactorymarket\\nBerlin, DE\\n18 hours ',\n",
       " '\\nJunior Data Analyst (m/w/d)\\nThe Retail Factory Pty Ltd\\nBerlin, DE\\nYour profile matches this job\\n1 week ',\n",
       " '\\n19 applicants\\n1\\n2\\n3\\n4\\n5\\n6\\n7\\n8\\n9\\n10']"
      ]
     },
     "execution_count": 42,
     "metadata": {},
     "output_type": "execute_result"
    }
   ],
   "source": [
    "#for last page there is another logic (not 'Close')\n",
    "if current_p < n_pages:\n",
    "    job_list = tabla_izq.text.split('Manage alerts\\n')[1].split('Close\\n')[0].split('ago')\n",
    "else:\n",
    "    job_list = \\\n",
    "    tabla_izq.text.split('Manage alerts\\n')[1].split('Close\\n')[0].split('Create alert for this search\\n')[0].split('ago')\n",
    "\n",
    "n_job_list = len(job_list)-1\n",
    "print(n_job_list) \n",
    "job_list "
   ]
  },
  {
   "cell_type": "code",
   "execution_count": 45,
   "metadata": {},
   "outputs": [
    {
     "name": "stdout",
     "output_type": "stream",
     "text": [
      "1779370384\n",
      "16\n",
      "['Data Analyst Rental (w/m/d)', 'Company Name', 'Arjo', 'Company Location', 'Kleinmachnow, DE', 'Posted Date', 'Posted 6 days ago', 'Number of views', '170 views', 'Share', 'Show more options', 'Save', 'Save Data Analyst Rental (w/m/d) at Arjo', 'Apply', 'See how you compare to 10 applicants. Reactivate Premium', 'Job\\n10 applicants\\nEntry level\\nCompany\\n5,001-10,000 employees\\nMalmö, Skane\\nConnections\\nYou have 0 connections at this company.\\nAdd >\\n\\nWith people in mind\\n\\nArjo ist ein global tätiges Unternehmen mit schwedischen Wurzeln, bei dem ein erfolgreiches Umfeld durch schwedische Kultur und Management geprägt ist.\\n\\nAls Unternehmen, welches Menschen in den Mittelpunkt allen Handelns stellt, sind alle unsere Mitarbeiter Partner bei unserer Mission, Leben zu verbessern.\\n\\nEntdecken Sie herausfordernde und erfüllende Aufgaben in einer Vielzahl von Bereichen innerhalb unseres globalen Netzwerks.\\n\\nZur Verstärkung unseres Rental Service Teams suchen wir ab soforteinen Data Analyst Rental (w/m/d).\\n\\nWas Sie erwartet:\\n\\nAls Data Analyst Rental (w/m/d)werden Sie zur wertvollen Unterstützung für unser Rental Service Team Deutschland.\\n\\nPlanung, Vorbereitung und Durchführung von Reports und Auswertungen\\nAd-hoc-Analysen und Aufbereitung von Kennzahlen\\nEntwicklung und Bereitstellung von Dashboards und Reports\\nBudgetüberwachung\\nErstellen der Rental Managementberichtserstattung\\nErfolgsanalyse der Mietprodukte sowie die Maßnahmenbewertung entsprechend der KPI-Ziele\\nUnterstützung bei der Budget- und Forecastplanung\\nUnterstützung bei Inventuren der Mietsysteme\\nMitarbeit bei Sonderaufgaben (Bestandsanalysen, Ad-hoc Aufgaben)\\n\\nDas zeichnet Sie aus:\\n\\nabgeschlossenes betriebswirtschaftliches Studium idealerweise mit Schwerpunkt Supply Chain, Controlling oder vergleichbare Ausbildung\\nErste Berufserfahrung (mind. 2 Jahre) in vergleichbarer Position\\nExzellente Kenntnisse in Excel und gute Kenntnisse in den gängigen MS-Office Programmen\\nSehr gute analytische und konzeptionelle Fähigkeiten\\nSelbständiger und verantwortungsbewusster Arbeitsstil\\nKommunikations- und Teamfähigkeit sowie Durchsetzungsvermögen\\n\\nWas wir ihnen bieten:\\n\\nEine interessante und abwechslungsbereiche Tätigkeit sowie ein dynamisches, offenes Arbeitsklima\\nEine umfassende Einarbeitung in Ihren Aufgabenbereich und unserer Produkte\\nEine leistungsgerechte Vergütung, Weiterbildungsmöglichkeiten sowie modernste Arbeitsmittel\\n\\nAlles was wir tun – wir tun es „with people in mind“.\\n\\nUnsere Motivation liegt in den Bedürfnissen und den Herausforderungen, denen unsere Kunden gegenüberstehen.\\n\\nUnsere Antriebskraft sind unsere Mitarbeiter, die nach den bestmöglichen Lösungen für unsere Kunden suchen.\\n\\nAuf diejenigen die mit Leidenschaft die Ergebnisse anderer verbessern möchten wartet eine erfüllende Karriere bei Arjo.\\n\\nWir freuen uns auf Ihre Bewerbung!\\nSeniority Level\\nEntry level\\nIndustry\\nMedical Device Hospital & Health Care Business Supplies & Equipment\\nEmployment Type\\nFull-time\\nJob Functions\\nDistribution Supply Chain Customer Service']\n"
     ]
    }
   ],
   "source": [
    "# TESTING - clicking one selected job\n",
    "n = 1 # max 25\n",
    "\n",
    "job_post = \\\n",
    "browser.find_element_by_xpath\\\n",
    " (f'/html/body/div[5]/div[4]/div[3]/section[1]/div[2]/div/div/div[1]/div[2]/div/ul/li[{n}]/div/artdeco-entity-lockup/artdeco-entity-lockup-content/h3/a')\n",
    "#    /html/body/div[5]/div[4]/div[3]/section[1]/div[2]/div/div/div[1]/div[2]/div/ul/li[1]/div/artdeco-entity-lockup/artdeco-entity-lockup-content/h3/a\n",
    "#(f'/html/body/div[5]/div[4]/div[3]/section[1]/div[2]/div/div/div[1]/div[2]/div/ul/li[{n}]')\n",
    "job_post.click()\n",
    "\n",
    "#currentJobId = browser.current_url.split('currentJobId=')[1].split('&')[0]\n",
    "currentJobId = browser.current_url.split('?')[1].split('&')[0].split('=')[1]\n",
    "print(currentJobId)\n",
    "\n",
    "job_post_right = \\\n",
    "browser.find_element_by_xpath\\\n",
    "('/html/body/div[5]/div[4]/div[3]/section[1]/div[2]/div/div/div[2]')\n",
    "job_post_right_content = job_post_right.text.split('\\n',15)\n",
    "\n",
    "print(len(job_post_right_content))\n",
    "print(job_post_right_content)\n",
    "#print(f'{job_post_right.text.split('\\n',15)}')\n",
    "\n",
    "# 200402 21.00 (Session info: chrome=80.0.3987.162)\n",
    "# 200403 21.00 (Session info: chrome=80.0.3987.162)"
   ]
  },
  {
   "cell_type": "code",
   "execution_count": null,
   "metadata": {},
   "outputs": [],
   "source": [
    "list(range(0,n_pages*25,25))"
   ]
  },
  {
   "cell_type": "code",
   "execution_count": null,
   "metadata": {},
   "outputs": [],
   "source": [
    "browser.get_log"
   ]
  },
  {
   "cell_type": "code",
   "execution_count": null,
   "metadata": {},
   "outputs": [],
   "source": [
    "izq = browser.find_element_by_class_name('jobs-search-results jobs-search-results--is-two-pane')\n",
    "izq.text()"
   ]
  },
  {
   "cell_type": "code",
   "execution_count": null,
   "metadata": {},
   "outputs": [],
   "source": [
    "# Extracting info\n",
    "\n",
    "#for p in range(0,n_pages*25,25):\n",
    "for p in range(0,1):\n",
    "\n",
    "    JOB_URL = \\\n",
    "       f'https://www.linkedin.com/jobs/search/?keywords={job_title}&location={location}&start={p}'\n",
    "    browser.get(JOB_URL)\n",
    "    \n",
    "    for i in range(1,26):\n",
    "    #for i in range(1,2):\n",
    "        job_post = \\\n",
    "        browser.find_element_by_xpath\\\n",
    "         (f'/html/body/div[5]/div[4]/div[3]/section[1]/div[2]/div/div/div[1]/div[2]/div/ul/li[{i}]/div/artdeco-entity-lockup/artdeco-entity-lockup-content/h3')\n",
    "        # //*[@id=\"ember334\"]\n",
    "        #(f'/html/body/div[5]/div[4]/div[3]/section[1]/div[2]/div/div/div[1]/div[2]/div/ul/li[{i}]')\n",
    "        print(job_post.text)\n",
    "        job_post.click()\n",
    "        time.sleep(0.1)\n",
    "        \n",
    "        print(browser.current_url)      \n",
    "        currentJobId = browser.current_url.split('currentJobId=')[1].split('&')[0]\n",
    "        print(f'{currentJobId}')\n",
    "\n",
    "        job_post_right = \\\n",
    "        browser.find_element_by_xpath\\\n",
    "        ('/html/body/div[5]/div[4]/div[3]/section[1]/div[2]/div/div/div[2]')\n",
    "        print(f'{job_post_right.text}\\n')\n",
    "\n",
    "        # if you wanna watch the job page\n",
    "        # html = f'https://www.linkedin.com/jobs/view/{currentJobId}/' # > hit's possible to use REQUESTS"
   ]
  },
  {
   "cell_type": "code",
   "execution_count": null,
   "metadata": {},
   "outputs": [],
   "source": []
  },
  {
   "cell_type": "code",
   "execution_count": null,
   "metadata": {},
   "outputs": [],
   "source": []
  },
  {
   "cell_type": "markdown",
   "metadata": {},
   "source": [
    "***"
   ]
  },
  {
   "cell_type": "code",
   "execution_count": null,
   "metadata": {},
   "outputs": [],
   "source": [
    "import requests\n",
    "from bs4 import BeautifulSoup"
   ]
  },
  {
   "cell_type": "code",
   "execution_count": null,
   "metadata": {},
   "outputs": [],
   "source": [
    "#with requests.Session() as s:\n",
    "\n",
    "with requests.Session() as session:\n",
    "    \n",
    "    response = session.get(LOGIN_URL)\n",
    "    session = session.cookies.get_dict()\n",
    "    bcookie = session.get('bcookie')\n",
    "    print(bcookie)\n",
    "    cookie = bcookie.split('&')[1].split('\"')[0]\n",
    "    print(f'\\n{cookie}')\n",
    "    \n",
    "    LoginCsrfParam   = cookie\n",
    "    Session_key      = \"cristopher.rojas.lepe@gmail.com\" # \"cristopher.rojas.lepe%40gmail.com\"\n",
    "    Session_password = \"M3t4n01@\" # \"M3t4n01%40\"\n",
    "    Session_redirect = \"https%3A%2F%2Fwww.linkedin.com%2Fjobs\" # \"https://www.linkedin.com/jobs\" #\"https%3A%2F%2Fwww.linkedin.com%2Fjobs\"\n",
    "    Trk              = \"guest_homepage-jobseeker_sign-in-submit\"\n",
    "    \n",
    "    payload = {'loginCsrfParam'  : LoginCsrfParam,\n",
    "               'session_key'     : Session_key,\n",
    "               'session_password': Session_password,\n",
    "               'session_redirect': Session_redirect,\n",
    "               'trk'             : Trk\n",
    "              }\n",
    "    print(f'\\n{payload}')\n",
    "    p = requests.post(LOGIN_URL, data = payload)  \n",
    "    #p = session.post(LOGIN_URL, data = payload) \n",
    "    # print the html returned or something more intelligent to see if it's a successful login page.\n",
    "    print(f'\\n{p.content}')\n",
    "    soup = BeautifulSoup(p.content,'html.parser')\n",
    "    print(f'\\n{soup}')\n",
    "\n",
    "    # An authorised request.\n",
    "#     r = s.get('A protected web page url')\n",
    "#     print r.text"
   ]
  }
 ],
 "metadata": {
  "kernelspec": {
   "display_name": "Python [conda env:final_project]",
   "language": "python",
   "name": "conda-env-final_project-py"
  },
  "language_info": {
   "codemirror_mode": {
    "name": "ipython",
    "version": 3
   },
   "file_extension": ".py",
   "mimetype": "text/x-python",
   "name": "python",
   "nbconvert_exporter": "python",
   "pygments_lexer": "ipython3",
   "version": "3.7.6"
  }
 },
 "nbformat": 4,
 "nbformat_minor": 4
}
