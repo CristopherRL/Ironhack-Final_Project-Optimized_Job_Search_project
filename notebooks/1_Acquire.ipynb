{
 "cells": [
  {
   "cell_type": "markdown",
   "metadata": {},
   "source": [
    "# Step 1: ACQUIRE DATA"
   ]
  },
  {
   "cell_type": "code",
   "execution_count": 1,
   "metadata": {},
   "outputs": [],
   "source": [
    "from selenium import webdriver\n",
    "from selenium.webdriver.common.action_chains import ActionChains\n",
    "from selenium.webdriver.common.keys import Keys\n",
    "from selenium.common.exceptions import ElementClickInterceptedException\n",
    "import os\n",
    "from dotenv import load_dotenv\n",
    "import time\n",
    "import re\n",
    "import pandas as pd\n",
    "from datetime import datetime, timedelta"
   ]
  },
  {
   "cell_type": "markdown",
   "metadata": {},
   "source": [
    "> ## SEARCH"
   ]
  },
  {
   "cell_type": "code",
   "execution_count": 75,
   "metadata": {},
   "outputs": [],
   "source": [
    "#job_title_input = input(\"PLEASE ENTER THE JOB THAT YOU'D LIKE TO SEARCH: \")\n",
    "job_title_input = 'data scientist'"
   ]
  },
  {
   "cell_type": "code",
   "execution_count": 76,
   "metadata": {},
   "outputs": [
    {
     "data": {
      "text/plain": [
       "'data%20scientist'"
      ]
     },
     "execution_count": 76,
     "metadata": {},
     "output_type": "execute_result"
    }
   ],
   "source": [
    "job_title_df = job_title_input.lower()\n",
    "job_title_s  = job_title_input.lower().replace(' ', '%20')\n",
    "job_title_s "
   ]
  },
  {
   "cell_type": "code",
   "execution_count": 4,
   "metadata": {},
   "outputs": [],
   "source": [
    "# geoId=\"100994331\""
   ]
  },
  {
   "cell_type": "code",
   "execution_count": null,
   "metadata": {},
   "outputs": [],
   "source": []
  },
  {
   "cell_type": "markdown",
   "metadata": {},
   "source": [
    "> ## WEB SCRAPPING"
   ]
  },
  {
   "cell_type": "markdown",
   "metadata": {},
   "source": [
    "### SELENIUM >"
   ]
  },
  {
   "cell_type": "code",
   "execution_count": 5,
   "metadata": {},
   "outputs": [],
   "source": [
    "#import requests\n",
    "#from bs4 import BeautifulSoup"
   ]
  },
  {
   "cell_type": "markdown",
   "metadata": {},
   "source": [
    "#### DRIVER PATH:"
   ]
  },
  {
   "cell_type": "code",
   "execution_count": 6,
   "metadata": {},
   "outputs": [],
   "source": [
    "#LINUX\n",
    "#os.environ['PATH'] = f'{os.environ[\"PATH\"]}:/home/cristopherrl/Documents/program/selenium/drivers/'\n",
    "#WINDOWS\n",
    "os.environ['PATH'] = f'{os.environ[\"PATH\"]};C:\\\\Users\\\\x385645\\\\Documents\\\\Selenium'"
   ]
  },
  {
   "cell_type": "code",
   "execution_count": 7,
   "metadata": {},
   "outputs": [
    {
     "data": {
      "text/plain": [
       "'C:\\\\Users\\\\x385645\\\\AppData\\\\Local\\\\Continuum\\\\anaconda3\\\\envs\\\\final_project;C:\\\\Users\\\\x385645\\\\AppData\\\\Local\\\\Continuum\\\\anaconda3\\\\envs\\\\final_project\\\\Library\\\\mingw-w64\\\\bin;C:\\\\Users\\\\x385645\\\\AppData\\\\Local\\\\Continuum\\\\anaconda3\\\\envs\\\\final_project\\\\Library\\\\usr\\\\bin;C:\\\\Users\\\\x385645\\\\AppData\\\\Local\\\\Continuum\\\\anaconda3\\\\envs\\\\final_project\\\\Library\\\\bin;C:\\\\Users\\\\x385645\\\\AppData\\\\Local\\\\Continuum\\\\anaconda3\\\\envs\\\\final_project\\\\Scripts;C:\\\\Users\\\\x385645\\\\AppData\\\\Local\\\\Continuum\\\\anaconda3\\\\envs\\\\final_project\\\\bin;C:\\\\Users\\\\x385645\\\\AppData\\\\Local\\\\Continuum\\\\anaconda3\\\\condabin;C:\\\\ARQDISP;C:\\\\PROGRA~1\\\\7-ZIP;C:\\\\PROGRAM FILES (X86)\\\\IBM\\\\TRACE FACILITY;C:\\\\PROGRAM FILES (X86)\\\\IBM\\\\PERSONAL COMMUNICATIONS;C:\\\\PROGRAM FILES (X86)\\\\JAVA\\\\JRE1.8.0_91\\\\BIN\\\\CLIENT;C:\\\\PROGRAMDATA\\\\ORACLE\\\\JAVA\\\\JAVAPATH;C:\\\\WINDOWS\\\\SYSTEM32;C:\\\\WINDOWS;C:\\\\WINDOWS\\\\SYSTEM32\\\\WBEM;C:\\\\WINDOWS\\\\SYSTEM32\\\\WINDOWSPOWERSHELL\\\\V1.0;.;C:\\\\WINDOWS\\\\system32;C:\\\\WINDOWS;C:\\\\WINDOWS\\\\System32\\\\Wbem;C:\\\\WINDOWS\\\\System32\\\\WindowsPowerShell\\\\v1.0;C:\\\\WINDOWS\\\\System32\\\\OpenSSH;C:\\\\Users\\\\x385645\\\\AppData\\\\Local\\\\Microsoft\\\\WindowsApps;C:\\\\Users\\\\x385645\\\\AppData\\\\Local\\\\Programs\\\\Azure Data Studio\\\\bin;C:\\\\Users\\\\x385645\\\\AppData\\\\Local\\\\Programs\\\\Git\\\\cmd;C:\\\\Users\\\\x385645\\\\Documents\\\\Selenium'"
      ]
     },
     "execution_count": 7,
     "metadata": {},
     "output_type": "execute_result"
    }
   ],
   "source": [
    "os.environ['PATH']"
   ]
  },
  {
   "cell_type": "code",
   "execution_count": null,
   "metadata": {},
   "outputs": [],
   "source": []
  },
  {
   "cell_type": "markdown",
   "metadata": {},
   "source": [
    "#### .ENV PATH:"
   ]
  },
  {
   "cell_type": "code",
   "execution_count": 8,
   "metadata": {},
   "outputs": [
    {
     "data": {
      "text/plain": [
       "True"
      ]
     },
     "execution_count": 8,
     "metadata": {},
     "output_type": "execute_result"
    }
   ],
   "source": [
    "load_dotenv(dotenv_path='../.env')"
   ]
  },
  {
   "cell_type": "markdown",
   "metadata": {},
   "source": [
    "#### SIGN IN:"
   ]
  },
  {
   "cell_type": "code",
   "execution_count": 9,
   "metadata": {},
   "outputs": [],
   "source": [
    "browser = webdriver.Chrome()\n",
    "URL = 'https://www.linkedin.com/login'\n",
    "browser.get(URL)"
   ]
  },
  {
   "cell_type": "code",
   "execution_count": 10,
   "metadata": {},
   "outputs": [],
   "source": [
    "SECRET_USER = os.getenv(\"SESSION_KEY\")\n",
    "SECRET_PASS = os.getenv(\"SESSION_PASSWORD\")"
   ]
  },
  {
   "cell_type": "code",
   "execution_count": 11,
   "metadata": {},
   "outputs": [],
   "source": [
    "# user box\n",
    "user     = browser.find_element_by_xpath('/html/body/div/main/div/form/div[1]/input')\n",
    "user.send_keys(SECRET_USER)\n",
    "time.sleep(1)"
   ]
  },
  {
   "cell_type": "code",
   "execution_count": 12,
   "metadata": {},
   "outputs": [],
   "source": [
    "# password box\n",
    "password = browser.find_element_by_xpath('/html/body/div/main/div/form/div[2]/input')\n",
    "password.send_keys(SECRET_PASS)\n",
    "time.sleep(1)"
   ]
  },
  {
   "cell_type": "code",
   "execution_count": 13,
   "metadata": {},
   "outputs": [],
   "source": [
    "#sign_in  = browser.find_element_by_xpath('/html/body/div/main/div/form/div[3]/button')\n",
    "# sign in button\n",
    "sign_in  = browser.find_element_by_class_name('login__form_action_container')\n",
    "sign_in.click()\n",
    "time.sleep(1)"
   ]
  },
  {
   "cell_type": "code",
   "execution_count": 16,
   "metadata": {},
   "outputs": [],
   "source": [
    "browser.maximize_window()"
   ]
  },
  {
   "cell_type": "code",
   "execution_count": null,
   "metadata": {},
   "outputs": [],
   "source": []
  },
  {
   "cell_type": "markdown",
   "metadata": {},
   "source": [
    "***\n",
    "***\n",
    "#### LINKEDIN PROFILE :"
   ]
  },
  {
   "cell_type": "code",
   "execution_count": 78,
   "metadata": {},
   "outputs": [],
   "source": [
    "# Click on profile button (up-rigth)\n",
    "profile = browser.find_element_by_id('profile-nav-item')\n",
    "#profile = browser.find_element_by_xpath('/html/body/header/div/nav/ul/li[6]/div/artdeco-dropdown/artdeco-dropdown-trigger/div')\n",
    "profile.click() "
   ]
  },
  {
   "cell_type": "code",
   "execution_count": 79,
   "metadata": {},
   "outputs": [],
   "source": [
    "# Click on View profile button\n",
    "#link_profile = browser.find_element_by_xpath('/html/body/header/div/nav/ul/li[6]/div/artdeco-dropdown/artdeco-dropdown-content/div/ul/li[1]/a/div[2]/span')\n",
    "link_profile = browser.find_element_by_xpath(\"//span[@class='artdeco-button artdeco-button--tertiary artdeco-button--fluid']\")\n",
    "link_profile.click()"
   ]
  },
  {
   "cell_type": "markdown",
   "metadata": {},
   "source": [
    "#### Profile page >"
   ]
  },
  {
   "cell_type": "code",
   "execution_count": 80,
   "metadata": {},
   "outputs": [
    {
     "data": {
      "text/plain": [
       "'https://www.linkedin.com/feed/'"
      ]
     },
     "execution_count": 80,
     "metadata": {},
     "output_type": "execute_result"
    }
   ],
   "source": [
    "browser.current_url"
   ]
  },
  {
   "cell_type": "code",
   "execution_count": 81,
   "metadata": {},
   "outputs": [
    {
     "data": {
      "text/plain": [
       "''"
      ]
     },
     "execution_count": 81,
     "metadata": {},
     "output_type": "execute_result"
    }
   ],
   "source": [
    "linkedin_profile = browser.current_url.split('/')[4]\n",
    "linkedin_profile"
   ]
  },
  {
   "cell_type": "markdown",
   "metadata": {},
   "source": [
    "#### Headline:"
   ]
  },
  {
   "cell_type": "code",
   "execution_count": 82,
   "metadata": {},
   "outputs": [],
   "source": [
    "html_body = browser.find_element_by_xpath ('/html/body')\n",
    "html_body.send_keys(Keys.PAGE_DOWN)\n",
    "time.sleep(0.5)"
   ]
  },
  {
   "cell_type": "code",
   "execution_count": 83,
   "metadata": {},
   "outputs": [
    {
     "data": {
      "text/plain": [
       "'Data Scientist & Analyst | Python ( Pandas , NumPy , SciPy , Matplolib ) | ML | Tableau | SQL | Git'"
      ]
     },
     "execution_count": 83,
     "metadata": {},
     "output_type": "execute_result"
    }
   ],
   "source": [
    "# Getting HEADLINE table\n",
    "profile_headline = browser.find_element_by_xpath(\"//h2[@class='mt1 t-18 t-black t-normal']\")\n",
    "profile_headline.text"
   ]
  },
  {
   "cell_type": "code",
   "execution_count": 84,
   "metadata": {},
   "outputs": [],
   "source": [
    "#try:\n",
    "#if browser.find_element_by_xpath\\\n",
    "#    ('/html/body/div[6]/div[4]/div[3]/div/div/div/div/div[2]/main/div[1]/section/div[2]/div[2]/div[1]/h2'):\n",
    "#    profile_headline = browser.find_element_by_xpath\\\n",
    "#    ('/html/body/div[6]/div[4]/div[3]/div/div/div/div/div[2]/main/div[1]/section/div[2]/div[2]/div[1]/h2')\n",
    "#    # /html/body/div[6]/div[4]/div[3]/div/div/div/div/div[2]/main/div[1]/section/div[2]/div[2]/div[1]/h2\n",
    "#    print('opcion 1')#\n",
    "#\n",
    "#elif   browser.find_element_by_xpath\\\n",
    "#    ('/html/body/div[5]/div[3]/div[3]/div/div/div/div/div[2]/main/div[1]/section/div[2]/div[2]/div[1]/h2'):\n",
    "#    profile_headline = browser.find_element_by_xpath\\\n",
    "#    ('/html/body/div[5]/div[3]/div[3]/div/div/div/div/div[2]/main/div[1]/section/div[2]/div[2]/div[1]/h2')\n",
    "#    print('opcion 2')#\n",
    "#\n",
    "##except:\n",
    "#elif browser.find_element_by_xpath\\\n",
    "#    ('/html/body/div[5]/div[4]/div[3]/div/div/div/div/div[2]/main/div[1]/section/div[2]/div[2]/div[1]/h2'):\n",
    "#    profile_headline = browser.find_element_by_xpath\\\n",
    "#    ('/html/body/div[5]/div[4]/div[3]/div/div/div/div/div[2]/main/div[1]/section/div[2]/div[2]/div[1]/h2')\n",
    "#    print('opcion 3')\n",
    "#    \n",
    "#profile_headline.text"
   ]
  },
  {
   "cell_type": "code",
   "execution_count": 85,
   "metadata": {},
   "outputs": [
    {
     "name": "stdout",
     "output_type": "stream",
     "text": [
      "Open to job opportunities\n",
      "Data Analyst, Data Scientist and Business Analyst roles\n",
      "See all details\n",
      "Only recruiters\n"
     ]
    },
    {
     "data": {
      "text/plain": [
       "True"
      ]
     },
     "execution_count": 85,
     "metadata": {},
     "output_type": "execute_result"
    }
   ],
   "source": [
    "profile_open = browser.find_element_by_xpath(\"//artdeco-carousel-content[@class='artdeco-carousel__content']\")\n",
    "print(profile_open.text)\n",
    "\n",
    "if profile_open.text.split(\" \")[0] == 'Open':\n",
    "    profile_open_status = True\n",
    "else:\n",
    "    profile_open_status = True\n",
    "profile_open_status"
   ]
  },
  {
   "cell_type": "markdown",
   "metadata": {},
   "source": [
    "#### About:"
   ]
  },
  {
   "cell_type": "code",
   "execution_count": 86,
   "metadata": {},
   "outputs": [],
   "source": [
    "# show MORE > button \"see more \"\n",
    "profile_show_about = browser.find_element_by_xpath(\"//span[@class='lt-line-clamp__line lt-line-clamp__line--last']\")\n",
    "ActionChains(browser).move_to_element(profile_show_about).perform()\n",
    "profile_show_about.click()"
   ]
  },
  {
   "cell_type": "code",
   "execution_count": 87,
   "metadata": {},
   "outputs": [
    {
     "data": {
      "text/plain": [
       "'Data Scientist & Analyst and Industrial Engineer, 7 years of experience in Data Analysis, Project Management, Process Management and Business Intelligence.\\n\\nGreat motivation and knowledge in Data Science and Innovation. High analytic, problem solving skill and focused on achievements.\\n\\nGood learning capacity with high disposition to teach and concerned about good labour relations.\\n\\nI am interested in taking part of teams who want to take on new challenges.'"
      ]
     },
     "execution_count": 87,
     "metadata": {},
     "output_type": "execute_result"
    }
   ],
   "source": [
    "# Getting HEADLINE table\n",
    "profile_about = browser.find_element_by_xpath(\"//p[@class='pv-about__summary-text mt4 t-14 ember-view']\")\n",
    "profile_about.text"
   ]
  },
  {
   "cell_type": "markdown",
   "metadata": {},
   "source": [
    "#### Job experience:"
   ]
  },
  {
   "cell_type": "code",
   "execution_count": 88,
   "metadata": {},
   "outputs": [],
   "source": [
    "html_body.send_keys(Keys.PAGE_DOWN * 5)\n",
    "time.sleep(0.2)\n",
    "html_body.send_keys(Keys.PAGE_DOWN * 5)\n",
    "time.sleep(0.2)"
   ]
  },
  {
   "cell_type": "code",
   "execution_count": 89,
   "metadata": {},
   "outputs": [],
   "source": [
    "# id='profile-content' >>   /html/body/div[5]/div[4]/div[3]\n",
    "# class='profile-detail' >> /html/body/div[5]/div[4]/div[3]/div/div/div/div/div[2]/main/div[7]\n",
    "#/html/body/div[5]/div[4]/div[3]/div/div/div/div/div[2]/main/div[7]/div[2]/span/div/section/div[1]"
   ]
  },
  {
   "cell_type": "code",
   "execution_count": 90,
   "metadata": {},
   "outputs": [],
   "source": [
    "# show more experiences\n",
    "#try:    \n",
    "#if   browser.find_element_by_xpath('/html/body/div[5]/div[4]/div[3]/div/div/div/div/div[2]/main/div[7]/div[2]/span/div/section/div[1]/section/div/button'):\n",
    "#                                   #/html/body/div[5]/div[4]/div[3]/div/div/div/div/div[2]/main/div[7]/div[2]/span/div/section/div[1]/section/div/button\n",
    "#    profile_show_experience = browser.find_element_by_xpath('/html/body/div[5]/div[4]/div[3]/div/div/div/div/div[2]/main/div[7]/div[2]/span/div/section/div[1]/section/div/button')\n",
    "#    print(1)\n",
    "##except:\n",
    "#elif browser.find_element_by_xpath('/html/body/div[5]/div[3]/div[3]/div/div/div/div/div[2]/main/div[7]/div[2]/span/div/section/div[1]/section/div/button'):\n",
    "#    profile_show_experience = browser.find_element_by_xpath ('/html/body/div[5]/div[3]/div[3]/div/div/div/div/div[2]/main/div[7]/div[2]/span/div/section/div[1]/section/div/button')\n",
    "#    print(2)\n",
    "#    #actions = ActionChains(browser)\n",
    "#    #actions.move_to_element(profile_show_experience).perform()##\n",
    "#\n",
    "##except:\n",
    "#    #actions = ActionChains(browser)\n",
    "#    #actions.move_to_element(profile_show_experience).perform()\n",
    "#time.sleep(1)  "
   ]
  },
  {
   "cell_type": "code",
   "execution_count": 91,
   "metadata": {},
   "outputs": [],
   "source": [
    "# show MORE experiences > button \"show more experience\"\n",
    "profile_show_experience = browser.find_element_by_xpath\\\n",
    "(\"//button[@class='pv-profile-section__see-more-inline pv-profile-section__text-truncate-toggle link link-without-hover-state']\")\n",
    "ActionChains(browser).move_to_element(profile_show_experience).perform()\n",
    "profile_show_experience.click()\n",
    "html_body.send_keys(Keys.PAGE_UP)"
   ]
  },
  {
   "cell_type": "code",
   "execution_count": 92,
   "metadata": {},
   "outputs": [],
   "source": [
    "#try:\n",
    "#  # Tries to click an element\n",
    "#  profile_show_experience.click()\n",
    "#except ElementClickInterceptedException:\n",
    "#  # Use Javascript to scroll down to bottom of page\n",
    "#  browser.execute_script(\"window.scrollTo(0, document.body.scrollHeight);\")"
   ]
  },
  {
   "cell_type": "code",
   "execution_count": 93,
   "metadata": {},
   "outputs": [],
   "source": [
    "# experiences > text\n",
    "#if browser.find_element_by_xpath('/html/body/div[5]/div[4]/div[3]/div/div/div/div/div[2]/main/div[7]/div[2]/span/div/section/div[1]'):\n",
    "#    profile_experience = browser.find_element_by_xpath\\\n",
    "#    ('/html/body/div[5]/div[4]/div[3]/div/div/div/div/div[2]/main/div[7]/div[2]/span/div/section/div[1]')##\n",
    "#\n",
    "#elif browser.find_element_by_xpath(  '/html/body/div[5]/div[3]/div[3]/div/div/div/div/div[2]/main/div[7]/div[2]/span/div/section/div[1]'):\n",
    "#    profile_experience = browser.find_element_by_xpath\\\n",
    "#    ('/html/body/div[5]/div[3]/div[3]/div/div/div/div/div[2]/main/div[7]/div[2]/span/div/section/div[1]')\n",
    "#    \n",
    "#profile_experience.text "
   ]
  },
  {
   "cell_type": "code",
   "execution_count": 94,
   "metadata": {},
   "outputs": [
    {
     "data": {
      "text/plain": [
       "'Experience\\nCollection Coordination Analyst\\nCompany Name\\nGrupo CIL Marketing Directo Full-time\\nDates Employed\\nMar 2019 – Present\\nEmployment Duration\\n1 yr 2 mos\\nLocation\\nMadrid Area, Spain\\nAnalyze the customer payment behavior to create and manage the development of new processes and projects.\\n\\nResponsible for the coordination of the collection processes in Spain, France and Portugal, ensuring the proper functioning in all countries.\\nReal Estate Agent\\nCompany Name\\nRedpiso Grupo Inmobiliario y Financiero\\nDates Employed\\nApr 2018 – Mar 2019\\nEmployment Duration\\n1 yr\\nLocation\\nMadrid Area, Spain\\nManage a portfolio of properties, negotiating to catch new products and offering them to others clients.\\n\\nBringing assistance to sellers and buyers to close transactions from the beginning to the end of the process.\\n…\\nsee more\\nPricing Analyst\\nCompany Name\\nClaro Chile S.A.\\nDates Employed\\nFeb 2015 – Feb 2017\\nEmployment Duration\\n2 yrs 1 mo\\nLocation\\nSantiago, Chile\\nDefine and upgrade the cost and pricing model of different TELECOM and IT products of the Enterprises Market area, also helping to product areas on launching of new products, supporting to sellers in sales processes, and advising to engineers checking the design of standard projects.\\n\\nDesign special offers to promote the sales of specific products, checking in parallel the prices of the products in the market.\\n\\n• Implementation of new evaluation tools for sales team, optimizing response time to clients from 2 weeks to 1 day.\\n• Development of new standard offer of products based on demand from different customer segments.\\n…\\nsee more\\nFinancial Analyst\\nCompany Name\\nSupermercados Tottus.\\nDates Employed\\nFeb 2014 – Sep 2014\\nEmployment Duration\\n8 mos\\nLocation\\nSantiago, Chile\\nGenerate commercial relationship with different entities involved, attending to their needs, evaluating indicators for cost optimization and detecting deviations.\\n\\nElaborate financial reports for Tottus’ Management and Directory.\\n\\n• Improvement and optimization in Financial Reporting, reducing reporting time process in 20%.\\n…\\nsee more\\nContinuous Improvement Engineer\\nCompany Name\\nFinning South America\\nDates Employed\\nJul 2013 – Jan 2014\\nEmployment Duration\\n7 mos\\nLocation\\nSantiago, Chile\\nModel and redesign the processes that formed the different Finning businesses, in order to achieve connected and efficient process flows.\\n\\nDetect opportunities for improvement in different areas.\\n\\n• Redesign of Equipment Logistic process with SCOR methodology, eliminating waste and optimizing process time.\\n…\\nsee more\\nCompany Name\\nARAUCO, planta Horcones I\\nTotal Duration\\n3 yrs 5 mos\\nTitle\\nOperational Excellence Lead\\nDates Employed\\nJul 2011 – Jan 2013\\nEmployment Duration\\n1 yr 7 mos\\nLocation\\nArauco, Chile\\nGenerate, control and manage the projects created in base of the methodology of Operational Excellence (OE), ensuring these are focused in three principal items: Safety, Environment and Business\\n\\nWorking to reduce process gaps with the goal to improve the Processes Management Indicator (PMI).\\n\\nTrain staff in concepts of Continuous Improvement and Operational Excellence\\n\\n• Annual record in project generation (25) / Fourth place in the national project competition of OE.\\n• Implementation of training plan for workers in each area of the plant, in addition to a plan to expand the philosophy of Continuous Improvement.\\n• Definition and work with EO leaders in each area.\\n…\\nsee more\\nTitle\\nProcess Management Consultant\\nDates Employed\\nSep 2010 – Jul 2011\\nEmployment Duration\\n11 mos\\nLocation\\nArauco, Chile\\nGenerate, control and manage the improvement of operational KPI on each area of the company (Yield, Factor of Operation, Variable Costs), in order to reduce the gap by comparing with optimal scenarios of each process indicator.\\n\\n• Improvement of PMI from 10% to 7% through the management and control of the project portfolio.\\n…\\nsee more\\nShow 1 more role\\nShow fewer experiences'"
      ]
     },
     "execution_count": 94,
     "metadata": {},
     "output_type": "execute_result"
    }
   ],
   "source": [
    "# experiences > text\n",
    "profile_experience = browser.find_element_by_id('experience-section')\n",
    "profile_experience.text "
   ]
  },
  {
   "cell_type": "code",
   "execution_count": 95,
   "metadata": {},
   "outputs": [
    {
     "data": {
      "text/plain": [
       "['1 yr 2 mos', '1 yr', '2 yrs 1 mo', '8 mos', '7 mos', '1 yr 7 mos', '11 mos']"
      ]
     },
     "execution_count": 95,
     "metadata": {},
     "output_type": "execute_result"
    }
   ],
   "source": [
    "# getting info: time experience\n",
    "pattern_1 = 'Employment Duration\\n(.*)\\nLocation'\n",
    "time_experience = list(re.findall(pattern_1 , profile_experience.text))\n",
    "time_experience"
   ]
  },
  {
   "cell_type": "code",
   "execution_count": 96,
   "metadata": {},
   "outputs": [
    {
     "name": "stdout",
     "output_type": "stream",
     "text": [
      "1 yr 2 mos\n",
      "1 yr\n",
      "2 yrs 1 mo\n",
      "8 mos\n",
      "7 mos\n",
      "1 yr 7 mos\n",
      "11 mos\n",
      "5 years - 26 months\n",
      "7 years - 2 months\n"
     ]
    }
   ],
   "source": [
    "y, m = 0 , 0\n",
    "for t in time_experience:\n",
    "    print(t)\n",
    "    if re.findall('[0-9] yr', t):\n",
    "        year  = re.findall('[0-9] yr', t)[0].split(\" \")[0]\n",
    "        y += int(year)\n",
    "    if re.findall('[0-9] mo', t):\n",
    "        month = re.findall('[0-9] mo', t)[0].split(\" \")[0]\n",
    "        m += int(month)\n",
    "print(y, \"years -\", m,\"months\")\n",
    "m_nuevo = m//12\n",
    "y_nuevo = y + m%12\n",
    "print(y_nuevo , \"years -\", m_nuevo ,\"months\")"
   ]
  },
  {
   "cell_type": "markdown",
   "metadata": {},
   "source": [
    "#### Education:"
   ]
  },
  {
   "cell_type": "code",
   "execution_count": 97,
   "metadata": {},
   "outputs": [
    {
     "data": {
      "text/plain": [
       "\"Education\\nIronhack\\nDegree Name\\nMaster's degree\\nField Of Study\\nData Analytics\\nDates attended or expected graduation\\n2019 – 2020\\n- Tools and technologies: Git, MySQL, Python, Pandas, Numpy, Web Scraping, Matplotlib, Seaborn, Scipy, Scikit-Learn, Tableau\\n- Good development practices: Data cleaning, data manipulation, data interpretation (APIs, Web Scraping), data visualization, Data Pipelines, descriptive statistics, Business Intelligence, supervised and unsupervised learning\\nUniversidad de Concepción\\nDegree Name\\nBachelor of Engineering - BE\\nField Of Study\\nIndustrial Engineering\\nGrade\\nApproved with Maximum Distinction. Grade 6.0 of 7.0\\nDates attended or expected graduation\\n2003 – 2009\\nActivities and Societies: - Participation in a student center - Drummer in a band - Basketball, capoeira, taekwondo\\nCivil Industrial Engineer, Universidad de Concepción\\nSubjects as :\\n- Project Evaluation and Management\\n- Quality Management and Six Sigma\\n- Logistic Management\\n- Operations research\\n- Planning and scheduling of production\\n- Financial management\\n- Process simulation\\n- Advanced Statistics\""
      ]
     },
     "execution_count": 97,
     "metadata": {},
     "output_type": "execute_result"
    }
   ],
   "source": [
    "profile_education = browser.find_element_by_id('education-section')\n",
    "profile_education.text"
   ]
  },
  {
   "cell_type": "code",
   "execution_count": 98,
   "metadata": {},
   "outputs": [
    {
     "data": {
      "text/plain": [
       "[\"Master's degree\", 'Bachelor of Engineering - BE']"
      ]
     },
     "execution_count": 98,
     "metadata": {},
     "output_type": "execute_result"
    }
   ],
   "source": [
    "# getting info: degrees\n",
    "pattern_2 = 'Degree Name\\n(.*)\\n'\n",
    "degrees = re.findall(pattern_2 , profile_education.text)\n",
    "degrees"
   ]
  },
  {
   "cell_type": "code",
   "execution_count": 99,
   "metadata": {},
   "outputs": [
    {
     "data": {
      "text/plain": [
       "['Data Analytics', 'Industrial Engineering']"
      ]
     },
     "execution_count": 99,
     "metadata": {},
     "output_type": "execute_result"
    }
   ],
   "source": [
    "# getting info: grades\n",
    "pattern_3 = 'Field Of Study\\n(.*)\\n'\n",
    "fields = re.findall(pattern_3 , profile_education.text)\n",
    "fields"
   ]
  },
  {
   "cell_type": "code",
   "execution_count": null,
   "metadata": {},
   "outputs": [],
   "source": []
  },
  {
   "cell_type": "code",
   "execution_count": null,
   "metadata": {},
   "outputs": [],
   "source": []
  },
  {
   "cell_type": "markdown",
   "metadata": {},
   "source": [
    "#### Skills:"
   ]
  },
  {
   "cell_type": "code",
   "execution_count": 100,
   "metadata": {},
   "outputs": [],
   "source": [
    "#show MORE skills > > button \"show more...\"\n",
    "profile_more_skills =  browser.find_element_by_xpath(\"//button[@data-control-name='skill_details']\")\n",
    "ActionChains(browser).move_to_element(profile_more_skills).perform()\n",
    "profile_more_skills.click()\n",
    "html_body.send_keys(Keys.PAGE_UP)"
   ]
  },
  {
   "cell_type": "code",
   "execution_count": 101,
   "metadata": {},
   "outputs": [
    {
     "data": {
      "text/plain": [
       "'Skills & Endorsements\\nAdd a new skill\\nTake skill quiz\\nMicrosoft Excel\\nSee 5 endorsements for Microsoft Excel\\n5\\nEndorsed by Reinaldo Alarcón Campos, who is highly skilled at this\\nEndorsed by 2 of Cristopher’s colleagues at ARAUCO\\nPassed: LinkedIn Assessments\\nData Analytics\\nSee 1 endorsement for Data Analytics\\n1\\nVictor Galan Vaquerizo has given an endorsement for this skill\\nPython (Programming Language)\\nSee 2 endorsements for Python (Programming Language)\\n2\\nVictor Galan Vaquerizo and 1 connection have given endorsements for this skill\\nIndustry Knowledge\\nProject Management\\nBusiness Process Improvement\\nContinuous Improvement\\nSix Sigma\\nLean manufacturing\\nSee 1 endorsement for Lean manufacturing\\n1\\nBusiness Analysis\\nData Analysis\\nSee 1 endorsement for Data Analysis\\n1\\nProgramming\\nEngineering\\nBusiness Intelligence\\nAnalytical Skills\\nScrum\\nFinancial Analysis\\nStatistics\\nProcess Optimization\\nProcess Engineering\\nMachine Learning\\nData Modeling\\nData Visualization\\nData Science\\nTools & Technologies\\nMicrosoft Office\\nSee 7 endorsements for Microsoft Office\\n7\\nMicrosoft Project\\nSee 1 endorsement for Microsoft Project\\n1\\nVBA\\nSAP\\nSee 2 endorsements for SAP\\n2\\nSQL\\nR\\nTableau\\nBash\\nGit\\nMySQL\\nInterpersonal Skills\\nTeam Management\\nTeamwork\\nNegotiation\\nSee 1 endorsement for Negotiation\\n1\\nLeadership\\nLanguages\\nEnglish\\nEspañol\\nOther Skills\\nMicrosoft Power BI\\nTelco\\nMicrosoft Power Query\\nPower Pivot\\nData Pipelines\\nWeb Scraping\\nVisual Basic for Applications (VBA)\\nNumPy\\nPandas (Software)\\nSeaborn\\nJupyter\\nShow less\\nShow only Cristopher’s featured skills'"
      ]
     },
     "execution_count": 101,
     "metadata": {},
     "output_type": "execute_result"
    }
   ],
   "source": [
    "# skill table> text\n",
    "profile_skills_details = browser.find_element_by_xpath\\\n",
    "(\"//section[@class='pv-profile-section pv-skill-categories-section artdeco-container-card ember-view']\")\n",
    "profile_skills_details.text"
   ]
  },
  {
   "cell_type": "code",
   "execution_count": 102,
   "metadata": {},
   "outputs": [
    {
     "name": "stdout",
     "output_type": "stream",
     "text": [
      "['Skills & Endorsements', 'Add a new skill', 'Take skill quiz', 'Microsoft Excel', 'See 5 endorsements for Microsoft Excel', '5', 'Endorsed by Reinaldo Alarcón Campos, who is highly skilled at this', 'Endorsed by 2 of Cristopher’s colleagues at ARAUCO', 'Passed: LinkedIn Assessments', 'Data Analytics', 'See 1 endorsement for Data Analytics', '1', 'Victor Galan Vaquerizo has given an endorsement for this skill', 'Python (Programming Language)', 'See 2 endorsements for Python (Programming Language)', '2', 'Victor Galan Vaquerizo and 1 connection have given endorsements for this skill', 'Industry Knowledge', 'Project Management', 'Business Process Improvement', 'Continuous Improvement', 'Six Sigma', 'Lean manufacturing', 'See 1 endorsement for Lean manufacturing', '1', 'Business Analysis', 'Data Analysis', 'See 1 endorsement for Data Analysis', '1', 'Programming', 'Engineering', 'Business Intelligence', 'Analytical Skills', 'Scrum', 'Financial Analysis', 'Statistics', 'Process Optimization', 'Process Engineering', 'Machine Learning', 'Data Modeling', 'Data Visualization', 'Data Science', 'Tools & Technologies', 'Microsoft Office', 'See 7 endorsements for Microsoft Office', '7', 'Microsoft Project', 'See 1 endorsement for Microsoft Project', '1', 'VBA', 'SAP', 'See 2 endorsements for SAP', '2', 'SQL', 'R', 'Tableau', 'Bash', 'Git', 'MySQL', 'Interpersonal Skills', 'Team Management', 'Teamwork', 'Negotiation', 'See 1 endorsement for Negotiation', '1', 'Leadership', 'Languages', 'English', 'Español', 'Other Skills', 'Microsoft Power BI', 'Telco', 'Microsoft Power Query', 'Power Pivot', 'Data Pipelines', 'Web Scraping', 'Visual Basic for Applications (VBA)', 'NumPy', 'Pandas (Software)', 'Seaborn', 'Jupyter', 'Show less', 'Show only Cristopher’s featured skills']\n"
     ]
    }
   ],
   "source": [
    "skills = profile_skills_details.text.split(\"\\n\")\n",
    "print(skills)\n",
    "not_needed_words = ['Skills & Endorsements', \n",
    "                    'Add a new skill', \n",
    "                    'Take skill quiz', \n",
    "                    'Passed: LinkedIn Assessments',\n",
    "                    'Tools & Technologies',\n",
    "                    'Interpersonal Skills',\n",
    "                    'Languages',\n",
    "                    'Other Skills',\n",
    "                    'Show less',\n",
    "                   ]"
   ]
  },
  {
   "cell_type": "code",
   "execution_count": 103,
   "metadata": {},
   "outputs": [
    {
     "name": "stdout",
     "output_type": "stream",
     "text": [
      "['Skills & Endorsements', 'Add a new skill', 'Take skill quiz', 'See 5 endorsements for Microsoft Excel', '5', 'Endorsed by Reinaldo Alarcón Campos, who is highly skilled at this', 'Endorsed by 2 of Cristopher’s colleagues at ARAUCO', 'Passed: LinkedIn Assessments', 'See 1 endorsement for Data Analytics', '1', 'Victor Galan Vaquerizo has given an endorsement for this skill', 'See 2 endorsements for Python (Programming Language)', '2', 'Victor Galan Vaquerizo and 1 connection have given endorsements for this skill', 'See 1 endorsement for Lean manufacturing', '1', 'See 1 endorsement for Data Analysis', '1', 'Tools & Technologies', 'See 7 endorsements for Microsoft Office', '7', 'See 1 endorsement for Microsoft Project', '1', 'See 2 endorsements for SAP', '2', 'Interpersonal Skills', 'See 1 endorsement for Negotiation', '1', 'Languages', 'Other Skills', 'Show less', 'Show only Cristopher’s featured skills']\n"
     ]
    },
    {
     "data": {
      "text/plain": [
       "['analytical skills',\n",
       " 'bash',\n",
       " 'business analysis',\n",
       " 'business intelligence',\n",
       " 'business process improvement',\n",
       " 'continuous improvement',\n",
       " 'data analysis',\n",
       " 'data analytics',\n",
       " 'data modeling',\n",
       " 'data pipelines',\n",
       " 'data science',\n",
       " 'data visualization',\n",
       " 'engineering',\n",
       " 'english',\n",
       " 'español',\n",
       " 'financial analysis',\n",
       " 'git',\n",
       " 'industry knowledge',\n",
       " 'jupyter',\n",
       " 'leadership',\n",
       " 'lean manufacturing',\n",
       " 'machine learning',\n",
       " 'microsoft excel',\n",
       " 'microsoft office',\n",
       " 'microsoft power bi',\n",
       " 'microsoft power query',\n",
       " 'microsoft project',\n",
       " 'mysql',\n",
       " 'negotiation',\n",
       " 'numpy',\n",
       " 'pandas',\n",
       " 'power pivot',\n",
       " 'process engineering',\n",
       " 'process optimization',\n",
       " 'programming',\n",
       " 'project management',\n",
       " 'python',\n",
       " 'r',\n",
       " 'sap',\n",
       " 'scrum',\n",
       " 'seaborn',\n",
       " 'six sigma',\n",
       " 'sql',\n",
       " 'statistics',\n",
       " 'tableau',\n",
       " 'team management',\n",
       " 'teamwork',\n",
       " 'telco',\n",
       " 'vba',\n",
       " 'visual basic for applications',\n",
       " 'web scraping']"
      ]
     },
     "execution_count": 103,
     "metadata": {},
     "output_type": "execute_result"
    }
   ],
   "source": [
    "#Getting just necesary skills\n",
    "skills_delete = []\n",
    "for s in skills:\n",
    "    #if (s in not_needed_words) or ('ndorse' in s) or ('Show only' in s) or s.isdigit():\n",
    "    if (s in not_needed_words) or re.search('ndorse',s) or re.search('Show only',s) or re.search('[0-9]',s):\n",
    "        #print(s)\n",
    "        skills_delete.append(s)\n",
    "        \n",
    "        #skills.remove(s)\n",
    "print(skills_delete)\n",
    "skills_clean = list(set(skills)-set(skills_delete))\n",
    "skills_clean = [ x.lower().split(' (')[0] for x in skills_clean]\n",
    "sorted(skills_clean)"
   ]
  },
  {
   "cell_type": "code",
   "execution_count": 104,
   "metadata": {},
   "outputs": [],
   "source": [
    "#skills_1 = re.findall( '\\n(.*)\\nSee' , profile_skills_details.text.split(\"\\nIndustry Knowledge\")[0])\n",
    "#skills_1"
   ]
  },
  {
   "cell_type": "code",
   "execution_count": 105,
   "metadata": {},
   "outputs": [],
   "source": [
    "#skills_2_delete = re.findall('\\nShow less\\nShow only(.*)featured skills', profile_skills_details.text.split(\"\\nIndustry Knowledge\")[1])[0]\n",
    "#skills_2_delete"
   ]
  },
  {
   "cell_type": "code",
   "execution_count": 106,
   "metadata": {},
   "outputs": [],
   "source": [
    "#skills_2 = profile_skills_details.text.split(\"\\nIndustry Knowledge\")[1]\\\n",
    "#                                    .replace(\"\\nTools & Technologies\",\"\")\\\n",
    "#                                    .replace(\"\\nInterpersonal Skills\",\"\")\\\n",
    "#                                    .replace(\"\\nLanguages\",\"\")\\\n",
    "#                                    .replace(\"\\nOther Skills\",\"\")\\\n",
    "#                                    .split(\"\\n\")\n",
    "#.replace(f\"\\nShow less\\nShow only{skills_2_delete}featured skills'\",\"\")\\\n",
    "#skills_2                            "
   ]
  },
  {
   "cell_type": "markdown",
   "metadata": {},
   "source": [
    "#### Languages:"
   ]
  },
  {
   "cell_type": "code",
   "execution_count": 107,
   "metadata": {},
   "outputs": [
    {
     "data": {
      "text/plain": [
       "['English', 'Spanish']"
      ]
     },
     "execution_count": 107,
     "metadata": {},
     "output_type": "execute_result"
    }
   ],
   "source": [
    "profile_languages = browser.find_element_by_id('languages-expandable-content').text.split(' ')\n",
    "profile_languages"
   ]
  },
  {
   "cell_type": "markdown",
   "metadata": {},
   "source": [
    "***\n",
    "#### JOB SEARCH :"
   ]
  },
  {
   "cell_type": "code",
   "execution_count": 108,
   "metadata": {},
   "outputs": [],
   "source": [
    "#location_input = input(\"PLEASE ENTER THE LOCATION WHERE YOU'D LIKE TO SEARCH: \")\n",
    "location_input = 'MADRID'"
   ]
  },
  {
   "cell_type": "code",
   "execution_count": 109,
   "metadata": {},
   "outputs": [
    {
     "data": {
      "text/plain": [
       "'Madrid'"
      ]
     },
     "execution_count": 109,
     "metadata": {},
     "output_type": "execute_result"
    }
   ],
   "source": [
    "location = location_input.capitalize()\n",
    "location"
   ]
  },
  {
   "cell_type": "markdown",
   "metadata": {},
   "source": [
    "#### GETTING JOB POSTS :"
   ]
  },
  {
   "cell_type": "markdown",
   "metadata": {},
   "source": [
    "#### Functions >"
   ]
  },
  {
   "cell_type": "code",
   "execution_count": 110,
   "metadata": {},
   "outputs": [],
   "source": [
    "#number of pages with job posts considering job title given to thi\n",
    "def n_pages_linkedin(browser,job_title_s, location):\n",
    "    \n",
    "    JOB_URL = f'https://www.linkedin.com/jobs/search/?keywords={job_title_s}&location={location}'\n",
    "    browser.get(JOB_URL)\n",
    "    \n",
    "    # Total results \n",
    "    results = browser.find_element_by_xpath(\"//small[@class='display-flex t-12 t-black--light t-normal']\").text\n",
    "    print(results)\n",
    "    results = int(results.split(\" \")[0])\n",
    "    #if   browser.find_element_by_xpath(\"/html/body/div[5]/div[4]/div[3]/section[1]/div[2]/div/div/div[1]/div[1]/div[1]/small\"):\n",
    "    #    results = int(browser.find_element_by_xpath\\\n",
    "    #    (\"/html/body/div[5]/div[4]/div[3]/section[1]/div[2]/div/div/div[1]/div[1]/div[1]/small\").text.split(\" \")[0])\n",
    "    #elif browser.find_element_by_xpath(\"/html/body/div[6]/div[4]/div[3]/section[1]/div[2]/div/div/div[1]/div[1]/div[1]/small\"):\n",
    "    #    results = int(browser.find_element_by_xpath\\\n",
    "    #    (\"/html/body/div[5]/div[4]/div[3]/section[1]/div[2]/div/div/div[1]/div[1]/div[1]/small\").text.split(\" \")[0])\n",
    "    \n",
    "    # More than 25 results > More than 1 page\n",
    "    if results > 25:\n",
    "        pages = browser.find_element_by_xpath(\"//ul[@class='artdeco-pagination__pages artdeco-pagination__pages--number']\")\n",
    "        #try:\n",
    "        #    pages = browser.find_element_by_xpath\\\n",
    "        #    ('/html/body/div[5]/div[4]/div[3]/section[1]/div[2]/div/div/div[1]/div[2]/div/section/artdeco-pagination/ul')\n",
    "        #except:\n",
    "        #    pages = browser.find_element_by_xpath\\\n",
    "        #    ('/html/body/div[6]/div[4]/div[3]/section[1]/div[2]/div/div/div[1]/div[2]/div/section/artdeco-pagination/ul')\n",
    "        \n",
    "        print(type(pages))\n",
    "        n_pages = int(pages.text.split('\\n')[-1])\n",
    "        print(n_pages)\n",
    "        return n_pages\n",
    "    \n",
    "    else:\n",
    "        n_pages = 1\n",
    "        return n_pages"
   ]
  },
  {
   "cell_type": "code",
   "execution_count": 111,
   "metadata": {},
   "outputs": [
    {
     "name": "stdout",
     "output_type": "stream",
     "text": [
      "177 results\n",
      "<class 'selenium.webdriver.remote.webelement.WebElement'>\n",
      "8\n"
     ]
    },
    {
     "data": {
      "text/plain": [
       "8"
      ]
     },
     "execution_count": 111,
     "metadata": {},
     "output_type": "execute_result"
    }
   ],
   "source": [
    "n_pages_linkedin(browser,'data%20analyst', 'Madrid')"
   ]
  },
  {
   "cell_type": "code",
   "execution_count": 112,
   "metadata": {},
   "outputs": [],
   "source": [
    "#Iterator of job posts > the only wayt is considering XPATH with an iteration\n",
    "def j_post(browser, i):\n",
    "    if   browser.find_element_by_xpath\\\n",
    "        (f'/html/body/div[5]/div[4]/div[3]/section[1]/div[2]/div/div/div[1]/div[2]/div/ul/li[{i}]/div/artdeco-entity-lockup/artdeco-entity-lockup-content/h3/a'):\n",
    "        job_post = browser.find_element_by_xpath\\\n",
    "        (f'/html/body/div[5]/div[4]/div[3]/section[1]/div[2]/div/div/div[1]/div[2]/div/ul/li[{i}]/div/artdeco-entity-lockup/artdeco-entity-lockup-content/h3/a')\n",
    "                                                        #  /html/body/div[5]/div[4]/div[3]/section[1]/div[2]/div/div/div[1]/div[2]/div/ul/li[ 1 ]/div/artdeco-entity-lockup/artdeco-entity-lockup-content/h3/a\n",
    "                                                        #  /html/body/div[5]/div[4]/div[3]/section[1]/div[2]/div/div/div[1]/div[2]/div/ul/li[ 1 ]/div/artdeco-entity-lockup/artdeco-entity-lockup-content/h3/a\n",
    "    elif browser.find_element_by_xpath\\\n",
    "        (f'/html/body/div[6]/div[4]/div[3]/section[1]/div[2]/div/div/div[1]/div[2]/div/ul/li[{i}]/div/artdeco-entity-lockup/artdeco-entity-lockup-content/h3/a'):\n",
    "        job_post = browser.find_element_by_xpath\\\n",
    "        ( '/html/body/div[6]/div[4]/div[3]/section[1]/div[2]/div/div/div[1]/div[2]/div/ul/li[{i}]/div/artdeco-entity-lockup/artdeco-entity-lockup-content/h3/a')\n",
    "\n",
    "    elif browser.find_element_by_xpath\\\n",
    "        (f'/html/body/div[5]/div[4]/div[3]/section[1]/div[2]/div/div/div[1]/div[2]/div[2]/ul/li[{i}]/div/artdeco-entity-lockup/artdeco-entity-lockup-content/h3/a'):\n",
    "        job_post = browser.find_element_by_xpath\\\n",
    "        (f'/html/body/div[5]/div[4]/div[3]/section[1]/div[2]/div/div/div[1]/div[2]/div[2]/ul/li[{i}]/div/artdeco-entity-lockup/artdeco-entity-lockup-content/h3/a')\n",
    "\n",
    "    elif browser.find_element_by_xpath\\\n",
    "        (f'/html/body/div[6]/div[4]/div[3]/section[1]/div[2]/div/div/div[1]/div[2]/div[2]/ul/li[{i}]/div/artdeco-entity-lockup/artdeco-entity-lockup-content/h3/a'):\n",
    "        job_post = browser.find_element_by_xpath\\\n",
    "        (f'/html/body/div[6]/div[4]/div[3]/section[1]/div[2]/div/div/div[1]/div[2]/div[2]/ul/li[{i}]/div/artdeco-entity-lockup/artdeco-entity-lockup-content/h3/a')\n",
    "    \n",
    "    return job_post"
   ]
  },
  {
   "cell_type": "code",
   "execution_count": 113,
   "metadata": {},
   "outputs": [],
   "source": [
    "#last = browser.find_element_by_xpath()'/html/body/div[6]/div[4]/div[3]/section[1]/div[2]/div/div/div[1]/div[2]/div/section/artdeco-pagination/ul')"
   ]
  },
  {
   "cell_type": "code",
   "execution_count": 114,
   "metadata": {},
   "outputs": [],
   "source": [
    "#pages.location_once_scrolled_into_view"
   ]
  },
  {
   "cell_type": "markdown",
   "metadata": {},
   "source": [
    "***"
   ]
  },
  {
   "cell_type": "code",
   "execution_count": 115,
   "metadata": {},
   "outputs": [],
   "source": [
    "# Defining current date time\n",
    "now = datetime.now()\n",
    "now_str = datetime.now().strftime('%Y-%m-%d %H:%M')"
   ]
  },
  {
   "cell_type": "code",
   "execution_count": 116,
   "metadata": {},
   "outputs": [],
   "source": [
    "# Creating df\n",
    "df_jobs = pd.DataFrame(columns=['JOB TITLE',\n",
    "                                'LOCATION',\n",
    "                                'SEARCH DATETIME',\n",
    "                                'Current Job Id',\n",
    "                                'Job html',\n",
    "                                'Job name',\n",
    "                                'Company name',\n",
    "                                'Company location',\n",
    "                                'Posted date',\n",
    "                                'Estimated post date',\n",
    "                                'Easy apply',\n",
    "                                'Skills match',\n",
    "            \n",
    "                                'Seniority Level',\n",
    "                                'Industry',\n",
    "                                'Employment Type',\n",
    "                                'Job Functions',\n",
    "                                'Job info'                                \n",
    "                               ])"
   ]
  },
  {
   "cell_type": "code",
   "execution_count": 127,
   "metadata": {},
   "outputs": [],
   "source": [
    "# Jobs search\n",
    "jobs_list = ['data analyst', 'data scientist', 'data engineer']"
   ]
  },
  {
   "cell_type": "code",
   "execution_count": 128,
   "metadata": {},
   "outputs": [],
   "source": [
    "dic_key_words = \\\n",
    "{   'data analyst'  : ['sql', \n",
    "                        'python', \n",
    "                        'business intelligence', 'bi' , 'excel'\n",
    "                        'dashboard', 'reporting',\n",
    "                        'tableau', 'powerbi', 'power bi', 'qlik', 'sportfire', \n",
    "                        'business analyst'\n",
    "                      ],\n",
    " \n",
    "    'data scientist': ['sql', \n",
    "                        'python', 'r', \n",
    "                        'ml', 'machine learning','dl','deep learning', 'nn','neuronal networks', \n",
    "                        'pandas', 'numpy', \n",
    "                        'data visualization', 'matplotlib', 'seaborn', \n",
    "                        'spss',  'advanced statistics','statistics',\n",
    "                        'sklearn','sk learn', 'scikit learn', 'scikit-learn' ,'tensorflow', 'keras', \n",
    "                        'data wrangling', 'nlp', 'a/b testing','a b testing'\n",
    "                      ],\n",
    " \n",
    "    'data engineer':  ['sql', 'nosql', 'no sql', \n",
    "                        'python', 'r', 'scala', 'java', 'spark', 'hadoop', 'hive', 'impala', 'kafka', \n",
    "                        'data wrangling', 'etl','extract, transform and load', 'map reduce','mapreduce', 'data acquisition',\n",
    "                        'big data', 'bigdata', 'data warehouse', 'aws',\n",
    "                        'software engineering'\n",
    "                      ]\n",
    "}"
   ]
  },
  {
   "cell_type": "code",
   "execution_count": 129,
   "metadata": {},
   "outputs": [
    {
     "data": {
      "text/plain": [
       "'Madrid'"
      ]
     },
     "execution_count": 129,
     "metadata": {},
     "output_type": "execute_result"
    }
   ],
   "source": [
    "location"
   ]
  },
  {
   "cell_type": "code",
   "execution_count": 130,
   "metadata": {
    "collapsed": true,
    "jupyter": {
     "outputs_hidden": true
    }
   },
   "outputs": [
    {
     "name": "stdout",
     "output_type": "stream",
     "text": [
      "++++++++++++++++  data analyst +++++++++++++++++++\n",
      "177 results\n",
      "<class 'selenium.webdriver.remote.webelement.WebElement'>\n",
      "8\n",
      "200\n",
      "PAGINA: 0\n",
      "i:1\n",
      "PAGINA: 25\n",
      "i:1\n",
      "Analista de datos Promoted\n",
      "https://www.linkedin.com/jobs/search/?currentJobId=1744889236&keywords=data%20analyst&location=Madrid&start=25\n",
      "1744889236\n",
      "Analista de datos\n",
      "YUKON IT SPAIN & EUROPE\n",
      "Madrid y alrededores\n",
      "1 month\n",
      "\n",
      "i:2\n",
      "Backoffice Product Owner Promoted\n",
      "https://www.linkedin.com/jobs/search/?currentJobId=1822454033&keywords=data%20analyst&location=Madrid&start=25\n",
      "1822454033\n",
      "Backoffice Product Owner\n",
      "SoYou_Bankia\n",
      "Madrid y alrededores, España\n",
      "1 day\n",
      "\n",
      "i:3\n",
      "Analyst Intern- Group Growth Department Promoted\n",
      "https://www.linkedin.com/jobs/search/?currentJobId=1766737805&keywords=data%20analyst&location=Madrid&start=25\n",
      "1766737805\n",
      "Analyst Intern- Group Growth Department\n",
      "Interbrand\n",
      "Madrid, ES\n",
      "1 week\n",
      "\n",
      "i:4\n",
      "Business Data & Operations Analyst\n",
      "https://www.linkedin.com/jobs/search/?currentJobId=1616514766&keywords=data%20analyst&location=Madrid&start=25\n",
      "1616514766\n",
      "Business Data & Operations Analyst\n",
      "Enghouse Interactive\n",
      "Madrid, ES\n",
      "5 months\n",
      "\n",
      "i:5\n",
      "Analista De Datos (Python), Madrid\n",
      "https://www.linkedin.com/jobs/search/?currentJobId=1812956345&keywords=data%20analyst&location=Madrid&start=25\n",
      "1812956345\n",
      "Analista De Datos (Python), Madrid\n",
      "Grupo CMC\n",
      "Madrid, ES\n",
      "2 weeks\n",
      "\n",
      "i:6\n",
      "Data Analyst -Scientist - Uber Eats (Sector esencial/Teletrabajo)\n",
      "https://www.linkedin.com/jobs/search/?currentJobId=1747233587&keywords=data%20analyst&location=Madrid&start=25\n",
      "1747233587\n",
      "Data Analyst -Scientist - Uber Eats (Sector esencial/Teletrabajo)\n",
      "Adecco\n",
      "Madrid, ES\n",
      "1 month\n",
      "\n",
      "i:7\n",
      "Data Analytics\n",
      "https://www.linkedin.com/jobs/search/?currentJobId=1702574998&keywords=data%20analyst&location=Madrid&start=25\n",
      "1702574998\n",
      "Data Analytics\n",
      "Malthus Darwin\n",
      "Madrid, ES\n",
      "3 months\n",
      "\n",
      "i:8\n",
      "Python Data Analyst\n",
      "https://www.linkedin.com/jobs/search/?currentJobId=1794127974&keywords=data%20analyst&location=Madrid&start=25\n",
      "1794127974\n",
      "Python Data Analyst\n",
      "Aplazame\n",
      "Madrid, Community of Madrid, Spain\n",
      "1 week\n",
      "\n",
      "i:9\n",
      "Data Analytics Manager Madrid\n",
      "https://www.linkedin.com/jobs/search/?currentJobId=1792597183&keywords=data%20analyst&location=Madrid&start=25\n",
      "1792597183\n",
      "Data Analytics Manager Madrid\n",
      "Accenture España\n",
      "Madrid, ES\n",
      "1 month\n",
      "\n",
      "i:10\n",
      "Analista de Datos\n",
      "https://www.linkedin.com/jobs/search/?currentJobId=1813920592&keywords=data%20analyst&location=Madrid&start=25\n",
      "1813920592\n",
      "Analista de Datos\n",
      "Telefónica\n",
      "Madrid, ES\n",
      "1 month\n",
      "\n",
      "i:11\n",
      "Data Engineer (ETL, Data Analyst and Visualization)\n",
      "https://www.linkedin.com/jobs/search/?currentJobId=1768494778&keywords=data%20analyst&location=Madrid&start=25\n",
      "1768494778\n",
      "Data Engineer (ETL, Data Analyst and Visualization)\n",
      "DBi Data Business Intelligence\n",
      "Madrid Area, Spain\n",
      "3 weeks\n",
      "\n",
      "i:12\n",
      "Programmatic Trader & Data Analyst\n",
      "https://www.linkedin.com/jobs/search/?currentJobId=1746937390&keywords=data%20analyst&location=Madrid&start=25\n",
      "1746937390\n",
      "Programmatic Trader & Data Analyst\n",
      "TAPTAP Digital\n",
      "Madrid, ES\n",
      "1 month\n",
      "\n",
      "i:13\n",
      "INTERNTIONAL RISK HUB - RISK ANTICIPATION / BUSINESS ANALYST\n",
      "https://www.linkedin.com/jobs/search/?currentJobId=1767780574&keywords=data%20analyst&location=Madrid&start=25\n",
      "1767780574\n",
      "INTERNTIONAL RISK HUB - RISK ANTICIPATION / BUSINESS ANALYST\n",
      "BNP Paribas\n",
      "Madrid, ES\n",
      "1 month\n",
      "\n",
      "i:14\n",
      "Programmatic Trader & Data Analyst\n",
      "https://www.linkedin.com/jobs/search/?currentJobId=1675679034&keywords=data%20analyst&location=Madrid&start=25\n",
      "1675679034\n",
      "Programmatic Trader & Data Analyst\n",
      "Tap for Tap\n",
      "Madrid, ES\n",
      "3 months\n",
      "\n",
      "i:15\n",
      "Analista de datos\n",
      "https://www.linkedin.com/jobs/search/?currentJobId=1783706074&keywords=data%20analyst&location=Madrid&start=25\n",
      "1783706074\n",
      "Analista de datos\n",
      "Page Personnel\n",
      "Madrid, ES\n",
      "1 month\n",
      "\n",
      "i:16\n",
      "Data Load Analyst\n",
      "https://www.linkedin.com/jobs/search/?currentJobId=1765487686&keywords=data%20analyst&location=Madrid&start=25\n",
      "1765487686\n",
      "Data Load Analyst\n",
      "Keytree\n",
      "Madrid, ES\n",
      "2 months\n",
      "\n",
      "i:17\n",
      "Analista y categorización de datos Madrid (Madrid)\n",
      "https://www.linkedin.com/jobs/search/?currentJobId=1825408030&keywords=data%20analyst&location=Madrid&start=25\n",
      "1825408030\n",
      "Analista y categorización de datos Madrid (Madrid)\n",
      "FULLSTEP\n",
      "Madrid, ES\n",
      "2 days\n",
      "\n",
      "i:18\n",
      "analista senior data managment\n",
      "https://www.linkedin.com/jobs/search/?currentJobId=1768776717&keywords=data%20analyst&location=Madrid&start=25\n",
      "1768776717\n",
      "analista senior data managment\n",
      "Hays\n",
      "Madrid, ES\n",
      "1 month\n",
      "\n",
      "i:19\n",
      "Data Analyst & Revenue Management (m/h) | Madrid | Proceso Cerrado\n",
      "https://www.linkedin.com/jobs/search/?currentJobId=1535954112&keywords=data%20analyst&location=Madrid&start=25\n",
      "1535954112\n",
      "Data Analyst & Revenue Management (m/h) | Madrid | Proceso Cerrado\n",
      "AIRHE Consultoría Estratégica de Recursos Humanos, Selección de Profesionales y Bienestar Laboral.\n",
      "Madrid, ES\n",
      "6 months\n",
      "\n",
      "i:20\n",
      "Analista de datos (Python), Madrid\n",
      "https://www.linkedin.com/jobs/search/?currentJobId=1655709490&keywords=data%20analyst&location=Madrid&start=25\n",
      "1655709490\n",
      "Analista de datos (Python), Madrid\n",
      "CMC LTD\n",
      "Madrid, ES\n",
      "4 months\n",
      "\n",
      "i:21\n",
      "Analista de datos, Madrid\n",
      "https://www.linkedin.com/jobs/search/?currentJobId=1404383507&keywords=data%20analyst&location=Madrid&start=25\n",
      "1404383507\n",
      "Analista de datos, Madrid\n",
      "Smartme Analytics\n",
      "Madrid, ES\n",
      "9 months\n",
      "\n",
      "i:22\n",
      "Campaigns & Data Operations Support\n",
      "https://www.linkedin.com/jobs/search/?currentJobId=1807635286&keywords=data%20analyst&location=Madrid&start=25\n",
      "1807635286\n",
      "Campaigns & Data Operations Support\n",
      "Huawei Empresas España\n",
      "Madrid, Community of Madrid, Spain\n",
      "2 weeks\n",
      "\n",
      "i:23\n",
      "Big Data Analyst\n",
      "https://www.linkedin.com/jobs/search/?currentJobId=1792790683&keywords=data%20analyst&location=Madrid&start=25\n",
      "1792790683\n",
      "Big Data Analyst\n",
      "satec\n",
      "Madrid, Comunidad de Madrid, España\n",
      "3 weeks\n",
      "\n",
      "i:24\n",
      "Analista de datos BI\n",
      "https://www.linkedin.com/jobs/search/?currentJobId=1723944179&keywords=data%20analyst&location=Madrid&start=25\n",
      "1723944179\n",
      "Analista de datos BI\n",
      "AFS Logistics, LLC\n",
      "Madrid, ES\n",
      "2 months\n",
      "\n",
      "i:25\n",
      "Senior Data Analyst & Data Scientist\n",
      "https://www.linkedin.com/jobs/search/?currentJobId=1645918674&keywords=data%20analyst&location=Madrid&start=25\n",
      "1645918674\n",
      "Senior Data Analyst & Data Scientist\n",
      "Ekkiden\n",
      "Madrid, ES\n",
      "4 months\n",
      "\n",
      "PAGINA: 50\n",
      "i:1\n",
      "Malware Analyst Promoted\n",
      "https://www.linkedin.com/jobs/search/?currentJobId=1782509532&keywords=data%20analyst&location=Madrid&start=50\n",
      "1782509532\n",
      "Malware Analyst\n",
      "Deloitte España\n",
      "Madrid, ES\n",
      "2 weeks\n",
      "\n",
      "i:2\n",
      "Cyber Security Analyst Promoted\n",
      "https://www.linkedin.com/jobs/search/?currentJobId=1733381424&keywords=data%20analyst&location=Madrid&start=50\n",
      "1733381424\n",
      "Cyber Security Analyst\n",
      "Twilio Inc.\n",
      "Madrid, ES\n",
      "4 days\n",
      "\n",
      "i:3\n",
      "Finance Systems Business Analyst - GL/FA/AP/AR - Spanish Speaking Promoted\n",
      "https://www.linkedin.com/jobs/search/?currentJobId=1811532919&keywords=data%20analyst&location=Madrid&start=50\n",
      "1811532919\n",
      "Finance Systems Business Analyst - GL/FA/AP/AR - Spanish Speaking\n",
      "SystemsAccountants\n",
      "Greater Madrid Metropolitan Area\n",
      "1 week\n",
      "\n",
      "i:4\n",
      "Analista de datos (Python) - Madrid\n",
      "https://www.linkedin.com/jobs/search/?currentJobId=1780196846&keywords=data%20analyst&location=Madrid&start=50\n",
      "1780196846\n",
      "Analista de datos (Python) - Madrid\n",
      "IT Partner España\n",
      "Madrid, ES\n",
      "1 month\n",
      "\n",
      "i:5\n",
      "Analista de Datos, Madrid\n",
      "https://www.linkedin.com/jobs/search/?currentJobId=1803467375&keywords=data%20analyst&location=Madrid&start=50\n",
      "1803467375\n",
      "Analista de Datos, Madrid\n",
      "SEREM Consultoría Empresarial\n",
      "Madrid, ES\n",
      "2 weeks\n",
      "\n",
      "i:6\n",
      "Business Development Manager - StartUp Data & Analytics\n",
      "https://www.linkedin.com/jobs/search/?currentJobId=1823418020&keywords=data%20analyst&location=Madrid&start=50\n",
      "1823418020\n",
      "Business Development Manager - StartUp Data & Analytics\n",
      "Robert Walters\n",
      "Madrid, ES\n",
      "4 weeks\n",
      "\n",
      "i:7\n",
      "Analistas de datos\n",
      "https://www.linkedin.com/jobs/search/?currentJobId=1758590222&keywords=data%20analyst&location=Madrid&start=50\n",
      "1758590222\n",
      "Analistas de datos\n",
      "GRUPO INVOIN\n",
      "Madrid, ES\n",
      "1 month\n",
      "\n",
      "i:8\n",
      "Data Analytics Manager Madrid\n",
      "https://www.linkedin.com/jobs/search/?currentJobId=1788391281&keywords=data%20analyst&location=Madrid&start=50\n",
      "1788391281\n",
      "Data Analytics Manager Madrid\n",
      "jobleads.com - Careers for Senior-Level Professionals\n",
      "Madrid, ES\n",
      "3 weeks\n",
      "\n",
      "i:9\n",
      "Analistas de datos\n",
      "https://www.linkedin.com/jobs/search/?currentJobId=1817940217&keywords=data%20analyst&location=Madrid&start=50\n",
      "1817940217\n",
      "Analistas de datos\n",
      "Grupo INVOIN\n",
      "Madrid, ES\n",
      "1 month\n",
      "\n",
      "i:10\n",
      "Perfil Analista Protección de Datos 2439\n",
      "https://www.linkedin.com/jobs/search/?currentJobId=1686330636&keywords=data%20analyst&location=Madrid&start=50\n",
      "1686330636\n",
      "Perfil Analista Protección de Datos 2439\n",
      "SERVIZIA BUSINESS GOAL\n",
      "Madrid, ES\n",
      "3 months\n",
      "\n",
      "i:11\n",
      "Sales Director (Data & Analytics)\n",
      "https://www.linkedin.com/jobs/search/?currentJobId=1813642277&keywords=data%20analyst&location=Madrid&start=50\n",
      "1813642277\n",
      "Sales Director (Data & Analytics)\n",
      "The Valley Talent\n",
      "Madrid, Community of Madrid, Spain\n",
      "1 week\n",
      "\n",
      "i:12\n",
      "Sales Manager - Banking (FSI)\n",
      "https://www.linkedin.com/jobs/search/?currentJobId=1677622063&keywords=data%20analyst&location=Madrid&start=50\n",
      "1677622063\n",
      "Sales Manager - Banking (FSI)\n",
      "Pegasystems\n",
      "Madrid, ES\n",
      "4 days\n",
      "\n",
      "i:13\n",
      "DOCENTE ANALISTA BIG DATA Y CIENTÃFICO DE DATOS\n",
      "https://www.linkedin.com/jobs/search/?currentJobId=1755661065&keywords=data%20analyst&location=Madrid&start=50\n",
      "1755661065\n",
      "DOCENTE ANALISTA BIG DATA Y CIENTÃFICO DE DATOS\n",
      "Lider System Grupo - Formación y Consultoría\n",
      "Madrid, ES\n",
      "1 month\n",
      "\n",
      "i:14\n",
      "Data Analyst Junior\n",
      "https://www.linkedin.com/jobs/search/?currentJobId=1797126465&keywords=data%20analyst&location=Madrid&start=50\n",
      "1797126465\n",
      "Data Analyst Junior\n",
      "Tempotel\n",
      "Madrid, ES\n",
      "1 month\n",
      "\n",
      "i:15\n",
      "Junior Data Analyst\n",
      "https://www.linkedin.com/jobs/search/?currentJobId=1789135389&keywords=data%20analyst&location=Madrid&start=50\n",
      "1789135389\n",
      "Junior Data Analyst\n",
      "Fever\n",
      "Madrid, ES\n",
      "1 month\n",
      "\n",
      "i:16\n",
      "Senior Data Analyst, Madrid\n",
      "https://www.linkedin.com/jobs/search/?currentJobId=1821998629&keywords=data%20analyst&location=Madrid&start=50\n",
      "1821998629\n",
      "Senior Data Analyst, Madrid\n",
      "Farmacias Trebol\n",
      "Provincia de Madrid, ES\n",
      "5 days\n",
      "\n",
      "i:17\n",
      "Data Analyst Intern\n",
      "https://www.linkedin.com/jobs/search/?currentJobId=1806494044&keywords=data%20analyst&location=Madrid&start=50\n",
      "1806494044\n",
      "Data Analyst Intern\n",
      "Ecolab España\n",
      "Madrid, ES\n",
      "3 weeks\n",
      "\n",
      "i:18\n",
      "Social You, S.L.: Business data analyst\n",
      "https://www.linkedin.com/jobs/search/?currentJobId=1820265423&keywords=data%20analyst&location=Madrid&start=50\n",
      "1820265423\n",
      "Social You, S.L.: Business data analyst\n",
      "Social You\n",
      "Madrid, ES\n",
      "1 month\n",
      "\n",
      "i:19\n",
      "Content Insight Analyst m/f\n",
      "https://www.linkedin.com/jobs/search/?currentJobId=1820536471&keywords=data%20analyst&location=Madrid&start=50\n",
      "1820536471\n",
      "Content Insight Analyst m/f\n",
      "Amazon\n",
      "Madrid, ES\n",
      "2 days\n",
      "\n",
      "i:20\n",
      "Strategic Analyst\n",
      "https://www.linkedin.com/jobs/search/?currentJobId=1528381086&keywords=data%20analyst&location=Madrid&start=50\n",
      "1528381086\n",
      "Strategic Analyst\n",
      "Denodo\n",
      "Madrid, ES\n",
      "6 months\n",
      "\n",
      "i:21\n",
      "Analista de datos\n",
      "https://www.linkedin.com/jobs/search/?currentJobId=1784192362&keywords=data%20analyst&location=Madrid&start=50\n",
      "1784192362\n",
      "Analista de datos\n",
      "Michael Page\n",
      "Madrid, ES\n",
      "1 month\n",
      "\n",
      "i:22\n",
      "Senior Data Analyst\n",
      "https://www.linkedin.com/jobs/search/?currentJobId=1746829184&keywords=data%20analyst&location=Madrid&start=50\n",
      "1746829184\n",
      "Senior Data Analyst\n",
      "OrbitalAds\n",
      "Madrid, ES\n",
      "1 month\n",
      "\n",
      "i:23\n",
      "Programmatic Trader & Data Analyst\n",
      "https://www.linkedin.com/jobs/search/?currentJobId=1675679035&keywords=data%20analyst&location=Madrid&start=50\n",
      "1675679035\n",
      "Programmatic Trader & Data Analyst\n",
      "Tap for Tap\n",
      "Madrid, ES\n",
      "3 months\n",
      "\n",
      "i:24\n",
      "Digital Data Scientist\n",
      "https://www.linkedin.com/jobs/search/?currentJobId=1712806429&keywords=data%20analyst&location=Madrid&start=50\n",
      "1712806429\n",
      "Digital Data Scientist\n",
      "JTI (Japan Tobacco International)\n",
      "Madrid, ES\n",
      "3 weeks\n",
      "\n",
      "i:25\n",
      "Programmatic Trader & Data Analyst\n",
      "https://www.linkedin.com/jobs/search/?currentJobId=1651627197&keywords=data%20analyst&location=Madrid&start=50\n",
      "1651627197\n",
      "Programmatic Trader & Data Analyst\n",
      "TAPTAP Digital\n",
      "Madrid, ES\n",
      "4 months\n",
      "\n",
      "PAGINA: 75\n",
      "i:1\n",
      "PAGINA: 100\n",
      "i:1\n",
      "PAGINA: 125\n",
      "i:1\n",
      "Business Analyst En Madrid\n",
      "https://www.linkedin.com/jobs/search/?currentJobId=1824165534&keywords=data%20analyst&location=Madrid&start=125\n",
      "1824165534\n",
      "Business Analyst En Madrid\n",
      "Ing\n",
      "Madrid, ES\n",
      "1 week\n",
      "\n",
      "i:2\n",
      "BI Developer/Data Analyst\n",
      "https://www.linkedin.com/jobs/search/?currentJobId=1685155485&keywords=data%20analyst&location=Madrid&start=125\n",
      "1685155485\n",
      "BI Developer/Data Analyst\n",
      "Lola Market\n",
      "Madrid, ES\n",
      "3 months\n",
      "\n",
      "i:3\n",
      "Data Analyst\n",
      "https://www.linkedin.com/jobs/search/?currentJobId=1750698387&keywords=data%20analyst&location=Madrid&start=125\n",
      "1750698387\n",
      "Data Analyst\n",
      "Orbital Ads\n",
      "Madrid, ES\n",
      "1 month\n",
      "\n",
      "i:4\n",
      "Data Analyst + Data Engineering posición mixta\n",
      "https://www.linkedin.com/jobs/search/?currentJobId=1723959999&keywords=data%20analyst&location=Madrid&start=125\n",
      "1723959999\n",
      "Data Analyst + Data Engineering posición mixta\n",
      "Talento, Innovación y Desarrollo, S.L.\n",
      "Madrid, ES\n",
      "2 months\n",
      "\n",
      "i:5\n",
      "4P Internal Use Cases Business Data Analyst en Madrid\n",
      "https://www.linkedin.com/jobs/search/?currentJobId=1768578002&keywords=data%20analyst&location=Madrid&start=125\n",
      "1768578002\n",
      "4P Internal Use Cases Business Data Analyst en Madrid\n",
      "Telefonica\n",
      "Madrid, ES\n",
      "1 month\n",
      "\n",
      "i:6\n",
      "INFLUENCER DATA ANALYST\n",
      "https://www.linkedin.com/jobs/search/?currentJobId=1596370832&keywords=data%20analyst&location=Madrid&start=125\n",
      "1596370832\n",
      "INFLUENCER DATA ANALYST\n",
      "Alqua Digital SL\n",
      "Madrid, ES\n",
      "5 months\n",
      "\n",
      "i:7\n",
      "Analista de datos (Scrum), Madrid\n",
      "https://www.linkedin.com/jobs/search/?currentJobId=1802274844&keywords=data%20analyst&location=Madrid&start=125\n",
      "1802274844\n",
      "Analista de datos (Scrum), Madrid\n",
      "ALTEN Spain\n",
      "Madrid, ES\n",
      "3 weeks\n",
      "\n",
      "i:8\n",
      "Product Data Analyst\n",
      "https://www.linkedin.com/jobs/search/?currentJobId=1768582225&keywords=data%20analyst&location=Madrid&start=125\n",
      "1768582225\n",
      "Product Data Analyst\n",
      "Adevinta\n",
      "Madrid, ES\n",
      "1 month\n",
      "\n",
      "i:9\n",
      "Analista De Datos\n",
      "https://www.linkedin.com/jobs/search/?currentJobId=1816560449&keywords=data%20analyst&location=Madrid&start=125\n",
      "1816560449\n",
      "Analista De Datos\n",
      "Aegon\n",
      "Madrid, ES\n",
      "1 week\n",
      "\n",
      "i:10\n",
      "Business Process Analyst\n",
      "https://www.linkedin.com/jobs/search/?currentJobId=1738751982&keywords=data%20analyst&location=Madrid&start=125\n",
      "1738751982\n",
      "Business Process Analyst\n",
      "SWIFT (Society for Worldwide Interbank Financial Telecommunications)\n",
      "Madrid, ES\n",
      "2 months\n",
      "\n",
      "i:11\n",
      "Consultor Data Analyst Senior Madrid\n",
      "https://www.linkedin.com/jobs/search/?currentJobId=1723960417&keywords=data%20analyst&location=Madrid&start=125\n",
      "1723960417\n",
      "Consultor Data Analyst Senior Madrid\n",
      "Talento, Innovación y Desarrollo, S.L.\n",
      "Madrid, ES\n",
      "2 months\n",
      "\n",
      "i:12\n",
      "Analista de Datos en Madrid\n",
      "https://www.linkedin.com/jobs/search/?currentJobId=1781385868&keywords=data%20analyst&location=Madrid&start=125\n",
      "1781385868\n",
      "Analista de Datos en Madrid\n",
      "Azierta Servicios Financieros\n",
      "Madrid, ES\n",
      "1 month\n",
      "\n",
      "i:13\n",
      "Analista de banco de datos\n",
      "https://www.linkedin.com/jobs/search/?currentJobId=1794789487&keywords=data%20analyst&location=Madrid&start=125\n",
      "1794789487\n",
      "Analista de banco de datos\n",
      "PRO MUJER BOLIVIA\n",
      "Madrid, ES\n",
      "3 weeks\n",
      "\n",
      "i:14\n",
      "ANALISTA DE DATOS\n",
      "https://www.linkedin.com/jobs/search/?currentJobId=1770623122&keywords=data%20analyst&location=Madrid&start=125\n",
      "1770623122\n",
      "ANALISTA DE DATOS\n",
      "Colavoro\n",
      "Madrid, ES\n",
      "1 month\n",
      "\n",
      "i:15\n",
      "BIG DATA Analyst\n",
      "https://www.linkedin.com/jobs/search/?currentJobId=1825643625&keywords=data%20analyst&location=Madrid&start=125\n",
      "1825643625\n",
      "BIG DATA Analyst\n",
      "atmira\n",
      "Madrid, ES\n",
      "2 days\n",
      "\n",
      "i:16\n",
      "Analista y categorización de datos Madrid\n",
      "https://www.linkedin.com/jobs/search/?currentJobId=1824837855&keywords=data%20analyst&location=Madrid&start=125\n",
      "1824837855\n",
      "Analista y categorización de datos Madrid\n",
      "Fullstep Networks\n",
      "Madrid, ES\n",
      "3 days\n",
      "\n",
      "i:17\n",
      "Beca Analista de Datos - Microstrategy\n",
      "https://www.linkedin.com/jobs/search/?currentJobId=1732861736&keywords=data%20analyst&location=Madrid&start=125\n",
      "1732861736\n",
      "Beca Analista de Datos - Microstrategy\n",
      "Innova-tsn\n",
      "Las Rozas de Madrid, ES\n",
      "3 months\n",
      "\n",
      "i:18\n",
      "Analyst Intern- Group Growth Department\n",
      "https://www.linkedin.com/jobs/search/?currentJobId=1701087312&keywords=data%20analyst&location=Madrid&start=125\n",
      "1701087312\n",
      "Analyst Intern- Group Growth Department\n",
      "Interbrand\n",
      "Madrid, ES\n",
      "2 months\n",
      "\n",
      "i:19\n",
      "INTERNTIONAL RISK HUB - RISK ANTICIPATION / BUSINESS ANALYST\n",
      "https://www.linkedin.com/jobs/search/?currentJobId=1815834495&keywords=data%20analyst&location=Madrid&start=125\n",
      "1815834495\n",
      "INTERNTIONAL RISK HUB - RISK ANTICIPATION / BUSINESS ANALYST\n",
      "BNP Paribas 2\n",
      "Madrid, ES\n",
      "1 week\n",
      "\n",
      "i:20\n",
      "INTERNTIONAL RISK HUB - RISK ANTICIPATION / BUSINESS ANALYST\n",
      "https://www.linkedin.com/jobs/search/?currentJobId=1818321271&keywords=data%20analyst&location=Madrid&start=125\n",
      "1818321271\n",
      "INTERNTIONAL RISK HUB - RISK ANTICIPATION / BUSINESS ANALYST\n",
      "BNP Paribas 2\n",
      "Madrid, ES\n",
      "1 week\n",
      "\n",
      "i:21\n",
      "INTERNTIONAL RISK HUB - RISK ANTICIPATION / BUSINESS ANALYST\n",
      "https://www.linkedin.com/jobs/search/?currentJobId=1813402156&keywords=data%20analyst&location=Madrid&start=125\n",
      "1813402156\n",
      "INTERNTIONAL RISK HUB - RISK ANTICIPATION / BUSINESS ANALYST\n",
      "BNP Paribas 2\n",
      "Madrid, ES\n",
      "1 week\n",
      "\n",
      "i:22\n",
      "INTERNTIONAL RISK HUB - RISK ANTICIPATION / BUSINESS ANALYST\n",
      "https://www.linkedin.com/jobs/search/?currentJobId=1810238247&keywords=data%20analyst&location=Madrid&start=125\n",
      "1810238247\n",
      "INTERNTIONAL RISK HUB - RISK ANTICIPATION / BUSINESS ANALYST\n",
      "BNP Paribas 2\n",
      "Madrid, ES\n",
      "2 weeks\n",
      "\n",
      "i:23\n",
      "Big Data Analyst\n",
      "https://www.linkedin.com/jobs/search/?currentJobId=1812956704&keywords=data%20analyst&location=Madrid&start=125\n",
      "1812956704\n",
      "Big Data Analyst\n",
      "Standby Consultores\n",
      "Madrid, ES\n",
      "2 weeks\n",
      "\n",
      "i:24\n",
      "INTERNTIONAL RISK HUB - RISK ANTICIPATION / BUSINESS ANALYST\n",
      "https://www.linkedin.com/jobs/search/?currentJobId=1814952733&keywords=data%20analyst&location=Madrid&start=125\n",
      "1814952733\n",
      "INTERNTIONAL RISK HUB - RISK ANTICIPATION / BUSINESS ANALYST\n",
      "BNP Paribas 2\n",
      "Madrid, ES\n",
      "1 week\n",
      "\n",
      "i:25\n",
      "INTERNTIONAL RISK HUB - RISK ANTICIPATION / BUSINESS ANALYST\n",
      "https://www.linkedin.com/jobs/search/?currentJobId=1824801594&keywords=data%20analyst&location=Madrid&start=125\n",
      "1824801594\n",
      "INTERNTIONAL RISK HUB - RISK ANTICIPATION / BUSINESS ANALYST\n",
      "BNP Paribas 2\n",
      "Madrid, ES\n",
      "3 days\n",
      "\n",
      "PAGINA: 150\n",
      "i:1\n",
      "INTERNTIONAL RISK HUB - RISK ANTICIPATION / BUSINESS ANALYST\n",
      "https://www.linkedin.com/jobs/search/?currentJobId=1811897236&keywords=data%20analyst&location=Madrid&start=150\n",
      "1811897236\n",
      "INTERNTIONAL RISK HUB - RISK ANTICIPATION / BUSINESS ANALYST\n",
      "BNP Paribas 2\n",
      "Madrid, ES\n",
      "1 week\n",
      "\n",
      "i:2\n",
      "INTERNTIONAL RISK HUB - RISK ANTICIPATION / BUSINESS ANALYST\n",
      "https://www.linkedin.com/jobs/search/?currentJobId=1822362264&keywords=data%20analyst&location=Madrid&start=150\n",
      "1822362264\n",
      "INTERNTIONAL RISK HUB - RISK ANTICIPATION / BUSINESS ANALYST\n",
      "BNP Paribas 2\n",
      "Madrid, ES\n",
      "5 days\n",
      "\n",
      "i:3\n",
      "INTERNTIONAL RISK HUB - RISK ANTICIPATION / BUSINESS ANALYST\n",
      "https://www.linkedin.com/jobs/search/?currentJobId=1820770635&keywords=data%20analyst&location=Madrid&start=150\n",
      "1820770635\n",
      "INTERNTIONAL RISK HUB - RISK ANTICIPATION / BUSINESS ANALYST\n",
      "BNP Paribas 2\n",
      "Madrid, ES\n",
      "6 days\n",
      "\n",
      "i:4\n",
      "INTERNTIONAL RISK HUB - RISK ANTICIPATION / BUSINESS ANALYST\n",
      "https://www.linkedin.com/jobs/search/?currentJobId=1819663582&keywords=data%20analyst&location=Madrid&start=150\n",
      "1819663582\n",
      "INTERNTIONAL RISK HUB - RISK ANTICIPATION / BUSINESS ANALYST\n",
      "BNP Paribas 2\n",
      "Madrid, ES\n",
      "1 week\n",
      "\n",
      "i:5\n",
      "INTERNTIONAL RISK HUB - RISK ANTICIPATION / BUSINESS ANALYST\n",
      "https://www.linkedin.com/jobs/search/?currentJobId=1825794275&keywords=data%20analyst&location=Madrid&start=150\n",
      "1825794275\n",
      "INTERNTIONAL RISK HUB - RISK ANTICIPATION / BUSINESS ANALYST\n",
      "BNP Paribas 2\n",
      "Madrid, ES\n",
      "2 days\n",
      "\n",
      "i:6\n",
      "INTERNTIONAL RISK HUB - RISK ANTICIPATION / BUSINESS ANALYST\n",
      "https://www.linkedin.com/jobs/search/?currentJobId=1827599565&keywords=data%20analyst&location=Madrid&start=150\n",
      "1827599565\n",
      "INTERNTIONAL RISK HUB - RISK ANTICIPATION / BUSINESS ANALYST\n",
      "BNP Paribas 2\n",
      "Madrid, ES\n",
      "10 hours\n",
      "\n",
      "i:7\n",
      "Analista visualización de datos\n",
      "https://www.linkedin.com/jobs/search/?currentJobId=1789980046&keywords=data%20analyst&location=Madrid&start=150\n",
      "1789980046\n",
      "Analista visualización de datos\n",
      "El Corte Inglés\n",
      "Madrid, ES\n",
      "1 month\n",
      "\n",
      "i:8\n",
      "Commercial Operations\n",
      "https://www.linkedin.com/jobs/search/?currentJobId=1820306375&keywords=data%20analyst&location=Madrid&start=150\n",
      "1820306375\n",
      "Commercial Operations\n",
      "Quintilesims\n",
      "Madrid, ES\n",
      "1 week\n",
      "\n",
      "i:9\n",
      "Finance Project Manager/Analyst\n",
      "https://www.linkedin.com/jobs/search/?currentJobId=1811890900&keywords=data%20analyst&location=Madrid&start=150\n",
      "1811890900\n",
      "Finance Project Manager/Analyst\n",
      "BNP Paribas 2\n",
      "Madrid, ES\n",
      "1 week\n",
      "\n",
      "i:10\n",
      "Finance Project Manager/Analyst\n",
      "https://www.linkedin.com/jobs/search/?currentJobId=1815830525&keywords=data%20analyst&location=Madrid&start=150\n",
      "1815830525\n",
      "Finance Project Manager/Analyst\n",
      "BNP Paribas 2\n",
      "Madrid, ES\n",
      "1 week\n",
      "\n",
      "i:11\n",
      "Senior Audit Data Analyst En Madrid\n",
      "https://www.linkedin.com/jobs/search/?currentJobId=1824166150&keywords=data%20analyst&location=Madrid&start=150\n",
      "1824166150\n",
      "Senior Audit Data Analyst En Madrid\n",
      "Ing\n",
      "Madrid, ES\n",
      "1 week\n",
      "\n",
      "i:12\n",
      "Finance Project Manager/Analyst\n",
      "https://www.linkedin.com/jobs/search/?currentJobId=1810254385&keywords=data%20analyst&location=Madrid&start=150\n",
      "1810254385\n",
      "Finance Project Manager/Analyst\n",
      "BNP Paribas 2\n",
      "Madrid, ES\n",
      "2 weeks\n",
      "\n",
      "i:13\n",
      "Lead Data Scientist\n",
      "https://www.linkedin.com/jobs/search/?currentJobId=1764841143&keywords=data%20analyst&location=Madrid&start=150\n",
      "1764841143\n",
      "Lead Data Scientist\n",
      "Orbital Ads\n",
      "Madrid, ES\n",
      "1 month\n",
      "\n",
      "i:14\n",
      "Finance Project Manager/Analyst\n",
      "https://www.linkedin.com/jobs/search/?currentJobId=1814958274&keywords=data%20analyst&location=Madrid&start=150\n",
      "1814958274\n",
      "Finance Project Manager/Analyst\n",
      "BNP Paribas 2\n",
      "Madrid, ES\n",
      "1 week\n",
      "\n",
      "i:15\n",
      "Finance Project Manager/Analyst\n",
      "https://www.linkedin.com/jobs/search/?currentJobId=1813388845&keywords=data%20analyst&location=Madrid&start=150\n",
      "1813388845\n",
      "Finance Project Manager/Analyst\n",
      "BNP Paribas 2\n",
      "Madrid, ES\n",
      "1 week\n",
      "\n",
      "i:16\n",
      "INTERNTIONAL RISK HUB - RISK ANTICIPATION / BUSINESS ANALYST\n",
      "https://www.linkedin.com/jobs/search/?currentJobId=1823705590&keywords=data%20analyst&location=Madrid&start=150\n",
      "1823705590\n",
      "INTERNTIONAL RISK HUB - RISK ANTICIPATION / BUSINESS ANALYST\n",
      "BNP Paribas 2\n",
      "Madrid, ES\n",
      "4 days\n",
      "\n",
      "i:17\n",
      "PRÁCTICAS DATA ANALYTICS MADRID\n",
      "https://www.linkedin.com/jobs/search/?currentJobId=1790014971&keywords=data%20analyst&location=Madrid&start=150\n",
      "1790014971\n",
      "PRÁCTICAS DATA ANALYTICS MADRID\n",
      "GLAXOSMITHKLINE, S.A.\n",
      "Madrid, ES\n",
      "4 weeks\n",
      "\n",
      "i:18\n",
      "Work from Home Anywhere in Spain! Search Engine Evaluator\n",
      "https://www.linkedin.com/jobs/search/?currentJobId=1760402644&keywords=data%20analyst&location=Madrid&start=150\n",
      "1760402644\n",
      "Work from Home Anywhere in Spain! Search Engine Evaluator\n",
      "Appen Remote\n",
      "Madrid, ES\n",
      "1 month\n",
      "\n",
      "i:19\n",
      "Why Santander\n",
      "https://www.linkedin.com/jobs/search/?currentJobId=1738747900&keywords=data%20analyst&location=Madrid&start=150\n",
      "1738747900\n",
      "Why Santander\n",
      "Santander Global Tech.\n",
      "Madrid, ES\n",
      "2 months\n",
      "\n",
      "i:20\n",
      "Azure Data Architect Big Data/Analytics- ATOS-MARZO-NATALIA\n",
      "https://www.linkedin.com/jobs/search/?currentJobId=1826301968&keywords=data%20analyst&location=Madrid&start=150\n",
      "1826301968\n",
      "Azure Data Architect Big Data/Analytics- ATOS-MARZO-NATALIA\n",
      "Hasten Group\n",
      "Madrid, ES\n",
      "2 weeks\n",
      "\n",
      "i:21\n",
      "Azure Data Architect Big Data/Analytics\n",
      "https://www.linkedin.com/jobs/search/?currentJobId=1824162669&keywords=data%20analyst&location=Madrid&start=150\n",
      "1824162669\n",
      "Azure Data Architect Big Data/Analytics\n",
      "Grupo Hasten\n",
      "Madrid, ES\n",
      "1 week\n",
      "\n",
      "i:22\n",
      "Senior Digital Analyst_Sector Energía\n",
      "https://www.linkedin.com/jobs/search/?currentJobId=1805124345&keywords=data%20analyst&location=Madrid&start=150\n",
      "1805124345\n",
      "Senior Digital Analyst_Sector Energía\n",
      "Michael Page España\n",
      "Madrid, ES\n",
      "2 weeks\n",
      "\n",
      "i:23\n",
      "Internship: Business Analyst Hf\n",
      "https://www.linkedin.com/jobs/search/?currentJobId=1826998447&keywords=data%20analyst&location=Madrid&start=150\n",
      "1826998447\n",
      "Internship: Business Analyst Hf\n",
      "Civiweb\n",
      "Madrid, ES\n",
      "3 days\n",
      "\n",
      "i:24\n",
      "Senior Business Development Manager - Cloud Economics\n",
      "https://www.linkedin.com/jobs/search/?currentJobId=1714744460&keywords=data%20analyst&location=Madrid&start=150\n",
      "1714744460\n",
      "Senior Business Development Manager - Cloud Economics\n",
      "AmazonWebServices\n",
      "Madrid, ES\n",
      "3 months\n",
      "\n",
      "i:25\n",
      "Cje Investment En Madrid\n",
      "https://www.linkedin.com/jobs/search/?currentJobId=1820239506&keywords=data%20analyst&location=Madrid&start=150\n",
      "1820239506\n",
      "Cje Investment En Madrid\n",
      "Ing\n",
      "Madrid, ES\n",
      "1 week\n",
      "\n",
      "PAGINA: 175\n",
      "i:1\n",
      "Azure Data Architect Big Data/Analytics- Atos-Marzo-Natalia\n",
      "https://www.linkedin.com/jobs/search/?currentJobId=1820279522&keywords=data%20analyst&location=Madrid&start=175\n",
      "1820279522\n",
      "Azure Data Architect Big Data/Analytics- Atos-Marzo-Natalia\n",
      "Grupo Hasten\n",
      "Madrid, ES\n",
      "2 weeks\n",
      "\n",
      "i:2\n",
      "Técnico Operaciones – Comercio Exterior\n",
      "https://www.linkedin.com/jobs/search/?currentJobId=1736988084&keywords=data%20analyst&location=Madrid&start=175\n",
      "1736988084\n",
      "Técnico Operaciones – Comercio Exterior\n",
      "INBESTEAM SALES & HUMAN RESOURCES CONSULTING S.L.\n",
      "Madrid, ES\n",
      "2 months\n",
      "\n",
      "i:3\n",
      "++++++++++++++++  data scientist +++++++++++++++++++\n",
      "383 results\n",
      "<class 'selenium.webdriver.remote.webelement.WebElement'>\n",
      "16\n",
      "400\n",
      "PAGINA: 0\n",
      "i:1\n",
      "Big Data Technical Lead Promoted\n",
      "https://www.linkedin.com/jobs/search/?currentJobId=1794444695&keywords=data%20scientist&location=Madrid\n",
      "1794444695\n",
      "Big Data Technical Lead\n",
      "Solera Global Data & Content\n",
      "Madrid y alrededores, España\n",
      "2 days\n",
      "\n",
      "i:2\n",
      "Senior Business Analyst BIG DATA Promoted\n",
      "https://www.linkedin.com/jobs/search/?currentJobId=1827374608&keywords=data%20scientist&location=Madrid\n",
      "1827374608\n",
      "Senior Business Analyst BIG DATA\n",
      "duonet\n",
      "Boadilla del Monte, Comunidad de Madrid, España\n",
      "13 hours\n",
      "\n",
      "i:3\n",
      "Data Analyst Promoted\n",
      "https://www.linkedin.com/jobs/search/?currentJobId=1822425171&keywords=data%20scientist&location=Madrid\n",
      "1822425171\n",
      "Data Analyst\n",
      "Amazon\n",
      "Madrid, ES\n",
      "1 day\n",
      "\n",
      "i:4\n",
      "Data Analyst Junior\n",
      "https://www.linkedin.com/jobs/search/?currentJobId=1757287796&keywords=data%20scientist&location=Madrid\n",
      "1757287796\n",
      "Data Analyst Junior\n",
      "Tempotel\n",
      "Madrid, ES\n",
      "1 month\n",
      "\n",
      "i:5\n",
      "Data Analyst\n",
      "https://www.linkedin.com/jobs/search/?currentJobId=1819420835&keywords=data%20scientist&location=Madrid\n",
      "1819420835\n",
      "Data Analyst\n",
      "Cigna\n",
      "Madrid, ES\n",
      "2 weeks\n",
      "\n",
      "i:6\n",
      "Senior Data Analyst, Madrid\n",
      "https://www.linkedin.com/jobs/search/?currentJobId=1824857403&keywords=data%20scientist&location=Madrid\n",
      "1824857403\n",
      "Senior Data Analyst, Madrid\n",
      "Farmacias Trebol\n",
      "Provincia de Madrid, ES\n",
      "3 days\n",
      "\n",
      "i:7\n",
      "Junior Data Analyst\n",
      "https://www.linkedin.com/jobs/search/?currentJobId=1789135389&keywords=data%20scientist&location=Madrid\n",
      "1789135389\n",
      "Junior Data Analyst\n",
      "Fever\n",
      "Madrid, ES\n",
      "1 month\n",
      "\n",
      "i:8\n",
      "Data Analyst\n",
      "https://www.linkedin.com/jobs/search/?currentJobId=1596615973&keywords=data%20scientist&location=Madrid\n",
      "1596615973\n",
      "Data Analyst\n",
      "Nexthink\n",
      "Provincia de Madrid, ES\n",
      "1 week\n",
      "\n",
      "i:9\n",
      "Business Data Analyst\n",
      "https://www.linkedin.com/jobs/search/?currentJobId=1710652685&keywords=data%20scientist&location=Madrid\n",
      "1710652685\n",
      "Business Data Analyst\n",
      "Social You\n",
      "Madrid, ES\n",
      "3 months\n",
      "\n",
      "i:10\n",
      "Data Scientist (Customer Interaction Tribe)\n",
      "https://www.linkedin.com/jobs/search/?currentJobId=1812750575&keywords=data%20scientist&location=Madrid\n",
      "1812750575\n",
      "Data Scientist (Customer Interaction Tribe)\n",
      "ING\n",
      "Madrid, ES\n",
      "3 weeks\n",
      "\n",
      "i:11\n",
      "Data Analyst Intern\n",
      "https://www.linkedin.com/jobs/search/?currentJobId=1806494044&keywords=data%20scientist&location=Madrid\n",
      "1806494044\n",
      "Data Analyst Intern\n",
      "Ecolab España\n",
      "Madrid, ES\n",
      "3 weeks\n",
      "\n",
      "i:12\n",
      "Digital Data Analyst (Customer)\n",
      "https://www.linkedin.com/jobs/search/?currentJobId=1723494932&keywords=data%20scientist&location=Madrid\n",
      "1723494932\n",
      "Digital Data Analyst (Customer)\n",
      "JTI (Japan Tobacco International)\n",
      "Madrid, ES\n",
      "2 weeks\n",
      "\n",
      "i:13\n",
      "Data Analyst h/m\n",
      "https://www.linkedin.com/jobs/search/?currentJobId=1784190759&keywords=data%20scientist&location=Madrid\n",
      "1784190759\n",
      "Data Analyst h/m\n",
      "Michael Page\n",
      "Madrid, ES\n",
      "1 month\n",
      "\n",
      "i:14\n",
      "Data Analyst -Scientist - Uber Eats (Sector esencial/Teletrabajo)\n",
      "https://www.linkedin.com/jobs/search/?currentJobId=1747233587&keywords=data%20scientist&location=Madrid\n",
      "1747233587\n",
      "Data Analyst -Scientist - Uber Eats (Sector esencial/Teletrabajo)\n",
      "Adecco\n",
      "Madrid, ES\n",
      "1 month\n",
      "\n",
      "i:15\n",
      "Business Data Analyst\n",
      "https://www.linkedin.com/jobs/search/?currentJobId=1689023330&keywords=data%20scientist&location=Madrid\n",
      "1689023330\n",
      "Business Data Analyst\n",
      "Social You, S.L.\n",
      "Madrid, ES\n",
      "3 months\n",
      "\n",
      "i:16\n",
      "Data Analyst A Coruña\n",
      "https://www.linkedin.com/jobs/search/?currentJobId=1792663933&keywords=data%20scientist&location=Madrid\n",
      "1792663933\n",
      "Data Analyst A Coruña\n",
      "Kabel\n",
      "Madrid, ES\n",
      "3 weeks\n",
      "\n",
      "i:17\n",
      "Data Analyst\n",
      "https://www.linkedin.com/jobs/search/?currentJobId=1748642606&keywords=data%20scientist&location=Madrid\n",
      "1748642606\n",
      "Data Analyst\n",
      "OrbitalAds\n",
      "Madrid, ES\n",
      "1 month\n",
      "\n",
      "i:18\n",
      "Data Analyst\n",
      "https://www.linkedin.com/jobs/search/?currentJobId=1820807100&keywords=data%20scientist&location=Madrid\n",
      "1820807100\n",
      "Data Analyst\n",
      "ES3\n",
      "Madrid, ES\n",
      "1 week\n",
      "\n",
      "i:19\n",
      "Data Scientist\n",
      "https://www.linkedin.com/jobs/search/?currentJobId=1803773792&keywords=data%20scientist&location=Madrid\n",
      "1803773792\n",
      "Data Scientist\n",
      "Telefónica\n",
      "Madrid, ES\n",
      "2 weeks\n",
      "\n",
      "i:20\n",
      "Game Data Analyst - Barcelona\n",
      "https://www.linkedin.com/jobs/search/?currentJobId=1752735572&keywords=data%20scientist&location=Madrid\n",
      "1752735572\n",
      "Game Data Analyst - Barcelona\n",
      "Interactive - Global Games Executive Search\n",
      "Madrid, ES\n",
      "1 month\n",
      "\n",
      "i:21\n",
      "Data Scientist\n",
      "https://www.linkedin.com/jobs/search/?currentJobId=1824164076&keywords=data%20scientist&location=Madrid\n",
      "1824164076\n",
      "Data Scientist\n",
      "SlashMobility\n",
      "Madrid, ES\n",
      "1 week\n",
      "\n",
      "i:22\n",
      "DATA SCIENTIST\n",
      "https://www.linkedin.com/jobs/search/?currentJobId=1787912084&keywords=data%20scientist&location=Madrid\n",
      "1787912084\n",
      "DATA SCIENTIST\n",
      "SEBASTIÁN CONSULTORES\n",
      "Madrid, ES\n",
      "1 month\n",
      "\n",
      "i:23\n",
      "Data Scientist - Intelligence Unit -ID: 200002G7\n",
      "https://www.linkedin.com/jobs/search/?currentJobId=1793573876&keywords=data%20scientist&location=Madrid\n",
      "1793573876\n",
      "Data Scientist - Intelligence Unit -ID: 200002G7\n",
      "Prosegur\n",
      "Madrid, Madrid, España\n",
      "3 weeks\n",
      "\n",
      "i:24\n",
      "Data Analyst\n",
      "https://www.linkedin.com/jobs/search/?currentJobId=1814828331&keywords=data%20scientist&location=Madrid\n",
      "1814828331\n",
      "Data Analyst\n",
      "Teva Pharmaceuticals\n",
      "Madrid, ES\n",
      "1 week\n",
      "\n",
      "i:25\n",
      "Data Scientist - Advanced Analytics\n",
      "https://www.linkedin.com/jobs/search/?currentJobId=1757831422&keywords=data%20scientist&location=Madrid\n",
      "1757831422\n",
      "Data Scientist - Advanced Analytics\n",
      "McKinsey & Company\n",
      "Madrid, ES\n",
      "3 days\n",
      "\n",
      "PAGINA: 25\n",
      "i:1\n",
      "PAGINA: 50\n",
      "i:1\n",
      "Senior Manager, Marketing Analytics (Bangkok Based) Promoted\n",
      "https://www.linkedin.com/jobs/search/?currentJobId=1792221113&keywords=data%20scientist&location=Madrid&start=50\n",
      "1792221113\n",
      "Senior Manager, Marketing Analytics (Bangkok Based)\n",
      "Agoda\n",
      "Madrid, ES\n",
      "4 weeks\n",
      "\n",
      "i:2\n",
      "Cloud operations Senior Engineer (Big Data) Promoted\n",
      "https://www.linkedin.com/jobs/search/?currentJobId=1776819643&keywords=data%20scientist&location=Madrid&start=50\n",
      "1776819643\n",
      "Cloud operations Senior Engineer (Big Data)\n",
      "ERNI\n",
      "Madrid y alrededores\n",
      "2 weeks\n",
      "\n",
      "i:3\n",
      "ES- Consultor Big Data | AWS Promoted\n",
      "https://www.linkedin.com/jobs/search/?currentJobId=1737039929&keywords=data%20scientist&location=Madrid&start=50\n",
      "1737039929\n",
      "ES- Consultor Big Data | AWS\n",
      "Devoteam\n",
      "Madrid, ES\n",
      "1 week\n",
      "\n",
      "i:4\n",
      "Big Data Graduates\n",
      "https://www.linkedin.com/jobs/search/?currentJobId=1608400538&keywords=data%20scientist&location=Madrid&start=50\n",
      "1608400538\n",
      "Big Data Graduates\n",
      "VASS\n",
      "Madrid, ES\n",
      "5 months\n",
      "\n",
      "i:5\n",
      "Data Analyst Scala H/M\n",
      "https://www.linkedin.com/jobs/search/?currentJobId=1821611516&keywords=data%20scientist&location=Madrid&start=50\n",
      "1821611516\n",
      "Data Analyst Scala H/M\n",
      "Experis IT\n",
      "Madrid, Comunidad de Madrid, España\n",
      "2 days\n",
      "\n",
      "i:6\n",
      "Data Scientist\n",
      "https://www.linkedin.com/jobs/search/?currentJobId=1783006846&keywords=data%20scientist&location=Madrid&start=50\n",
      "1783006846\n",
      "Data Scientist\n",
      "Walters People\n",
      "Madrid, ES\n",
      "1 month\n",
      "\n",
      "i:7\n",
      "Head of Data Science\n",
      "https://www.linkedin.com/jobs/search/?currentJobId=1737992400&keywords=data%20scientist&location=Madrid&start=50\n",
      "1737992400\n",
      "Head of Data Science\n",
      "Harnham\n",
      "Madrid, ES\n",
      "1 month\n",
      "\n",
      "i:8\n",
      "Data Scientist/Científico de Datos, Madrid\n",
      "https://www.linkedin.com/jobs/search/?currentJobId=1656457101&keywords=data%20scientist&location=Madrid&start=50\n",
      "1656457101\n",
      "Data Scientist/Científico de Datos, Madrid\n",
      "Smartme Analytics\n",
      "Madrid, ES\n",
      "3 months\n",
      "\n",
      "i:9\n",
      "Senior Data Scientist\n",
      "https://www.linkedin.com/jobs/search/?currentJobId=1793594820&keywords=data%20scientist&location=Madrid&start=50\n",
      "1793594820\n",
      "Senior Data Scientist\n",
      "EVO Banco\n",
      "Madrid y alrededores, España\n",
      "3 weeks\n",
      "\n",
      "i:10\n",
      "Senior Data Analyst & Data Scientist\n",
      "https://www.linkedin.com/jobs/search/?currentJobId=1645918674&keywords=data%20scientist&location=Madrid&start=50\n",
      "1645918674\n",
      "Senior Data Analyst & Data Scientist\n",
      "Ekkiden\n",
      "Madrid, ES\n",
      "4 months\n",
      "\n",
      "i:11\n",
      "Data Analyst & Revenue Management (m/h) | Madrid | Proceso Cerrado\n",
      "https://www.linkedin.com/jobs/search/?currentJobId=1535954112&keywords=data%20scientist&location=Madrid&start=50\n",
      "1535954112\n",
      "Data Analyst & Revenue Management (m/h) | Madrid | Proceso Cerrado\n",
      "AIRHE Consultoría Estratégica de Recursos Humanos, Selección de Profesionales y Bienestar Laboral.\n",
      "Madrid, ES\n",
      "6 months\n",
      "\n",
      "i:12\n",
      "Beca Data Scientist\n",
      "https://www.linkedin.com/jobs/search/?currentJobId=1760103587&keywords=data%20scientist&location=Madrid&start=50\n",
      "1760103587\n",
      "Beca Data Scientist\n",
      "Mediaset España\n",
      "Madrid, ES\n",
      "1 month\n",
      "\n",
      "i:13\n",
      "Big Data Engineer\n",
      "https://www.linkedin.com/jobs/search/?currentJobId=1530613115&keywords=data%20scientist&location=Madrid&start=50\n",
      "1530613115\n",
      "Big Data Engineer\n",
      "ADEREN\n",
      "Madrid, Comunidad de Madrid, España\n",
      "13 hours\n",
      "\n",
      "i:14\n",
      "Big Data Engineer\n",
      "https://www.linkedin.com/jobs/search/?currentJobId=1801634524&keywords=data%20scientist&location=Madrid&start=50\n",
      "1801634524\n",
      "Big Data Engineer\n",
      "ING España&Portugal\n",
      "Madrid y alrededores, España\n",
      "2 weeks\n",
      "\n",
      "i:15\n",
      "Data Scientist -Madrid\n",
      "https://www.linkedin.com/jobs/search/?currentJobId=1776600138&keywords=data%20scientist&location=Madrid&start=50\n",
      "1776600138\n",
      "Data Scientist -Madrid\n",
      "IT Partner España\n",
      "Madrid, ES\n",
      "1 month\n",
      "\n",
      "i:16\n",
      "Big Data Engineer\n",
      "https://www.linkedin.com/jobs/search/?currentJobId=1757358716&keywords=data%20scientist&location=Madrid&start=50\n",
      "1757358716\n",
      "Big Data Engineer\n",
      "Vodafone\n",
      "Madrid, ES\n",
      "1 month\n",
      "\n",
      "i:17\n",
      "Senior Data Engineer BIG DATA\n",
      "https://www.linkedin.com/jobs/search/?currentJobId=1800922190&keywords=data%20scientist&location=Madrid&start=50\n",
      "1800922190\n",
      "Senior Data Engineer BIG DATA\n",
      "KEEDIO\n",
      "Madrid y alrededores, España\n",
      "3 days\n",
      "\n",
      "i:18\n",
      "Big Data Architect\n",
      "https://www.linkedin.com/jobs/search/?currentJobId=1712815769&keywords=data%20scientist&location=Madrid&start=50\n",
      "1712815769\n",
      "Big Data Architect\n",
      "everis\n",
      "Madrid y alrededores, España\n",
      "3 weeks\n",
      "\n",
      "i:19\n",
      "Big Data Analyst\n",
      "https://www.linkedin.com/jobs/search/?currentJobId=1792790683&keywords=data%20scientist&location=Madrid&start=50\n",
      "1792790683\n",
      "Big Data Analyst\n",
      "satec\n",
      "Madrid, Comunidad de Madrid, España\n",
      "3 weeks\n",
      "\n",
      "i:20\n",
      "Data Scientist for insurance\n",
      "https://www.linkedin.com/jobs/search/?currentJobId=1808561387&keywords=data%20scientist&location=Madrid&start=50\n",
      "1808561387\n",
      "Data Scientist for insurance\n",
      "TCP Sistemas e Ingeniería\n",
      "Madrid, Community of Madrid, Spain\n",
      "2 weeks\n",
      "\n",
      "i:21\n",
      "Técnico de soporte de aplicaciones Big Data\n",
      "https://www.linkedin.com/jobs/search/?currentJobId=1801619936&keywords=data%20scientist&location=Madrid&start=50\n",
      "1801619936\n",
      "Técnico de soporte de aplicaciones Big Data\n",
      "Experis\n",
      "Madrid, Comunidad de Madrid, España\n",
      "2 weeks\n",
      "\n",
      "i:22\n",
      "InnoIT: Senior data scientist\n",
      "https://www.linkedin.com/jobs/search/?currentJobId=1827009011&keywords=data%20scientist&location=Madrid&start=50\n",
      "1827009011\n",
      "InnoIT: Senior data scientist\n",
      "InnoIT Pty. Ltd.\n",
      "Madrid, ES\n",
      "3 weeks\n",
      "\n",
      "i:23\n",
      "Big Data Consultor\n",
      "https://www.linkedin.com/jobs/search/?currentJobId=1644581235&keywords=data%20scientist&location=Madrid&start=50\n",
      "1644581235\n",
      "Big Data Consultor\n",
      "GreenLynx\n",
      "Madrid, ES\n",
      "4 months\n",
      "\n",
      "i:24\n",
      "Consultor Power Center- Big Data\n",
      "https://www.linkedin.com/jobs/search/?currentJobId=1812761383&keywords=data%20scientist&location=Madrid&start=50\n",
      "1812761383\n",
      "Consultor Power Center- Big Data\n",
      "EULEN Flexiplán\n",
      "Madrid y alrededores, España\n",
      "1 week\n",
      "\n",
      "i:25\n",
      "Big Data Developer\n",
      "https://www.linkedin.com/jobs/search/?currentJobId=1732867132&keywords=data%20scientist&location=Madrid&start=50\n",
      "1732867132\n",
      "Big Data Developer\n",
      "Empléate con Talento\n",
      "Madrid, ES\n",
      "2 months\n",
      "\n",
      "PAGINA: 75\n",
      "i:1\n",
      "Arquitecto Big Data Promoted\n",
      "https://www.linkedin.com/jobs/search/?currentJobId=1715476074&keywords=data%20scientist&location=Madrid&start=75\n",
      "1715476074\n",
      "Arquitecto Big Data\n",
      "BABEL\n",
      "Madrid, Comunidad de Madrid, España\n",
      "1 day\n",
      "\n",
      "i:2\n",
      "Big Data Developer - Full stack Promoted\n",
      "https://www.linkedin.com/jobs/search/?currentJobId=1800961452&keywords=data%20scientist&location=Madrid&start=75\n",
      "1800961452\n",
      "Big Data Developer - Full stack\n",
      "Fujitsu Spain\n",
      "Madrid, Community of Madrid, Spain\n",
      "2 days\n",
      "\n",
      "i:3\n",
      "ARQUITECTO BIG DATA Promoted\n",
      "https://www.linkedin.com/jobs/search/?currentJobId=1813087491&keywords=data%20scientist&location=Madrid&start=75\n",
      "1813087491\n",
      "ARQUITECTO BIG DATA\n",
      "Datio Big Data\n",
      "Pozuelo de Alarcon, Madrid, España\n",
      "1 week\n",
      "\n",
      "i:4\n",
      "Cloud Data Scientist - Banking\n",
      "https://www.linkedin.com/jobs/search/?currentJobId=1797117743&keywords=data%20scientist&location=Madrid&start=75\n",
      "1797117743\n",
      "Cloud Data Scientist - Banking\n",
      "Apollo Solutions\n",
      "Madrid, ES\n",
      "3 weeks\n",
      "\n",
      "i:5\n",
      "Científico de datos junior\n",
      "https://www.linkedin.com/jobs/search/?currentJobId=1755643462&keywords=data%20scientist&location=Madrid&start=75\n",
      "1755643462\n",
      "Científico de datos junior\n",
      "Apara\n",
      "Madrid, ES\n",
      "1 month\n",
      "\n",
      "i:6\n",
      "Profesionales Big Data\n",
      "https://www.linkedin.com/jobs/search/?currentJobId=1812956709&keywords=data%20scientist&location=Madrid&start=75\n",
      "1812956709\n",
      "Profesionales Big Data\n",
      "ConsulSAP\n",
      "Madrid, ES\n",
      "2 weeks\n",
      "\n",
      "i:7\n",
      "BIG DATA ARCHITECT in MADRID, SPAIN (m/f)\n",
      "https://www.linkedin.com/jobs/search/?currentJobId=1820624340&keywords=data%20scientist&location=Madrid&start=75\n",
      "1820624340\n",
      "BIG DATA ARCHITECT in MADRID, SPAIN (m/f)\n",
      "GT Linkers\n",
      "Madrid, ES\n",
      "6 days\n",
      "\n",
      "i:8\n",
      "Senior Data Scientist\n",
      "https://www.linkedin.com/jobs/search/?currentJobId=1468669654&keywords=data%20scientist&location=Madrid&start=75\n",
      "1468669654\n",
      "Senior Data Scientist\n",
      "Clarity AI\n",
      "Madrid, ES\n",
      "7 months\n",
      "\n",
      "i:9\n",
      "Ingeniero Big Data\n",
      "https://www.linkedin.com/jobs/search/?currentJobId=1657281055&keywords=data%20scientist&location=Madrid&start=75\n",
      "1657281055\n",
      "Ingeniero Big Data\n",
      "Capgemini\n",
      "Madrid, ES\n",
      "3 months\n",
      "\n",
      "i:10\n",
      "Perfiles Big Data/BI\n",
      "https://www.linkedin.com/jobs/search/?currentJobId=1475236017&keywords=data%20scientist&location=Madrid&start=75\n",
      "1475236017\n",
      "Perfiles Big Data/BI\n",
      "Second Window\n",
      "Madrid, ES\n",
      "8 months\n",
      "\n",
      "i:11\n",
      "Desarrollador Spark (Big Data)\n",
      "https://www.linkedin.com/jobs/search/?currentJobId=1765675238&keywords=data%20scientist&location=Madrid&start=75\n",
      "1765675238\n",
      "Desarrollador Spark (Big Data)\n",
      "Digital Talent Agency\n",
      "Las Tablas, ES\n",
      "1 month\n",
      "\n",
      "i:12\n",
      "Senior Manager (SVP) of Data Science & Analytics\n",
      "https://www.linkedin.com/jobs/search/?currentJobId=1805767802&keywords=data%20scientist&location=Madrid&start=75\n",
      "1805767802\n",
      "Senior Manager (SVP) of Data Science & Analytics\n",
      "Quotacom\n",
      "Madrid, Community of Madrid, Spain\n",
      "2 weeks\n",
      "\n",
      "i:13\n",
      "Big Data project manager\n",
      "https://www.linkedin.com/jobs/search/?currentJobId=1800970234&keywords=data%20scientist&location=Madrid&start=75\n",
      "1800970234\n",
      "Big Data project manager\n",
      "jobleads.com - Careers for Senior-Level Professionals\n",
      "Madrid, ES\n",
      "1 week\n",
      "\n",
      "i:14\n",
      "Consultor Big Data\n",
      "https://www.linkedin.com/jobs/search/?currentJobId=1276765090&keywords=data%20scientist&location=Madrid&start=75\n",
      "1276765090\n",
      "Consultor Big Data\n",
      "GPConsultores\n",
      "Madrid, ES\n",
      "11 months\n",
      "\n",
      "i:15\n",
      "IT PROJECT MANAGER - BIG DATA\n",
      "https://www.linkedin.com/jobs/search/?currentJobId=1801633891&keywords=data%20scientist&location=Madrid&start=75\n",
      "1801633891\n",
      "IT PROJECT MANAGER - BIG DATA\n",
      "KPMG\n",
      "Madrid y alrededores, España\n",
      "2 weeks\n",
      "\n",
      "i:16\n",
      "DATA ANALYST ( German Speaker )\n",
      "https://www.linkedin.com/\n",
      "PAGINA: 100\n"
     ]
    },
    {
     "ename": "NoSuchElementException",
     "evalue": "Message: no such element: Unable to locate element: {\"method\":\"xpath\",\"selector\":\"//div[@class='jobs-search-results jobs-search-results--is-two-pane']\"}\n  (Session info: chrome=80.0.3987.122)\n",
     "output_type": "error",
     "traceback": [
      "\u001b[1;31m---------------------------------------------------------------------------\u001b[0m",
      "\u001b[1;31mNoSuchElementException\u001b[0m                    Traceback (most recent call last)",
      "\u001b[1;32m<ipython-input-130-beee4ed94067>\u001b[0m in \u001b[0;36m<module>\u001b[1;34m\u001b[0m\n\u001b[0;32m     40\u001b[0m         \u001b[1;31m# Taking table of job posts\u001b[0m\u001b[1;33m\u001b[0m\u001b[1;33m\u001b[0m\u001b[1;33m\u001b[0m\u001b[0m\n\u001b[0;32m     41\u001b[0m         \u001b[0mtabla_izq\u001b[0m \u001b[1;33m=\u001b[0m \u001b[0mbrowser\u001b[0m\u001b[1;33m.\u001b[0m\u001b[0mfind_element_by_xpath\u001b[0m\u001b[0;31m\\\u001b[0m\u001b[1;33m\u001b[0m\u001b[1;33m\u001b[0m\u001b[0m\n\u001b[1;32m---> 42\u001b[1;33m         \u001b[1;33m(\u001b[0m\u001b[1;34m\"//div[@class='jobs-search-results jobs-search-results--is-two-pane']\"\u001b[0m\u001b[1;33m)\u001b[0m\u001b[1;33m\u001b[0m\u001b[1;33m\u001b[0m\u001b[0m\n\u001b[0m\u001b[0;32m     43\u001b[0m \u001b[1;33m\u001b[0m\u001b[0m\n\u001b[0;32m     44\u001b[0m         \"\"\"\n",
      "\u001b[1;32m~\\AppData\\Local\\Continuum\\anaconda3\\envs\\final_project\\lib\\site-packages\\selenium\\webdriver\\remote\\webdriver.py\u001b[0m in \u001b[0;36mfind_element_by_xpath\u001b[1;34m(self, xpath)\u001b[0m\n\u001b[0;32m    392\u001b[0m             \u001b[0melement\u001b[0m \u001b[1;33m=\u001b[0m \u001b[0mdriver\u001b[0m\u001b[1;33m.\u001b[0m\u001b[0mfind_element_by_xpath\u001b[0m\u001b[1;33m(\u001b[0m\u001b[1;34m'//div/td[1]'\u001b[0m\u001b[1;33m)\u001b[0m\u001b[1;33m\u001b[0m\u001b[1;33m\u001b[0m\u001b[0m\n\u001b[0;32m    393\u001b[0m         \"\"\"\n\u001b[1;32m--> 394\u001b[1;33m         \u001b[1;32mreturn\u001b[0m \u001b[0mself\u001b[0m\u001b[1;33m.\u001b[0m\u001b[0mfind_element\u001b[0m\u001b[1;33m(\u001b[0m\u001b[0mby\u001b[0m\u001b[1;33m=\u001b[0m\u001b[0mBy\u001b[0m\u001b[1;33m.\u001b[0m\u001b[0mXPATH\u001b[0m\u001b[1;33m,\u001b[0m \u001b[0mvalue\u001b[0m\u001b[1;33m=\u001b[0m\u001b[0mxpath\u001b[0m\u001b[1;33m)\u001b[0m\u001b[1;33m\u001b[0m\u001b[1;33m\u001b[0m\u001b[0m\n\u001b[0m\u001b[0;32m    395\u001b[0m \u001b[1;33m\u001b[0m\u001b[0m\n\u001b[0;32m    396\u001b[0m     \u001b[1;32mdef\u001b[0m \u001b[0mfind_elements_by_xpath\u001b[0m\u001b[1;33m(\u001b[0m\u001b[0mself\u001b[0m\u001b[1;33m,\u001b[0m \u001b[0mxpath\u001b[0m\u001b[1;33m)\u001b[0m\u001b[1;33m:\u001b[0m\u001b[1;33m\u001b[0m\u001b[1;33m\u001b[0m\u001b[0m\n",
      "\u001b[1;32m~\\AppData\\Local\\Continuum\\anaconda3\\envs\\final_project\\lib\\site-packages\\selenium\\webdriver\\remote\\webdriver.py\u001b[0m in \u001b[0;36mfind_element\u001b[1;34m(self, by, value)\u001b[0m\n\u001b[0;32m    976\u001b[0m         return self.execute(Command.FIND_ELEMENT, {\n\u001b[0;32m    977\u001b[0m             \u001b[1;34m'using'\u001b[0m\u001b[1;33m:\u001b[0m \u001b[0mby\u001b[0m\u001b[1;33m,\u001b[0m\u001b[1;33m\u001b[0m\u001b[1;33m\u001b[0m\u001b[0m\n\u001b[1;32m--> 978\u001b[1;33m             'value': value})['value']\n\u001b[0m\u001b[0;32m    979\u001b[0m \u001b[1;33m\u001b[0m\u001b[0m\n\u001b[0;32m    980\u001b[0m     \u001b[1;32mdef\u001b[0m \u001b[0mfind_elements\u001b[0m\u001b[1;33m(\u001b[0m\u001b[0mself\u001b[0m\u001b[1;33m,\u001b[0m \u001b[0mby\u001b[0m\u001b[1;33m=\u001b[0m\u001b[0mBy\u001b[0m\u001b[1;33m.\u001b[0m\u001b[0mID\u001b[0m\u001b[1;33m,\u001b[0m \u001b[0mvalue\u001b[0m\u001b[1;33m=\u001b[0m\u001b[1;32mNone\u001b[0m\u001b[1;33m)\u001b[0m\u001b[1;33m:\u001b[0m\u001b[1;33m\u001b[0m\u001b[1;33m\u001b[0m\u001b[0m\n",
      "\u001b[1;32m~\\AppData\\Local\\Continuum\\anaconda3\\envs\\final_project\\lib\\site-packages\\selenium\\webdriver\\remote\\webdriver.py\u001b[0m in \u001b[0;36mexecute\u001b[1;34m(self, driver_command, params)\u001b[0m\n\u001b[0;32m    319\u001b[0m         \u001b[0mresponse\u001b[0m \u001b[1;33m=\u001b[0m \u001b[0mself\u001b[0m\u001b[1;33m.\u001b[0m\u001b[0mcommand_executor\u001b[0m\u001b[1;33m.\u001b[0m\u001b[0mexecute\u001b[0m\u001b[1;33m(\u001b[0m\u001b[0mdriver_command\u001b[0m\u001b[1;33m,\u001b[0m \u001b[0mparams\u001b[0m\u001b[1;33m)\u001b[0m\u001b[1;33m\u001b[0m\u001b[1;33m\u001b[0m\u001b[0m\n\u001b[0;32m    320\u001b[0m         \u001b[1;32mif\u001b[0m \u001b[0mresponse\u001b[0m\u001b[1;33m:\u001b[0m\u001b[1;33m\u001b[0m\u001b[1;33m\u001b[0m\u001b[0m\n\u001b[1;32m--> 321\u001b[1;33m             \u001b[0mself\u001b[0m\u001b[1;33m.\u001b[0m\u001b[0merror_handler\u001b[0m\u001b[1;33m.\u001b[0m\u001b[0mcheck_response\u001b[0m\u001b[1;33m(\u001b[0m\u001b[0mresponse\u001b[0m\u001b[1;33m)\u001b[0m\u001b[1;33m\u001b[0m\u001b[1;33m\u001b[0m\u001b[0m\n\u001b[0m\u001b[0;32m    322\u001b[0m             response['value'] = self._unwrap_value(\n\u001b[0;32m    323\u001b[0m                 response.get('value', None))\n",
      "\u001b[1;32m~\\AppData\\Local\\Continuum\\anaconda3\\envs\\final_project\\lib\\site-packages\\selenium\\webdriver\\remote\\errorhandler.py\u001b[0m in \u001b[0;36mcheck_response\u001b[1;34m(self, response)\u001b[0m\n\u001b[0;32m    240\u001b[0m                 \u001b[0malert_text\u001b[0m \u001b[1;33m=\u001b[0m \u001b[0mvalue\u001b[0m\u001b[1;33m[\u001b[0m\u001b[1;34m'alert'\u001b[0m\u001b[1;33m]\u001b[0m\u001b[1;33m.\u001b[0m\u001b[0mget\u001b[0m\u001b[1;33m(\u001b[0m\u001b[1;34m'text'\u001b[0m\u001b[1;33m)\u001b[0m\u001b[1;33m\u001b[0m\u001b[1;33m\u001b[0m\u001b[0m\n\u001b[0;32m    241\u001b[0m             \u001b[1;32mraise\u001b[0m \u001b[0mexception_class\u001b[0m\u001b[1;33m(\u001b[0m\u001b[0mmessage\u001b[0m\u001b[1;33m,\u001b[0m \u001b[0mscreen\u001b[0m\u001b[1;33m,\u001b[0m \u001b[0mstacktrace\u001b[0m\u001b[1;33m,\u001b[0m \u001b[0malert_text\u001b[0m\u001b[1;33m)\u001b[0m\u001b[1;33m\u001b[0m\u001b[1;33m\u001b[0m\u001b[0m\n\u001b[1;32m--> 242\u001b[1;33m         \u001b[1;32mraise\u001b[0m \u001b[0mexception_class\u001b[0m\u001b[1;33m(\u001b[0m\u001b[0mmessage\u001b[0m\u001b[1;33m,\u001b[0m \u001b[0mscreen\u001b[0m\u001b[1;33m,\u001b[0m \u001b[0mstacktrace\u001b[0m\u001b[1;33m)\u001b[0m\u001b[1;33m\u001b[0m\u001b[1;33m\u001b[0m\u001b[0m\n\u001b[0m\u001b[0;32m    243\u001b[0m \u001b[1;33m\u001b[0m\u001b[0m\n\u001b[0;32m    244\u001b[0m     \u001b[1;32mdef\u001b[0m \u001b[0m_value_or_default\u001b[0m\u001b[1;33m(\u001b[0m\u001b[0mself\u001b[0m\u001b[1;33m,\u001b[0m \u001b[0mobj\u001b[0m\u001b[1;33m,\u001b[0m \u001b[0mkey\u001b[0m\u001b[1;33m,\u001b[0m \u001b[0mdefault\u001b[0m\u001b[1;33m)\u001b[0m\u001b[1;33m:\u001b[0m\u001b[1;33m\u001b[0m\u001b[1;33m\u001b[0m\u001b[0m\n",
      "\u001b[1;31mNoSuchElementException\u001b[0m: Message: no such element: Unable to locate element: {\"method\":\"xpath\",\"selector\":\"//div[@class='jobs-search-results jobs-search-results--is-two-pane']\"}\n  (Session info: chrome=80.0.3987.122)\n"
     ]
    }
   ],
   "source": [
    "# iterator of JOB LIST\n",
    "for j in jobs_list:\n",
    "    \n",
    "    # Getting each job for the search\n",
    "    print(f'++++++++++++++++  {j} +++++++++++++++++++')\n",
    "    job_title_df  = j\n",
    "    job_title_s   = j.replace(' ', '%20')\n",
    "    \n",
    "    # Getting number of pages for each search\n",
    "    n_pages = n_pages_linkedin(browser,job_title_s, location)\n",
    "    last_job_page = n_pages*25\n",
    "    print(last_job_page)  \n",
    "    \n",
    "    \n",
    "    \n",
    "    # iterator of JOB PAGES\n",
    "    for p in range(0,last_job_page,25):\n",
    "    #for p in range(0,1):\n",
    "\n",
    "        print(f'PAGINA: {p}')\n",
    "\n",
    "        #Exploring each page with maximum 25 job posts\n",
    "        JOB_URL = f'https://www.linkedin.com/jobs/search/?keywords={job_title_s}&location={location}&start={p}'\n",
    "        browser.get(JOB_URL)\n",
    "        \n",
    "        if p=0:\n",
    "            time.sleep(2)\n",
    "        else:\n",
    "            time.sleep(0.5)\n",
    "\n",
    "        \"\"\"\n",
    "        #activate all job posts in each page \n",
    "        if results > 25:\n",
    "            try:\n",
    "                pages = browser.find_element_by_xpath\\\n",
    "                ('/html/body/div[5]/div[4]/div[3]/section[1]/div[2]/div/div/div[1]/div[2]/div/section/artdeco-pagination/ul')\n",
    "            except:\n",
    "                pages = browser.find_element_by_xpath\\\n",
    "                ('/html/body/div[6]/div[4]/div[3]/section[1]/div[2]/div/div/div[1]/div[2]/div/section/artdeco-pagination/ul')\n",
    "        actions = ActionChains(browser)\n",
    "        actions.move_to_element(pages).perform()\n",
    "        \"\"\"\n",
    "\n",
    "        # Taking table of job posts\n",
    "        tabla_izq = browser.find_element_by_xpath\\\n",
    "        (\"//div[@class='jobs-search-results jobs-search-results--is-two-pane']\")\n",
    "        \n",
    "        \n",
    "        \"\"\"\n",
    "        try:\n",
    "            if browser.find_element_by_xpath(\"/html/body/div[5]/div[4]/div[3]/section[1]/div[2]/div/div/div[1]\"):\n",
    "                tabla_izq = browser.find_element_by_xpath(\"/html/body/div[5]/div[4]/div[3]/section[1]/div[2]/div/div/div[1]\")\n",
    "            elif browser.find_element_by_xpath(\"/html/body/div[6]/div[4]/div[3]/section[1]/div[2]/div/div/div[1]\"):\n",
    "                tabla_izq = browser.find_element_by_xpath(\"/html/body/div[6]/div[4]/div[3]/section[1]/div[2]/div/div/div[1]\") \n",
    "        except:\n",
    "            JOB_URL = f'https://www.linkedin.com/jobs/search/?keywords={job_title_s}&location={location}&start={p}'\n",
    "            browser.get(JOB_URL)\n",
    "            time.sleep(0.2)\n",
    "\n",
    "            if browser.find_element_by_xpath(\"/html/body/div[5]/div[4]/div[3]/section[1]/div[2]/div/div/div[1]\"):\n",
    "                tabla_izq = browser.find_element_by_xpath(\"/html/body/div[5]/div[4]/div[3]/section[1]/div[2]/div/div/div[1]\")\n",
    "            elif browser.find_element_by_xpath(\"/html/body/div[6]/div[4]/div[3]/section[1]/div[2]/div/div/div[1]\"):\n",
    "                tabla_izq = browser.find_element_by_xpath(\"/html/body/div[6]/div[4]/div[3]/section[1]/div[2]/div/div/div[1]\") \n",
    "        \"\"\"\n",
    "\n",
    "        #try:\n",
    "        #    tabla_izq = \\\n",
    "        #        browser.find_element_by_xpath(\"/html/body/div[5]/div[4]/div[3]/section[1]/div[2]/div/div/div[1]\")\n",
    "        #except:\n",
    "        #    tabla_izq = \\\n",
    "        #        browser.find_element_by_xpath(\"/html/body/div[6]/div[4]/div[3]/section[1]/div[2]/div/div/div[1]\")         \n",
    "        #time.sleep(0.5)\n",
    "\n",
    "        \"\"\"\n",
    "        # Getting quantity of job posts that you CAN SEE directly in each page\n",
    "        if p < (last_job_page-25):\n",
    "            job_list = \\\n",
    "            tabla_izq.text.split('Manage alerts\\n')[1].split('Close\\n')[0].split('ago')    \n",
    "        else:\n",
    "            job_list = \\\n",
    "            tabla_izq.text.split('Manage alerts\\n')[1].split('Close\\n')[0].split('Create alert for this search\\n')[0].split('ago')\n",
    "        \n",
    "        n_job_list = len(job_list)-1\n",
    "        print(f'Lista de trabajos visibles:{n_job_list}') \n",
    "        time.sleep(0.1)\n",
    "        \"\"\"\n",
    "        \n",
    "        # iterator of JOB LIST\n",
    "        # iterator of jobs posts\n",
    "        i=1\n",
    "        error=False\n",
    "        \n",
    "        while i<=25 and error==False:\n",
    "        #for i in range(1,n_job_list+1):\n",
    "            \n",
    "            try:\n",
    "\n",
    "                print(f'i:{i}')\n",
    "                \n",
    "                # Selecting job post in order to click on it\n",
    "                job_post = j_post(browser, i)\n",
    "                \n",
    "                \"\"\"\n",
    "                # Selecting job post in order to click on it\n",
    "                if   browser.find_element_by_xpath\\\n",
    "                    (f'/html/body/div[5]/div[4]/div[3]/section[1]/div[2]/div/div/div[1]/div[2]/div/ul/li[{i}]/div/artdeco-entity-lockup/artdeco-entity-lockup-content/h3/a'):\n",
    "                    job_post = browser.find_element_by_xpath\\\n",
    "                    (f'/html/body/div[5]/div[4]/div[3]/section[1]/div[2]/div/div/div[1]/div[2]/div/ul/li[{i}]/div/artdeco-entity-lockup/artdeco-entity-lockup-content/h3/a')\n",
    "                    #  /html/body/div[5]/div[4]/div[3]/section[1]/div[2]/div/div/div[1]/div[2]/div/ul/li[ 1 ]/div/artdeco-entity-lockup/artdeco-entity-lockup-content/h3/a\n",
    "                    #  /html/body/div[5]/div[4]/div[3]/section[1]/div[2]/div/div/div[1]/div[2]/div/ul/li[ 1 ]/div/artdeco-entity-lockup/artdeco-entity-lockup-content/h3/a\n",
    "                elif browser.find_element_by_xpath\\\n",
    "                    (f'/html/body/div[6]/div[4]/div[3]/section[1]/div[2]/div/div/div[1]/div[2]/div/ul/li[{i}]/div/artdeco-entity-lockup/artdeco-entity-lockup-content/h3/a'):\n",
    "                    job_post = browser.find_element_by_xpath\\\n",
    "                    (f'/html/body/div[6]/div[4]/div[3]/section[1]/div[2]/div/div/div[1]/div[2]/div/ul/li[{i}]/div/artdeco-entity-lockup/artdeco-entity-lockup-content/h3/a')\n",
    "\n",
    "                elif browser.find_element_by_xpath\\\n",
    "                    (f'/html/body/div[5]/div[4]/div[3]/section[1]/div[2]/div/div/div[1]/div[2]/div[2]/ul/li[{i}]/div/artdeco-entity-lockup/artdeco-entity-lockup-content/h3/a'):\n",
    "                    job_post = browser.find_element_by_xpath\\\n",
    "                    (f'/html/body/div[5]/div[4]/div[3]/section[1]/div[2]/div/div/div[1]/div[2]/div[2]/ul/li[{i}]/div/artdeco-entity-lockup/artdeco-entity-lockup-content/h3/a')\n",
    "\n",
    "                elif browser.find_element_by_xpath\\\n",
    "                    (f'/html/body/div[6]/div[4]/div[3]/section[1]/div[2]/div/div/div[1]/div[2]/div[2]/ul/li[{i}]/div/artdeco-entity-lockup/artdeco-entity-lockup-content/h3/a'):\n",
    "                    job_post = browser.find_element_by_xpath\\\n",
    "                    (f'/html/body/div[6]/div[4]/div[3]/section[1]/div[2]/div/div/div[1]/div[2]/div[2]/ul/li[{i}]/div/artdeco-entity-lockup/artdeco-entity-lockup-content/h3/a')\n",
    "                \"\"\"\n",
    "                \n",
    "                #try:\n",
    "                #    job_post = browser.find_element_by_xpath\\\n",
    "                #    (f'/html/body/div[5]/div[4]/div[3]/section[1]/div[2]/div/div/div[1]/div[2]/div/ul/li[{i}]/div/artdeco-entity-lockup/artdeco-entity-lockup-content/h3/a')\n",
    "                #except:\n",
    "                #    job_post = browser.find_element_by_xpath\\\n",
    "                #    (f'/html/body/div[6]/div[4]/div[3]/section[1]/div[2]/div/div/div[1]/div[2]/div/ul/li[{i}]/div/artdeco-entity-lockup/artdeco-entity-lockup-content/h3/a')\n",
    "\n",
    "                print(job_post.text)\n",
    "                job_post.click()\n",
    "                time.sleep(0.1)\n",
    "\n",
    "                # Getting current job ID\n",
    "                print(browser.current_url)      \n",
    "                currentJobId = browser.current_url.split('currentJobId=')[1].split('&')[0] #col1_pd\n",
    "                # if you wanna watch the job page\n",
    "                job_html = f'https://www.linkedin.com/jobs/view/{currentJobId}/'\n",
    "                print(f'{currentJobId}')\n",
    "\n",
    "                # Extracting job information on the right side\n",
    "                job_post_right = browser.find_element_by_xpath(\"//div[@class='jobs-search-two-pane__details pt4 ph3 jobs-search-two-pane__details ember-view']\")   \n",
    "                \n",
    "                \"\"\"\n",
    "                try:\n",
    "                    job_post_right = browser.find_element_by_xpath\\\n",
    "                        ('/html/body/div[5]/div[4]/div[3]/section[1]/div[2]/div/div/div[2]')\n",
    "                except:\n",
    "                    job_post_right = browser.find_element_by_xpath\\\n",
    "                        ('/html/body/div[6]/div[4]/div[3]/section[1]/div[2]/div/div/div[2]')\n",
    "                \"\"\"\n",
    "                #getting info and only separating: job name, company name, company location\n",
    "                #job_post_right_content    = job_post_right.text.split('\\n', 5)\n",
    "                \n",
    "                ##################################################################################################\n",
    "                #Job name\n",
    "                job_post_name             = job_post_right.text.split('\\n', 1)[0]\n",
    "\n",
    "                #Company name > Sometimes there is no info here\n",
    "                if job_post_right.text.split('Company Name\\n',1)[1].split('\\n')[0] == 'Company Location':\n",
    "                    job_post_company_name = \"\"\n",
    "                else:\n",
    "                    job_post_company_name = job_post_right.text.split('Company Name\\n',1)[1].split('\\n')[0]\n",
    "\n",
    "                #Location\n",
    "                job_post_company_location = job_post_right.text.split('Company Location\\n',1)[1].split('\\n')[0]\n",
    "\n",
    "                #Posted date\n",
    "                job_post_posted_date      = job_post_right.text.split(' ago',1)[0].split('Posted Date\\nPosted ')[1]\n",
    "                if   job_post_posted_date.split(\" \")[1] in ['hour', 'hours']:\n",
    "                    job_post_estimated_date = now - timedelta(hours =     int(job_post_posted_date.split(\" \")[0]))\n",
    "                elif job_post_posted_date.split(\" \")[1] in ['day', 'days']:\n",
    "                    job_post_estimated_date = now - timedelta(days  =     int(job_post_posted_date.split(\" \")[0]))\n",
    "                elif job_post_posted_date.split(\" \")[1] in ['week', 'weeks']:\n",
    "                    job_post_estimated_date = now - timedelta(weeks =     int(job_post_posted_date.split(\" \")[0]))\n",
    "                elif job_post_posted_date.split(\" \")[1] in ['month', 'months']:\n",
    "                    job_post_estimated_date = now - timedelta(weeks =   4*int(job_post_posted_date.split(\" \")[0]))\n",
    "                elif job_post_posted_date.split(\" \")[1] in ['year', 'years']:\n",
    "                    job_post_estimated_date = now - timedelta(weeks = 365*int(job_post_posted_date.split(\" \")[0]))\n",
    "\n",
    "                #Easy apply: T/F\n",
    "                try:\n",
    "                    if job_post_right.text.split('Save\\n',1)[1].split('\\n',2)[1] == 'Easy Apply':\n",
    "                        job_post_easy_apply = True\n",
    "                    else:\n",
    "                        job_post_easy_apply = False\n",
    "                except:\n",
    "                    if job_post_right.text.split('Unsave\\n',1)[1].split('\\n',2)[1] == 'Easy Apply':\n",
    "                        job_post_easy_apply = True\n",
    "                    else:\n",
    "                        job_post_easy_apply = False\n",
    "                \n",
    "               \n",
    "                #Skills match\n",
    "                if re.search('\\nHow you match',job_post_right.text):\n",
    "                #if '\\nHow you match' in job_post_right.text:\n",
    "                    y = 'Match\\n(.*)\\n'\n",
    "                    n = 'No match\\n(.*)\\n' \n",
    "                    job_post_skills_match    = re.findall(y,job_post_right.text)\n",
    "                    job_post_skills_nomatch  = re.findall(n,job_post_right.text)\n",
    "                    job_post_skills = {'yes': job_post_skills_match,\n",
    "                                       'no' : job_post_skills_nomatch,\n",
    "                                       'all': job_post_skills_match + job_post_skills_nomatch\n",
    "                                      }\n",
    "                else:\n",
    "                    job_post_skills_match    = {}\n",
    "                \n",
    "                \n",
    "                ####\n",
    "\n",
    "                #Seniority Level\n",
    "                try:\n",
    "                    job_post_seniority_level = job_post_right.text.split('Seniority Level\\n',1)[1].split('\\n')[0]\n",
    "                except:\n",
    "                    job_post_seniority_level = \"\"\n",
    "\n",
    "                #Industry\n",
    "                try:\n",
    "                    job_post_industry        = job_post_right.text.split('Industry\\n',1)[1].split('\\n')[0]\n",
    "                except:\n",
    "                    job_post_industry        = \"\"\n",
    "\n",
    "                #Employment Type\n",
    "                try:\n",
    "                    job_post_employment_type = job_post_right.text.split('Employment Type\\n',1)[1].split('\\n')[0]\n",
    "                except:\n",
    "                    job_post_employment_type = \"\"\n",
    "\n",
    "                #Job Functions > maybe this is the last\n",
    "                try:\n",
    "                    job_post_job_functions   = job_post_right.text.split('Job Functions\\n',1)[1].split('\\n')[0]\n",
    "                except:\n",
    "                    job_post_job_functions   = \"\"\n",
    "\n",
    "\n",
    "                #job info\n",
    "                job_post_info             = job_post_right.text.split('\\n', 5)[5]\n",
    "\n",
    "                #Dataframe\n",
    "                df_jobs = df_jobs.append({\n",
    "                                            'JOB TITLE'          : job_title_df,\n",
    "                                            'LOCATION'           : location,\n",
    "                                            'SEARCH DATETIME'    : now_str,\n",
    "                                            'Current Job Id'     : currentJobId,\n",
    "                                            'Job html'           : job_html,\n",
    "                                            'Job name'           : job_post_name,\n",
    "                                            'Company name'       : job_post_company_name,\n",
    "                                            'Company location'   : job_post_company_location,\n",
    "                                            'Posted date'        : job_post_posted_date,\n",
    "                                            'Estimated post date': job_post_estimated_date.strftime('%Y-%m-%d %H:%M'),\n",
    "                                            'Easy apply'         : job_post_easy_apply,\n",
    "                                            'Skills match'       : job_post_skills,\n",
    "\n",
    "                                            'Seniority Level'    : job_post_seniority_level,\n",
    "                                            'Industry'           : job_post_industry ,\n",
    "                                            'Employment Type'    : job_post_employment_type,\n",
    "                                            'Job Functions'      : job_post_job_functions,\n",
    "                                            'Job info'           : job_post_info,\n",
    "                                         }, ignore_index=True)\n",
    "\n",
    "                #print(len(job_post_right_content))\n",
    "                print(job_post_name)\n",
    "                print(job_post_company_name)\n",
    "                print(job_post_company_location)\n",
    "                print(job_post_posted_date)\n",
    "                #print(f'{job_post_info}\\n')\n",
    "                print(\"\")\n",
    "\n",
    "                # if you wanna watch the job page\n",
    "                # job_html = f'https://www.linkedin.com/jobs/view/{currentJobId}/' # > it's possible to use REQUESTS >>> NOPE XXXXX\n",
    "                \n",
    "                if i%5==0: #each 5 job post, one execution of 2 pages down\n",
    "                    tabla_izq.send_keys(Keys.PAGE_DOWN*2)\n",
    "                    time.sleep(0.1)\n",
    "                \n",
    "            except:\n",
    "                error=True #if an error ocurred when the algorith tried to get a post, this loop finishs and goes to the next page\n",
    "            finally:\n",
    "                i+=1 # next one >>>>>>>>>>>>>>>>\n",
    "\n",
    "\n",
    "df_jobs.head(10)"
   ]
  },
  {
   "cell_type": "code",
   "execution_count": 151,
   "metadata": {},
   "outputs": [
    {
     "data": {
      "text/plain": [
       "(466, 18)"
      ]
     },
     "execution_count": 151,
     "metadata": {},
     "output_type": "execute_result"
    }
   ],
   "source": [
    "df_jobs.shape"
   ]
  },
  {
   "cell_type": "code",
   "execution_count": 132,
   "metadata": {},
   "outputs": [
    {
     "data": {
      "text/plain": [
       "'2020-04-16-20.47'"
      ]
     },
     "execution_count": 132,
     "metadata": {},
     "output_type": "execute_result"
    }
   ],
   "source": [
    "now_file = now_str.replace(':','.')\n",
    "now_file"
   ]
  },
  {
   "cell_type": "code",
   "execution_count": 158,
   "metadata": {},
   "outputs": [],
   "source": [
    "#df_jobs.to_csv(f'..\\\\data\\\\raw\\\\df_{job_title_df}_{location}_{now_file}.csv',\n",
    "df_jobs.to_csv(f'..\\\\data\\\\raw\\\\df_jobs_{location}_{now_file}.csv',\n",
    "              sep = ';',\n",
    "              encoding= 'utf8',\n",
    "              index=False,\n",
    "              )"
   ]
  },
  {
   "cell_type": "code",
   "execution_count": 159,
   "metadata": {},
   "outputs": [
    {
     "data": {
      "text/html": [
       "<div>\n",
       "<style scoped>\n",
       "    .dataframe tbody tr th:only-of-type {\n",
       "        vertical-align: middle;\n",
       "    }\n",
       "\n",
       "    .dataframe tbody tr th {\n",
       "        vertical-align: top;\n",
       "    }\n",
       "\n",
       "    .dataframe thead th {\n",
       "        text-align: right;\n",
       "    }\n",
       "</style>\n",
       "<table border=\"1\" class=\"dataframe\">\n",
       "  <thead>\n",
       "    <tr style=\"text-align: right;\">\n",
       "      <th></th>\n",
       "      <th>JOB TITLE</th>\n",
       "      <th>LOCATION</th>\n",
       "      <th>SEARCH DATETIME</th>\n",
       "      <th>Current Job Id</th>\n",
       "      <th>Job htmlJob name</th>\n",
       "      <th>Company name</th>\n",
       "      <th>Company location</th>\n",
       "      <th>Posted date</th>\n",
       "      <th>Estimated post date</th>\n",
       "      <th>Easy apply</th>\n",
       "      <th>Skills match</th>\n",
       "      <th>Seniority Level</th>\n",
       "      <th>Industry</th>\n",
       "      <th>Employment Type</th>\n",
       "      <th>Job Functions</th>\n",
       "      <th>Job info</th>\n",
       "      <th>Job html</th>\n",
       "      <th>Job name</th>\n",
       "    </tr>\n",
       "  </thead>\n",
       "  <tbody>\n",
       "    <tr>\n",
       "      <th>0</th>\n",
       "      <td>data analyst</td>\n",
       "      <td>Madrid</td>\n",
       "      <td>2020-04-16-20:47</td>\n",
       "      <td>1744889236</td>\n",
       "      <td>NaN</td>\n",
       "      <td>YUKON IT SPAIN &amp; EUROPE</td>\n",
       "      <td>Madrid y alrededores</td>\n",
       "      <td>1 month</td>\n",
       "      <td>2020-03-19-20:47</td>\n",
       "      <td>True</td>\n",
       "      <td>NaN</td>\n",
       "      <td>Associate</td>\n",
       "      <td>Information Technology &amp; Services Telecommunic...</td>\n",
       "      <td>Full-time</td>\n",
       "      <td>Information Technology Engineering</td>\n",
       "      <td>Posted Date\\nPosted 1 month ago\\nNumber of vie...</td>\n",
       "      <td>https://www.linkedin.com/jobs/view/1744889236/</td>\n",
       "      <td>Analista de datos</td>\n",
       "    </tr>\n",
       "    <tr>\n",
       "      <th>1</th>\n",
       "      <td>data analyst</td>\n",
       "      <td>Madrid</td>\n",
       "      <td>2020-04-16-20:47</td>\n",
       "      <td>1822454033</td>\n",
       "      <td>NaN</td>\n",
       "      <td>SoYou_Bankia</td>\n",
       "      <td>Madrid y alrededores, España</td>\n",
       "      <td>1 day</td>\n",
       "      <td>2020-04-15-20:47</td>\n",
       "      <td>True</td>\n",
       "      <td>NaN</td>\n",
       "      <td>Associate</td>\n",
       "      <td>Financial Services</td>\n",
       "      <td>Full-time</td>\n",
       "      <td>Analyst Information Technology Product Management</td>\n",
       "      <td>Posted Date\\nPosted 1 day ago\\nNumber of views...</td>\n",
       "      <td>https://www.linkedin.com/jobs/view/1822454033/</td>\n",
       "      <td>Backoffice Product Owner</td>\n",
       "    </tr>\n",
       "  </tbody>\n",
       "</table>\n",
       "</div>"
      ],
      "text/plain": [
       "      JOB TITLE LOCATION   SEARCH DATETIME Current Job Id Job htmlJob name  \\\n",
       "0  data analyst   Madrid  2020-04-16-20:47     1744889236              NaN   \n",
       "1  data analyst   Madrid  2020-04-16-20:47     1822454033              NaN   \n",
       "\n",
       "              Company name              Company location Posted date  \\\n",
       "0  YUKON IT SPAIN & EUROPE          Madrid y alrededores     1 month   \n",
       "1             SoYou_Bankia  Madrid y alrededores, España       1 day   \n",
       "\n",
       "  Estimated post date Easy apply Skills match Seniority Level  \\\n",
       "0    2020-03-19-20:47       True          NaN       Associate   \n",
       "1    2020-04-15-20:47       True          NaN       Associate   \n",
       "\n",
       "                                            Industry Employment Type  \\\n",
       "0  Information Technology & Services Telecommunic...       Full-time   \n",
       "1                                 Financial Services       Full-time   \n",
       "\n",
       "                                       Job Functions  \\\n",
       "0                 Information Technology Engineering   \n",
       "1  Analyst Information Technology Product Management   \n",
       "\n",
       "                                            Job info  \\\n",
       "0  Posted Date\\nPosted 1 month ago\\nNumber of vie...   \n",
       "1  Posted Date\\nPosted 1 day ago\\nNumber of views...   \n",
       "\n",
       "                                         Job html                  Job name  \n",
       "0  https://www.linkedin.com/jobs/view/1744889236/         Analista de datos  \n",
       "1  https://www.linkedin.com/jobs/view/1822454033/  Backoffice Product Owner  "
      ]
     },
     "execution_count": 159,
     "metadata": {},
     "output_type": "execute_result"
    }
   ],
   "source": [
    "df_jobs.head(2)"
   ]
  },
  {
   "cell_type": "code",
   "execution_count": 135,
   "metadata": {},
   "outputs": [
    {
     "data": {
      "text/plain": [
       "array(['data analyst', 'data scientist'], dtype=object)"
      ]
     },
     "execution_count": 135,
     "metadata": {},
     "output_type": "execute_result"
    }
   ],
   "source": [
    "df_jobs['JOB TITLE'].unique()"
   ]
  },
  {
   "cell_type": "code",
   "execution_count": 136,
   "metadata": {},
   "outputs": [
    {
     "data": {
      "text/plain": [
       "(71, 18)"
      ]
     },
     "execution_count": 136,
     "metadata": {},
     "output_type": "execute_result"
    }
   ],
   "source": [
    "df_jobs[df_jobs['Easy apply']==True].shape"
   ]
  },
  {
   "cell_type": "markdown",
   "metadata": {},
   "source": [
    "## TESTING:"
   ]
  },
  {
   "cell_type": "markdown",
   "metadata": {},
   "source": [
    "***"
   ]
  },
  {
   "cell_type": "code",
   "execution_count": null,
   "metadata": {},
   "outputs": [],
   "source": [
    "# > Trying with one job title\n",
    "n_pages = n_pages_linkedin(browser, 'data analyst')\n",
    "n_pages"
   ]
  },
  {
   "cell_type": "code",
   "execution_count": null,
   "metadata": {},
   "outputs": [],
   "source": [
    "# Going to last row \n",
    "try:\n",
    "    pages = browser.find_element_by_xpath\\\n",
    "    ('/html/body/div[5]/div[4]/div[3]/section[1]/div[2]/div/div/div[1]/div[2]/div/section/artdeco-pagination/ul')\n",
    "except:\n",
    "    pages = browser.find_element_by_xpath\\\n",
    "    ('/html/body/div[6]/div[4]/div[3]/section[1]/div[2]/div/div/div[1]/div[2]/div/section/artdeco-pagination/ul')\n",
    "actions = ActionChains(browser)\n",
    "actions.move_to_element(pages).perform()"
   ]
  },
  {
   "cell_type": "code",
   "execution_count": null,
   "metadata": {},
   "outputs": [],
   "source": [
    "#show MORE skills\n",
    "izq =  browser.find_element_by_xpath\\\n",
    "(\"//div[@class='jobs-search-results jobs-search-results--is-two-pane']\")\n",
    "#ActionChains(browser).move_to_element(izq).perform()"
   ]
  },
  {
   "cell_type": "code",
   "execution_count": null,
   "metadata": {},
   "outputs": [],
   "source": [
    "izq.text"
   ]
  },
  {
   "cell_type": "code",
   "execution_count": null,
   "metadata": {},
   "outputs": [],
   "source": [
    "izq.send_keys(Keys.PAGE_UP*10)"
   ]
  },
  {
   "cell_type": "code",
   "execution_count": 161,
   "metadata": {},
   "outputs": [
    {
     "data": {
      "text/plain": [
       "'Data Analyst Scala H/M Promoted'"
      ]
     },
     "execution_count": 161,
     "metadata": {},
     "output_type": "execute_result"
    }
   ],
   "source": [
    "trabajo = j_post(browser, 3)\n",
    "trabajo.text"
   ]
  },
  {
   "cell_type": "code",
   "execution_count": 174,
   "metadata": {},
   "outputs": [
    {
     "data": {
      "text/plain": [
       "'Consultor/a Data & Analytics - Scrum Master\\nCompany Name\\nEY\\nCompany Location\\nMadrid y alrededores, España\\nPosted Date\\nPosted 4 weeks ago\\nNumber of views\\n1,765 views\\nShare\\nShow more options\\nSave\\nSave Consultor/a Data & Analytics - Scrum Master at EY\\nEasy Apply\\nSee how you compare to 294 applicants. Reactivate Premium\\nJob\\n5/10 skills match\\n294 applicants\\nCompany\\n10001+ employees\\nFinancial Services\\nConnections\\n4 alumni\\nLa tipología de trabajos a realizar son proyectos especializados en el Sector Financiero, predominantemente banca y seguros, para desarrollar la actividad en clientes de Primer Orden Nacional y que a su vez se encuentran en el Top 5 de entidades financieras a nivel global.\\n  El área de actividad son grandes proyectos de transformación, con base en Madrid, pero en muchos casos con un ámbito internacional y por tanto con posibilidad de desarrollar parte del mismo en otras geografías (normalmente UK y USA). Las áreas de actuación, según el trabajo en cada caso, estarían en uno o varios de los siguientes dominios:\\n  Gestión de Proyectos de índole Analítica Avanzada/Inteligencia Artificial/Datos/Tecnología.\\nDesarrollo de proyectos de Inteligencia Artificial, a través de modelos supervisados y no supervisados.\\nDefinición de Estrategia y Roadmap de diferentes áreas analíticas, en las cuales tiene un impacto significativo la Gestión y Explotación del Dato, la definición de los procesos y el modelo operativo de las áreas.\\nExplotación de la información con diferentes tipos de herramientas y lenguajes de programación (Python , R, herramientas de visualización, etc.)\\n\\n\\nSerá responsable del cumplimiento de las reglas de un marco de Scrum técnico, asegurándose de que el equipo las entiende y trabaja ajustándose a ellas, tanto dentro del equipo de trabajo como en sus interacciones con el entorno.\\n  Conoce los marcos de trabajo de gestión ágil y apoyará a los Product Owner, los equipos de proyecto y a la organización para que sigan mejorando la mentalidad ágil y asegurando que el equipo se adhiera a los principios rectores de esta forma de trabajar, sus prácticas, ceremonias y reglas.\\n  También, se encargará de la gestión de grandes proyectos, principalmente en las áreas de datos y analítica, así como de la redacción de ofertas comerciales y creación de materiales de apoyo a la venta.\\n  Contará con un nivel fluido de interlocución con los principales contactos dentro de la organización cliente, asegurando el cumplimiento de sus expectativas y participando de forma activa en la identificación y generación de nuevas oportunidades comerciales.\\n  Necesario conocimiento del ecosistema de tecnologías y herramientas del mercado (Big Data, Cloud, BI, AutoML, DQ, Gobierno del Dato, etc.) así como de las prácticas técnicas más habituales en los proyectos desarrollados de forma ágil (XP, TDD, BDD, CI/CD…)\\n  Se valorará positivamente una buena capacidad de comunicación y storytelling para traducir objetivos de negocio a los equipos de trabajo. También, se valorará positivamente estar familiarizado con OKR.\\n  El trabajo se desarrollará en entidades financieras de primer orden, con presencia internacional, por lo que es esencial tener un nivel de ingles C1 o superior.\\n \\nRequisitos:\\n\\n- Ingeniería Informática u otras ingenierías; Matemáticas o Estadística.\\n\\n- Formación y certificación como Scrum Master\\n\\n- Entre 6-10 de años de experiencia total en el sector, con más de 5 años de experiencia específica como Scrum Master.\\n\\n- Inglés Alto - C1 mínimo (abstenerse niveles inferiores)\\n  - Personas con iniciativa, capacidad de trabajo en equipo y buenas habilidades de comunicación\\n\\n- Se valorará positivamente la experiencia adquirida en entornos de trabajo ágiles, con metodologías como Scrum y Kanban, así como familiaridad con técnicas como XP, TDD/BDD o CI/CD.”\\n     \\n        Seniority Level\\nMid-Senior level\\nIndustry\\nInformation Technology & Services Program Development Computer Software\\nEmployment Type\\nFull-time\\nJob Functions\\nConsulting Engineering Information Technology\\nHow you match\\nCriteria provided by job poster\\nSkills\\nMatch\\nScrum\\nMatch\\nEnglish\\nMatch\\nTeamwork\\nMatch\\nProject Management\\nMatch\\nAnalytics\\nNo match\\nTechnology Roadmapping\\nNo match\\nAnalytical Capability\\nNo match\\nNew Business Opportunities\\nNo match\\nAgile Methodologies\\nNo match\\nTender Writing'"
      ]
     },
     "execution_count": 174,
     "metadata": {},
     "output_type": "execute_result"
    }
   ],
   "source": [
    "job_post_right = browser.find_element_by_xpath(\"//div[@class='jobs-search-two-pane__details pt4 ph3 jobs-search-two-pane__details ember-view']\")   \n",
    "job_post_right.text"
   ]
  },
  {
   "cell_type": "code",
   "execution_count": 179,
   "metadata": {},
   "outputs": [
    {
     "data": {
      "text/plain": [
       "{'yes': ['Scrum', 'English', 'Teamwork', 'Project Management', 'Analytics'],\n",
       " 'no': ['Technology Roadmapping',\n",
       "  'Analytical Capability',\n",
       "  'New Business Opportunities',\n",
       "  'Agile Methodologies'],\n",
       " 'all': ['Scrum',\n",
       "  'English',\n",
       "  'Teamwork',\n",
       "  'Project Management',\n",
       "  'Analytics',\n",
       "  'Technology Roadmapping',\n",
       "  'Analytical Capability',\n",
       "  'New Business Opportunities',\n",
       "  'Agile Methodologies']}"
      ]
     },
     "execution_count": 179,
     "metadata": {},
     "output_type": "execute_result"
    }
   ],
   "source": [
    "#Skills match\n",
    "if re.search('\\nHow you match',job_post_right.text):\n",
    "#if '\\nHow you match' in job_post_right.text:\n",
    "    y = 'Match\\n(.*)\\n'\n",
    "    n = 'No match\\n(.*)\\n' \n",
    "    job_post_skills_match    = re.findall(y,job_post_right.text)\n",
    "    job_post_skills_nomatch  = re.findall(n,job_post_right.text)\n",
    "    job_post_skills = {'yes': job_post_skills_match,\n",
    "                       'no' : job_post_skills_nomatch,\n",
    "                       'all': job_post_skills_match + job_post_skills_nomatch\n",
    "                      }\n",
    "else:\n",
    "    job_post_skills_match    = {}\n",
    "    \n",
    "job_post_skills "
   ]
  },
  {
   "cell_type": "code",
   "execution_count": null,
   "metadata": {},
   "outputs": [],
   "source": [
    "trabajo = j_post(browser, 10)\n",
    "trabajo"
   ]
  },
  {
   "cell_type": "code",
   "execution_count": null,
   "metadata": {},
   "outputs": [],
   "source": [
    "actions = ActionChains(trabajo)\n",
    "actions.move_to_element(trabajo).perform()"
   ]
  },
  {
   "cell_type": "code",
   "execution_count": 181,
   "metadata": {},
   "outputs": [
    {
     "data": {
      "text/plain": [
       "'Seniority Level\\nMid-Senior level\\nIndustry\\nInformation Technology & Services Program Development Computer Software\\nEmployment Type\\nFull-time\\nJob Functions\\nConsulting Information Technology'"
      ]
     },
     "execution_count": 181,
     "metadata": {},
     "output_type": "execute_result"
    }
   ],
   "source": [
    "job_post_right_ind = \\\n",
    "browser.find_element_by_xpath(\"//div[@class='jobs-description-details pt4 pt4 ember-view']\")   \n",
    "job_post_right_ind.text"
   ]
  },
  {
   "cell_type": "code",
   "execution_count": 182,
   "metadata": {},
   "outputs": [
    {
     "data": {
      "text/plain": [
       "'Information Technology & Services Program Development Computer Software'"
      ]
     },
     "execution_count": 182,
     "metadata": {},
     "output_type": "execute_result"
    }
   ],
   "source": [
    "job_post_right_ind_1 = \\\n",
    "browser.find_element_by_xpath(\"//ul[@class='jobs-box__list jobs-description-details__list js-formatted-industries-list']\")   \n",
    "job_post_right_ind_1.text"
   ]
  },
  {
   "cell_type": "code",
   "execution_count": 180,
   "metadata": {},
   "outputs": [
    {
     "data": {
      "text/plain": [
       "'Information Technology & Services Program Development Computer Software'"
      ]
     },
     "execution_count": 180,
     "metadata": {},
     "output_type": "execute_result"
    }
   ],
   "source": [
    "#Industry\n",
    "try:\n",
    "    job_post_industry        = job_post_right.text.split('Industry\\n',1)[1].split('\\n')[0]\n",
    "except:\n",
    "    job_post_industry        = \"\"\n",
    "job_post_industry"
   ]
  },
  {
   "cell_type": "code",
   "execution_count": null,
   "metadata": {},
   "outputs": [],
   "source": []
  },
  {
   "cell_type": "markdown",
   "metadata": {},
   "source": [
    "***"
   ]
  },
  {
   "cell_type": "code",
   "execution_count": null,
   "metadata": {},
   "outputs": [],
   "source": [
    "df_jobs[df_jobs['Company name']=='']"
   ]
  },
  {
   "cell_type": "code",
   "execution_count": null,
   "metadata": {},
   "outputs": [],
   "source": [
    "df_jobs[df_jobs['Easy apply']==True]"
   ]
  },
  {
   "cell_type": "code",
   "execution_count": null,
   "metadata": {},
   "outputs": [],
   "source": [
    "df_jobs[df_jobs['Current Job Id']=='1772020331'].iloc[0,14]"
   ]
  },
  {
   "cell_type": "code",
   "execution_count": null,
   "metadata": {},
   "outputs": [],
   "source": [
    "' skills match\\n' in df_jobs[df_jobs['Current Job Id']=='1772020331'].iloc[0,14]"
   ]
  },
  {
   "cell_type": "code",
   "execution_count": null,
   "metadata": {},
   "outputs": [],
   "source": [
    "rigth = browser.find_element_by_xpath('/html/body/div[5]/div[4]/div[3]/section[1]/div[2]/div/div/div[2]').text"
   ]
  },
  {
   "cell_type": "code",
   "execution_count": null,
   "metadata": {},
   "outputs": [],
   "source": [
    "rigth"
   ]
  },
  {
   "cell_type": "code",
   "execution_count": null,
   "metadata": {},
   "outputs": [],
   "source": [
    "rigth.split(' ago',1)[0].split('Posted Date\\nPosted ')[1]"
   ]
  },
  {
   "cell_type": "code",
   "execution_count": null,
   "metadata": {},
   "outputs": [],
   "source": [
    "rigth.split('Save\\n',1)[1].split('\\n',2)[1]"
   ]
  },
  {
   "cell_type": "code",
   "execution_count": null,
   "metadata": {},
   "outputs": [],
   "source": [
    "df_jobs.shape"
   ]
  },
  {
   "cell_type": "code",
   "execution_count": null,
   "metadata": {},
   "outputs": [],
   "source": [
    "df_jobs.dtypes"
   ]
  },
  {
   "cell_type": "code",
   "execution_count": null,
   "metadata": {},
   "outputs": [],
   "source": [
    "df_jobs.iloc[0,6].split(' ago',1)[0].split('Posted Date\\nPosted ')[1]"
   ]
  },
  {
   "cell_type": "code",
   "execution_count": null,
   "metadata": {},
   "outputs": [],
   "source": [
    "df_jobs.iloc[0,6]"
   ]
  },
  {
   "cell_type": "code",
   "execution_count": null,
   "metadata": {},
   "outputs": [],
   "source": []
  },
  {
   "cell_type": "markdown",
   "metadata": {},
   "source": [
    "***\n",
    "## PUENTE"
   ]
  },
  {
   "cell_type": "code",
   "execution_count": null,
   "metadata": {},
   "outputs": [],
   "source": [
    "#location_input = input(\"PLEASE ENTER THE LOCATION WHERE YOU'D LIKE TO SEARCH: \")\n",
    "location_input = 'berlin'"
   ]
  },
  {
   "cell_type": "code",
   "execution_count": null,
   "metadata": {},
   "outputs": [],
   "source": [
    "location = location_input.capitalize()\n",
    "location"
   ]
  },
  {
   "cell_type": "code",
   "execution_count": null,
   "metadata": {},
   "outputs": [],
   "source": []
  },
  {
   "cell_type": "code",
   "execution_count": null,
   "metadata": {},
   "outputs": [],
   "source": [
    "#job_title_input = input(\"PLEASE ENTER THE JOB THAT YOU'D LIKE TO SEARCH: \")\n",
    "job_title_input = 'data analyst'"
   ]
  },
  {
   "cell_type": "code",
   "execution_count": null,
   "metadata": {},
   "outputs": [],
   "source": [
    "job_title_df = job_title_input.lower()\n",
    "job_title_s    = job_title_input.lower().replace(' ', '%20')\n",
    "job_title_s "
   ]
  },
  {
   "cell_type": "markdown",
   "metadata": {},
   "source": [
    "#### >>> GO TO > JOB SEARCH :"
   ]
  },
  {
   "cell_type": "code",
   "execution_count": null,
   "metadata": {},
   "outputs": [],
   "source": []
  },
  {
   "cell_type": "markdown",
   "metadata": {},
   "source": [
    "*** \n",
    "# OLD TESTING\n",
    "***"
   ]
  },
  {
   "cell_type": "code",
   "execution_count": null,
   "metadata": {},
   "outputs": [],
   "source": [
    "#tabla_grande = \\\n",
    "#browser.find_element_by_xpath(\"/html/body/div[5]/div[4]/div[3]/section[1]/div[2]/div/div\")\n",
    "\n",
    "#                               html/body/div[5]/div[4]/div[3]/section[1]/div[2]\n",
    "#                               /html/body/div[5]/div[4]/div[3]/section[1]/div[2]/div/div/div[1]"
   ]
  },
  {
   "cell_type": "code",
   "execution_count": null,
   "metadata": {},
   "outputs": [],
   "source": [
    "#Taking table of job posts\n",
    "try:\n",
    "    tabla_izq = \\\n",
    "    browser.find_element_by_xpath(\"/html/body/div[5]/div[4]/div[3]/section[1]/div[2]/div/div/div[1]\")\n",
    "                                  #/html/body/div[6]/div[4]/div[3]/section[1]/div[2]/div/div/div[1]\n",
    "                                  #/html/body/div[6]/div[4]/div[3]/section[1]/div[2]/div/div/div[1]/div[2]\n",
    "                                  #/html/body/div[5]/div[4]/div[3]/section[1]/div[2]/div/div/div[1]/div[2]\n",
    "    #browser.find_element_by_class_name(\"jobs-search-two-pane__results display-flex\")\n",
    "    #                              /html/body/div[5]/div[4]/div[3]/section[1]/div[2]/div/div/div[1]\n",
    "except:\n",
    "    tabla_izq = \\\n",
    "    browser.find_element_by_xpath(\"/html/body/div[6]/div[4]/div[3]/section[1]/div[2]/div/div/div[1]\")\n",
    "    \n",
    "time.sleep(0.5)\n",
    "tabla_izq.text"
   ]
  },
  {
   "cell_type": "code",
   "execution_count": null,
   "metadata": {},
   "outputs": [],
   "source": [
    "tabla_izq.text.split('\\n')"
   ]
  },
  {
   "cell_type": "code",
   "execution_count": null,
   "metadata": {},
   "outputs": [],
   "source": [
    "current_p = int(browser.current_url.split('&start=')[1])//25+1\n",
    "current_p"
   ]
  },
  {
   "cell_type": "code",
   "execution_count": null,
   "metadata": {},
   "outputs": [],
   "source": [
    "#are_you = browser.find_element_by_class_name(\"jobs-search-feedback-card\")\n",
    "#are_you.is_enabled()"
   ]
  },
  {
   "cell_type": "code",
   "execution_count": null,
   "metadata": {},
   "outputs": [],
   "source": [
    "#for last page there is another logic (not 'Close')\n",
    "if current_p < n_pages:\n",
    "    job_list = tabla_izq.text.split('Manage alerts\\n')[1].split('Close\\n')[0].split('ago')\n",
    "else:\n",
    "    job_list = \\\n",
    "    tabla_izq.text.split('Manage alerts\\n')[1].split('Close\\n')[0].split('Create alert for this search\\n')[0].split('ago')\n",
    "\n",
    "n_job_list = len(job_list)-1\n",
    "print(n_job_list) \n",
    "job_list "
   ]
  },
  {
   "cell_type": "code",
   "execution_count": null,
   "metadata": {},
   "outputs": [],
   "source": [
    "# TESTING - clicking one selected job\n",
    "n = n_job_list # max 25\n",
    "\n",
    "# Selecting job post in order\n",
    "try:\n",
    "    job_post = browser.find_element_by_xpath\\\n",
    "    (f'/html/body/div[5]/div[4]/div[3]/section[1]/div[2]/div/div/div[1]/div[2]/div/ul/li[{n}]/div/artdeco-entity-lockup/artdeco-entity-lockup-content/h3/a')\n",
    "except:\n",
    "    job_post = browser.find_element_by_xpath\\\n",
    "    (f'/html/body/div[6]/div[4]/div[3]/section[1]/div[2]/div/div/div[1]/div[2]/div/ul/li[{n}]/div/artdeco-entity-lockup/artdeco-entity-lockup-content/h3/a')\n",
    "#     /html/body/div[5]/div[4]/div[3]/section[1]/div[2]/div/div/div[1]/div[2]/div/ul/li[1]/div/artdeco-entity-lockup/artdeco-entity-lockup-content/h3/a\n",
    "#  (f'/html/body/div[5]/div[4]/div[3]/section[1]/div[2]/div/div/div[1]/div[2]/div/ul/li[{n}]')\n",
    "job_post.click()\n",
    "\n",
    "# Getting job post ID\n",
    "currentJobId = browser.current_url.split('currentJobId=')[1].split('&')[0]\n",
    "#currentJobId = browser.current_url.split('?')[1].split('&')[0].split('=')[1]\n",
    "print(currentJobId)\n",
    "\n",
    "# Extracting job information\n",
    "try:\n",
    "    job_post_right = browser.find_element_by_xpath\\\n",
    "        ('/html/body/div[5]/div[4]/div[3]/section[1]/div[2]/div/div/div[2]')\n",
    "except:\n",
    "    job_post_right = browser.find_element_by_xpath\\\n",
    "        ('/html/body/div[6]/div[4]/div[3]/section[1]/div[2]/div/div/div[2]')\n",
    "job_post_right_content = job_post_right.text.split('\\n',16)\n",
    "print(len(job_post_right_content))\n",
    "print(f'{job_post_right_content}')\n",
    "#print(f'{job_post_right.text.split('\\n',15)}')\n",
    "\n",
    "# 200402 21.00 (Session info: chrome=80.0.3987.162)\n",
    "# 200403 21.00 (Session info: chrome=80.0.3987.162)\n",
    "# 200404 17.00  (Session info: chrome=80.0.3987.162)"
   ]
  },
  {
   "cell_type": "code",
   "execution_count": null,
   "metadata": {},
   "outputs": [],
   "source": [
    "list(range(0,n_pages*25,25))"
   ]
  },
  {
   "cell_type": "code",
   "execution_count": null,
   "metadata": {},
   "outputs": [],
   "source": [
    "browser.get_log"
   ]
  },
  {
   "cell_type": "code",
   "execution_count": null,
   "metadata": {},
   "outputs": [],
   "source": [
    "izq = browser.find_element_by_class_name('jobs-search-results jobs-search-results--is-two-pane')\n",
    "izq.text()"
   ]
  },
  {
   "cell_type": "code",
   "execution_count": null,
   "metadata": {},
   "outputs": [],
   "source": [
    "tabla_izq.text"
   ]
  },
  {
   "cell_type": "code",
   "execution_count": null,
   "metadata": {},
   "outputs": [],
   "source": []
  },
  {
   "cell_type": "code",
   "execution_count": null,
   "metadata": {},
   "outputs": [],
   "source": [
    "import requests\n",
    "from bs4 import BeautifulSoup"
   ]
  },
  {
   "cell_type": "code",
   "execution_count": null,
   "metadata": {},
   "outputs": [],
   "source": [
    "#with requests.Session() as s:\n",
    "\n",
    "with requests.Session() as session:\n",
    "    \n",
    "    response = session.get(LOGIN_URL)\n",
    "    session = session.cookies.get_dict()\n",
    "    bcookie = session.get('bcookie')\n",
    "    print(bcookie)\n",
    "    cookie = bcookie.split('&')[1].split('\"')[0]\n",
    "    print(f'\\n{cookie}')\n",
    "    \n",
    "    LoginCsrfParam   = cookie\n",
    "    Session_key      = \"cristopher.rojas.lepe@gmail.com\" # \"cristopher.rojas.lepe%40gmail.com\"\n",
    "    Session_password = \"M3t4n01@\" # \"M3t4n01%40\"\n",
    "    Session_redirect = \"https%3A%2F%2Fwww.linkedin.com%2Fjobs\" # \"https://www.linkedin.com/jobs\" #\"https%3A%2F%2Fwww.linkedin.com%2Fjobs\"\n",
    "    Trk              = \"guest_homepage-jobseeker_sign-in-submit\"\n",
    "    \n",
    "    payload = {'loginCsrfParam'  : LoginCsrfParam,\n",
    "               'session_key'     : Session_key,\n",
    "               'session_password': Session_password,\n",
    "               'session_redirect': Session_redirect,\n",
    "               'trk'             : Trk\n",
    "              }\n",
    "    print(f'\\n{payload}')\n",
    "    p = requests.post(LOGIN_URL, data = payload)  \n",
    "    #p = session.post(LOGIN_URL, data = payload) \n",
    "    # print the html returned or something more intelligent to see if it's a successful login page.\n",
    "    print(f'\\n{p.content}')\n",
    "    soup = BeautifulSoup(p.content,'html.parser')\n",
    "    print(f'\\n{soup}')\n",
    "\n",
    "    # An authorised request.\n",
    "#     r = s.get('A protected web page url')\n",
    "#     print r.text"
   ]
  }
 ],
 "metadata": {
  "kernelspec": {
   "display_name": "Python [conda env:final_project]",
   "language": "python",
   "name": "conda-env-final_project-py"
  },
  "language_info": {
   "codemirror_mode": {
    "name": "ipython",
    "version": 3
   },
   "file_extension": ".py",
   "mimetype": "text/x-python",
   "name": "python",
   "nbconvert_exporter": "python",
   "pygments_lexer": "ipython3",
   "version": "3.7.7"
  }
 },
 "nbformat": 4,
 "nbformat_minor": 4
}
