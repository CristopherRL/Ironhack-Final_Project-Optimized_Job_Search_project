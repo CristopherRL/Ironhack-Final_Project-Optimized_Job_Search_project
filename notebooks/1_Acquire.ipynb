{
 "cells": [
  {
   "cell_type": "markdown",
   "metadata": {},
   "source": [
    "# Step 1: ACQUIRE DATA"
   ]
  },
  {
   "cell_type": "markdown",
   "metadata": {},
   "source": [
    "> ## SEARCH"
   ]
  },
  {
   "cell_type": "code",
   "execution_count": 142,
   "metadata": {},
   "outputs": [],
   "source": [
    "#job_title_input = input(\"PLEASE ENTER THE JOB THAT YOU'D LIKE TO SEARCH: \")\n",
    "job_title_input = 'data analyst'"
   ]
  },
  {
   "cell_type": "code",
   "execution_count": 143,
   "metadata": {},
   "outputs": [],
   "source": [
    "#location_input = input(\"PLEASE ENTER THE LOCATION WHERE YOU'D LIKE TO SEARCH: \")\n",
    "location_input = 'berlin'"
   ]
  },
  {
   "cell_type": "code",
   "execution_count": 144,
   "metadata": {},
   "outputs": [
    {
     "data": {
      "text/plain": [
       "'data%20analyst'"
      ]
     },
     "execution_count": 144,
     "metadata": {},
     "output_type": "execute_result"
    }
   ],
   "source": [
    "job_title_df = job_title_input.lower()\n",
    "job_title    = job_title_input.lower().replace(' ', '%20')\n",
    "job_title "
   ]
  },
  {
   "cell_type": "code",
   "execution_count": 145,
   "metadata": {},
   "outputs": [
    {
     "data": {
      "text/plain": [
       "'Madrid'"
      ]
     },
     "execution_count": 145,
     "metadata": {},
     "output_type": "execute_result"
    }
   ],
   "source": [
    "location = location_input.capitalize()\n",
    "location"
   ]
  },
  {
   "cell_type": "code",
   "execution_count": 146,
   "metadata": {},
   "outputs": [],
   "source": [
    "# geoId=\"100994331\""
   ]
  },
  {
   "cell_type": "code",
   "execution_count": null,
   "metadata": {},
   "outputs": [],
   "source": []
  },
  {
   "cell_type": "markdown",
   "metadata": {},
   "source": [
    "> ## API"
   ]
  },
  {
   "cell_type": "code",
   "execution_count": 147,
   "metadata": {},
   "outputs": [],
   "source": [
    "# ??????????????????????"
   ]
  },
  {
   "cell_type": "code",
   "execution_count": null,
   "metadata": {},
   "outputs": [],
   "source": []
  },
  {
   "cell_type": "markdown",
   "metadata": {},
   "source": [
    "> ## WEB SCRAPPING"
   ]
  },
  {
   "cell_type": "markdown",
   "metadata": {},
   "source": [
    "### SELENIUM >"
   ]
  },
  {
   "cell_type": "code",
   "execution_count": 148,
   "metadata": {},
   "outputs": [],
   "source": [
    "from selenium import webdriver\n",
    "import os\n",
    "from dotenv import load_dotenv\n",
    "import time"
   ]
  },
  {
   "cell_type": "code",
   "execution_count": 149,
   "metadata": {},
   "outputs": [],
   "source": [
    "import requests\n",
    "from bs4 import BeautifulSoup"
   ]
  },
  {
   "cell_type": "markdown",
   "metadata": {},
   "source": [
    "#### DRIVER PATH:"
   ]
  },
  {
   "cell_type": "code",
   "execution_count": 150,
   "metadata": {},
   "outputs": [],
   "source": [
    "os.environ['PATH'] = f'{os.environ[\"PATH\"]}:/home/cristopherrl/Documents/program/selenium/drivers/'"
   ]
  },
  {
   "cell_type": "code",
   "execution_count": 151,
   "metadata": {},
   "outputs": [
    {
     "data": {
      "text/plain": [
       "'/home/cristopherrl/miniconda3/envs/final_project/bin:/home/cristopherrl/miniconda3/condabin:/home/cristopherrl/.local/bin:/usr/local/sbin:/usr/local/bin:/usr/sbin:/usr/bin:/sbin:/bin:/usr/games:/usr/local/games:/snap/bin:/home/cristopherrl/Documents/program/selenium/drivers/:/home/cristopherrl/Documents/program/selenium/drivers/:/home/cristopherrl/Documents/program/selenium/drivers/:/home/cristopherrl/Documents/program/selenium/drivers/:/home/cristopherrl/Documents/program/selenium/drivers/:/home/cristopherrl/Documents/program/selenium/drivers/:/home/cristopherrl/Documents/program/selenium/drivers/'"
      ]
     },
     "execution_count": 151,
     "metadata": {},
     "output_type": "execute_result"
    }
   ],
   "source": [
    "os.environ['PATH']"
   ]
  },
  {
   "cell_type": "code",
   "execution_count": null,
   "metadata": {},
   "outputs": [],
   "source": []
  },
  {
   "cell_type": "markdown",
   "metadata": {},
   "source": [
    "#### .ENV PATH:"
   ]
  },
  {
   "cell_type": "code",
   "execution_count": 152,
   "metadata": {},
   "outputs": [
    {
     "data": {
      "text/plain": [
       "True"
      ]
     },
     "execution_count": 152,
     "metadata": {},
     "output_type": "execute_result"
    }
   ],
   "source": [
    "load_dotenv(dotenv_path='../.env')"
   ]
  },
  {
   "cell_type": "markdown",
   "metadata": {},
   "source": [
    "#### SIGN IN:"
   ]
  },
  {
   "cell_type": "code",
   "execution_count": 153,
   "metadata": {},
   "outputs": [],
   "source": [
    "browser = webdriver.Chrome()\n",
    "URL = 'https://www.linkedin.com/login'\n",
    "browser.get(URL)"
   ]
  },
  {
   "cell_type": "code",
   "execution_count": 154,
   "metadata": {},
   "outputs": [],
   "source": [
    "SECRET_USER = os.getenv(\"SESSION_KEY\")\n",
    "SECRET_PASS = os.getenv(\"SESSION_PASSWORD\")"
   ]
  },
  {
   "cell_type": "code",
   "execution_count": 155,
   "metadata": {},
   "outputs": [],
   "source": [
    "user     = browser.find_element_by_xpath('/html/body/div/main/div/form/div[1]/input')\n",
    "user.send_keys(SECRET_USER)\n",
    "time.sleep(1)"
   ]
  },
  {
   "cell_type": "code",
   "execution_count": 156,
   "metadata": {},
   "outputs": [],
   "source": [
    "password = browser.find_element_by_xpath('/html/body/div/main/div/form/div[2]/input')\n",
    "password.send_keys(SECRET_PASS)\n",
    "time.sleep(1)"
   ]
  },
  {
   "cell_type": "code",
   "execution_count": 157,
   "metadata": {},
   "outputs": [],
   "source": [
    "#sign_in  = browser.find_element_by_xpath('/html/body/div/main/div/form/div[3]/button')\n",
    "sign_in  = browser.find_element_by_class_name('login__form_action_container')\n",
    "sign_in.click()\n",
    "time.sleep(1)"
   ]
  },
  {
   "cell_type": "code",
   "execution_count": null,
   "metadata": {},
   "outputs": [],
   "source": []
  },
  {
   "cell_type": "markdown",
   "metadata": {},
   "source": [
    "#### JOB SEARCH :"
   ]
  },
  {
   "cell_type": "code",
   "execution_count": 158,
   "metadata": {},
   "outputs": [
    {
     "data": {
      "text/plain": [
       "'https://www.linkedin.com/feed/'"
      ]
     },
     "execution_count": 158,
     "metadata": {},
     "output_type": "execute_result"
    }
   ],
   "source": [
    "current_url = browser.current_url\n",
    "current_url"
   ]
  },
  {
   "cell_type": "code",
   "execution_count": 159,
   "metadata": {},
   "outputs": [],
   "source": [
    "# First job search URL\n",
    "JOB_URL = f'https://www.linkedin.com/jobs/search/?keywords={job_title}&location={location}&start=0'\n",
    "browser.get(JOB_URL)"
   ]
  },
  {
   "cell_type": "code",
   "execution_count": 160,
   "metadata": {},
   "outputs": [
    {
     "data": {
      "text/plain": [
       "<bound method WebDriver.get_cookies of <selenium.webdriver.chrome.webdriver.WebDriver (session=\"b9af790ac8ba10c4ab81eeefbb3a7645\")>>"
      ]
     },
     "execution_count": 160,
     "metadata": {},
     "output_type": "execute_result"
    }
   ],
   "source": [
    "browser.get_cookies"
   ]
  },
  {
   "cell_type": "code",
   "execution_count": null,
   "metadata": {},
   "outputs": [],
   "source": []
  },
  {
   "cell_type": "markdown",
   "metadata": {},
   "source": [
    "#### GETTING JOB POSTS :"
   ]
  },
  {
   "cell_type": "code",
   "execution_count": 161,
   "metadata": {},
   "outputs": [
    {
     "data": {
      "text/plain": [
       "'https://www.linkedin.com/jobs/search/?keywords=data%20analyst&location=Madrid&start=0'"
      ]
     },
     "execution_count": 161,
     "metadata": {},
     "output_type": "execute_result"
    }
   ],
   "source": [
    "# current url\n",
    "browser.current_url"
   ]
  },
  {
   "cell_type": "code",
   "execution_count": 162,
   "metadata": {},
   "outputs": [
    {
     "name": "stdout",
     "output_type": "stream",
     "text": [
      "<class 'selenium.webdriver.remote.webelement.WebElement'>\n",
      "9\n"
     ]
    }
   ],
   "source": [
    "#number of pages with job posts\n",
    "try:\n",
    "    pages = \\\n",
    "    browser.find_element_by_xpath\\\n",
    "    ('/html/body/div[5]/div[4]/div[3]/section[1]/div[2]/div/div/div[1]/div[2]/div/section/artdeco-pagination/ul')\n",
    "except:\n",
    "    pages = \\\n",
    "    browser.find_element_by_xpath\\\n",
    "    ('/html/body/div[6]/div[4]/div[3]/section[1]/div[2]/div/div/div[1]/div[2]/div/section/artdeco-pagination/ul')\n",
    "\n",
    "print(type(pages))\n",
    "n_pages = int(pages.text.split('\\n')[-1])\n",
    "print(n_pages)"
   ]
  },
  {
   "cell_type": "markdown",
   "metadata": {},
   "source": [
    "***"
   ]
  },
  {
   "cell_type": "code",
   "execution_count": 163,
   "metadata": {},
   "outputs": [],
   "source": [
    "import pandas as pd"
   ]
  },
  {
   "cell_type": "code",
   "execution_count": 164,
   "metadata": {},
   "outputs": [
    {
     "name": "stdout",
     "output_type": "stream",
     "text": [
      "225\n",
      "pagina: 0\n",
      "Lista de trabajos visibles:7\n",
      "i:1\n",
      "Business Data Analyst Promoted\n",
      "https://www.linkedin.com/jobs/search/?currentJobId=1782097056&keywords=data%20analyst&location=Madrid\n",
      "1782097056\n",
      "6\n",
      "Business Data Analyst\n",
      "Logista\n",
      "Leganés, Comunidad de Madrid, España\n",
      "i:2\n",
      "Data Analyst Promoted\n",
      "https://www.linkedin.com/jobs/search/?currentJobId=1806341849&keywords=data%20analyst&location=Madrid\n",
      "1806341849\n",
      "6\n",
      "Data Analyst\n",
      "Cigna\n",
      "Madrid, ES\n",
      "i:3\n",
      "Analista de datos SQL/Data Analyst Promoted\n",
      "https://www.linkedin.com/jobs/search/?currentJobId=1788321020&keywords=data%20analyst&location=Madrid\n",
      "1788321020\n",
      "6\n",
      "Analista de datos SQL/Data Analyst\n",
      "PSS Tecnologias de la Informacion\n",
      "Madrid y alrededores, España\n",
      "i:4\n",
      "Data Analyst Junior\n",
      "https://www.linkedin.com/jobs/search/?currentJobId=1757287796&keywords=data%20analyst&location=Madrid\n",
      "1757287796\n",
      "6\n",
      "Data Analyst Junior\n",
      "Tempotel\n",
      "Madrid, ES\n",
      "i:5\n",
      "Data Analyst\n",
      "https://www.linkedin.com/jobs/search/?currentJobId=1596615973&keywords=data%20analyst&location=Madrid\n",
      "1596615973\n",
      "6\n",
      "Data Analyst\n",
      "Nexthink\n",
      "Provincia de Madrid, ES\n",
      "i:6\n",
      "Junior Data Analyst\n",
      "https://www.linkedin.com/jobs/search/?currentJobId=1789135389&keywords=data%20analyst&location=Madrid\n",
      "1789135389\n",
      "6\n",
      "Junior Data Analyst\n",
      "Fever\n",
      "Madrid, ES\n",
      "i:7\n",
      "Finance Data Analyst\n",
      "https://www.linkedin.com/jobs/search/?currentJobId=1812750573&keywords=data%20analyst&location=Madrid\n",
      "1812750573\n",
      "6\n",
      "Finance Data Analyst\n",
      "ING\n",
      "Madrid, ES\n",
      "pagina: 25\n",
      "Lista de trabajos visibles:7\n",
      "i:1\n",
      "Analista de datos Promoted\n",
      "https://www.linkedin.com/jobs/search/?currentJobId=1744889236&keywords=data%20analyst&location=Madrid&start=25\n",
      "1744889236\n",
      "6\n",
      "Analista de datos\n",
      "YUKON IT SPAIN & EUROPE\n",
      "Madrid y alrededores\n",
      "i:2\n",
      "Big Data Analyst Promoted\n",
      "https://www.linkedin.com/jobs/search/?currentJobId=1792790683&keywords=data%20analyst&location=Madrid&start=25\n",
      "1792790683\n",
      "6\n",
      "Big Data Analyst\n",
      "satec\n",
      "Madrid, Comunidad de Madrid, España\n",
      "i:3\n",
      "Business Analyst - Strategy & Analytics Promoted\n",
      "https://www.linkedin.com/jobs/search/?currentJobId=1708748423&keywords=data%20analyst&location=Madrid&start=25\n",
      "1708748423\n",
      "6\n",
      "Business Analyst - Strategy & Analytics\n",
      "Toptal\n",
      "Madrid, ES\n",
      "i:4\n",
      "Business Process Analyst\n",
      "https://www.linkedin.com/jobs/search/?currentJobId=1704618453&keywords=data%20analyst&location=Madrid&start=25\n",
      "1704618453\n",
      "6\n",
      "Business Process Analyst\n",
      "SWIFT\n",
      "Madrid, ES\n",
      "i:5\n",
      "Consultor/a Data & Analytics - Scrum Master\n",
      "https://www.linkedin.com/jobs/search/?currentJobId=1786418595&keywords=data%20analyst&location=Madrid&start=25\n",
      "1786418595\n",
      "6\n",
      "Consultor/a Data & Analytics - Scrum Master\n",
      "EY\n",
      "Madrid y alrededores, España\n",
      "i:6\n",
      "Strategic Analyst\n",
      "https://www.linkedin.com/jobs/search/?currentJobId=1738967194&keywords=data%20analyst&location=Madrid&start=25\n",
      "1738967194\n",
      "6\n",
      "Strategic Analyst\n",
      "Denodo\n",
      "Madrid, ES\n",
      "i:7\n",
      "Game Data Analyst - Barcelona\n",
      "https://www.linkedin.com/jobs/search/?currentJobId=1752735572&keywords=data%20analyst&location=Madrid&start=25\n",
      "1752735572\n",
      "6\n",
      "Game Data Analyst - Barcelona\n",
      "Interactive - Global Games Executive Search\n",
      "Madrid, ES\n",
      "pagina: 50\n",
      "Lista de trabajos visibles:7\n",
      "i:1\n",
      "Automotive Quality Specialist and Data Development Promoted\n",
      "https://www.linkedin.com/jobs/search/?currentJobId=1670488633&keywords=data%20analyst&location=Madrid&start=50\n",
      "1670488633\n",
      "6\n",
      "Automotive Quality Specialist and Data Development\n",
      "Solera Global Data & Content\n",
      "Madrid y alrededores, España\n",
      "i:2\n",
      "Cyber Security Analyst Promoted\n",
      "https://www.linkedin.com/jobs/search/?currentJobId=1733381424&keywords=data%20analyst&location=Madrid&start=50\n",
      "1733381424\n",
      "6\n",
      "Cyber Security Analyst\n",
      "Twilio Inc.\n",
      "Madrid, ES\n",
      "i:3\n",
      "Recien Titulados en Carreras Técnicas interesados en Trabajar como QA, Java Microservicios o Data Analyst Promoted\n",
      "https://www.linkedin.com/jobs/search/?currentJobId=1807162840&keywords=data%20analyst&location=Madrid&start=50\n",
      "1807162840\n",
      "6\n",
      "Recien Titulados en Carreras Técnicas interesados en Trabajar como QA, Java Microservicios o Data Analyst\n",
      "StratioBD\n",
      "Madrid y alrededores, España\n",
      "i:4\n",
      "Data Analyst & Revenue Management (m/h) | Madrid | Proceso Cerrado\n",
      "https://www.linkedin.com/jobs/search/?currentJobId=1535954112&keywords=data%20analyst&location=Madrid&start=50\n",
      "1535954112\n",
      "6\n",
      "Data Analyst & Revenue Management (m/h) | Madrid | Proceso Cerrado\n",
      "AIRHE Consultoría Estratégica de Recursos Humanos, Selección de Profesionales y Bienestar Laboral.\n",
      "Madrid, ES\n",
      "i:5\n",
      "INTERNTIONAL RISK HUB - RISK ANTICIPATION / BUSINESS ANALYST\n",
      "https://www.linkedin.com/jobs/search/?currentJobId=1767780574&keywords=data%20analyst&location=Madrid&start=50\n",
      "1767780574\n",
      "6\n",
      "INTERNTIONAL RISK HUB - RISK ANTICIPATION / BUSINESS ANALYST\n",
      "BNP Paribas\n",
      "Madrid, ES\n",
      "i:6\n",
      "Analyst Intern- Group Growth Department\n",
      "https://www.linkedin.com/jobs/search/?currentJobId=1766737805&keywords=data%20analyst&location=Madrid&start=50\n",
      "1766737805\n",
      "6\n",
      "Analyst Intern- Group Growth Department\n",
      "Interbrand\n",
      "Madrid, ES\n",
      "i:7\n",
      "Business Development Manager - StartUp Data & Analytics\n",
      "https://www.linkedin.com/jobs/search/?currentJobId=1755279530&keywords=data%20analyst&location=Madrid&start=50\n",
      "1755279530\n",
      "6\n",
      "Business Development Manager - StartUp Data & Analytics\n",
      "Robert Walters\n",
      "Madrid, ES\n",
      "pagina: 75\n",
      "Lista de trabajos visibles:7\n",
      "i:1\n",
      "ARQUITECTO CLOUD Promoted\n",
      "https://www.linkedin.com/jobs/search/?currentJobId=1723459628&keywords=data%20analyst&location=Madrid&start=75\n",
      "1723459628\n",
      "6\n",
      "ARQUITECTO CLOUD\n",
      "IECISA | Informática El Corte Inglés\n",
      "Madrid, Comunidad de Madrid, España\n",
      "i:2\n",
      "Sales Manager - Banking (FSI) Promoted\n",
      "https://www.linkedin.com/jobs/search/?currentJobId=1677622063&keywords=data%20analyst&location=Madrid&start=75\n",
      "1677622063\n",
      "6\n",
      "Sales Manager - Banking (FSI)\n",
      "Pegasystems\n",
      "Madrid, ES\n",
      "i:3\n",
      "Data Analytics Manager Madrid Promoted\n",
      "https://www.linkedin.com/jobs/search/?currentJobId=1786901267&keywords=data%20analyst&location=Madrid&start=75\n",
      "1786901267\n",
      "6\n",
      "Data Analytics Manager Madrid\n",
      "Accenture España\n",
      "Madrid, ES\n",
      "i:4\n",
      "Senior Data Analyst\n",
      "https://www.linkedin.com/jobs/search/?currentJobId=1746829184&keywords=data%20analyst&location=Madrid&start=75\n",
      "1746829184\n",
      "6\n",
      "Senior Data Analyst\n",
      "OrbitalAds\n",
      "Madrid, ES\n",
      "i:5\n",
      "Analista de datos\n",
      "https://www.linkedin.com/jobs/search/?currentJobId=1784192362&keywords=data%20analyst&location=Madrid&start=75\n",
      "1784192362\n",
      "6\n",
      "Analista de datos\n",
      "Michael Page\n",
      "Madrid, ES\n",
      "i:6\n",
      "Programmatic Trader & Data Analyst\n",
      "https://www.linkedin.com/jobs/search/?currentJobId=1675679034&keywords=data%20analyst&location=Madrid&start=75\n",
      "1675679034\n",
      "6\n",
      "Programmatic Trader & Data Analyst\n",
      "Tap for Tap\n",
      "Madrid, ES\n",
      "i:7\n",
      "Analista De Datos (Python)\n",
      "https://www.linkedin.com/jobs/search/?currentJobId=1796948300&keywords=data%20analyst&location=Madrid&start=75\n",
      "1796948300\n",
      "6\n",
      "Analista De Datos (Python)\n",
      "Grupo CMC\n",
      "Madrid, ES\n",
      "pagina: 100\n",
      "Lista de trabajos visibles:7\n",
      "i:1\n"
     ]
    },
    {
     "ename": "NoSuchElementException",
     "evalue": "Message: no such element: Unable to locate element: {\"method\":\"xpath\",\"selector\":\"/html/body/div[6]/div[4]/div[3]/section[1]/div[2]/div/div/div[1]/div[2]/div/ul/li[1]/div/artdeco-entity-lockup/artdeco-entity-lockup-content/h3/a\"}\n  (Session info: chrome=80.0.3987.162)\n",
     "output_type": "error",
     "traceback": [
      "\u001b[0;31m---------------------------------------------------------------------------\u001b[0m",
      "\u001b[0;31mNoSuchElementException\u001b[0m                    Traceback (most recent call last)",
      "\u001b[0;32m<ipython-input-164-dccbcec78056>\u001b[0m in \u001b[0;36m<module>\u001b[0;34m\u001b[0m\n\u001b[1;32m     54\u001b[0m             \u001b[0mjob_post\u001b[0m \u001b[0;34m=\u001b[0m \u001b[0mbrowser\u001b[0m\u001b[0;34m.\u001b[0m\u001b[0mfind_element_by_xpath\u001b[0m\u001b[0;31m\\\u001b[0m\u001b[0;34m\u001b[0m\u001b[0;34m\u001b[0m\u001b[0m\n\u001b[0;32m---> 55\u001b[0;31m             \u001b[0;34m(\u001b[0m\u001b[0;34mf'/html/body/div[5]/div[4]/div[3]/section[1]/div[2]/div/div/div[1]/div[2]/div/ul/li[{i}]/div/artdeco-entity-lockup/artdeco-entity-lockup-content/h3/a'\u001b[0m\u001b[0;34m)\u001b[0m\u001b[0;34m\u001b[0m\u001b[0;34m\u001b[0m\u001b[0m\n\u001b[0m\u001b[1;32m     56\u001b[0m         \u001b[0;32mexcept\u001b[0m\u001b[0;34m:\u001b[0m\u001b[0;34m\u001b[0m\u001b[0;34m\u001b[0m\u001b[0m\n",
      "\u001b[0;32m~/miniconda3/envs/final_project/lib/python3.7/site-packages/selenium/webdriver/remote/webdriver.py\u001b[0m in \u001b[0;36mfind_element_by_xpath\u001b[0;34m(self, xpath)\u001b[0m\n\u001b[1;32m    393\u001b[0m         \"\"\"\n\u001b[0;32m--> 394\u001b[0;31m         \u001b[0;32mreturn\u001b[0m \u001b[0mself\u001b[0m\u001b[0;34m.\u001b[0m\u001b[0mfind_element\u001b[0m\u001b[0;34m(\u001b[0m\u001b[0mby\u001b[0m\u001b[0;34m=\u001b[0m\u001b[0mBy\u001b[0m\u001b[0;34m.\u001b[0m\u001b[0mXPATH\u001b[0m\u001b[0;34m,\u001b[0m \u001b[0mvalue\u001b[0m\u001b[0;34m=\u001b[0m\u001b[0mxpath\u001b[0m\u001b[0;34m)\u001b[0m\u001b[0;34m\u001b[0m\u001b[0;34m\u001b[0m\u001b[0m\n\u001b[0m\u001b[1;32m    395\u001b[0m \u001b[0;34m\u001b[0m\u001b[0m\n",
      "\u001b[0;32m~/miniconda3/envs/final_project/lib/python3.7/site-packages/selenium/webdriver/remote/webdriver.py\u001b[0m in \u001b[0;36mfind_element\u001b[0;34m(self, by, value)\u001b[0m\n\u001b[1;32m    977\u001b[0m             \u001b[0;34m'using'\u001b[0m\u001b[0;34m:\u001b[0m \u001b[0mby\u001b[0m\u001b[0;34m,\u001b[0m\u001b[0;34m\u001b[0m\u001b[0;34m\u001b[0m\u001b[0m\n\u001b[0;32m--> 978\u001b[0;31m             'value': value})['value']\n\u001b[0m\u001b[1;32m    979\u001b[0m \u001b[0;34m\u001b[0m\u001b[0m\n",
      "\u001b[0;32m~/miniconda3/envs/final_project/lib/python3.7/site-packages/selenium/webdriver/remote/webdriver.py\u001b[0m in \u001b[0;36mexecute\u001b[0;34m(self, driver_command, params)\u001b[0m\n\u001b[1;32m    320\u001b[0m         \u001b[0;32mif\u001b[0m \u001b[0mresponse\u001b[0m\u001b[0;34m:\u001b[0m\u001b[0;34m\u001b[0m\u001b[0;34m\u001b[0m\u001b[0m\n\u001b[0;32m--> 321\u001b[0;31m             \u001b[0mself\u001b[0m\u001b[0;34m.\u001b[0m\u001b[0merror_handler\u001b[0m\u001b[0;34m.\u001b[0m\u001b[0mcheck_response\u001b[0m\u001b[0;34m(\u001b[0m\u001b[0mresponse\u001b[0m\u001b[0;34m)\u001b[0m\u001b[0;34m\u001b[0m\u001b[0;34m\u001b[0m\u001b[0m\n\u001b[0m\u001b[1;32m    322\u001b[0m             response['value'] = self._unwrap_value(\n",
      "\u001b[0;32m~/miniconda3/envs/final_project/lib/python3.7/site-packages/selenium/webdriver/remote/errorhandler.py\u001b[0m in \u001b[0;36mcheck_response\u001b[0;34m(self, response)\u001b[0m\n\u001b[1;32m    241\u001b[0m             \u001b[0;32mraise\u001b[0m \u001b[0mexception_class\u001b[0m\u001b[0;34m(\u001b[0m\u001b[0mmessage\u001b[0m\u001b[0;34m,\u001b[0m \u001b[0mscreen\u001b[0m\u001b[0;34m,\u001b[0m \u001b[0mstacktrace\u001b[0m\u001b[0;34m,\u001b[0m \u001b[0malert_text\u001b[0m\u001b[0;34m)\u001b[0m\u001b[0;34m\u001b[0m\u001b[0;34m\u001b[0m\u001b[0m\n\u001b[0;32m--> 242\u001b[0;31m         \u001b[0;32mraise\u001b[0m \u001b[0mexception_class\u001b[0m\u001b[0;34m(\u001b[0m\u001b[0mmessage\u001b[0m\u001b[0;34m,\u001b[0m \u001b[0mscreen\u001b[0m\u001b[0;34m,\u001b[0m \u001b[0mstacktrace\u001b[0m\u001b[0;34m)\u001b[0m\u001b[0;34m\u001b[0m\u001b[0;34m\u001b[0m\u001b[0m\n\u001b[0m\u001b[1;32m    243\u001b[0m \u001b[0;34m\u001b[0m\u001b[0m\n",
      "\u001b[0;31mNoSuchElementException\u001b[0m: Message: no such element: Unable to locate element: {\"method\":\"xpath\",\"selector\":\"/html/body/div[5]/div[4]/div[3]/section[1]/div[2]/div/div/div[1]/div[2]/div/ul/li[1]/div/artdeco-entity-lockup/artdeco-entity-lockup-content/h3/a\"}\n  (Session info: chrome=80.0.3987.162)\n",
      "\nDuring handling of the above exception, another exception occurred:\n",
      "\u001b[0;31mNoSuchElementException\u001b[0m                    Traceback (most recent call last)",
      "\u001b[0;32m<ipython-input-164-dccbcec78056>\u001b[0m in \u001b[0;36m<module>\u001b[0;34m\u001b[0m\n\u001b[1;32m     56\u001b[0m         \u001b[0;32mexcept\u001b[0m\u001b[0;34m:\u001b[0m\u001b[0;34m\u001b[0m\u001b[0;34m\u001b[0m\u001b[0m\n\u001b[1;32m     57\u001b[0m             \u001b[0mjob_post\u001b[0m \u001b[0;34m=\u001b[0m \u001b[0mbrowser\u001b[0m\u001b[0;34m.\u001b[0m\u001b[0mfind_element_by_xpath\u001b[0m\u001b[0;31m\\\u001b[0m\u001b[0;34m\u001b[0m\u001b[0;34m\u001b[0m\u001b[0m\n\u001b[0;32m---> 58\u001b[0;31m             \u001b[0;34m(\u001b[0m\u001b[0;34mf'/html/body/div[6]/div[4]/div[3]/section[1]/div[2]/div/div/div[1]/div[2]/div/ul/li[{i}]/div/artdeco-entity-lockup/artdeco-entity-lockup-content/h3/a'\u001b[0m\u001b[0;34m)\u001b[0m\u001b[0;34m\u001b[0m\u001b[0;34m\u001b[0m\u001b[0m\n\u001b[0m\u001b[1;32m     59\u001b[0m         \u001b[0mprint\u001b[0m\u001b[0;34m(\u001b[0m\u001b[0mjob_post\u001b[0m\u001b[0;34m.\u001b[0m\u001b[0mtext\u001b[0m\u001b[0;34m)\u001b[0m\u001b[0;34m\u001b[0m\u001b[0;34m\u001b[0m\u001b[0m\n\u001b[1;32m     60\u001b[0m         \u001b[0mjob_post\u001b[0m\u001b[0;34m.\u001b[0m\u001b[0mclick\u001b[0m\u001b[0;34m(\u001b[0m\u001b[0;34m)\u001b[0m\u001b[0;34m\u001b[0m\u001b[0;34m\u001b[0m\u001b[0m\n",
      "\u001b[0;32m~/miniconda3/envs/final_project/lib/python3.7/site-packages/selenium/webdriver/remote/webdriver.py\u001b[0m in \u001b[0;36mfind_element_by_xpath\u001b[0;34m(self, xpath)\u001b[0m\n\u001b[1;32m    392\u001b[0m             \u001b[0melement\u001b[0m \u001b[0;34m=\u001b[0m \u001b[0mdriver\u001b[0m\u001b[0;34m.\u001b[0m\u001b[0mfind_element_by_xpath\u001b[0m\u001b[0;34m(\u001b[0m\u001b[0;34m'//div/td[1]'\u001b[0m\u001b[0;34m)\u001b[0m\u001b[0;34m\u001b[0m\u001b[0;34m\u001b[0m\u001b[0m\n\u001b[1;32m    393\u001b[0m         \"\"\"\n\u001b[0;32m--> 394\u001b[0;31m         \u001b[0;32mreturn\u001b[0m \u001b[0mself\u001b[0m\u001b[0;34m.\u001b[0m\u001b[0mfind_element\u001b[0m\u001b[0;34m(\u001b[0m\u001b[0mby\u001b[0m\u001b[0;34m=\u001b[0m\u001b[0mBy\u001b[0m\u001b[0;34m.\u001b[0m\u001b[0mXPATH\u001b[0m\u001b[0;34m,\u001b[0m \u001b[0mvalue\u001b[0m\u001b[0;34m=\u001b[0m\u001b[0mxpath\u001b[0m\u001b[0;34m)\u001b[0m\u001b[0;34m\u001b[0m\u001b[0;34m\u001b[0m\u001b[0m\n\u001b[0m\u001b[1;32m    395\u001b[0m \u001b[0;34m\u001b[0m\u001b[0m\n\u001b[1;32m    396\u001b[0m     \u001b[0;32mdef\u001b[0m \u001b[0mfind_elements_by_xpath\u001b[0m\u001b[0;34m(\u001b[0m\u001b[0mself\u001b[0m\u001b[0;34m,\u001b[0m \u001b[0mxpath\u001b[0m\u001b[0;34m)\u001b[0m\u001b[0;34m:\u001b[0m\u001b[0;34m\u001b[0m\u001b[0;34m\u001b[0m\u001b[0m\n",
      "\u001b[0;32m~/miniconda3/envs/final_project/lib/python3.7/site-packages/selenium/webdriver/remote/webdriver.py\u001b[0m in \u001b[0;36mfind_element\u001b[0;34m(self, by, value)\u001b[0m\n\u001b[1;32m    976\u001b[0m         return self.execute(Command.FIND_ELEMENT, {\n\u001b[1;32m    977\u001b[0m             \u001b[0;34m'using'\u001b[0m\u001b[0;34m:\u001b[0m \u001b[0mby\u001b[0m\u001b[0;34m,\u001b[0m\u001b[0;34m\u001b[0m\u001b[0;34m\u001b[0m\u001b[0m\n\u001b[0;32m--> 978\u001b[0;31m             'value': value})['value']\n\u001b[0m\u001b[1;32m    979\u001b[0m \u001b[0;34m\u001b[0m\u001b[0m\n\u001b[1;32m    980\u001b[0m     \u001b[0;32mdef\u001b[0m \u001b[0mfind_elements\u001b[0m\u001b[0;34m(\u001b[0m\u001b[0mself\u001b[0m\u001b[0;34m,\u001b[0m \u001b[0mby\u001b[0m\u001b[0;34m=\u001b[0m\u001b[0mBy\u001b[0m\u001b[0;34m.\u001b[0m\u001b[0mID\u001b[0m\u001b[0;34m,\u001b[0m \u001b[0mvalue\u001b[0m\u001b[0;34m=\u001b[0m\u001b[0;32mNone\u001b[0m\u001b[0;34m)\u001b[0m\u001b[0;34m:\u001b[0m\u001b[0;34m\u001b[0m\u001b[0;34m\u001b[0m\u001b[0m\n",
      "\u001b[0;32m~/miniconda3/envs/final_project/lib/python3.7/site-packages/selenium/webdriver/remote/webdriver.py\u001b[0m in \u001b[0;36mexecute\u001b[0;34m(self, driver_command, params)\u001b[0m\n\u001b[1;32m    319\u001b[0m         \u001b[0mresponse\u001b[0m \u001b[0;34m=\u001b[0m \u001b[0mself\u001b[0m\u001b[0;34m.\u001b[0m\u001b[0mcommand_executor\u001b[0m\u001b[0;34m.\u001b[0m\u001b[0mexecute\u001b[0m\u001b[0;34m(\u001b[0m\u001b[0mdriver_command\u001b[0m\u001b[0;34m,\u001b[0m \u001b[0mparams\u001b[0m\u001b[0;34m)\u001b[0m\u001b[0;34m\u001b[0m\u001b[0;34m\u001b[0m\u001b[0m\n\u001b[1;32m    320\u001b[0m         \u001b[0;32mif\u001b[0m \u001b[0mresponse\u001b[0m\u001b[0;34m:\u001b[0m\u001b[0;34m\u001b[0m\u001b[0;34m\u001b[0m\u001b[0m\n\u001b[0;32m--> 321\u001b[0;31m             \u001b[0mself\u001b[0m\u001b[0;34m.\u001b[0m\u001b[0merror_handler\u001b[0m\u001b[0;34m.\u001b[0m\u001b[0mcheck_response\u001b[0m\u001b[0;34m(\u001b[0m\u001b[0mresponse\u001b[0m\u001b[0;34m)\u001b[0m\u001b[0;34m\u001b[0m\u001b[0;34m\u001b[0m\u001b[0m\n\u001b[0m\u001b[1;32m    322\u001b[0m             response['value'] = self._unwrap_value(\n\u001b[1;32m    323\u001b[0m                 response.get('value', None))\n",
      "\u001b[0;32m~/miniconda3/envs/final_project/lib/python3.7/site-packages/selenium/webdriver/remote/errorhandler.py\u001b[0m in \u001b[0;36mcheck_response\u001b[0;34m(self, response)\u001b[0m\n\u001b[1;32m    240\u001b[0m                 \u001b[0malert_text\u001b[0m \u001b[0;34m=\u001b[0m \u001b[0mvalue\u001b[0m\u001b[0;34m[\u001b[0m\u001b[0;34m'alert'\u001b[0m\u001b[0;34m]\u001b[0m\u001b[0;34m.\u001b[0m\u001b[0mget\u001b[0m\u001b[0;34m(\u001b[0m\u001b[0;34m'text'\u001b[0m\u001b[0;34m)\u001b[0m\u001b[0;34m\u001b[0m\u001b[0;34m\u001b[0m\u001b[0m\n\u001b[1;32m    241\u001b[0m             \u001b[0;32mraise\u001b[0m \u001b[0mexception_class\u001b[0m\u001b[0;34m(\u001b[0m\u001b[0mmessage\u001b[0m\u001b[0;34m,\u001b[0m \u001b[0mscreen\u001b[0m\u001b[0;34m,\u001b[0m \u001b[0mstacktrace\u001b[0m\u001b[0;34m,\u001b[0m \u001b[0malert_text\u001b[0m\u001b[0;34m)\u001b[0m\u001b[0;34m\u001b[0m\u001b[0;34m\u001b[0m\u001b[0m\n\u001b[0;32m--> 242\u001b[0;31m         \u001b[0;32mraise\u001b[0m \u001b[0mexception_class\u001b[0m\u001b[0;34m(\u001b[0m\u001b[0mmessage\u001b[0m\u001b[0;34m,\u001b[0m \u001b[0mscreen\u001b[0m\u001b[0;34m,\u001b[0m \u001b[0mstacktrace\u001b[0m\u001b[0;34m)\u001b[0m\u001b[0;34m\u001b[0m\u001b[0;34m\u001b[0m\u001b[0m\n\u001b[0m\u001b[1;32m    243\u001b[0m \u001b[0;34m\u001b[0m\u001b[0m\n\u001b[1;32m    244\u001b[0m     \u001b[0;32mdef\u001b[0m \u001b[0m_value_or_default\u001b[0m\u001b[0;34m(\u001b[0m\u001b[0mself\u001b[0m\u001b[0;34m,\u001b[0m \u001b[0mobj\u001b[0m\u001b[0;34m,\u001b[0m \u001b[0mkey\u001b[0m\u001b[0;34m,\u001b[0m \u001b[0mdefault\u001b[0m\u001b[0;34m)\u001b[0m\u001b[0;34m:\u001b[0m\u001b[0;34m\u001b[0m\u001b[0;34m\u001b[0m\u001b[0m\n",
      "\u001b[0;31mNoSuchElementException\u001b[0m: Message: no such element: Unable to locate element: {\"method\":\"xpath\",\"selector\":\"/html/body/div[6]/div[4]/div[3]/section[1]/div[2]/div/div/div[1]/div[2]/div/ul/li[1]/div/artdeco-entity-lockup/artdeco-entity-lockup-content/h3/a\"}\n  (Session info: chrome=80.0.3987.162)\n"
     ]
    }
   ],
   "source": [
    "# Extracting info\n",
    "last_job_page = n_pages*25\n",
    "print(last_job_page)\n",
    "\n",
    "df_jobs = pd.DataFrame(columns=['JOB TITLE',\n",
    "                                'LOCATION',\n",
    "                                'Current Job Id',\n",
    "                                'Job name',\n",
    "                                'Company name',\n",
    "                                'Company location',\n",
    "                                'Job info'\n",
    "                               ])\n",
    "\n",
    "\n",
    "for p in range(0,last_job_page,25):\n",
    "#for p in range(0,1):\n",
    "    \n",
    "    print(f'pagina: {p}')\n",
    "    \n",
    "    #Exploring each page with maximum 25 job posts\n",
    "    JOB_URL = \\\n",
    "       f'https://www.linkedin.com/jobs/search/?keywords={job_title}&location={location}&start={p}'\n",
    "    browser.get(JOB_URL)\n",
    "    \n",
    "    \n",
    "    # Taking table of job posts\n",
    "    try:\n",
    "        tabla_izq = \\\n",
    "            browser.find_element_by_xpath(\"/html/body/div[5]/div[4]/div[3]/section[1]/div[2]/div/div/div[1]\")\n",
    "    except:\n",
    "        tabla_izq = \\\n",
    "            browser.find_element_by_xpath(\"/html/body/div[6]/div[4]/div[3]/section[1]/div[2]/div/div/div[1]\")\n",
    "    time.sleep(0.1)\n",
    "     \n",
    "    \n",
    "    # Getting quantity of job posts that you can see directly in each page\n",
    "    if p < (last_job_page-25):\n",
    "        job_list = \\\n",
    "        tabla_izq.text.split('Manage alerts\\n')[1].split('Close\\n')[0].split('ago')    \n",
    "    else:\n",
    "        job_list = \\\n",
    "        tabla_izq.text.split('Manage alerts\\n')[1].split('Close\\n')[0].split('Create alert for this search\\n')[0].split('ago')\n",
    "     \n",
    "    \n",
    "    n_job_list = len(job_list)-1\n",
    "    print(f'Lista de trabajos visibles:{n_job_list}') \n",
    "    \n",
    "    for i in range(1,n_job_list+1):\n",
    "    #for i in range(1,26):\n",
    "    #for i in range(1,2):\n",
    "        print(f'i:{i}')\n",
    "        # Selecting job post in order\n",
    "        try:\n",
    "            job_post = browser.find_element_by_xpath\\\n",
    "            (f'/html/body/div[5]/div[4]/div[3]/section[1]/div[2]/div/div/div[1]/div[2]/div/ul/li[{i}]/div/artdeco-entity-lockup/artdeco-entity-lockup-content/h3/a')\n",
    "        except:\n",
    "            job_post = browser.find_element_by_xpath\\\n",
    "            (f'/html/body/div[6]/div[4]/div[3]/section[1]/div[2]/div/div/div[1]/div[2]/div/ul/li[{i}]/div/artdeco-entity-lockup/artdeco-entity-lockup-content/h3/a')\n",
    "        print(job_post.text)\n",
    "        job_post.click()\n",
    "        time.sleep(0.1)\n",
    "        \n",
    "        # Getting job post ID\n",
    "        print(browser.current_url)      \n",
    "        currentJobId = browser.current_url.split('currentJobId=')[1].split('&')[0] #col1_pd\n",
    "        print(f'{currentJobId}')\n",
    "\n",
    "        # Extracting job information\n",
    "        try:\n",
    "            job_post_right = browser.find_element_by_xpath\\\n",
    "                ('/html/body/div[5]/div[4]/div[3]/section[1]/div[2]/div/div/div[2]')\n",
    "        except:\n",
    "            job_post_right = browser.find_element_by_xpath\\\n",
    "                ('/html/body/div[6]/div[4]/div[3]/section[1]/div[2]/div/div/div[2]')\n",
    "        #getting info and only separating: job name, company name, company location\n",
    "        job_post_right_content = job_post_right.text.split('\\n', 5)\n",
    "        job_post_name             = job_post_right_content[0]\n",
    "        job_post_company_name     = job_post_right_content[2]\n",
    "        job_post_company_location = job_post_right_content[4]\n",
    "        job_post_info             = job_post_right_content[5]\n",
    "        \n",
    "        df_jobs = df_jobs.append({\n",
    "                                    'JOB TITLE'       :job_title_df,\n",
    "                                    'LOCATION'        :location,\n",
    "                                    'Current Job Id'  :currentJobId,\n",
    "                                    'Job name'        :job_post_name,\n",
    "                                    'Company name'    :job_post_company_name,\n",
    "                                    'Company location':job_post_company_location,\n",
    "                                    'Job info'        :job_post_info\n",
    "                                 }, ignore_index=True)\n",
    "        \n",
    "        print(len(job_post_right_content))\n",
    "        print(job_post_name)\n",
    "        print(job_post_company_name)\n",
    "        print(job_post_company_location)\n",
    "        #print(f'{job_post_info}\\n')\n",
    "\n",
    "        # if you wanna watch the job page\n",
    "        # html = f'https://www.linkedin.com/jobs/view/{currentJobId}/' # > hit's possible to use REQUESTS\n",
    "        \n",
    "df_jobs.head(10)"
   ]
  },
  {
   "cell_type": "code",
   "execution_count": null,
   "metadata": {},
   "outputs": [],
   "source": [
    "df_jobs.head(5)"
   ]
  },
  {
   "cell_type": "code",
   "execution_count": null,
   "metadata": {},
   "outputs": [],
   "source": [
    "df_jobs.dtypes"
   ]
  },
  {
   "cell_type": "code",
   "execution_count": null,
   "metadata": {},
   "outputs": [],
   "source": []
  },
  {
   "cell_type": "markdown",
   "metadata": {},
   "source": [
    "***"
   ]
  },
  {
   "cell_type": "code",
   "execution_count": null,
   "metadata": {},
   "outputs": [],
   "source": [
    "#tabla_grande = \\\n",
    "#browser.find_element_by_xpath(\"/html/body/div[5]/div[4]/div[3]/section[1]/div[2]/div/div\")\n",
    "\n",
    "#                               html/body/div[5]/div[4]/div[3]/section[1]/div[2]\n",
    "#                               /html/body/div[5]/div[4]/div[3]/section[1]/div[2]/div/div/div[1]"
   ]
  },
  {
   "cell_type": "code",
   "execution_count": null,
   "metadata": {},
   "outputs": [],
   "source": [
    "#Taking table of job posts\n",
    "try:\n",
    "    tabla_izq = \\\n",
    "    browser.find_element_by_xpath(\"/html/body/div[5]/div[4]/div[3]/section[1]/div[2]/div/div/div[1]\")\n",
    "                                  #/html/body/div[6]/div[4]/div[3]/section[1]/div[2]/div/div/div[1]\n",
    "                                  #/html/body/div[6]/div[4]/div[3]/section[1]/div[2]/div/div/div[1]/div[2]\n",
    "                                  #/html/body/div[5]/div[4]/div[3]/section[1]/div[2]/div/div/div[1]/div[2]\n",
    "    #browser.find_element_by_class_name(\"jobs-search-two-pane__results display-flex\")\n",
    "    #                              /html/body/div[5]/div[4]/div[3]/section[1]/div[2]/div/div/div[1]\n",
    "except:\n",
    "    tabla_izq = \\\n",
    "    browser.find_element_by_xpath(\"/html/body/div[6]/div[4]/div[3]/section[1]/div[2]/div/div/div[1]\")\n",
    "    \n",
    "time.sleep(0.5)\n",
    "tabla_izq.text"
   ]
  },
  {
   "cell_type": "code",
   "execution_count": null,
   "metadata": {},
   "outputs": [],
   "source": [
    "tabla_izq.text.split('\\n')"
   ]
  },
  {
   "cell_type": "code",
   "execution_count": null,
   "metadata": {},
   "outputs": [],
   "source": [
    "current_p = int(browser.current_url.split('&start=')[1])//25+1\n",
    "current_p"
   ]
  },
  {
   "cell_type": "code",
   "execution_count": null,
   "metadata": {},
   "outputs": [],
   "source": [
    "#are_you = browser.find_element_by_class_name(\"jobs-search-feedback-card\")\n",
    "#are_you.is_enabled()"
   ]
  },
  {
   "cell_type": "code",
   "execution_count": null,
   "metadata": {},
   "outputs": [],
   "source": [
    "#for last page there is another logic (not 'Close')\n",
    "if current_p < n_pages:\n",
    "    job_list = tabla_izq.text.split('Manage alerts\\n')[1].split('Close\\n')[0].split('ago')\n",
    "else:\n",
    "    job_list = \\\n",
    "    tabla_izq.text.split('Manage alerts\\n')[1].split('Close\\n')[0].split('Create alert for this search\\n')[0].split('ago')\n",
    "\n",
    "n_job_list = len(job_list)-1\n",
    "print(n_job_list) \n",
    "job_list "
   ]
  },
  {
   "cell_type": "code",
   "execution_count": null,
   "metadata": {},
   "outputs": [],
   "source": [
    "# TESTING - clicking one selected job\n",
    "n = n_job_list # max 25\n",
    "\n",
    "# Selecting job post in order\n",
    "try:\n",
    "    job_post = browser.find_element_by_xpath\\\n",
    "    (f'/html/body/div[5]/div[4]/div[3]/section[1]/div[2]/div/div/div[1]/div[2]/div/ul/li[{n}]/div/artdeco-entity-lockup/artdeco-entity-lockup-content/h3/a')\n",
    "except:\n",
    "    job_post = browser.find_element_by_xpath\\\n",
    "    (f'/html/body/div[6]/div[4]/div[3]/section[1]/div[2]/div/div/div[1]/div[2]/div/ul/li[{n}]/div/artdeco-entity-lockup/artdeco-entity-lockup-content/h3/a')\n",
    "#     /html/body/div[5]/div[4]/div[3]/section[1]/div[2]/div/div/div[1]/div[2]/div/ul/li[1]/div/artdeco-entity-lockup/artdeco-entity-lockup-content/h3/a\n",
    "#  (f'/html/body/div[5]/div[4]/div[3]/section[1]/div[2]/div/div/div[1]/div[2]/div/ul/li[{n}]')\n",
    "job_post.click()\n",
    "\n",
    "# Getting job post ID\n",
    "currentJobId = browser.current_url.split('currentJobId=')[1].split('&')[0]\n",
    "#currentJobId = browser.current_url.split('?')[1].split('&')[0].split('=')[1]\n",
    "print(currentJobId)\n",
    "\n",
    "# Extracting job information\n",
    "try:\n",
    "    job_post_right = browser.find_element_by_xpath\\\n",
    "        ('/html/body/div[5]/div[4]/div[3]/section[1]/div[2]/div/div/div[2]')\n",
    "except:\n",
    "    job_post_right = browser.find_element_by_xpath\\\n",
    "        ('/html/body/div[6]/div[4]/div[3]/section[1]/div[2]/div/div/div[2]')\n",
    "job_post_right_content = job_post_right.text.split('\\n',16)\n",
    "print(len(job_post_right_content))\n",
    "print(f'{job_post_right_content}')\n",
    "#print(f'{job_post_right.text.split('\\n',15)}')\n",
    "\n",
    "# 200402 21.00 (Session info: chrome=80.0.3987.162)\n",
    "# 200403 21.00 (Session info: chrome=80.0.3987.162)\n",
    "# 200404 17.00  (Session info: chrome=80.0.3987.162)"
   ]
  },
  {
   "cell_type": "code",
   "execution_count": null,
   "metadata": {},
   "outputs": [],
   "source": [
    "list(range(0,n_pages*25,25))"
   ]
  },
  {
   "cell_type": "code",
   "execution_count": null,
   "metadata": {},
   "outputs": [],
   "source": [
    "browser.get_log"
   ]
  },
  {
   "cell_type": "code",
   "execution_count": null,
   "metadata": {},
   "outputs": [],
   "source": [
    "izq = browser.find_element_by_class_name('jobs-search-results jobs-search-results--is-two-pane')\n",
    "izq.text()"
   ]
  },
  {
   "cell_type": "code",
   "execution_count": null,
   "metadata": {},
   "outputs": [],
   "source": [
    "tabla_izq.text"
   ]
  },
  {
   "cell_type": "code",
   "execution_count": null,
   "metadata": {},
   "outputs": [],
   "source": []
  },
  {
   "cell_type": "code",
   "execution_count": null,
   "metadata": {},
   "outputs": [],
   "source": [
    "import requests\n",
    "from bs4 import BeautifulSoup"
   ]
  },
  {
   "cell_type": "code",
   "execution_count": null,
   "metadata": {},
   "outputs": [],
   "source": [
    "#with requests.Session() as s:\n",
    "\n",
    "with requests.Session() as session:\n",
    "    \n",
    "    response = session.get(LOGIN_URL)\n",
    "    session = session.cookies.get_dict()\n",
    "    bcookie = session.get('bcookie')\n",
    "    print(bcookie)\n",
    "    cookie = bcookie.split('&')[1].split('\"')[0]\n",
    "    print(f'\\n{cookie}')\n",
    "    \n",
    "    LoginCsrfParam   = cookie\n",
    "    Session_key      = \"cristopher.rojas.lepe@gmail.com\" # \"cristopher.rojas.lepe%40gmail.com\"\n",
    "    Session_password = \"M3t4n01@\" # \"M3t4n01%40\"\n",
    "    Session_redirect = \"https%3A%2F%2Fwww.linkedin.com%2Fjobs\" # \"https://www.linkedin.com/jobs\" #\"https%3A%2F%2Fwww.linkedin.com%2Fjobs\"\n",
    "    Trk              = \"guest_homepage-jobseeker_sign-in-submit\"\n",
    "    \n",
    "    payload = {'loginCsrfParam'  : LoginCsrfParam,\n",
    "               'session_key'     : Session_key,\n",
    "               'session_password': Session_password,\n",
    "               'session_redirect': Session_redirect,\n",
    "               'trk'             : Trk\n",
    "              }\n",
    "    print(f'\\n{payload}')\n",
    "    p = requests.post(LOGIN_URL, data = payload)  \n",
    "    #p = session.post(LOGIN_URL, data = payload) \n",
    "    # print the html returned or something more intelligent to see if it's a successful login page.\n",
    "    print(f'\\n{p.content}')\n",
    "    soup = BeautifulSoup(p.content,'html.parser')\n",
    "    print(f'\\n{soup}')\n",
    "\n",
    "    # An authorised request.\n",
    "#     r = s.get('A protected web page url')\n",
    "#     print r.text"
   ]
  }
 ],
 "metadata": {
  "kernelspec": {
   "display_name": "Python [conda env:final_project]",
   "language": "python",
   "name": "conda-env-final_project-py"
  },
  "language_info": {
   "codemirror_mode": {
    "name": "ipython",
    "version": 3
   },
   "file_extension": ".py",
   "mimetype": "text/x-python",
   "name": "python",
   "nbconvert_exporter": "python",
   "pygments_lexer": "ipython3",
   "version": "3.7.6"
  }
 },
 "nbformat": 4,
 "nbformat_minor": 4
}
