{
 "cells": [
  {
   "cell_type": "markdown",
   "metadata": {},
   "source": [
    "# Step 1: ACQUIRE DATA"
   ]
  },
  {
   "cell_type": "markdown",
   "metadata": {},
   "source": [
    "> ## SEARCH"
   ]
  },
  {
   "cell_type": "code",
   "execution_count": null,
   "metadata": {},
   "outputs": [],
   "source": [
    "#job_title_input = input(\"PLEASE ENTER THE JOB THAT YOU'D LIKE TO SEARCH: \")\n",
    "job_title_input = 'data analyst'"
   ]
  },
  {
   "cell_type": "code",
   "execution_count": null,
   "metadata": {},
   "outputs": [],
   "source": [
    "job_title_df = job_title_input.lower()\n",
    "job_title_s    = job_title_input.lower().replace(' ', '%20')\n",
    "job_title_s "
   ]
  },
  {
   "cell_type": "code",
   "execution_count": null,
   "metadata": {},
   "outputs": [],
   "source": [
    "# geoId=\"100994331\""
   ]
  },
  {
   "cell_type": "code",
   "execution_count": null,
   "metadata": {},
   "outputs": [],
   "source": []
  },
  {
   "cell_type": "markdown",
   "metadata": {},
   "source": [
    "> ## WEB SCRAPPING"
   ]
  },
  {
   "cell_type": "markdown",
   "metadata": {},
   "source": [
    "### SELENIUM >"
   ]
  },
  {
   "cell_type": "code",
   "execution_count": 150,
   "metadata": {},
   "outputs": [],
   "source": [
    "from selenium import webdriver\n",
    "from selenium.webdriver.common.action_chains import ActionChains\n",
    "import os\n",
    "from dotenv import load_dotenv\n",
    "import time\n",
    "import re\n",
    "import requests"
   ]
  },
  {
   "cell_type": "code",
   "execution_count": null,
   "metadata": {},
   "outputs": [],
   "source": [
    "#import requests\n",
    "#from bs4 import BeautifulSoup"
   ]
  },
  {
   "cell_type": "markdown",
   "metadata": {},
   "source": [
    "#### DRIVER PATH:"
   ]
  },
  {
   "cell_type": "code",
   "execution_count": 4,
   "metadata": {},
   "outputs": [],
   "source": [
    "#LINUX\n",
    "#os.environ['PATH'] = f'{os.environ[\"PATH\"]}:/home/cristopherrl/Documents/program/selenium/drivers/'\n",
    "#WINDOWS\n",
    "os.environ['PATH'] = f'{os.environ[\"PATH\"]};C:\\\\Users\\\\x385645\\\\Documents\\\\Selenium'"
   ]
  },
  {
   "cell_type": "code",
   "execution_count": 5,
   "metadata": {},
   "outputs": [
    {
     "data": {
      "text/plain": [
       "'C:\\\\Users\\\\x385645\\\\AppData\\\\Local\\\\Continuum\\\\anaconda3\\\\envs\\\\final_project;C:\\\\Users\\\\x385645\\\\AppData\\\\Local\\\\Continuum\\\\anaconda3\\\\envs\\\\final_project\\\\Library\\\\mingw-w64\\\\bin;C:\\\\Users\\\\x385645\\\\AppData\\\\Local\\\\Continuum\\\\anaconda3\\\\envs\\\\final_project\\\\Library\\\\usr\\\\bin;C:\\\\Users\\\\x385645\\\\AppData\\\\Local\\\\Continuum\\\\anaconda3\\\\envs\\\\final_project\\\\Library\\\\bin;C:\\\\Users\\\\x385645\\\\AppData\\\\Local\\\\Continuum\\\\anaconda3\\\\envs\\\\final_project\\\\Scripts;C:\\\\Users\\\\x385645\\\\AppData\\\\Local\\\\Continuum\\\\anaconda3\\\\envs\\\\final_project\\\\bin;C:\\\\Users\\\\x385645\\\\AppData\\\\Local\\\\Continuum\\\\anaconda3\\\\condabin;C:\\\\ARQDISP;C:\\\\PROGRA~1\\\\7-ZIP;C:\\\\PROGRAM FILES (X86)\\\\IBM\\\\TRACE FACILITY;C:\\\\PROGRAM FILES (X86)\\\\IBM\\\\PERSONAL COMMUNICATIONS;C:\\\\PROGRAM FILES (X86)\\\\JAVA\\\\JRE1.8.0_91\\\\BIN\\\\CLIENT;C:\\\\PROGRAMDATA\\\\ORACLE\\\\JAVA\\\\JAVAPATH;C:\\\\WINDOWS\\\\SYSTEM32;C:\\\\WINDOWS;C:\\\\WINDOWS\\\\SYSTEM32\\\\WBEM;C:\\\\WINDOWS\\\\SYSTEM32\\\\WINDOWSPOWERSHELL\\\\V1.0;.;C:\\\\WINDOWS\\\\system32;C:\\\\WINDOWS;C:\\\\WINDOWS\\\\System32\\\\Wbem;C:\\\\WINDOWS\\\\System32\\\\WindowsPowerShell\\\\v1.0;C:\\\\WINDOWS\\\\System32\\\\OpenSSH;C:\\\\Users\\\\x385645\\\\AppData\\\\Local\\\\Microsoft\\\\WindowsApps;C:\\\\Users\\\\x385645\\\\AppData\\\\Local\\\\Programs\\\\Azure Data Studio\\\\bin;C:\\\\Users\\\\x385645\\\\AppData\\\\Local\\\\Programs\\\\Git\\\\cmd;C:\\\\Users\\\\x385645\\\\Documents\\\\Selenium'"
      ]
     },
     "execution_count": 5,
     "metadata": {},
     "output_type": "execute_result"
    }
   ],
   "source": [
    "os.environ['PATH']"
   ]
  },
  {
   "cell_type": "code",
   "execution_count": null,
   "metadata": {},
   "outputs": [],
   "source": []
  },
  {
   "cell_type": "markdown",
   "metadata": {},
   "source": [
    "#### .ENV PATH:"
   ]
  },
  {
   "cell_type": "code",
   "execution_count": 6,
   "metadata": {},
   "outputs": [
    {
     "data": {
      "text/plain": [
       "True"
      ]
     },
     "execution_count": 6,
     "metadata": {},
     "output_type": "execute_result"
    }
   ],
   "source": [
    "load_dotenv(dotenv_path='../.env')"
   ]
  },
  {
   "cell_type": "markdown",
   "metadata": {},
   "source": [
    "#### SIGN IN:"
   ]
  },
  {
   "cell_type": "code",
   "execution_count": 7,
   "metadata": {},
   "outputs": [],
   "source": [
    "browser = webdriver.Chrome()\n",
    "URL = 'https://www.linkedin.com/login'\n",
    "browser.get(URL)"
   ]
  },
  {
   "cell_type": "code",
   "execution_count": 8,
   "metadata": {},
   "outputs": [],
   "source": [
    "SECRET_USER = os.getenv(\"SESSION_KEY\")\n",
    "SECRET_PASS = os.getenv(\"SESSION_PASSWORD\")"
   ]
  },
  {
   "cell_type": "code",
   "execution_count": 9,
   "metadata": {},
   "outputs": [],
   "source": [
    "user     = browser.find_element_by_xpath('/html/body/div/main/div/form/div[1]/input')\n",
    "user.send_keys(SECRET_USER)\n",
    "time.sleep(1)"
   ]
  },
  {
   "cell_type": "code",
   "execution_count": 10,
   "metadata": {},
   "outputs": [],
   "source": [
    "password = browser.find_element_by_xpath('/html/body/div/main/div/form/div[2]/input')\n",
    "password.send_keys(SECRET_PASS)\n",
    "time.sleep(1)"
   ]
  },
  {
   "cell_type": "code",
   "execution_count": 11,
   "metadata": {},
   "outputs": [],
   "source": [
    "#sign_in  = browser.find_element_by_xpath('/html/body/div/main/div/form/div[3]/button')\n",
    "sign_in  = browser.find_element_by_class_name('login__form_action_container')\n",
    "sign_in.click()\n",
    "time.sleep(1)"
   ]
  },
  {
   "cell_type": "code",
   "execution_count": null,
   "metadata": {},
   "outputs": [],
   "source": []
  },
  {
   "cell_type": "markdown",
   "metadata": {},
   "source": [
    "***\n",
    "#### LINKEDIN PROFILE :"
   ]
  },
  {
   "cell_type": "code",
   "execution_count": 156,
   "metadata": {},
   "outputs": [],
   "source": [
    "profile = browser.find_element_by_xpath\\\n",
    "('/html/body/header/div/nav/ul/li[6]/div/artdeco-dropdown/artdeco-dropdown-trigger/div')\n",
    "profile.click() "
   ]
  },
  {
   "cell_type": "code",
   "execution_count": 157,
   "metadata": {},
   "outputs": [],
   "source": [
    "link_profile = browser.find_element_by_xpath\\\n",
    "('/html/body/header/div/nav/ul/li[6]/div/artdeco-dropdown/artdeco-dropdown-content/div/ul/li[1]/a/div[2]/span')\n",
    "link_profile.click()"
   ]
  },
  {
   "cell_type": "markdown",
   "metadata": {},
   "source": [
    "#### Profile page >"
   ]
  },
  {
   "cell_type": "code",
   "execution_count": 158,
   "metadata": {},
   "outputs": [
    {
     "data": {
      "text/plain": [
       "'https://www.linkedin.com/in/cristopherrojaslepe/'"
      ]
     },
     "execution_count": 158,
     "metadata": {},
     "output_type": "execute_result"
    }
   ],
   "source": [
    "browser.current_url"
   ]
  },
  {
   "cell_type": "code",
   "execution_count": 159,
   "metadata": {},
   "outputs": [
    {
     "data": {
      "text/plain": [
       "'cristopherrojaslepe'"
      ]
     },
     "execution_count": 159,
     "metadata": {},
     "output_type": "execute_result"
    }
   ],
   "source": [
    "linkedin_profile = browser.current_url.split('/')[4]\n",
    "linkedin_profile"
   ]
  },
  {
   "cell_type": "markdown",
   "metadata": {},
   "source": [
    "#### Headline:"
   ]
  },
  {
   "cell_type": "code",
   "execution_count": 161,
   "metadata": {},
   "outputs": [
    {
     "name": "stdout",
     "output_type": "stream",
     "text": [
      "opcion 2\n"
     ]
    },
    {
     "data": {
      "text/plain": [
       "'Data Scientist & Analyst | Python ( Pandas , NumPy , SciPy , Matplolib ) | ML | Tableau | SQL | Git'"
      ]
     },
     "execution_count": 161,
     "metadata": {},
     "output_type": "execute_result"
    }
   ],
   "source": [
    "try:\n",
    "#if   browser.find_element_by_xpath('/html/body/div[5]/div[3]/div[3]/div/div/div/div/div[2]/main/div[1]/section/div[2]/div[2]/div[1]/h2'):\n",
    "    profile_headline = browser.find_element_by_xpath\\\n",
    "('/html/body/div[5]/div[3]/div[3]/div/div/div/div/div[2]/main/div[1]/section/div[2]/div[2]/div[1]/h2')\n",
    "    print('opcion 1')\n",
    "\n",
    "except:\n",
    "#elif browser.find_element_by_xpath('/html/body/div[5]/div[4]/div[3]/div/div/div/div/div[2]/main/div[1]/section/div[2]/div[2]/div[1]/h2'):\n",
    "    profile_headline = browser.find_element_by_xpath\\\n",
    "('/html/body/div[5]/div[4]/div[3]/div/div/div/div/div[2]/main/div[1]/section/div[2]/div[2]/div[1]/h2')\n",
    "    print('opcion 2')\n",
    "    \n",
    "profile_headline.text"
   ]
  },
  {
   "cell_type": "markdown",
   "metadata": {},
   "source": [
    "#### Job experience:"
   ]
  },
  {
   "cell_type": "code",
   "execution_count": 162,
   "metadata": {},
   "outputs": [],
   "source": [
    "browser.maximize_window()"
   ]
  },
  {
   "cell_type": "code",
   "execution_count": null,
   "metadata": {},
   "outputs": [],
   "source": [
    "# id='profile-content' >>   /html/body/div[5]/div[4]/div[3]\n",
    "# class='profile-detail' >> /html/body/div[5]/div[4]/div[3]/div/div/div/div/div[2]/main/div[7]"
   ]
  },
  {
   "cell_type": "code",
   "execution_count": 174,
   "metadata": {},
   "outputs": [],
   "source": [
    "# show more experiences\n",
    "#try:    \n",
    "if browser.find_element_by_xpath('/html/body/div[5]/div[4]/div[3]/div/div/div/div/div[2]/main/div[7]/div[2]/span/div/section/div[1]/section/div/button'):\n",
    " #                                /html/body/div[5]/div[4]/div[3]/div/div/div/div/div[2]/main/div[7]/div[2]/span/div/section/div[1]/section/div/button\n",
    "\n",
    "    profile_show_experience = browser.find_element_by_xpath('/html/body/div[5]/div[4]/div[3]/div/div/div/div/div[2]/main/div[7]/div[2]/span/div/section/div[1]/section/div/button')\n",
    "\n",
    "elif browser.find_element_by_xpath(  '/html/body/div[5]/div[3]/div[3]/div/div/div/div/div[2]/main/div[7]/div[2]/span/div/section/div[1]/section/div/button'):\n",
    "    profile_show_experience = browser.find_element_by_xpath ('/html/body/div[5]/div[3]/div[3]/div/div/div/div/div[2]/main/div[7]/div[2]/span/div/section/div[1]/section/div/button')\n",
    "    #actions = ActionChains(browser)\n",
    "    #actions.move_to_element(profile_show_experience).perform()\n",
    "\n",
    "#except:\n",
    "    #actions = ActionChains(browser)\n",
    "    #actions.move_to_element(profile_show_experience).perform()\n",
    "    "
   ]
  },
  {
   "cell_type": "code",
   "execution_count": 175,
   "metadata": {},
   "outputs": [],
   "source": [
    "profile_show_experience.click()"
   ]
  },
  {
   "cell_type": "code",
   "execution_count": 178,
   "metadata": {},
   "outputs": [
    {
     "data": {
      "text/plain": [
       "'Experience\\nCollection Coordination Analyst\\nCompany Name\\nGrupo CIL Marketing Directo Full-time\\nDates Employed\\nMar 2019 – Present\\nEmployment Duration\\n1 yr 2 mos\\nLocation\\nMadrid Area, Spain\\nAnalyze the customer payment behavior to create and manage the development of new processes and projects.\\n\\nResponsible for the coordination of the collection processes in Spain, France and Portugal, ensuring the proper functioning in all countries.\\nReal Estate Agent\\nCompany Name\\nRedpiso Grupo Inmobiliario y Financiero\\nDates Employed\\nApr 2018 – Mar 2019\\nEmployment Duration\\n1 yr\\nLocation\\nMadrid Area, Spain\\nManage a portfolio of properties, negotiating to catch new products and offering them to others clients.\\n\\nBringing assistance to sellers and buyers to close transactions from the beginning to the end of the process.\\n…\\nsee more\\nPricing Analyst\\nCompany Name\\nClaro Chile S.A.\\nDates Employed\\nFeb 2015 – Feb 2017\\nEmployment Duration\\n2 yrs 1 mo\\nLocation\\nSantiago, Chile\\nDefine and upgrade the cost and pricing model of different TELECOM and IT products of the Enterprises Market area, also helping to product areas on launching of new products, supporting to sellers in sales processes, and advising to engineers checking the design of standard projects.\\n\\nDesign special offers to promote the sales of specific products, checking in parallel the prices of the products in the market.\\n\\n• Implementation of new evaluation tools for sales team, optimizing response time to clients from 2 weeks to 1 day.\\n• Development of new standard offer of products based on demand from different customer segments.\\n…\\nsee more\\nFinancial Analyst\\nCompany Name\\nSupermercados Tottus.\\nDates Employed\\nFeb 2014 – Sep 2014\\nEmployment Duration\\n8 mos\\nLocation\\nSantiago, Chile\\nGenerate commercial relationship with different entities involved, attending to their needs, evaluating indicators for cost optimization and detecting deviations.\\n\\nElaborate financial reports for Tottus’ Management and Directory.\\n\\n• Improvement and optimization in Financial Reporting, reducing reporting time process in 20%.\\n…\\nsee more\\nContinuous Improvement Engineer\\nCompany Name\\nFinning South America\\nDates Employed\\nJul 2013 – Jan 2014\\nEmployment Duration\\n7 mos\\nLocation\\nSantiago, Chile\\nModel and redesign the processes that formed the different Finning businesses, in order to achieve connected and efficient process flows.\\n\\nDetect opportunities for improvement in different areas.\\n\\n• Redesign of Equipment Logistic process with SCOR methodology, eliminating waste and optimizing process time.\\n…\\nsee more\\nCompany Name\\nARAUCO, planta Horcones I\\nTotal Duration\\n3 yrs 5 mos\\nTitle\\nOperational Excellence Lead\\nDates Employed\\nJul 2011 – Jan 2013\\nEmployment Duration\\n1 yr 7 mos\\nLocation\\nArauco, Chile\\nGenerate, control and manage the projects created in base of the methodology of Operational Excellence (OE), ensuring these are focused in three principal items: Safety, Environment and Business\\n\\nWorking to reduce process gaps with the goal to improve the Processes Management Indicator (PMI).\\n\\nTrain staff in concepts of Continuous Improvement and Operational Excellence\\n\\n• Annual record in project generation (25) / Fourth place in the national project competition of OE.\\n• Implementation of training plan for workers in each area of the plant, in addition to a plan to expand the philosophy of Continuous Improvement.\\n• Definition and work with EO leaders in each area.\\n…\\nsee more\\nTitle\\nProcess Management Consultant\\nDates Employed\\nSep 2010 – Jul 2011\\nEmployment Duration\\n11 mos\\nLocation\\nArauco, Chile\\nGenerate, control and manage the improvement of operational KPI on each area of the company (Yield, Factor of Operation, Variable Costs), in order to reduce the gap by comparing with optimal scenarios of each process indicator.\\n\\n• Improvement of PMI from 10% to 7% through the management and control of the project portfolio.\\n…\\nsee more\\nShow 1 more role\\nShow fewer experiences'"
      ]
     },
     "execution_count": 178,
     "metadata": {},
     "output_type": "execute_result"
    }
   ],
   "source": [
    "# experiences \n",
    "if browser.find_element_by_xpath('/html/body/div[5]/div[4]/div[3]/div/div/div/div/div[2]/main/div[7]/div[2]/span/div/section/div[1]'):\n",
    "    profile_experience = browser.find_element_by_xpath\\\n",
    "    ('/html/body/div[5]/div[4]/div[3]/div/div/div/div/div[2]/main/div[7]/div[2]/span/div/section/div[1]')\n",
    "\n",
    "elif browser.find_element_by_xpath(  '/html/body/div[5]/div[3]/div[3]/div/div/div/div/div[2]/main/div[7]/div[2]/span/div/section/div[1]'):\n",
    "    profile_experience = browser.find_element_by_xpath\\\n",
    "    ('/html/body/div[5]/div[3]/div[3]/div/div/div/div/div[2]/main/div[7]/div[2]/span/div/section/div[1]')\n",
    "    \n",
    "profile_experience.text "
   ]
  },
  {
   "cell_type": "code",
   "execution_count": 179,
   "metadata": {},
   "outputs": [
    {
     "data": {
      "text/plain": [
       "['1 yr 2 mos', '1 yr', '2 yrs 1 mo', '8 mos', '7 mos', '1 yr 7 mos', '11 mos']"
      ]
     },
     "execution_count": 179,
     "metadata": {},
     "output_type": "execute_result"
    }
   ],
   "source": [
    "pattern_1 = 'Employment Duration\\n(.*)\\nLocation'\n",
    "time_experience = list(re.findall(pattern_1 , profile_experience.text))\n",
    "time_experience"
   ]
  },
  {
   "cell_type": "code",
   "execution_count": 180,
   "metadata": {},
   "outputs": [
    {
     "name": "stdout",
     "output_type": "stream",
     "text": [
      "1 yr 2 mos\n",
      "1 yr\n",
      "2 yrs 1 mo\n",
      "8 mos\n",
      "7 mos\n",
      "1 yr 7 mos\n",
      "11 mos\n",
      "5 years - 26 months\n",
      "7 years - 2 months\n"
     ]
    }
   ],
   "source": [
    "y, m = 0 , 0\n",
    "for t in time_experience:\n",
    "    print(t)\n",
    "    if re.findall('[0-9] yr', t):\n",
    "        year  = re.findall('[0-9] yr', t)[0].split(\" \")[0]\n",
    "        y += int(year)\n",
    "    if re.findall('[0-9] mo', t):\n",
    "        month = re.findall('[0-9] mo', t)[0].split(\" \")[0]\n",
    "        m += int(month)\n",
    "print(y, \"years -\", m,\"months\")\n",
    "m_nuevo = m//12\n",
    "y_nuevo = y + m%12\n",
    "print(y_nuevo , \"years -\", m_nuevo ,\"months\")"
   ]
  },
  {
   "cell_type": "markdown",
   "metadata": {},
   "source": [
    "#### Skills:"
   ]
  },
  {
   "cell_type": "code",
   "execution_count": 181,
   "metadata": {},
   "outputs": [],
   "source": [
    "profile_more_skills = browser.find_element_by_xpath\\\n",
    "(\"/html/body/div[5]/div[4]/div[3]/div/div/div/div/div[2]/main/div[7]/div[3]/div/section/div[2]/button\")\n",
    "profile_more_skills.click()"
   ]
  },
  {
   "cell_type": "code",
   "execution_count": 261,
   "metadata": {},
   "outputs": [
    {
     "data": {
      "text/plain": [
       "'Skills & Endorsements\\nAdd a new skill\\nTake skill quiz\\nMicrosoft Excel\\nSee 5 endorsements for Microsoft Excel\\n5\\nEndorsed by Reinaldo Alarcón Campos, who is highly skilled at this\\nEndorsed by 2 of Cristopher’s colleagues at ARAUCO\\nPassed: LinkedIn Assessments\\nData Analytics\\nSee 1 endorsement for Data Analytics\\n1\\nVictor Galan Vaquerizo has given an endorsement for this skill\\nPython (Programming Language)\\nSee 2 endorsements for Python (Programming Language)\\n2\\nVictor Galan Vaquerizo and 1 connection have given endorsements for this skill\\nIndustry Knowledge\\nProject Management\\nBusiness Process Improvement\\nContinuous Improvement\\nSix Sigma\\nLean manufacturing\\nSee 1 endorsement for Lean manufacturing\\n1\\nBusiness Analysis\\nData Analysis\\nSee 1 endorsement for Data Analysis\\n1\\nProgramming\\nEngineering\\nBusiness Intelligence\\nAnalytical Skills\\nScrum\\nFinancial Analysis\\nStatistics\\nProcess Optimization\\nProcess Engineering\\nMachine Learning\\nData Modeling\\nData Visualization\\nData Science\\nTools & Technologies\\nMicrosoft Office\\nSee 7 endorsements for Microsoft Office\\n7\\nMicrosoft Project\\nSee 1 endorsement for Microsoft Project\\n1\\nVBA\\nSAP\\nSee 2 endorsements for SAP\\n2\\nSQL\\nR\\nTableau\\nBash\\nGit\\nMySQL\\nInterpersonal Skills\\nTeam Management\\nTeamwork\\nNegotiation\\nSee 1 endorsement for Negotiation\\n1\\nLeadership\\nLanguages\\nEnglish\\nEspañol\\nOther Skills\\nMicrosoft Power BI\\nTelco\\nMicrosoft Power Query\\nPower Pivot\\nData Pipelines\\nWeb Scraping\\nVisual Basic for Applications (VBA)\\nNumPy\\nPandas (Software)\\nSeaborn\\nJupyter\\nShow less\\nShow only Cristopher’s featured skills'"
      ]
     },
     "execution_count": 261,
     "metadata": {},
     "output_type": "execute_result"
    }
   ],
   "source": [
    "profile_skills_details = browser.find_element_by_xpath\\\n",
    "('/html/body/div[5]/div[4]/div[3]/div/div/div/div/div[2]/main/div[7]/div[3]/div/section')\n",
    "profile_skills_details.text"
   ]
  },
  {
   "cell_type": "code",
   "execution_count": 272,
   "metadata": {},
   "outputs": [
    {
     "name": "stdout",
     "output_type": "stream",
     "text": [
      "['Skills & Endorsements', 'Add a new skill', 'Take skill quiz', 'Microsoft Excel', 'See 5 endorsements for Microsoft Excel', '5', 'Endorsed by Reinaldo Alarcón Campos, who is highly skilled at this', 'Endorsed by 2 of Cristopher’s colleagues at ARAUCO', 'Passed: LinkedIn Assessments', 'Data Analytics', 'See 1 endorsement for Data Analytics', '1', 'Victor Galan Vaquerizo has given an endorsement for this skill', 'Python (Programming Language)', 'See 2 endorsements for Python (Programming Language)', '2', 'Victor Galan Vaquerizo and 1 connection have given endorsements for this skill', 'Industry Knowledge', 'Project Management', 'Business Process Improvement', 'Continuous Improvement', 'Six Sigma', 'Lean manufacturing', 'See 1 endorsement for Lean manufacturing', '1', 'Business Analysis', 'Data Analysis', 'See 1 endorsement for Data Analysis', '1', 'Programming', 'Engineering', 'Business Intelligence', 'Analytical Skills', 'Scrum', 'Financial Analysis', 'Statistics', 'Process Optimization', 'Process Engineering', 'Machine Learning', 'Data Modeling', 'Data Visualization', 'Data Science', 'Tools & Technologies', 'Microsoft Office', 'See 7 endorsements for Microsoft Office', '7', 'Microsoft Project', 'See 1 endorsement for Microsoft Project', '1', 'VBA', 'SAP', 'See 2 endorsements for SAP', '2', 'SQL', 'R', 'Tableau', 'Bash', 'Git', 'MySQL', 'Interpersonal Skills', 'Team Management', 'Teamwork', 'Negotiation', 'See 1 endorsement for Negotiation', '1', 'Leadership', 'Languages', 'English', 'Español', 'Other Skills', 'Microsoft Power BI', 'Telco', 'Microsoft Power Query', 'Power Pivot', 'Data Pipelines', 'Web Scraping', 'Visual Basic for Applications (VBA)', 'NumPy', 'Pandas (Software)', 'Seaborn', 'Jupyter', 'Show less', 'Show only Cristopher’s featured skills']\n"
     ]
    }
   ],
   "source": [
    "skills = profile_skills_details.text.split(\"\\n\")\n",
    "print(skills)\n",
    "not_needed_words = ['Skills & Endorsements', \n",
    "                    'Add a new skill', \n",
    "                    'Take skill quiz', \n",
    "                    'Passed: LinkedIn Assessments',\n",
    "                    'Tools & Technologies',\n",
    "                    'Interpersonal Skills',\n",
    "                    'Languages',\n",
    "                    'Other Skills',\n",
    "                    'Show less',\n",
    "                   ]"
   ]
  },
  {
   "cell_type": "code",
   "execution_count": 275,
   "metadata": {},
   "outputs": [
    {
     "name": "stdout",
     "output_type": "stream",
     "text": [
      "['Skills & Endorsements', 'Add a new skill', 'Take skill quiz', 'See 5 endorsements for Microsoft Excel', '5', 'Endorsed by Reinaldo Alarcón Campos, who is highly skilled at this', 'Endorsed by 2 of Cristopher’s colleagues at ARAUCO', 'Passed: LinkedIn Assessments', 'See 1 endorsement for Data Analytics', '1', 'Victor Galan Vaquerizo has given an endorsement for this skill', 'See 2 endorsements for Python (Programming Language)', '2', 'Victor Galan Vaquerizo and 1 connection have given endorsements for this skill', 'See 1 endorsement for Lean manufacturing', '1', 'See 1 endorsement for Data Analysis', '1', 'Tools & Technologies', 'See 7 endorsements for Microsoft Office', '7', 'See 1 endorsement for Microsoft Project', '1', 'See 2 endorsements for SAP', '2', 'Interpersonal Skills', 'See 1 endorsement for Negotiation', '1', 'Languages', 'Other Skills', 'Show less', 'Show only Cristopher’s featured skills']\n"
     ]
    },
    {
     "data": {
      "text/plain": [
       "['Business Process Improvement',\n",
       " 'Español',\n",
       " 'Data Pipelines',\n",
       " 'Data Visualization',\n",
       " 'Python (Programming Language)',\n",
       " 'Business Intelligence',\n",
       " 'Tableau',\n",
       " 'Visual Basic for Applications (VBA)',\n",
       " 'Leadership',\n",
       " 'Web Scraping',\n",
       " 'NumPy',\n",
       " 'Data Modeling',\n",
       " 'Business Analysis',\n",
       " 'Microsoft Excel',\n",
       " 'Scrum',\n",
       " 'Programming',\n",
       " 'Power Pivot',\n",
       " 'Team Management',\n",
       " 'Microsoft Power BI',\n",
       " 'Bash',\n",
       " 'Microsoft Project',\n",
       " 'Pandas (Software)',\n",
       " 'Continuous Improvement',\n",
       " 'Microsoft Office',\n",
       " 'Industry Knowledge',\n",
       " 'Microsoft Power Query',\n",
       " 'Lean manufacturing',\n",
       " 'Six Sigma',\n",
       " 'Analytical Skills',\n",
       " 'SAP',\n",
       " 'SQL',\n",
       " 'Engineering',\n",
       " 'Data Science',\n",
       " 'Data Analysis',\n",
       " 'Git',\n",
       " 'VBA',\n",
       " 'Financial Analysis',\n",
       " 'Statistics',\n",
       " 'Negotiation',\n",
       " 'Telco',\n",
       " 'MySQL',\n",
       " 'Process Optimization',\n",
       " 'Teamwork',\n",
       " 'Project Management',\n",
       " 'Seaborn',\n",
       " 'Process Engineering',\n",
       " 'Data Analytics',\n",
       " 'English',\n",
       " 'R',\n",
       " 'Jupyter',\n",
       " 'Machine Learning']"
      ]
     },
     "execution_count": 275,
     "metadata": {},
     "output_type": "execute_result"
    }
   ],
   "source": [
    "#I need to do it 3 times to get the correct list ??????\n",
    "skills_delete = []\n",
    "for s in skills:\n",
    "    #if (s in not_needed_words) or ('ndorse' in s) or ('Show only' in s) or s.isdigit():\n",
    "    if (s in not_needed_words) or re.search('ndorse',s) or re.search('Show only',s) or re.search('[0-9]',s):\n",
    "        #print(s)\n",
    "        skills_delete.append(s)\n",
    "        #skills.remove(s)\n",
    "print(skills_delete)\n",
    "skills_clean = list(set(skills)-set(skills_delete))\n",
    "skills_clean"
   ]
  },
  {
   "cell_type": "code",
   "execution_count": 249,
   "metadata": {},
   "outputs": [],
   "source": [
    "#skills_1 = re.findall( '\\n(.*)\\nSee' , profile_skills_details.text.split(\"\\nIndustry Knowledge\")[0])\n",
    "#skills_1"
   ]
  },
  {
   "cell_type": "code",
   "execution_count": 250,
   "metadata": {},
   "outputs": [],
   "source": [
    "#skills_2_delete = re.findall('\\nShow less\\nShow only(.*)featured skills', profile_skills_details.text.split(\"\\nIndustry Knowledge\")[1])[0]\n",
    "#skills_2_delete"
   ]
  },
  {
   "cell_type": "code",
   "execution_count": 248,
   "metadata": {},
   "outputs": [],
   "source": [
    "#skills_2 = profile_skills_details.text.split(\"\\nIndustry Knowledge\")[1]\\\n",
    "#                                    .replace(\"\\nTools & Technologies\",\"\")\\\n",
    "#                                    .replace(\"\\nInterpersonal Skills\",\"\")\\\n",
    "#                                    .replace(\"\\nLanguages\",\"\")\\\n",
    "#                                    .replace(\"\\nOther Skills\",\"\")\\\n",
    "#                                    .split(\"\\n\")\n",
    "#.replace(f\"\\nShow less\\nShow only{skills_2_delete}featured skills'\",\"\")\\\n",
    "#skills_2                            "
   ]
  },
  {
   "cell_type": "markdown",
   "metadata": {},
   "source": [
    "***\n",
    "#### JOB SEARCH :"
   ]
  },
  {
   "cell_type": "code",
   "execution_count": null,
   "metadata": {},
   "outputs": [],
   "source": [
    "#location_input = input(\"PLEASE ENTER THE LOCATION WHERE YOU'D LIKE TO SEARCH: \")\n",
    "location_input = 'madrid'"
   ]
  },
  {
   "cell_type": "code",
   "execution_count": null,
   "metadata": {},
   "outputs": [],
   "source": [
    "location = location_input.capitalize()\n",
    "location"
   ]
  },
  {
   "cell_type": "code",
   "execution_count": null,
   "metadata": {},
   "outputs": [],
   "source": [
    "#current_url = browser.current_url"
   ]
  },
  {
   "cell_type": "code",
   "execution_count": null,
   "metadata": {},
   "outputs": [],
   "source": [
    "#browser.get_cookies"
   ]
  },
  {
   "cell_type": "code",
   "execution_count": null,
   "metadata": {},
   "outputs": [],
   "source": []
  },
  {
   "cell_type": "markdown",
   "metadata": {},
   "source": [
    "#### GETTING JOB POSTS :"
   ]
  },
  {
   "cell_type": "code",
   "execution_count": null,
   "metadata": {},
   "outputs": [],
   "source": [
    "#browser.find_element_by_xpath(\"/html/body/div[5]/div[4]/div[3]/section[1]/div[2]/div/div/div[1]/div[1]/div[1]/small\").text.split(\" \")[0]"
   ]
  },
  {
   "cell_type": "code",
   "execution_count": null,
   "metadata": {},
   "outputs": [],
   "source": [
    "#number of pages with job posts\n",
    "def n_pages_linkedin(browser,job_title_s):\n",
    "    \n",
    "    JOB_URL = f'https://www.linkedin.com/jobs/search/?keywords={job_title_s}&location={location}'\n",
    "    browser.get(JOB_URL)\n",
    "    \n",
    "    # Total results\n",
    "    if   browser.find_element_by_xpath(\"/html/body/div[5]/div[4]/div[3]/section[1]/div[2]/div/div/div[1]/div[1]/div[1]/small\"):\n",
    "        results = int(browser.find_element_by_xpath\\\n",
    "        (\"/html/body/div[5]/div[4]/div[3]/section[1]/div[2]/div/div/div[1]/div[1]/div[1]/small\").text.split(\" \")[0])\n",
    "    elif browser.find_element_by_xpath(\"/html/body/div[6]/div[4]/div[3]/section[1]/div[2]/div/div/div[1]/div[1]/div[1]/small\"):\n",
    "        results = int(browser.find_element_by_xpath\\\n",
    "        (\"/html/body/div[5]/div[4]/div[3]/section[1]/div[2]/div/div/div[1]/div[1]/div[1]/small\").text.split(\" \")[0])\n",
    "    \n",
    "    # More than 25 results > More than 1 page\n",
    "    if results > 25:\n",
    "        try:\n",
    "            pages = browser.find_element_by_xpath\\\n",
    "            ('/html/body/div[5]/div[4]/div[3]/section[1]/div[2]/div/div/div[1]/div[2]/div/section/artdeco-pagination/ul')\n",
    "        except:\n",
    "            pages = browser.find_element_by_xpath\\\n",
    "            ('/html/body/div[6]/div[4]/div[3]/section[1]/div[2]/div/div/div[1]/div[2]/div/section/artdeco-pagination/ul')\n",
    "        print(type(pages))\n",
    "        n_pages = int(pages.text.split('\\n')[-1])\n",
    "        print(n_pages)\n",
    "        return n_pages\n",
    "    \n",
    "    else:\n",
    "        n_pages = 1\n",
    "        return n_pages"
   ]
  },
  {
   "cell_type": "code",
   "execution_count": null,
   "metadata": {},
   "outputs": [],
   "source": [
    "#last = browser.find_element_by_xpath()'/html/body/div[6]/div[4]/div[3]/section[1]/div[2]/div/div/div[1]/div[2]/div/section/artdeco-pagination/ul')"
   ]
  },
  {
   "cell_type": "code",
   "execution_count": null,
   "metadata": {},
   "outputs": [],
   "source": [
    "#pages.location_once_scrolled_into_view"
   ]
  },
  {
   "cell_type": "markdown",
   "metadata": {},
   "source": [
    "***"
   ]
  },
  {
   "cell_type": "code",
   "execution_count": null,
   "metadata": {},
   "outputs": [],
   "source": [
    "import pandas as pd\n",
    "from datetime import datetime, timedelta"
   ]
  },
  {
   "cell_type": "code",
   "execution_count": null,
   "metadata": {},
   "outputs": [],
   "source": [
    "# Defining current date time\n",
    "now = datetime.now()\n",
    "now_str = datetime.now().strftime('%Y-%m-%d-%H:%M')"
   ]
  },
  {
   "cell_type": "code",
   "execution_count": null,
   "metadata": {},
   "outputs": [],
   "source": [
    "# Creating df\n",
    "df_jobs = pd.DataFrame(columns=['JOB TITLE',\n",
    "                                'LOCATION',\n",
    "                                'SEARCH DATETIME',\n",
    "                                'Current Job Id',\n",
    "                                'Job name',\n",
    "                                'Company name',\n",
    "                                'Company location',\n",
    "                                'Posted date',\n",
    "                                'Estimated post date',\n",
    "                                'Easy apply',\n",
    "                                'Skills match',\n",
    "                                \n",
    "                                'Seniority Level',\n",
    "                                'Industry',\n",
    "                                'Employment Type',\n",
    "                                'Job Functions',\n",
    "                                'Job info'                                \n",
    "                               ])"
   ]
  },
  {
   "cell_type": "code",
   "execution_count": null,
   "metadata": {},
   "outputs": [],
   "source": [
    "# Jobs search\n",
    "jobs_list = ['data analyst', 'data scientist', 'data engineer']"
   ]
  },
  {
   "cell_type": "code",
   "execution_count": null,
   "metadata": {},
   "outputs": [],
   "source": [
    "dic_key_words = \\\n",
    "{   'data analyst'  : ['sql', \n",
    "                        'python', \n",
    "                        'business intelligence', 'bi' , 'excel'\n",
    "                        'dashboard', 'reporting',\n",
    "                        'tableau', 'powerbi', 'power bi', 'qlik', 'sportfire', \n",
    "                        'business analyst'\n",
    "                      ],\n",
    " \n",
    "    'data scientist': ['sql', \n",
    "                        'python', 'r', \n",
    "                        'ml', 'machine learning','dl','deep learning', 'nn','neuronal networks', \n",
    "                        'pandas', 'numpy', \n",
    "                        'data visualization', 'matplotlib', 'seaborn', \n",
    "                        'spss',  'advanced statistics','statistics',\n",
    "                        'sklearn','sk learn', 'scikit learn', 'scikit-learn' ,'tensorflow', 'keras', \n",
    "                        'data wrangling', 'nlp', 'a/b testing','a b testing'\n",
    "                      ],\n",
    " \n",
    "    'data engineer':  ['sql', 'nosql', 'no sql', \n",
    "                        'python', 'r', 'scala', 'java', 'spark', 'hadoop', 'hive', 'impala', 'kafka', \n",
    "                        'data wrangling', 'etl','extract, transform and load', 'map reduce','mapreduce', 'data acquisition',\n",
    "                        'big data', 'bigdata', 'data warehouse', 'aws',\n",
    "                        'software engineering'\n",
    "                      ]\n",
    "}"
   ]
  },
  {
   "cell_type": "code",
   "execution_count": null,
   "metadata": {},
   "outputs": [],
   "source": [
    "n_pages = n_pages_linkedin(browser, 'data scientist')\n",
    "n_pages"
   ]
  },
  {
   "cell_type": "code",
   "execution_count": null,
   "metadata": {},
   "outputs": [],
   "source": [
    "try:\n",
    "    pages = browser.find_element_by_xpath\\\n",
    "    ('/html/body/div[5]/div[4]/div[3]/section[1]/div[2]/div/div/div[1]/div[2]/div/section/artdeco-pagination/ul')\n",
    "except:\n",
    "    pages = browser.find_element_by_xpath\\\n",
    "    ('/html/body/div[6]/div[4]/div[3]/section[1]/div[2]/div/div/div[1]/div[2]/div/section/artdeco-pagination/ul')\n",
    "actions = ActionChains(browser)\n",
    "actions.move_to_element(pages).perform()"
   ]
  },
  {
   "cell_type": "code",
   "execution_count": null,
   "metadata": {},
   "outputs": [],
   "source": [
    "################################# TESTING \n",
    "def j_post(browser, i):\n",
    "    \n",
    "    if   browser.find_element_by_xpath(f'/html/body/div[5]'):\n",
    "        b1 = browser.find_element_by_xpath(f'/html/body/div[5]')\n",
    "    elif browser.find_element_by_xpath(f'/html/body/div[6]'):\n",
    "        b1 = browser.find_element_by_xpath(f'/html/body/div[6]')\n",
    "    print(b1)\n",
    "    if      b1.find_element_by_xpath(f'div[4]/div[3]/section[1]/div[2]/div/div/div[1]/div[2]/div'):\n",
    "        b2 = b1.find_element_by_xpath(f'div[4]/div[3]/section[1]/div[2]/div/div/div[1]/div[2]/div')\n",
    "        \n",
    "    elif    b1.find_element_by_xpath(f'div[4]/div[3]/section[1]/div[2]/div/div/div[1]/div[2]/div[2]'):\n",
    "        b2= b1.find_element_by_xpath(f'div[4]/div[3]/section[1]/div[2]/div/div/div[1]/div[2]/div[2]')\n",
    "    \n",
    "    job_post = b2.find_element_by_xpath('ul/li[{i}]/div/artdeco-entity-lockup/artdeco-entity-lockup-content/h3/a')\n",
    "        \n",
    "    return job_post"
   ]
  },
  {
   "cell_type": "code",
   "execution_count": null,
   "metadata": {},
   "outputs": [],
   "source": [
    "b1 = browser.find_element_by_xpath(f'/html/body/div[5]')\n"
   ]
  },
  {
   "cell_type": "code",
   "execution_count": null,
   "metadata": {},
   "outputs": [],
   "source": [
    "b1.find_element_by_xpath('div[4]/div[3]/section[1]/div[2]/div/div/div[1]/div[2]/div')"
   ]
  },
  {
   "cell_type": "code",
   "execution_count": null,
   "metadata": {},
   "outputs": [],
   "source": [
    "def j_post(browser, i):\n",
    "    if   browser.find_element_by_xpath(f'/html/body/div[5]/div[4]/div[3]/section[1]/div[2]/div/div/div[1]/div[2]/div/ul/li[{i}]/div/artdeco-entity-lockup/artdeco-entity-lockup-content/h3/a'):\n",
    "        job_post = \\\n",
    "        browser.find_element_by_xpath( f'/html/body/div[5]/div[4]/div[3]/section[1]/div[2]/div/div/div[1]/div[2]/div/ul/li[{i}]/div/artdeco-entity-lockup/artdeco-entity-lockup-content/h3/a')\n",
    "                                                        #  /html/body/div[5]/div[4]/div[3]/section[1]/div[2]/div/div/div[1]/div[2]/div/ul/li[ 1 ]/div/artdeco-entity-lockup/artdeco-entity-lockup-content/h3/a\n",
    "                                                        #  /html/body/div[5]/div[4]/div[3]/section[1]/div[2]/div/div/div[1]/div[2]/div/ul/li[ 1 ]/div/artdeco-entity-lockup/artdeco-entity-lockup-content/h3/a\n",
    "    elif browser.find_element_by_xpath(f'/html/body/div[6]/div[4]/div[3]/section[1]/div[2]/div/div/div[1]/div[2]/div/ul/li[{i}]/div/artdeco-entity-lockup/artdeco-entity-lockup-content/h3/a'):\n",
    "        job_post = \\\n",
    "        browser.find_element_by_xpath( f'/html/body/div[6]/div[4]/div[3]/section[1]/div[2]/div/div/div[1]/div[2]/div/ul/li[{i}]/div/artdeco-entity-lockup/artdeco-entity-lockup-content/h3/a')\n",
    "\n",
    "    elif browser.find_element_by_xpath(f'/html/body/div[5]/div[4]/div[3]/section[1]/div[2]/div/div/div[1]/div[2]/div[2]/ul/li[{i}]/div/artdeco-entity-lockup/artdeco-entity-lockup-content/h3/a'):\n",
    "        job_post = \\\n",
    "        browser.find_element_by_xpath( f'/html/body/div[5]/div[4]/div[3]/section[1]/div[2]/div/div/div[1]/div[2]/div[2]/ul/li[{i}]/div/artdeco-entity-lockup/artdeco-entity-lockup-content/h3/a')\n",
    "\n",
    "    elif browser.find_element_by_xpath(f'/html/body/div[6]/div[4]/div[3]/section[1]/div[2]/div/div/div[1]/div[2]/div[2]/ul/li[{i}]/div/artdeco-entity-lockup/artdeco-entity-lockup-content/h3/a'):\n",
    "        job_post = \\\n",
    "        browser.find_element_by_xpath( f'/html/body/div[6]/div[4]/div[3]/section[1]/div[2]/div/div/div[1]/div[2]/div[2]/ul/li[{i}]/div/artdeco-entity-lockup/artdeco-entity-lockup-content/h3/a')\n",
    "    \n",
    "    return job_post"
   ]
  },
  {
   "cell_type": "code",
   "execution_count": null,
   "metadata": {},
   "outputs": [],
   "source": [
    "trabajo = j_post(browser, 4)\n",
    "trabajo"
   ]
  },
  {
   "cell_type": "code",
   "execution_count": null,
   "metadata": {},
   "outputs": [],
   "source": [
    "trabajo = j_post(browser, 8)\n",
    "actions = ActionChains(trabajo)\n",
    "actions.move_to_element(trabajo).perform()"
   ]
  },
  {
   "cell_type": "code",
   "execution_count": null,
   "metadata": {},
   "outputs": [],
   "source": [
    "for j in jobs_list:\n",
    "    \n",
    "    # Getting each job for the search\n",
    "    print(f'++++++++++++++++  {job_title_df} +++++++++++++++++++')\n",
    "    job_title_df  = j\n",
    "    job_title_s   = j.replace(' ', '%20')\n",
    "    \n",
    "    # Getting number of pages for each search\n",
    "    n_pages = n_pages_linkedin(browser,job_title_s)\n",
    "    last_job_page = n_pages*25\n",
    "    print(last_job_page)  \n",
    "    \n",
    "    for p in range(0,last_job_page,25):\n",
    "    #for p in range(0,1):\n",
    "\n",
    "        print(f'PAGINA: {p}')\n",
    "\n",
    "        #Exploring each page with maximum 25 job posts\n",
    "        JOB_URL = f'https://www.linkedin.com/jobs/search/?keywords={job_title_s}&location={location}&start={p}'\n",
    "        browser.get(JOB_URL)\n",
    "        time.sleep(0.5)\n",
    "\n",
    "        \"\"\"\n",
    "        #activate all job posts in each page \n",
    "        if results > 25:\n",
    "            try:\n",
    "                pages = browser.find_element_by_xpath\\\n",
    "                ('/html/body/div[5]/div[4]/div[3]/section[1]/div[2]/div/div/div[1]/div[2]/div/section/artdeco-pagination/ul')\n",
    "            except:\n",
    "                pages = browser.find_element_by_xpath\\\n",
    "                ('/html/body/div[6]/div[4]/div[3]/section[1]/div[2]/div/div/div[1]/div[2]/div/section/artdeco-pagination/ul')\n",
    "        actions = ActionChains(browser)\n",
    "        actions.move_to_element(pages).perform()\n",
    "        \"\"\"\n",
    "\n",
    "        # Taking table of job posts\n",
    "        #if   browser.find_element_by_class_name(\"jobs-search-two-pane__results display-flex\"):\n",
    "        #    tabla_izq = browser.find_element_by_class_name(\"jobs-search-two-pane__results display-flex\")\n",
    "        #                                    /html/body/div[5]/div[4]/div[3]/section[1]/div[2]/div/div/div[1]\n",
    "        \n",
    "        try:\n",
    "            if browser.find_element_by_xpath(\"/html/body/div[5]/div[4]/div[3]/section[1]/div[2]/div/div/div[1]\"):\n",
    "                tabla_izq = browser.find_element_by_xpath(\"/html/body/div[5]/div[4]/div[3]/section[1]/div[2]/div/div/div[1]\")\n",
    "            elif browser.find_element_by_xpath(\"/html/body/div[6]/div[4]/div[3]/section[1]/div[2]/div/div/div[1]\"):\n",
    "                tabla_izq = browser.find_element_by_xpath(\"/html/body/div[6]/div[4]/div[3]/section[1]/div[2]/div/div/div[1]\") \n",
    "        except:\n",
    "            JOB_URL = f'https://www.linkedin.com/jobs/search/?keywords={job_title_s}&location={location}&start={p}'\n",
    "            browser.get(JOB_URL)\n",
    "            time.sleep(0.2)\n",
    "\n",
    "            if browser.find_element_by_xpath(\"/html/body/div[5]/div[4]/div[3]/section[1]/div[2]/div/div/div[1]\"):\n",
    "                tabla_izq = browser.find_element_by_xpath(\"/html/body/div[5]/div[4]/div[3]/section[1]/div[2]/div/div/div[1]\")\n",
    "            elif browser.find_element_by_xpath(\"/html/body/div[6]/div[4]/div[3]/section[1]/div[2]/div/div/div[1]\"):\n",
    "                tabla_izq = browser.find_element_by_xpath(\"/html/body/div[6]/div[4]/div[3]/section[1]/div[2]/div/div/div[1]\") \n",
    "\n",
    "\n",
    "        #try:\n",
    "        #    tabla_izq = \\\n",
    "        #        browser.find_element_by_xpath(\"/html/body/div[5]/div[4]/div[3]/section[1]/div[2]/div/div/div[1]\")\n",
    "        #except:\n",
    "        #    tabla_izq = \\\n",
    "        #        browser.find_element_by_xpath(\"/html/body/div[6]/div[4]/div[3]/section[1]/div[2]/div/div/div[1]\")         \n",
    "        #time.sleep(0.5)\n",
    "\n",
    "\n",
    "        # Getting quantity of job posts that you can see directly in each page\n",
    "        if p < (last_job_page-25):\n",
    "            job_list = \\\n",
    "            tabla_izq.text.split('Manage alerts\\n')[1].split('Close\\n')[0].split('ago')    \n",
    "        else:\n",
    "            job_list = \\\n",
    "            tabla_izq.text.split('Manage alerts\\n')[1].split('Close\\n')[0].split('Create alert for this search\\n')[0].split('ago')\n",
    "\n",
    "\n",
    "        n_job_list = len(job_list)-1\n",
    "        print(f'Lista de trabajos visibles:{n_job_list}') \n",
    "        time.sleep(0.1)\n",
    "\n",
    "        for i in range(1,n_job_list+1):\n",
    "        #for i in range(1,26):\n",
    "        #for i in range(1,2):\n",
    "            print(f'i:{i}')\n",
    "\n",
    "            # Selecting job post in order to click on it\n",
    "            if   browser.find_element_by_xpath(          f'/html/body/div[5]/div[4]/div[3]/section[1]/div[2]/div/div/div[1]/div[2]/div/ul/li[{i}]/div/artdeco-entity-lockup/artdeco-entity-lockup-content/h3/a'):\n",
    "                job_post = browser.find_element_by_xpath(f'/html/body/div[5]/div[4]/div[3]/section[1]/div[2]/div/div/div[1]/div[2]/div/ul/li[{i}]/div/artdeco-entity-lockup/artdeco-entity-lockup-content/h3/a')\n",
    "                                                        #  /html/body/div[5]/div[4]/div[3]/section[1]/div[2]/div/div/div[1]/div[2]/div/ul/li[ 1 ]/div/artdeco-entity-lockup/artdeco-entity-lockup-content/h3/a\n",
    "                                                        #  /html/body/div[5]/div[4]/div[3]/section[1]/div[2]/div/div/div[1]/div[2]/div/ul/li[ 1 ]/div/artdeco-entity-lockup/artdeco-entity-lockup-content/h3/a\n",
    "            elif browser.find_element_by_xpath(          f'/html/body/div[6]/div[4]/div[3]/section[1]/div[2]/div/div/div[1]/div[2]/div/ul/li[{i}]/div/artdeco-entity-lockup/artdeco-entity-lockup-content/h3/a'):\n",
    "                job_post = browser.find_element_by_xpath(f'/html/body/div[6]/div[4]/div[3]/section[1]/div[2]/div/div/div[1]/div[2]/div/ul/li[{i}]/div/artdeco-entity-lockup/artdeco-entity-lockup-content/h3/a')\n",
    "\n",
    "            elif browser.find_element_by_xpath(          f'/html/body/div[5]/div[4]/div[3]/section[1]/div[2]/div/div/div[1]/div[2]/div[2]/ul/li[{i}]/div/artdeco-entity-lockup/artdeco-entity-lockup-content/h3/a'):\n",
    "                job_post = browser.find_element_by_xpath(f'/html/body/div[5]/div[4]/div[3]/section[1]/div[2]/div/div/div[1]/div[2]/div[2]/ul/li[{i}]/div/artdeco-entity-lockup/artdeco-entity-lockup-content/h3/a')\n",
    "\n",
    "            elif browser.find_element_by_xpath(          f'/html/body/div[6]/div[4]/div[3]/section[1]/div[2]/div/div/div[1]/div[2]/div[2]/ul/li[{i}]/div/artdeco-entity-lockup/artdeco-entity-lockup-content/h3/a'):\n",
    "                job_post = browser.find_element_by_xpath(f'/html/body/div[6]/div[4]/div[3]/section[1]/div[2]/div/div/div[1]/div[2]/div[2]/ul/li[{i}]/div/artdeco-entity-lockup/artdeco-entity-lockup-content/h3/a')\n",
    "\n",
    "            #try:\n",
    "            #    job_post = browser.find_element_by_xpath\\\n",
    "            #    (f'/html/body/div[5]/div[4]/div[3]/section[1]/div[2]/div/div/div[1]/div[2]/div/ul/li[{i}]/div/artdeco-entity-lockup/artdeco-entity-lockup-content/h3/a')\n",
    "            #except:\n",
    "            #    job_post = browser.find_element_by_xpath\\\n",
    "            #    (f'/html/body/div[6]/div[4]/div[3]/section[1]/div[2]/div/div/div[1]/div[2]/div/ul/li[{i}]/div/artdeco-entity-lockup/artdeco-entity-lockup-content/h3/a')\n",
    "\n",
    "            print(job_post.text)\n",
    "            job_post.click()\n",
    "            time.sleep(0.1)\n",
    "\n",
    "            # Getting current job ID\n",
    "            print(browser.current_url)      \n",
    "            currentJobId = browser.current_url.split('currentJobId=')[1].split('&')[0] #col1_pd\n",
    "            print(f'{currentJobId}')\n",
    "\n",
    "            # Extracting job information on the right side\n",
    "            try:\n",
    "                job_post_right = browser.find_element_by_xpath\\\n",
    "                    ('/html/body/div[5]/div[4]/div[3]/section[1]/div[2]/div/div/div[2]')\n",
    "            except:\n",
    "                job_post_right = browser.find_element_by_xpath\\\n",
    "                    ('/html/body/div[6]/div[4]/div[3]/section[1]/div[2]/div/div/div[2]')\n",
    "\n",
    "            #getting info and only separating: job name, company name, company location\n",
    "            #job_post_right_content    = job_post_right.text.split('\\n', 5)\n",
    "\n",
    "            #Job name\n",
    "            job_post_name             = job_post_right.text.split('\\n', 1)[0]\n",
    "\n",
    "            #Company name > Sometimes there is no info here\n",
    "            if job_post_right.text.split('Company Name\\n',1)[1].split('\\n')[0] == 'Company Location':\n",
    "                job_post_company_name = \"\"\n",
    "            else:\n",
    "                job_post_company_name = job_post_right.text.split('Company Name\\n',1)[1].split('\\n')[0]\n",
    "\n",
    "            #Location\n",
    "            job_post_company_location = job_post_right.text.split('Company Location\\n',1)[1].split('\\n')[0]\n",
    "\n",
    "            #Posted date\n",
    "            job_post_posted_date      = job_post_right.text.split(' ago',1)[0].split('Posted Date\\nPosted ')[1]\n",
    "            if   job_post_posted_date.split(\" \")[1] in ['hour', 'hours']:\n",
    "                job_post_estimated_date = now - timedelta(hours =     int(job_post_posted_date.split(\" \")[0]))\n",
    "            elif job_post_posted_date.split(\" \")[1] in ['day', 'days']:\n",
    "                job_post_estimated_date = now - timedelta(days  =     int(job_post_posted_date.split(\" \")[0]))\n",
    "            elif job_post_posted_date.split(\" \")[1] in ['week', 'weeks']:\n",
    "                job_post_estimated_date = now - timedelta(weeks =     int(job_post_posted_date.split(\" \")[0]))\n",
    "            elif job_post_posted_date.split(\" \")[1] in ['month', 'months']:\n",
    "                job_post_estimated_date = now - timedelta(weeks =   4*int(job_post_posted_date.split(\" \")[0]))\n",
    "            elif job_post_posted_date.split(\" \")[1] in ['year', 'years']:\n",
    "                job_post_estimated_date = now - timedelta(weeks = 365*int(job_post_posted_date.split(\" \")[0]))\n",
    "\n",
    "            #Easy apply: T/F\n",
    "            try:\n",
    "                if job_post_right.text.split('Save\\n',1)[1].split('\\n',2)[1] == 'Easy Apply':\n",
    "                    job_post_easy_apply = True\n",
    "                else:\n",
    "                    job_post_easy_apply = False\n",
    "            except:\n",
    "                if job_post_right.text.split('Unsave\\n',1)[1].split('\\n',2)[1] == 'Easy Apply':\n",
    "                    job_post_easy_apply = True\n",
    "                else:\n",
    "                    job_post_easy_apply = False\n",
    "\n",
    "            #Skills match\n",
    "            if ' skills match\\n' in job_post_right.text:\n",
    "                job_post_skills_match    = \n",
    "            else:\n",
    "                job_post_skills_match    = \"\"\n",
    "\n",
    "            ####\n",
    "\n",
    "            #Seniority Level\n",
    "            try:\n",
    "                job_post_seniority_level = job_post_right.text.split('Seniority Level\\n',1)[1].split('\\n')[0]\n",
    "            except:\n",
    "                job_post_seniority_level = \"\"\n",
    "\n",
    "            #Industry\n",
    "            try:\n",
    "                job_post_industry        = job_post_right.text.split('Industry\\n',1)[1].split('\\n')[0]\n",
    "            except:\n",
    "                job_post_industry        = \"\"\n",
    "\n",
    "            #Employment Type\n",
    "            try:\n",
    "                job_post_employment_type = job_post_right.text.split('Employment Type\\n',1)[1].split('\\n')[0]\n",
    "            except:\n",
    "                job_post_employment_type = \"\"\n",
    "\n",
    "            #Job Functions > maybe this is the last\n",
    "            try:\n",
    "                job_post_job_functions   = job_post_right.text.split('Job Functions\\n',1)[1].split('\\n')[0]\n",
    "            except:\n",
    "                job_post_job_functions   = \"\"\n",
    "\n",
    "\n",
    "            #job info\n",
    "            job_post_info             = job_post_right.text.split('\\n', 5)[5]\n",
    "\n",
    "            #Dataframe\n",
    "            df_jobs = df_jobs.append({\n",
    "                                        'JOB TITLE'          : job_title_df,\n",
    "                                        'LOCATION'           : location,\n",
    "                                        'SEARCH DATETIME'    : now,\n",
    "                                        'Current Job Id'     : currentJobId,\n",
    "                                        'Job name'           : job_post_name,\n",
    "                                        'Company name'       : job_post_company_name,\n",
    "                                        'Company location'   : job_post_company_location,\n",
    "                                        'Posted date'        : job_post_posted_date,\n",
    "                                        'Estimated post date': job_post_estimated_date,\n",
    "                                        'Easy apply'         : job_post_easy_apply,\n",
    "                                        'Skills match'       : job_post_skills_match,\n",
    "\n",
    "                                        'Seniority Level'    : job_post_seniority_level,\n",
    "                                        'Industry'           : job_post_industry ,\n",
    "                                        'Employment Type'    : job_post_employment_type,\n",
    "                                        'Job Functions'      : job_post_job_functions,\n",
    "                                        'Job info'           : job_post_info,\n",
    "                                     }, ignore_index=True)\n",
    "\n",
    "            #print(len(job_post_right_content))\n",
    "            print(job_post_name)\n",
    "            print(job_post_company_name)\n",
    "            print(job_post_company_location)\n",
    "            print(job_post_posted_date)\n",
    "            #print(f'{job_post_info}\\n')\n",
    "            print(\"\")\n",
    "\n",
    "            # if you wanna watch the job page\n",
    "            # job_html = f'https://www.linkedin.com/jobs/view/{currentJobId}/' # > it's possible to use REQUESTS\n",
    "\n",
    "df_jobs.head(10)"
   ]
  },
  {
   "cell_type": "code",
   "execution_count": null,
   "metadata": {},
   "outputs": [],
   "source": [
    "df_jobs.shape"
   ]
  },
  {
   "cell_type": "code",
   "execution_count": null,
   "metadata": {},
   "outputs": [],
   "source": [
    "now_file = now_str.replace(':','.')\n",
    "now_file"
   ]
  },
  {
   "cell_type": "code",
   "execution_count": null,
   "metadata": {},
   "outputs": [],
   "source": [
    "df_jobs.to_csv(f'..\\\\data\\\\raw\\\\df_{job_title_df}_{location}_{now_file}')"
   ]
  },
  {
   "cell_type": "code",
   "execution_count": null,
   "metadata": {},
   "outputs": [],
   "source": []
  },
  {
   "cell_type": "markdown",
   "metadata": {},
   "source": [
    "## TESTING:"
   ]
  },
  {
   "cell_type": "code",
   "execution_count": null,
   "metadata": {},
   "outputs": [],
   "source": [
    "df_jobs[df_jobs['Company name']=='']"
   ]
  },
  {
   "cell_type": "code",
   "execution_count": null,
   "metadata": {},
   "outputs": [],
   "source": [
    "df_jobs[df_jobs['Easy apply']==True]"
   ]
  },
  {
   "cell_type": "code",
   "execution_count": null,
   "metadata": {},
   "outputs": [],
   "source": [
    "df_jobs[df_jobs['Current Job Id']=='1772020331'].iloc[0,14]"
   ]
  },
  {
   "cell_type": "code",
   "execution_count": null,
   "metadata": {},
   "outputs": [],
   "source": [
    "' skills match\\n' in df_jobs[df_jobs['Current Job Id']=='1772020331'].iloc[0,14]"
   ]
  },
  {
   "cell_type": "code",
   "execution_count": null,
   "metadata": {},
   "outputs": [],
   "source": [
    "rigth = browser.find_element_by_xpath('/html/body/div[5]/div[4]/div[3]/section[1]/div[2]/div/div/div[2]').text"
   ]
  },
  {
   "cell_type": "code",
   "execution_count": null,
   "metadata": {},
   "outputs": [],
   "source": [
    "rigth"
   ]
  },
  {
   "cell_type": "code",
   "execution_count": null,
   "metadata": {},
   "outputs": [],
   "source": [
    "rigth.split(' ago',1)[0].split('Posted Date\\nPosted ')[1]"
   ]
  },
  {
   "cell_type": "code",
   "execution_count": null,
   "metadata": {},
   "outputs": [],
   "source": [
    "rigth.split('Save\\n',1)[1].split('\\n',2)[1]"
   ]
  },
  {
   "cell_type": "code",
   "execution_count": null,
   "metadata": {},
   "outputs": [],
   "source": [
    "df_jobs.shape"
   ]
  },
  {
   "cell_type": "code",
   "execution_count": null,
   "metadata": {},
   "outputs": [],
   "source": [
    "df_jobs.dtypes"
   ]
  },
  {
   "cell_type": "code",
   "execution_count": null,
   "metadata": {},
   "outputs": [],
   "source": [
    "df_jobs.iloc[0,6].split(' ago',1)[0].split('Posted Date\\nPosted ')[1]"
   ]
  },
  {
   "cell_type": "code",
   "execution_count": null,
   "metadata": {},
   "outputs": [],
   "source": [
    "df_jobs.iloc[0,6]"
   ]
  },
  {
   "cell_type": "code",
   "execution_count": null,
   "metadata": {},
   "outputs": [],
   "source": []
  },
  {
   "cell_type": "markdown",
   "metadata": {},
   "source": [
    "***\n",
    "## PUENTE"
   ]
  },
  {
   "cell_type": "code",
   "execution_count": null,
   "metadata": {},
   "outputs": [],
   "source": [
    "#location_input = input(\"PLEASE ENTER THE LOCATION WHERE YOU'D LIKE TO SEARCH: \")\n",
    "location_input = 'berlin'"
   ]
  },
  {
   "cell_type": "code",
   "execution_count": null,
   "metadata": {},
   "outputs": [],
   "source": [
    "location = location_input.capitalize()\n",
    "location"
   ]
  },
  {
   "cell_type": "code",
   "execution_count": null,
   "metadata": {},
   "outputs": [],
   "source": []
  },
  {
   "cell_type": "code",
   "execution_count": null,
   "metadata": {},
   "outputs": [],
   "source": [
    "#job_title_input = input(\"PLEASE ENTER THE JOB THAT YOU'D LIKE TO SEARCH: \")\n",
    "job_title_input = 'data analyst'"
   ]
  },
  {
   "cell_type": "code",
   "execution_count": null,
   "metadata": {},
   "outputs": [],
   "source": [
    "job_title_df = job_title_input.lower()\n",
    "job_title_s    = job_title_input.lower().replace(' ', '%20')\n",
    "job_title_s "
   ]
  },
  {
   "cell_type": "markdown",
   "metadata": {},
   "source": [
    "#### >>> GO TO > JOB SEARCH :"
   ]
  },
  {
   "cell_type": "code",
   "execution_count": null,
   "metadata": {},
   "outputs": [],
   "source": []
  },
  {
   "cell_type": "markdown",
   "metadata": {},
   "source": [
    "*** \n",
    "# OLD TESTING\n",
    "***"
   ]
  },
  {
   "cell_type": "code",
   "execution_count": null,
   "metadata": {},
   "outputs": [],
   "source": [
    "#tabla_grande = \\\n",
    "#browser.find_element_by_xpath(\"/html/body/div[5]/div[4]/div[3]/section[1]/div[2]/div/div\")\n",
    "\n",
    "#                               html/body/div[5]/div[4]/div[3]/section[1]/div[2]\n",
    "#                               /html/body/div[5]/div[4]/div[3]/section[1]/div[2]/div/div/div[1]"
   ]
  },
  {
   "cell_type": "code",
   "execution_count": null,
   "metadata": {},
   "outputs": [],
   "source": [
    "#Taking table of job posts\n",
    "try:\n",
    "    tabla_izq = \\\n",
    "    browser.find_element_by_xpath(\"/html/body/div[5]/div[4]/div[3]/section[1]/div[2]/div/div/div[1]\")\n",
    "                                  #/html/body/div[6]/div[4]/div[3]/section[1]/div[2]/div/div/div[1]\n",
    "                                  #/html/body/div[6]/div[4]/div[3]/section[1]/div[2]/div/div/div[1]/div[2]\n",
    "                                  #/html/body/div[5]/div[4]/div[3]/section[1]/div[2]/div/div/div[1]/div[2]\n",
    "    #browser.find_element_by_class_name(\"jobs-search-two-pane__results display-flex\")\n",
    "    #                              /html/body/div[5]/div[4]/div[3]/section[1]/div[2]/div/div/div[1]\n",
    "except:\n",
    "    tabla_izq = \\\n",
    "    browser.find_element_by_xpath(\"/html/body/div[6]/div[4]/div[3]/section[1]/div[2]/div/div/div[1]\")\n",
    "    \n",
    "time.sleep(0.5)\n",
    "tabla_izq.text"
   ]
  },
  {
   "cell_type": "code",
   "execution_count": null,
   "metadata": {},
   "outputs": [],
   "source": [
    "tabla_izq.text.split('\\n')"
   ]
  },
  {
   "cell_type": "code",
   "execution_count": null,
   "metadata": {},
   "outputs": [],
   "source": [
    "current_p = int(browser.current_url.split('&start=')[1])//25+1\n",
    "current_p"
   ]
  },
  {
   "cell_type": "code",
   "execution_count": null,
   "metadata": {},
   "outputs": [],
   "source": [
    "#are_you = browser.find_element_by_class_name(\"jobs-search-feedback-card\")\n",
    "#are_you.is_enabled()"
   ]
  },
  {
   "cell_type": "code",
   "execution_count": null,
   "metadata": {},
   "outputs": [],
   "source": [
    "#for last page there is another logic (not 'Close')\n",
    "if current_p < n_pages:\n",
    "    job_list = tabla_izq.text.split('Manage alerts\\n')[1].split('Close\\n')[0].split('ago')\n",
    "else:\n",
    "    job_list = \\\n",
    "    tabla_izq.text.split('Manage alerts\\n')[1].split('Close\\n')[0].split('Create alert for this search\\n')[0].split('ago')\n",
    "\n",
    "n_job_list = len(job_list)-1\n",
    "print(n_job_list) \n",
    "job_list "
   ]
  },
  {
   "cell_type": "code",
   "execution_count": null,
   "metadata": {},
   "outputs": [],
   "source": [
    "# TESTING - clicking one selected job\n",
    "n = n_job_list # max 25\n",
    "\n",
    "# Selecting job post in order\n",
    "try:\n",
    "    job_post = browser.find_element_by_xpath\\\n",
    "    (f'/html/body/div[5]/div[4]/div[3]/section[1]/div[2]/div/div/div[1]/div[2]/div/ul/li[{n}]/div/artdeco-entity-lockup/artdeco-entity-lockup-content/h3/a')\n",
    "except:\n",
    "    job_post = browser.find_element_by_xpath\\\n",
    "    (f'/html/body/div[6]/div[4]/div[3]/section[1]/div[2]/div/div/div[1]/div[2]/div/ul/li[{n}]/div/artdeco-entity-lockup/artdeco-entity-lockup-content/h3/a')\n",
    "#     /html/body/div[5]/div[4]/div[3]/section[1]/div[2]/div/div/div[1]/div[2]/div/ul/li[1]/div/artdeco-entity-lockup/artdeco-entity-lockup-content/h3/a\n",
    "#  (f'/html/body/div[5]/div[4]/div[3]/section[1]/div[2]/div/div/div[1]/div[2]/div/ul/li[{n}]')\n",
    "job_post.click()\n",
    "\n",
    "# Getting job post ID\n",
    "currentJobId = browser.current_url.split('currentJobId=')[1].split('&')[0]\n",
    "#currentJobId = browser.current_url.split('?')[1].split('&')[0].split('=')[1]\n",
    "print(currentJobId)\n",
    "\n",
    "# Extracting job information\n",
    "try:\n",
    "    job_post_right = browser.find_element_by_xpath\\\n",
    "        ('/html/body/div[5]/div[4]/div[3]/section[1]/div[2]/div/div/div[2]')\n",
    "except:\n",
    "    job_post_right = browser.find_element_by_xpath\\\n",
    "        ('/html/body/div[6]/div[4]/div[3]/section[1]/div[2]/div/div/div[2]')\n",
    "job_post_right_content = job_post_right.text.split('\\n',16)\n",
    "print(len(job_post_right_content))\n",
    "print(f'{job_post_right_content}')\n",
    "#print(f'{job_post_right.text.split('\\n',15)}')\n",
    "\n",
    "# 200402 21.00 (Session info: chrome=80.0.3987.162)\n",
    "# 200403 21.00 (Session info: chrome=80.0.3987.162)\n",
    "# 200404 17.00  (Session info: chrome=80.0.3987.162)"
   ]
  },
  {
   "cell_type": "code",
   "execution_count": null,
   "metadata": {},
   "outputs": [],
   "source": [
    "list(range(0,n_pages*25,25))"
   ]
  },
  {
   "cell_type": "code",
   "execution_count": null,
   "metadata": {},
   "outputs": [],
   "source": [
    "browser.get_log"
   ]
  },
  {
   "cell_type": "code",
   "execution_count": null,
   "metadata": {},
   "outputs": [],
   "source": [
    "izq = browser.find_element_by_class_name('jobs-search-results jobs-search-results--is-two-pane')\n",
    "izq.text()"
   ]
  },
  {
   "cell_type": "code",
   "execution_count": null,
   "metadata": {},
   "outputs": [],
   "source": [
    "tabla_izq.text"
   ]
  },
  {
   "cell_type": "code",
   "execution_count": null,
   "metadata": {},
   "outputs": [],
   "source": []
  },
  {
   "cell_type": "code",
   "execution_count": null,
   "metadata": {},
   "outputs": [],
   "source": [
    "import requests\n",
    "from bs4 import BeautifulSoup"
   ]
  },
  {
   "cell_type": "code",
   "execution_count": null,
   "metadata": {},
   "outputs": [],
   "source": [
    "#with requests.Session() as s:\n",
    "\n",
    "with requests.Session() as session:\n",
    "    \n",
    "    response = session.get(LOGIN_URL)\n",
    "    session = session.cookies.get_dict()\n",
    "    bcookie = session.get('bcookie')\n",
    "    print(bcookie)\n",
    "    cookie = bcookie.split('&')[1].split('\"')[0]\n",
    "    print(f'\\n{cookie}')\n",
    "    \n",
    "    LoginCsrfParam   = cookie\n",
    "    Session_key      = \"cristopher.rojas.lepe@gmail.com\" # \"cristopher.rojas.lepe%40gmail.com\"\n",
    "    Session_password = \"M3t4n01@\" # \"M3t4n01%40\"\n",
    "    Session_redirect = \"https%3A%2F%2Fwww.linkedin.com%2Fjobs\" # \"https://www.linkedin.com/jobs\" #\"https%3A%2F%2Fwww.linkedin.com%2Fjobs\"\n",
    "    Trk              = \"guest_homepage-jobseeker_sign-in-submit\"\n",
    "    \n",
    "    payload = {'loginCsrfParam'  : LoginCsrfParam,\n",
    "               'session_key'     : Session_key,\n",
    "               'session_password': Session_password,\n",
    "               'session_redirect': Session_redirect,\n",
    "               'trk'             : Trk\n",
    "              }\n",
    "    print(f'\\n{payload}')\n",
    "    p = requests.post(LOGIN_URL, data = payload)  \n",
    "    #p = session.post(LOGIN_URL, data = payload) \n",
    "    # print the html returned or something more intelligent to see if it's a successful login page.\n",
    "    print(f'\\n{p.content}')\n",
    "    soup = BeautifulSoup(p.content,'html.parser')\n",
    "    print(f'\\n{soup}')\n",
    "\n",
    "    # An authorised request.\n",
    "#     r = s.get('A protected web page url')\n",
    "#     print r.text"
   ]
  }
 ],
 "metadata": {
  "kernelspec": {
   "display_name": "Python [conda env:final_project]",
   "language": "python",
   "name": "conda-env-final_project-py"
  },
  "language_info": {
   "codemirror_mode": {
    "name": "ipython",
    "version": 3
   },
   "file_extension": ".py",
   "mimetype": "text/x-python",
   "name": "python",
   "nbconvert_exporter": "python",
   "pygments_lexer": "ipython3",
   "version": "3.7.7"
  }
 },
 "nbformat": 4,
 "nbformat_minor": 4
}
