{
 "cells": [
  {
   "cell_type": "markdown",
   "metadata": {},
   "source": [
    "# Step 1: ACQUIRE DATA"
   ]
  },
  {
   "cell_type": "code",
   "execution_count": null,
   "metadata": {},
   "outputs": [],
   "source": [
    "from selenium import webdriver\n",
    "from selenium.webdriver.common.action_chains import ActionChains\n",
    "from selenium.webdriver.common.keys import Keys\n",
    "from selenium.common.exceptions import ElementClickInterceptedException\n",
    "import os\n",
    "from dotenv import load_dotenv\n",
    "import time\n",
    "import re\n",
    "import pandas as pd\n",
    "from datetime import datetime, timedelta\n",
    "import getpass\n",
    "import platform"
   ]
  },
  {
   "cell_type": "markdown",
   "metadata": {},
   "source": [
    "> ## STARTING"
   ]
  },
  {
   "cell_type": "code",
   "execution_count": null,
   "metadata": {},
   "outputs": [],
   "source": [
    "print(\"\"\"\n",
    "*******************  OPTIMIZED JOB SEARCH ON LINKEDIN *******************\n",
    "\n",
    "Welcome!\n",
    "\n",
    "Please enter your information to sign in on LINKEDIN and begin the search >>>\n",
    "\"\"\")\n",
    "\n",
    "SECRET_USER = input(\"EMAIL: \")\n",
    "SECRET_PASS = getpass.getpass(\"PASSWORD: \")"
   ]
  },
  {
   "cell_type": "code",
   "execution_count": null,
   "metadata": {},
   "outputs": [],
   "source": [
    "location_input = input(\"\\n\\nPlease enter the LOCATION where you'd like to search >>>\")\n",
    "#location_input = 'madrid'\n",
    "location = location_input.capitalize()\n",
    "location"
   ]
  },
  {
   "cell_type": "code",
   "execution_count": null,
   "metadata": {},
   "outputs": [],
   "source": []
  },
  {
   "cell_type": "markdown",
   "metadata": {},
   "source": [
    "> ## SEARCH"
   ]
  },
  {
   "cell_type": "code",
   "execution_count": null,
   "metadata": {},
   "outputs": [],
   "source": [
    "#job_title_input = input(\"PLEASE ENTER THE JOB THAT YOU'D LIKE TO SEARCH: \")\n",
    "#job_title_input = 'data scientist'"
   ]
  },
  {
   "cell_type": "code",
   "execution_count": null,
   "metadata": {},
   "outputs": [],
   "source": [
    "#job_title_df = job_title_input.lower()\n",
    "# job_title_s  = job_title_input.lower().replace(' ', '%20')\n",
    "# job_title_s "
   ]
  },
  {
   "cell_type": "markdown",
   "metadata": {},
   "source": [
    "> ## WEB SCRAPPING"
   ]
  },
  {
   "cell_type": "markdown",
   "metadata": {},
   "source": [
    "### SELENIUM >"
   ]
  },
  {
   "cell_type": "code",
   "execution_count": null,
   "metadata": {},
   "outputs": [],
   "source": [
    "#import requests\n",
    "#from bs4 import BeautifulSoup"
   ]
  },
  {
   "cell_type": "markdown",
   "metadata": {},
   "source": [
    "#### DRIVER PATH:"
   ]
  },
  {
   "cell_type": "code",
   "execution_count": null,
   "metadata": {},
   "outputs": [],
   "source": [
    "platform.system()"
   ]
  },
  {
   "cell_type": "code",
   "execution_count": null,
   "metadata": {},
   "outputs": [],
   "source": [
    "#DEPEND OF THE OS\n",
    "\n",
    "#LINUX\n",
    "if platform.system() == 'Linux':\n",
    "    os.environ['PATH'] = f'{os.environ[\"PATH\"]}:/home/cristopherrl/Documents/program/selenium/drivers/'\n",
    "    \n",
    "elif platform.system() == 'Windows':\n",
    "    os.environ['PATH'] = f'{os.environ[\"PATH\"]};C:\\\\Users\\\\x385645\\\\Documents\\\\Selenium'"
   ]
  },
  {
   "cell_type": "code",
   "execution_count": null,
   "metadata": {},
   "outputs": [],
   "source": [
    "os.environ['PATH']"
   ]
  },
  {
   "cell_type": "code",
   "execution_count": null,
   "metadata": {},
   "outputs": [],
   "source": []
  },
  {
   "cell_type": "markdown",
   "metadata": {},
   "source": [
    "#### .ENV PATH:"
   ]
  },
  {
   "cell_type": "code",
   "execution_count": null,
   "metadata": {},
   "outputs": [],
   "source": [
    "load_dotenv(dotenv_path='../.env')"
   ]
  },
  {
   "cell_type": "markdown",
   "metadata": {},
   "source": [
    "#### SIGN IN:"
   ]
  },
  {
   "cell_type": "code",
   "execution_count": null,
   "metadata": {},
   "outputs": [],
   "source": [
    "browser = webdriver.Chrome()\n",
    "URL = 'https://www.linkedin.com/login'\n",
    "browser.get(URL)"
   ]
  },
  {
   "cell_type": "code",
   "execution_count": null,
   "metadata": {},
   "outputs": [],
   "source": [
    "# SECRET_USER = os.getenv(\"SESSION_KEY\")\n",
    "# SECRET_PASS = os.getenv(\"SESSION_PASSWORD\")"
   ]
  },
  {
   "cell_type": "code",
   "execution_count": null,
   "metadata": {},
   "outputs": [],
   "source": [
    "try:\n",
    "    # user box\n",
    "    user     = browser.find_element_by_xpath('/html/body/div/main/div/form/div[1]/input')\n",
    "    user.send_keys(SECRET_USER)\n",
    "    time.sleep(1)\n",
    "\n",
    "    # password box\n",
    "    password = browser.find_element_by_xpath('/html/body/div/main/div/form/div[2]/input')\n",
    "    password.send_keys(SECRET_PASS)\n",
    "    time.sleep(1)\n",
    "\n",
    "    #sign_in  = browser.find_element_by_xpath('/html/body/div/main/div/form/div[3]/button')\n",
    "    # sign in button\n",
    "    sign_in  = browser.find_element_by_class_name('login__form_action_container')\n",
    "    sign_in.click()\n",
    "    time.sleep(1)\n",
    "\n",
    "except:\n",
    "    raise ValueError(\"DATOS ERRONEOS!!! Cierre y vuelva a ejecutar el programa\")    "
   ]
  },
  {
   "cell_type": "code",
   "execution_count": null,
   "metadata": {},
   "outputs": [],
   "source": [
    "browser.maximize_window()"
   ]
  },
  {
   "cell_type": "code",
   "execution_count": null,
   "metadata": {},
   "outputs": [],
   "source": []
  },
  {
   "cell_type": "markdown",
   "metadata": {},
   "source": [
    "***\n",
    "***\n",
    "#### LINKEDIN PROFILE :"
   ]
  },
  {
   "cell_type": "code",
   "execution_count": null,
   "metadata": {},
   "outputs": [],
   "source": [
    "# Click on profile button (up-rigth)\n",
    "profile = browser.find_element_by_id('profile-nav-item')\n",
    "#profile = browser.find_element_by_xpath('/html/body/header/div/nav/ul/li[6]/div/artdeco-dropdown/artdeco-dropdown-trigger/div')\n",
    "profile.click() "
   ]
  },
  {
   "cell_type": "code",
   "execution_count": null,
   "metadata": {},
   "outputs": [],
   "source": [
    "# Click on View profile button\n",
    "#link_profile = browser.find_element_by_xpath('/html/body/header/div/nav/ul/li[6]/div/artdeco-dropdown/artdeco-dropdown-content/div/ul/li[1]/a/div[2]/span')\n",
    "link_profile = browser.find_element_by_xpath(\"//span[@class='artdeco-button artdeco-button--tertiary artdeco-button--fluid']\")\n",
    "link_profile.click()"
   ]
  },
  {
   "cell_type": "markdown",
   "metadata": {},
   "source": [
    "#### Profile page >"
   ]
  },
  {
   "cell_type": "code",
   "execution_count": null,
   "metadata": {},
   "outputs": [],
   "source": [
    "html_body = browser.find_element_by_xpath ('/html/body')\n",
    "html_body.send_keys(Keys.PAGE_DOWN)\n",
    "time.sleep(0.5)"
   ]
  },
  {
   "cell_type": "code",
   "execution_count": null,
   "metadata": {},
   "outputs": [],
   "source": [
    "browser.current_url"
   ]
  },
  {
   "cell_type": "code",
   "execution_count": null,
   "metadata": {},
   "outputs": [],
   "source": [
    "linkedin_profile = browser.current_url.split('/')[4]\n",
    "linkedin_profile"
   ]
  },
  {
   "cell_type": "markdown",
   "metadata": {},
   "source": [
    "#### Headline:"
   ]
  },
  {
   "cell_type": "code",
   "execution_count": null,
   "metadata": {},
   "outputs": [],
   "source": [
    "# Getting HEADLINE table\n",
    "profile_headline = browser.find_element_by_xpath(\"//h2[@class='mt1 t-18 t-black t-normal']\")\n",
    "headline = profile_headline.text.lower()\n",
    "headline"
   ]
  },
  {
   "cell_type": "code",
   "execution_count": null,
   "metadata": {},
   "outputs": [],
   "source": [
    "#try:\n",
    "#if browser.find_element_by_xpath\\\n",
    "#    ('/html/body/div[6]/div[4]/div[3]/div/div/div/div/div[2]/main/div[1]/section/div[2]/div[2]/div[1]/h2'):\n",
    "#    profile_headline = browser.find_element_by_xpath\\\n",
    "#    ('/html/body/div[6]/div[4]/div[3]/div/div/div/div/div[2]/main/div[1]/section/div[2]/div[2]/div[1]/h2')\n",
    "#    # /html/body/div[6]/div[4]/div[3]/div/div/div/div/div[2]/main/div[1]/section/div[2]/div[2]/div[1]/h2\n",
    "#    print('opcion 1')#\n",
    "#\n",
    "#elif   browser.find_element_by_xpath\\\n",
    "#    ('/html/body/div[5]/div[3]/div[3]/div/div/div/div/div[2]/main/div[1]/section/div[2]/div[2]/div[1]/h2'):\n",
    "#    profile_headline = browser.find_element_by_xpath\\\n",
    "#    ('/html/body/div[5]/div[3]/div[3]/div/div/div/div/div[2]/main/div[1]/section/div[2]/div[2]/div[1]/h2')\n",
    "#    print('opcion 2')#\n",
    "#\n",
    "##except:\n",
    "#elif browser.find_element_by_xpath\\\n",
    "#    ('/html/body/div[5]/div[4]/div[3]/div/div/div/div/div[2]/main/div[1]/section/div[2]/div[2]/div[1]/h2'):\n",
    "#    profile_headline = browser.find_element_by_xpath\\\n",
    "#    ('/html/body/div[5]/div[4]/div[3]/div/div/div/div/div[2]/main/div[1]/section/div[2]/div[2]/div[1]/h2')\n",
    "#    print('opcion 3')\n",
    "#    \n",
    "#profile_headline.text"
   ]
  },
  {
   "cell_type": "code",
   "execution_count": null,
   "metadata": {},
   "outputs": [],
   "source": [
    "profile_open = browser.find_element_by_xpath(\"//artdeco-carousel-content[@class='artdeco-carousel__content']\")\n",
    "print(profile_open.text)\n",
    "\n",
    "if profile_open.text.split(\" \")[0] == 'Open':\n",
    "    open_status = True\n",
    "else:\n",
    "    open_status = False\n",
    "open_status"
   ]
  },
  {
   "cell_type": "markdown",
   "metadata": {},
   "source": [
    "#### About:"
   ]
  },
  {
   "cell_type": "code",
   "execution_count": null,
   "metadata": {},
   "outputs": [],
   "source": [
    "# show MORE > button \"see more \"\n",
    "profile_show_about = browser.find_element_by_xpath(\"//span[@class='lt-line-clamp__line lt-line-clamp__line--last']\")\n",
    "ActionChains(browser).move_to_element(profile_show_about).perform()\n",
    "profile_show_about.click()"
   ]
  },
  {
   "cell_type": "code",
   "execution_count": null,
   "metadata": {},
   "outputs": [],
   "source": [
    "# Getting HEADLINE table\n",
    "profile_about = browser.find_element_by_xpath(\"//p[@class='pv-about__summary-text mt4 t-14 ember-view']\")\n",
    "about = profile_about.text.lower()\n",
    "about"
   ]
  },
  {
   "cell_type": "markdown",
   "metadata": {},
   "source": [
    "#### Job experience:"
   ]
  },
  {
   "cell_type": "code",
   "execution_count": null,
   "metadata": {},
   "outputs": [],
   "source": [
    "html_body.send_keys(Keys.PAGE_DOWN * 5)\n",
    "time.sleep(0.2)\n",
    "html_body.send_keys(Keys.PAGE_DOWN * 5)\n",
    "time.sleep(0.2)"
   ]
  },
  {
   "cell_type": "code",
   "execution_count": null,
   "metadata": {},
   "outputs": [],
   "source": [
    "# id='profile-content' >>   /html/body/div[5]/div[4]/div[3]\n",
    "# class='profile-detail' >> /html/body/div[5]/div[4]/div[3]/div/div/div/div/div[2]/main/div[7]\n",
    "#/html/body/div[5]/div[4]/div[3]/div/div/div/div/div[2]/main/div[7]/div[2]/span/div/section/div[1]"
   ]
  },
  {
   "cell_type": "code",
   "execution_count": null,
   "metadata": {},
   "outputs": [],
   "source": [
    "# show more experiences\n",
    "#try:    \n",
    "#if   browser.find_element_by_xpath('/html/body/div[5]/div[4]/div[3]/div/div/div/div/div[2]/main/div[7]/div[2]/span/div/section/div[1]/section/div/button'):\n",
    "#                                   #/html/body/div[5]/div[4]/div[3]/div/div/div/div/div[2]/main/div[7]/div[2]/span/div/section/div[1]/section/div/button\n",
    "#    profile_show_experience = browser.find_element_by_xpath('/html/body/div[5]/div[4]/div[3]/div/div/div/div/div[2]/main/div[7]/div[2]/span/div/section/div[1]/section/div/button')\n",
    "#    print(1)\n",
    "##except:\n",
    "#elif browser.find_element_by_xpath('/html/body/div[5]/div[3]/div[3]/div/div/div/div/div[2]/main/div[7]/div[2]/span/div/section/div[1]/section/div/button'):\n",
    "#    profile_show_experience = browser.find_element_by_xpath ('/html/body/div[5]/div[3]/div[3]/div/div/div/div/div[2]/main/div[7]/div[2]/span/div/section/div[1]/section/div/button')\n",
    "#    print(2)\n",
    "#    #actions = ActionChains(browser)\n",
    "#    #actions.move_to_element(profile_show_experience).perform()##\n",
    "#\n",
    "##except:\n",
    "#    #actions = ActionChains(browser)\n",
    "#    #actions.move_to_element(profile_show_experience).perform()\n",
    "#time.sleep(1)  "
   ]
  },
  {
   "cell_type": "code",
   "execution_count": null,
   "metadata": {},
   "outputs": [],
   "source": [
    "# show MORE experiences > button \"show more experience\"\n",
    "profile_show_experience = browser.find_element_by_xpath\\\n",
    "(\"//button[@class='pv-profile-section__see-more-inline pv-profile-section__text-truncate-toggle link link-without-hover-state']\")\n",
    "ActionChains(browser).move_to_element(profile_show_experience).perform()\n",
    "profile_show_experience.click()\n",
    "html_body.send_keys(Keys.PAGE_UP)"
   ]
  },
  {
   "cell_type": "code",
   "execution_count": null,
   "metadata": {},
   "outputs": [],
   "source": [
    "#try:\n",
    "#  # Tries to click an element\n",
    "#  profile_show_experience.click()\n",
    "#except ElementClickInterceptedException:\n",
    "#  # Use Javascript to scroll down to bottom of page\n",
    "#  browser.execute_script(\"window.scrollTo(0, document.body.scrollHeight);\")"
   ]
  },
  {
   "cell_type": "code",
   "execution_count": null,
   "metadata": {},
   "outputs": [],
   "source": [
    "# experiences > text\n",
    "#if browser.find_element_by_xpath('/html/body/div[5]/div[4]/div[3]/div/div/div/div/div[2]/main/div[7]/div[2]/span/div/section/div[1]'):\n",
    "#    profile_experience = browser.find_element_by_xpath\\\n",
    "#    ('/html/body/div[5]/div[4]/div[3]/div/div/div/div/div[2]/main/div[7]/div[2]/span/div/section/div[1]')##\n",
    "#\n",
    "#elif browser.find_element_by_xpath(  '/html/body/div[5]/div[3]/div[3]/div/div/div/div/div[2]/main/div[7]/div[2]/span/div/section/div[1]'):\n",
    "#    profile_experience = browser.find_element_by_xpath\\\n",
    "#    ('/html/body/div[5]/div[3]/div[3]/div/div/div/div/div[2]/main/div[7]/div[2]/span/div/section/div[1]')\n",
    "#    \n",
    "#profile_experience.text "
   ]
  },
  {
   "cell_type": "code",
   "execution_count": null,
   "metadata": {},
   "outputs": [],
   "source": [
    "# experiences > text\n",
    "profile_experience = browser.find_element_by_id('experience-section')\n",
    "profile_experience.text "
   ]
  },
  {
   "cell_type": "code",
   "execution_count": null,
   "metadata": {},
   "outputs": [],
   "source": [
    "# getting info: time experience\n",
    "pattern_1 = 'Employment Duration\\n(.*)\\nLocation'\n",
    "time_experience = list(re.findall(pattern_1 , profile_experience.text))\n",
    "time_experience"
   ]
  },
  {
   "cell_type": "code",
   "execution_count": null,
   "metadata": {},
   "outputs": [],
   "source": [
    "# getting info: name experience\n",
    "pattern_n1 = '\\n(.*)\\ncompany name'\n",
    "name_experience1 = list(re.findall(pattern_n1 , profile_experience.text.lower()))\n",
    "pattern_n2 = 'title\\n(.*)\\n'\n",
    "name_experience2 = list(re.findall(pattern_n2 , profile_experience.text.lower()))\n",
    "name_experience = name_experience1 + name_experience2 \n",
    "name_experience.remove('see more')\n",
    "name_experience"
   ]
  },
  {
   "cell_type": "code",
   "execution_count": null,
   "metadata": {},
   "outputs": [],
   "source": [
    "y, m = 0 , 0\n",
    "for t in time_experience:\n",
    "    print(t)\n",
    "    if re.findall('[0-9] yr', t):\n",
    "        year  = re.findall('[0-9] yr', t)[0].split(\" \")[0]\n",
    "        y += int(year)\n",
    "    if re.findall('[0-9] mo', t):\n",
    "        month = re.findall('[0-9] mo', t)[0].split(\" \")[0]\n",
    "        m += int(month)\n",
    "print(y, \"years -\", m,\"months\")\n",
    "m_nuevo = m//12\n",
    "y_nuevo = y + m%12\n",
    "print(y_nuevo , \"years -\", m_nuevo ,\"months\")"
   ]
  },
  {
   "cell_type": "markdown",
   "metadata": {},
   "source": [
    "#### Education:"
   ]
  },
  {
   "cell_type": "code",
   "execution_count": null,
   "metadata": {},
   "outputs": [],
   "source": [
    "profile_education = browser.find_element_by_id('education-section')\n",
    "profile_education.text.lower()"
   ]
  },
  {
   "cell_type": "code",
   "execution_count": null,
   "metadata": {},
   "outputs": [],
   "source": [
    "# getting info: degrees\n",
    "pattern_2 = 'degree name\\n(.*)\\n'\n",
    "degrees = \\\n",
    "re.findall(pattern_2 , profile_education.text.lower())\n",
    "\n",
    "degrees = [x.replace('bachelor of ','').replace('\\'s degree','') for x in degrees ]\n",
    "degrees"
   ]
  },
  {
   "cell_type": "code",
   "execution_count": null,
   "metadata": {},
   "outputs": [],
   "source": [
    "# getting info: grades\n",
    "pattern_3 = 'field of study\\n(.*)\\n'\n",
    "fields = re.findall(pattern_3 , profile_education.text.lower())\n",
    "fields"
   ]
  },
  {
   "cell_type": "code",
   "execution_count": null,
   "metadata": {},
   "outputs": [],
   "source": []
  },
  {
   "cell_type": "markdown",
   "metadata": {},
   "source": [
    "#### Skills:"
   ]
  },
  {
   "cell_type": "code",
   "execution_count": null,
   "metadata": {},
   "outputs": [],
   "source": [
    "#show MORE skills > > button \"show more...\"\n",
    "profile_more_skills =  browser.find_element_by_xpath(\"//button[@data-control-name='skill_details']\")\n",
    "ActionChains(browser).move_to_element(profile_more_skills).perform()\n",
    "profile_more_skills.click()\n",
    "html_body.send_keys(Keys.PAGE_UP)"
   ]
  },
  {
   "cell_type": "code",
   "execution_count": null,
   "metadata": {},
   "outputs": [],
   "source": [
    "# skill table> text\n",
    "profile_skills_details = browser.find_element_by_xpath\\\n",
    "(\"//section[@class='pv-profile-section pv-skill-categories-section artdeco-container-card ember-view']\")\n",
    "profile_skills_details.text"
   ]
  },
  {
   "cell_type": "code",
   "execution_count": null,
   "metadata": {},
   "outputs": [],
   "source": [
    "skills = profile_skills_details.text.split(\"\\n\")\n",
    "print(skills)\n",
    "not_needed_words = ['Skills & Endorsements', \n",
    "                    'Add a new skill', \n",
    "                    'Take skill quiz', \n",
    "                    'Passed: LinkedIn Assessments',\n",
    "                    'Tools & Technologies',\n",
    "                    'Interpersonal Skills',\n",
    "                    'Languages',\n",
    "                    'Other Skills',\n",
    "                    'Show less',\n",
    "                   ]"
   ]
  },
  {
   "cell_type": "code",
   "execution_count": null,
   "metadata": {},
   "outputs": [],
   "source": [
    "#Getting just necesary skills\n",
    "skills_delete = []\n",
    "for s in skills:\n",
    "    #if (s in not_needed_words) or ('ndorse' in s) or ('Show only' in s) or s.isdigit():\n",
    "    if (s in not_needed_words) or re.search('ndorse',s) or re.search('Show only',s) or re.search('[0-9]',s):\n",
    "        #print(s)\n",
    "        skills_delete.append(s)\n",
    "        \n",
    "        #skills.remove(s)\n",
    "print(skills_delete)\n",
    "skills_clean = list(set(skills)-set(skills_delete))\n",
    "skills_clean = [ x.lower().split(' (')[0] for x in skills_clean]\n",
    "sorted(skills_clean)"
   ]
  },
  {
   "cell_type": "code",
   "execution_count": null,
   "metadata": {},
   "outputs": [],
   "source": [
    "#skills_1 = re.findall( '\\n(.*)\\nSee' , profile_skills_details.text.split(\"\\nIndustry Knowledge\")[0])\n",
    "#skills_1"
   ]
  },
  {
   "cell_type": "code",
   "execution_count": null,
   "metadata": {},
   "outputs": [],
   "source": [
    "#skills_2_delete = re.findall('\\nShow less\\nShow only(.*)featured skills', profile_skills_details.text.split(\"\\nIndustry Knowledge\")[1])[0]\n",
    "#skills_2_delete"
   ]
  },
  {
   "cell_type": "code",
   "execution_count": null,
   "metadata": {},
   "outputs": [],
   "source": [
    "#skills_2 = profile_skills_details.text.split(\"\\nIndustry Knowledge\")[1]\\\n",
    "#                                    .replace(\"\\nTools & Technologies\",\"\")\\\n",
    "#                                    .replace(\"\\nInterpersonal Skills\",\"\")\\\n",
    "#                                    .replace(\"\\nLanguages\",\"\")\\\n",
    "#                                    .replace(\"\\nOther Skills\",\"\")\\\n",
    "#                                    .split(\"\\n\")\n",
    "#.replace(f\"\\nShow less\\nShow only{skills_2_delete}featured skills'\",\"\")\\\n",
    "#skills_2                            "
   ]
  },
  {
   "cell_type": "markdown",
   "metadata": {},
   "source": [
    "#### Languages:"
   ]
  },
  {
   "cell_type": "code",
   "execution_count": null,
   "metadata": {},
   "outputs": [],
   "source": [
    "languages = browser.find_element_by_id('languages-expandable-content').text.split(' ')\n",
    "languages = [x.lower() for x in languages]\n",
    "languages"
   ]
  },
  {
   "cell_type": "code",
   "execution_count": null,
   "metadata": {},
   "outputs": [],
   "source": [
    "total_skills = sorted(list(set(degrees + fields + skills_clean + languages)))\n",
    "total_skills"
   ]
  },
  {
   "cell_type": "code",
   "execution_count": null,
   "metadata": {},
   "outputs": [],
   "source": [
    "# Creating df_profile\n",
    "profile = [linkedin_profile, headline, open_status, about, name_experience, time_experience ,\n",
    "           y_nuevo, degrees, fields, skills_clean, languages, total_skills]\n",
    "\n",
    "df_profile = pd.DataFrame(profile,\n",
    "                          index = ['profile',\n",
    "                                   'headline',\n",
    "                                   'open new jobs',\n",
    "                                   'about',\n",
    "                                   'experiences',\n",
    "                                   'years of experiences',\n",
    "                                   'total years',\n",
    "                                   'degrees',\n",
    "                                   'fields',\n",
    "                                   'skills',\n",
    "                                   'languages',\n",
    "                                   'total skills'\n",
    "                                  ],\n",
    "                          columns= ['info']\n",
    "                         )\n"
   ]
  },
  {
   "cell_type": "code",
   "execution_count": null,
   "metadata": {},
   "outputs": [],
   "source": [
    "df_profile"
   ]
  },
  {
   "cell_type": "code",
   "execution_count": null,
   "metadata": {},
   "outputs": [],
   "source": [
    "#LINUX\n",
    "if platform.system() == 'Linux':\n",
    "    df_profile.to_csv(f'../data/raw/df_profile_{linkedin_profile}.csv',\n",
    "                  sep = ';',\n",
    "                  encoding= 'utf8'\n",
    "              )\n",
    "#WINDOWS\n",
    "elif platform.system() == 'Windows':\n",
    "    df_profile.to_csv(f'..\\\\data\\\\raw\\\\df_profile_{linkedin_profile}.csv',\n",
    "                      sep = ';',\n",
    "                      encoding= 'utf8'\n",
    "                  )"
   ]
  },
  {
   "cell_type": "code",
   "execution_count": null,
   "metadata": {},
   "outputs": [],
   "source": []
  },
  {
   "cell_type": "markdown",
   "metadata": {},
   "source": [
    "***\n",
    "***\n",
    "#### JOB SEARCH :"
   ]
  },
  {
   "cell_type": "markdown",
   "metadata": {},
   "source": [
    "#### GETTING JOB POSTS :"
   ]
  },
  {
   "cell_type": "markdown",
   "metadata": {},
   "source": [
    "#### Functions >"
   ]
  },
  {
   "cell_type": "code",
   "execution_count": null,
   "metadata": {},
   "outputs": [],
   "source": [
    "#number of pages with job posts considering job title given to thi\n",
    "def n_pages_linkedin(browser,job_title_s, location):\n",
    "    \n",
    "    JOB_URL = f'https://www.linkedin.com/jobs/search/?keywords={job_title_s}&location={location}'\n",
    "    browser.get(JOB_URL)\n",
    "    time.sleep(1)\n",
    "    \n",
    "    # Total results \n",
    "    results = browser.find_element_by_xpath(\"//small[@class='display-flex t-12 t-black--light t-normal']\").text\n",
    "    print(f'RESULTS:{results}')\n",
    "    results = int(results.split(\" \")[0])\n",
    "    #if   browser.find_element_by_xpath(\"/html/body/div[5]/div[4]/div[3]/section[1]/div[2]/div/div/div[1]/div[1]/div[1]/small\"):\n",
    "    #    results = int(browser.find_element_by_xpath\\\n",
    "    #    (\"/html/body/div[5]/div[4]/div[3]/section[1]/div[2]/div/div/div[1]/div[1]/div[1]/small\").text.split(\" \")[0])\n",
    "    #elif browser.find_element_by_xpath(\"/html/body/div[6]/div[4]/div[3]/section[1]/div[2]/div/div/div[1]/div[1]/div[1]/small\"):\n",
    "    #    results = int(browser.find_element_by_xpath\\\n",
    "    #    (\"/html/body/div[5]/div[4]/div[3]/section[1]/div[2]/div/div/div[1]/div[1]/div[1]/small\").text.split(\" \")[0])\n",
    "    \n",
    "    # More than 25 results > More than 1 page\n",
    "    if results > 25:\n",
    "        pages = browser.find_element_by_xpath(\"//ul[@class='artdeco-pagination__pages artdeco-pagination__pages--number']\")\n",
    "        #try:\n",
    "        #    pages = browser.find_element_by_xpath\\\n",
    "        #    ('/html/body/div[5]/div[4]/div[3]/section[1]/div[2]/div/div/div[1]/div[2]/div/section/artdeco-pagination/ul')\n",
    "        #except:\n",
    "        #    pages = browser.find_element_by_xpath\\\n",
    "        #    ('/html/body/div[6]/div[4]/div[3]/section[1]/div[2]/div/div/div[1]/div[2]/div/section/artdeco-pagination/ul')\n",
    "        \n",
    "        print(type(pages))\n",
    "        n_pages = int(pages.text.split('\\n')[-1])\n",
    "        print(n_pages)\n",
    "        return n_pages #,results \n",
    "    \n",
    "    else:\n",
    "        n_pages = 1\n",
    "        print(n_pages)\n",
    "        return n_pages #,results "
   ]
  },
  {
   "cell_type": "code",
   "execution_count": null,
   "metadata": {},
   "outputs": [],
   "source": [
    "#n_pages_linkedin(browser,'data%20analyst', 'Madrid')"
   ]
  },
  {
   "cell_type": "code",
   "execution_count": null,
   "metadata": {},
   "outputs": [],
   "source": [
    "#Iterator of JOB POSTS > the only wayt is considering XPATH with an iteration\n",
    "def j_post(browser, i):\n",
    "    if   browser.find_element_by_xpath\\\n",
    "        (f'/html/body/div[5]/div[4]/div[3]/section[1]/div[2]/div/div/div[1]/div[2]/div/ul/li[{i}]/div/artdeco-entity-lockup/artdeco-entity-lockup-content/h3/a'):\n",
    "        job_post = browser.find_element_by_xpath\\\n",
    "        (f'/html/body/div[5]/div[4]/div[3]/section[1]/div[2]/div/div/div[1]/div[2]/div/ul/li[{i}]/div/artdeco-entity-lockup/artdeco-entity-lockup-content/h3/a')\n",
    "                                                        #  /html/body/div[5]/div[4]/div[3]/section[1]/div[2]/div/div/div[1]/div[2]/div/ul/li[ 1 ]/div/artdeco-entity-lockup/artdeco-entity-lockup-content/h3/a\n",
    "                                                        #  /html/body/div[5]/div[4]/div[3]/section[1]/div[2]/div/div/div[1]/div[2]/div/ul/li[ 1 ]/div/artdeco-entity-lockup/artdeco-entity-lockup-content/h3/a\n",
    "    elif browser.find_element_by_xpath\\\n",
    "        (f'/html/body/div[6]/div[4]/div[3]/section[1]/div[2]/div/div/div[1]/div[2]/div/ul/li[{i}]/div/artdeco-entity-lockup/artdeco-entity-lockup-content/h3/a'):\n",
    "        job_post = browser.find_element_by_xpath\\\n",
    "        ( '/html/body/div[6]/div[4]/div[3]/section[1]/div[2]/div/div/div[1]/div[2]/div/ul/li[{i}]/div/artdeco-entity-lockup/artdeco-entity-lockup-content/h3/a')\n",
    "\n",
    "    elif browser.find_element_by_xpath\\\n",
    "        (f'/html/body/div[5]/div[4]/div[3]/section[1]/div[2]/div/div/div[1]/div[2]/div[2]/ul/li[{i}]/div/artdeco-entity-lockup/artdeco-entity-lockup-content/h3/a'):\n",
    "        job_post = browser.find_element_by_xpath\\\n",
    "        (f'/html/body/div[5]/div[4]/div[3]/section[1]/div[2]/div/div/div[1]/div[2]/div[2]/ul/li[{i}]/div/artdeco-entity-lockup/artdeco-entity-lockup-content/h3/a')\n",
    "\n",
    "    elif browser.find_element_by_xpath\\\n",
    "        (f'/html/body/div[6]/div[4]/div[3]/section[1]/div[2]/div/div/div[1]/div[2]/div[2]/ul/li[{i}]/div/artdeco-entity-lockup/artdeco-entity-lockup-content/h3/a'):\n",
    "        job_post = browser.find_element_by_xpath\\\n",
    "        (f'/html/body/div[6]/div[4]/div[3]/section[1]/div[2]/div/div/div[1]/div[2]/div[2]/ul/li[{i}]/div/artdeco-entity-lockup/artdeco-entity-lockup-content/h3/a')\n",
    "    \n",
    "    return job_post"
   ]
  },
  {
   "cell_type": "code",
   "execution_count": null,
   "metadata": {},
   "outputs": [],
   "source": [
    "#last = browser.find_element_by_xpath()'/html/body/div[6]/div[4]/div[3]/section[1]/div[2]/div/div/div[1]/div[2]/div/section/artdeco-pagination/ul')"
   ]
  },
  {
   "cell_type": "code",
   "execution_count": null,
   "metadata": {},
   "outputs": [],
   "source": [
    "#pages.location_once_scrolled_into_view"
   ]
  },
  {
   "cell_type": "markdown",
   "metadata": {},
   "source": [
    "***"
   ]
  },
  {
   "cell_type": "code",
   "execution_count": null,
   "metadata": {},
   "outputs": [],
   "source": [
    "# Creating df\n",
    "df_jobs = pd.DataFrame(columns=['JOB TITLE',\n",
    "                                'LOCATION',\n",
    "                                'SEARCH DATETIME',\n",
    "                                'Current Job Id',\n",
    "                                'Job html',\n",
    "                                'Job name',\n",
    "                                'Company name',\n",
    "                                'Company location',\n",
    "                                'Posted date',\n",
    "                                'Estimated post date',\n",
    "                                'Easy apply',\n",
    "                                'Job Description',\n",
    "                                'Skills match',\n",
    "                                'Seniority Level',\n",
    "                                'Industry',\n",
    "                                'Employment Type',\n",
    "                                'Job Functions',\n",
    "                                'Job info'                                \n",
    "                               ])"
   ]
  },
  {
   "cell_type": "code",
   "execution_count": null,
   "metadata": {},
   "outputs": [],
   "source": [
    "# Jobs search\n",
    "jobs_list = ['data analyst', 'data scientist', 'data engineer']"
   ]
  },
  {
   "cell_type": "code",
   "execution_count": null,
   "metadata": {},
   "outputs": [],
   "source": [
    "location"
   ]
  },
  {
   "cell_type": "code",
   "execution_count": null,
   "metadata": {},
   "outputs": [],
   "source": [
    "# Defining current date time\n",
    "now = datetime.now()\n",
    "now_str = datetime.now().strftime('%Y-%m-%d %H:%M')"
   ]
  },
  {
   "cell_type": "code",
   "execution_count": null,
   "metadata": {},
   "outputs": [],
   "source": [
    "# iterator of JOB LIST\n",
    "#total_results = 0\n",
    "\n",
    "try:\n",
    "    \n",
    "    for j in jobs_list:\n",
    "\n",
    "        # Getting each job for the search\n",
    "        print(f'++++++++++++++++  {j} +++++++++++++++++++')\n",
    "        job_title_df  = j\n",
    "        job_title_s   = j.replace(' ', '%20')\n",
    "\n",
    "        # Getting number of pages for each search\n",
    "        n_pages = n_pages_linkedin(browser,job_title_s, location)\n",
    "        #total_results +=results\n",
    "        last_job_page = n_pages*25\n",
    "        print(last_job_page)  \n",
    "\n",
    "\n",
    "        #*************************************************************************\n",
    "        # iterator of JOB PAGES\n",
    "        for p in range(0,last_job_page,25):\n",
    "        #for p in range(0,1):\n",
    "\n",
    "            print(f'PAGINA: {p}')\n",
    "\n",
    "            #Exploring each page with maximum 25 job posts\n",
    "            JOB_URL = f'https://www.linkedin.com/jobs/search/?keywords={job_title_s}&location={location}&start={p}'\n",
    "            browser.get(JOB_URL)\n",
    "\n",
    "            if p==0:\n",
    "                time.sleep(2)\n",
    "            else:\n",
    "                time.sleep(0.5)\n",
    "\n",
    "            \"\"\"\n",
    "            #activate all job posts in each page \n",
    "            if results > 25:\n",
    "                try:\n",
    "                    pages = browser.find_element_by_xpath\\\n",
    "                    ('/html/body/div[5]/div[4]/div[3]/section[1]/div[2]/div/div/div[1]/div[2]/div/section/artdeco-pagination/ul')\n",
    "                except:\n",
    "                    pages = browser.find_element_by_xpath\\\n",
    "                    ('/html/body/div[6]/div[4]/div[3]/section[1]/div[2]/div/div/div[1]/div[2]/div/section/artdeco-pagination/ul')\n",
    "            actions = ActionChains(browser)\n",
    "            actions.move_to_element(pages).perform()\n",
    "            \"\"\"\n",
    "\n",
    "            # Taking table of job posts\n",
    "            tabla_izq = browser.find_element_by_xpath\\\n",
    "            (\"//div[@class='jobs-search-results jobs-search-results--is-two-pane']\")\n",
    "\n",
    "\n",
    "            \"\"\"\n",
    "            try:\n",
    "                if browser.find_element_by_xpath(\"/html/body/div[5]/div[4]/div[3]/section[1]/div[2]/div/div/div[1]\"):\n",
    "                    tabla_izq = browser.find_element_by_xpath(\"/html/body/div[5]/div[4]/div[3]/section[1]/div[2]/div/div/div[1]\")\n",
    "                elif browser.find_element_by_xpath(\"/html/body/div[6]/div[4]/div[3]/section[1]/div[2]/div/div/div[1]\"):\n",
    "                    tabla_izq = browser.find_element_by_xpath(\"/html/body/div[6]/div[4]/div[3]/section[1]/div[2]/div/div/div[1]\") \n",
    "            except:\n",
    "                JOB_URL = f'https://www.linkedin.com/jobs/search/?keywords={job_title_s}&location={location}&start={p}'\n",
    "                browser.get(JOB_URL)\n",
    "                time.sleep(0.2)\n",
    "\n",
    "                if browser.find_element_by_xpath(\"/html/body/div[5]/div[4]/div[3]/section[1]/div[2]/div/div/div[1]\"):\n",
    "                    tabla_izq = browser.find_element_by_xpath(\"/html/body/div[5]/div[4]/div[3]/section[1]/div[2]/div/div/div[1]\")\n",
    "                elif browser.find_element_by_xpath(\"/html/body/div[6]/div[4]/div[3]/section[1]/div[2]/div/div/div[1]\"):\n",
    "                    tabla_izq = browser.find_element_by_xpath(\"/html/body/div[6]/div[4]/div[3]/section[1]/div[2]/div/div/div[1]\") \n",
    "            \"\"\"\n",
    "\n",
    "            #try:\n",
    "            #    tabla_izq = \\\n",
    "            #        browser.find_element_by_xpath(\"/html/body/div[5]/div[4]/div[3]/section[1]/div[2]/div/div/div[1]\")\n",
    "            #except:\n",
    "            #    tabla_izq = \\\n",
    "            #        browser.find_element_by_xpath(\"/html/body/div[6]/div[4]/div[3]/section[1]/div[2]/div/div/div[1]\")         \n",
    "            #time.sleep(0.5)\n",
    "\n",
    "            \"\"\"\n",
    "            # Getting quantity of job posts that you CAN SEE directly in each page\n",
    "            if p < (last_job_page-25):\n",
    "                job_list = \\\n",
    "                tabla_izq.text.split('Manage alerts\\n')[1].split('Close\\n')[0].split('ago')    \n",
    "            else:\n",
    "                job_list = \\\n",
    "                tabla_izq.text.split('Manage alerts\\n')[1].split('Close\\n')[0].split('Create alert for this search\\n')[0].split('ago')\n",
    "\n",
    "            n_job_list = len(job_list)-1\n",
    "            print(f'Lista de trabajos visibles:{n_job_list}') \n",
    "            time.sleep(0.1)\n",
    "            \"\"\"\n",
    "\n",
    "            # iterator of JOB LIST\n",
    "            # iterator of jobs posts\n",
    "            i=1\n",
    "            error=False\n",
    "\n",
    "            while i<=25 and error==False:\n",
    "            #for i in range(1,n_job_list+1):\n",
    "\n",
    "                try:\n",
    "\n",
    "                    print(f'i:{i}')\n",
    "\n",
    "                    # Selecting job post in order to click on it\n",
    "                    job_post = j_post(browser, i)\n",
    "\n",
    "                    \"\"\"\n",
    "                    # Selecting job post in order to click on it\n",
    "                    if   browser.find_element_by_xpath\\\n",
    "                        (f'/html/body/div[5]/div[4]/div[3]/section[1]/div[2]/div/div/div[1]/div[2]/div/ul/li[{i}]/div/artdeco-entity-lockup/artdeco-entity-lockup-content/h3/a'):\n",
    "                        job_post = browser.find_element_by_xpath\\\n",
    "                        (f'/html/body/div[5]/div[4]/div[3]/section[1]/div[2]/div/div/div[1]/div[2]/div/ul/li[{i}]/div/artdeco-entity-lockup/artdeco-entity-lockup-content/h3/a')\n",
    "                        #  /html/body/div[5]/div[4]/div[3]/section[1]/div[2]/div/div/div[1]/div[2]/div/ul/li[ 1 ]/div/artdeco-entity-lockup/artdeco-entity-lockup-content/h3/a\n",
    "                        #  /html/body/div[5]/div[4]/div[3]/section[1]/div[2]/div/div/div[1]/div[2]/div/ul/li[ 1 ]/div/artdeco-entity-lockup/artdeco-entity-lockup-content/h3/a\n",
    "                    elif browser.find_element_by_xpath\\\n",
    "                        (f'/html/body/div[6]/div[4]/div[3]/section[1]/div[2]/div/div/div[1]/div[2]/div/ul/li[{i}]/div/artdeco-entity-lockup/artdeco-entity-lockup-content/h3/a'):\n",
    "                        job_post = browser.find_element_by_xpath\\\n",
    "                        (f'/html/body/div[6]/div[4]/div[3]/section[1]/div[2]/div/div/div[1]/div[2]/div/ul/li[{i}]/div/artdeco-entity-lockup/artdeco-entity-lockup-content/h3/a')\n",
    "\n",
    "                    elif browser.find_element_by_xpath\\\n",
    "                        (f'/html/body/div[5]/div[4]/div[3]/section[1]/div[2]/div/div/div[1]/div[2]/div[2]/ul/li[{i}]/div/artdeco-entity-lockup/artdeco-entity-lockup-content/h3/a'):\n",
    "                        job_post = browser.find_element_by_xpath\\\n",
    "                        (f'/html/body/div[5]/div[4]/div[3]/section[1]/div[2]/div/div/div[1]/div[2]/div[2]/ul/li[{i}]/div/artdeco-entity-lockup/artdeco-entity-lockup-content/h3/a')\n",
    "\n",
    "                    elif browser.find_element_by_xpath\\\n",
    "                        (f'/html/body/div[6]/div[4]/div[3]/section[1]/div[2]/div/div/div[1]/div[2]/div[2]/ul/li[{i}]/div/artdeco-entity-lockup/artdeco-entity-lockup-content/h3/a'):\n",
    "                        job_post = browser.find_element_by_xpath\\\n",
    "                        (f'/html/body/div[6]/div[4]/div[3]/section[1]/div[2]/div/div/div[1]/div[2]/div[2]/ul/li[{i}]/div/artdeco-entity-lockup/artdeco-entity-lockup-content/h3/a')\n",
    "                    \"\"\"\n",
    "\n",
    "                    #try:\n",
    "                    #    job_post = browser.find_element_by_xpath\\\n",
    "                    #    (f'/html/body/div[5]/div[4]/div[3]/section[1]/div[2]/div/div/div[1]/div[2]/div/ul/li[{i}]/div/artdeco-entity-lockup/artdeco-entity-lockup-content/h3/a')\n",
    "                    #except:\n",
    "                    #    job_post = browser.find_element_by_xpath\\\n",
    "                    #    (f'/html/body/div[6]/div[4]/div[3]/section[1]/div[2]/div/div/div[1]/div[2]/div/ul/li[{i}]/div/artdeco-entity-lockup/artdeco-entity-lockup-content/h3/a')\n",
    "\n",
    "                    print(job_post.text)\n",
    "                    job_post.click()\n",
    "                    time.sleep(0.1)\n",
    "\n",
    "                    # Getting current job ID\n",
    "                    print(browser.current_url)      \n",
    "                    currentJobId = browser.current_url.split('currentJobId=')[1].split('&')[0] #col1_pd\n",
    "                    # if you wanna watch the job page\n",
    "                    job_html = f'https://www.linkedin.com/jobs/view/{currentJobId}/'\n",
    "                    print(f'{currentJobId}')\n",
    "\n",
    "                    # Extracting job information on the right side\n",
    "                    job_post_right = browser.find_element_by_xpath(\"//div[@class='jobs-search-two-pane__details pt4 ph3 jobs-search-two-pane__details ember-view']\")   \n",
    "\n",
    "                    \"\"\"\n",
    "                    try:\n",
    "                        job_post_right = browser.find_element_by_xpath\\\n",
    "                            ('/html/body/div[5]/div[4]/div[3]/section[1]/div[2]/div/div/div[2]')\n",
    "                    except:\n",
    "                        job_post_right = browser.find_element_by_xpath\\\n",
    "                            ('/html/body/div[6]/div[4]/div[3]/section[1]/div[2]/div/div/div[2]')\n",
    "                    \"\"\"\n",
    "                    #getting info and only separating: job name, company name, company location\n",
    "                    #job_post_right_content    = job_post_right.text.split('\\n', 5)\n",
    "\n",
    "                    ##################################################################################################\n",
    "                    #Job name\n",
    "                    job_post_name             = job_post_right.text.split('\\n', 1)[0]\n",
    "\n",
    "                    #Company name > Sometimes there is no info here\n",
    "                    if job_post_right.text.split('Company Name\\n',1)[1].split('\\n')[0] == 'Company Location':\n",
    "                        job_post_company_name = \"\"\n",
    "                    else:\n",
    "                        job_post_company_name = job_post_right.text.split('Company Name\\n',1)[1].split('\\n')[0]\n",
    "\n",
    "                    #Location\n",
    "                    job_post_company_location = job_post_right.text.split('Company Location\\n',1)[1].split('\\n')[0]\n",
    "\n",
    "                    #Posted date\n",
    "                    job_post_posted_date      = job_post_right.text.split(' ago',1)[0].split('Posted Date\\nPosted ')[1]\n",
    "                    if   job_post_posted_date.split(\" \")[1] in ['hour', 'hours']:\n",
    "                        job_post_estimated_date = now - timedelta(hours =     int(job_post_posted_date.split(\" \")[0]))\n",
    "                    elif job_post_posted_date.split(\" \")[1] in ['day', 'days']:\n",
    "                        job_post_estimated_date = now - timedelta(days  =     int(job_post_posted_date.split(\" \")[0]))\n",
    "                    elif job_post_posted_date.split(\" \")[1] in ['week', 'weeks']:\n",
    "                        job_post_estimated_date = now - timedelta(weeks =     int(job_post_posted_date.split(\" \")[0]))\n",
    "                    elif job_post_posted_date.split(\" \")[1] in ['month', 'months']:\n",
    "                        job_post_estimated_date = now - timedelta(weeks =   4*int(job_post_posted_date.split(\" \")[0]))\n",
    "                    elif job_post_posted_date.split(\" \")[1] in ['year', 'years']:\n",
    "                        job_post_estimated_date = now - timedelta(weeks = 365*int(job_post_posted_date.split(\" \")[0]))\n",
    "\n",
    "                    #Easy apply: T/F\n",
    "                    try:\n",
    "                        if job_post_right.text.split('Save\\n',1)[1].split('\\n',2)[1] == 'Easy Apply':\n",
    "                            job_post_easy_apply = True\n",
    "                        else:\n",
    "                            job_post_easy_apply = False\n",
    "                    except:\n",
    "                        if job_post_right.text.split('Unsave\\n',1)[1].split('\\n',2)[1] == 'Easy Apply':\n",
    "                            job_post_easy_apply = True\n",
    "                        else:\n",
    "                            job_post_easy_apply = False\n",
    "\n",
    "\n",
    "                    #Skills match\n",
    "                    if re.search('\\nHow you match',job_post_right.text):\n",
    "                    #if '\\nHow you match' in job_post_right.text:\n",
    "                        y = 'Match\\n(.*)\\n'\n",
    "                        n = 'No match\\n(.*)\\n' \n",
    "                        job_post_skills_match    = re.findall(y,job_post_right.text)\n",
    "                        job_post_skills_nomatch  = re.findall(n,job_post_right.text)\n",
    "                        job_post_skills = {'yes': job_post_skills_match,\n",
    "                                           'no' : job_post_skills_nomatch,\n",
    "                                           'all': job_post_skills_match + job_post_skills_nomatch\n",
    "                                          }\n",
    "                    else:\n",
    "                        job_post_skills_match    = {}\n",
    "\n",
    "\n",
    "                    ####\n",
    "                    # Extracting job information on the right side\n",
    "                    job_post_right_description = \\\n",
    "                    browser.find_element_by_xpath(\"//div[@class='jobs-box jobs-box--fadein jobs-box--full-width jobs-box--with-cta-large jobs-description jobs-description--reformatted ember-view']\").text  \n",
    "\n",
    "\n",
    "\n",
    "                    #Seniority Level\n",
    "                    try:\n",
    "                        job_post_seniority_level = job_post_right.text.split('Seniority Level\\n',1)[1].split('\\n')[0]\n",
    "                    except:\n",
    "                        job_post_seniority_level = \"\"\n",
    "\n",
    "                    #Industry\n",
    "                    try:\n",
    "                        job_post_industry        = job_post_right.text.split('Industry\\n',1)[1].split('\\n')[0]\n",
    "                    except:\n",
    "                        job_post_industry        = \"\"\n",
    "\n",
    "                    #Employment Type\n",
    "                    try:\n",
    "                        job_post_employment_type = job_post_right.text.split('Employment Type\\n',1)[1].split('\\n')[0]\n",
    "                    except:\n",
    "                        job_post_employment_type = \"\"\n",
    "\n",
    "                    #Job Functions > maybe this is the last\n",
    "                    try:\n",
    "                        job_post_job_functions   = job_post_right.text.split('Job Functions\\n',1)[1].split('\\n')[0]\n",
    "                    except:\n",
    "                        job_post_job_functions   = \"\"\n",
    "\n",
    "\n",
    "                    #job info\n",
    "                    job_post_info             = job_post_right.text.split('\\n', 5)[5]\n",
    "\n",
    "                    #Dataframe\n",
    "                    df_jobs = df_jobs.append({\n",
    "                                                'JOB TITLE'          : job_title_df,\n",
    "                                                'LOCATION'           : location,\n",
    "                                                'SEARCH DATETIME'    : now_str,\n",
    "                                                'Current Job Id'     : currentJobId,\n",
    "                                                'Job html'           : job_html,\n",
    "                                                'Job name'           : job_post_name,\n",
    "                                                'Company name'       : job_post_company_name,\n",
    "                                                'Company location'   : job_post_company_location,\n",
    "                                                'Posted date'        : job_post_posted_date,\n",
    "                                                'Estimated post date': job_post_estimated_date.strftime('%Y-%m-%d %H:%M'),\n",
    "                                                'Easy apply'         : job_post_easy_apply,\n",
    "\n",
    "                                                'Skills match'       : job_post_skills,\n",
    "                                                'Job Description'    : job_post_right_description,\n",
    "                                                'Seniority Level'    : job_post_seniority_level,\n",
    "                                                'Industry'           : job_post_industry ,\n",
    "                                                'Employment Type'    : job_post_employment_type,\n",
    "                                                'Job Functions'      : job_post_job_functions,\n",
    "                                                'Job info'           : job_post_info,\n",
    "                                             }, ignore_index=True)\n",
    "\n",
    "                    #print(len(job_post_right_content))\n",
    "                    print(job_post_name)\n",
    "                    print(job_post_company_name)\n",
    "                    print(job_post_company_location)\n",
    "                    print(job_post_posted_date)\n",
    "                    #print(f'{job_post_info}\\n')\n",
    "                    print(\"\")\n",
    "\n",
    "                    # if you wanna watch the job page\n",
    "                    # job_html = f'https://www.linkedin.com/jobs/view/{currentJobId}/' # > it's possible to use REQUESTS >>> NOPE XXXXX\n",
    "\n",
    "                    if i%5==0: #each 5 job post, one execution of 2 pages down\n",
    "                        tabla_izq.send_keys(Keys.PAGE_DOWN*2)\n",
    "                        time.sleep(0.1)\n",
    "\n",
    "                except:\n",
    "                    error=True #if an error ocurred when the algorith tried to get a post, this loop finishs and goes to the next page\n",
    "                finally:\n",
    "                    i+=1 # next one >>>>>>>>>>>>>>>>\n",
    "\n",
    "except:\n",
    "    print(f'\\n - Se han recopilado {df_jobs.shape[0]} ofertas de trabajo')\n",
    "    #browser.close()"
   ]
  },
  {
   "cell_type": "code",
   "execution_count": null,
   "metadata": {},
   "outputs": [],
   "source": [
    "df_jobs.shape"
   ]
  },
  {
   "cell_type": "code",
   "execution_count": null,
   "metadata": {},
   "outputs": [],
   "source": [
    "df_jobs['JOB TITLE'].unique()"
   ]
  },
  {
   "cell_type": "code",
   "execution_count": null,
   "metadata": {},
   "outputs": [],
   "source": [
    "df_jobs[df_jobs['JOB TITLE']=='data analyst'].shape"
   ]
  },
  {
   "cell_type": "code",
   "execution_count": null,
   "metadata": {},
   "outputs": [],
   "source": [
    "df_jobs[df_jobs['JOB TITLE']=='data scientist'].shape"
   ]
  },
  {
   "cell_type": "code",
   "execution_count": null,
   "metadata": {},
   "outputs": [],
   "source": [
    "df_jobs[df_jobs['JOB TITLE']=='data engineer'].shape"
   ]
  },
  {
   "cell_type": "code",
   "execution_count": null,
   "metadata": {},
   "outputs": [],
   "source": [
    "#browser.quit()"
   ]
  },
  {
   "cell_type": "markdown",
   "metadata": {},
   "source": [
    "### Exporting to csv"
   ]
  },
  {
   "cell_type": "code",
   "execution_count": null,
   "metadata": {},
   "outputs": [],
   "source": [
    "now_file = now_str.replace(':','.')\n",
    "now_file"
   ]
  },
  {
   "cell_type": "code",
   "execution_count": null,
   "metadata": {},
   "outputs": [],
   "source": [
    "#LINUX\n",
    "if platform.system() == 'Linux':\n",
    "    df_jobs.to_csv(f'../data/raw/df_jobs_{location}_{now_file}.csv',\n",
    "                  sep = ';',\n",
    "                  encoding= 'utf8',\n",
    "                  index=False,\n",
    "                  )\n",
    "#WINDOWS\n",
    "elif platform.system() == 'Windows':\n",
    "    df_jobs.to_csv(f'..\\\\data\\\\raw\\\\df_jobs_{location}_{now_file}.csv',\n",
    "                  sep = ';',\n",
    "                  encoding= 'utf8',\n",
    "                  index=False,\n",
    "                  )"
   ]
  },
  {
   "cell_type": "code",
   "execution_count": null,
   "metadata": {},
   "outputs": [],
   "source": [
    "df_jobs.head(2)"
   ]
  },
  {
   "cell_type": "code",
   "execution_count": null,
   "metadata": {},
   "outputs": [],
   "source": [
    "df_jobs.columns"
   ]
  },
  {
   "cell_type": "code",
   "execution_count": null,
   "metadata": {},
   "outputs": [],
   "source": [
    "df_jobs[df_jobs['Easy apply']==True].shape"
   ]
  },
  {
   "cell_type": "code",
   "execution_count": null,
   "metadata": {},
   "outputs": [],
   "source": [
    "end = datetime.now()\n",
    "end"
   ]
  },
  {
   "cell_type": "code",
   "execution_count": null,
   "metadata": {},
   "outputs": [],
   "source": [
    "dif = end - now\n",
    "dif.total_seconds()/60 #21 minutes to get 460 job posts"
   ]
  },
  {
   "cell_type": "markdown",
   "metadata": {},
   "source": [
    "## TESTING:"
   ]
  },
  {
   "cell_type": "markdown",
   "metadata": {},
   "source": [
    "***"
   ]
  },
  {
   "cell_type": "code",
   "execution_count": null,
   "metadata": {},
   "outputs": [],
   "source": [
    "# > Trying with one job title\n",
    "n_pages = n_pages_linkedin(browser, 'data analyst', location)\n",
    "n_pages"
   ]
  },
  {
   "cell_type": "code",
   "execution_count": null,
   "metadata": {},
   "outputs": [],
   "source": [
    "# Going to last row \n",
    "try:\n",
    "    pages = browser.find_element_by_xpath\\\n",
    "    ('/html/body/div[5]/div[4]/div[3]/section[1]/div[2]/div/div/div[1]/div[2]/div/section/artdeco-pagination/ul')\n",
    "except:\n",
    "    pages = browser.find_element_by_xpath\\\n",
    "    ('/html/body/div[6]/div[4]/div[3]/section[1]/div[2]/div/div/div[1]/div[2]/div/section/artdeco-pagination/ul')\n",
    "actions = ActionChains(browser)\n",
    "actions.move_to_element(pages).perform()"
   ]
  },
  {
   "cell_type": "code",
   "execution_count": null,
   "metadata": {},
   "outputs": [],
   "source": [
    "#show MORE skills\n",
    "izq =  browser.find_element_by_xpath\\\n",
    "(\"//div[@class='jobs-search-results jobs-search-results--is-two-pane']\")\n",
    "#ActionChains(browser).move_to_element(izq).perform()"
   ]
  },
  {
   "cell_type": "code",
   "execution_count": null,
   "metadata": {},
   "outputs": [],
   "source": [
    "izq.text"
   ]
  },
  {
   "cell_type": "code",
   "execution_count": null,
   "metadata": {},
   "outputs": [],
   "source": [
    "izq.send_keys(Keys.PAGE_UP*10)"
   ]
  },
  {
   "cell_type": "code",
   "execution_count": null,
   "metadata": {},
   "outputs": [],
   "source": [
    "trabajo = j_post(browser, 3)\n",
    "trabajo.text"
   ]
  },
  {
   "cell_type": "code",
   "execution_count": null,
   "metadata": {},
   "outputs": [],
   "source": [
    "# ALL right side\n",
    "job_post_right = \\\n",
    "browser.find_element_by_xpath(\"//div[@class='jobs-search-two-pane__details pt4 ph3 jobs-search-two-pane__details ember-view']\")   \n",
    "job_post_right.text"
   ]
  },
  {
   "cell_type": "code",
   "execution_count": null,
   "metadata": {},
   "outputs": [],
   "source": [
    "# JUST job description\n",
    "job_post_right_description = \\\n",
    "browser.find_element_by_xpath(\"//div[@class='jobs-box jobs-box--fadein jobs-box--full-width jobs-box--with-cta-large jobs-description jobs-description--reformatted ember-view']\").text  \n",
    "job_post_right_description"
   ]
  },
  {
   "cell_type": "code",
   "execution_count": null,
   "metadata": {},
   "outputs": [],
   "source": [
    "#Skills match\n",
    "if re.search('\\nHow you match',job_post_right.text):\n",
    "#if '\\nHow you match' in job_post_right.text:\n",
    "    y = 'Match\\n(.*)\\n'\n",
    "    n = 'No match\\n(.*)\\n' \n",
    "    job_post_skills_match    = re.findall(y,job_post_right.text)\n",
    "    job_post_skills_nomatch  = re.findall(n,job_post_right.text)\n",
    "    job_post_skills = {'yes': job_post_skills_match,\n",
    "                       'no' : job_post_skills_nomatch,\n",
    "                       'all': job_post_skills_match + job_post_skills_nomatch\n",
    "                      }\n",
    "else:\n",
    "    job_post_skills_match    = {}\n",
    "    \n",
    "job_post_skills "
   ]
  },
  {
   "cell_type": "code",
   "execution_count": null,
   "metadata": {},
   "outputs": [],
   "source": [
    "trabajo = j_post(browser, 10)\n",
    "trabajo"
   ]
  },
  {
   "cell_type": "code",
   "execution_count": null,
   "metadata": {},
   "outputs": [],
   "source": [
    "actions = ActionChains(trabajo)\n",
    "actions.move_to_element(trabajo).perform()"
   ]
  },
  {
   "cell_type": "code",
   "execution_count": null,
   "metadata": {},
   "outputs": [],
   "source": [
    "job_post_right_ind = \\\n",
    "browser.find_element_by_xpath(\"//div[@class='jobs-description-details pt4 pt4 ember-view']\")   \n",
    "job_post_right_ind.text"
   ]
  },
  {
   "cell_type": "code",
   "execution_count": null,
   "metadata": {},
   "outputs": [],
   "source": [
    "job_post_right_ind_1 = \\\n",
    "browser.find_element_by_xpath(\"//ul[@class='jobs-box__list jobs-description-details__list js-formatted-industries-list']\")   \n",
    "job_post_right_ind_1.text"
   ]
  },
  {
   "cell_type": "code",
   "execution_count": null,
   "metadata": {},
   "outputs": [],
   "source": [
    "#Industry\n",
    "try:\n",
    "    job_post_industry        = job_post_right.text.split('Industry\\n',1)[1].split('\\n')[0]\n",
    "except:\n",
    "    job_post_industry        = \"\"\n",
    "job_post_industry"
   ]
  },
  {
   "cell_type": "code",
   "execution_count": null,
   "metadata": {},
   "outputs": [],
   "source": []
  },
  {
   "cell_type": "markdown",
   "metadata": {},
   "source": [
    "***"
   ]
  },
  {
   "cell_type": "code",
   "execution_count": null,
   "metadata": {},
   "outputs": [],
   "source": [
    "df_jobs[df_jobs['Company name']=='']"
   ]
  },
  {
   "cell_type": "code",
   "execution_count": null,
   "metadata": {},
   "outputs": [],
   "source": [
    "df_jobs[df_jobs['Easy apply']==True]"
   ]
  },
  {
   "cell_type": "code",
   "execution_count": null,
   "metadata": {},
   "outputs": [],
   "source": [
    "df_jobs[df_jobs['Current Job Id']=='1772020331'].iloc[0,14]"
   ]
  },
  {
   "cell_type": "code",
   "execution_count": null,
   "metadata": {},
   "outputs": [],
   "source": [
    "' skills match\\n' in df_jobs[df_jobs['Current Job Id']=='1772020331'].iloc[0,14]"
   ]
  },
  {
   "cell_type": "code",
   "execution_count": null,
   "metadata": {},
   "outputs": [],
   "source": [
    "rigth = browser.find_element_by_xpath('/html/body/div[5]/div[4]/div[3]/section[1]/div[2]/div/div/div[2]').text"
   ]
  },
  {
   "cell_type": "code",
   "execution_count": null,
   "metadata": {},
   "outputs": [],
   "source": [
    "rigth"
   ]
  },
  {
   "cell_type": "code",
   "execution_count": null,
   "metadata": {},
   "outputs": [],
   "source": [
    "rigth.split(' ago',1)[0].split('Posted Date\\nPosted ')[1]"
   ]
  },
  {
   "cell_type": "code",
   "execution_count": null,
   "metadata": {},
   "outputs": [],
   "source": [
    "rigth.split('Save\\n',1)[1].split('\\n',2)[1]"
   ]
  },
  {
   "cell_type": "code",
   "execution_count": null,
   "metadata": {},
   "outputs": [],
   "source": [
    "df_jobs.shape"
   ]
  },
  {
   "cell_type": "code",
   "execution_count": null,
   "metadata": {},
   "outputs": [],
   "source": [
    "df_jobs.dtypes"
   ]
  },
  {
   "cell_type": "code",
   "execution_count": null,
   "metadata": {},
   "outputs": [],
   "source": [
    "df_jobs.iloc[0,6].split(' ago',1)[0].split('Posted Date\\nPosted ')[1]"
   ]
  },
  {
   "cell_type": "code",
   "execution_count": null,
   "metadata": {},
   "outputs": [],
   "source": [
    "df_jobs.iloc[0,6]"
   ]
  },
  {
   "cell_type": "code",
   "execution_count": null,
   "metadata": {},
   "outputs": [],
   "source": []
  },
  {
   "cell_type": "markdown",
   "metadata": {},
   "source": [
    "***\n",
    "## PUENTE"
   ]
  },
  {
   "cell_type": "code",
   "execution_count": null,
   "metadata": {},
   "outputs": [],
   "source": [
    "#location_input = input(\"PLEASE ENTER THE LOCATION WHERE YOU'D LIKE TO SEARCH: \")\n",
    "location_input = 'berlin'"
   ]
  },
  {
   "cell_type": "code",
   "execution_count": null,
   "metadata": {},
   "outputs": [],
   "source": [
    "location = location_input.capitalize()\n",
    "location"
   ]
  },
  {
   "cell_type": "code",
   "execution_count": null,
   "metadata": {},
   "outputs": [],
   "source": []
  },
  {
   "cell_type": "code",
   "execution_count": null,
   "metadata": {},
   "outputs": [],
   "source": [
    "#job_title_input = input(\"PLEASE ENTER THE JOB THAT YOU'D LIKE TO SEARCH: \")\n",
    "job_title_input = 'data analyst'"
   ]
  },
  {
   "cell_type": "code",
   "execution_count": null,
   "metadata": {},
   "outputs": [],
   "source": [
    "job_title_df = job_title_input.lower()\n",
    "job_title_s    = job_title_input.lower().replace(' ', '%20')\n",
    "job_title_s "
   ]
  },
  {
   "cell_type": "markdown",
   "metadata": {},
   "source": [
    "#### >>> GO TO > JOB SEARCH :"
   ]
  },
  {
   "cell_type": "code",
   "execution_count": null,
   "metadata": {},
   "outputs": [],
   "source": []
  },
  {
   "cell_type": "markdown",
   "metadata": {},
   "source": [
    "*** \n",
    "# OLD TESTING\n",
    "***"
   ]
  },
  {
   "cell_type": "code",
   "execution_count": null,
   "metadata": {},
   "outputs": [],
   "source": [
    "#tabla_grande = \\\n",
    "#browser.find_element_by_xpath(\"/html/body/div[5]/div[4]/div[3]/section[1]/div[2]/div/div\")\n",
    "\n",
    "#                               html/body/div[5]/div[4]/div[3]/section[1]/div[2]\n",
    "#                               /html/body/div[5]/div[4]/div[3]/section[1]/div[2]/div/div/div[1]"
   ]
  },
  {
   "cell_type": "code",
   "execution_count": null,
   "metadata": {},
   "outputs": [],
   "source": [
    "#Taking table of job posts\n",
    "try:\n",
    "    tabla_izq = \\\n",
    "    browser.find_element_by_xpath(\"/html/body/div[5]/div[4]/div[3]/section[1]/div[2]/div/div/div[1]\")\n",
    "                                  #/html/body/div[6]/div[4]/div[3]/section[1]/div[2]/div/div/div[1]\n",
    "                                  #/html/body/div[6]/div[4]/div[3]/section[1]/div[2]/div/div/div[1]/div[2]\n",
    "                                  #/html/body/div[5]/div[4]/div[3]/section[1]/div[2]/div/div/div[1]/div[2]\n",
    "    #browser.find_element_by_class_name(\"jobs-search-two-pane__results display-flex\")\n",
    "    #                              /html/body/div[5]/div[4]/div[3]/section[1]/div[2]/div/div/div[1]\n",
    "except:\n",
    "    tabla_izq = \\\n",
    "    browser.find_element_by_xpath(\"/html/body/div[6]/div[4]/div[3]/section[1]/div[2]/div/div/div[1]\")\n",
    "    \n",
    "time.sleep(0.5)\n",
    "tabla_izq.text"
   ]
  },
  {
   "cell_type": "code",
   "execution_count": null,
   "metadata": {},
   "outputs": [],
   "source": [
    "tabla_izq.text.split('\\n')"
   ]
  },
  {
   "cell_type": "code",
   "execution_count": null,
   "metadata": {},
   "outputs": [],
   "source": [
    "current_p = int(browser.current_url.split('&start=')[1])//25+1\n",
    "current_p"
   ]
  },
  {
   "cell_type": "code",
   "execution_count": null,
   "metadata": {},
   "outputs": [],
   "source": [
    "#are_you = browser.find_element_by_class_name(\"jobs-search-feedback-card\")\n",
    "#are_you.is_enabled()"
   ]
  },
  {
   "cell_type": "code",
   "execution_count": null,
   "metadata": {},
   "outputs": [],
   "source": [
    "#for last page there is another logic (not 'Close')\n",
    "if current_p < n_pages:\n",
    "    job_list = tabla_izq.text.split('Manage alerts\\n')[1].split('Close\\n')[0].split('ago')\n",
    "else:\n",
    "    job_list = \\\n",
    "    tabla_izq.text.split('Manage alerts\\n')[1].split('Close\\n')[0].split('Create alert for this search\\n')[0].split('ago')\n",
    "\n",
    "n_job_list = len(job_list)-1\n",
    "print(n_job_list) \n",
    "job_list "
   ]
  },
  {
   "cell_type": "code",
   "execution_count": null,
   "metadata": {},
   "outputs": [],
   "source": [
    "# TESTING - clicking one selected job\n",
    "n = n_job_list # max 25\n",
    "\n",
    "# Selecting job post in order\n",
    "try:\n",
    "    job_post = browser.find_element_by_xpath\\\n",
    "    (f'/html/body/div[5]/div[4]/div[3]/section[1]/div[2]/div/div/div[1]/div[2]/div/ul/li[{n}]/div/artdeco-entity-lockup/artdeco-entity-lockup-content/h3/a')\n",
    "except:\n",
    "    job_post = browser.find_element_by_xpath\\\n",
    "    (f'/html/body/div[6]/div[4]/div[3]/section[1]/div[2]/div/div/div[1]/div[2]/div/ul/li[{n}]/div/artdeco-entity-lockup/artdeco-entity-lockup-content/h3/a')\n",
    "#     /html/body/div[5]/div[4]/div[3]/section[1]/div[2]/div/div/div[1]/div[2]/div/ul/li[1]/div/artdeco-entity-lockup/artdeco-entity-lockup-content/h3/a\n",
    "#  (f'/html/body/div[5]/div[4]/div[3]/section[1]/div[2]/div/div/div[1]/div[2]/div/ul/li[{n}]')\n",
    "job_post.click()\n",
    "\n",
    "# Getting job post ID\n",
    "currentJobId = browser.current_url.split('currentJobId=')[1].split('&')[0]\n",
    "#currentJobId = browser.current_url.split('?')[1].split('&')[0].split('=')[1]\n",
    "print(currentJobId)\n",
    "\n",
    "# Extracting job information\n",
    "try:\n",
    "    job_post_right = browser.find_element_by_xpath\\\n",
    "        ('/html/body/div[5]/div[4]/div[3]/section[1]/div[2]/div/div/div[2]')\n",
    "except:\n",
    "    job_post_right = browser.find_element_by_xpath\\\n",
    "        ('/html/body/div[6]/div[4]/div[3]/section[1]/div[2]/div/div/div[2]')\n",
    "job_post_right_content = job_post_right.text.split('\\n',16)\n",
    "print(len(job_post_right_content))\n",
    "print(f'{job_post_right_content}')\n",
    "#print(f'{job_post_right.text.split('\\n',15)}')\n",
    "\n",
    "# 200402 21.00 (Session info: chrome=80.0.3987.162)\n",
    "# 200403 21.00 (Session info: chrome=80.0.3987.162)\n",
    "# 200404 17.00  (Session info: chrome=80.0.3987.162)"
   ]
  },
  {
   "cell_type": "code",
   "execution_count": null,
   "metadata": {},
   "outputs": [],
   "source": [
    "list(range(0,n_pages*25,25))"
   ]
  },
  {
   "cell_type": "code",
   "execution_count": null,
   "metadata": {},
   "outputs": [],
   "source": [
    "browser.get_log"
   ]
  },
  {
   "cell_type": "code",
   "execution_count": null,
   "metadata": {},
   "outputs": [],
   "source": [
    "izq = browser.find_element_by_class_name('jobs-search-results jobs-search-results--is-two-pane')\n",
    "izq.text()"
   ]
  },
  {
   "cell_type": "code",
   "execution_count": null,
   "metadata": {},
   "outputs": [],
   "source": [
    "tabla_izq.text"
   ]
  },
  {
   "cell_type": "code",
   "execution_count": null,
   "metadata": {},
   "outputs": [],
   "source": []
  },
  {
   "cell_type": "code",
   "execution_count": null,
   "metadata": {},
   "outputs": [],
   "source": [
    "import requests\n",
    "from bs4 import BeautifulSoup"
   ]
  },
  {
   "cell_type": "code",
   "execution_count": null,
   "metadata": {},
   "outputs": [],
   "source": [
    "#with requests.Session() as s:\n",
    "\n",
    "with requests.Session() as session:\n",
    "    \n",
    "    response = session.get(LOGIN_URL)\n",
    "    session = session.cookies.get_dict()\n",
    "    bcookie = session.get('bcookie')\n",
    "    print(bcookie)\n",
    "    cookie = bcookie.split('&')[1].split('\"')[0]\n",
    "    print(f'\\n{cookie}')\n",
    "    \n",
    "    LoginCsrfParam   = cookie\n",
    "    Session_key      = \"cristopher.rojas.lepe@gmail.com\" # \"cristopher.rojas.lepe%40gmail.com\"\n",
    "    Session_password = \"M3t4n01@\" # \"M3t4n01%40\"\n",
    "    Session_redirect = \"https%3A%2F%2Fwww.linkedin.com%2Fjobs\" # \"https://www.linkedin.com/jobs\" #\"https%3A%2F%2Fwww.linkedin.com%2Fjobs\"\n",
    "    Trk              = \"guest_homepage-jobseeker_sign-in-submit\"\n",
    "    \n",
    "    payload = {'loginCsrfParam'  : LoginCsrfParam,\n",
    "               'session_key'     : Session_key,\n",
    "               'session_password': Session_password,\n",
    "               'session_redirect': Session_redirect,\n",
    "               'trk'             : Trk\n",
    "              }\n",
    "    print(f'\\n{payload}')\n",
    "    p = requests.post(LOGIN_URL, data = payload)  \n",
    "    #p = session.post(LOGIN_URL, data = payload) \n",
    "    # print the html returned or something more intelligent to see if it's a successful login page.\n",
    "    print(f'\\n{p.content}')\n",
    "    soup = BeautifulSoup(p.content,'html.parser')\n",
    "    print(f'\\n{soup}')\n",
    "\n",
    "    # An authorised request.\n",
    "#     r = s.get('A protected web page url')\n",
    "#     print r.text"
   ]
  }
 ],
 "metadata": {
  "kernelspec": {
   "display_name": "Python [conda env:final_project]",
   "language": "python",
   "name": "conda-env-final_project-py"
  },
  "language_info": {
   "codemirror_mode": {
    "name": "ipython",
    "version": 3
   },
   "file_extension": ".py",
   "mimetype": "text/x-python",
   "name": "python",
   "nbconvert_exporter": "python",
   "pygments_lexer": "ipython3",
   "version": "3.7.6"
  }
 },
 "nbformat": 4,
 "nbformat_minor": 4
}
